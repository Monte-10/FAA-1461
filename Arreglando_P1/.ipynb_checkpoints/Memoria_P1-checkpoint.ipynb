{
 "cells": [
  {
   "cell_type": "markdown",
   "id": "f0304b87",
   "metadata": {},
   "source": [
    "# Fundamentos de Aprendizaje Automático\n",
    "## _Práctica 1: Naive Bayes_\n",
    "### _Grupo 1461_\n",
    "#### _Rubén Torralba Manso y Alejandro Monterrubio Navarro_"
   ]
  },
  {
   "cell_type": "markdown",
   "id": "cf8fd1e6",
   "metadata": {},
   "source": [
    "## Apartado 1: Naive Bayes propio"
   ]
  },
  {
   "cell_type": "code",
   "execution_count": 13,
   "id": "1a26d8ad",
   "metadata": {},
   "outputs": [],
   "source": [
    "from Datos import Datos\n",
    "from Clasificador import *\n",
    "import EstrategiaParticionado as EstrategiaParticionado\n",
    "datasetGerman = Datos('ConjuntoDatos/german.csv')\n",
    "datasetTicTac = Datos('ConjuntoDatos/tic-tac-toe.csv')"
   ]
  },
  {
   "cell_type": "code",
   "execution_count": 14,
   "id": "dee5d3dc",
   "metadata": {},
   "outputs": [],
   "source": [
    "validacionSimple = EstrategiaParticionado.ValidacionSimple(10,5)"
   ]
  },
  {
   "cell_type": "code",
   "execution_count": 15,
   "id": "38699544",
   "metadata": {},
   "outputs": [],
   "source": [
    "validacionCruzada = EstrategiaParticionado.ValidacionCruzada(4)"
   ]
  },
  {
   "cell_type": "code",
   "execution_count": 16,
   "id": "bd740ac9",
   "metadata": {},
   "outputs": [],
   "source": [
    "clasificadorNB = ClasificadorNaiveBayes()"
   ]
  },
  {
   "cell_type": "markdown",
   "id": "2dbc36a3",
   "metadata": {},
   "source": [
    "En estos primeros bloques de codigo unicamente hemos cargado todos los datos que nos harán falta para realizar el estudio posterior. Para la estrategia de particionado simple reservamos un 90% de los datos para train y por lo tanto un 10% para test y realizamos 5 iteraciones. Mientras tanto, para la particion cruzada realizamos 4 particiones sobre los datos"
   ]
  },
  {
   "cell_type": "markdown",
   "id": "fc6e1f9c",
   "metadata": {},
   "source": [
    "Para realizar un estudio fiable de los datos, y tratar de que estos sean lo más robustos y fiables posible, vamos a realizar cada medición un número determinado de veces:"
   ]
  },
  {
   "cell_type": "code",
   "execution_count": 17,
   "id": "1b104d61",
   "metadata": {},
   "outputs": [],
   "source": [
    "numeroVeces = 20"
   ]
  },
  {
   "cell_type": "code",
   "execution_count": 18,
   "id": "e3165603",
   "metadata": {},
   "outputs": [],
   "source": [
    "erroresTabla = []\n",
    "\n",
    "desviacionesTabla = []\n",
    "\n"
   ]
  },
  {
   "cell_type": "markdown",
   "id": "55a4fb51",
   "metadata": {},
   "source": [
    "## DATASET TIC TAC TOE\n"
   ]
  },
  {
   "cell_type": "code",
   "execution_count": 19,
   "id": "49799f99",
   "metadata": {},
   "outputs": [],
   "source": [
    "error = []\n",
    "for i in range(numeroVeces):\n",
    "    error += clasificadorNB.validacion(validacionSimple, datasetTicTac, clasificadorNB)\n",
    "erroresTabla.append(np.mean(error))\n",
    "desviacionesTabla.append(np.std(error))\n"
   ]
  },
  {
   "cell_type": "markdown",
   "id": "e9aba69c",
   "metadata": {},
   "source": [
    "_Validacion Simple sin corrección de la place_"
   ]
  },
  {
   "cell_type": "code",
   "execution_count": 20,
   "id": "b559b524",
   "metadata": {},
   "outputs": [],
   "source": [
    "error = []\n",
    "for i in range(numeroVeces):\n",
    "    error += clasificadorNB.validacion(validacionSimple, datasetTicTac, clasificadorNB, laPlace = True)\n",
    "erroresTabla.append(np.mean(error))\n",
    "desviacionesTabla.append(np.std(error))"
   ]
  },
  {
   "cell_type": "markdown",
   "id": "d7be9791",
   "metadata": {},
   "source": [
    "_Validacion Simple con corrección de la place_"
   ]
  },
  {
   "cell_type": "code",
   "execution_count": 21,
   "id": "c38b656b",
   "metadata": {},
   "outputs": [],
   "source": [
    "error = []\n",
    "for i in range(numeroVeces):\n",
    "    error += clasificadorNB.validacion(validacionCruzada, datasetTicTac, clasificadorNB, laPlace = True)\n",
    "erroresTabla.append(np.mean(error))\n",
    "desviacionesTabla.append(np.std(error))"
   ]
  },
  {
   "cell_type": "markdown",
   "id": "f8b53dfa",
   "metadata": {},
   "source": [
    "_Validacion Cruzada sin correcion de la place_"
   ]
  },
  {
   "cell_type": "code",
   "execution_count": 22,
   "id": "4ab57fa4",
   "metadata": {},
   "outputs": [],
   "source": [
    "error = []\n",
    "for i in range(numeroVeces):\n",
    "    error += clasificadorNB.validacion(validacionCruzada, datasetTicTac, clasificadorNB, laPlace = True)\n",
    "erroresTabla.append(np.mean(error))\n",
    "desviacionesTabla.append(np.std(error))"
   ]
  },
  {
   "cell_type": "markdown",
   "id": "2b1b1116",
   "metadata": {},
   "source": [
    "_Validacion Cruzada con correcion de la place_"
   ]
  },
  {
   "cell_type": "code",
   "execution_count": 23,
   "id": "69330ca1",
   "metadata": {},
   "outputs": [
    {
     "name": "stdout",
     "output_type": "stream",
     "text": [
      "------Validacion Simple------\n",
      "\n",
      "\t\t\tSin laPlace\tCon laPlace\n",
      "Errores\t\t\t29.54%\t\t30.08%\n",
      "Desviacion tipica\t4.43%\t\t4.40%\n",
      "\n",
      "------Validacion Cruzada------\n",
      "\t\t\tSin laPlace\tCon laPlace\n",
      "Errores\t\t\t29.58%\t\t29.39%\n",
      "Desviacion tipica\t2.62%\t\t2.69%\n"
     ]
    }
   ],
   "source": [
    "print(\"------Validacion Simple------\\n\")\n",
    "print(f\"\\t\\t\\tSin laPlace\\tCon laPlace\")\n",
    "print(f\"Errores\\t\\t\\t{erroresTabla[0]*100:.2f}%\\t\\t{erroresTabla[1]*100:.2f}%\")\n",
    "print(f\"Desviacion tipica\\t{desviacionesTabla[0]*100:.2f}%\\t\\t{desviacionesTabla[1]*100:.2f}%\")\n",
    "\n",
    "print(\"\\n------Validacion Cruzada------\")\n",
    "print(f\"\\t\\t\\tSin laPlace\\tCon laPlace\")\n",
    "print(f\"Errores\\t\\t\\t{erroresTabla[2]*100:.2f}%\\t\\t{erroresTabla[3]*100:.2f}%\")\n",
    "print(f\"Desviacion tipica\\t{desviacionesTabla[2]*100:.2f}%\\t\\t{desviacionesTabla[3]*100:.2f}%\")"
   ]
  },
  {
   "cell_type": "markdown",
   "id": "4a99f192",
   "metadata": {},
   "source": [
    "En la tabla superior podemos apreciar el porcentaje de error para cada clasificador. Con y Sin correccion de la place."
   ]
  },
  {
   "cell_type": "markdown",
   "id": "cd564865",
   "metadata": {},
   "source": [
    "## DATASET GERMAN\n"
   ]
  },
  {
   "cell_type": "code",
   "execution_count": 24,
   "id": "702e35cc",
   "metadata": {},
   "outputs": [],
   "source": [
    "erroresTabla = []\n",
    "\n",
    "desviacionesTabla = []"
   ]
  },
  {
   "cell_type": "code",
   "execution_count": 25,
   "id": "02c0b2a2",
   "metadata": {},
   "outputs": [],
   "source": [
    "error = []\n",
    "for i in range(numeroVeces):\n",
    "    error += clasificadorNB.validacion(validacionSimple, datasetTicTac, clasificadorNB)\n",
    "erroresTabla.append(np.mean(error))\n",
    "desviacionesTabla.append(np.std(error))"
   ]
  },
  {
   "cell_type": "markdown",
   "id": "19200dae",
   "metadata": {},
   "source": [
    "_Validacion Simple sin corrección de la place_"
   ]
  },
  {
   "cell_type": "code",
   "execution_count": 26,
   "id": "0de7bdec",
   "metadata": {},
   "outputs": [],
   "source": [
    "error = []\n",
    "for i in range(numeroVeces):\n",
    "    error += clasificadorNB.validacion(validacionSimple, datasetTicTac, clasificadorNB, laPlace = True)\n",
    "erroresTabla.append(np.mean(error))\n",
    "desviacionesTabla.append(np.std(error))"
   ]
  },
  {
   "cell_type": "markdown",
   "id": "97e5e635",
   "metadata": {},
   "source": [
    "_Validacion Simple con corrección de la place_"
   ]
  },
  {
   "cell_type": "code",
   "execution_count": 27,
   "id": "0028007a",
   "metadata": {},
   "outputs": [],
   "source": [
    "error = []\n",
    "for i in range(numeroVeces):\n",
    "    error += clasificadorNB.validacion(validacionCruzada, datasetTicTac, clasificadorNB, laPlace = True)\n",
    "erroresTabla.append(np.mean(error))\n",
    "desviacionesTabla.append(np.std(error))"
   ]
  },
  {
   "cell_type": "markdown",
   "id": "cfbe4a77",
   "metadata": {},
   "source": [
    "_Validacion Cruzada sin correcion de la place_"
   ]
  },
  {
   "cell_type": "code",
   "execution_count": 28,
   "id": "57aa536e",
   "metadata": {},
   "outputs": [],
   "source": [
    "error = []\n",
    "for i in range(numeroVeces):\n",
    "    error += clasificadorNB.validacion(validacionCruzada, datasetTicTac, clasificadorNB, laPlace = True)\n",
    "erroresTabla.append(np.mean(error))\n",
    "desviacionesTabla.append(np.std(error))"
   ]
  },
  {
   "cell_type": "markdown",
   "id": "e4d08a1b",
   "metadata": {},
   "source": [
    "_Validacion Cruzada con correcion de la place_"
   ]
  },
  {
   "cell_type": "code",
   "execution_count": 29,
   "id": "46467bef",
   "metadata": {},
   "outputs": [
    {
     "name": "stdout",
     "output_type": "stream",
     "text": [
      "------Validacion Simple------\n",
      "\n",
      "\t\t\tSin laPlace\tCon laPlace\n",
      "Errores\t\t\t29.74%\t\t30.07%\n",
      "Desviacion tipica\t3.96%\t\t4.27%\n",
      "\n",
      "------Validacion Cruzada------\n",
      "\t\t\tSin laPlace\tCon laPlace\n",
      "Errores\t\t\t29.64%\t\t29.41%\n",
      "Desviacion tipica\t2.78%\t\t2.86%\n"
     ]
    }
   ],
   "source": [
    "print(\"------Validacion Simple------\\n\")\n",
    "print(f\"\\t\\t\\tSin laPlace\\tCon laPlace\")\n",
    "print(f\"Errores\\t\\t\\t{erroresTabla[0]*100:.2f}%\\t\\t{erroresTabla[1]*100:.2f}%\")\n",
    "print(f\"Desviacion tipica\\t{desviacionesTabla[0]*100:.2f}%\\t\\t{desviacionesTabla[1]*100:.2f}%\")\n",
    "\n",
    "print(\"\\n------Validacion Cruzada------\")\n",
    "print(f\"\\t\\t\\tSin laPlace\\tCon laPlace\")\n",
    "print(f\"Errores\\t\\t\\t{erroresTabla[2]*100:.2f}%\\t\\t{erroresTabla[3]*100:.2f}%\")\n",
    "print(f\"Desviacion tipica\\t{desviacionesTabla[2]*100:.2f}%\\t\\t{desviacionesTabla[3]*100:.2f}%\")"
   ]
  },
  {
   "cell_type": "markdown",
   "id": "65c88aea",
   "metadata": {},
   "source": [
    "De la misma forma que en el caso anterior, observamos que laPlace añade un cierto error extra, que de no haber sido entrenado con esta correción, nuestro validador restaría. Ahora bien, como hemos comentado antes, en el caso de encontrar una probabilidad en nuestra matriz que sea 0, el entrenamiento quedaría invalidado. "
   ]
  },
  {
   "cell_type": "markdown",
   "id": "7ac2a770",
   "metadata": {},
   "source": [
    "#### Discusión de los resultados"
   ]
  },
  {
   "cell_type": "markdown",
   "id": "a373432f",
   "metadata": {},
   "source": [
    "Despues de realizar todas las ejecuciones, podemos llegar a una conclusión evidente. Nuestros datos difieren mucho unas ejecuciones de otras en funcion del conjunto de entrenamiento que nuestro algoritmo de particionado extraiga para el entrenamiento. Por ello, encontramos una desviación estandar tan elevada. Esto quiere decir, que en algunas ejecuciones, obtenemos una muy buena predicción, pero en otras, peores. No es muy estable. Lo que puede ser un indicativo que contiene algun defecto nuestro algoritmo. Como esto no tiene porque ser el motivo, trabajaremos sobre los valores que hemos extraído y realizaremos el resto del documento basándonos en ellos.\n",
    "\n",
    "Como el conjunto de datos no es extremadamente grande, también puede estar viéndose lastrado por este motivo. Por lo que sería recomendable realizar un número elevado de ejecuciones para poder obtener una media más fiable. "
   ]
  },
  {
   "cell_type": "markdown",
   "id": "ea25d24e",
   "metadata": {},
   "source": [
    "## Apartado 2: Librería Scitik-Learn"
   ]
  },
  {
   "cell_type": "markdown",
   "id": "01f29865",
   "metadata": {},
   "source": [
    "De la misma forma que en el apartado anterior, vamos a realizar un estudio independiente para ambos dataset, con distintos tipos de validadores y con corrección de laPlace y sin ella. En este caso además, vamos a aprovechar distintas formas de implementar el algoritmo que nos facilita la libreria"
   ]
  },
  {
   "cell_type": "markdown",
   "id": "838a4710",
   "metadata": {},
   "source": [
    "## Dataset Tic Tac Toe "
   ]
  },
  {
   "cell_type": "code",
   "execution_count": 229,
   "id": "4bd7ec21",
   "metadata": {},
   "outputs": [],
   "source": [
    "from sklearn.model_selection import train_test_split, ShuffleSplit\n",
    "from sklearn.model_selection import cross_val_score\n",
    "from sklearn.naive_bayes import GaussianNB, MultinomialNB, CategoricalNB\n",
    "from sklearn import preprocessing\n",
    "import math\n",
    "\n",
    "x = datasetTicTac.datos.iloc[:,:-1]\n",
    "y = datasetTicTac.datos.iloc[:,-1]\n",
    "\n",
    "n_veces = 100\n"
   ]
  },
  {
   "cell_type": "code",
   "execution_count": 230,
   "id": "e38fa04c",
   "metadata": {
    "scrolled": true
   },
   "outputs": [],
   "source": [
    "errores_gaussian = []\n",
    "for i in range(n_veces):\n",
    "    X_train, X_test, y_train, y_test = train_test_split(x, y, test_size=0.1, shuffle= True)\n",
    "    gnb = GaussianNB()\n",
    "    y_pred = gnb.fit(X_train,y_train).predict(X_test)\n",
    "    porcentaje = (y_test != y_pred).sum() / X_test.shape[0] * 100\n",
    "    errores_gaussian.append(porcentaje)\n",
    "error_gaussian_simple = np.mean(errores_gaussian)\n",
    "std_gaussian_simple = np.std(errores_gaussian)"
   ]
  },
  {
   "cell_type": "markdown",
   "id": "873ddf33",
   "metadata": {},
   "source": [
    "_Validacion Simple Gaussian_"
   ]
  },
  {
   "cell_type": "code",
   "execution_count": 231,
   "id": "a8eaec85",
   "metadata": {},
   "outputs": [],
   "source": [
    "gaussian_cruzada = []\n",
    "gnb = GaussianNB()\n",
    "gaussian_cruzada.append(cross_val_score(gnb, x, y, cv=10))\n",
    "error_gaussian_cruzada = 1 - np.mean(gaussian_cruzada) \n",
    "std_gaussian_cruzada = np.std(gaussian_cruzada)"
   ]
  },
  {
   "cell_type": "markdown",
   "id": "ae996ace",
   "metadata": {},
   "source": [
    "_Validacion Cruzada Gaussian_"
   ]
  },
  {
   "cell_type": "code",
   "execution_count": 232,
   "id": "f37f6ee8",
   "metadata": {},
   "outputs": [],
   "source": [
    "errores_multinomial = []\n",
    "for i in range(n_veces):\n",
    "    X_train, X_test, y_train, y_test = train_test_split(x, y, test_size=0.1, shuffle= True)\n",
    "    gnb = MultinomialNB()\n",
    "    y_pred = gnb.fit(X_train,y_train).predict(X_test)\n",
    "    porcentaje = (y_test != y_pred).sum() / X_test.shape[0] * 100\n",
    "    errores_multinomial.append(porcentaje)\n",
    "\n",
    "error_multinomial_simple = np.mean(errores_multinomial)\n",
    "std_multinomial_simple = np.std(errores_multinomial)\n"
   ]
  },
  {
   "cell_type": "markdown",
   "id": "cc5276d4",
   "metadata": {},
   "source": [
    "_Validacion Simple Multinomial_"
   ]
  },
  {
   "cell_type": "code",
   "execution_count": 233,
   "id": "1c96c7b0",
   "metadata": {},
   "outputs": [],
   "source": [
    "multinomial_cruzada = []\n",
    "errores_multinomial_cruzada = []\n",
    "clf = MultinomialNB(alpha=1.0*math.e**10,fit_prior= True)\n",
    "multinomial_cruzada.append(cross_val_score(clf, x, y, cv=10))\n",
    "\n",
    "error_multinomial_cruzada = 1 - np.mean(multinomial_cruzada) \n",
    "std_multinomial_cruzada = np.std(multinomial_cruzada)\n",
    "\n"
   ]
  },
  {
   "cell_type": "markdown",
   "id": "7a8df812",
   "metadata": {},
   "source": [
    "_Validacion Cruzada Multinomial_"
   ]
  },
  {
   "cell_type": "markdown",
   "id": "e7ee6591",
   "metadata": {},
   "source": [
    "\n"
   ]
  },
  {
   "cell_type": "code",
   "execution_count": 234,
   "id": "f5639db7",
   "metadata": {},
   "outputs": [],
   "source": [
    "errores_categorical = []\n",
    "for i in range(n_veces):\n",
    "    X_train, X_test, y_train, y_test = train_test_split(x, y, test_size=0.1, shuffle= True)\n",
    "    gnb = CategoricalNB()\n",
    "    y_pred = gnb.fit(X_train,y_train).predict(X_test)\n",
    "    porcentaje = (y_test != y_pred).sum() / X_test.shape[0] * 100\n",
    "    errores_categorical.append(porcentaje)\n",
    "\n",
    "\n",
    "error_categorical_simple = np.mean(errores_categorical)\n",
    "std_categorical_simple = np.std(errores_categorical)\n"
   ]
  },
  {
   "cell_type": "markdown",
   "id": "ee025014",
   "metadata": {},
   "source": [
    "_Validacion Simple Categorical_"
   ]
  },
  {
   "cell_type": "code",
   "execution_count": 235,
   "id": "36516aed",
   "metadata": {},
   "outputs": [],
   "source": [
    "errores_categorical_cruzada = []\n",
    "clf = CategoricalNB()\n",
    "\n",
    "errores_categorical_cruzada.append(cross_val_score(clf, x, y, cv=10))\n",
    "\n",
    "error_categorical_cruzada = 1 - np.mean(errores_categorical_cruzada)\n",
    "std_categorical_cruzada = np.std(errores_categorical_cruzada)\n"
   ]
  },
  {
   "cell_type": "markdown",
   "id": "33a57d94",
   "metadata": {},
   "source": [
    "_Validacion Cruzada Categorical_"
   ]
  },
  {
   "cell_type": "code",
   "execution_count": 236,
   "id": "7f213154",
   "metadata": {},
   "outputs": [
    {
     "name": "stdout",
     "output_type": "stream",
     "text": [
      "Validacion Simple\n",
      "\t\t\tGaussian\tMultinomial\tCategorical\n",
      "Errores:\t\t29.60%\t\t35.21%\t\t30.49%\n",
      "Desviacion Tipica:\t4.13%\t\t4.37%\t\t4.53%\n",
      "\n",
      "Validacion Cruzada\n",
      "\t\t\tGaussian\tMultinomial\tCategorical\n",
      "Errores:\t\t31.41%\t\t34.66%\t\t33.29%\n",
      "Desviacion Tipica:\t3.32%\t\t0.41%\t\t7.57%\n"
     ]
    }
   ],
   "source": [
    "print(\"Validacion Simple\")\n",
    "print(\"\\t\\t\\tGaussian\\tMultinomial\\tCategorical\")\n",
    "print(f'Errores:\\t\\t{error_gaussian_simple:.2f}%\\t\\t{error_multinomial_simple:.2f}%\\t\\t{error_categorical_simple:.2f}%')\n",
    "print(f'Desviacion Tipica:\\t{std_gaussian_simple:.2f}%\\t\\t{std_multinomial_simple:.2f}%\\t\\t{std_categorical_simple:.2f}%')\n",
    "\n",
    "\n",
    "print('\\nValidacion Cruzada')\n",
    "print(\"\\t\\t\\tGaussian\\tMultinomial\\tCategorical\")\n",
    "print(f'Errores:\\t\\t{error_gaussian_cruzada*100:.2f}%\\t\\t{error_multinomial_cruzada*100:.2f}%\\t\\t{error_categorical_cruzada*100:.2f}%')\n",
    "print(f'Desviacion Tipica:\\t{std_gaussian_cruzada*100:.2f}%\\t\\t{std_multinomial_cruzada*100:.2f}%\\t\\t{std_categorical_cruzada*100:.2f}%')\n"
   ]
  },
  {
   "cell_type": "markdown",
   "id": "20ea14aa",
   "metadata": {},
   "source": [
    "#### Haciendo uso de OneHotEncode..."
   ]
  },
  {
   "cell_type": "code",
   "execution_count": 237,
   "id": "4e939057",
   "metadata": {},
   "outputs": [],
   "source": [
    "atrs = preprocessing.OneHotEncoder()\n",
    "x = atrs.fit_transform(datasetTicTac.datos.iloc[:,:-1]).toarray()\n",
    "y = datasetTicTac.datos.iloc[:,-1]"
   ]
  },
  {
   "cell_type": "code",
   "execution_count": 238,
   "id": "c1ddf78b",
   "metadata": {},
   "outputs": [],
   "source": [
    "\n",
    "errores_gaussian = []\n",
    "for i in range(n_veces):\n",
    "    X_train, X_test, y_train, y_test = train_test_split(x, y, test_size=0.3, shuffle = True)\n",
    "    gnb = GaussianNB()\n",
    "    y_pred = gnb.fit(X_train,y_train).predict(X_test)\n",
    "    porcentaje = (y_test != y_pred).sum() / X_test.shape[0] * 100\n",
    "    errores_gaussian.append(porcentaje)\n",
    "error_gaussian_simple = np.mean(errores_gaussian)\n",
    "std_gaussian_simple = np.std(errores_gaussian)"
   ]
  },
  {
   "cell_type": "markdown",
   "id": "1d67f2dc",
   "metadata": {},
   "source": [
    "_Validacion Simple Gaussian_"
   ]
  },
  {
   "cell_type": "code",
   "execution_count": 239,
   "id": "0bc38c04",
   "metadata": {},
   "outputs": [],
   "source": [
    "gaussian_cruzada = []\n",
    "gnb = GaussianNB()\n",
    "gaussian_cruzada.append(cross_val_score(gnb, x, y, cv=10))\n",
    "error_gaussian_cruzada = 1 - np.mean(gaussian_cruzada) \n",
    "std_gaussian_cruzada = np.std(gaussian_cruzada)\n"
   ]
  },
  {
   "cell_type": "markdown",
   "id": "f4051bd2",
   "metadata": {},
   "source": [
    "_Validacion Cruzada Gaussian_"
   ]
  },
  {
   "cell_type": "code",
   "execution_count": 240,
   "id": "6e3deb66",
   "metadata": {},
   "outputs": [],
   "source": [
    "errores_multinomial = []\n",
    "for i in range(n_veces):\n",
    "    X_train, X_test, y_train, y_test = train_test_split(x, y, test_size=0.1, shuffle= True)\n",
    "    gnb = MultinomialNB()\n",
    "    y_pred = gnb.fit(X_train,y_train).predict(X_test)\n",
    "    porcentaje = (y_test != y_pred).sum() / X_test.shape[0] * 100\n",
    "    errores_multinomial.append(porcentaje)\n",
    "\n",
    "error_multinomial_simple = np.mean(errores_multinomial)\n",
    "std_multinomial_simple = np.std(errores_multinomial)\n"
   ]
  },
  {
   "cell_type": "markdown",
   "id": "4cf6199c",
   "metadata": {},
   "source": [
    "_Validacion Simple Multinomial_"
   ]
  },
  {
   "cell_type": "code",
   "execution_count": 241,
   "id": "38508e7b",
   "metadata": {},
   "outputs": [],
   "source": [
    "multinomial_cruzada = []\n",
    "errores_multinomial_cruzada = []\n",
    "clf = MultinomialNB(alpha=1.0*math.e**10,fit_prior= True)\n",
    "multinomial_cruzada.append(cross_val_score(clf, x, y, cv=10))\n",
    "\n",
    "error_multinomial_cruzada = 1 - np.mean(multinomial_cruzada) \n",
    "std_multinomial_cruzada = np.std(multinomial_cruzada)\n",
    "\n"
   ]
  },
  {
   "cell_type": "markdown",
   "id": "ef021ce9",
   "metadata": {},
   "source": [
    "_Validacion Cruzada Multinomial_"
   ]
  },
  {
   "cell_type": "code",
   "execution_count": 242,
   "id": "3b81e826",
   "metadata": {},
   "outputs": [],
   "source": [
    "errores_categorical = []\n",
    "\n",
    "for i in range(n_veces):\n",
    "    X_train, X_test, y_train, y_test = train_test_split(x, y, test_size=0.1, shuffle= True)\n",
    "    gnb = CategoricalNB()\n",
    "    y_pred = gnb.fit(X_train,y_train).predict(X_test)\n",
    "    porcentaje = (y_test != y_pred).sum() / X_test.shape[0] * 100\n",
    "    errores_categorical.append(porcentaje)\n",
    "\n",
    "\n",
    "error_categorical_simple = np.mean(errores_categorical)\n",
    "std_categorical_simple = np.std(errores_categorical)\n"
   ]
  },
  {
   "cell_type": "markdown",
   "id": "2ba9d715",
   "metadata": {},
   "source": [
    "_Validacion Simple Categorical_"
   ]
  },
  {
   "cell_type": "code",
   "execution_count": 243,
   "id": "f8c14e00",
   "metadata": {},
   "outputs": [],
   "source": [
    "errores_categorical_cruzada = []\n",
    "clf = CategoricalNB()\n",
    "\n",
    "errores_categorical_cruzada.append(cross_val_score(clf, x, y, cv=10))\n",
    "\n",
    "error_categorical_cruzada = 1 - np.mean(errores_categorical_cruzada)\n",
    "std_categorical_cruzada = np.std(errores_categorical_cruzada)\n"
   ]
  },
  {
   "cell_type": "markdown",
   "id": "21faeb50",
   "metadata": {},
   "source": [
    "_Validacion Cruzada Categorical_"
   ]
  },
  {
   "cell_type": "code",
   "execution_count": 244,
   "id": "a79a167a",
   "metadata": {},
   "outputs": [
    {
     "name": "stdout",
     "output_type": "stream",
     "text": [
      "Validacion Simple con One Hot Encode\n",
      "\t\t\tGaussian\tMultinomial\tCategorical\n",
      "Errores:\t\t32.72%\t\t30.83%\t\t31.14%\n",
      "Desviacion Tipica:\t2.51%\t\t4.38%\t\t4.07%\n",
      "\n",
      "Validacion Cruzada con One Hot Encode\n",
      "\t\t\tGaussian\tMultinomial\tCategorical\n",
      "Errores:\t\t37.15%\t\t34.66%\t\t35.89%\n",
      "Desviacion Tipica:\t9.15%\t\t0.41%\t\t9.40%\n"
     ]
    }
   ],
   "source": [
    "print(\"Validacion Simple con One Hot Encode\")\n",
    "print(\"\\t\\t\\tGaussian\\tMultinomial\\tCategorical\")\n",
    "print(f'Errores:\\t\\t{error_gaussian_simple:.2f}%\\t\\t{error_multinomial_simple:.2f}%\\t\\t{error_categorical_simple:.2f}%')\n",
    "print(f'Desviacion Tipica:\\t{std_gaussian_simple:.2f}%\\t\\t{std_multinomial_simple:.2f}%\\t\\t{std_categorical_simple:.2f}%')\n",
    "\n",
    "\n",
    "print('\\nValidacion Cruzada con One Hot Encode')\n",
    "print(\"\\t\\t\\tGaussian\\tMultinomial\\tCategorical\")\n",
    "print(f'Errores:\\t\\t{error_gaussian_cruzada*100:.2f}%\\t\\t{error_multinomial_cruzada*100:.2f}%\\t\\t{error_categorical_cruzada*100:.2f}%')\n",
    "print(f'Desviacion Tipica:\\t{std_gaussian_cruzada*100:.2f}%\\t\\t{std_multinomial_cruzada*100:.2f}%\\t\\t{std_categorical_cruzada*100:.2f}%')\n"
   ]
  },
  {
   "cell_type": "markdown",
   "id": "269bd8a5",
   "metadata": {},
   "source": [
    "Si comparamos las tablas con OHE y sin él..."
   ]
  },
  {
   "attachments": {
    "imagen-2.png": {
     "image/png": "[encoded data removed]"
    }
   },
   "cell_type": "markdown",
   "id": "eb37e29b",
   "metadata": {},
   "source": [
    "![imagen-2.png](attachment:imagen-2.png)"
   ]
  },
  {
   "cell_type": "markdown",
   "id": "e1455631",
   "metadata": {},
   "source": [
    "Podemos observar que en funcion del algoritmo que utilicemos los resultados son favorables o desfavorables al one hot encode. En el caso de Gaussian y Categorical, sale favorecido la ejecución sin tratar los atributos mientras que Multinomial obtiene un mejor rendimiento si es haciendo uso de los datos con OneHotEncode."
   ]
  },
  {
   "cell_type": "markdown",
   "id": "3a11259e",
   "metadata": {},
   "source": [
    "## Dataset de German"
   ]
  },
  {
   "cell_type": "code",
   "execution_count": 30,
   "id": "ee7c5699",
   "metadata": {},
   "outputs": [],
   "source": [
    "from sklearn.model_selection import train_test_split, ShuffleSplit\n",
    "from sklearn.model_selection import cross_val_score\n",
    "from sklearn.naive_bayes import GaussianNB, MultinomialNB, CategoricalNB\n",
    "from sklearn import preprocessing\n",
    "import math\n",
    "\n",
    "x = datasetGerman.datos.iloc[:,:-1]\n",
    "y = datasetGerman.datos.iloc[:,-1]\n",
    "\n",
    "n_veces = 100\n"
   ]
  },
  {
   "cell_type": "code",
   "execution_count": 31,
   "id": "fa5254ca",
   "metadata": {
    "scrolled": true
   },
   "outputs": [],
   "source": [
    "errores_gaussian = []\n",
    "for i in range(n_veces):\n",
    "    X_train, X_test, y_train, y_test = train_test_split(x, y, test_size=0.1, shuffle= True)\n",
    "    gnb = GaussianNB()\n",
    "    y_pred = gnb.fit(X_train,y_train).predict(X_test)\n",
    "    porcentaje = (y_test != y_pred).sum() / X_test.shape[0] * 100\n",
    "    errores_gaussian.append(porcentaje)\n",
    "error_gaussian_simple = np.mean(errores_gaussian)\n",
    "std_gaussian_simple = np.std(errores_gaussian)"
   ]
  },
  {
   "cell_type": "markdown",
   "id": "41d4e8b9",
   "metadata": {},
   "source": [
    "_Validacion Simple Gaussian_"
   ]
  },
  {
   "cell_type": "code",
   "execution_count": 32,
   "id": "4b7fbf6e",
   "metadata": {},
   "outputs": [],
   "source": [
    "gaussian_cruzada = []\n",
    "gnb = GaussianNB()\n",
    "gaussian_cruzada.append(cross_val_score(gnb, x, y, cv=10))\n",
    "error_gaussian_cruzada = 1 - np.mean(gaussian_cruzada) \n",
    "std_gaussian_cruzada = np.std(gaussian_cruzada)"
   ]
  },
  {
   "cell_type": "markdown",
   "id": "2af11b07",
   "metadata": {},
   "source": [
    "_Validacion Cruzada Gaussian_"
   ]
  },
  {
   "cell_type": "code",
   "execution_count": 33,
   "id": "39f10c97",
   "metadata": {},
   "outputs": [],
   "source": [
    "errores_multinomial = []\n",
    "for i in range(n_veces):\n",
    "    X_train, X_test, y_train, y_test = train_test_split(x, y, test_size=0.1, shuffle= True)\n",
    "    gnb = MultinomialNB()\n",
    "    y_pred = gnb.fit(X_train,y_train).predict(X_test)\n",
    "    porcentaje = (y_test != y_pred).sum() / X_test.shape[0] * 100\n",
    "    errores_multinomial.append(porcentaje)\n",
    "\n",
    "error_multinomial_simple = np.mean(errores_multinomial)\n",
    "std_multinomial_simple = np.std(errores_multinomial)\n"
   ]
  },
  {
   "cell_type": "markdown",
   "id": "18bfcd2c",
   "metadata": {},
   "source": [
    "_Validacion Simple Multinomial_"
   ]
  },
  {
   "cell_type": "code",
   "execution_count": 34,
   "id": "2c9d3b7b",
   "metadata": {},
   "outputs": [],
   "source": [
    "multinomial_cruzada = []\n",
    "errores_multinomial_cruzada = []\n",
    "clf = MultinomialNB(alpha=1.0*math.e**10,fit_prior= True)\n",
    "multinomial_cruzada.append(cross_val_score(clf, x, y, cv=10))\n",
    "\n",
    "error_multinomial_cruzada = 1 - np.mean(multinomial_cruzada) \n",
    "std_multinomial_cruzada = np.std(multinomial_cruzada)\n",
    "\n"
   ]
  },
  {
   "cell_type": "markdown",
   "id": "cb830690",
   "metadata": {},
   "source": [
    "_Validacion Cruzada Multinomial_"
   ]
  },
  {
   "cell_type": "markdown",
   "id": "6deeebbe",
   "metadata": {},
   "source": [
    "_Validacion Simple y Cruzada para Categorical no hace falta utilizarlos para este dataSet por orden del enunciado_"
   ]
  },
  {
   "cell_type": "code",
   "execution_count": 35,
   "id": "000f7c33",
   "metadata": {},
   "outputs": [
    {
     "name": "stdout",
     "output_type": "stream",
     "text": [
      "Validacion Simple\n",
      "\t\t\tGaussian\tMultinomial\n",
      "Errores:\t\t26.41%\t\t36.50%\n",
      "Desviacion Tipica:\t4.20%\t\t4.61%\n",
      "\n",
      "Validacion Cruzada\n",
      "\t\t\tGaussian\tMultinomial\n",
      "Errores:\t\t26.60%\t\t30.00%\n",
      "Desviacion Tipica:\t4.32%\t\t0.00%\n"
     ]
    }
   ],
   "source": [
    "print(\"Validacion Simple\")\n",
    "print(\"\\t\\t\\tGaussian\\tMultinomial\")\n",
    "print(f'Errores:\\t\\t{error_gaussian_simple:.2f}%\\t\\t{error_multinomial_simple:.2f}%')\n",
    "print(f'Desviacion Tipica:\\t{std_gaussian_simple:.2f}%\\t\\t{std_multinomial_simple:.2f}%')\n",
    "\n",
    "\n",
    "print('\\nValidacion Cruzada')\n",
    "print(\"\\t\\t\\tGaussian\\tMultinomial\")\n",
    "print(f'Errores:\\t\\t{error_gaussian_cruzada*100:.2f}%\\t\\t{error_multinomial_cruzada*100:.2f}%')\n",
    "print(f'Desviacion Tipica:\\t{std_gaussian_cruzada*100:.2f}%\\t\\t{std_multinomial_cruzada*100:.2f}%')\n"
   ]
  },
  {
   "cell_type": "markdown",
   "id": "2c714013",
   "metadata": {},
   "source": [
    "Para este dataset en particular, Gaussian nos ofrece un mejor rendimiento en cualquiera de los dos tipos de validaciones. Pero además, obtiene un mejor resultado aún, si lo hacemos usando validación cruzada. Un detalle a destacar es que la desviación tipica de multinomial es prácticamente 0. Lo que hace que sean unas mediciones extremadamente fiables.\n",
    "\n",
    "En lineas generales, si hacemos un estudio general de todas las implementaciones del algortimo observamos que todas las implementaciones tienen una tasa de error similar, que ronda el 28-35%. Además, SKL, ofrece una fiabilidad elevada en sus mediciones ya que ninguna de las medidas supera en un 5% la desviación típica. \n",
    "\n",
    "Resulta complicado concluir cual es el mejor para cada dataset, ya que no tenemos un factor en el que apoyarnos para diferir de cuál es mejor que otro. Si nos basamos en la menor tasa de error Gaussian vence frente al resto, mientras que si nos fijamos en la desviación típica sería Multinomial quien saldría favorecido en este caso. Podríamos incluso tomar la eficiencia a nivel de ejecución para concluir la pregunta. "
   ]
  },
  {
   "cell_type": "markdown",
   "id": "b5439228",
   "metadata": {},
   "source": [
    "## Apartado 3: Discusion entre implementaciones"
   ]
  },
  {
   "cell_type": "markdown",
   "id": "6b3d8b5c",
   "metadata": {},
   "source": [
    "Ante los resultados obtenidos, como era de esperar la librería de SKL ofrece ventajas en todos los aspectos, rendimiento, resultados, precisión de resultados etc. No obstante, ese no era el enfoque principal de este trabajo. Sino ver, en detalle cómo trabaja el algoritmo tanto de a la hora de realizar el entrenamiento como la clasificación.\n",
    "\n",
    "Si comparamos resultados, el factor, desde nuestro punto de vista más alarmante de nuestra implementación reside en el alto valor que toma la desviación típica para todas las muestras. Como se ha comentado más arriba esto nos deja ver que nuestro clasificador no es fiable. Al menos no tanto como SKL. Respecto al error también es más elevado en general. Si es cierto, que para ser estrictos en la comparación deberíamos ejecutar el mismo número de veces en SKL que en nuestro algoritmo, pero como la eficiencia computacional mayor en nuestro desarrollo nos resulta imposible realizar iteraciones tan grandes como con Scikit."
   ]
  },
  {
   "cell_type": "markdown",
   "id": "979fde8a",
   "metadata": {},
   "source": [
    "### TIC TAC TOE"
   ]
  },
  {
   "cell_type": "markdown",
   "id": "2a3e0afa",
   "metadata": {},
   "source": [
    "#### SKL"
   ]
  },
  {
   "attachments": {
    "imagen.png": {
     "image/png": "[encoded data removed]"
    }
   },
   "cell_type": "markdown",
   "id": "bfed8733",
   "metadata": {},
   "source": [
    "![imagen.png](attachment:imagen.png)"
   ]
  },
  {
   "cell_type": "markdown",
   "id": "d3ce3724",
   "metadata": {},
   "source": [
    "#### Naive Bayes Propio"
   ]
  },
  {
   "attachments": {
    "imagen.png": {
     "image/png": "[encoded data removed]"
    }
   },
   "cell_type": "markdown",
   "id": "9933dc13",
   "metadata": {},
   "source": [
    "![imagen.png](attachment:imagen.png)"
   ]
  },
  {
   "cell_type": "markdown",
   "id": "b160250b",
   "metadata": {},
   "source": [
    "## GERMAN"
   ]
  },
  {
   "cell_type": "markdown",
   "id": "c9c1449b",
   "metadata": {},
   "source": [
    "#### SKL"
   ]
  },
  {
   "attachments": {
    "imagen.png": {
     "image/png": "[encoded data removed]"
    }
   },
   "cell_type": "markdown",
   "id": "5f35eeb8",
   "metadata": {},
   "source": [
    "![imagen.png](attachment:imagen.png)"
   ]
  },
  {
   "cell_type": "markdown",
   "id": "4cd7e500",
   "metadata": {},
   "source": [
    "#### NAIVE BAYES PROPIO"
   ]
  },
  {
   "attachments": {
    "imagen.png": {
     "image/png": "[encoded data removed]"
    }
   },
   "cell_type": "markdown",
   "id": "7a86be37",
   "metadata": {},
   "source": [
    "![imagen.png](attachment:imagen.png)"
   ]
  }
 ],
 "metadata": {
  "kernelspec": {
   "display_name": "Python 3 (ipykernel)",
   "language": "python",
   "name": "python3"
  },
  "language_info": {
   "codemirror_mode": {
    "name": "ipython",
    "version": 3
   },
   "file_extension": ".py",
   "mimetype": "text/x-python",
   "name": "python",
   "nbconvert_exporter": "python",
   "pygments_lexer": "ipython3",
   "version": "3.9.12"
  },
  "vscode": {
   "interpreter": {
    "hash": "916dbcbb3f70747c44a77c7bcd40155683ae19c65e1c03b4aa3499c5328201f1"
   }
  }
 },
 "nbformat": 4,
 "nbformat_minor": 5
}
