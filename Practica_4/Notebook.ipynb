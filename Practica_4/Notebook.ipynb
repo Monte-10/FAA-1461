{
 "cells": [
  {
   "cell_type": "markdown",
   "metadata": {},
   "source": [
    "# Fundamentos de Aprendizaje Automático\n",
    "## _Práctica 4: Algoritmos Genéticos_\n",
    "### _Grupo 1461_\n",
    "#### _Rubén Torralba Manso y Alejandro Monterrubio Navarro_"
   ]
  },
  {
   "cell_type": "markdown",
   "metadata": {},
   "source": [
    "Imports:"
   ]
  },
  {
   "cell_type": "code",
   "execution_count": 1,
   "metadata": {},
   "outputs": [],
   "source": [
    "import numpy as np\n",
    "import random\n",
    "import matplotlib.pyplot as plt\n",
    "from Datos import Datos\n",
    "import sklearn.preprocessing as pre\n",
    "import EstrategiaParticionado as EstrategiaParticionado\n",
    "import math\n",
    "import AlgoritmoGenetico as AlgoritmoGenetico\n",
    "from AlgoritmoGenetico import *\n",
    "from Clasificador import *\n",
    "from ClasificadorKNN import *\n",
    "import RegresionLogistica as rl"
   ]
  },
  {
   "cell_type": "markdown",
   "metadata": {},
   "source": [
    "## Apartado 1: Breve descripción de los detalles de la implementación"
   ]
  },
  {
   "cell_type": "markdown",
   "metadata": {},
   "source": [
    "### Generación de la población inicial"
   ]
  },
  {
   "cell_type": "markdown",
   "metadata": {},
   "source": [
    "Este es el código:"
   ]
  },
  {
   "cell_type": "code",
   "execution_count": null,
   "metadata": {},
   "outputs": [],
   "source": [
    "def generaPoblacion(self, dataset,diccionario):\n",
    "        total = 0\n",
    "        for clave in diccionario.keys():\n",
    "            if clave != \"Class\":\n",
    "                total += len(diccionario[clave].keys())\n",
    "        total += 1 \n",
    "        self.tam_regla = total\n",
    "        tam_array = total * self.max_reglas\n",
    "     \n",
    "        return np.random.randint(2, size=tam_array)"
   ]
  },
  {
   "attachments": {},
   "cell_type": "markdown",
   "metadata": {},
   "source": [
    "Para generar la población le pasamos el diccionario, luego recorremos todas las claves del diccionario para conseguir los atributos, dejando la clase aparte. Vamos contando los atributos y estos al final los establecemos como el tamaño de la regla. Para calcular el tamaño del array multiplicamos el total por el máximo de reglas. Luego rellenamos el array con numeros aleatorios para crear un individuo aleatorio con su forma, esto se repite el número de veces necesario para tener el tamaño que queremos que tenga la población."
   ]
  },
  {
   "cell_type": "markdown",
   "metadata": {},
   "source": [
    "### Mecanismo de cruce implementado"
   ]
  },
  {
   "cell_type": "markdown",
   "metadata": {},
   "source": [
    "Este es el código:"
   ]
  },
  {
   "cell_type": "code",
   "execution_count": null,
   "metadata": {},
   "outputs": [],
   "source": [
    "def intraReglas(self, lista_1, lista_2):\n",
    "        \n",
    "        lista1 = lista_1.tolist()\n",
    "        lista2 = lista_2.tolist()\n",
    "\n",
    "        indice = random.randint(0,len(lista1))\n",
    "        \n",
    "        listaSolucion1 = lista1[0:indice]\n",
    "        listaSolucion1 += lista2[indice:]\n",
    "        listaSolucion2 = lista2[0:indice]\n",
    "        listaSolucion2 += lista1[indice:]\n",
    "\n",
    "        return np.array(listaSolucion1), np.array(listaSolucion2)"
   ]
  },
  {
   "cell_type": "markdown",
   "metadata": {},
   "source": [
    "Hemos implementado el algoritmo de cruce intraReglas, este consiste en partir dos reglas enviadas por un índice aleatorio a ambas. Luego intercambiamos las partes partidas entre ellas, es decir, si tenemos las reglas [1,1,1,1,1] y [0,0,0,0,0] y partimos en el índice 2, quedarían así después del intercambio [1,1,0,0,0] y [0,0,1,1,1]. Esto lo hacemos con el fin de crear nuevas reglas que puedan obtener mejores resultados entre generaciones."
   ]
  },
  {
   "cell_type": "markdown",
   "metadata": {},
   "source": [
    "### Mecanismo de mutación implementado"
   ]
  },
  {
   "cell_type": "markdown",
   "metadata": {},
   "source": [
    "Este es el código:"
   ]
  },
  {
   "cell_type": "code",
   "execution_count": null,
   "metadata": {},
   "outputs": [],
   "source": [
    "def mutacion(self, lista):\n",
    "        for indice in range(len(lista)):\n",
    "            num = random.random()\n",
    "            if num < self.prob_mutacion:\n",
    "                lista[indice] = 1 - lista[indice]     \n",
    "        \n",
    "        return lista"
   ]
  },
  {
   "attachments": {},
   "cell_type": "markdown",
   "metadata": {},
   "source": [
    "Para la mutación lo que hacemos es que después de producir una nueva generación, se recorren los individuos, haciendo que dada una probabilidad y generando un número aleatorio, si el número es menor a la probabilidad se intercambiará el número en el que ha ocurrido. Por ejemplo, si el individuo es [1,1,0,1,0] y el número aleatorio supera el de mutación en el tercer 1, el individuo pasaría a ser: [1,1,0,0,0]. Esto igual que el cruce se hace con la intención de mejorar la clasificación. También se debe encontrar una probabilidad de mutación que produzca los mejores resultados. Conviene que la probabilidad de mutación no sea alta para tratar de mantener los resultados que hemos ido arrastrando y que por tanto han mostrado previamente buenos resultados."
   ]
  },
  {
   "cell_type": "markdown",
   "metadata": {},
   "source": [
    "### Mecanismo de clasificación implementado"
   ]
  },
  {
   "attachments": {},
   "cell_type": "markdown",
   "metadata": {},
   "source": [
    "El mecanismo funciona mediante la función fitness() y compareDataToRule().\n",
    "\n",
    "La función fitness() es utilizada para calcular la aptitud de un individuo en un problema de optimización. En este caso específico, la función recibe dos argumentos: datos y individuo. La función hace lo siguiente:\n",
    "\n",
    "1. Crea una lista vacía llamada reglas que almacenará las reglas del individuo.\n",
    "2. Recorre el individuo en grupos de tamaño self.tam_regla, agregando cada grupo a la lista de reglas.\n",
    "3. Llamar a la función compareDataToRule() con los datos y las reglas del individuo como argumentos, y almacena el resultado en variables acierto y error.\n",
    "4. Calcula la aptitud del individuo como el cociente entre el número de aciertos y el número total de comparaciones (aciertos + errores).\n",
    "5. Devuelve el valor calculado como la aptitud del individuo.\n",
    "\n",
    "En resumen, la función fitness() se utiliza para calcular qué tan bien se desempeña un individuo en un problema de optimización dado un conjunto de datos.\n",
    "\n",
    "El mecanismo de clasificación implementado en el código que se proporcionó se basa en el uso de reglas binarias para clasificar un conjunto de datos. La función compareDataToRule() recibe dos argumentos: un conjunto de datos y un conjunto de reglas.\n",
    "Básicamente esta función se encarga de analizar que reglas del individuo se activan para cada entrada del dataset. De esta forma, por cada regla activada (ahora veremos cómo), miraremos el valor de la clase. En el caso de coexistir varias reglas en un individuo el valor mayoritario de clase será el que se tenga en cuenta para la comparación.\n",
    "\n",
    "Para estudiar si una regla se activa hemos aprovechado la codificación que se nos propone en el enunciado junto con el One Hot Encoding que hemos aplicado sobre nuestro dataset excluyendo la clase. Así, si aplicamos una AND lógica sobre la regla y la entrada del conjunto de datos y la solución se mantiene igual a esta entrada la regla se activa. Esto es así porque hay que tener en cuenta que One Hot Encoding no es equivalente a la codificación de las reglas. Por ejemplo, para las reglas, \"11\" representaría que existen dos valores válidos para ese atributo mientras que esto no sería viable con OHE.\n",
    "\n",
    "Una vez tenemos claro que reglas se activan y la comparación de las clases este método concluye devolviendo el total de errores y aciertos del dataset con respecto a nuestro individuo.\n",
    "\n",
    "La implementación del método quedaría por lo tanto de la siguiente manera:\n",
    "\n",
    "1. Para cada dato en el conjunto de datos, se recorre el conjunto de reglas y se comparan los valores binarios del dato con los valores binarios de la regla. \n",
    "2. Si todos los valores binarios del dato coinciden con los valores binarios de la regla, se cuenta como un acierto si el último valor binario de la regla coincide con el último valor binario del dato, y se cuenta como un error en caso contrario. \n",
    "3. Finalmente, se devuelve el número de aciertos y el número de errores.\n",
    "\n",
    "Este mecanismo de clasificación es simple y eficiente, y se puede utilizar para resolver una amplia variedad de problemas de clasificación binaria. Sin embargo, es posible que no sea la mejor opción en todos los casos, ya que depende completamente de las reglas que se utilicen para clasificar los datos."
   ]
  },
  {
   "cell_type": "markdown",
   "metadata": {},
   "source": [
    "## Apartado 2: Resultados de la clasificación"
   ]
  },
  {
   "cell_type": "markdown",
   "metadata": {},
   "source": [
    "### Parámetros: AlgoritmoGenético(Probabilidad mutación, Nº Generaciones, Máximo reglas, Probabilidad combinación, Tamaño de la población)"
   ]
  },
  {
   "cell_type": "markdown",
   "metadata": {},
   "source": [
    "Ejecutamos la clasificación para el dataset xor.csv:"
   ]
  },
  {
   "cell_type": "code",
   "execution_count": 3,
   "metadata": {},
   "outputs": [],
   "source": [
    "dataset = Datos('ConjuntosDatosP4/xor.csv')"
   ]
  },
  {
   "cell_type": "markdown",
   "metadata": {},
   "source": [
    "#### Probamos para:\n",
    "- Probabilidad mutación: 0.01\n",
    "- Nº Generaciones: 100\n",
    "- Máximo reglas: 5\n",
    "- Probabilidad combinación: 0.85\n",
    "- Tamaño de la población: 100"
   ]
  },
  {
   "cell_type": "code",
   "execution_count": 9,
   "metadata": {},
   "outputs": [
    {
     "name": "stdout",
     "output_type": "stream",
     "text": [
      "El mejor individuo es:  [1 0 0 1 0 0 0 0 0 0 0 1 0 1 1 1 0 1 0 1 0 1 1 0 0] \n",
      "\n",
      "El acierto de nuestro clasificador es del: 100.0% por lo que el error es el: 0.0%\n"
     ]
    }
   ],
   "source": [
    "algoritmoGenetico = AG(0.01,100,5,0.85,100)\n",
    "    \n",
    "validacionSimple = EstrategiaParticionado.ValidacionSimple(30,1)\n",
    "validacionSimple.creaParticiones(dataset.datos)\n",
    "\n",
    "datosTrain = dataset.extraeDatos(validacionSimple.particiones[0].indicesTrain)\n",
    "datosTest = dataset.extraeDatos(validacionSimple.particiones[0].indicesTest)\n",
    "\n",
    "mejor = algoritmoGenetico.entrenamiento(datosTrain,{},dataset.diccionario)\n",
    "\n",
    "print(\"El mejor individuo es: \", mejor,\"\\n\")\n",
    "\n",
    "algoritmoGenetico.clasifica(datosTest,mejor)"
   ]
  },
  {
   "attachments": {},
   "cell_type": "markdown",
   "metadata": {},
   "source": [
    "Este individuo se interpreta de la siguiente manera:\n",
    "    Como ya hemos comentado previamente un individuo se compone de un número fijo de reglas. En este caso es el parámetro max_reglas el que nos determina el número de reglas por individuo. Además, una regla tiene un tamaño variable en función del dataset sobre el que nos encontremos. Concretamente, estas reglas representan los atributos de XOR por lo que, como cada atributo únicamente puede contener 2 valores, el tamaño de la regla guardará 2 bits para cada atributo + 1 de la clase, formando así un tamaño de 5 bits por regla.\n",
    "\n",
    "Individuo = [ 1 0 0 1 0 | 0 0 0 0 0 | 0 1 0 1 1 | 1 0 1 0 1 | 0 1 1 0 0 ]\n",
    "\n",
    "Para simplificar la discusión reducimos el individuo a un número menor de reglas. Nos quedamos con:\n",
    "\n",
    "Regla1 = 1 0 0 1 0\n",
    "\n",
    "Regla2 = 0 1 0 1 1\n",
    "\n",
    "Regla3 = 1 0 1 0 1\n",
    "\n",
    "En nuestra codificiacion el \"+\" se representa en el primer bit, y el menos en el segundo bit, de esta manera:\n",
    "\n",
    "La regla 1 representaría IF (X1 = -) AND (X2 = +) THEN CLASS = +\n",
    "\n",
    "La regla 2 representaría IF (X1 = +) AND (X2 = +) THEN CLASS = -\n",
    "\n",
    "La regla 3 representaría IF (X1 = -) AND (X2 = -) THEN CLASS = -\n",
    "\n",
    "La regla 4 representaría IF (X1 = +) AND (X2 = -) THEN CLASS = +\n",
    "\n",
    "Si nos fijamos obtenemos una puerta XOR mediante estas reglas.\n",
    "\n",
    "Este individuo particularmente no permite representar del todo las posibilidades de la codificación, más adelante veremos otro ejemplo para mostrarlo.\n"
   ]
  },
  {
   "attachments": {},
   "cell_type": "markdown",
   "metadata": {},
   "source": [
    "#### Probamos para:\n",
    "- Probabilidad mutación: 0.01\n",
    "- Nº Generaciones: 20\n",
    "- Máximo reglas: 5\n",
    "- Probabilidad combinación: 0.85\n",
    "- Tamaño de la población: 100"
   ]
  },
  {
   "cell_type": "code",
   "execution_count": 4,
   "metadata": {},
   "outputs": [
    {
     "name": "stdout",
     "output_type": "stream",
     "text": [
      "El mejor individuo es:  [0 0 0 0 0 1 0 0 1 0 1 1 1 0 1 0 1 1 1 1 0 0 0 1 1] \n",
      "\n",
      "El acierto de nuestro clasificador es del: 75.0% por lo que el error es el: 25.0%\n"
     ]
    }
   ],
   "source": [
    "algoritmoGenetico = AG(0.01,20,5,0.85,100)\n",
    "    \n",
    "validacionSimple = EstrategiaParticionado.ValidacionSimple(30,1)\n",
    "validacionSimple.creaParticiones(dataset.datos)\n",
    "\n",
    "datosTrain = dataset.extraeDatos(validacionSimple.particiones[0].indicesTrain)\n",
    "datosTest = dataset.extraeDatos(validacionSimple.particiones[0].indicesTest)\n",
    "\n",
    "mejor = algoritmoGenetico.entrenamiento(datosTrain,{},dataset.diccionario)\n",
    "\n",
    "print(\"El mejor individuo es: \", mejor,\"\\n\")\n",
    "\n",
    "algoritmoGenetico.clasifica(datosTest,mejor)"
   ]
  },
  {
   "attachments": {},
   "cell_type": "markdown",
   "metadata": {},
   "source": [
    "Este individuo entre otras contiene las regla [ 1 1 1 0 1 ], esta representa:\n",
    "\n",
    "IF (X1 = + OR X1 = -) AND (X2 = +) THEN CLASS = +"
   ]
  },
  {
   "attachments": {},
   "cell_type": "markdown",
   "metadata": {},
   "source": [
    "#### Probamos para:\n",
    "- Probabilidad mutación: 0.01\n",
    "- Nº Generaciones: 100\n",
    "- Máximo reglas: 5\n",
    "- Probabilidad combinación: 0.85\n",
    "- Tamaño de la población: 20"
   ]
  },
  {
   "cell_type": "code",
   "execution_count": null,
   "metadata": {},
   "outputs": [
    {
     "name": "stdout",
     "output_type": "stream",
     "text": [
      "El mejor individuo es:  [0 0 0 1 0 0 1 0 1 1 0 1 1 0 0 1 0 1 1 0 0 0 0 0 0] \n",
      "\n",
      "El acierto de nuestro clasificador es del: 74.16666666666667% por lo que el error es el: 25.83333333333333%\n"
     ]
    }
   ],
   "source": [
    "algoritmoGenetico = AG(0.01,100,5,0.85,20)\n",
    "    \n",
    "validacionSimple = EstrategiaParticionado.ValidacionSimple(30,1)\n",
    "validacionSimple.creaParticiones(dataset.datos)\n",
    "\n",
    "datosTrain = dataset.extraeDatos(validacionSimple.particiones[0].indicesTrain)\n",
    "datosTest = dataset.extraeDatos(validacionSimple.particiones[0].indicesTest)\n",
    "\n",
    "mejor = algoritmoGenetico.entrenamiento(datosTrain,{},dataset.diccionario)\n",
    "\n",
    "print(\"El mejor individuo es: \", mejor,\"\\n\")\n",
    "\n",
    "algoritmoGenetico.clasifica(datosTest,mejor)"
   ]
  },
  {
   "attachments": {},
   "cell_type": "markdown",
   "metadata": {},
   "source": [
    "#### Probamos para:\n",
    "- Probabilidad mutación: 0.01\n",
    "- Nº Generaciones: 50\n",
    "- Máximo reglas: 5\n",
    "- Probabilidad combinación: 0.85\n",
    "- Tamaño de la población: 50"
   ]
  },
  {
   "cell_type": "code",
   "execution_count": 7,
   "metadata": {},
   "outputs": [
    {
     "name": "stdout",
     "output_type": "stream",
     "text": [
      "El mejor individuo es:  [0 0 0 0 0 1 1 1 0 0 1 0 1 1 1 0 1 1 0 0 1 1 1 1 1] \n",
      "\n",
      "El acierto de nuestro clasificador es del: 72.5% por lo que el error es el: 27.500000000000004%\n"
     ]
    }
   ],
   "source": [
    "algoritmoGenetico = AG(0.01,50,5,0.85,50)\n",
    "    \n",
    "validacionSimple = EstrategiaParticionado.ValidacionSimple(30,1)\n",
    "validacionSimple.creaParticiones(dataset.datos)\n",
    "\n",
    "datosTrain = dataset.extraeDatos(validacionSimple.particiones[0].indicesTrain)\n",
    "datosTest = dataset.extraeDatos(validacionSimple.particiones[0].indicesTest)\n",
    "\n",
    "mejor = algoritmoGenetico.entrenamiento(datosTrain,{},dataset.diccionario)\n",
    "\n",
    "print(\"El mejor individuo es: \", mejor,\"\\n\")\n",
    "\n",
    "algoritmoGenetico.clasifica(datosTest,mejor)"
   ]
  },
  {
   "attachments": {},
   "cell_type": "markdown",
   "metadata": {},
   "source": [
    "#### Probamos para:\n",
    "- Probabilidad mutación: 0.01\n",
    "- Nº Generaciones: 75\n",
    "- Máximo reglas: 5\n",
    "- Probabilidad combinación: 0.85\n",
    "- Tamaño de la población: 75"
   ]
  },
  {
   "cell_type": "code",
   "execution_count": 10,
   "metadata": {},
   "outputs": [
    {
     "name": "stdout",
     "output_type": "stream",
     "text": [
      "El mejor individuo es:  [1 0 1 0 1 1 0 1 0 1 0 1 1 1 1 1 0 0 1 0 1 1 0 0 0] \n",
      "\n",
      "El acierto de nuestro clasificador es del: 70.0% por lo que el error es el: 30.000000000000004%\n"
     ]
    }
   ],
   "source": [
    "algoritmoGenetico = AG(0.01,75,5,0.85,75)\n",
    "    \n",
    "validacionSimple = EstrategiaParticionado.ValidacionSimple(30,1)\n",
    "validacionSimple.creaParticiones(dataset.datos)\n",
    "\n",
    "datosTrain = dataset.extraeDatos(validacionSimple.particiones[0].indicesTrain)\n",
    "datosTest = dataset.extraeDatos(validacionSimple.particiones[0].indicesTest)\n",
    "\n",
    "mejor = algoritmoGenetico.entrenamiento(datosTrain,{},dataset.diccionario)\n",
    "\n",
    "print(\"El mejor individuo es: \", mejor,\"\\n\")\n",
    "\n",
    "algoritmoGenetico.clasifica(datosTest,mejor)"
   ]
  },
  {
   "attachments": {},
   "cell_type": "markdown",
   "metadata": {},
   "source": [
    "#### Probamos para:\n",
    "- Probabilidad mutación: 0.01\n",
    "- Nº Generaciones: 200\n",
    "- Máximo reglas: 5\n",
    "- Probabilidad combinación: 0.85\n",
    "- Tamaño de la población: 200"
   ]
  },
  {
   "cell_type": "code",
   "execution_count": 12,
   "metadata": {},
   "outputs": [
    {
     "name": "stdout",
     "output_type": "stream",
     "text": [
      "El mejor individuo es:  [1 1 1 1 1 1 0 0 1 0 0 1 1 0 0 1 0 0 1 0 0 1 1 0 0] \n",
      "\n",
      "El acierto de nuestro clasificador es del: 100.0% por lo que el error es el: 0.0%\n"
     ]
    }
   ],
   "source": [
    "algoritmoGenetico = AG(0.01,200,5,0.85,200)\n",
    "    \n",
    "validacionSimple = EstrategiaParticionado.ValidacionSimple(30,1)\n",
    "validacionSimple.creaParticiones(dataset.datos)\n",
    "\n",
    "datosTrain = dataset.extraeDatos(validacionSimple.particiones[0].indicesTrain)\n",
    "datosTest = dataset.extraeDatos(validacionSimple.particiones[0].indicesTest)\n",
    "\n",
    "mejor = algoritmoGenetico.entrenamiento(datosTrain,{},dataset.diccionario)\n",
    "\n",
    "print(\"El mejor individuo es: \", mejor,\"\\n\")\n",
    "\n",
    "algoritmoGenetico.clasifica(datosTest,mejor)"
   ]
  },
  {
   "attachments": {},
   "cell_type": "markdown",
   "metadata": {},
   "source": [
    "Como podemos observar cuando dejamos la poblacion o generaciones a un número bajo por separado se obtiene un error de alrededor del 25%, igual que si hacemos 50 individuos y 50 generaciones y por último igual para 75 individuos y 75 generaciones. Sin embargo si utilizamos 100 individuos y 100 generaciones obtendremos normalmente (no siempre) una ejecución con un muy buen resultado. Esto también ocurre con 200 individuos y generaciones pero, ya que, con 100 podemos obtenerlo es mejor dejarlo en números menores para tener un tiempo de ejecución más pequeño. También si variasemos la probabilidad de mutación o combinación podríamos obtener resultados distintos, pero esto se verá más a fondo en el apartado 3."
   ]
  },
  {
   "cell_type": "markdown",
   "metadata": {},
   "source": [
    "Ejecutamos la clasificación para el dataset titanic.csv:"
   ]
  },
  {
   "cell_type": "code",
   "execution_count": 14,
   "metadata": {},
   "outputs": [],
   "source": [
    "dataset = Datos('ConjuntosDatosP4/titanic.csv')"
   ]
  },
  {
   "attachments": {},
   "cell_type": "markdown",
   "metadata": {},
   "source": [
    "#### Probamos para:\n",
    "- Probabilidad mutación: 0.01\n",
    "- Nº Generaciones: 100\n",
    "- Máximo reglas: 5\n",
    "- Probabilidad combinación: 0.85\n",
    "- Tamaño de la población: 100"
   ]
  },
  {
   "cell_type": "code",
   "execution_count": 15,
   "metadata": {},
   "outputs": [
    {
     "name": "stdout",
     "output_type": "stream",
     "text": [
      "El mejor individuo es:  [1 1 0 0 1 0 1 1 0 1 1 1 1 1 1 1 1 1 1 0 0 0 1 1 1 1 1 1 0 1 1 1 1 0 0 1 1\n",
      " 0 1 0 1 1 0 0 1 1 1 1 1 1 0 1 1 0 1 0 1 1 1 1 1 0 0 1 1 0 0 1 1 1 1 0 1 1\n",
      " 1 1 1 0 1 1 0 0 1 1 1 1 1 0 1 1 0 1 0 1 1 0 1 1 1 0 1 1 0 1 1 1 1 0 0 0] \n",
      "\n",
      "El acierto de nuestro clasificador es del: 56.86900958466453% por lo que el error es el: 43.13099041533547%\n"
     ]
    }
   ],
   "source": [
    "algoritmoGenetico = AG(0.01,100,5,0.85,100)\n",
    "    \n",
    "validacionSimple = EstrategiaParticionado.ValidacionSimple(30,1)\n",
    "validacionSimple.creaParticiones(dataset.datos)\n",
    "\n",
    "datosTrain = dataset.extraeDatos(validacionSimple.particiones[0].indicesTrain)\n",
    "datosTest = dataset.extraeDatos(validacionSimple.particiones[0].indicesTest)\n",
    "\n",
    "mejor = algoritmoGenetico.entrenamiento(datosTrain,{},dataset.diccionario)\n",
    "\n",
    "print(\"El mejor individuo es: \", mejor,\"\\n\")\n",
    "\n",
    "algoritmoGenetico.clasifica(datosTest,mejor)"
   ]
  },
  {
   "attachments": {},
   "cell_type": "markdown",
   "metadata": {},
   "source": [
    "#### Probamos para:\n",
    "- Probabilidad mutación: 0.01\n",
    "- Nº Generaciones: 20\n",
    "- Máximo reglas: 5\n",
    "- Probabilidad combinación: 0.85\n",
    "- Tamaño de la población: 100"
   ]
  },
  {
   "cell_type": "code",
   "execution_count": 16,
   "metadata": {},
   "outputs": [
    {
     "name": "stdout",
     "output_type": "stream",
     "text": [
      "El mejor individuo es:  [0 1 1 1 0 1 0 1 0 0 1 1 1 1 1 0 0 1 0 1 1 1 1 1 1 1 0 1 1 1 0 0 1 0 1 1 1\n",
      " 0 1 1 1 1 0 1 1 1 1 0 1 1 1 1 0 1 1 1 0 1 1 0 1 1 1 0 0 0 0 1 1 1 1 0 0 0\n",
      " 0 1 1 0 0 1 0 1 1 1 1 1 0 0 1 0 1 1 1 0 1 0 0 0 0 1 0 1 0 1 1 1 1 1 1 0] \n",
      "\n",
      "El acierto de nuestro clasificador es del: 58.78594249201278% por lo que el error es el: 41.21405750798722%\n"
     ]
    }
   ],
   "source": [
    "algoritmoGenetico = AG(0.01,20,5,0.85,100)\n",
    "    \n",
    "validacionSimple = EstrategiaParticionado.ValidacionSimple(30,1)\n",
    "validacionSimple.creaParticiones(dataset.datos)\n",
    "\n",
    "datosTrain = dataset.extraeDatos(validacionSimple.particiones[0].indicesTrain)\n",
    "datosTest = dataset.extraeDatos(validacionSimple.particiones[0].indicesTest)\n",
    "\n",
    "mejor = algoritmoGenetico.entrenamiento(datosTrain,{},dataset.diccionario)\n",
    "\n",
    "print(\"El mejor individuo es: \", mejor,\"\\n\")\n",
    "\n",
    "algoritmoGenetico.clasifica(datosTest,mejor)"
   ]
  },
  {
   "attachments": {},
   "cell_type": "markdown",
   "metadata": {},
   "source": [
    "#### Probamos para:\n",
    "- Probabilidad mutación: 0.01\n",
    "- Nº Generaciones: 100\n",
    "- Máximo reglas: 5\n",
    "- Probabilidad combinación: 0.85\n",
    "- Tamaño de la población: 20"
   ]
  },
  {
   "cell_type": "code",
   "execution_count": 17,
   "metadata": {},
   "outputs": [
    {
     "name": "stdout",
     "output_type": "stream",
     "text": [
      "El mejor individuo es:  [0 1 0 1 0 1 1 0 0 0 0 0 1 0 0 1 0 1 0 1 1 1 0 0 1 1 1 1 0 0 1 0 0 0 0 1 1\n",
      " 1 1 0 1 0 0 0 1 1 0 1 0 0 0 1 1 1 0 1 1 1 1 0 1 1 0 0 1 1 1 0 1 0 1 0 0 0\n",
      " 1 1 1 1 0 0 0 1 1 1 0 0 0 0 1 1 1 0 1 1 0 0 0 1 1 1 1 0 1 0 1 1 1 1 1 0] \n",
      "\n",
      "El acierto de nuestro clasificador es del: 64.21725239616613% por lo que el error es el: 35.78274760383386%\n"
     ]
    }
   ],
   "source": [
    "algoritmoGenetico = AG(0.01,100,5,0.85,20)\n",
    "    \n",
    "validacionSimple = EstrategiaParticionado.ValidacionSimple(30,1)\n",
    "validacionSimple.creaParticiones(dataset.datos)\n",
    "\n",
    "datosTrain = dataset.extraeDatos(validacionSimple.particiones[0].indicesTrain)\n",
    "datosTest = dataset.extraeDatos(validacionSimple.particiones[0].indicesTest)\n",
    "\n",
    "mejor = algoritmoGenetico.entrenamiento(datosTrain,{},dataset.diccionario)\n",
    "\n",
    "print(\"El mejor individuo es: \", mejor,\"\\n\")\n",
    "\n",
    "algoritmoGenetico.clasifica(datosTest,mejor)"
   ]
  },
  {
   "attachments": {},
   "cell_type": "markdown",
   "metadata": {},
   "source": [
    "#### Probamos para:\n",
    "- Probabilidad mutación: 0.01\n",
    "- Nº Generaciones: 50\n",
    "- Máximo reglas: 5\n",
    "- Probabilidad combinación: 0.85\n",
    "- Tamaño de la población: 50"
   ]
  },
  {
   "cell_type": "code",
   "execution_count": 18,
   "metadata": {},
   "outputs": [
    {
     "name": "stdout",
     "output_type": "stream",
     "text": [
      "El mejor individuo es:  [0 0 0 1 1 1 0 1 0 1 1 1 0 0 0 1 0 1 0 1 1 1 0 0 1 1 1 1 1 1 0 1 0 1 1 0 0\n",
      " 1 0 1 1 1 0 0 1 1 1 0 1 0 0 1 1 1 0 1 1 1 1 1 1 1 1 1 1 0 1 1 0 1 0 0 0 0\n",
      " 0 0 1 1 0 1 1 1 1 1 1 0 0 1 0 1 0 1 0 1 1 0 0 0 0 1 0 1 1 0 0 1 1 0 1 1] \n",
      "\n",
      "El acierto de nuestro clasificador es del: 66.77316293929712% por lo que el error es el: 33.22683706070288%\n"
     ]
    }
   ],
   "source": [
    "algoritmoGenetico = AG(0.01,50,5,0.85,50)\n",
    "    \n",
    "validacionSimple = EstrategiaParticionado.ValidacionSimple(30,1)\n",
    "validacionSimple.creaParticiones(dataset.datos)\n",
    "\n",
    "datosTrain = dataset.extraeDatos(validacionSimple.particiones[0].indicesTrain)\n",
    "datosTest = dataset.extraeDatos(validacionSimple.particiones[0].indicesTest)\n",
    "\n",
    "mejor = algoritmoGenetico.entrenamiento(datosTrain,{},dataset.diccionario)\n",
    "\n",
    "print(\"El mejor individuo es: \", mejor,\"\\n\")\n",
    "\n",
    "algoritmoGenetico.clasifica(datosTest,mejor)"
   ]
  },
  {
   "attachments": {},
   "cell_type": "markdown",
   "metadata": {},
   "source": [
    "#### Probamos para:\n",
    "- Probabilidad mutación: 0.01\n",
    "- Nº Generaciones: 75\n",
    "- Máximo reglas: 5\n",
    "- Probabilidad combinación: 0.85\n",
    "- Tamaño de la población: 75"
   ]
  },
  {
   "cell_type": "code",
   "execution_count": 19,
   "metadata": {},
   "outputs": [
    {
     "name": "stdout",
     "output_type": "stream",
     "text": [
      "El mejor individuo es:  [0 1 0 0 0 0 0 1 0 0 1 1 0 1 1 0 0 1 1 0 0 0 1 1 1 1 0 1 1 0 0 1 1 0 1 0 0\n",
      " 1 1 1 0 0 0 1 1 1 1 0 1 0 0 1 1 0 1 0 1 1 1 0 1 1 1 1 1 0 0 1 1 0 1 0 1 1\n",
      " 0 1 1 1 1 1 1 1 1 1 1 0 0 0 1 1 0 0 1 1 1 0 1 0 1 1 0 1 1 1 1 1 1 1 0 0] \n",
      "\n",
      "El acierto de nuestro clasificador es del: 64.21725239616613% por lo que el error es el: 35.78274760383386%\n"
     ]
    }
   ],
   "source": [
    "algoritmoGenetico = AG(0.01,75,5,0.85,75)\n",
    "    \n",
    "validacionSimple = EstrategiaParticionado.ValidacionSimple(30,1)\n",
    "validacionSimple.creaParticiones(dataset.datos)\n",
    "\n",
    "datosTrain = dataset.extraeDatos(validacionSimple.particiones[0].indicesTrain)\n",
    "datosTest = dataset.extraeDatos(validacionSimple.particiones[0].indicesTest)\n",
    "\n",
    "mejor = algoritmoGenetico.entrenamiento(datosTrain,{},dataset.diccionario)\n",
    "\n",
    "print(\"El mejor individuo es: \", mejor,\"\\n\")\n",
    "\n",
    "algoritmoGenetico.clasifica(datosTest,mejor)"
   ]
  },
  {
   "attachments": {},
   "cell_type": "markdown",
   "metadata": {},
   "source": [
    "#### Probamos para:\n",
    "- Probabilidad mutación: 0.01\n",
    "- Nº Generaciones: 200\n",
    "- Máximo reglas: 5\n",
    "- Probabilidad combinación: 0.85\n",
    "- Tamaño de la población: 200"
   ]
  },
  {
   "cell_type": "code",
   "execution_count": 20,
   "metadata": {},
   "outputs": [
    {
     "name": "stdout",
     "output_type": "stream",
     "text": [
      "El mejor individuo es:  [0 1 1 0 1 0 0 0 1 1 0 0 1 1 1 1 1 1 0 0 1 0 1 1 0 1 1 0 1 0 1 1 0 1 1 1 1\n",
      " 1 1 1 1 0 1 0 0 1 1 1 1 1 0 0 1 0 1 1 0 1 1 0 1 1 0 0 1 0 0 1 1 1 1 1 1 1\n",
      " 1 0 0 1 1 0 1 0 0 1 1 1 0 0 1 1 1 1 1 1 0 1 0 1 1 0 0 1 0 1 0 0 1 1 0 0] \n",
      "\n",
      "El acierto de nuestro clasificador es del: 63.897763578274756% por lo que el error es el: 36.102236421725244%\n"
     ]
    }
   ],
   "source": [
    "algoritmoGenetico = AG(0.01,200,5,0.85,200) \n",
    "    \n",
    "validacionSimple = EstrategiaParticionado.ValidacionSimple(30,1)\n",
    "validacionSimple.creaParticiones(dataset.datos)\n",
    "\n",
    "datosTrain = dataset.extraeDatos(validacionSimple.particiones[0].indicesTrain)\n",
    "datosTest = dataset.extraeDatos(validacionSimple.particiones[0].indicesTest)\n",
    "\n",
    "mejor = algoritmoGenetico.entrenamiento(datosTrain,{},dataset.diccionario)\n",
    "\n",
    "print(\"El mejor individuo es: \", mejor,\"\\n\")\n",
    "\n",
    "algoritmoGenetico.clasifica(datosTest,mejor)"
   ]
  },
  {
   "attachments": {},
   "cell_type": "markdown",
   "metadata": {},
   "source": [
    "Al contrario que para el caso anterior con xor.csv, con titanic.csv no se obtiene el mejor resultado con 100 individuos y 100 generaciones, mejora para todos los casos menores de 100 y también para 200 en individuos y generaciones, pero ya que su tiempo de ejecución ronda los 20 minutos y obtenemos incluso un mejor resultado con 50 individuos y 50 generaciones en un tiempo de alrededor de 1 minuto y medio la mejor opción sin duda es esa."
   ]
  },
  {
   "cell_type": "markdown",
   "metadata": {},
   "source": [
    "## Apartado 3: Análisis de resultados"
   ]
  },
  {
   "cell_type": "markdown",
   "metadata": {},
   "source": [
    "## Apartado 4: Evolución de fase de entranamiento, evolución en forma de gráfica"
   ]
  }
 ],
 "metadata": {
  "kernelspec": {
   "display_name": "Python 3.10.6 64-bit",
   "language": "python",
   "name": "python3"
  },
  "language_info": {
   "codemirror_mode": {
    "name": "ipython",
    "version": 3
   },
   "file_extension": ".py",
   "mimetype": "text/x-python",
   "name": "python",
   "nbconvert_exporter": "python",
   "pygments_lexer": "ipython3",
   "version": "3.10.6 (main, Nov  2 2022, 18:53:38) [GCC 11.3.0]"
  },
  "orig_nbformat": 4,
  "vscode": {
   "interpreter": {
    "hash": "916dbcbb3f70747c44a77c7bcd40155683ae19c65e1c03b4aa3499c5328201f1"
   }
  }
 },
 "nbformat": 4,
 "nbformat_minor": 2
}
