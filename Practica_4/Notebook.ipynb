{
 "cells": [
  {
   "cell_type": "markdown",
   "metadata": {},
   "source": [
    "# Fundamentos de Aprendizaje Automático\n",
    "## _Práctica 4: Algoritmos Genéticos_\n",
    "### _Grupo 1461_\n",
    "#### _Rubén Torralba Manso y Alejandro Monterrubio Navarro_"
   ]
  },
  {
   "cell_type": "markdown",
   "metadata": {},
   "source": [
    "Imports:"
   ]
  },
  {
   "cell_type": "code",
   "execution_count": 3,
   "metadata": {},
   "outputs": [],
   "source": [
    "import numpy as np\n",
    "import random\n",
    "import matplotlib.pyplot as plt\n",
    "from Datos import Datos\n",
    "import sklearn.preprocessing as pre\n",
    "import EstrategiaParticionado as EstrategiaParticionado\n",
    "import math\n",
    "import AlgoritmoGenetico as AlgoritmoGenetico\n",
    "from AlgoritmoGenetico import *\n",
    "from Clasificador import *\n",
    "from ClasificadorKNN import *\n",
    "import RegresionLogistica as rl"
   ]
  },
  {
   "cell_type": "markdown",
   "metadata": {},
   "source": [
    "## Apartado 1: Breve descripción de los detalles de la implementación"
   ]
  },
  {
   "cell_type": "markdown",
   "metadata": {},
   "source": [
    "### Generación de la población inicial"
   ]
  },
  {
   "cell_type": "markdown",
   "metadata": {},
   "source": [
    "Este es el código:"
   ]
  },
  {
   "cell_type": "code",
   "execution_count": null,
   "metadata": {},
   "outputs": [],
   "source": [
    "def generaPoblacion(self, dataset,diccionario):\n",
    "        total = 0\n",
    "        for clave in diccionario.keys():\n",
    "            if clave != \"Class\":\n",
    "                #print(f'El tamanio de las keys de {clave} es:{len(diccionario[clave].keys())}')\n",
    "                total += len(diccionario[clave].keys())\n",
    "        total += 1 #reservamos un bit para la clase\n",
    "        self.tam_regla = total\n",
    "        tam_array = total * self.max_reglas\n",
    "        # print(f'Total = {total} * {self.max_reglas}')\n",
    "        # print(tam_array)\n",
    "        return np.random.randint(2, size=tam_array) #el individuo contiene tambien la clase"
   ]
  },
  {
   "cell_type": "markdown",
   "metadata": {},
   "source": [
    "Para generar la población le pasamos el diccionario, luego recorremos todas las claves del diccionario para conseguir los atributos, dejando la clase aparte. Vamos contando los atributos y estos al final los establecemos como el tamaño de la regla. Para calcular el tamaño del array multiplicamos el total por el máximo de reglas. Luego rellenamos el array con numeros aleatorios para crear un individuo aleatorio con su forma, esto se repite el número de veces necesario para tener el tamaño que queremos que tenga la población"
   ]
  },
  {
   "cell_type": "markdown",
   "metadata": {},
   "source": [
    "### Mecanismo de cruce implementado"
   ]
  },
  {
   "cell_type": "markdown",
   "metadata": {},
   "source": [
    "Este es el código:"
   ]
  },
  {
   "cell_type": "code",
   "execution_count": null,
   "metadata": {},
   "outputs": [],
   "source": [
    "def intraReglas(self, lista_1, lista_2):\n",
    "        \n",
    "        lista1 = lista_1.tolist()\n",
    "        lista2 = lista_2.tolist()\n",
    "        #print(f'litsa1: {len(lista1)} , lista2: {(lista2)}')\n",
    "        indice = random.randint(0,len(lista1))\n",
    "        \n",
    "        listaSolucion1 = lista1[0:indice]\n",
    "        listaSolucion1 += lista2[indice:]\n",
    "        listaSolucion2 = lista2[0:indice]\n",
    "        listaSolucion2 += lista1[indice:]\n",
    "\n",
    "        #print(len(listaSolucion1))\n",
    "        #print(len(listaSolucion2))\n",
    "        return np.array(listaSolucion1), np.array(listaSolucion2)"
   ]
  },
  {
   "cell_type": "markdown",
   "metadata": {},
   "source": [
    "Hemos implementado el algoritmo de cruce intraReglas, este consiste en partir dos reglas enviadas por un índice aleatorio a ambas. Luego intercambiamos las partes partidas entre ellas, es decir, si tenemos las reglas [1,1,1,1,1] y [0,0,0,0,0] y partimos en el índice 2, quedarían así después del intercambio [1,1,0,0,0] y [0,0,1,1,1]. Esto lo hacemos con el fin de crear nuevas reglas que puedan obtener mejores resultados entre generaciones."
   ]
  },
  {
   "cell_type": "markdown",
   "metadata": {},
   "source": [
    "### Mecanismo de mutación implementado"
   ]
  },
  {
   "cell_type": "markdown",
   "metadata": {},
   "source": [
    "Este es el código:"
   ]
  },
  {
   "cell_type": "code",
   "execution_count": null,
   "metadata": {},
   "outputs": [],
   "source": [
    "def mutacion(self, lista):\n",
    "        for indice in range(len(lista)):\n",
    "            num = random.random()\n",
    "            if num < self.prob_mutacion:\n",
    "                lista[indice] = 1 - lista[indice]     \n",
    "        \n",
    "        return lista"
   ]
  },
  {
   "cell_type": "markdown",
   "metadata": {},
   "source": [
    "Para la mutación lo que hacemos es que después de producir una nueva generación, se recorren los individuos, haciendo que dada una muy baja probabilidad y generando un número aleatorio, si el número es menor a la probabilidad se intercambiará el número en el ha ocurrido. Por ejemplo, si el individuo es [1,1,0,1,0] y el número aleatorio superá el de mutación en el tercer 1, el individuo pasaría a ser: [1,1,0,0,0]. Esto igual que el cruce se hace con la intención de mejorar la clasificación. También se debe encontrar una probabilidad de mutación que produzca los mejores resultados."
   ]
  },
  {
   "cell_type": "markdown",
   "metadata": {},
   "source": [
    "### Mecanismo de clasificación implementado"
   ]
  },
  {
   "cell_type": "markdown",
   "metadata": {},
   "source": [
    "## Apartado 2: Resultados de la clasificación"
   ]
  },
  {
   "cell_type": "markdown",
   "metadata": {},
   "source": [
    "### Parámetros: AlgoritmoGenético(Probabilidad mutación, Nº Generaciones, Máximo reglas, Probabilidad combinación, Tamaño de la población)"
   ]
  },
  {
   "cell_type": "markdown",
   "metadata": {},
   "source": [
    "Ejecutamos la clasificación para el dataset xor.csv:"
   ]
  },
  {
   "cell_type": "code",
   "execution_count": 13,
   "metadata": {},
   "outputs": [],
   "source": [
    "dataset = Datos('ConjuntosDatosP4/xor.csv')"
   ]
  },
  {
   "cell_type": "markdown",
   "metadata": {},
   "source": [
    "#### Probamos para:\n",
    "- Probabilidad mutación:0.01\n",
    "- Nº Generaciones:100\n",
    "- Máximo reglas: 5\n",
    "- Probabilidad combinación: 0.85\n",
    "- Tamaño de la población: 100"
   ]
  },
  {
   "cell_type": "code",
   "execution_count": 14,
   "metadata": {},
   "outputs": [
    {
     "name": "stdout",
     "output_type": "stream",
     "text": [
      "El mejor individuo es:  [1 0 1 0 1 0 1 0 1 1 1 0 0 1 0 1 1 1 0 0 1 0 1 0 1] \n",
      "\n",
      "El acierto de nuestro clasificador es del: 100.0% por lo que el error es el: 0.0%\n"
     ]
    }
   ],
   "source": [
    "algoritmoGenetico = AG(0.01,100,5,0.85,100) #penultimo parametro -> proporcion de arrastrar el mejor\n",
    "    \n",
    "validacionSimple = EstrategiaParticionado.ValidacionSimple(30,1) #reservamos poco para el train de forma temporal para debuggear\n",
    "validacionSimple.creaParticiones(dataset.datos)\n",
    "\n",
    "datosTrain = dataset.extraeDatos(validacionSimple.particiones[0].indicesTrain)\n",
    "datosTest = dataset.extraeDatos(validacionSimple.particiones[0].indicesTest)\n",
    "\n",
    "mejor = algoritmoGenetico.entrenamiento(datosTrain,{},dataset.diccionario)\n",
    "\n",
    "print(\"El mejor individuo es: \", mejor,\"\\n\")\n",
    "\n",
    "algoritmoGenetico.clasifica(datosTest,mejor)"
   ]
  },
  {
   "cell_type": "markdown",
   "metadata": {},
   "source": [
    "Arriba podemos ver el mejor individuo, las reglas tiene el siguiente significado:"
   ]
  },
  {
   "cell_type": "markdown",
   "metadata": {},
   "source": [
    "Ejecutamos la clasificación para el dataset titanic.csv:"
   ]
  },
  {
   "cell_type": "code",
   "execution_count": 11,
   "metadata": {},
   "outputs": [],
   "source": [
    "dataset = Datos('ConjuntosDatosP4/titanic.csv')"
   ]
  },
  {
   "cell_type": "code",
   "execution_count": 12,
   "metadata": {},
   "outputs": [
    {
     "name": "stdout",
     "output_type": "stream",
     "text": [
      "El mejor individuo es:  [1 1 1 1 1 1 1 0 1 0 1 0 1 0 1 1 1 1 0 1 1 0 1 1 0 1 1 1 0 1 0 1 0 1 1 1 1\n",
      " 0 1 1 0 1 1 0 1 1 1 1 1 0 1 1 1 1 1 1 0 1 1 0 0 1 0 1 1 0 1 1 1 1 1 1 1 1\n",
      " 1 1 1 1 0 0 0 1 0 1 1 1 0 0 1 1 1 1 1 1 1 0 1 1 1 0 0 0 0 1 1 0 1 1 1 0] \n",
      "\n",
      "El acierto de nuestro clasificador es del: 56.54952076677316% por lo que el error es el: 43.45047923322684%\n"
     ]
    }
   ],
   "source": [
    "algoritmoGenetico = AG(0.01,100,5,0.85,100) #penultimo parametro -> proporcion de arrastrar el mejor\n",
    "    \n",
    "validacionSimple = EstrategiaParticionado.ValidacionSimple(30,1) #reservamos poco para el train de forma temporal para debuggear\n",
    "validacionSimple.creaParticiones(dataset.datos)\n",
    "\n",
    "datosTrain = dataset.extraeDatos(validacionSimple.particiones[0].indicesTrain)\n",
    "datosTest = dataset.extraeDatos(validacionSimple.particiones[0].indicesTest)\n",
    "\n",
    "mejor = algoritmoGenetico.entrenamiento(datosTrain,{},dataset.diccionario)\n",
    "\n",
    "print(\"El mejor individuo es: \", mejor,\"\\n\")\n",
    "\n",
    "algoritmoGenetico.clasifica(datosTest,mejor)"
   ]
  },
  {
   "cell_type": "markdown",
   "metadata": {},
   "source": [
    "Arriba podemos ver el mejor individuo, las reglas tiene el siguiente significado:"
   ]
  },
  {
   "cell_type": "markdown",
   "metadata": {},
   "source": [
    "## Apartado 3: Análisis de resultados"
   ]
  },
  {
   "cell_type": "markdown",
   "metadata": {},
   "source": [
    "## Apartado 4: Evolución de fase de entranamiento, evolución en forma de gráfica"
   ]
  }
 ],
 "metadata": {
  "kernelspec": {
   "display_name": "Python 3.10.6 64-bit",
   "language": "python",
   "name": "python3"
  },
  "language_info": {
   "codemirror_mode": {
    "name": "ipython",
    "version": 3
   },
   "file_extension": ".py",
   "mimetype": "text/x-python",
   "name": "python",
   "nbconvert_exporter": "python",
   "pygments_lexer": "ipython3",
   "version": "3.10.6"
  },
  "orig_nbformat": 4,
  "vscode": {
   "interpreter": {
    "hash": "916dbcbb3f70747c44a77c7bcd40155683ae19c65e1c03b4aa3499c5328201f1"
   }
  }
 },
 "nbformat": 4,
 "nbformat_minor": 2
}
