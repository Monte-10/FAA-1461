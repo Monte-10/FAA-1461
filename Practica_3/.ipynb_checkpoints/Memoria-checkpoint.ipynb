{
 "cells": [
  {
   "cell_type": "markdown",
   "id": "782808ee",
   "metadata": {},
   "source": [
    "## Apartado 1: Resultados de la clasificacion mediante Regresión Logística"
   ]
  },
  {
   "cell_type": "code",
   "execution_count": 1,
   "id": "0a908069",
   "metadata": {},
   "outputs": [],
   "source": [
    "from Clasificador import Clasificador\n",
    "from Datos import Datos\n",
    "\n",
    "import numpy as np\n",
    "import random\n",
    "import math\n",
    "import EstrategiaParticionado as EstrategiaParticionado\n",
    "from ClasificadorKNN import ClasificadorKNN\n",
    "from RegresionLogistica import RegresionLogistica"
   ]
  },
  {
   "cell_type": "markdown",
   "id": "5616315b",
   "metadata": {},
   "source": [
    "Como en prácticas anteriores, vamos a ir viendo la evolución de los resultados en funcion de los parametros de entrada que introduzcamos y los dataset con los que hagamos la clasificacion. Para esta práctica en concreto vamos a variar el valor del gradiente, el valor del numero de epocas. Para el particionado de los datos utilizaremos una estrategia de validacion simple y reservaremos un 25% del dataset para la parte de test. Lo que supone entrenar el algoritmo con el 75% del dataset. \n",
    "\n",
    "Respecto al código, como se comentaba en el enunciado, la funcion math.exp nos da un error en tiempo de ejecución, que a pesar de estar capturada sigue saltando el aviso. No influye para el correcto funcionamiento del algoritmo."
   ]
  },
  {
   "cell_type": "markdown",
   "id": "b16065e1",
   "metadata": {},
   "source": [
    "### Pima-Indians-Diabetes"
   ]
  },
  {
   "cell_type": "markdown",
   "id": "bc19c4f5",
   "metadata": {},
   "source": [
    "##### Gradiente = 1, N_Epocas = 10"
   ]
  },
  {
   "cell_type": "code",
   "execution_count": 4,
   "id": "2f7715d7",
   "metadata": {
    "scrolled": true
   },
   "outputs": [
    {
     "name": "stderr",
     "output_type": "stream",
     "text": [
      "C:\\Users\\ruben\\Desktop\\FAA\\PRACTICAS\\faa_github\\Practica_3\\RegresionLogistica.py:25: RuntimeWarning: overflow encountered in exp\n",
      "  ret =  1/(1 + np.exp(-x))\n"
     ]
    },
    {
     "name": "stdout",
     "output_type": "stream",
     "text": [
      "El error para pima es: 42.89%\n"
     ]
    }
   ],
   "source": [
    "dataset = Datos('ConjuntosDatosP2/pima-indians-diabetes.csv')\n",
    "rl = RegresionLogistica()\n",
    "n_epocas = 10\n",
    "gradiente = 1\n",
    "erroresPima_1_10_noNormalizado = rl.dameError(dataset,n_epocas,gradiente,False)\n",
    "print(f'El error para pima es: {erroresPima_1_10_noNormalizado:.2f}%')"
   ]
  },
  {
   "cell_type": "markdown",
   "id": "4467584f",
   "metadata": {},
   "source": [
    "##### Normalizando los valores del dataset"
   ]
  },
  {
   "cell_type": "code",
   "execution_count": 6,
   "id": "817ba30b",
   "metadata": {},
   "outputs": [
    {
     "name": "stdout",
     "output_type": "stream",
     "text": [
      "El error para pima es: 29.37%\n"
     ]
    }
   ],
   "source": [
    "dataset = Datos('ConjuntosDatosP2/pima-indians-diabetes.csv')\n",
    "rl_normalizado = RegresionLogistica()\n",
    "n_epocas = 10\n",
    "gradiente = 1\n",
    "erroresPima_1_10_normalizado = rl.dameError(dataset,n_epocas,gradiente,True)\n",
    "print(f'El error para pima es: {erroresPima_1_10_normalizado:.2f}%')"
   ]
  },
  {
   "cell_type": "markdown",
   "id": "cecba930",
   "metadata": {},
   "source": [
    "##### Gradiente = 0.5, N_Epocas = 10"
   ]
  },
  {
   "cell_type": "code",
   "execution_count": 7,
   "id": "e33d21c1",
   "metadata": {},
   "outputs": [
    {
     "name": "stderr",
     "output_type": "stream",
     "text": [
      "C:\\Users\\ruben\\Desktop\\FAA\\PRACTICAS\\faa_github\\Practica_3\\RegresionLogistica.py:25: RuntimeWarning: overflow encountered in exp\n",
      "  ret =  1/(1 + np.exp(-x))\n"
     ]
    },
    {
     "name": "stdout",
     "output_type": "stream",
     "text": [
      "El error para pima es: 42.86%\n"
     ]
    }
   ],
   "source": [
    "dataset = Datos('ConjuntosDatosP2/pima-indians-diabetes.csv')\n",
    "rl_2 = RegresionLogistica()\n",
    "n_epocas = 10\n",
    "gradiente = 0.5\n",
    "erroresPima_05_10_Nonormalizado = rl_2.dameError(dataset,n_epocas,gradiente,False)\n",
    "print(f'El error para pima es: {erroresPima_05_10_Nonormalizado:.2f}%')"
   ]
  },
  {
   "cell_type": "markdown",
   "id": "85ccebcb",
   "metadata": {},
   "source": [
    "##### Normalizando los valores del dataset"
   ]
  },
  {
   "cell_type": "code",
   "execution_count": 8,
   "id": "bec44b75",
   "metadata": {},
   "outputs": [
    {
     "name": "stdout",
     "output_type": "stream",
     "text": [
      "El error para pima es: 28.40%\n"
     ]
    }
   ],
   "source": [
    "dataset = Datos('ConjuntosDatosP2/pima-indians-diabetes.csv')\n",
    "rl_2_normalizado = RegresionLogistica()\n",
    "n_epocas = 10\n",
    "gradiente = 0.5\n",
    "erroresPima_05_10_normalizado = rl_2_normalizado.dameError(dataset,n_epocas,gradiente,True)\n",
    "print(f'El error para pima es: {erroresPima_05_10_normalizado:.2f}%')"
   ]
  },
  {
   "cell_type": "markdown",
   "id": "5caf52e5",
   "metadata": {},
   "source": [
    "##### Gradiente = 0.1, N_Epocas = 10"
   ]
  },
  {
   "cell_type": "code",
   "execution_count": 10,
   "id": "fcc75cbf",
   "metadata": {},
   "outputs": [
    {
     "name": "stderr",
     "output_type": "stream",
     "text": [
      "C:\\Users\\ruben\\Desktop\\FAA\\PRACTICAS\\faa_github\\Practica_3\\RegresionLogistica.py:25: RuntimeWarning: overflow encountered in exp\n",
      "  ret =  1/(1 + np.exp(-x))\n"
     ]
    },
    {
     "name": "stdout",
     "output_type": "stream",
     "text": [
      "El error para pima es: 42.45%\n"
     ]
    }
   ],
   "source": [
    "dataset = Datos('ConjuntosDatosP2/pima-indians-diabetes.csv')\n",
    "rl_3 = RegresionLogistica()\n",
    "n_epocas = 10\n",
    "gradiente = 0.1\n",
    "erroresPima_01_10_Nonormalizado = rl_3.dameError(dataset,n_epocas,gradiente,False)\n",
    "print(f'El error para pima es: {erroresPima_01_10_Nonormalizado:.2f}%')"
   ]
  },
  {
   "cell_type": "code",
   "execution_count": 12,
   "id": "8788f9c3",
   "metadata": {},
   "outputs": [
    {
     "name": "stdout",
     "output_type": "stream",
     "text": [
      "El error para pima es: 24.08%\n"
     ]
    }
   ],
   "source": [
    "dataset = Datos('ConjuntosDatosP2/pima-indians-diabetes.csv')\n",
    "rl_3_normalizado = RegresionLogistica()\n",
    "n_epocas = 10\n",
    "gradiente = 0.1\n",
    "erroresPima_01_10_normalizado = rl_3_normalizado.dameError(dataset,n_epocas,gradiente,True)\n",
    "print(f'El error para pima es: {erroresPima_01_10_normalizado:.2f}%')"
   ]
  },
  {
   "cell_type": "markdown",
   "id": "55334648",
   "metadata": {},
   "source": [
    "##### Gradiente = 0.1, N_Epocas = 5\n"
   ]
  },
  {
   "cell_type": "code",
   "execution_count": 21,
   "id": "03859c39",
   "metadata": {},
   "outputs": [
    {
     "name": "stderr",
     "output_type": "stream",
     "text": [
      "C:\\Users\\ruben\\Desktop\\FAA\\PRACTICAS\\faa_github\\Practica_3\\RegresionLogistica.py:25: RuntimeWarning: overflow encountered in exp\n",
      "  ret =  1/(1 + np.exp(-x))\n"
     ]
    },
    {
     "name": "stdout",
     "output_type": "stream",
     "text": [
      "El error para pima es: 43.18%\n"
     ]
    }
   ],
   "source": [
    "dataset = Datos('ConjuntosDatosP2/pima-indians-diabetes.csv')\n",
    "rl_4 = RegresionLogistica()\n",
    "n_epocas = 5\n",
    "gradiente = 0.1\n",
    "erroresPima_01_5_Nonormalizado = rl_4.dameError(dataset,n_epocas,gradiente,False)\n",
    "print(f'El error para pima es: {erroresPima_01_5_Nonormalizado:.2f}%')"
   ]
  },
  {
   "cell_type": "code",
   "execution_count": 22,
   "id": "f42780fe",
   "metadata": {},
   "outputs": [
    {
     "name": "stdout",
     "output_type": "stream",
     "text": [
      "El error para pima es: 24.65%\n"
     ]
    }
   ],
   "source": [
    "dataset = Datos('ConjuntosDatosP2/pima-indians-diabetes.csv')\n",
    "rl_4_normalizado = RegresionLogistica()\n",
    "n_epocas = 5\n",
    "gradiente = 0.1\n",
    "erroresPima_01_5_normalizado = rl_4_normalizado.dameError(dataset,n_epocas,gradiente,True)\n",
    "print(f'El error para pima es: {erroresPima_01_5_normalizado:.2f}%')"
   ]
  },
  {
   "cell_type": "markdown",
   "id": "bc944327",
   "metadata": {},
   "source": [
    "A la vista de los resultados podemos concluir que con un menor gradiente, los resultados de los datasets normalizados mejoran en algo su predicción. Los datasets que no han sido normalizados no se ven gravemente afectados. ¿Por qué ?"
   ]
  },
  {
   "cell_type": "markdown",
   "id": "063f7fff",
   "metadata": {},
   "source": [
    "### WDBC"
   ]
  },
  {
   "cell_type": "markdown",
   "id": "4da95032",
   "metadata": {},
   "source": [
    "##### Gradiente = 1, N_Epocas = 10"
   ]
  },
  {
   "cell_type": "code",
   "execution_count": null,
   "id": "1a959301",
   "metadata": {},
   "outputs": [],
   "source": [
    "dataset = Datos('ConjuntosDatosP2/wdbc.csv')\n",
    "rl_w_1 = RegresionLogistica()\n",
    "n_epocas = 10\n",
    "gradiente = 1\n",
    "erroresW_1_10_noNormalizado = rl_w_1.dameError(dataset,n_epocas,gradiente,False)\n",
    "print(f'El error para wdbc es: {erroresW_1_10_noNormalizado:.2f}%')"
   ]
  },
  {
   "cell_type": "markdown",
   "id": "2cea2332",
   "metadata": {},
   "source": [
    "##### Normalizando los valores del dataset"
   ]
  },
  {
   "cell_type": "code",
   "execution_count": 38,
   "id": "5ee70fec",
   "metadata": {},
   "outputs": [
    {
     "name": "stdout",
     "output_type": "stream",
     "text": [
      "El error para wdbc es: 3.81%\n"
     ]
    }
   ],
   "source": [
    "dataset = Datos('ConjuntosDatosP2/wdbc.csv')\n",
    "rl_normalizado_w = RegresionLogistica()\n",
    "n_epocas = 10\n",
    "gradiente = 1\n",
    "erroresW_1_10_normalizado = rl_normalizado_w.dameError(dataset,n_epocas,gradiente,True)\n",
    "print(f'El error para wdbc es: {erroresW_1_10_normalizado:.2f}%')"
   ]
  },
  {
   "cell_type": "markdown",
   "id": "8bd266ed",
   "metadata": {},
   "source": [
    "##### Gradiente = 0.5, N_Epocas = 10"
   ]
  },
  {
   "cell_type": "code",
   "execution_count": 39,
   "id": "58fa3ec2",
   "metadata": {},
   "outputs": [
    {
     "name": "stderr",
     "output_type": "stream",
     "text": [
      "C:\\Users\\ruben\\Desktop\\FAA\\PRACTICAS\\faa_github\\Practica_3\\RegresionLogistica.py:25: RuntimeWarning: overflow encountered in exp\n",
      "  ret =  1/(1 + np.exp(-x))\n"
     ]
    },
    {
     "name": "stdout",
     "output_type": "stream",
     "text": [
      "El error para wdbc es: 15.79%\n"
     ]
    }
   ],
   "source": [
    "dataset = Datos('ConjuntosDatosP2/wdbc.csv')\n",
    "rl_2_w = RegresionLogistica()\n",
    "n_epocas = 10\n",
    "gradiente = 0.5\n",
    "erroresW_05_10_Nonormalizado = rl_2_w.dameError(dataset,n_epocas,gradiente,False)\n",
    "print(f'El error para wdbc es: {erroresW_05_10_Nonormalizado:.2f}%')"
   ]
  },
  {
   "cell_type": "markdown",
   "id": "7fa9797d",
   "metadata": {},
   "source": [
    "##### Normalizando los valores del dataset"
   ]
  },
  {
   "cell_type": "code",
   "execution_count": 40,
   "id": "4514dff2",
   "metadata": {},
   "outputs": [
    {
     "name": "stdout",
     "output_type": "stream",
     "text": [
      "El error para wdbc es: 3.59%\n"
     ]
    }
   ],
   "source": [
    "dataset = Datos('ConjuntosDatosP2/wdbc.csv')\n",
    "rl_2_normalizado_w = RegresionLogistica()\n",
    "n_epocas = 10\n",
    "gradiente = 0.5\n",
    "erroresW_05_10_normalizado = rl_2_normalizado_w.dameError(dataset,n_epocas,gradiente,True)\n",
    "print(f'El error para wdbc es: {erroresW_05_10_normalizado:.2f}%')"
   ]
  },
  {
   "cell_type": "markdown",
   "id": "021f88b9",
   "metadata": {},
   "source": [
    "##### Gradiente = 0.1, N_Epocas = 10"
   ]
  },
  {
   "cell_type": "code",
   "execution_count": 41,
   "id": "84489e8d",
   "metadata": {},
   "outputs": [
    {
     "name": "stderr",
     "output_type": "stream",
     "text": [
      "C:\\Users\\ruben\\Desktop\\FAA\\PRACTICAS\\faa_github\\Practica_3\\RegresionLogistica.py:25: RuntimeWarning: overflow encountered in exp\n",
      "  ret =  1/(1 + np.exp(-x))\n"
     ]
    },
    {
     "name": "stdout",
     "output_type": "stream",
     "text": [
      "El error para wdbc es: 15.83%\n"
     ]
    }
   ],
   "source": [
    "dataset = Datos('ConjuntosDatosP2/wdbc.csv')\n",
    "rl_3_w = RegresionLogistica()\n",
    "n_epocas = 10\n",
    "gradiente = 0.1\n",
    "erroresW_01_10_Nonormalizado = rl_3_w.dameError(dataset,n_epocas,gradiente,False)\n",
    "print(f'El error para wdbc es: {erroresW_01_10_Nonormalizado:.2f}%')"
   ]
  },
  {
   "cell_type": "code",
   "execution_count": null,
   "id": "4f8ac363",
   "metadata": {},
   "outputs": [],
   "source": [
    "dataset = Datos('ConjuntosDatosP2/wdbc.csv')\n",
    "rl_3_normalizado_w = RegresionLogistica()\n",
    "n_epocas = 10\n",
    "gradiente = 0.1\n",
    "erroresW_01_10_normalizado = rl_3_normalizado_w.dameError(dataset,n_epocas,gradiente,True)\n",
    "print(f'El error para wdbc es: {erroresW_01_10_normalizado:.2f}%')"
   ]
  },
  {
   "cell_type": "markdown",
   "id": "adac1228",
   "metadata": {},
   "source": [
    "##### Gradiente = 0.1, N_Epocas = 5"
   ]
  },
  {
   "cell_type": "code",
   "execution_count": null,
   "id": "d5d5cff4",
   "metadata": {
    "scrolled": true
   },
   "outputs": [],
   "source": [
    "dataset = Datos('ConjuntosDatosP2/wdbc.csv')\n",
    "rl_4_w = RegresionLogistica()\n",
    "n_epocas = 5\n",
    "gradiente = 0.1\n",
    "erroresW_01_5_Nonormalizado = rl_4_w.dameError(dataset,n_epocas,gradiente,False)\n",
    "print(f'El error para wdbc es: {erroresW_01_5_Nonormalizado:.2f}%')"
   ]
  },
  {
   "cell_type": "markdown",
   "id": "65479429",
   "metadata": {},
   "source": [
    "##### Normalizando los valores del dataset"
   ]
  },
  {
   "cell_type": "code",
   "execution_count": null,
   "id": "84011f4a",
   "metadata": {},
   "outputs": [],
   "source": [
    "dataset = Datos('ConjuntosDatosP2/wdbc.csv')\n",
    "rl_4_normalizado_w = RegresionLogistica()\n",
    "n_epocas = 5\n",
    "gradiente = 0.1\n",
    "erroresW_01_5_normalizado = rl_4_normalizado_w.dameError(dataset,n_epocas,gradiente,True)\n",
    "print(f'El error para wdbc es: {erroresW_01_5_normalizado:.2f}%')"
   ]
  },
  {
   "cell_type": "markdown",
   "id": "ad463d98",
   "metadata": {},
   "source": [
    "Observamos que ambos datasets se ven muy afectados en función de si normalizamos los datos o no. Muestran bastante mejor resultado si estos han sido normalizados. Variando los valores del gradiente y de n_epocas vemos que estos valores también van variando, pero no demasiado. Esto se debe, a que, internamente la funcion dameError ejecuta un numero elevado de veces el algoritmo y finalmente calcula la media del error, por lo que los resultados están bastante estabilizados y normalizados. Por este motivo no se nota en gran medida las variaciones de estos atributos."
   ]
  },
  {
   "cell_type": "markdown",
   "id": "ef7f65d0",
   "metadata": {},
   "source": [
    "## Apartado 2: Resultados de la clasificacion mediante Scikit-Learn y comparacion con implementación propia"
   ]
  },
  {
   "cell_type": "code",
   "execution_count": null,
   "id": "750e2d2c",
   "metadata": {},
   "outputs": [],
   "source": [
    "from sklearn.datasets import load_iris\n",
    "from sklearn.linear_model import LogisticRegression\n",
    "import pandas as pd\n",
    "import numpy as np\n",
    "from sklearn.linear_model import SGDClassifier\n",
    "from sklearn.preprocessing import StandardScaler\n",
    "from sklearn.pipeline import make_pipeline\n",
    "from sklearn.model_selection import train_test_split\n",
    "from sklearn.metrics import accuracy_score\n",
    "from RegresionLogisticaSK import * "
   ]
  },
  {
   "cell_type": "code",
   "execution_count": null,
   "id": "fd2b79d9",
   "metadata": {},
   "outputs": [],
   "source": []
  },
  {
   "cell_type": "code",
   "execution_count": null,
   "id": "f78b5b8b",
   "metadata": {},
   "outputs": [],
   "source": []
  },
  {
   "cell_type": "code",
   "execution_count": null,
   "id": "a7470194",
   "metadata": {},
   "outputs": [],
   "source": []
  },
  {
   "cell_type": "code",
   "execution_count": null,
   "id": "c858b7ce",
   "metadata": {},
   "outputs": [],
   "source": []
  },
  {
   "cell_type": "code",
   "execution_count": null,
   "id": "4e11fdb9",
   "metadata": {},
   "outputs": [],
   "source": []
  },
  {
   "cell_type": "code",
   "execution_count": null,
   "id": "3caa9725",
   "metadata": {},
   "outputs": [],
   "source": []
  }
 ],
 "metadata": {
  "kernelspec": {
   "display_name": "Python 3 (ipykernel)",
   "language": "python",
   "name": "python3"
  },
  "language_info": {
   "codemirror_mode": {
    "name": "ipython",
    "version": 3
   },
   "file_extension": ".py",
   "mimetype": "text/x-python",
   "name": "python",
   "nbconvert_exporter": "python",
   "pygments_lexer": "ipython3",
   "version": "3.9.12"
  }
 },
 "nbformat": 4,
 "nbformat_minor": 5
}
