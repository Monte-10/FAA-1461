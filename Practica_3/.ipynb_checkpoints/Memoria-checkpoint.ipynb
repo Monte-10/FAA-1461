{
 "cells": [
  {
   "cell_type": "markdown",
   "id": "782808ee",
   "metadata": {},
   "source": [
    "## Apartado 1: Resultados de la clasificacion mediante Regresión Logística"
   ]
  },
  {
   "cell_type": "code",
   "execution_count": 3,
   "id": "0a908069",
   "metadata": {},
   "outputs": [],
   "source": [
    "from Clasificador import Clasificador\n",
    "from Datos import Datos\n",
    "import warnings\n",
    "warnings.filterwarnings('ignore')\n",
    "import numpy as np\n",
    "import random\n",
    "import math\n",
    "import EstrategiaParticionado as EstrategiaParticionado\n",
    "from ClasificadorKNN import ClasificadorKNN\n",
    "from RegresionLogistica import RegresionLogistica"
   ]
  },
  {
   "cell_type": "markdown",
   "id": "5616315b",
   "metadata": {},
   "source": [
    "Como en prácticas anteriores, vamos a ir viendo la evolución de los resultados en funcion de los parametros de entrada que introduzcamos y los dataset con los que hagamos la clasificacion. Para esta práctica en concreto vamos a variar el valor del gradiente, el valor del numero de epocas. Para el particionado de los datos utilizaremos una estrategia de validacion simple y reservaremos un 25% del dataset para la parte de test. Lo que supone entrenar el algoritmo con el 75% del dataset. \n",
    "\n",
    "Respecto al código, como se comentaba en el enunciado, la funcion math.exp nos da un error en tiempo de ejecución, que a pesar de estar capturada sigue saltando el aviso. No influye para el correcto funcionamiento del algoritmo."
   ]
  },
  {
   "cell_type": "markdown",
   "id": "b16065e1",
   "metadata": {},
   "source": [
    "### Pima-Indians-Diabetes"
   ]
  },
  {
   "cell_type": "markdown",
   "id": "bc19c4f5",
   "metadata": {},
   "source": [
    "##### Gradiente = 1, N_Epocas = 10"
   ]
  },
  {
   "cell_type": "code",
   "execution_count": 7,
   "id": "2f7715d7",
   "metadata": {
    "scrolled": true
   },
   "outputs": [
    {
     "name": "stdout",
     "output_type": "stream",
     "text": [
      "El error para pima es: 43.41%\n"
     ]
    }
   ],
   "source": [
    "dataset = Datos('ConjuntosDatosP2/pima-indians-diabetes.csv')\n",
    "rl = RegresionLogistica()\n",
    "n_epocas = 10\n",
    "gradiente = 1\n",
    "erroresPima_1_10_noNormalizado = rl.dameError(dataset,n_epocas,gradiente,False)\n",
    "print(f'El error para pima es: {erroresPima_1_10_noNormalizado:.2f}%')"
   ]
  },
  {
   "cell_type": "markdown",
   "id": "4467584f",
   "metadata": {},
   "source": [
    "##### Normalizando los valores del dataset"
   ]
  },
  {
   "cell_type": "code",
   "execution_count": 6,
   "id": "817ba30b",
   "metadata": {},
   "outputs": [
    {
     "name": "stdout",
     "output_type": "stream",
     "text": [
      "El error para pima es: 29.37%\n"
     ]
    }
   ],
   "source": [
    "dataset = Datos('ConjuntosDatosP2/pima-indians-diabetes.csv')\n",
    "rl_normalizado = RegresionLogistica()\n",
    "n_epocas = 10\n",
    "gradiente = 1\n",
    "erroresPima_1_10_normalizado = rl.dameError(dataset,n_epocas,gradiente,True)\n",
    "print(f'El error para pima es: {erroresPima_1_10_normalizado:.2f}%')"
   ]
  },
  {
   "cell_type": "markdown",
   "id": "cecba930",
   "metadata": {},
   "source": [
    "##### Gradiente = 0.5, N_Epocas = 10"
   ]
  },
  {
   "cell_type": "code",
   "execution_count": 7,
   "id": "e33d21c1",
   "metadata": {},
   "outputs": [
    {
     "name": "stderr",
     "output_type": "stream",
     "text": [
      "C:\\Users\\ruben\\Desktop\\FAA\\PRACTICAS\\faa_github\\Practica_3\\RegresionLogistica.py:25: RuntimeWarning: overflow encountered in exp\n",
      "  ret =  1/(1 + np.exp(-x))\n"
     ]
    },
    {
     "name": "stdout",
     "output_type": "stream",
     "text": [
      "El error para pima es: 42.86%\n"
     ]
    }
   ],
   "source": [
    "dataset = Datos('ConjuntosDatosP2/pima-indians-diabetes.csv')\n",
    "rl_2 = RegresionLogistica()\n",
    "n_epocas = 10\n",
    "gradiente = 0.5\n",
    "erroresPima_05_10_Nonormalizado = rl_2.dameError(dataset,n_epocas,gradiente,False)\n",
    "print(f'El error para pima es: {erroresPima_05_10_Nonormalizado:.2f}%')"
   ]
  },
  {
   "cell_type": "markdown",
   "id": "0af78d34",
   "metadata": {},
   "source": [
    "##### Normalizando los valores del dataset"
   ]
  },
  {
   "cell_type": "code",
   "execution_count": 8,
   "id": "bec44b75",
   "metadata": {},
   "outputs": [
    {
     "name": "stdout",
     "output_type": "stream",
     "text": [
      "El error para pima es: 28.40%\n"
     ]
    }
   ],
   "source": [
    "dataset = Datos('ConjuntosDatosP2/pima-indians-diabetes.csv')\n",
    "rl_2_normalizado = RegresionLogistica()\n",
    "n_epocas = 10\n",
    "gradiente = 0.5\n",
    "erroresPima_05_10_normalizado = rl_2_normalizado.dameError(dataset,n_epocas,gradiente,True)\n",
    "print(f'El error para pima es: {erroresPima_05_10_normalizado:.2f}%')"
   ]
  },
  {
   "cell_type": "markdown",
   "id": "4ec5d71a",
   "metadata": {},
   "source": [
    "##### Gradiente = 0.1, N_Epocas = 10"
   ]
  },
  {
   "cell_type": "code",
   "execution_count": 10,
   "id": "c6780aff",
   "metadata": {},
   "outputs": [
    {
     "name": "stderr",
     "output_type": "stream",
     "text": [
      "C:\\Users\\ruben\\Desktop\\FAA\\PRACTICAS\\faa_github\\Practica_3\\RegresionLogistica.py:25: RuntimeWarning: overflow encountered in exp\n",
      "  ret =  1/(1 + np.exp(-x))\n"
     ]
    },
    {
     "name": "stdout",
     "output_type": "stream",
     "text": [
      "El error para pima es: 42.45%\n"
     ]
    }
   ],
   "source": [
    "dataset = Datos('ConjuntosDatosP2/pima-indians-diabetes.csv')\n",
    "rl_3 = RegresionLogistica()\n",
    "n_epocas = 10\n",
    "gradiente = 0.1\n",
    "erroresPima_01_10_Nonormalizado = rl_3.dameError(dataset,n_epocas,gradiente,False)\n",
    "print(f'El error para pima es: {erroresPima_01_10_Nonormalizado:.2f}%')"
   ]
  },
  {
   "cell_type": "code",
   "execution_count": 12,
   "id": "bb9c0bb6",
   "metadata": {},
   "outputs": [
    {
     "name": "stdout",
     "output_type": "stream",
     "text": [
      "El error para pima es: 24.08%\n"
     ]
    }
   ],
   "source": [
    "dataset = Datos('ConjuntosDatosP2/pima-indians-diabetes.csv')\n",
    "rl_3_normalizado = RegresionLogistica()\n",
    "n_epocas = 10\n",
    "gradiente = 0.1\n",
    "erroresPima_01_10_normalizado = rl_3_normalizado.dameError(dataset,n_epocas,gradiente,True)\n",
    "print(f'El error para pima es: {erroresPima_01_10_normalizado:.2f}%')"
   ]
  },
  {
   "cell_type": "markdown",
   "id": "3ec5475b",
   "metadata": {},
   "source": [
    "##### Gradiente = 0.1, N_Epocas = 5\n"
   ]
  },
  {
   "cell_type": "code",
   "execution_count": 21,
   "id": "df7c1477",
   "metadata": {},
   "outputs": [
    {
     "name": "stderr",
     "output_type": "stream",
     "text": [
      "C:\\Users\\ruben\\Desktop\\FAA\\PRACTICAS\\faa_github\\Practica_3\\RegresionLogistica.py:25: RuntimeWarning: overflow encountered in exp\n",
      "  ret =  1/(1 + np.exp(-x))\n"
     ]
    },
    {
     "name": "stdout",
     "output_type": "stream",
     "text": [
      "El error para pima es: 43.18%\n"
     ]
    }
   ],
   "source": [
    "dataset = Datos('ConjuntosDatosP2/pima-indians-diabetes.csv')\n",
    "rl_4 = RegresionLogistica()\n",
    "n_epocas = 5\n",
    "gradiente = 0.1\n",
    "erroresPima_01_5_Nonormalizado = rl_4.dameError(dataset,n_epocas,gradiente,False)\n",
    "print(f'El error para pima es: {erroresPima_01_5_Nonormalizado:.2f}%')"
   ]
  },
  {
   "cell_type": "code",
   "execution_count": 22,
   "id": "13228e20",
   "metadata": {},
   "outputs": [
    {
     "name": "stdout",
     "output_type": "stream",
     "text": [
      "El error para pima es: 24.65%\n"
     ]
    }
   ],
   "source": [
    "dataset = Datos('ConjuntosDatosP2/pima-indians-diabetes.csv')\n",
    "rl_4_normalizado = RegresionLogistica()\n",
    "n_epocas = 5\n",
    "gradiente = 0.1\n",
    "erroresPima_01_5_normalizado = rl_4_normalizado.dameError(dataset,n_epocas,gradiente,True)\n",
    "print(f'El error para pima es: {erroresPima_01_5_normalizado:.2f}%')"
   ]
  },
  {
   "cell_type": "markdown",
   "id": "67ee9829",
   "metadata": {},
   "source": [
    "A la vista de los resultados podemos concluir que con un menor gradiente, los resultados de los datasets normalizados mejoran en algo su predicción. Los datasets que no han sido normalizados no se ven gravemente afectados. ¿Por qué ?"
   ]
  },
  {
   "cell_type": "markdown",
   "id": "e175d425",
   "metadata": {},
   "source": [
    "### WDBC"
   ]
  },
  {
   "cell_type": "markdown",
   "id": "73d2c88a",
   "metadata": {},
   "source": [
    "##### Gradiente = 1, N_Epocas = 10"
   ]
  },
  {
   "cell_type": "code",
   "execution_count": 45,
   "id": "b8cbd6a5",
   "metadata": {},
   "outputs": [
    {
     "name": "stderr",
     "output_type": "stream",
     "text": [
      "C:\\Users\\ruben\\Desktop\\FAA\\PRACTICAS\\faa_github\\Practica_3\\RegresionLogistica.py:25: RuntimeWarning: overflow encountered in exp\n",
      "  ret =  1/(1 + np.exp(-x))\n"
     ]
    },
    {
     "name": "stdout",
     "output_type": "stream",
     "text": [
      "El error para wdbc es: 16.81%\n"
     ]
    }
   ],
   "source": [
    "dataset = Datos('ConjuntosDatosP2/wdbc.csv')\n",
    "rl_w_1 = RegresionLogistica()\n",
    "n_epocas = 10\n",
    "gradiente = 1\n",
    "erroresW_1_10_noNormalizado = rl_w_1.dameError(dataset,n_epocas,gradiente,False)\n",
    "print(f'El error para wdbc es: {erroresW_1_10_noNormalizado:.2f}%')"
   ]
  },
  {
   "cell_type": "markdown",
   "id": "9642b0e4",
   "metadata": {},
   "source": [
    "##### Normalizando los valores del dataset"
   ]
  },
  {
   "cell_type": "code",
   "execution_count": 38,
   "id": "64a5e262",
   "metadata": {},
   "outputs": [
    {
     "name": "stdout",
     "output_type": "stream",
     "text": [
      "El error para wdbc es: 3.81%\n"
     ]
    }
   ],
   "source": [
    "dataset = Datos('ConjuntosDatosP2/wdbc.csv')\n",
    "rl_normalizado_w = RegresionLogistica()\n",
    "n_epocas = 10\n",
    "gradiente = 1\n",
    "erroresW_1_10_normalizado = rl_normalizado_w.dameError(dataset,n_epocas,gradiente,True)\n",
    "print(f'El error para wdbc es: {erroresW_1_10_normalizado:.2f}%')"
   ]
  },
  {
   "cell_type": "markdown",
   "id": "c695562f",
   "metadata": {},
   "source": [
    "##### Gradiente = 0.5, N_Epocas = 10"
   ]
  },
  {
   "cell_type": "code",
   "execution_count": 39,
   "id": "99bb91c1",
   "metadata": {},
   "outputs": [
    {
     "name": "stderr",
     "output_type": "stream",
     "text": [
      "C:\\Users\\ruben\\Desktop\\FAA\\PRACTICAS\\faa_github\\Practica_3\\RegresionLogistica.py:25: RuntimeWarning: overflow encountered in exp\n",
      "  ret =  1/(1 + np.exp(-x))\n"
     ]
    },
    {
     "name": "stdout",
     "output_type": "stream",
     "text": [
      "El error para wdbc es: 15.79%\n"
     ]
    }
   ],
   "source": [
    "dataset = Datos('ConjuntosDatosP2/wdbc.csv')\n",
    "rl_2_w = RegresionLogistica()\n",
    "n_epocas = 10\n",
    "gradiente = 0.5\n",
    "erroresW_05_10_Nonormalizado = rl_2_w.dameError(dataset,n_epocas,gradiente,False)\n",
    "print(f'El error para wdbc es: {erroresW_05_10_Nonormalizado:.2f}%')"
   ]
  },
  {
   "cell_type": "markdown",
   "id": "7fa9797d",
   "metadata": {},
   "source": [
    "##### Normalizando los valores del dataset"
   ]
  },
  {
   "cell_type": "code",
   "execution_count": 40,
   "id": "7a1505cc",
   "metadata": {},
   "outputs": [
    {
     "name": "stdout",
     "output_type": "stream",
     "text": [
      "El error para wdbc es: 3.59%\n"
     ]
    }
   ],
   "source": [
    "dataset = Datos('ConjuntosDatosP2/wdbc.csv')\n",
    "rl_2_normalizado_w = RegresionLogistica()\n",
    "n_epocas = 10\n",
    "gradiente = 0.5\n",
    "erroresW_05_10_normalizado = rl_2_normalizado_w.dameError(dataset,n_epocas,gradiente,True)\n",
    "print(f'El error para wdbc es: {erroresW_05_10_normalizado:.2f}%')"
   ]
  },
  {
   "cell_type": "markdown",
   "id": "021f88b9",
   "metadata": {},
   "source": [
    "##### Gradiente = 0.1, N_Epocas = 10"
   ]
  },
  {
   "cell_type": "code",
   "execution_count": 41,
   "id": "84489e8d",
   "metadata": {},
   "outputs": [
    {
     "name": "stderr",
     "output_type": "stream",
     "text": [
      "C:\\Users\\ruben\\Desktop\\FAA\\PRACTICAS\\faa_github\\Practica_3\\RegresionLogistica.py:25: RuntimeWarning: overflow encountered in exp\n",
      "  ret =  1/(1 + np.exp(-x))\n"
     ]
    },
    {
     "name": "stdout",
     "output_type": "stream",
     "text": [
      "El error para wdbc es: 15.83%\n"
     ]
    }
   ],
   "source": [
    "dataset = Datos('ConjuntosDatosP2/wdbc.csv')\n",
    "rl_3_w = RegresionLogistica()\n",
    "n_epocas = 10\n",
    "gradiente = 0.1\n",
    "erroresW_01_10_Nonormalizado = rl_3_w.dameError(dataset,n_epocas,gradiente,False)\n",
    "print(f'El error para wdbc es: {erroresW_01_10_Nonormalizado:.2f}%')"
   ]
  },
  {
   "cell_type": "code",
   "execution_count": 42,
   "id": "4f8ac363",
   "metadata": {},
   "outputs": [
    {
     "name": "stdout",
     "output_type": "stream",
     "text": [
      "El error para wdbc es: 2.55%\n"
     ]
    }
   ],
   "source": [
    "dataset = Datos('ConjuntosDatosP2/wdbc.csv')\n",
    "rl_3_normalizado_w = RegresionLogistica()\n",
    "n_epocas = 10\n",
    "gradiente = 0.1\n",
    "erroresW_01_10_normalizado = rl_3_normalizado_w.dameError(dataset,n_epocas,gradiente,True)\n",
    "print(f'El error para wdbc es: {erroresW_01_10_normalizado:.2f}%')"
   ]
  },
  {
   "cell_type": "markdown",
   "id": "adac1228",
   "metadata": {},
   "source": [
    "##### Gradiente = 0.1, N_Epocas = 5"
   ]
  },
  {
   "cell_type": "code",
   "execution_count": 43,
   "id": "d5d5cff4",
   "metadata": {
    "scrolled": true
   },
   "outputs": [
    {
     "name": "stderr",
     "output_type": "stream",
     "text": [
      "C:\\Users\\ruben\\Desktop\\FAA\\PRACTICAS\\faa_github\\Practica_3\\RegresionLogistica.py:25: RuntimeWarning: overflow encountered in exp\n",
      "  ret =  1/(1 + np.exp(-x))\n"
     ]
    },
    {
     "name": "stdout",
     "output_type": "stream",
     "text": [
      "El error para wdbc es: 18.80%\n"
     ]
    }
   ],
   "source": [
    "dataset = Datos('ConjuntosDatosP2/wdbc.csv')\n",
    "rl_4_w = RegresionLogistica()\n",
    "n_epocas = 5\n",
    "gradiente = 0.1\n",
    "erroresW_01_5_Nonormalizado = rl_4_w.dameError(dataset,n_epocas,gradiente,False)\n",
    "print(f'El error para wdbc es: {erroresW_01_5_Nonormalizado:.2f}%')"
   ]
  },
  {
   "cell_type": "markdown",
   "id": "51cc6878",
   "metadata": {},
   "source": [
    "##### Normalizando los valores del dataset"
   ]
  },
  {
   "cell_type": "code",
   "execution_count": 44,
   "id": "84011f4a",
   "metadata": {},
   "outputs": [
    {
     "name": "stdout",
     "output_type": "stream",
     "text": [
      "El error para wdbc es: 2.66%\n"
     ]
    }
   ],
   "source": [
    "dataset = Datos('ConjuntosDatosP2/wdbc.csv')\n",
    "rl_4_normalizado_w = RegresionLogistica()\n",
    "n_epocas = 5\n",
    "gradiente = 0.1\n",
    "erroresW_01_5_normalizado = rl_4_normalizado_w.dameError(dataset,n_epocas,gradiente,True)\n",
    "print(f'El error para wdbc es: {erroresW_01_5_normalizado:.2f}%')"
   ]
  },
  {
   "cell_type": "markdown",
   "id": "f8bd8f4f",
   "metadata": {},
   "source": [
    "Observamos que ambos datasets se ven muy afectados en función de si normalizamos los datos o no. Muestran bastante mejor resultado si estos han sido normalizados. Variando los valores del gradiente y de n_epocas vemos que estos valores también van variando, pero no demasiado. Esto se debe, a que, internamente la funcion dameError ejecuta un numero elevado de veces el algoritmo y finalmente calcula la media del error, por lo que los resultados están bastante estabilizados y normalizados. Por este motivo no se nota en gran medida las variaciones de estos atributos."
   ]
  },
  {
   "cell_type": "markdown",
   "id": "76586b68",
   "metadata": {},
   "source": [
    "## Apartado 2: Resultados de la clasificacion mediante Scikit-Learn y comparacion con implementación propia"
   ]
  },
  {
   "cell_type": "code",
   "execution_count": 1,
   "id": "5ed13880",
   "metadata": {},
   "outputs": [],
   "source": [
    "from sklearn.datasets import load_iris\n",
    "from sklearn.linear_model import LogisticRegression\n",
    "import pandas as pd\n",
    "import numpy as np\n",
    "from sklearn.linear_model import SGDClassifier\n",
    "from sklearn.preprocessing import StandardScaler\n",
    "from sklearn.pipeline import make_pipeline\n",
    "from sklearn.model_selection import train_test_split\n",
    "from sklearn.metrics import accuracy_score\n",
    "from RegresionLogisticaSK import * \n"
   ]
  },
  {
   "cell_type": "markdown",
   "id": "6548217c",
   "metadata": {},
   "source": [
    "### Resultados gráficos:"
   ]
  },
  {
   "cell_type": "markdown",
   "id": "b5961a15",
   "metadata": {},
   "source": [
    "Estos nos van a permitir a tener una visión global de cómo funciona el algoritmo contra nuestros dataset, y de qué cambios le aportan mejora. "
   ]
  },
  {
   "cell_type": "code",
   "execution_count": 8,
   "id": "84a4e3ec",
   "metadata": {
    "scrolled": true
   },
   "outputs": [
    {
     "data": {
      "image/png": "[encoded data removed]",
      "text/plain": [
       "<Figure size 432x288 with 1 Axes>"
      ]
     },
     "metadata": {
      "needs_background": "light"
     },
     "output_type": "display_data"
    }
   ],
   "source": [
    "n_epocas = 100\n",
    "gradiente = 1.0\n",
    "score1_total = [] #pima RL\n",
    "score2_total = [] #wdbc RL\n",
    "score3_total = [] #pima SGD\n",
    "score4_total = [] #wdbc SGD\n",
    "valores = []\n",
    "valor = 100\n",
    "for i in range(7):\n",
    "    valor = valor * 0.1\n",
    "    valores.append(valor)\n",
    "\n",
    "for i in valores:\n",
    "    score1,score2 = getErroresLogisticRegresion(False,'ConjuntosDatosP2/pima-indians-diabetes.csv','ConjuntosDatosP2/wdbc.csv',n_epocas,i)\n",
    "    error1,error2 = getErroresSGDClassifier(False,'ConjuntosDatosP2/pima-indians-diabetes.csv','ConjuntosDatosP2/wdbc.csv',n_epocas,i)\n",
    "    score1_total.append(score1)\n",
    "    score2_total.append(score2)\n",
    "    score3_total.append(error1)\n",
    "    score4_total.append(error2)\n",
    "plotErrores(score3_total,score4_total,score1_total,score2_total,valores)\n"
   ]
  },
  {
   "cell_type": "code",
   "execution_count": 6,
   "id": "5d2ea687",
   "metadata": {
    "scrolled": true
   },
   "outputs": [
    {
     "data": {
      "image/png": "[encoded data removed]",
      "text/plain": [
       "<Figure size 432x288 with 1 Axes>"
      ]
     },
     "metadata": {
      "needs_background": "light"
     },
     "output_type": "display_data"
    }
   ],
   "source": [
    "n_epocas = 100\n",
    "gradiente = 1.0\n",
    "score1_total = [] #pima RL\n",
    "score2_total = [] #wdbc RL\n",
    "score3_total = [] #pima SGD\n",
    "score4_total = [] #wdbc SGD\n",
    "valores = []\n",
    "valor = 100\n",
    "for i in range(7):\n",
    "    valor = valor * 0.1\n",
    "    valores.append(valor)\n",
    "\n",
    "for i in valores:\n",
    "    score1,score2 = getErroresLogisticRegresion(True,'ConjuntosDatosP2/pima-indians-diabetes.csv','ConjuntosDatosP2/wdbc.csv',n_epocas,i)\n",
    "    error1,error2 = getErroresSGDClassifier(True,'ConjuntosDatosP2/pima-indians-diabetes.csv','ConjuntosDatosP2/wdbc.csv',n_epocas,i)\n",
    "    score1_total.append(score1)\n",
    "    score2_total.append(score2)\n",
    "    score3_total.append(error1)\n",
    "    score4_total.append(error2)\n",
    "plotErrores(score3_total,score4_total,score1_total,score2_total,valores)\n"
   ]
  },
  {
   "cell_type": "markdown",
   "id": "6e736e68",
   "metadata": {},
   "source": [
    "Normalizacion estabiliza los resultados, además que mejora sustancialmente los resultados para el clasificador de SGD. Esto es uno de los aspectos que si cabe destacar, ya que, en la propia documentación de la librería lo indica, que en este caso es muy recomendable que los datos de entrada sean normalizados. Respecto al resto de los datos, nada que no supieramos de antes, además de que coincide con nuestras implementaciones, cosa que refuerza nuestro desarrollo. WDBC tiene un mejor rendimiento. \n",
    "Concretamente de las gráficas superiores también podemos ver que un valor más alto de la cte de aprendizaje mejora los resultados también. Aunque no el máximo. Un termino medio, como suele ocurrir, es la opción que mejores resultados ofrece. "
   ]
  },
  {
   "cell_type": "markdown",
   "id": "5964080c",
   "metadata": {},
   "source": [
    "#### Distintos numeros de epocas"
   ]
  },
  {
   "cell_type": "markdown",
   "id": "baa3d1cf",
   "metadata": {},
   "source": [
    "##### Numero Epocas = 1000"
   ]
  },
  {
   "cell_type": "code",
   "execution_count": 15,
   "id": "2a50a7f4",
   "metadata": {
    "scrolled": true
   },
   "outputs": [
    {
     "data": {
      "image/png": "[encoded data removed]",
      "text/plain": [
       "<Figure size 432x288 with 1 Axes>"
      ]
     },
     "metadata": {
      "needs_background": "light"
     },
     "output_type": "display_data"
    }
   ],
   "source": [
    "n_epocas = 1000\n",
    "gradiente = 1.0\n",
    "score1_total = [] #pima RL\n",
    "score2_total = [] #wdbc RL\n",
    "score3_total = [] #pima SGD\n",
    "score4_total = [] #wdbc SGD\n",
    "valores = []\n",
    "valor = 100\n",
    "for i in range(7):\n",
    "    valor = valor * 0.1\n",
    "    valores.append(valor)\n",
    "\n",
    "for i in valores:\n",
    "    score1,score2 = getErroresLogisticRegresion(True,'ConjuntosDatosP2/pima-indians-diabetes.csv','ConjuntosDatosP2/wdbc.csv',n_epocas,i)\n",
    "    error1,error2 = getErroresSGDClassifier(True,'ConjuntosDatosP2/pima-indians-diabetes.csv','ConjuntosDatosP2/wdbc.csv',n_epocas,i)\n",
    "    score1_total.append(score1)\n",
    "    score2_total.append(score2)\n",
    "    score3_total.append(error1)\n",
    "    score4_total.append(error2)\n",
    "plotErrores(score3_total,score4_total,score1_total,score2_total,valores)\n"
   ]
  },
  {
   "cell_type": "markdown",
   "id": "3b8ab9aa",
   "metadata": {},
   "source": [
    "##### Numero Epocas = 10"
   ]
  },
  {
   "cell_type": "code",
   "execution_count": 16,
   "id": "ae23cf6d",
   "metadata": {},
   "outputs": [
    {
     "data": {
      "image/png": "[encoded data removed]",
      "text/plain": [
       "<Figure size 432x288 with 1 Axes>"
      ]
     },
     "metadata": {
      "needs_background": "light"
     },
     "output_type": "display_data"
    }
   ],
   "source": [
    "n_epocas = 10\n",
    "gradiente = 1.0\n",
    "score1_total = [] #pima RL\n",
    "score2_total = [] #wdbc RL\n",
    "score3_total = [] #pima SGD\n",
    "score4_total = [] #wdbc SGD\n",
    "valores = []\n",
    "valor = 100\n",
    "for i in range(7):\n",
    "    valor = valor * 0.1\n",
    "    valores.append(valor)\n",
    "\n",
    "for i in valores:\n",
    "    score1,score2 = getErroresLogisticRegresion(True,'ConjuntosDatosP2/pima-indians-diabetes.csv','ConjuntosDatosP2/wdbc.csv',n_epocas,i)\n",
    "    error1,error2 = getErroresSGDClassifier(True,'ConjuntosDatosP2/pima-indians-diabetes.csv','ConjuntosDatosP2/wdbc.csv',n_epocas,i)\n",
    "    score1_total.append(score1)\n",
    "    score2_total.append(score2)\n",
    "    score3_total.append(error1)\n",
    "    score4_total.append(error2)\n",
    "plotErrores(score3_total,score4_total,score1_total,score2_total,valores)\n"
   ]
  },
  {
   "cell_type": "markdown",
   "id": "9c7bc1df",
   "metadata": {},
   "source": [
    "Variar el numero de epocas no supone cambios tan significativos como lo puede ser la normalización de los datos o un buen valor de la cte de aprendizaje. Lo que sí supone un problema, cosa que es de esperar, es que para un valor de n_epocas suficientemente pequeño, los resultados se vuelven más inestables. "
   ]
  },
  {
   "cell_type": "markdown",
   "id": "96157cc1",
   "metadata": {},
   "source": [
    "### Resultados Detallados"
   ]
  },
  {
   "cell_type": "markdown",
   "id": "35a0b531",
   "metadata": {},
   "source": [
    "Los resultados detallados nos van a permitir tener una visión detallada del valor del error para cada dataset, con cada algoritmo de forma específica. "
   ]
  },
  {
   "cell_type": "code",
   "execution_count": 17,
   "id": "ac47bb57",
   "metadata": {},
   "outputs": [
    {
     "name": "stdout",
     "output_type": "stream",
     "text": [
      "El error de pima sin normalizar con el clasificador RegresionLogistica es: 0.37 el error de wdbc es: 0.17\n",
      "El error de pima sin normalizar con el clasificador SGDClassifier es: 0.11 el error de wdbc es: 0.11\n"
     ]
    }
   ],
   "source": [
    "n_epocas = 5\n",
    "gradiente = 1.0\n",
    "\n",
    "score1,score2 = getErroresLogisticRegresion(False,'ConjuntosDatosP2/pima-indians-diabetes.csv','ConjuntosDatosP2/wdbc.csv',n_epocas,gradiente)\n",
    "error1,error2 = getErroresSGDClassifier(False,'ConjuntosDatosP2/pima-indians-diabetes.csv','ConjuntosDatosP2/wdbc.csv',n_epocas,gradiente)\n",
    "print(f'El error de pima sin normalizar con el clasificador RegresionLogistica es: {1 - score1:0.2f} el error de wdbc es: {1-score2:0.2f}')\n",
    "print(f'El error de pima sin normalizar con el clasificador SGDClassifier es: {1 - error2:0.2f} el error de wdbc es: {1-error2:0.2f}')"
   ]
  },
  {
   "cell_type": "code",
   "execution_count": 18,
   "id": "c920ed6d",
   "metadata": {},
   "outputs": [
    {
     "name": "stdout",
     "output_type": "stream",
     "text": [
      "El error de pima sin normalizar con el clasificador RegresionLogistica es: 0.35 el error de wdbc es: 0.64\n",
      "El error de pima sin normalizar con el clasificador SGDClassifier es: 0.17 el error de wdbc es: 0.17\n"
     ]
    }
   ],
   "source": [
    "n_epocas = 1\n",
    "gradiente = 1.0\n",
    "\n",
    "score1,score2 = getErroresLogisticRegresion(False,'ConjuntosDatosP2/pima-indians-diabetes.csv','ConjuntosDatosP2/wdbc.csv',n_epocas,gradiente)\n",
    "error1,error2 = getErroresSGDClassifier(False,'ConjuntosDatosP2/pima-indians-diabetes.csv','ConjuntosDatosP2/wdbc.csv',n_epocas,gradiente)\n",
    "print(f'El error de pima sin normalizar con el clasificador RegresionLogistica es: {1 - score1:0.2f} el error de wdbc es: {1-score2:0.2f}')\n",
    "print(f'El error de pima sin normalizar con el clasificador SGDClassifier es: {1 - error2:0.2f} el error de wdbc es: {1-error2:0.2f}')"
   ]
  },
  {
   "cell_type": "code",
   "execution_count": 19,
   "id": "5b0bcd5d",
   "metadata": {},
   "outputs": [
    {
     "name": "stdout",
     "output_type": "stream",
     "text": [
      "El error de pima sin normalizar con el clasificador RegresionLogistica es: 0.18 el error de wdbc es: 0.07\n",
      "El error de pima sin normalizar con el clasificador SGDClassifier es: 0.25 el error de wdbc es: 0.25\n"
     ]
    }
   ],
   "source": [
    "n_epocas = 100\n",
    "gradiente = 1.0\n",
    "\n",
    "score1,score2 = getErroresLogisticRegresion(False,'ConjuntosDatosP2/pima-indians-diabetes.csv','ConjuntosDatosP2/wdbc.csv',n_epocas,gradiente)\n",
    "error1,error2 = getErroresSGDClassifier(False,'ConjuntosDatosP2/pima-indians-diabetes.csv','ConjuntosDatosP2/wdbc.csv',n_epocas,gradiente)\n",
    "print(f'El error de pima sin normalizar con el clasificador RegresionLogistica es: {1 - score1:0.2f} el error de wdbc es: {1-score2:0.2f}')\n",
    "print(f'El error de pima sin normalizar con el clasificador SGDClassifier es: {1 - error2:0.2f} el error de wdbc es: {1-error2:0.2f}')"
   ]
  },
  {
   "cell_type": "code",
   "execution_count": 20,
   "id": "0608e690",
   "metadata": {},
   "outputs": [
    {
     "name": "stdout",
     "output_type": "stream",
     "text": [
      "El error de pima sin normalizar con el clasificador RegresionLogistica es: 0.18 el error de wdbc es: 0.05\n",
      "El error de pima sin normalizar con el clasificador SGDClassifier es: 0.10 el error de wdbc es: 0.10\n"
     ]
    }
   ],
   "source": [
    "n_epocas = 1000\n",
    "gradiente = 1.0\n",
    "\n",
    "score1,score2 = getErroresLogisticRegresion(False,'ConjuntosDatosP2/pima-indians-diabetes.csv','ConjuntosDatosP2/wdbc.csv',n_epocas,gradiente)\n",
    "error1,error2 = getErroresSGDClassifier(False,'ConjuntosDatosP2/pima-indians-diabetes.csv','ConjuntosDatosP2/wdbc.csv',n_epocas,gradiente)\n",
    "print(f'El error de pima sin normalizar con el clasificador RegresionLogistica es: {1 - score1:0.2f} el error de wdbc es: {1-score2:0.2f}')\n",
    "print(f'El error de pima sin normalizar con el clasificador SGDClassifier es: {1 - error2:0.2f} el error de wdbc es: {1-error2:0.2f}')"
   ]
  },
  {
   "cell_type": "code",
   "execution_count": 21,
   "id": "9947b380",
   "metadata": {},
   "outputs": [
    {
     "name": "stdout",
     "output_type": "stream",
     "text": [
      "El error de pima sin normalizar con el clasificador RegresionLogistica es: 0.19 el error de wdbc es: 0.08\n",
      "El error de pima sin normalizar con el clasificador SGDClassifier es: 0.10 el error de wdbc es: 0.10\n"
     ]
    }
   ],
   "source": [
    "n_epocas = 100\n",
    "gradiente = 0.1\n",
    "\n",
    "score1,score2 = getErroresLogisticRegresion(False,'ConjuntosDatosP2/pima-indians-diabetes.csv','ConjuntosDatosP2/wdbc.csv',n_epocas,gradiente)\n",
    "error1,error2 = getErroresSGDClassifier(False,'ConjuntosDatosP2/pima-indians-diabetes.csv','ConjuntosDatosP2/wdbc.csv',n_epocas,gradiente)\n",
    "print(f'El error de pima sin normalizar con el clasificador RegresionLogistica es: {1 - score1:0.2f} el error de wdbc es: {1-score2:0.2f}')\n",
    "print(f'El error de pima sin normalizar con el clasificador SGDClassifier es: {1 - error2:0.2f} el error de wdbc es: {1-error2:0.2f}')"
   ]
  },
  {
   "cell_type": "code",
   "execution_count": 22,
   "id": "28193bbb",
   "metadata": {},
   "outputs": [
    {
     "name": "stdout",
     "output_type": "stream",
     "text": [
      "El error de pima sin normalizar con el clasificador RegresionLogistica es: 0.18 el error de wdbc es: 0.08\n",
      "El error de pima sin normalizar con el clasificador SGDClassifier es: 0.11 el error de wdbc es: 0.11\n"
     ]
    }
   ],
   "source": [
    "n_epocas = 100\n",
    "gradiente = 0.5\n",
    "\n",
    "score1,score2 = getErroresLogisticRegresion(False,'ConjuntosDatosP2/pima-indians-diabetes.csv','ConjuntosDatosP2/wdbc.csv',n_epocas,gradiente)\n",
    "error1,error2 = getErroresSGDClassifier(False,'ConjuntosDatosP2/pima-indians-diabetes.csv','ConjuntosDatosP2/wdbc.csv',n_epocas,gradiente)\n",
    "print(f'El error de pima sin normalizar con el clasificador RegresionLogistica es: {1 - score1:0.2f} el error de wdbc es: {1-score2:0.2f}')\n",
    "print(f'El error de pima sin normalizar con el clasificador SGDClassifier es: {1 - error2:0.2f} el error de wdbc es: {1-error2:0.2f}')"
   ]
  },
  {
   "cell_type": "code",
   "execution_count": 32,
   "id": "f78b9a20",
   "metadata": {},
   "outputs": [
    {
     "name": "stdout",
     "output_type": "stream",
     "text": [
      "El error de pima normalizando con el clasificador RegresionLogistica es: 0.32 el error de wdbc es: 0.10\n",
      "El error de pima normalizando con el clasificador SGDClassifier es: 0.13 el error de wdbc es: 0.13\n"
     ]
    }
   ],
   "source": [
    "n_epocas = 10\n",
    "gradiente = 1.0\n",
    "\n",
    "score1_1,score2_1 = getErroresLogisticRegresion(False,'ConjuntosDatosP2/pima-indians-diabetes.csv','ConjuntosDatosP2/wdbc.csv',n_epocas,gradiente)\n",
    "error1,error2 = getErroresSGDClassifier(False,'ConjuntosDatosP2/pima-indians-diabetes.csv','ConjuntosDatosP2/wdbc.csv',n_epocas,gradiente)\n",
    "print(f'El error de pima normalizando con el clasificador RegresionLogistica es: {1 - score1_1:0.2f} el error de wdbc es: {1-score2_1:0.2f}')\n",
    "print(f'El error de pima normalizando con el clasificador SGDClassifier es: {1 - error2:0.2f} el error de wdbc es: {1-error2:0.2f}')"
   ]
  },
  {
   "cell_type": "code",
   "execution_count": 24,
   "id": "655b5fe7",
   "metadata": {},
   "outputs": [
    {
     "name": "stdout",
     "output_type": "stream",
     "text": [
      "El error de pima normalizando con el clasificador RegresionLogistica es: 0.19 el error de wdbc es: 0.03\n",
      "El error de pima normalizando con el clasificador SGDClassifier es: 0.03 el error de wdbc es: 0.03\n"
     ]
    }
   ],
   "source": [
    "n_epocas = 5\n",
    "gradiente = 1.0\n",
    "\n",
    "score1,score2 = getErroresLogisticRegresion(True,'ConjuntosDatosP2/pima-indians-diabetes.csv','ConjuntosDatosP2/wdbc.csv',n_epocas,gradiente)\n",
    "error1,error2 = getErroresSGDClassifier(True,'ConjuntosDatosP2/pima-indians-diabetes.csv','ConjuntosDatosP2/wdbc.csv',n_epocas,gradiente)\n",
    "print(f'El error de pima normalizando con el clasificador RegresionLogistica es: {1 - score1:0.2f} el error de wdbc es: {1-score2:0.2f}')\n",
    "print(f'El error de pima normalizando con el clasificador SGDClassifier es: {1 - error2:0.2f} el error de wdbc es: {1-error2:0.2f}')"
   ]
  },
  {
   "cell_type": "code",
   "execution_count": 25,
   "id": "e7f77f33",
   "metadata": {},
   "outputs": [
    {
     "name": "stdout",
     "output_type": "stream",
     "text": [
      "El error de pima normalizando con el clasificador RegresionLogistica es: 0.20 el error de wdbc es: 0.05\n",
      "El error de pima normalizando con el clasificador SGDClassifier es: 0.12 el error de wdbc es: 0.12\n"
     ]
    }
   ],
   "source": [
    "n_epocas = 1\n",
    "gradiente = 1.0\n",
    "\n",
    "score1,score2 = getErroresLogisticRegresion(True,'ConjuntosDatosP2/pima-indians-diabetes.csv','ConjuntosDatosP2/wdbc.csv',n_epocas,gradiente)\n",
    "error1,error2 = getErroresSGDClassifier(True,'ConjuntosDatosP2/pima-indians-diabetes.csv','ConjuntosDatosP2/wdbc.csv',n_epocas,gradiente)\n",
    "print(f'El error de pima normalizando con el clasificador RegresionLogistica es: {1 - score1:0.2f} el error de wdbc es: {1-score2:0.2f}')\n",
    "print(f'El error de pima normalizando con el clasificador SGDClassifier es: {1 - error2:0.2f} el error de wdbc es: {1-error2:0.2f}')"
   ]
  },
  {
   "cell_type": "code",
   "execution_count": 26,
   "id": "2507ed98",
   "metadata": {},
   "outputs": [
    {
     "name": "stdout",
     "output_type": "stream",
     "text": [
      "El error de pima normalizando con el clasificador RegresionLogistica es: 0.18 el error de wdbc es: 0.03\n",
      "El error de pima normalizando con el clasificador SGDClassifier es: 0.05 el error de wdbc es: 0.05\n"
     ]
    }
   ],
   "source": [
    "n_epocas = 100\n",
    "gradiente = 1.0\n",
    "\n",
    "score1,score2 = getErroresLogisticRegresion(True,'ConjuntosDatosP2/pima-indians-diabetes.csv','ConjuntosDatosP2/wdbc.csv',n_epocas,gradiente)\n",
    "error1,error2 = getErroresSGDClassifier(True,'ConjuntosDatosP2/pima-indians-diabetes.csv','ConjuntosDatosP2/wdbc.csv',n_epocas,gradiente)\n",
    "print(f'El error de pima normalizando con el clasificador RegresionLogistica es: {1 - score1:0.2f} el error de wdbc es: {1-score2:0.2f}')\n",
    "print(f'El error de pima normalizando con el clasificador SGDClassifier es: {1 - error2:0.2f} el error de wdbc es: {1-error2:0.2f}')"
   ]
  },
  {
   "cell_type": "code",
   "execution_count": 27,
   "id": "00fbf28c",
   "metadata": {},
   "outputs": [
    {
     "name": "stdout",
     "output_type": "stream",
     "text": [
      "El error de pima normalizando con el clasificador RegresionLogistica es: 0.18 el error de wdbc es: 0.03\n",
      "El error de pima normalizando con el clasificador SGDClassifier es: 0.05 el error de wdbc es: 0.05\n"
     ]
    }
   ],
   "source": [
    "n_epocas = 1000\n",
    "gradiente = 1.0\n",
    "\n",
    "score1,score2 = getErroresLogisticRegresion(True,'ConjuntosDatosP2/pima-indians-diabetes.csv','ConjuntosDatosP2/wdbc.csv',n_epocas,gradiente)\n",
    "error1,error2 = getErroresSGDClassifier(True,'ConjuntosDatosP2/pima-indians-diabetes.csv','ConjuntosDatosP2/wdbc.csv',n_epocas,gradiente)\n",
    "print(f'El error de pima normalizando con el clasificador RegresionLogistica es: {1 - score1:0.2f} el error de wdbc es: {1-score2:0.2f}')\n",
    "print(f'El error de pima normalizando con el clasificador SGDClassifier es: {1 - error2:0.2f} el error de wdbc es: {1-error2:0.2f}')"
   ]
  },
  {
   "cell_type": "code",
   "execution_count": 28,
   "id": "89404301",
   "metadata": {},
   "outputs": [
    {
     "name": "stdout",
     "output_type": "stream",
     "text": [
      "El error de pima normalizando con el clasificador RegresionLogistica es: 0.19 el error de wdbc es: 0.02\n",
      "El error de pima normalizando con el clasificador SGDClassifier es: 0.04 el error de wdbc es: 0.04\n"
     ]
    }
   ],
   "source": [
    "n_epocas = 100\n",
    "gradiente = 0.1\n",
    "\n",
    "score1,score2 = getErroresLogisticRegresion(True,'ConjuntosDatosP2/pima-indians-diabetes.csv','ConjuntosDatosP2/wdbc.csv',n_epocas,gradiente)\n",
    "error1,error2 = getErroresSGDClassifier(True,'ConjuntosDatosP2/pima-indians-diabetes.csv','ConjuntosDatosP2/wdbc.csv',n_epocas,gradiente)\n",
    "print(f'El error de pima normalizando con el clasificador RegresionLogistica es: {1 - score1:0.2f} el error de wdbc es: {1-score2:0.2f}')\n",
    "print(f'El error de pima normalizando con el clasificador SGDClassifier es: {1 - error2:0.2f} el error de wdbc es: {1-error2:0.2f}')"
   ]
  },
  {
   "cell_type": "code",
   "execution_count": 29,
   "id": "911da8d1",
   "metadata": {},
   "outputs": [
    {
     "name": "stdout",
     "output_type": "stream",
     "text": [
      "El error de pima normalizando con el clasificador RegresionLogistica es: 0.18 el error de wdbc es: 0.01\n",
      "El error de pima normalizando con el clasificador SGDClassifier es: 0.04 el error de wdbc es: 0.04\n"
     ]
    }
   ],
   "source": [
    "n_epocas = 100\n",
    "gradiente = 0.5\n",
    "\n",
    "score1,score2 = getErroresLogisticRegresion(True,'ConjuntosDatosP2/pima-indians-diabetes.csv','ConjuntosDatosP2/wdbc.csv',n_epocas,gradiente)\n",
    "error1,error2 = getErroresSGDClassifier(True,'ConjuntosDatosP2/pima-indians-diabetes.csv','ConjuntosDatosP2/wdbc.csv',n_epocas,gradiente)\n",
    "print(f'El error de pima normalizando con el clasificador RegresionLogistica es: {1 - score1:0.2f} el error de wdbc es: {1-score2:0.2f}')\n",
    "print(f'El error de pima normalizando con el clasificador SGDClassifier es: {1 - error2:0.2f} el error de wdbc es: {1-error2:0.2f}')"
   ]
  },
  {
   "cell_type": "markdown",
   "id": "a7559e3c",
   "metadata": {},
   "source": [
    "Los resultados son muy similares entre ellos, no es crítico el valor de estos parámetros (siempre dentro de unos límites)."
   ]
  },
  {
   "cell_type": "markdown",
   "id": "10031e41",
   "metadata": {},
   "source": [
    "### Comparación con nuestros resultados "
   ]
  },
  {
   "cell_type": "markdown",
   "id": "f269c0d5",
   "metadata": {},
   "source": [
    "Nuestros resultados no podrán ser comparados con SK para valores de n_epocas altos, debido al rendimiento del algoritmo y el tiempo de ejecución que necesitariamos para verlo en nuestro algoritmo. Compararemos valores de n_epocas 10 y distintos gradientes"
   ]
  },
  {
   "cell_type": "code",
   "execution_count": 33,
   "id": "e564da20",
   "metadata": {},
   "outputs": [
    {
     "ename": "NameError",
     "evalue": "name 'erroresPima_1_10_noNormalizado' is not defined",
     "output_type": "error",
     "traceback": [
      "\u001b[1;31m---------------------------------------------------------------------------\u001b[0m",
      "\u001b[1;31mNameError\u001b[0m                                 Traceback (most recent call last)",
      "Input \u001b[1;32mIn [33]\u001b[0m, in \u001b[0;36m<cell line: 1>\u001b[1;34m()\u001b[0m\n\u001b[1;32m----> 1\u001b[0m \u001b[38;5;28mprint\u001b[39m(\u001b[43merroresPima_1_10_noNormalizado\u001b[49m, score1_1)\n",
      "\u001b[1;31mNameError\u001b[0m: name 'erroresPima_1_10_noNormalizado' is not defined"
     ]
    }
   ],
   "source": [
    "print(erroresPima_1_10_noNormalizado, score1_1)"
   ]
  }
 ],
 "metadata": {
  "kernelspec": {
   "display_name": "Python 3 (ipykernel)",
   "language": "python",
   "name": "python3"
  },
  "language_info": {
   "codemirror_mode": {
    "name": "ipython",
    "version": 3
   },
   "file_extension": ".py",
   "mimetype": "text/x-python",
   "name": "python",
   "nbconvert_exporter": "python",
   "pygments_lexer": "ipython3",
   "version": "3.9.12"
  }
 },
 "nbformat": 4,
 "nbformat_minor": 5
}
