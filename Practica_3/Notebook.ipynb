{
 "cells": [
  {
   "cell_type": "code",
   "execution_count": 2,
   "metadata": {},
   "outputs": [],
   "source": [
    "import Clasificador as nb\n",
    "import ClasificadorKNN as knn\n",
    "import ClusteringKMeans as kmeans\n",
    "from Datos import Datos\n",
    "import EstrategiaParticionado as ep\n",
    "import RegresionLogistica as rl\n",
    "import numpy as np"
   ]
  },
  {
   "cell_type": "code",
   "execution_count": 3,
   "metadata": {},
   "outputs": [],
   "source": [
    "dataset = Datos('ConjuntosDatosP2/wdbc.csv')\n",
    "particion = ep.ValidacionSimple(0.7, 1)\n",
    "clasificanb = nb.ClasificadorNaiveBayes()"
   ]
  },
  {
   "cell_type": "markdown",
   "metadata": {},
   "source": [
    "Creamos MC de NB"
   ]
  },
  {
   "cell_type": "code",
   "execution_count": 4,
   "metadata": {},
   "outputs": [],
   "source": [
    "# Crea una matriz de confusion para el clasificador Naive Bayes\n",
    "def matrizConfusionNB(datos, particionado, clasificador, seed=None):\n",
    "    # Creamos la matriz de confusion\n",
    "    matriz = np.zeros((len(datos.diccionario['Class']), len(datos.diccionario['Class'])), dtype=int)\n",
    "    # Creamos las particiones siguiendo la estrategia\n",
    "    particiones = particionado.creaParticiones(datos.datos, seed)\n",
    "    print(particiones)\n",
    "    # Para cada particion\n",
    "    # for particion in particiones:\n",
    "    #     # Entrenamos el clasificador\n",
    "    #     clasificador.entrenamiento(datos.extraeDatos(particion.indicesTrain), datos.nominalAtributos, datos.diccionario)\n",
    "    #     # Obtenemos las predicciones\n",
    "    #     predicciones = clasificador.clasifica(datos.extraeDatos(particion.indicesTest), datos.nominalAtributos, datos.diccionario)\n",
    "    #     # Para cada prediccion\n",
    "    #     for i in range(len(predicciones)):\n",
    "    #         # Aumentamos en uno el valor de la matriz de confusion\n",
    "    #         matriz[datos.diccionario['Class'][predicciones[i]]][datos.diccionario['Class'][datos.extraeDatos(particion.indicesTest)[i][-1]]] += 1\n",
    "    # # Devolvemos la matriz de confusion\n",
    "    # return matriz"
   ]
  },
  {
   "cell_type": "code",
   "execution_count": 5,
   "metadata": {},
   "outputs": [
    {
     "ename": "TypeError",
     "evalue": "'NoneType' object is not iterable",
     "output_type": "error",
     "traceback": [
      "\u001b[0;31m---------------------------------------------------------------------------\u001b[0m",
      "\u001b[0;31mTypeError\u001b[0m                                 Traceback (most recent call last)",
      "Cell \u001b[0;32mIn [5], line 1\u001b[0m\n\u001b[0;32m----> 1\u001b[0m mat \u001b[39m=\u001b[39m matrizConfusionNB(dataset, particion, clasificanb)\n",
      "Cell \u001b[0;32mIn [4], line 8\u001b[0m, in \u001b[0;36mmatrizConfusionNB\u001b[0;34m(datos, particionado, clasificador, seed)\u001b[0m\n\u001b[1;32m      6\u001b[0m particiones \u001b[39m=\u001b[39m particionado\u001b[39m.\u001b[39mcreaParticiones(datos\u001b[39m.\u001b[39mdatos, seed)\n\u001b[1;32m      7\u001b[0m \u001b[39m# Para cada particion\u001b[39;00m\n\u001b[0;32m----> 8\u001b[0m \u001b[39mfor\u001b[39;00m particion \u001b[39min\u001b[39;00m particiones:\n\u001b[1;32m      9\u001b[0m     \u001b[39m# Entrenamos el clasificador\u001b[39;00m\n\u001b[1;32m     10\u001b[0m     clasificador\u001b[39m.\u001b[39mentrenamiento(datos\u001b[39m.\u001b[39mextraeDatos(particion\u001b[39m.\u001b[39mindicesTrain), datos\u001b[39m.\u001b[39mnominalAtributos, datos\u001b[39m.\u001b[39mdiccionario)\n\u001b[1;32m     11\u001b[0m     \u001b[39m# Obtenemos las predicciones\u001b[39;00m\n",
      "\u001b[0;31mTypeError\u001b[0m: 'NoneType' object is not iterable"
     ]
    }
   ],
   "source": [
    "mat = matrizConfusionNB(dataset, particion, clasificanb)"
   ]
  }
 ],
 "metadata": {
  "kernelspec": {
   "display_name": "Python 3.8.10 64-bit",
   "language": "python",
   "name": "python3"
  },
  "language_info": {
   "codemirror_mode": {
    "name": "ipython",
    "version": 3
   },
   "file_extension": ".py",
   "mimetype": "text/x-python",
   "name": "python",
   "nbconvert_exporter": "python",
   "pygments_lexer": "ipython3",
   "version": "3.10.6"
  },
  "orig_nbformat": 4,
  "vscode": {
   "interpreter": {
    "hash": "916dbcbb3f70747c44a77c7bcd40155683ae19c65e1c03b4aa3499c5328201f1"
   }
  }
 },
 "nbformat": 4,
 "nbformat_minor": 2
}
