{
 "cells": [
  {
   "cell_type": "code",
   "execution_count": 3,
   "metadata": {},
   "outputs": [],
   "source": [
    "import Clasificador as nb\n",
    "import ClasificadorKNN as knn\n",
    "import ClusteringKMeans as kmeans\n",
    "from Datos import Datos\n",
    "import EstrategiaParticionado as ep\n",
    "import RegresionLogistica as rl\n",
    "import numpy as np"
   ]
  },
  {
   "cell_type": "code",
   "execution_count": 4,
   "metadata": {},
   "outputs": [
    {
     "ename": "FileNotFoundError",
     "evalue": "[Errno 2] No such file or directory: 'ConjuntosDatosP3/wdbc.csv'",
     "output_type": "error",
     "traceback": [
      "\u001b[0;31m---------------------------------------------------------------------------\u001b[0m",
      "\u001b[0;31mFileNotFoundError\u001b[0m                         Traceback (most recent call last)",
      "Cell \u001b[0;32mIn [4], line 1\u001b[0m\n\u001b[0;32m----> 1\u001b[0m dataset \u001b[39m=\u001b[39m Datos(\u001b[39m'\u001b[39;49m\u001b[39mConjuntosDatosP3/wdbc.csv\u001b[39;49m\u001b[39m'\u001b[39;49m)\n\u001b[1;32m      2\u001b[0m particion \u001b[39m=\u001b[39m ep\u001b[39m.\u001b[39mValidacionSimple(\u001b[39m0.7\u001b[39m, \u001b[39m1\u001b[39m)\n\u001b[1;32m      3\u001b[0m clasificanb \u001b[39m=\u001b[39m nb\u001b[39m.\u001b[39mClasificadorNaiveBayes()\n",
      "File \u001b[0;32m/mnt/c/Users/maria/OneDrive/Documentos/GitHub/FAA-1461/Practica_3/Datos.py:17\u001b[0m, in \u001b[0;36mDatos.__init__\u001b[0;34m(self, nombreFichero)\u001b[0m\n\u001b[1;32m     15\u001b[0m \u001b[39mself\u001b[39m\u001b[39m.\u001b[39mdatos \u001b[39m=\u001b[39m {} \u001b[39m#{atrN{:[]}}\u001b[39;00m\n\u001b[1;32m     16\u001b[0m \u001b[39mself\u001b[39m\u001b[39m.\u001b[39mdiccionario \u001b[39m=\u001b[39m {}\n\u001b[0;32m---> 17\u001b[0m file \u001b[39m=\u001b[39m \u001b[39mopen\u001b[39;49m(nombreFichero)\n\u001b[1;32m     18\u001b[0m csvReader \u001b[39m=\u001b[39m csv\u001b[39m.\u001b[39mreader(file)          \n\u001b[1;32m     19\u001b[0m \u001b[39mself\u001b[39m\u001b[39m.\u001b[39mgetOrderedDict(csvReader)\n",
      "\u001b[0;31mFileNotFoundError\u001b[0m: [Errno 2] No such file or directory: 'ConjuntosDatosP3/wdbc.csv'"
     ]
    }
   ],
   "source": [
    "dataset = Datos('ConjuntosDatosP3/wdbc.csv')\n",
    "particion = ep.ValidacionSimple(0.7, 1)\n",
    "clasificanb = nb.ClasificadorNaiveBayes()"
   ]
  },
  {
   "cell_type": "markdown",
   "metadata": {},
   "source": [
    "Creamos MC de NB"
   ]
  },
  {
   "cell_type": "code",
   "execution_count": null,
   "metadata": {},
   "outputs": [],
   "source": [
    "# Crea una matriz de confusion para el clasificador Naive Bayes\n",
    "def matrizConfusionNB(datos, particionado, clasificador, seed=None):\n",
    "    # Creamos la matriz de confusion\n",
    "    matriz = np.zeros((len(datos.diccionario['Class']), len(datos.diccionario['Class'])), dtype=int)\n",
    "    # Creamos las particiones siguiendo la estrategia\n",
    "    particiones = particionado.creaParticiones(datos.datos, seed)\n",
    "    # Para cada particion\n",
    "    for particion in particiones:\n",
    "        # Entrenamos el clasificador\n",
    "        clasificador.entrenamiento(datos.extraeDatos(particion.indicesTrain), datos.nominalAtributos, datos.diccionario)\n",
    "        # Obtenemos las predicciones\n",
    "        predicciones = clasificador.clasifica(datos.extraeDatos(particion.indicesTest), datos.nominalAtributos, datos.diccionario)\n",
    "        # Para cada prediccion\n",
    "        for i in range(len(predicciones)):\n",
    "            # Aumentamos en uno el valor de la matriz de confusion\n",
    "            matriz[datos.diccionario['Class'][predicciones[i]]][datos.diccionario['Class'][datos.extraeDatos(particion.indicesTest)[i][-1]]] += 1\n",
    "    # Devolvemos la matriz de confusion\n",
    "    return matriz"
   ]
  },
  {
   "cell_type": "code",
   "execution_count": null,
   "metadata": {},
   "outputs": [],
   "source": [
    "mat = matrizConfusionNB(dataset, particion, clasificanb)"
   ]
  }
 ],
 "metadata": {
  "kernelspec": {
   "display_name": "Python 3.8.10 64-bit",
   "language": "python",
   "name": "python3"
  },
  "language_info": {
   "codemirror_mode": {
    "name": "ipython",
    "version": 3
   },
   "file_extension": ".py",
   "mimetype": "text/x-python",
   "name": "python",
   "nbconvert_exporter": "python",
   "pygments_lexer": "ipython3",
   "version": "3.8.10"
  },
  "orig_nbformat": 4,
  "vscode": {
   "interpreter": {
    "hash": "916dbcbb3f70747c44a77c7bcd40155683ae19c65e1c03b4aa3499c5328201f1"
   }
  }
 },
 "nbformat": 4,
 "nbformat_minor": 2
}
