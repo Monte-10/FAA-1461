{
 "cells": [
  {
   "cell_type": "markdown",
   "metadata": {},
   "source": [
    "# Fundamentos de Aprendizaje Automático\n",
    "## _Práctica 3: Regresión Logística y Análisis ROC_\n",
    "### _Grupo 1461_\n",
    "#### _Rubén Torralba Manso y Alejandro Monterrubio Navarro_"
   ]
  },
  {
   "cell_type": "markdown",
   "id": "782808ee",
   "metadata": {},
   "source": [
    "## Apartado 1: Resultados de la clasificacion mediante Regresión Logística"
   ]
  },
  {
   "cell_type": "code",
   "execution_count": 1,
   "id": "0a908069",
   "metadata": {},
   "outputs": [],
   "source": [
    "from Clasificador import Clasificador\n",
    "from Datos import Datos\n",
    "\n",
    "import numpy as np\n",
    "import random\n",
    "import math\n",
    "import EstrategiaParticionado as EstrategiaParticionado\n",
    "from ClasificadorKNN import ClasificadorKNN\n",
    "from RegresionLogistica import RegresionLogistica"
   ]
  },
  {
   "cell_type": "markdown",
   "id": "5616315b",
   "metadata": {},
   "source": [
    "Como en prácticas anteriores, vamos a ir viendo la evolución de los resultados en funcion de los parametros de entrada que introduzcamos y los dataset con los que hagamos la clasificacion. Para esta práctica en concreto vamos a variar el valor del gradiente, el valor del numero de epocas. Para el particionado de los datos utilizaremos una estrategia de validacion simple y reservaremos un 25% del dataset para la parte de test. Lo que supone entrenar el algoritmo con el 75% del dataset. \n",
    "\n",
    "Respecto al código, como se comentaba en el enunciado, la funcion math.exp nos da un error en tiempo de ejecución, que a pesar de estar capturada sigue saltando el aviso. No influye para el correcto funcionamiento del algoritmo."
   ]
  },
  {
   "cell_type": "markdown",
   "id": "b16065e1",
   "metadata": {},
   "source": [
    "### Pima-Indians-Diabetes"
   ]
  },
  {
   "cell_type": "markdown",
   "id": "bc19c4f5",
   "metadata": {},
   "source": [
    "##### Gradiente = 1, N_Epocas = 10"
   ]
  },
  {
   "cell_type": "code",
   "execution_count": 2,
   "id": "2f7715d7",
   "metadata": {
    "scrolled": true
   },
   "outputs": [
    {
     "name": "stdout",
     "output_type": "stream",
     "text": [
      "<Datos.Datos object at 0x7f059a209670>\n"
     ]
    },
    {
     "name": "stderr",
     "output_type": "stream",
     "text": [
      "/mnt/c/Users/maria/OneDrive/Documentos/GitHub/FAA-1461/Practica_3/RegresionLogistica.py:25: RuntimeWarning: overflow encountered in exp\n",
      "  ret =  1/(1 + np.exp(-x))\n"
     ]
    },
    {
     "name": "stdout",
     "output_type": "stream",
     "text": [
      "El error para pima es: 42.98%\n"
     ]
    }
   ],
   "source": [
    "dataset = Datos('ConjuntosDatosP2/pima-indians-diabetes.csv')\n",
    "print(dataset)\n",
    "rl = RegresionLogistica()\n",
    "n_epocas = 10\n",
    "gradiente = 1\n",
    "erroresPima_1_10_noNormalizado = rl.dameError(dataset,n_epocas,gradiente,False)\n",
    "print(f'El error para pima es: {erroresPima_1_10_noNormalizado:.2f}%')"
   ]
  },
  {
   "cell_type": "markdown",
   "id": "4467584f",
   "metadata": {},
   "source": [
    "##### Normalizando los valores del dataset"
   ]
  },
  {
   "cell_type": "code",
   "execution_count": 3,
   "id": "817ba30b",
   "metadata": {},
   "outputs": [
    {
     "name": "stdout",
     "output_type": "stream",
     "text": [
      "<Datos.Datos object at 0x7f05c02d4f40>\n",
      "El error para pima es: 30.05%\n"
     ]
    }
   ],
   "source": [
    "dataset = Datos('ConjuntosDatosP2/pima-indians-diabetes.csv')\n",
    "print(dataset)\n",
    "rl_normalizado = RegresionLogistica()\n",
    "n_epocas = 10\n",
    "gradiente = 1\n",
    "erroresPima_1_10_normalizado = rl.dameError(dataset,n_epocas,gradiente,True)\n",
    "print(f'El error para pima es: {erroresPima_1_10_normalizado:.2f}%')"
   ]
  },
  {
   "cell_type": "markdown",
   "id": "cecba930",
   "metadata": {},
   "source": [
    "##### Gradiente = 0.5, N_Epocas = 10"
   ]
  },
  {
   "cell_type": "code",
   "execution_count": 4,
   "id": "e33d21c1",
   "metadata": {},
   "outputs": [
    {
     "name": "stdout",
     "output_type": "stream",
     "text": [
      "El error para pima es: 42.64%\n"
     ]
    }
   ],
   "source": [
    "dataset = Datos('ConjuntosDatosP2/pima-indians-diabetes.csv')\n",
    "rl_2 = RegresionLogistica()\n",
    "n_epocas = 10\n",
    "gradiente = 0.5\n",
    "erroresPima_05_10_Nonormalizado = rl_2.dameError(dataset,n_epocas,gradiente,False)\n",
    "print(f'El error para pima es: {erroresPima_05_10_Nonormalizado:.2f}%')"
   ]
  },
  {
   "cell_type": "markdown",
   "id": "0af78d34",
   "metadata": {},
   "source": [
    "##### Normalizando los valores del dataset"
   ]
  },
  {
   "cell_type": "code",
   "execution_count": 5,
   "id": "bec44b75",
   "metadata": {},
   "outputs": [
    {
     "name": "stdout",
     "output_type": "stream",
     "text": [
      "El error para pima es: 28.86%\n"
     ]
    }
   ],
   "source": [
    "dataset = Datos('ConjuntosDatosP2/pima-indians-diabetes.csv')\n",
    "rl_2_normalizado = RegresionLogistica()\n",
    "n_epocas = 10\n",
    "gradiente = 0.5\n",
    "erroresPima_05_10_normalizado = rl_2_normalizado.dameError(dataset,n_epocas,gradiente,True)\n",
    "print(f'El error para pima es: {erroresPima_05_10_normalizado:.2f}%')"
   ]
  },
  {
   "cell_type": "markdown",
   "id": "4ec5d71a",
   "metadata": {},
   "source": [
    "##### Gradiente = 0.1, N_Epocas = 10"
   ]
  },
  {
   "cell_type": "code",
   "execution_count": 6,
   "id": "c6780aff",
   "metadata": {},
   "outputs": [
    {
     "name": "stdout",
     "output_type": "stream",
     "text": [
      "El error para pima es: 43.40%\n"
     ]
    }
   ],
   "source": [
    "dataset = Datos('ConjuntosDatosP2/pima-indians-diabetes.csv')\n",
    "rl_3 = RegresionLogistica()\n",
    "n_epocas = 10\n",
    "gradiente = 0.1\n",
    "erroresPima_01_10_Nonormalizado = rl_3.dameError(dataset,n_epocas,gradiente,False)\n",
    "print(f'El error para pima es: {erroresPima_01_10_Nonormalizado:.2f}%')"
   ]
  },
  {
   "cell_type": "code",
   "execution_count": 7,
   "id": "bb9c0bb6",
   "metadata": {},
   "outputs": [
    {
     "name": "stdout",
     "output_type": "stream",
     "text": [
      "El error para pima es: 24.38%\n"
     ]
    }
   ],
   "source": [
    "dataset = Datos('ConjuntosDatosP2/pima-indians-diabetes.csv')\n",
    "rl_3_normalizado = RegresionLogistica()\n",
    "n_epocas = 10\n",
    "gradiente = 0.1\n",
    "erroresPima_01_10_normalizado = rl_3_normalizado.dameError(dataset,n_epocas,gradiente,True)\n",
    "print(f'El error para pima es: {erroresPima_01_10_normalizado:.2f}%')"
   ]
  },
  {
   "cell_type": "markdown",
   "id": "3ec5475b",
   "metadata": {},
   "source": [
    "##### Gradiente = 0.1, N_Epocas = 5\n"
   ]
  },
  {
   "cell_type": "code",
   "execution_count": 8,
   "id": "df7c1477",
   "metadata": {},
   "outputs": [
    {
     "name": "stdout",
     "output_type": "stream",
     "text": [
      "El error para pima es: 43.53%\n"
     ]
    }
   ],
   "source": [
    "dataset = Datos('ConjuntosDatosP2/pima-indians-diabetes.csv')\n",
    "rl_4 = RegresionLogistica()\n",
    "n_epocas = 5\n",
    "gradiente = 0.1\n",
    "erroresPima_01_5_Nonormalizado = rl_4.dameError(dataset,n_epocas,gradiente,False)\n",
    "print(f'El error para pima es: {erroresPima_01_5_Nonormalizado:.2f}%')"
   ]
  },
  {
   "cell_type": "code",
   "execution_count": 9,
   "id": "13228e20",
   "metadata": {},
   "outputs": [
    {
     "name": "stdout",
     "output_type": "stream",
     "text": [
      "El error para pima es: 24.02%\n"
     ]
    }
   ],
   "source": [
    "dataset = Datos('ConjuntosDatosP2/pima-indians-diabetes.csv')\n",
    "rl_4_normalizado = RegresionLogistica()\n",
    "n_epocas = 5\n",
    "gradiente = 0.1\n",
    "erroresPima_01_5_normalizado = rl_4_normalizado.dameError(dataset,n_epocas,gradiente,True)\n",
    "print(f'El error para pima es: {erroresPima_01_5_normalizado:.2f}%')"
   ]
  },
  {
   "cell_type": "markdown",
   "id": "67ee9829",
   "metadata": {},
   "source": [
    "A la vista de los resultados podemos concluir que con un menor gradiente, los resultados de los datasets normalizados mejoran en algo su predicción. Los datasets que no han sido normalizados no se ven gravemente afectados. ¿Por qué ?"
   ]
  },
  {
   "cell_type": "markdown",
   "id": "e175d425",
   "metadata": {},
   "source": [
    "### WDBC"
   ]
  },
  {
   "cell_type": "markdown",
   "id": "73d2c88a",
   "metadata": {},
   "source": [
    "##### Gradiente = 1, N_Epocas = 10"
   ]
  },
  {
   "cell_type": "code",
   "execution_count": 10,
   "id": "b8cbd6a5",
   "metadata": {},
   "outputs": [
    {
     "name": "stdout",
     "output_type": "stream",
     "text": [
      "El error para wdbc es: 18.68%\n"
     ]
    }
   ],
   "source": [
    "dataset = Datos('ConjuntosDatosP2/wdbc.csv')\n",
    "rl_w_1 = RegresionLogistica()\n",
    "n_epocas = 10\n",
    "gradiente = 1\n",
    "erroresW_1_10_noNormalizado = rl_w_1.dameError(dataset,n_epocas,gradiente,False)\n",
    "print(f'El error para wdbc es: {erroresW_1_10_noNormalizado:.2f}%')"
   ]
  },
  {
   "cell_type": "markdown",
   "id": "9642b0e4",
   "metadata": {},
   "source": [
    "##### Normalizando los valores del dataset"
   ]
  },
  {
   "cell_type": "code",
   "execution_count": 11,
   "id": "64a5e262",
   "metadata": {},
   "outputs": [
    {
     "name": "stdout",
     "output_type": "stream",
     "text": [
      "El error para wdbc es: 3.83%\n"
     ]
    }
   ],
   "source": [
    "dataset = Datos('ConjuntosDatosP2/wdbc.csv')\n",
    "rl_normalizado_w = RegresionLogistica()\n",
    "n_epocas = 10\n",
    "gradiente = 1\n",
    "erroresW_1_10_normalizado = rl_normalizado_w.dameError(dataset,n_epocas,gradiente,True)\n",
    "print(f'El error para wdbc es: {erroresW_1_10_normalizado:.2f}%')"
   ]
  },
  {
   "cell_type": "markdown",
   "id": "c695562f",
   "metadata": {},
   "source": [
    "##### Gradiente = 0.5, N_Epocas = 10"
   ]
  },
  {
   "cell_type": "code",
   "execution_count": 12,
   "id": "99bb91c1",
   "metadata": {},
   "outputs": [
    {
     "name": "stdout",
     "output_type": "stream",
     "text": [
      "El error para wdbc es: 16.47%\n"
     ]
    }
   ],
   "source": [
    "dataset = Datos('ConjuntosDatosP2/wdbc.csv')\n",
    "rl_2_w = RegresionLogistica()\n",
    "n_epocas = 10\n",
    "gradiente = 0.5\n",
    "erroresW_05_10_Nonormalizado = rl_2_w.dameError(dataset,n_epocas,gradiente,False)\n",
    "print(f'El error para wdbc es: {erroresW_05_10_Nonormalizado:.2f}%')"
   ]
  },
  {
   "cell_type": "markdown",
   "id": "7fa9797d",
   "metadata": {},
   "source": [
    "##### Normalizando los valores del dataset"
   ]
  },
  {
   "cell_type": "code",
   "execution_count": 13,
   "id": "7a1505cc",
   "metadata": {},
   "outputs": [
    {
     "name": "stdout",
     "output_type": "stream",
     "text": [
      "El error para wdbc es: 3.67%\n"
     ]
    }
   ],
   "source": [
    "dataset = Datos('ConjuntosDatosP2/wdbc.csv')\n",
    "rl_2_normalizado_w = RegresionLogistica()\n",
    "n_epocas = 10\n",
    "gradiente = 0.5\n",
    "erroresW_05_10_normalizado = rl_2_normalizado_w.dameError(dataset,n_epocas,gradiente,True)\n",
    "print(f'El error para wdbc es: {erroresW_05_10_normalizado:.2f}%')"
   ]
  },
  {
   "cell_type": "markdown",
   "id": "021f88b9",
   "metadata": {},
   "source": [
    "##### Gradiente = 0.1, N_Epocas = 10"
   ]
  },
  {
   "cell_type": "code",
   "execution_count": 14,
   "id": "84489e8d",
   "metadata": {},
   "outputs": [
    {
     "name": "stdout",
     "output_type": "stream",
     "text": [
      "El error para wdbc es: 15.64%\n"
     ]
    }
   ],
   "source": [
    "dataset = Datos('ConjuntosDatosP2/wdbc.csv')\n",
    "rl_3_w = RegresionLogistica()\n",
    "n_epocas = 10\n",
    "gradiente = 0.1\n",
    "erroresW_01_10_Nonormalizado = rl_3_w.dameError(dataset,n_epocas,gradiente,False)\n",
    "print(f'El error para wdbc es: {erroresW_01_10_Nonormalizado:.2f}%')"
   ]
  },
  {
   "cell_type": "code",
   "execution_count": 15,
   "id": "4f8ac363",
   "metadata": {},
   "outputs": [
    {
     "name": "stdout",
     "output_type": "stream",
     "text": [
      "El error para wdbc es: 2.59%\n"
     ]
    }
   ],
   "source": [
    "dataset = Datos('ConjuntosDatosP2/wdbc.csv')\n",
    "rl_3_normalizado_w = RegresionLogistica()\n",
    "n_epocas = 10\n",
    "gradiente = 0.1\n",
    "erroresW_01_10_normalizado = rl_3_normalizado_w.dameError(dataset,n_epocas,gradiente,True)\n",
    "print(f'El error para wdbc es: {erroresW_01_10_normalizado:.2f}%')"
   ]
  },
  {
   "cell_type": "markdown",
   "id": "adac1228",
   "metadata": {},
   "source": [
    "##### Gradiente = 0.1, N_Epocas = 5"
   ]
  },
  {
   "cell_type": "code",
   "execution_count": 16,
   "id": "d5d5cff4",
   "metadata": {
    "scrolled": true
   },
   "outputs": [
    {
     "name": "stdout",
     "output_type": "stream",
     "text": [
      "El error para wdbc es: 18.92%\n"
     ]
    }
   ],
   "source": [
    "dataset = Datos('ConjuntosDatosP2/wdbc.csv')\n",
    "rl_4_w = RegresionLogistica()\n",
    "n_epocas = 5\n",
    "gradiente = 0.1\n",
    "erroresW_01_5_Nonormalizado = rl_4_w.dameError(dataset,n_epocas,gradiente,False)\n",
    "print(f'El error para wdbc es: {erroresW_01_5_Nonormalizado:.2f}%')"
   ]
  },
  {
   "cell_type": "markdown",
   "id": "51cc6878",
   "metadata": {},
   "source": [
    "##### Normalizando los valores del dataset"
   ]
  },
  {
   "cell_type": "code",
   "execution_count": 17,
   "id": "84011f4a",
   "metadata": {},
   "outputs": [
    {
     "name": "stdout",
     "output_type": "stream",
     "text": [
      "El error para wdbc es: 2.56%\n"
     ]
    }
   ],
   "source": [
    "dataset = Datos('ConjuntosDatosP2/wdbc.csv')\n",
    "rl_4_normalizado_w = RegresionLogistica()\n",
    "n_epocas = 5\n",
    "gradiente = 0.1\n",
    "erroresW_01_5_normalizado = rl_4_normalizado_w.dameError(dataset,n_epocas,gradiente,True)\n",
    "print(f'El error para wdbc es: {erroresW_01_5_normalizado:.2f}%')"
   ]
  },
  {
   "cell_type": "markdown",
   "id": "f8bd8f4f",
   "metadata": {},
   "source": [
    "Observamos que ambos datasets se ven muy afectados en función de si normalizamos los datos o no. Muestran bastante mejor resultado si estos han sido normalizados. Variando los valores del gradiente y de n_epocas vemos que estos valores también van variando, pero no demasiado. Esto se debe, a que, internamente la funcion dameError ejecuta un numero elevado de veces el algoritmo y finalmente calcula la media del error, por lo que los resultados están bastante estabilizados y normalizados. Por este motivo no se nota en gran medida las variaciones de estos atributos."
   ]
  },
  {
   "cell_type": "markdown",
   "id": "76586b68",
   "metadata": {},
   "source": [
    "## Apartado 2: Resultados de la clasificacion mediante Scikit-Learn y comparacion con implementación propia"
   ]
  },
  {
   "cell_type": "code",
   "execution_count": 18,
   "id": "5ed13880",
   "metadata": {},
   "outputs": [],
   "source": [
    "from sklearn.datasets import load_iris\n",
    "from sklearn.linear_model import LogisticRegression\n",
    "import pandas as pd\n",
    "import numpy as np\n",
    "from sklearn.linear_model import SGDClassifier\n",
    "from sklearn.preprocessing import StandardScaler\n",
    "from sklearn.pipeline import make_pipeline\n",
    "from sklearn.model_selection import train_test_split\n",
    "from sklearn.metrics import accuracy_score\n",
    "from RegresionLogisticaSK import * "
   ]
  },
  {
   "cell_type": "markdown",
   "id": "266cd856",
   "metadata": {},
   "source": [
    "### Resultados gráficos:"
   ]
  },
  {
   "cell_type": "markdown",
   "id": "c03b8a6b",
   "metadata": {},
   "source": [
    "Estos nos van a permitir a tener una visión global de cómo funciona el algoritmo contra nuestros dataset, y de qué cambios le aportan mejora. "
   ]
  },
  {
   "cell_type": "code",
   "execution_count": 19,
   "id": "84a4e3ec",
   "metadata": {
    "scrolled": true
   },
   "outputs": [
    {
     "name": "stderr",
     "output_type": "stream",
     "text": [
      "/usr/lib/python3/dist-packages/sklearn/linear_model/_logistic.py:938: ConvergenceWarning: lbfgs failed to converge (status=1):\n",
      "STOP: TOTAL NO. of ITERATIONS REACHED LIMIT.\n",
      "\n",
      "Increase the number of iterations (max_iter) or scale the data as shown in:\n",
      "    https://scikit-learn.org/stable/modules/preprocessing.html\n",
      "Please also refer to the documentation for alternative solver options:\n",
      "    https://scikit-learn.org/stable/modules/linear_model.html#logistic-regression\n",
      "  n_iter_i = _check_optimize_result(\n",
      "/usr/lib/python3/dist-packages/sklearn/linear_model/_logistic.py:938: ConvergenceWarning: lbfgs failed to converge (status=1):\n",
      "STOP: TOTAL NO. of ITERATIONS REACHED LIMIT.\n",
      "\n",
      "Increase the number of iterations (max_iter) or scale the data as shown in:\n",
      "    https://scikit-learn.org/stable/modules/preprocessing.html\n",
      "Please also refer to the documentation for alternative solver options:\n",
      "    https://scikit-learn.org/stable/modules/linear_model.html#logistic-regression\n",
      "  n_iter_i = _check_optimize_result(\n",
      "/usr/lib/python3/dist-packages/sklearn/linear_model/_logistic.py:938: ConvergenceWarning: lbfgs failed to converge (status=1):\n",
      "STOP: TOTAL NO. of ITERATIONS REACHED LIMIT.\n",
      "\n",
      "Increase the number of iterations (max_iter) or scale the data as shown in:\n",
      "    https://scikit-learn.org/stable/modules/preprocessing.html\n",
      "Please also refer to the documentation for alternative solver options:\n",
      "    https://scikit-learn.org/stable/modules/linear_model.html#logistic-regression\n",
      "  n_iter_i = _check_optimize_result(\n",
      "/usr/lib/python3/dist-packages/sklearn/linear_model/_logistic.py:938: ConvergenceWarning: lbfgs failed to converge (status=1):\n",
      "STOP: TOTAL NO. of ITERATIONS REACHED LIMIT.\n",
      "\n",
      "Increase the number of iterations (max_iter) or scale the data as shown in:\n",
      "    https://scikit-learn.org/stable/modules/preprocessing.html\n",
      "Please also refer to the documentation for alternative solver options:\n",
      "    https://scikit-learn.org/stable/modules/linear_model.html#logistic-regression\n",
      "  n_iter_i = _check_optimize_result(\n",
      "/usr/lib/python3/dist-packages/sklearn/linear_model/_logistic.py:938: ConvergenceWarning: lbfgs failed to converge (status=1):\n",
      "STOP: TOTAL NO. of ITERATIONS REACHED LIMIT.\n",
      "\n",
      "Increase the number of iterations (max_iter) or scale the data as shown in:\n",
      "    https://scikit-learn.org/stable/modules/preprocessing.html\n",
      "Please also refer to the documentation for alternative solver options:\n",
      "    https://scikit-learn.org/stable/modules/linear_model.html#logistic-regression\n",
      "  n_iter_i = _check_optimize_result(\n",
      "/usr/lib/python3/dist-packages/sklearn/linear_model/_logistic.py:938: ConvergenceWarning: lbfgs failed to converge (status=1):\n",
      "STOP: TOTAL NO. of ITERATIONS REACHED LIMIT.\n",
      "\n",
      "Increase the number of iterations (max_iter) or scale the data as shown in:\n",
      "    https://scikit-learn.org/stable/modules/preprocessing.html\n",
      "Please also refer to the documentation for alternative solver options:\n",
      "    https://scikit-learn.org/stable/modules/linear_model.html#logistic-regression\n",
      "  n_iter_i = _check_optimize_result(\n",
      "/usr/lib/python3/dist-packages/sklearn/linear_model/_logistic.py:938: ConvergenceWarning: lbfgs failed to converge (status=1):\n",
      "STOP: TOTAL NO. of ITERATIONS REACHED LIMIT.\n",
      "\n",
      "Increase the number of iterations (max_iter) or scale the data as shown in:\n",
      "    https://scikit-learn.org/stable/modules/preprocessing.html\n",
      "Please also refer to the documentation for alternative solver options:\n",
      "    https://scikit-learn.org/stable/modules/linear_model.html#logistic-regression\n",
      "  n_iter_i = _check_optimize_result(\n",
      "/usr/lib/python3/dist-packages/sklearn/linear_model/_logistic.py:938: ConvergenceWarning: lbfgs failed to converge (status=1):\n",
      "STOP: TOTAL NO. of ITERATIONS REACHED LIMIT.\n",
      "\n",
      "Increase the number of iterations (max_iter) or scale the data as shown in:\n",
      "    https://scikit-learn.org/stable/modules/preprocessing.html\n",
      "Please also refer to the documentation for alternative solver options:\n",
      "    https://scikit-learn.org/stable/modules/linear_model.html#logistic-regression\n",
      "  n_iter_i = _check_optimize_result(\n",
      "/usr/lib/python3/dist-packages/sklearn/linear_model/_logistic.py:938: ConvergenceWarning: lbfgs failed to converge (status=1):\n",
      "STOP: TOTAL NO. of ITERATIONS REACHED LIMIT.\n",
      "\n",
      "Increase the number of iterations (max_iter) or scale the data as shown in:\n",
      "    https://scikit-learn.org/stable/modules/preprocessing.html\n",
      "Please also refer to the documentation for alternative solver options:\n",
      "    https://scikit-learn.org/stable/modules/linear_model.html#logistic-regression\n",
      "  n_iter_i = _check_optimize_result(\n",
      "/usr/lib/python3/dist-packages/sklearn/linear_model/_logistic.py:938: ConvergenceWarning: lbfgs failed to converge (status=1):\n",
      "STOP: TOTAL NO. of ITERATIONS REACHED LIMIT.\n",
      "\n",
      "Increase the number of iterations (max_iter) or scale the data as shown in:\n",
      "    https://scikit-learn.org/stable/modules/preprocessing.html\n",
      "Please also refer to the documentation for alternative solver options:\n",
      "    https://scikit-learn.org/stable/modules/linear_model.html#logistic-regression\n",
      "  n_iter_i = _check_optimize_result(\n",
      "/usr/lib/python3/dist-packages/sklearn/linear_model/_logistic.py:938: ConvergenceWarning: lbfgs failed to converge (status=1):\n",
      "STOP: TOTAL NO. of ITERATIONS REACHED LIMIT.\n",
      "\n",
      "Increase the number of iterations (max_iter) or scale the data as shown in:\n",
      "    https://scikit-learn.org/stable/modules/preprocessing.html\n",
      "Please also refer to the documentation for alternative solver options:\n",
      "    https://scikit-learn.org/stable/modules/linear_model.html#logistic-regression\n",
      "  n_iter_i = _check_optimize_result(\n",
      "/usr/lib/python3/dist-packages/sklearn/linear_model/_logistic.py:938: ConvergenceWarning: lbfgs failed to converge (status=1):\n",
      "STOP: TOTAL NO. of ITERATIONS REACHED LIMIT.\n",
      "\n",
      "Increase the number of iterations (max_iter) or scale the data as shown in:\n",
      "    https://scikit-learn.org/stable/modules/preprocessing.html\n",
      "Please also refer to the documentation for alternative solver options:\n",
      "    https://scikit-learn.org/stable/modules/linear_model.html#logistic-regression\n",
      "  n_iter_i = _check_optimize_result(\n",
      "/usr/lib/python3/dist-packages/sklearn/linear_model/_logistic.py:938: ConvergenceWarning: lbfgs failed to converge (status=1):\n",
      "STOP: TOTAL NO. of ITERATIONS REACHED LIMIT.\n",
      "\n",
      "Increase the number of iterations (max_iter) or scale the data as shown in:\n",
      "    https://scikit-learn.org/stable/modules/preprocessing.html\n",
      "Please also refer to the documentation for alternative solver options:\n",
      "    https://scikit-learn.org/stable/modules/linear_model.html#logistic-regression\n",
      "  n_iter_i = _check_optimize_result(\n",
      "/usr/lib/python3/dist-packages/sklearn/linear_model/_logistic.py:938: ConvergenceWarning: lbfgs failed to converge (status=1):\n",
      "STOP: TOTAL NO. of ITERATIONS REACHED LIMIT.\n",
      "\n",
      "Increase the number of iterations (max_iter) or scale the data as shown in:\n",
      "    https://scikit-learn.org/stable/modules/preprocessing.html\n",
      "Please also refer to the documentation for alternative solver options:\n",
      "    https://scikit-learn.org/stable/modules/linear_model.html#logistic-regression\n",
      "  n_iter_i = _check_optimize_result(\n",
      "/usr/lib/python3/dist-packages/sklearn/linear_model/_logistic.py:938: ConvergenceWarning: lbfgs failed to converge (status=1):\n",
      "STOP: TOTAL NO. of ITERATIONS REACHED LIMIT.\n",
      "\n",
      "Increase the number of iterations (max_iter) or scale the data as shown in:\n",
      "    https://scikit-learn.org/stable/modules/preprocessing.html\n",
      "Please also refer to the documentation for alternative solver options:\n",
      "    https://scikit-learn.org/stable/modules/linear_model.html#logistic-regression\n",
      "  n_iter_i = _check_optimize_result(\n"
     ]
    },
    {
     "data": {
      "image/png": "[encoded data removed]",
      "text/plain": [
       "<Figure size 640x480 with 1 Axes>"
      ]
     },
     "metadata": {},
     "output_type": "display_data"
    }
   ],
   "source": [
    "n_epocas = 100\n",
    "gradiente = 1.0\n",
    "score1_total = [] #pima RL\n",
    "score2_total = [] #wdbc RL\n",
    "score3_total = [] #pima SGD\n",
    "score4_total = [] #wdbc SGD\n",
    "valores = []\n",
    "valor = 100\n",
    "for i in range(7):\n",
    "    valor = valor * 0.1\n",
    "    valores.append(valor)\n",
    "\n",
    "for i in valores:\n",
    "    score1,score2 = getErroresLogisticRegresion(False,'ConjuntosDatosP2/pima-indians-diabetes.csv','ConjuntosDatosP2/wdbc.csv',n_epocas,i)\n",
    "    error1,error2 = getErroresSGDClassifier(False,'ConjuntosDatosP2/pima-indians-diabetes.csv','ConjuntosDatosP2/wdbc.csv',n_epocas,i)\n",
    "    score1_total.append(score1)\n",
    "    score2_total.append(score2)\n",
    "    score3_total.append(error1)\n",
    "    score4_total.append(error2)\n",
    "plotErrores(score3_total,score4_total,score1_total,score2_total,valores)\n"
   ]
  },
  {
   "cell_type": "code",
   "execution_count": 20,
   "id": "5d2ea687",
   "metadata": {
    "scrolled": true
   },
   "outputs": [
    {
     "name": "stderr",
     "output_type": "stream",
     "text": [
      "/usr/lib/python3/dist-packages/sklearn/linear_model/_logistic.py:938: ConvergenceWarning: lbfgs failed to converge (status=1):\n",
      "STOP: TOTAL NO. of ITERATIONS REACHED LIMIT.\n",
      "\n",
      "Increase the number of iterations (max_iter) or scale the data as shown in:\n",
      "    https://scikit-learn.org/stable/modules/preprocessing.html\n",
      "Please also refer to the documentation for alternative solver options:\n",
      "    https://scikit-learn.org/stable/modules/linear_model.html#logistic-regression\n",
      "  n_iter_i = _check_optimize_result(\n",
      "/usr/lib/python3/dist-packages/sklearn/linear_model/_logistic.py:938: ConvergenceWarning: lbfgs failed to converge (status=1):\n",
      "STOP: TOTAL NO. of ITERATIONS REACHED LIMIT.\n",
      "\n",
      "Increase the number of iterations (max_iter) or scale the data as shown in:\n",
      "    https://scikit-learn.org/stable/modules/preprocessing.html\n",
      "Please also refer to the documentation for alternative solver options:\n",
      "    https://scikit-learn.org/stable/modules/linear_model.html#logistic-regression\n",
      "  n_iter_i = _check_optimize_result(\n",
      "/usr/lib/python3/dist-packages/sklearn/linear_model/_logistic.py:938: ConvergenceWarning: lbfgs failed to converge (status=1):\n",
      "STOP: TOTAL NO. of ITERATIONS REACHED LIMIT.\n",
      "\n",
      "Increase the number of iterations (max_iter) or scale the data as shown in:\n",
      "    https://scikit-learn.org/stable/modules/preprocessing.html\n",
      "Please also refer to the documentation for alternative solver options:\n",
      "    https://scikit-learn.org/stable/modules/linear_model.html#logistic-regression\n",
      "  n_iter_i = _check_optimize_result(\n",
      "/usr/lib/python3/dist-packages/sklearn/linear_model/_logistic.py:938: ConvergenceWarning: lbfgs failed to converge (status=1):\n",
      "STOP: TOTAL NO. of ITERATIONS REACHED LIMIT.\n",
      "\n",
      "Increase the number of iterations (max_iter) or scale the data as shown in:\n",
      "    https://scikit-learn.org/stable/modules/preprocessing.html\n",
      "Please also refer to the documentation for alternative solver options:\n",
      "    https://scikit-learn.org/stable/modules/linear_model.html#logistic-regression\n",
      "  n_iter_i = _check_optimize_result(\n",
      "/usr/lib/python3/dist-packages/sklearn/linear_model/_logistic.py:938: ConvergenceWarning: lbfgs failed to converge (status=1):\n",
      "STOP: TOTAL NO. of ITERATIONS REACHED LIMIT.\n",
      "\n",
      "Increase the number of iterations (max_iter) or scale the data as shown in:\n",
      "    https://scikit-learn.org/stable/modules/preprocessing.html\n",
      "Please also refer to the documentation for alternative solver options:\n",
      "    https://scikit-learn.org/stable/modules/linear_model.html#logistic-regression\n",
      "  n_iter_i = _check_optimize_result(\n"
     ]
    },
    {
     "data": {
      "image/png": "[encoded data removed]",
      "text/plain": [
       "<Figure size 640x480 with 1 Axes>"
      ]
     },
     "metadata": {},
     "output_type": "display_data"
    }
   ],
   "source": [
    "n_epocas = 100\n",
    "gradiente = 1.0\n",
    "score1_total = [] #pima RL\n",
    "score2_total = [] #wdbc RL\n",
    "score3_total = [] #pima SGD\n",
    "score4_total = [] #wdbc SGD\n",
    "valores = []\n",
    "valor = 100\n",
    "for i in range(7):\n",
    "    valor = valor * 0.1\n",
    "    valores.append(valor)\n",
    "\n",
    "for i in valores:\n",
    "    score1,score2 = getErroresLogisticRegresion(True,'ConjuntosDatosP2/pima-indians-diabetes.csv','ConjuntosDatosP2/wdbc.csv',n_epocas,i)\n",
    "    error1,error2 = getErroresSGDClassifier(True,'ConjuntosDatosP2/pima-indians-diabetes.csv','ConjuntosDatosP2/wdbc.csv',n_epocas,i)\n",
    "    score1_total.append(score1)\n",
    "    score2_total.append(score2)\n",
    "    score3_total.append(error1)\n",
    "    score4_total.append(error2)\n",
    "plotErrores(score3_total,score4_total,score1_total,score2_total,valores)\n"
   ]
  },
  {
   "cell_type": "markdown",
   "id": "8603d1b6",
   "metadata": {},
   "source": [
    "Normalizacion estabiliza los resultados, además que mejora sustancialmente los resultados para el clasificador de SGD. Esto es uno de los aspectos que si cabe destacar, ya que, en la propia documentación de la librería lo indica, que en este caso es muy recomendable que los datos de entrada sean normalizados. Respecto al resto de los datos, nada que no supieramos de antes, además de que coincide con nuestras implementaciones, cosa que refuerza nuestro desarrollo. WDBC tiene un mejor rendimiento. \n",
    "Concretamente de las gráficas superiores también podemos ver que un valor más alto de la cte de aprendizaje mejora los resultados también. Aunque no el máximo. Un termino medio, como suele ocurrir, es la opción que mejores resultados ofrece. "
   ]
  },
  {
   "cell_type": "markdown",
   "id": "c27d4ff7",
   "metadata": {},
   "source": [
    "##### Numero Epocas = 1000"
   ]
  },
  {
   "cell_type": "code",
   "execution_count": 21,
   "id": "24727586",
   "metadata": {
    "scrolled": true
   },
   "outputs": [
    {
     "name": "stderr",
     "output_type": "stream",
     "text": [
      "/usr/lib/python3/dist-packages/sklearn/linear_model/_logistic.py:938: ConvergenceWarning: lbfgs failed to converge (status=1):\n",
      "STOP: TOTAL NO. of ITERATIONS REACHED LIMIT.\n",
      "\n",
      "Increase the number of iterations (max_iter) or scale the data as shown in:\n",
      "    https://scikit-learn.org/stable/modules/preprocessing.html\n",
      "Please also refer to the documentation for alternative solver options:\n",
      "    https://scikit-learn.org/stable/modules/linear_model.html#logistic-regression\n",
      "  n_iter_i = _check_optimize_result(\n",
      "/usr/lib/python3/dist-packages/sklearn/linear_model/_logistic.py:938: ConvergenceWarning: lbfgs failed to converge (status=1):\n",
      "STOP: TOTAL NO. of ITERATIONS REACHED LIMIT.\n",
      "\n",
      "Increase the number of iterations (max_iter) or scale the data as shown in:\n",
      "    https://scikit-learn.org/stable/modules/preprocessing.html\n",
      "Please also refer to the documentation for alternative solver options:\n",
      "    https://scikit-learn.org/stable/modules/linear_model.html#logistic-regression\n",
      "  n_iter_i = _check_optimize_result(\n"
     ]
    },
    {
     "data": {
      "image/png": "[encoded data removed]",
      "text/plain": [
       "<Figure size 640x480 with 1 Axes>"
      ]
     },
     "metadata": {},
     "output_type": "display_data"
    }
   ],
   "source": [
    "n_epocas = 1000\n",
    "gradiente = 1.0\n",
    "score1_total = [] #pima RL\n",
    "score2_total = [] #wdbc RL\n",
    "score3_total = [] #pima SGD\n",
    "score4_total = [] #wdbc SGD\n",
    "valores = []\n",
    "valor = 100\n",
    "for i in range(7):\n",
    "    valor = valor * 0.1\n",
    "    valores.append(valor)\n",
    "\n",
    "for i in valores:\n",
    "    score1,score2 = getErroresLogisticRegresion(True,'ConjuntosDatosP2/pima-indians-diabetes.csv','ConjuntosDatosP2/wdbc.csv',n_epocas,i)\n",
    "    error1,error2 = getErroresSGDClassifier(True,'ConjuntosDatosP2/pima-indians-diabetes.csv','ConjuntosDatosP2/wdbc.csv',n_epocas,i)\n",
    "    score1_total.append(score1)\n",
    "    score2_total.append(score2)\n",
    "    score3_total.append(error1)\n",
    "    score4_total.append(error2)\n",
    "plotErrores(score3_total,score4_total,score1_total,score2_total,valores)\n"
   ]
  },
  {
   "cell_type": "markdown",
   "id": "558c57c4",
   "metadata": {},
   "source": [
    "##### Numero Epocas = 10"
   ]
  },
  {
   "cell_type": "code",
   "execution_count": 22,
   "id": "6bf3ddc0",
   "metadata": {},
   "outputs": [
    {
     "name": "stderr",
     "output_type": "stream",
     "text": [
      "/usr/lib/python3/dist-packages/sklearn/linear_model/_logistic.py:938: ConvergenceWarning: lbfgs failed to converge (status=1):\n",
      "STOP: TOTAL NO. of ITERATIONS REACHED LIMIT.\n",
      "\n",
      "Increase the number of iterations (max_iter) or scale the data as shown in:\n",
      "    https://scikit-learn.org/stable/modules/preprocessing.html\n",
      "Please also refer to the documentation for alternative solver options:\n",
      "    https://scikit-learn.org/stable/modules/linear_model.html#logistic-regression\n",
      "  n_iter_i = _check_optimize_result(\n",
      "/usr/lib/python3/dist-packages/sklearn/linear_model/_logistic.py:938: ConvergenceWarning: lbfgs failed to converge (status=1):\n",
      "STOP: TOTAL NO. of ITERATIONS REACHED LIMIT.\n",
      "\n",
      "Increase the number of iterations (max_iter) or scale the data as shown in:\n",
      "    https://scikit-learn.org/stable/modules/preprocessing.html\n",
      "Please also refer to the documentation for alternative solver options:\n",
      "    https://scikit-learn.org/stable/modules/linear_model.html#logistic-regression\n",
      "  n_iter_i = _check_optimize_result(\n",
      "/usr/lib/python3/dist-packages/sklearn/linear_model/_logistic.py:938: ConvergenceWarning: lbfgs failed to converge (status=1):\n",
      "STOP: TOTAL NO. of ITERATIONS REACHED LIMIT.\n",
      "\n",
      "Increase the number of iterations (max_iter) or scale the data as shown in:\n",
      "    https://scikit-learn.org/stable/modules/preprocessing.html\n",
      "Please also refer to the documentation for alternative solver options:\n",
      "    https://scikit-learn.org/stable/modules/linear_model.html#logistic-regression\n",
      "  n_iter_i = _check_optimize_result(\n",
      "/usr/lib/python3/dist-packages/sklearn/linear_model/_stochastic_gradient.py:554: ConvergenceWarning: Maximum number of iteration reached before convergence. Consider increasing max_iter to improve the fit.\n",
      "  warnings.warn(\"Maximum number of iteration reached before \"\n",
      "/usr/lib/python3/dist-packages/sklearn/linear_model/_stochastic_gradient.py:554: ConvergenceWarning: Maximum number of iteration reached before convergence. Consider increasing max_iter to improve the fit.\n",
      "  warnings.warn(\"Maximum number of iteration reached before \"\n",
      "/usr/lib/python3/dist-packages/sklearn/linear_model/_logistic.py:938: ConvergenceWarning: lbfgs failed to converge (status=1):\n",
      "STOP: TOTAL NO. of ITERATIONS REACHED LIMIT.\n",
      "\n",
      "Increase the number of iterations (max_iter) or scale the data as shown in:\n",
      "    https://scikit-learn.org/stable/modules/preprocessing.html\n",
      "Please also refer to the documentation for alternative solver options:\n",
      "    https://scikit-learn.org/stable/modules/linear_model.html#logistic-regression\n",
      "  n_iter_i = _check_optimize_result(\n",
      "/usr/lib/python3/dist-packages/sklearn/linear_model/_logistic.py:938: ConvergenceWarning: lbfgs failed to converge (status=1):\n",
      "STOP: TOTAL NO. of ITERATIONS REACHED LIMIT.\n",
      "\n",
      "Increase the number of iterations (max_iter) or scale the data as shown in:\n",
      "    https://scikit-learn.org/stable/modules/preprocessing.html\n",
      "Please also refer to the documentation for alternative solver options:\n",
      "    https://scikit-learn.org/stable/modules/linear_model.html#logistic-regression\n",
      "  n_iter_i = _check_optimize_result(\n",
      "/usr/lib/python3/dist-packages/sklearn/linear_model/_logistic.py:938: ConvergenceWarning: lbfgs failed to converge (status=1):\n",
      "STOP: TOTAL NO. of ITERATIONS REACHED LIMIT.\n",
      "\n",
      "Increase the number of iterations (max_iter) or scale the data as shown in:\n",
      "    https://scikit-learn.org/stable/modules/preprocessing.html\n",
      "Please also refer to the documentation for alternative solver options:\n",
      "    https://scikit-learn.org/stable/modules/linear_model.html#logistic-regression\n",
      "  n_iter_i = _check_optimize_result(\n",
      "/usr/lib/python3/dist-packages/sklearn/linear_model/_stochastic_gradient.py:554: ConvergenceWarning: Maximum number of iteration reached before convergence. Consider increasing max_iter to improve the fit.\n",
      "  warnings.warn(\"Maximum number of iteration reached before \"\n",
      "/usr/lib/python3/dist-packages/sklearn/linear_model/_stochastic_gradient.py:554: ConvergenceWarning: Maximum number of iteration reached before convergence. Consider increasing max_iter to improve the fit.\n",
      "  warnings.warn(\"Maximum number of iteration reached before \"\n",
      "/usr/lib/python3/dist-packages/sklearn/linear_model/_logistic.py:938: ConvergenceWarning: lbfgs failed to converge (status=1):\n",
      "STOP: TOTAL NO. of ITERATIONS REACHED LIMIT.\n",
      "\n",
      "Increase the number of iterations (max_iter) or scale the data as shown in:\n",
      "    https://scikit-learn.org/stable/modules/preprocessing.html\n",
      "Please also refer to the documentation for alternative solver options:\n",
      "    https://scikit-learn.org/stable/modules/linear_model.html#logistic-regression\n",
      "  n_iter_i = _check_optimize_result(\n",
      "/usr/lib/python3/dist-packages/sklearn/linear_model/_logistic.py:938: ConvergenceWarning: lbfgs failed to converge (status=1):\n",
      "STOP: TOTAL NO. of ITERATIONS REACHED LIMIT.\n",
      "\n",
      "Increase the number of iterations (max_iter) or scale the data as shown in:\n",
      "    https://scikit-learn.org/stable/modules/preprocessing.html\n",
      "Please also refer to the documentation for alternative solver options:\n",
      "    https://scikit-learn.org/stable/modules/linear_model.html#logistic-regression\n",
      "  n_iter_i = _check_optimize_result(\n",
      "/usr/lib/python3/dist-packages/sklearn/linear_model/_logistic.py:938: ConvergenceWarning: lbfgs failed to converge (status=1):\n",
      "STOP: TOTAL NO. of ITERATIONS REACHED LIMIT.\n",
      "\n",
      "Increase the number of iterations (max_iter) or scale the data as shown in:\n",
      "    https://scikit-learn.org/stable/modules/preprocessing.html\n",
      "Please also refer to the documentation for alternative solver options:\n",
      "    https://scikit-learn.org/stable/modules/linear_model.html#logistic-regression\n",
      "  n_iter_i = _check_optimize_result(\n",
      "/usr/lib/python3/dist-packages/sklearn/linear_model/_stochastic_gradient.py:554: ConvergenceWarning: Maximum number of iteration reached before convergence. Consider increasing max_iter to improve the fit.\n",
      "  warnings.warn(\"Maximum number of iteration reached before \"\n",
      "/usr/lib/python3/dist-packages/sklearn/linear_model/_stochastic_gradient.py:554: ConvergenceWarning: Maximum number of iteration reached before convergence. Consider increasing max_iter to improve the fit.\n",
      "  warnings.warn(\"Maximum number of iteration reached before \"\n",
      "/usr/lib/python3/dist-packages/sklearn/linear_model/_logistic.py:938: ConvergenceWarning: lbfgs failed to converge (status=1):\n",
      "STOP: TOTAL NO. of ITERATIONS REACHED LIMIT.\n",
      "\n",
      "Increase the number of iterations (max_iter) or scale the data as shown in:\n",
      "    https://scikit-learn.org/stable/modules/preprocessing.html\n",
      "Please also refer to the documentation for alternative solver options:\n",
      "    https://scikit-learn.org/stable/modules/linear_model.html#logistic-regression\n",
      "  n_iter_i = _check_optimize_result(\n",
      "/usr/lib/python3/dist-packages/sklearn/linear_model/_logistic.py:938: ConvergenceWarning: lbfgs failed to converge (status=1):\n",
      "STOP: TOTAL NO. of ITERATIONS REACHED LIMIT.\n",
      "\n",
      "Increase the number of iterations (max_iter) or scale the data as shown in:\n",
      "    https://scikit-learn.org/stable/modules/preprocessing.html\n",
      "Please also refer to the documentation for alternative solver options:\n",
      "    https://scikit-learn.org/stable/modules/linear_model.html#logistic-regression\n",
      "  n_iter_i = _check_optimize_result(\n",
      "/usr/lib/python3/dist-packages/sklearn/linear_model/_stochastic_gradient.py:554: ConvergenceWarning: Maximum number of iteration reached before convergence. Consider increasing max_iter to improve the fit.\n",
      "  warnings.warn(\"Maximum number of iteration reached before \"\n",
      "/usr/lib/python3/dist-packages/sklearn/linear_model/_stochastic_gradient.py:554: ConvergenceWarning: Maximum number of iteration reached before convergence. Consider increasing max_iter to improve the fit.\n",
      "  warnings.warn(\"Maximum number of iteration reached before \"\n",
      "/usr/lib/python3/dist-packages/sklearn/linear_model/_logistic.py:938: ConvergenceWarning: lbfgs failed to converge (status=1):\n",
      "STOP: TOTAL NO. of ITERATIONS REACHED LIMIT.\n",
      "\n",
      "Increase the number of iterations (max_iter) or scale the data as shown in:\n",
      "    https://scikit-learn.org/stable/modules/preprocessing.html\n",
      "Please also refer to the documentation for alternative solver options:\n",
      "    https://scikit-learn.org/stable/modules/linear_model.html#logistic-regression\n",
      "  n_iter_i = _check_optimize_result(\n",
      "/usr/lib/python3/dist-packages/sklearn/linear_model/_logistic.py:938: ConvergenceWarning: lbfgs failed to converge (status=1):\n",
      "STOP: TOTAL NO. of ITERATIONS REACHED LIMIT.\n",
      "\n",
      "Increase the number of iterations (max_iter) or scale the data as shown in:\n",
      "    https://scikit-learn.org/stable/modules/preprocessing.html\n",
      "Please also refer to the documentation for alternative solver options:\n",
      "    https://scikit-learn.org/stable/modules/linear_model.html#logistic-regression\n",
      "  n_iter_i = _check_optimize_result(\n",
      "/usr/lib/python3/dist-packages/sklearn/linear_model/_stochastic_gradient.py:554: ConvergenceWarning: Maximum number of iteration reached before convergence. Consider increasing max_iter to improve the fit.\n",
      "  warnings.warn(\"Maximum number of iteration reached before \"\n",
      "/usr/lib/python3/dist-packages/sklearn/linear_model/_stochastic_gradient.py:554: ConvergenceWarning: Maximum number of iteration reached before convergence. Consider increasing max_iter to improve the fit.\n",
      "  warnings.warn(\"Maximum number of iteration reached before \"\n",
      "/usr/lib/python3/dist-packages/sklearn/linear_model/_logistic.py:938: ConvergenceWarning: lbfgs failed to converge (status=1):\n",
      "STOP: TOTAL NO. of ITERATIONS REACHED LIMIT.\n",
      "\n",
      "Increase the number of iterations (max_iter) or scale the data as shown in:\n",
      "    https://scikit-learn.org/stable/modules/preprocessing.html\n",
      "Please also refer to the documentation for alternative solver options:\n",
      "    https://scikit-learn.org/stable/modules/linear_model.html#logistic-regression\n",
      "  n_iter_i = _check_optimize_result(\n",
      "/usr/lib/python3/dist-packages/sklearn/linear_model/_logistic.py:938: ConvergenceWarning: lbfgs failed to converge (status=1):\n",
      "STOP: TOTAL NO. of ITERATIONS REACHED LIMIT.\n",
      "\n",
      "Increase the number of iterations (max_iter) or scale the data as shown in:\n",
      "    https://scikit-learn.org/stable/modules/preprocessing.html\n",
      "Please also refer to the documentation for alternative solver options:\n",
      "    https://scikit-learn.org/stable/modules/linear_model.html#logistic-regression\n",
      "  n_iter_i = _check_optimize_result(\n",
      "/usr/lib/python3/dist-packages/sklearn/linear_model/_stochastic_gradient.py:554: ConvergenceWarning: Maximum number of iteration reached before convergence. Consider increasing max_iter to improve the fit.\n",
      "  warnings.warn(\"Maximum number of iteration reached before \"\n",
      "/usr/lib/python3/dist-packages/sklearn/linear_model/_stochastic_gradient.py:554: ConvergenceWarning: Maximum number of iteration reached before convergence. Consider increasing max_iter to improve the fit.\n",
      "  warnings.warn(\"Maximum number of iteration reached before \"\n",
      "/usr/lib/python3/dist-packages/sklearn/linear_model/_logistic.py:938: ConvergenceWarning: lbfgs failed to converge (status=1):\n",
      "STOP: TOTAL NO. of ITERATIONS REACHED LIMIT.\n",
      "\n",
      "Increase the number of iterations (max_iter) or scale the data as shown in:\n",
      "    https://scikit-learn.org/stable/modules/preprocessing.html\n",
      "Please also refer to the documentation for alternative solver options:\n",
      "    https://scikit-learn.org/stable/modules/linear_model.html#logistic-regression\n",
      "  n_iter_i = _check_optimize_result(\n",
      "/usr/lib/python3/dist-packages/sklearn/linear_model/_stochastic_gradient.py:554: ConvergenceWarning: Maximum number of iteration reached before convergence. Consider increasing max_iter to improve the fit.\n",
      "  warnings.warn(\"Maximum number of iteration reached before \"\n",
      "/usr/lib/python3/dist-packages/sklearn/linear_model/_stochastic_gradient.py:554: ConvergenceWarning: Maximum number of iteration reached before convergence. Consider increasing max_iter to improve the fit.\n",
      "  warnings.warn(\"Maximum number of iteration reached before \"\n"
     ]
    },
    {
     "data": {
      "image/png": "[encoded data removed]",
      "text/plain": [
       "<Figure size 640x480 with 1 Axes>"
      ]
     },
     "metadata": {},
     "output_type": "display_data"
    }
   ],
   "source": [
    "n_epocas = 10\n",
    "gradiente = 1.0\n",
    "score1_total = [] #pima RL\n",
    "score2_total = [] #wdbc RL\n",
    "score3_total = [] #pima SGD\n",
    "score4_total = [] #wdbc SGD\n",
    "valores = []\n",
    "valor = 100\n",
    "for i in range(7):\n",
    "    valor = valor * 0.1\n",
    "    valores.append(valor)\n",
    "\n",
    "for i in valores:\n",
    "    score1,score2 = getErroresLogisticRegresion(True,'ConjuntosDatosP2/pima-indians-diabetes.csv','ConjuntosDatosP2/wdbc.csv',n_epocas,i)\n",
    "    error1,error2 = getErroresSGDClassifier(True,'ConjuntosDatosP2/pima-indians-diabetes.csv','ConjuntosDatosP2/wdbc.csv',n_epocas,i)\n",
    "    score1_total.append(score1)\n",
    "    score2_total.append(score2)\n",
    "    score3_total.append(error1)\n",
    "    score4_total.append(error2)\n",
    "plotErrores(score3_total,score4_total,score1_total,score2_total,valores)\n"
   ]
  },
  {
   "cell_type": "markdown",
   "id": "d035d68c",
   "metadata": {},
   "source": [
    "Variar el numero de epocas no supone cambios tan significativos como lo puede ser la normalización de los datos o un buen valor de la cte de aprendizaje. Lo que sí supone un problema, cosa que es de esperar, es que para un valor de n_epocas suficientemente pequeño, los resultados se vuelven más inestables. "
   ]
  },
  {
   "cell_type": "markdown",
   "id": "7df64f58",
   "metadata": {},
   "source": [
    "### Resultados Detallados"
   ]
  },
  {
   "cell_type": "markdown",
   "id": "1f511037",
   "metadata": {},
   "source": [
    "Los resultados detallados nos van a permitir tener una visión detallada del valor del error para cada dataset, con cada algoritmo de forma específica. "
   ]
  },
  {
   "cell_type": "code",
   "execution_count": 23,
   "id": "ac47bb57",
   "metadata": {},
   "outputs": [
    {
     "name": "stdout",
     "output_type": "stream",
     "text": [
      "El error de pima sin normalizar con el clasificador RegresionLogistica es: 0.37 el error de wdbc es: 0.17\n",
      "El error de pima sin normalizar con el clasificador SGDClassifier es: 0.12 el error de wdbc es: 0.12\n"
     ]
    },
    {
     "name": "stderr",
     "output_type": "stream",
     "text": [
      "/usr/lib/python3/dist-packages/sklearn/linear_model/_logistic.py:938: ConvergenceWarning: lbfgs failed to converge (status=1):\n",
      "STOP: TOTAL NO. of ITERATIONS REACHED LIMIT.\n",
      "\n",
      "Increase the number of iterations (max_iter) or scale the data as shown in:\n",
      "    https://scikit-learn.org/stable/modules/preprocessing.html\n",
      "Please also refer to the documentation for alternative solver options:\n",
      "    https://scikit-learn.org/stable/modules/linear_model.html#logistic-regression\n",
      "  n_iter_i = _check_optimize_result(\n",
      "/usr/lib/python3/dist-packages/sklearn/linear_model/_logistic.py:938: ConvergenceWarning: lbfgs failed to converge (status=1):\n",
      "STOP: TOTAL NO. of ITERATIONS REACHED LIMIT.\n",
      "\n",
      "Increase the number of iterations (max_iter) or scale the data as shown in:\n",
      "    https://scikit-learn.org/stable/modules/preprocessing.html\n",
      "Please also refer to the documentation for alternative solver options:\n",
      "    https://scikit-learn.org/stable/modules/linear_model.html#logistic-regression\n",
      "  n_iter_i = _check_optimize_result(\n",
      "/usr/lib/python3/dist-packages/sklearn/linear_model/_logistic.py:938: ConvergenceWarning: lbfgs failed to converge (status=1):\n",
      "STOP: TOTAL NO. of ITERATIONS REACHED LIMIT.\n",
      "\n",
      "Increase the number of iterations (max_iter) or scale the data as shown in:\n",
      "    https://scikit-learn.org/stable/modules/preprocessing.html\n",
      "Please also refer to the documentation for alternative solver options:\n",
      "    https://scikit-learn.org/stable/modules/linear_model.html#logistic-regression\n",
      "  n_iter_i = _check_optimize_result(\n",
      "/usr/lib/python3/dist-packages/sklearn/linear_model/_stochastic_gradient.py:554: ConvergenceWarning: Maximum number of iteration reached before convergence. Consider increasing max_iter to improve the fit.\n",
      "  warnings.warn(\"Maximum number of iteration reached before \"\n",
      "/usr/lib/python3/dist-packages/sklearn/linear_model/_stochastic_gradient.py:554: ConvergenceWarning: Maximum number of iteration reached before convergence. Consider increasing max_iter to improve the fit.\n",
      "  warnings.warn(\"Maximum number of iteration reached before \"\n"
     ]
    }
   ],
   "source": [
    "n_epocas = 5\n",
    "gradiente = 1.0\n",
    "\n",
    "score1,score2 = getErroresLogisticRegresion(False,'ConjuntosDatosP2/pima-indians-diabetes.csv','ConjuntosDatosP2/wdbc.csv',n_epocas,gradiente)\n",
    "error1,error2 = getErroresSGDClassifier(False,'ConjuntosDatosP2/pima-indians-diabetes.csv','ConjuntosDatosP2/wdbc.csv',n_epocas,gradiente)\n",
    "print(f'El error de pima sin normalizar con el clasificador RegresionLogistica es: {1 - score1:0.2f} el error de wdbc es: {1-score2:0.2f}')\n",
    "print(f'El error de pima sin normalizar con el clasificador SGDClassifier es: {1 - error2:0.2f} el error de wdbc es: {1-error2:0.2f}')"
   ]
  },
  {
   "cell_type": "code",
   "execution_count": 24,
   "id": "c920ed6d",
   "metadata": {},
   "outputs": [
    {
     "name": "stdout",
     "output_type": "stream",
     "text": [
      "El error de pima sin normalizar con el clasificador RegresionLogistica es: 0.35 el error de wdbc es: 0.64\n",
      "El error de pima sin normalizar con el clasificador SGDClassifier es: 0.10 el error de wdbc es: 0.10\n"
     ]
    },
    {
     "name": "stderr",
     "output_type": "stream",
     "text": [
      "/usr/lib/python3/dist-packages/sklearn/linear_model/_logistic.py:938: ConvergenceWarning: lbfgs failed to converge (status=1):\n",
      "STOP: TOTAL NO. of ITERATIONS REACHED LIMIT.\n",
      "\n",
      "Increase the number of iterations (max_iter) or scale the data as shown in:\n",
      "    https://scikit-learn.org/stable/modules/preprocessing.html\n",
      "Please also refer to the documentation for alternative solver options:\n",
      "    https://scikit-learn.org/stable/modules/linear_model.html#logistic-regression\n",
      "  n_iter_i = _check_optimize_result(\n",
      "/usr/lib/python3/dist-packages/sklearn/linear_model/_logistic.py:938: ConvergenceWarning: lbfgs failed to converge (status=1):\n",
      "STOP: TOTAL NO. of ITERATIONS REACHED LIMIT.\n",
      "\n",
      "Increase the number of iterations (max_iter) or scale the data as shown in:\n",
      "    https://scikit-learn.org/stable/modules/preprocessing.html\n",
      "Please also refer to the documentation for alternative solver options:\n",
      "    https://scikit-learn.org/stable/modules/linear_model.html#logistic-regression\n",
      "  n_iter_i = _check_optimize_result(\n",
      "/usr/lib/python3/dist-packages/sklearn/linear_model/_logistic.py:938: ConvergenceWarning: lbfgs failed to converge (status=1):\n",
      "STOP: TOTAL NO. of ITERATIONS REACHED LIMIT.\n",
      "\n",
      "Increase the number of iterations (max_iter) or scale the data as shown in:\n",
      "    https://scikit-learn.org/stable/modules/preprocessing.html\n",
      "Please also refer to the documentation for alternative solver options:\n",
      "    https://scikit-learn.org/stable/modules/linear_model.html#logistic-regression\n",
      "  n_iter_i = _check_optimize_result(\n",
      "/usr/lib/python3/dist-packages/sklearn/linear_model/_stochastic_gradient.py:554: ConvergenceWarning: Maximum number of iteration reached before convergence. Consider increasing max_iter to improve the fit.\n",
      "  warnings.warn(\"Maximum number of iteration reached before \"\n",
      "/usr/lib/python3/dist-packages/sklearn/linear_model/_stochastic_gradient.py:554: ConvergenceWarning: Maximum number of iteration reached before convergence. Consider increasing max_iter to improve the fit.\n",
      "  warnings.warn(\"Maximum number of iteration reached before \"\n"
     ]
    }
   ],
   "source": [
    "n_epocas = 1\n",
    "gradiente = 1.0\n",
    "\n",
    "score1,score2 = getErroresLogisticRegresion(False,'ConjuntosDatosP2/pima-indians-diabetes.csv','ConjuntosDatosP2/wdbc.csv',n_epocas,gradiente)\n",
    "error1,error2 = getErroresSGDClassifier(False,'ConjuntosDatosP2/pima-indians-diabetes.csv','ConjuntosDatosP2/wdbc.csv',n_epocas,gradiente)\n",
    "print(f'El error de pima sin normalizar con el clasificador RegresionLogistica es: {1 - score1:0.2f} el error de wdbc es: {1-score2:0.2f}')\n",
    "print(f'El error de pima sin normalizar con el clasificador SGDClassifier es: {1 - error2:0.2f} el error de wdbc es: {1-error2:0.2f}')"
   ]
  },
  {
   "cell_type": "code",
   "execution_count": 25,
   "id": "5b0bcd5d",
   "metadata": {},
   "outputs": [
    {
     "name": "stderr",
     "output_type": "stream",
     "text": [
      "/usr/lib/python3/dist-packages/sklearn/linear_model/_logistic.py:938: ConvergenceWarning: lbfgs failed to converge (status=1):\n",
      "STOP: TOTAL NO. of ITERATIONS REACHED LIMIT.\n",
      "\n",
      "Increase the number of iterations (max_iter) or scale the data as shown in:\n",
      "    https://scikit-learn.org/stable/modules/preprocessing.html\n",
      "Please also refer to the documentation for alternative solver options:\n",
      "    https://scikit-learn.org/stable/modules/linear_model.html#logistic-regression\n",
      "  n_iter_i = _check_optimize_result(\n",
      "/usr/lib/python3/dist-packages/sklearn/linear_model/_logistic.py:938: ConvergenceWarning: lbfgs failed to converge (status=1):\n",
      "STOP: TOTAL NO. of ITERATIONS REACHED LIMIT.\n",
      "\n",
      "Increase the number of iterations (max_iter) or scale the data as shown in:\n",
      "    https://scikit-learn.org/stable/modules/preprocessing.html\n",
      "Please also refer to the documentation for alternative solver options:\n",
      "    https://scikit-learn.org/stable/modules/linear_model.html#logistic-regression\n",
      "  n_iter_i = _check_optimize_result(\n",
      "/usr/lib/python3/dist-packages/sklearn/linear_model/_logistic.py:938: ConvergenceWarning: lbfgs failed to converge (status=1):\n",
      "STOP: TOTAL NO. of ITERATIONS REACHED LIMIT.\n",
      "\n",
      "Increase the number of iterations (max_iter) or scale the data as shown in:\n",
      "    https://scikit-learn.org/stable/modules/preprocessing.html\n",
      "Please also refer to the documentation for alternative solver options:\n",
      "    https://scikit-learn.org/stable/modules/linear_model.html#logistic-regression\n",
      "  n_iter_i = _check_optimize_result(\n"
     ]
    },
    {
     "name": "stdout",
     "output_type": "stream",
     "text": [
      "El error de pima sin normalizar con el clasificador RegresionLogistica es: 0.18 el error de wdbc es: 0.08\n",
      "El error de pima sin normalizar con el clasificador SGDClassifier es: 0.08 el error de wdbc es: 0.08\n"
     ]
    }
   ],
   "source": [
    "n_epocas = 100\n",
    "gradiente = 1.0\n",
    "\n",
    "score1,score2 = getErroresLogisticRegresion(False,'ConjuntosDatosP2/pima-indians-diabetes.csv','ConjuntosDatosP2/wdbc.csv',n_epocas,gradiente)\n",
    "error1,error2 = getErroresSGDClassifier(False,'ConjuntosDatosP2/pima-indians-diabetes.csv','ConjuntosDatosP2/wdbc.csv',n_epocas,gradiente)\n",
    "print(f'El error de pima sin normalizar con el clasificador RegresionLogistica es: {1 - score1:0.2f} el error de wdbc es: {1-score2:0.2f}')\n",
    "print(f'El error de pima sin normalizar con el clasificador SGDClassifier es: {1 - error2:0.2f} el error de wdbc es: {1-error2:0.2f}')"
   ]
  },
  {
   "cell_type": "code",
   "execution_count": 26,
   "id": "0608e690",
   "metadata": {},
   "outputs": [
    {
     "name": "stdout",
     "output_type": "stream",
     "text": [
      "El error de pima sin normalizar con el clasificador RegresionLogistica es: 0.18 el error de wdbc es: 0.06\n",
      "El error de pima sin normalizar con el clasificador SGDClassifier es: 0.39 el error de wdbc es: 0.39\n"
     ]
    },
    {
     "name": "stderr",
     "output_type": "stream",
     "text": [
      "/usr/lib/python3/dist-packages/sklearn/linear_model/_logistic.py:938: ConvergenceWarning: lbfgs failed to converge (status=1):\n",
      "STOP: TOTAL NO. of ITERATIONS REACHED LIMIT.\n",
      "\n",
      "Increase the number of iterations (max_iter) or scale the data as shown in:\n",
      "    https://scikit-learn.org/stable/modules/preprocessing.html\n",
      "Please also refer to the documentation for alternative solver options:\n",
      "    https://scikit-learn.org/stable/modules/linear_model.html#logistic-regression\n",
      "  n_iter_i = _check_optimize_result(\n",
      "/usr/lib/python3/dist-packages/sklearn/linear_model/_logistic.py:938: ConvergenceWarning: lbfgs failed to converge (status=1):\n",
      "STOP: TOTAL NO. of ITERATIONS REACHED LIMIT.\n",
      "\n",
      "Increase the number of iterations (max_iter) or scale the data as shown in:\n",
      "    https://scikit-learn.org/stable/modules/preprocessing.html\n",
      "Please also refer to the documentation for alternative solver options:\n",
      "    https://scikit-learn.org/stable/modules/linear_model.html#logistic-regression\n",
      "  n_iter_i = _check_optimize_result(\n"
     ]
    }
   ],
   "source": [
    "n_epocas = 1000\n",
    "gradiente = 1.0\n",
    "\n",
    "score1,score2 = getErroresLogisticRegresion(False,'ConjuntosDatosP2/pima-indians-diabetes.csv','ConjuntosDatosP2/wdbc.csv',n_epocas,gradiente)\n",
    "error1,error2 = getErroresSGDClassifier(False,'ConjuntosDatosP2/pima-indians-diabetes.csv','ConjuntosDatosP2/wdbc.csv',n_epocas,gradiente)\n",
    "print(f'El error de pima sin normalizar con el clasificador RegresionLogistica es: {1 - score1:0.2f} el error de wdbc es: {1-score2:0.2f}')\n",
    "print(f'El error de pima sin normalizar con el clasificador SGDClassifier es: {1 - error2:0.2f} el error de wdbc es: {1-error2:0.2f}')"
   ]
  },
  {
   "cell_type": "code",
   "execution_count": 27,
   "id": "9947b380",
   "metadata": {},
   "outputs": [
    {
     "name": "stdout",
     "output_type": "stream",
     "text": [
      "El error de pima sin normalizar con el clasificador RegresionLogistica es: 0.19 el error de wdbc es: 0.08\n",
      "El error de pima sin normalizar con el clasificador SGDClassifier es: 0.10 el error de wdbc es: 0.10\n"
     ]
    },
    {
     "name": "stderr",
     "output_type": "stream",
     "text": [
      "/usr/lib/python3/dist-packages/sklearn/linear_model/_logistic.py:938: ConvergenceWarning: lbfgs failed to converge (status=1):\n",
      "STOP: TOTAL NO. of ITERATIONS REACHED LIMIT.\n",
      "\n",
      "Increase the number of iterations (max_iter) or scale the data as shown in:\n",
      "    https://scikit-learn.org/stable/modules/preprocessing.html\n",
      "Please also refer to the documentation for alternative solver options:\n",
      "    https://scikit-learn.org/stable/modules/linear_model.html#logistic-regression\n",
      "  n_iter_i = _check_optimize_result(\n",
      "/usr/lib/python3/dist-packages/sklearn/linear_model/_logistic.py:938: ConvergenceWarning: lbfgs failed to converge (status=1):\n",
      "STOP: TOTAL NO. of ITERATIONS REACHED LIMIT.\n",
      "\n",
      "Increase the number of iterations (max_iter) or scale the data as shown in:\n",
      "    https://scikit-learn.org/stable/modules/preprocessing.html\n",
      "Please also refer to the documentation for alternative solver options:\n",
      "    https://scikit-learn.org/stable/modules/linear_model.html#logistic-regression\n",
      "  n_iter_i = _check_optimize_result(\n",
      "/usr/lib/python3/dist-packages/sklearn/linear_model/_logistic.py:938: ConvergenceWarning: lbfgs failed to converge (status=1):\n",
      "STOP: TOTAL NO. of ITERATIONS REACHED LIMIT.\n",
      "\n",
      "Increase the number of iterations (max_iter) or scale the data as shown in:\n",
      "    https://scikit-learn.org/stable/modules/preprocessing.html\n",
      "Please also refer to the documentation for alternative solver options:\n",
      "    https://scikit-learn.org/stable/modules/linear_model.html#logistic-regression\n",
      "  n_iter_i = _check_optimize_result(\n"
     ]
    }
   ],
   "source": [
    "n_epocas = 100\n",
    "gradiente = 0.1\n",
    "\n",
    "score1,score2 = getErroresLogisticRegresion(False,'ConjuntosDatosP2/pima-indians-diabetes.csv','ConjuntosDatosP2/wdbc.csv',n_epocas,gradiente)\n",
    "error1,error2 = getErroresSGDClassifier(False,'ConjuntosDatosP2/pima-indians-diabetes.csv','ConjuntosDatosP2/wdbc.csv',n_epocas,gradiente)\n",
    "print(f'El error de pima sin normalizar con el clasificador RegresionLogistica es: {1 - score1:0.2f} el error de wdbc es: {1-score2:0.2f}')\n",
    "print(f'El error de pima sin normalizar con el clasificador SGDClassifier es: {1 - error2:0.2f} el error de wdbc es: {1-error2:0.2f}')"
   ]
  },
  {
   "cell_type": "code",
   "execution_count": 28,
   "id": "28193bbb",
   "metadata": {},
   "outputs": [
    {
     "name": "stderr",
     "output_type": "stream",
     "text": [
      "/usr/lib/python3/dist-packages/sklearn/linear_model/_logistic.py:938: ConvergenceWarning: lbfgs failed to converge (status=1):\n",
      "STOP: TOTAL NO. of ITERATIONS REACHED LIMIT.\n",
      "\n",
      "Increase the number of iterations (max_iter) or scale the data as shown in:\n",
      "    https://scikit-learn.org/stable/modules/preprocessing.html\n",
      "Please also refer to the documentation for alternative solver options:\n",
      "    https://scikit-learn.org/stable/modules/linear_model.html#logistic-regression\n",
      "  n_iter_i = _check_optimize_result(\n",
      "/usr/lib/python3/dist-packages/sklearn/linear_model/_logistic.py:938: ConvergenceWarning: lbfgs failed to converge (status=1):\n",
      "STOP: TOTAL NO. of ITERATIONS REACHED LIMIT.\n",
      "\n",
      "Increase the number of iterations (max_iter) or scale the data as shown in:\n",
      "    https://scikit-learn.org/stable/modules/preprocessing.html\n",
      "Please also refer to the documentation for alternative solver options:\n",
      "    https://scikit-learn.org/stable/modules/linear_model.html#logistic-regression\n",
      "  n_iter_i = _check_optimize_result(\n"
     ]
    },
    {
     "name": "stdout",
     "output_type": "stream",
     "text": [
      "El error de pima sin normalizar con el clasificador RegresionLogistica es: 0.18 el error de wdbc es: 0.08\n",
      "El error de pima sin normalizar con el clasificador SGDClassifier es: 0.16 el error de wdbc es: 0.16\n"
     ]
    },
    {
     "name": "stderr",
     "output_type": "stream",
     "text": [
      "/usr/lib/python3/dist-packages/sklearn/linear_model/_logistic.py:938: ConvergenceWarning: lbfgs failed to converge (status=1):\n",
      "STOP: TOTAL NO. of ITERATIONS REACHED LIMIT.\n",
      "\n",
      "Increase the number of iterations (max_iter) or scale the data as shown in:\n",
      "    https://scikit-learn.org/stable/modules/preprocessing.html\n",
      "Please also refer to the documentation for alternative solver options:\n",
      "    https://scikit-learn.org/stable/modules/linear_model.html#logistic-regression\n",
      "  n_iter_i = _check_optimize_result(\n"
     ]
    }
   ],
   "source": [
    "n_epocas = 100\n",
    "gradiente = 0.5\n",
    "\n",
    "score1,score2 = getErroresLogisticRegresion(False,'ConjuntosDatosP2/pima-indians-diabetes.csv','ConjuntosDatosP2/wdbc.csv',n_epocas,gradiente)\n",
    "error1,error2 = getErroresSGDClassifier(False,'ConjuntosDatosP2/pima-indians-diabetes.csv','ConjuntosDatosP2/wdbc.csv',n_epocas,gradiente)\n",
    "print(f'El error de pima sin normalizar con el clasificador RegresionLogistica es: {1 - score1:0.2f} el error de wdbc es: {1-score2:0.2f}')\n",
    "print(f'El error de pima sin normalizar con el clasificador SGDClassifier es: {1 - error2:0.2f} el error de wdbc es: {1-error2:0.2f}')"
   ]
  },
  {
   "cell_type": "code",
   "execution_count": 29,
   "id": "f78b9a20",
   "metadata": {},
   "outputs": [
    {
     "name": "stderr",
     "output_type": "stream",
     "text": [
      "/usr/lib/python3/dist-packages/sklearn/linear_model/_logistic.py:938: ConvergenceWarning: lbfgs failed to converge (status=1):\n",
      "STOP: TOTAL NO. of ITERATIONS REACHED LIMIT.\n",
      "\n",
      "Increase the number of iterations (max_iter) or scale the data as shown in:\n",
      "    https://scikit-learn.org/stable/modules/preprocessing.html\n",
      "Please also refer to the documentation for alternative solver options:\n",
      "    https://scikit-learn.org/stable/modules/linear_model.html#logistic-regression\n",
      "  n_iter_i = _check_optimize_result(\n",
      "/usr/lib/python3/dist-packages/sklearn/linear_model/_logistic.py:938: ConvergenceWarning: lbfgs failed to converge (status=1):\n",
      "STOP: TOTAL NO. of ITERATIONS REACHED LIMIT.\n",
      "\n",
      "Increase the number of iterations (max_iter) or scale the data as shown in:\n",
      "    https://scikit-learn.org/stable/modules/preprocessing.html\n",
      "Please also refer to the documentation for alternative solver options:\n",
      "    https://scikit-learn.org/stable/modules/linear_model.html#logistic-regression\n",
      "  n_iter_i = _check_optimize_result(\n",
      "/usr/lib/python3/dist-packages/sklearn/linear_model/_logistic.py:938: ConvergenceWarning: lbfgs failed to converge (status=1):\n",
      "STOP: TOTAL NO. of ITERATIONS REACHED LIMIT.\n",
      "\n",
      "Increase the number of iterations (max_iter) or scale the data as shown in:\n",
      "    https://scikit-learn.org/stable/modules/preprocessing.html\n",
      "Please also refer to the documentation for alternative solver options:\n",
      "    https://scikit-learn.org/stable/modules/linear_model.html#logistic-regression\n",
      "  n_iter_i = _check_optimize_result(\n",
      "/usr/lib/python3/dist-packages/sklearn/linear_model/_stochastic_gradient.py:554: ConvergenceWarning: Maximum number of iteration reached before convergence. Consider increasing max_iter to improve the fit.\n",
      "  warnings.warn(\"Maximum number of iteration reached before \"\n"
     ]
    },
    {
     "name": "stdout",
     "output_type": "stream",
     "text": [
      "El error de pima normalizando con el clasificador RegresionLogistica es: 0.32 el error de wdbc es: 0.10\n",
      "El error de pima normalizando con el clasificador SGDClassifier es: 0.15 el error de wdbc es: 0.15\n"
     ]
    },
    {
     "name": "stderr",
     "output_type": "stream",
     "text": [
      "/usr/lib/python3/dist-packages/sklearn/linear_model/_stochastic_gradient.py:554: ConvergenceWarning: Maximum number of iteration reached before convergence. Consider increasing max_iter to improve the fit.\n",
      "  warnings.warn(\"Maximum number of iteration reached before \"\n"
     ]
    }
   ],
   "source": [
    "n_epocas = 10\n",
    "gradiente = 1.0\n",
    "\n",
    "score1_1,score2_1 = getErroresLogisticRegresion(False,'ConjuntosDatosP2/pima-indians-diabetes.csv','ConjuntosDatosP2/wdbc.csv',n_epocas,gradiente)\n",
    "error1,error2 = getErroresSGDClassifier(False,'ConjuntosDatosP2/pima-indians-diabetes.csv','ConjuntosDatosP2/wdbc.csv',n_epocas,gradiente)\n",
    "print(f'El error de pima normalizando con el clasificador RegresionLogistica es: {1 - score1_1:0.2f} el error de wdbc es: {1-score2_1:0.2f}')\n",
    "print(f'El error de pima normalizando con el clasificador SGDClassifier es: {1 - error2:0.2f} el error de wdbc es: {1-error2:0.2f}')"
   ]
  },
  {
   "cell_type": "code",
   "execution_count": 30,
   "id": "655b5fe7",
   "metadata": {},
   "outputs": [
    {
     "name": "stdout",
     "output_type": "stream",
     "text": [
      "El error de pima normalizando con el clasificador RegresionLogistica es: 0.19 el error de wdbc es: 0.03\n",
      "El error de pima normalizando con el clasificador SGDClassifier es: 0.03 el error de wdbc es: 0.03\n"
     ]
    },
    {
     "name": "stderr",
     "output_type": "stream",
     "text": [
      "/usr/lib/python3/dist-packages/sklearn/linear_model/_logistic.py:938: ConvergenceWarning: lbfgs failed to converge (status=1):\n",
      "STOP: TOTAL NO. of ITERATIONS REACHED LIMIT.\n",
      "\n",
      "Increase the number of iterations (max_iter) or scale the data as shown in:\n",
      "    https://scikit-learn.org/stable/modules/preprocessing.html\n",
      "Please also refer to the documentation for alternative solver options:\n",
      "    https://scikit-learn.org/stable/modules/linear_model.html#logistic-regression\n",
      "  n_iter_i = _check_optimize_result(\n",
      "/usr/lib/python3/dist-packages/sklearn/linear_model/_logistic.py:938: ConvergenceWarning: lbfgs failed to converge (status=1):\n",
      "STOP: TOTAL NO. of ITERATIONS REACHED LIMIT.\n",
      "\n",
      "Increase the number of iterations (max_iter) or scale the data as shown in:\n",
      "    https://scikit-learn.org/stable/modules/preprocessing.html\n",
      "Please also refer to the documentation for alternative solver options:\n",
      "    https://scikit-learn.org/stable/modules/linear_model.html#logistic-regression\n",
      "  n_iter_i = _check_optimize_result(\n",
      "/usr/lib/python3/dist-packages/sklearn/linear_model/_logistic.py:938: ConvergenceWarning: lbfgs failed to converge (status=1):\n",
      "STOP: TOTAL NO. of ITERATIONS REACHED LIMIT.\n",
      "\n",
      "Increase the number of iterations (max_iter) or scale the data as shown in:\n",
      "    https://scikit-learn.org/stable/modules/preprocessing.html\n",
      "Please also refer to the documentation for alternative solver options:\n",
      "    https://scikit-learn.org/stable/modules/linear_model.html#logistic-regression\n",
      "  n_iter_i = _check_optimize_result(\n",
      "/usr/lib/python3/dist-packages/sklearn/linear_model/_stochastic_gradient.py:554: ConvergenceWarning: Maximum number of iteration reached before convergence. Consider increasing max_iter to improve the fit.\n",
      "  warnings.warn(\"Maximum number of iteration reached before \"\n",
      "/usr/lib/python3/dist-packages/sklearn/linear_model/_stochastic_gradient.py:554: ConvergenceWarning: Maximum number of iteration reached before convergence. Consider increasing max_iter to improve the fit.\n",
      "  warnings.warn(\"Maximum number of iteration reached before \"\n"
     ]
    }
   ],
   "source": [
    "n_epocas = 5\n",
    "gradiente = 1.0\n",
    "\n",
    "score1,score2 = getErroresLogisticRegresion(True,'ConjuntosDatosP2/pima-indians-diabetes.csv','ConjuntosDatosP2/wdbc.csv',n_epocas,gradiente)\n",
    "error1,error2 = getErroresSGDClassifier(True,'ConjuntosDatosP2/pima-indians-diabetes.csv','ConjuntosDatosP2/wdbc.csv',n_epocas,gradiente)\n",
    "print(f'El error de pima normalizando con el clasificador RegresionLogistica es: {1 - score1:0.2f} el error de wdbc es: {1-score2:0.2f}')\n",
    "print(f'El error de pima normalizando con el clasificador SGDClassifier es: {1 - error2:0.2f} el error de wdbc es: {1-error2:0.2f}')"
   ]
  },
  {
   "cell_type": "code",
   "execution_count": 31,
   "id": "e7f77f33",
   "metadata": {},
   "outputs": [
    {
     "name": "stderr",
     "output_type": "stream",
     "text": [
      "/usr/lib/python3/dist-packages/sklearn/linear_model/_logistic.py:938: ConvergenceWarning: lbfgs failed to converge (status=1):\n",
      "STOP: TOTAL NO. of ITERATIONS REACHED LIMIT.\n",
      "\n",
      "Increase the number of iterations (max_iter) or scale the data as shown in:\n",
      "    https://scikit-learn.org/stable/modules/preprocessing.html\n",
      "Please also refer to the documentation for alternative solver options:\n",
      "    https://scikit-learn.org/stable/modules/linear_model.html#logistic-regression\n",
      "  n_iter_i = _check_optimize_result(\n",
      "/usr/lib/python3/dist-packages/sklearn/linear_model/_logistic.py:938: ConvergenceWarning: lbfgs failed to converge (status=1):\n",
      "STOP: TOTAL NO. of ITERATIONS REACHED LIMIT.\n",
      "\n",
      "Increase the number of iterations (max_iter) or scale the data as shown in:\n",
      "    https://scikit-learn.org/stable/modules/preprocessing.html\n",
      "Please also refer to the documentation for alternative solver options:\n",
      "    https://scikit-learn.org/stable/modules/linear_model.html#logistic-regression\n",
      "  n_iter_i = _check_optimize_result(\n",
      "/usr/lib/python3/dist-packages/sklearn/linear_model/_logistic.py:938: ConvergenceWarning: lbfgs failed to converge (status=1):\n",
      "STOP: TOTAL NO. of ITERATIONS REACHED LIMIT.\n",
      "\n",
      "Increase the number of iterations (max_iter) or scale the data as shown in:\n",
      "    https://scikit-learn.org/stable/modules/preprocessing.html\n",
      "Please also refer to the documentation for alternative solver options:\n",
      "    https://scikit-learn.org/stable/modules/linear_model.html#logistic-regression\n",
      "  n_iter_i = _check_optimize_result(\n"
     ]
    },
    {
     "name": "stdout",
     "output_type": "stream",
     "text": [
      "El error de pima normalizando con el clasificador RegresionLogistica es: 0.20 el error de wdbc es: 0.05\n",
      "El error de pima normalizando con el clasificador SGDClassifier es: 0.06 el error de wdbc es: 0.06\n"
     ]
    },
    {
     "name": "stderr",
     "output_type": "stream",
     "text": [
      "/usr/lib/python3/dist-packages/sklearn/linear_model/_stochastic_gradient.py:554: ConvergenceWarning: Maximum number of iteration reached before convergence. Consider increasing max_iter to improve the fit.\n",
      "  warnings.warn(\"Maximum number of iteration reached before \"\n",
      "/usr/lib/python3/dist-packages/sklearn/linear_model/_stochastic_gradient.py:554: ConvergenceWarning: Maximum number of iteration reached before convergence. Consider increasing max_iter to improve the fit.\n",
      "  warnings.warn(\"Maximum number of iteration reached before \"\n"
     ]
    }
   ],
   "source": [
    "n_epocas = 1\n",
    "gradiente = 1.0\n",
    "\n",
    "score1,score2 = getErroresLogisticRegresion(True,'ConjuntosDatosP2/pima-indians-diabetes.csv','ConjuntosDatosP2/wdbc.csv',n_epocas,gradiente)\n",
    "error1,error2 = getErroresSGDClassifier(True,'ConjuntosDatosP2/pima-indians-diabetes.csv','ConjuntosDatosP2/wdbc.csv',n_epocas,gradiente)\n",
    "print(f'El error de pima normalizando con el clasificador RegresionLogistica es: {1 - score1:0.2f} el error de wdbc es: {1-score2:0.2f}')\n",
    "print(f'El error de pima normalizando con el clasificador SGDClassifier es: {1 - error2:0.2f} el error de wdbc es: {1-error2:0.2f}')"
   ]
  },
  {
   "cell_type": "code",
   "execution_count": 32,
   "id": "2507ed98",
   "metadata": {},
   "outputs": [
    {
     "name": "stdout",
     "output_type": "stream",
     "text": [
      "El error de pima normalizando con el clasificador RegresionLogistica es: 0.18 el error de wdbc es: 0.03\n",
      "El error de pima normalizando con el clasificador SGDClassifier es: 0.05 el error de wdbc es: 0.05\n"
     ]
    },
    {
     "name": "stderr",
     "output_type": "stream",
     "text": [
      "/usr/lib/python3/dist-packages/sklearn/linear_model/_logistic.py:938: ConvergenceWarning: lbfgs failed to converge (status=1):\n",
      "STOP: TOTAL NO. of ITERATIONS REACHED LIMIT.\n",
      "\n",
      "Increase the number of iterations (max_iter) or scale the data as shown in:\n",
      "    https://scikit-learn.org/stable/modules/preprocessing.html\n",
      "Please also refer to the documentation for alternative solver options:\n",
      "    https://scikit-learn.org/stable/modules/linear_model.html#logistic-regression\n",
      "  n_iter_i = _check_optimize_result(\n"
     ]
    }
   ],
   "source": [
    "n_epocas = 100\n",
    "gradiente = 1.0\n",
    "\n",
    "score1,score2 = getErroresLogisticRegresion(True,'ConjuntosDatosP2/pima-indians-diabetes.csv','ConjuntosDatosP2/wdbc.csv',n_epocas,gradiente)\n",
    "error1,error2 = getErroresSGDClassifier(True,'ConjuntosDatosP2/pima-indians-diabetes.csv','ConjuntosDatosP2/wdbc.csv',n_epocas,gradiente)\n",
    "print(f'El error de pima normalizando con el clasificador RegresionLogistica es: {1 - score1:0.2f} el error de wdbc es: {1-score2:0.2f}')\n",
    "print(f'El error de pima normalizando con el clasificador SGDClassifier es: {1 - error2:0.2f} el error de wdbc es: {1-error2:0.2f}')"
   ]
  },
  {
   "cell_type": "code",
   "execution_count": 33,
   "id": "00fbf28c",
   "metadata": {},
   "outputs": [
    {
     "name": "stdout",
     "output_type": "stream",
     "text": [
      "El error de pima normalizando con el clasificador RegresionLogistica es: 0.18 el error de wdbc es: 0.03\n",
      "El error de pima normalizando con el clasificador SGDClassifier es: 0.04 el error de wdbc es: 0.04\n"
     ]
    },
    {
     "name": "stderr",
     "output_type": "stream",
     "text": [
      "/usr/lib/python3/dist-packages/sklearn/linear_model/_logistic.py:938: ConvergenceWarning: lbfgs failed to converge (status=1):\n",
      "STOP: TOTAL NO. of ITERATIONS REACHED LIMIT.\n",
      "\n",
      "Increase the number of iterations (max_iter) or scale the data as shown in:\n",
      "    https://scikit-learn.org/stable/modules/preprocessing.html\n",
      "Please also refer to the documentation for alternative solver options:\n",
      "    https://scikit-learn.org/stable/modules/linear_model.html#logistic-regression\n",
      "  n_iter_i = _check_optimize_result(\n"
     ]
    }
   ],
   "source": [
    "n_epocas = 1000\n",
    "gradiente = 1.0\n",
    "\n",
    "score1,score2 = getErroresLogisticRegresion(True,'ConjuntosDatosP2/pima-indians-diabetes.csv','ConjuntosDatosP2/wdbc.csv',n_epocas,gradiente)\n",
    "error1,error2 = getErroresSGDClassifier(True,'ConjuntosDatosP2/pima-indians-diabetes.csv','ConjuntosDatosP2/wdbc.csv',n_epocas,gradiente)\n",
    "print(f'El error de pima normalizando con el clasificador RegresionLogistica es: {1 - score1:0.2f} el error de wdbc es: {1-score2:0.2f}')\n",
    "print(f'El error de pima normalizando con el clasificador SGDClassifier es: {1 - error2:0.2f} el error de wdbc es: {1-error2:0.2f}')"
   ]
  },
  {
   "cell_type": "code",
   "execution_count": 34,
   "id": "89404301",
   "metadata": {},
   "outputs": [
    {
     "name": "stdout",
     "output_type": "stream",
     "text": [
      "El error de pima normalizando con el clasificador RegresionLogistica es: 0.19 el error de wdbc es: 0.02\n",
      "El error de pima normalizando con el clasificador SGDClassifier es: 0.03 el error de wdbc es: 0.03\n"
     ]
    },
    {
     "name": "stderr",
     "output_type": "stream",
     "text": [
      "/usr/lib/python3/dist-packages/sklearn/linear_model/_logistic.py:938: ConvergenceWarning: lbfgs failed to converge (status=1):\n",
      "STOP: TOTAL NO. of ITERATIONS REACHED LIMIT.\n",
      "\n",
      "Increase the number of iterations (max_iter) or scale the data as shown in:\n",
      "    https://scikit-learn.org/stable/modules/preprocessing.html\n",
      "Please also refer to the documentation for alternative solver options:\n",
      "    https://scikit-learn.org/stable/modules/linear_model.html#logistic-regression\n",
      "  n_iter_i = _check_optimize_result(\n"
     ]
    }
   ],
   "source": [
    "n_epocas = 100\n",
    "gradiente = 0.1\n",
    "\n",
    "score1,score2 = getErroresLogisticRegresion(True,'ConjuntosDatosP2/pima-indians-diabetes.csv','ConjuntosDatosP2/wdbc.csv',n_epocas,gradiente)\n",
    "error1,error2 = getErroresSGDClassifier(True,'ConjuntosDatosP2/pima-indians-diabetes.csv','ConjuntosDatosP2/wdbc.csv',n_epocas,gradiente)\n",
    "print(f'El error de pima normalizando con el clasificador RegresionLogistica es: {1 - score1:0.2f} el error de wdbc es: {1-score2:0.2f}')\n",
    "print(f'El error de pima normalizando con el clasificador SGDClassifier es: {1 - error2:0.2f} el error de wdbc es: {1-error2:0.2f}')"
   ]
  },
  {
   "cell_type": "code",
   "execution_count": 35,
   "id": "911da8d1",
   "metadata": {},
   "outputs": [
    {
     "name": "stderr",
     "output_type": "stream",
     "text": [
      "/usr/lib/python3/dist-packages/sklearn/linear_model/_logistic.py:938: ConvergenceWarning: lbfgs failed to converge (status=1):\n",
      "STOP: TOTAL NO. of ITERATIONS REACHED LIMIT.\n",
      "\n",
      "Increase the number of iterations (max_iter) or scale the data as shown in:\n",
      "    https://scikit-learn.org/stable/modules/preprocessing.html\n",
      "Please also refer to the documentation for alternative solver options:\n",
      "    https://scikit-learn.org/stable/modules/linear_model.html#logistic-regression\n",
      "  n_iter_i = _check_optimize_result(\n"
     ]
    },
    {
     "name": "stdout",
     "output_type": "stream",
     "text": [
      "El error de pima normalizando con el clasificador RegresionLogistica es: 0.18 el error de wdbc es: 0.01\n",
      "El error de pima normalizando con el clasificador SGDClassifier es: 0.03 el error de wdbc es: 0.03\n"
     ]
    }
   ],
   "source": [
    "n_epocas = 100\n",
    "gradiente = 0.5\n",
    "\n",
    "score1,score2 = getErroresLogisticRegresion(True,'ConjuntosDatosP2/pima-indians-diabetes.csv','ConjuntosDatosP2/wdbc.csv',n_epocas,gradiente)\n",
    "error1,error2 = getErroresSGDClassifier(True,'ConjuntosDatosP2/pima-indians-diabetes.csv','ConjuntosDatosP2/wdbc.csv',n_epocas,gradiente)\n",
    "print(f'El error de pima normalizando con el clasificador RegresionLogistica es: {1 - score1:0.2f} el error de wdbc es: {1-score2:0.2f}')\n",
    "print(f'El error de pima normalizando con el clasificador SGDClassifier es: {1 - error2:0.2f} el error de wdbc es: {1-error2:0.2f}')"
   ]
  },
  {
   "cell_type": "markdown",
   "id": "a7559e3c",
   "metadata": {},
   "source": [
    "Los resultados son muy similares entre ellos, no es crítico el valor de estos parámetros (siempre dentro de unos límites)."
   ]
  },
  {
   "cell_type": "markdown",
   "metadata": {},
   "source": [
    "## Apartado 3: Análisis espacio de ROC entre Naive Bayes, KNN y Regresión Logística para wdbc y pima-indians:"
   ]
  },
  {
   "cell_type": "code",
   "execution_count": 4,
   "metadata": {},
   "outputs": [],
   "source": [
    "from Clasificador import *\n",
    "from ClasificadorKNN import *\n",
    "from Datos import Datos\n",
    "from Clasificador import *\n",
    "import EstrategiaParticionado as EstrategiaParticionado\n",
    "import RegresionLogistica as rl\n",
    "import numpy as np\n",
    "import matplotlib.pyplot as plt"
   ]
  },
  {
   "cell_type": "markdown",
   "metadata": {},
   "source": [
    "Para el análisis de los datasets con cualquier clasificador, lo que hacemos es sacar la matriz de confusión de cada una de las ejecuciones de los clasificadores, esto lo hacemos a traves de score, el cual almacena su propia matriz dentro de su clasificador. Dentro de la matriz podemos distinguir True Positives (TP), False Positive (FP), True Negatives (TN) y False Negative (FN). En la matriz son así:\n",
    "\n",
    "| TP | FN |  \n",
    "| FP | TN |\n",
    "\n",
    "A través de la fórmulas:\n",
    "\n",
    "TPR = TP / (TP+FN)  \n",
    "\n",
    "FNR = FN / (TP+FN)  \n",
    "\n",
    "FPR = FP / (FP+TN)  \n",
    "\n",
    "TNR = TN / (FP+TN)  \n",
    "\n",
    "Siendo True Positive Rate (TPR), True Negative Rate (TPR), False Positive Rate (FPR) y False Negative Rate (FNR). Estos son los ratios de cada uno de los posibles resultados. Usando el TPR y FPR en una gráfica con dos dimensiones, podemos clasificar los distintos clasificadores en la gráfica según los resultados obtenidos como se verá más tarde."
   ]
  },
  {
   "cell_type": "markdown",
   "metadata": {},
   "source": [
    "Ahora vamos a sacar las matrices de confusión para Naive Bayes, KNN y Regresión Logística y sus TPR, TNR, FPR y FNR para el cálculo de los espacios ROC con el dataset wdbc:"
   ]
  },
  {
   "cell_type": "markdown",
   "metadata": {},
   "source": [
    "### Para wdbc:"
   ]
  },
  {
   "cell_type": "code",
   "execution_count": 37,
   "metadata": {},
   "outputs": [],
   "source": [
    "dataset = Datos('ConjuntosDatosP2/wdbc.csv')"
   ]
  },
  {
   "cell_type": "markdown",
   "metadata": {},
   "source": [
    "#### Matriz para Naive Bayes:"
   ]
  },
  {
   "cell_type": "code",
   "execution_count": 38,
   "metadata": {},
   "outputs": [
    {
     "name": "stdout",
     "output_type": "stream",
     "text": [
      "Los valores de la matriz de confusion para este primer dataset es: \n",
      "18.0  3.0\n",
      "79.0  42.0\n"
     ]
    }
   ],
   "source": [
    "from Datos import Datos\n",
    "\n",
    "clasificador1 = ClasificadorNaiveBayes()\n",
    "dataset = Datos('ConjuntosDatosP2/wdbc.csv')\n",
    "\n",
    "validacionSimple = EstrategiaParticionado.ValidacionSimple(10,3)\n",
    "validacionCruzada = EstrategiaParticionado.ValidacionCruzada(4)\n",
    "\n",
    "error = []\n",
    "\n",
    "error += clasificador1.validacion(validacionCruzada, dataset, clasificador1)\n",
    "\n",
    "print(f\"Los valores de la matriz de confusion para este primer dataset es: \\n{clasificador1.matrizConfusion[0][0]}  {clasificador1.matrizConfusion[0][1]}\\n{clasificador1.matrizConfusion[1][0]}  {clasificador1.matrizConfusion[1][1]}\")\n"
   ]
  },
  {
   "cell_type": "markdown",
   "metadata": {},
   "source": [
    "#### Matriz para K-NN:"
   ]
  },
  {
   "cell_type": "markdown",
   "metadata": {},
   "source": [
    "##### Sin normalizar:"
   ]
  },
  {
   "cell_type": "code",
   "execution_count": 39,
   "metadata": {},
   "outputs": [
    {
     "name": "stdout",
     "output_type": "stream",
     "text": [
      "Media de los errores sin normalizar: 7.276995305164319%\n",
      "Los valores de la matriz de confusion y datos sin normalizar para este primer dataset es: \n",
      "91.0  5.0\n",
      "6.0  40.0\n"
     ]
    }
   ],
   "source": [
    "\n",
    "clasificador2 = ClasificadorKNN()\n",
    "dataset = Datos('ConjuntosDatosP2/wdbc.csv')\n",
    "\n",
    "validacionSimple = EstrategiaParticionado.ValidacionSimple(25,5)\n",
    "validacionCruzada = EstrategiaParticionado.ValidacionCruzada(4)\n",
    "\n",
    "K = 3\n",
    "errores = []\n",
    "for j in range(3):\n",
    "    validacionSimple.creaParticiones(dataset.datos)\n",
    "\n",
    "    for i in range(5):\n",
    "        \n",
    "        predicciones = clasificador2.clasifica(dataset.extraeDatos(validacionSimple.particiones[i].indicesTest), dataset.extraeDatos(validacionSimple.particiones[i].indicesTrain),dataset.nominalAtributos,K)\n",
    "\n",
    "        error = clasificador2.error(dataset.extraeDatos(validacionSimple.particiones[i].indicesTest),predicciones)\n",
    "\n",
    "        errores.append(error) \n",
    "print(f'Media de los errores sin normalizar: {np.mean(errores) * 100}%')\n",
    "\n",
    "print(f\"Los valores de la matriz de confusion y datos sin normalizar para este primer dataset es: \\n{clasificador2.matrizConfusion[0][0]}  {clasificador2.matrizConfusion[0][1]}\\n{clasificador2.matrizConfusion[1][0]}  {clasificador2.matrizConfusion[1][1]}\")"
   ]
  },
  {
   "cell_type": "markdown",
   "metadata": {},
   "source": [
    "##### Normalizado:"
   ]
  },
  {
   "cell_type": "code",
   "execution_count": 40,
   "metadata": {},
   "outputs": [
    {
     "name": "stdout",
     "output_type": "stream",
     "text": [
      "Media de los errores normalizando: 3.286384976525822%\n",
      "Los valores de la matriz de confusion para este primer dataset es: \n",
      "91.0  3.0\n",
      "0.0  48.0\n"
     ]
    }
   ],
   "source": [
    "clasificador3 = ClasificadorKNN()\n",
    "dataset = Datos('ConjuntosDatosP2/wdbc.csv')\n",
    "\n",
    "dataset.datos = clasificador3.entrenamiento(dataset.datos, dataset.nominalAtributos)\n",
    "\n",
    "errores = []\n",
    "for j in range(3):\n",
    "    dataset = Datos('ConjuntosDatosP2/wdbc.csv')\n",
    "    validacionSimple.creaParticiones(dataset.datos)\n",
    "    dataset.datos = clasificador3.entrenamiento(dataset.datos, dataset.nominalAtributos)\n",
    "\n",
    "    for i in range(5):\n",
    "    \n",
    "        predicciones = clasificador3.clasifica(dataset.extraeDatos(validacionSimple.particiones[i].indicesTest), dataset.extraeDatos(validacionSimple.particiones[i].indicesTrain),dataset.nominalAtributos,K)\n",
    "        \n",
    "        error = clasificador3.error(dataset.extraeDatos(validacionSimple.particiones[i].indicesTest),predicciones)\n",
    "\n",
    "        errores.append(error) \n",
    "print(f'Media de los errores normalizando: {np.mean(errores) * 100}%')\n",
    "\n",
    "print(f\"Los valores de la matriz de confusion para este primer dataset es: \\n{clasificador3.matrizConfusion[0][0]}  {clasificador3.matrizConfusion[0][1]}\\n{clasificador3.matrizConfusion[1][0]}  {clasificador3.matrizConfusion[1][1]}\")"
   ]
  },
  {
   "cell_type": "markdown",
   "metadata": {},
   "source": [
    "#### Regresión Logística:"
   ]
  },
  {
   "cell_type": "markdown",
   "metadata": {},
   "source": [
    "Sin normalizar:"
   ]
  },
  {
   "cell_type": "code",
   "execution_count": 6,
   "metadata": {},
   "outputs": [
    {
     "name": "stdout",
     "output_type": "stream",
     "text": [
      "El error para pima es: 15.68%\n",
      "Los valores de la matriz de confusion para este primer dataset es: \n",
      "17.0  95.0\n",
      "30.0  0.0\n"
     ]
    }
   ],
   "source": [
    "clasificador4 = rl.RegresionLogistica()\n",
    "dataset = Datos('ConjuntosDatosP2/wdbc.csv')\n",
    "n_epocas = 10\n",
    "gradiente = 1\n",
    "erroresPima_1_10_noNormalizado = clasificador4.dameError(dataset,n_epocas,gradiente,False)\n",
    "print(f'El error para pima es: {erroresPima_1_10_noNormalizado:.2f}%')\n",
    "print(f\"Los valores de la matriz de confusion para este primer dataset es: \\n{clasificador4.matrizConfusion[0][0]}  {clasificador4.matrizConfusion[0][1]}\\n{clasificador4.matrizConfusion[1][0]}  {clasificador4.matrizConfusion[1][1]}\")"
   ]
  },
  {
   "cell_type": "markdown",
   "metadata": {},
   "source": [
    "Normalizado:"
   ]
  },
  {
   "cell_type": "code",
   "execution_count": 7,
   "metadata": {},
   "outputs": [
    {
     "name": "stdout",
     "output_type": "stream",
     "text": [
      "El error para pima es: 3.58%\n",
      "Los valores de la matriz de confusion para este primer dataset es: \n",
      "4.0  85.0\n",
      "51.0  2.0\n"
     ]
    }
   ],
   "source": [
    "clasificador5 = rl.RegresionLogistica()\n",
    "dataset = Datos('ConjuntosDatosP2/wdbc.csv')\n",
    "n_epocas = 10\n",
    "gradiente = 1\n",
    "erroresPima_1_10_normalizado = clasificador5.dameError(dataset,n_epocas,gradiente,True)\n",
    "print(f'El error para pima es: {erroresPima_1_10_normalizado:.2f}%')\n",
    "print(f\"Los valores de la matriz de confusion para este primer dataset es: \\n{clasificador5.matrizConfusion[0][0]}  {clasificador5.matrizConfusion[0][1]}\\n{clasificador5.matrizConfusion[1][0]}  {clasificador5.matrizConfusion[1][1]}\")"
   ]
  },
  {
   "cell_type": "markdown",
   "metadata": {},
   "source": [
    "### Espacio ROC:"
   ]
  },
  {
   "cell_type": "markdown",
   "metadata": {},
   "source": [
    "Ahora con todos estos datos podemos calcular el TPR y FPR de cada uno de los datasets, con ellos clasificamos el punto que representa al clasificador en el espacio ROC siendo para las coordenadas X e Y (FPR,TPR). Con esto vemos que clasificadores quedan por encima de línea de corte y cuales obtienen los mejores resultados."
   ]
  },
  {
   "cell_type": "code",
   "execution_count": null,
   "metadata": {},
   "outputs": [
    {
     "data": {
      "image/png": "[encoded data removed]",
      "text/plain": [
       "<Figure size 640x480 with 1 Axes>"
      ]
     },
     "metadata": {},
     "output_type": "display_data"
    }
   ],
   "source": [
    "plt.plot([0,1],[0,1], color='red', linestyle='--')\n",
    "plt.xlabel(\"FPR\")\n",
    "plt.ylabel(\"TPR\")\n",
    "plt.annotate(\"TPR\", (0.47,0.65))\n",
    "plt.plot([0.5,0.6],[0.5,0.35], color='blue')\n",
    "plt.annotate(\"FPR\", (0.47,0.35))\n",
    "plt.plot([0.5,0.4],[0.5,0.65], color='blue')\n",
    "plt.annotate(\"Naive Bayes\", (clasificador1.FPR, clasificador1.TPR-0.05))\n",
    "plt.plot(clasificador1.FPR, clasificador1.TPR, marker='o', markersize=8, color=\"purple\")\n",
    "plt.annotate(\"KNN no Norm\", (clasificador2.FPR, clasificador2.TPR-0.05))\n",
    "plt.plot(clasificador2.FPR, clasificador2.TPR, marker='o', markersize=8, color=\"green\")\n",
    "plt.annotate(\"KNN Norm\", (clasificador3.FPR, clasificador3.TPR-0.05))\n",
    "plt.plot(clasificador3.FPR, clasificador3.TPR, marker='o', markersize=8, color=\"blue\")\n",
    "plt.annotate(\"RL no Norm\", (clasificador4.FPR, clasificador4.TPR-0.05))\n",
    "plt.plot(clasificador4.FPR, clasificador4.TPR, marker='o', markersize=8, color=\"red\")\n",
    "plt.annotate(\"RL Norm\", (clasificador5.FPR, clasificador5.TPR-0.05))\n",
    "plt.plot(clasificador5.FPR, clasificador5.TPR, marker='o', markersize=8, color=\"yellow\")\n",
    "plt.show()"
   ]
  },
  {
   "cell_type": "markdown",
   "metadata": {},
   "source": [
    "Aquí podemos observar la gráfica del espacio ROC para wdbc, si algo se encuentra en el área de arriba a la izquierda es que su TPR ha sido mayor que su FPR, es decir, que ha tenido más aciertos que fallos en cuanto a las prediciones positivas, podríamos decir que si se encuentra debajo o encima del corte no ha sido de utilidad, ya que se ha equivocado más que acertado.\n",
    "\n",
    "En nuestra ejecución lo más común es que casi siempre todos los clasificadores menos Naive Bayes tenga un buen TPR, Naive Bayes sin embargo al ser una primera versión cuando no se tenía mucho conocimiento de la asignatura suele quedar más rezagado y en un punto medio."
   ]
  },
  {
   "cell_type": "markdown",
   "metadata": {},
   "source": [
    "Ahora vamos a sacar las matrices de confusión para Naive Bayes, KNN y Regresión Logística y sus TPR, TNR, FPR y FNR para el cálculo de los espacios ROC con el dataset pima-indians-diabetes:"
   ]
  },
  {
   "cell_type": "markdown",
   "metadata": {},
   "source": [
    "### Para pima-indians-diabetes:"
   ]
  },
  {
   "cell_type": "code",
   "execution_count": 44,
   "metadata": {},
   "outputs": [],
   "source": [
    "dataset = Datos('ConjuntosDatosP2/pima-indians-diabetes.csv')"
   ]
  },
  {
   "cell_type": "markdown",
   "metadata": {},
   "source": [
    "#### Matriz para Naive Bayes:"
   ]
  },
  {
   "cell_type": "code",
   "execution_count": 45,
   "metadata": {},
   "outputs": [
    {
     "name": "stdout",
     "output_type": "stream",
     "text": [
      "Los valores de la matriz de confusion para este primer dataset es: \n",
      "31.0  84.0\n",
      "34.0  43.0\n"
     ]
    }
   ],
   "source": [
    "from Datos import Datos\n",
    "\n",
    "dataset = Datos('ConjuntosDatosP2/pima-indians-diabetes.csv')\n",
    "clasificador1 = ClasificadorNaiveBayes()\n",
    "\n",
    "validacionSimple = EstrategiaParticionado.ValidacionSimple(10,3)\n",
    "validacionCruzada = EstrategiaParticionado.ValidacionCruzada(4)\n",
    "\n",
    "error = []\n",
    "\n",
    "error += clasificador1.validacion(validacionCruzada, dataset, clasificador1)\n",
    "\n",
    "print(f\"Los valores de la matriz de confusion para este primer dataset es: \\n{clasificador1.matrizConfusion[0][0]}  {clasificador1.matrizConfusion[0][1]}\\n{clasificador1.matrizConfusion[1][0]}  {clasificador1.matrizConfusion[1][1]}\")\n"
   ]
  },
  {
   "cell_type": "markdown",
   "metadata": {},
   "source": [
    "#### Matriz para K-NN:"
   ]
  },
  {
   "cell_type": "markdown",
   "metadata": {},
   "source": [
    "##### Sin normalizar:"
   ]
  },
  {
   "cell_type": "code",
   "execution_count": 46,
   "metadata": {},
   "outputs": [
    {
     "name": "stdout",
     "output_type": "stream",
     "text": [
      "Media de los errores sin normalizar: 30.798611111111114%\n",
      "Los valores de la matriz de confusion y datos sin normalizar para este primer dataset es: \n",
      "32.0  25.0\n",
      "41.0  94.0\n"
     ]
    }
   ],
   "source": [
    "clasificador2 = ClasificadorKNN()\n",
    "dataset = Datos('ConjuntosDatosP2/pima-indians-diabetes.csv')\n",
    "validacionSimple = EstrategiaParticionado.ValidacionSimple(25,5)\n",
    "validacionCruzada = EstrategiaParticionado.ValidacionCruzada(4)\n",
    "\n",
    "K = 3\n",
    "errores = []\n",
    "for j in range(3):\n",
    "    validacionSimple.creaParticiones(dataset.datos)\n",
    "\n",
    "    for i in range(5):\n",
    "        \n",
    "        predicciones = clasificador2.clasifica(dataset.extraeDatos(validacionSimple.particiones[i].indicesTest), dataset.extraeDatos(validacionSimple.particiones[i].indicesTrain),dataset.nominalAtributos,K)\n",
    "\n",
    "        error = clasificador2.error(dataset.extraeDatos(validacionSimple.particiones[i].indicesTest),predicciones)\n",
    "\n",
    "        errores.append(error) \n",
    "print(f'Media de los errores sin normalizar: {np.mean(errores) * 100}%')\n",
    "\n",
    "print(f\"Los valores de la matriz de confusion y datos sin normalizar para este primer dataset es: \\n{clasificador2.matrizConfusion[0][0]}  {clasificador2.matrizConfusion[0][1]}\\n{clasificador2.matrizConfusion[1][0]}  {clasificador2.matrizConfusion[1][1]}\")"
   ]
  },
  {
   "cell_type": "markdown",
   "metadata": {},
   "source": [
    "##### Normalizado:"
   ]
  },
  {
   "cell_type": "code",
   "execution_count": 47,
   "metadata": {},
   "outputs": [
    {
     "name": "stdout",
     "output_type": "stream",
     "text": [
      "Media de los errores normalizando: 26.354166666666668%\n",
      "Los valores de la matriz de confusion para este primer dataset es: \n",
      "31.0  26.0\n",
      "22.0  113.0\n"
     ]
    }
   ],
   "source": [
    "clasificador3 = ClasificadorKNN()\n",
    "dataset = Datos('ConjuntosDatosP2/pima-indians-diabetes.csv')\n",
    "\n",
    "dataset.datos = clasificador3.entrenamiento(dataset.datos, dataset.nominalAtributos)\n",
    "\n",
    "errores = []\n",
    "for j in range(3):\n",
    "    dataset = Datos('ConjuntosDatosP2/pima-indians-diabetes.csv')\n",
    "    validacionSimple.creaParticiones(dataset.datos)\n",
    "    dataset.datos = clasificador3.entrenamiento(dataset.datos, dataset.nominalAtributos)\n",
    "\n",
    "    for i in range(5):\n",
    "    \n",
    "        predicciones = clasificador3.clasifica(dataset.extraeDatos(validacionSimple.particiones[i].indicesTest), dataset.extraeDatos(validacionSimple.particiones[i].indicesTrain),dataset.nominalAtributos,K)\n",
    "        \n",
    "        error = clasificador3.error(dataset.extraeDatos(validacionSimple.particiones[i].indicesTest),predicciones)\n",
    "\n",
    "        errores.append(error) \n",
    "print(f'Media de los errores normalizando: {np.mean(errores) * 100}%')\n",
    "\n",
    "print(f\"Los valores de la matriz de confusion para este primer dataset es: \\n{clasificador3.matrizConfusion[0][0]}  {clasificador3.matrizConfusion[0][1]}\\n{clasificador3.matrizConfusion[1][0]}  {clasificador3.matrizConfusion[1][1]}\")"
   ]
  },
  {
   "cell_type": "markdown",
   "metadata": {},
   "source": [
    "#### Regresión Logística:"
   ]
  },
  {
   "cell_type": "markdown",
   "metadata": {},
   "source": [
    "Sin normalizar:"
   ]
  },
  {
   "cell_type": "code",
   "execution_count": 48,
   "metadata": {},
   "outputs": [
    {
     "name": "stdout",
     "output_type": "stream",
     "text": [
      "El error para pima es: 42.63%\n",
      "Los valores de la matriz de confusion para este primer dataset es: \n",
      "59.0  109.0\n",
      "5.0  19.0\n"
     ]
    }
   ],
   "source": [
    "clasificador4 = rl.RegresionLogistica()\n",
    "dataset = Datos('ConjuntosDatosP2/pima-indians-diabetes.csv')\n",
    "n_epocas = 10\n",
    "gradiente = 1\n",
    "erroresPima_1_10_noNormalizado = clasificador4.dameError(dataset,n_epocas,gradiente,False)\n",
    "print(f'El error para pima es: {erroresPima_1_10_noNormalizado:.2f}%')\n",
    "print(f\"Los valores de la matriz de confusion para este primer dataset es: \\n{clasificador4.matrizConfusion[0][0]}  {clasificador4.matrizConfusion[0][1]}\\n{clasificador4.matrizConfusion[1][0]}  {clasificador4.matrizConfusion[1][1]}\")"
   ]
  },
  {
   "cell_type": "markdown",
   "metadata": {},
   "source": [
    "Normalizado:"
   ]
  },
  {
   "cell_type": "code",
   "execution_count": 49,
   "metadata": {},
   "outputs": [
    {
     "name": "stdout",
     "output_type": "stream",
     "text": [
      "El error para pima es: 30.71%\n",
      "Los valores de la matriz de confusion para este primer dataset es: \n",
      "45.0  22.0\n",
      "30.0  95.0\n"
     ]
    }
   ],
   "source": [
    "clasificador5 = rl.RegresionLogistica()\n",
    "dataset = Datos('ConjuntosDatosP2/pima-indians-diabetes.csv')\n",
    "n_epocas = 10\n",
    "gradiente = 1\n",
    "erroresPima_1_10_normalizado = clasificador5.dameError(dataset,n_epocas,gradiente,True)\n",
    "print(f'El error para pima es: {erroresPima_1_10_normalizado:.2f}%')\n",
    "print(f\"Los valores de la matriz de confusion para este primer dataset es: \\n{clasificador5.matrizConfusion[0][0]}  {clasificador5.matrizConfusion[0][1]}\\n{clasificador5.matrizConfusion[1][0]}  {clasificador5.matrizConfusion[1][1]}\")"
   ]
  },
  {
   "cell_type": "markdown",
   "metadata": {},
   "source": [
    "### Espacio ROC:"
   ]
  },
  {
   "cell_type": "markdown",
   "metadata": {},
   "source": [
    "Volvemos a calcular el espacio para cada uno de los clasificadores con este nuevo dataset:"
   ]
  },
  {
   "cell_type": "code",
   "execution_count": 50,
   "metadata": {},
   "outputs": [
    {
     "data": {
      "image/png": "[encoded data removed]",
      "text/plain": [
       "<Figure size 640x480 with 1 Axes>"
      ]
     },
     "metadata": {},
     "output_type": "display_data"
    }
   ],
   "source": [
    "plt.plot([0,1],[0,1], color='red', linestyle='--')\n",
    "plt.xlabel(\"FPR\")\n",
    "plt.ylabel(\"TPR\")\n",
    "plt.annotate(\"TPR\", (0.47,0.65))\n",
    "plt.plot([0.5,0.6],[0.5,0.35], color='blue')\n",
    "plt.annotate(\"FPR\", (0.47,0.35))\n",
    "plt.plot([0.5,0.4],[0.5,0.65], color='blue')\n",
    "plt.annotate(\"Naive Bayes\", (clasificador1.FPR, clasificador1.TPR-0.05))\n",
    "plt.plot(clasificador1.FPR, clasificador1.TPR, marker='o', markersize=8, color=\"purple\")\n",
    "plt.annotate(\"KNN no Norm\", (clasificador2.FPR, clasificador2.TPR-0.05))\n",
    "plt.plot(clasificador2.FPR, clasificador2.TPR, marker='o', markersize=8, color=\"green\")\n",
    "plt.annotate(\"KNN Norm\", (clasificador3.FPR, clasificador3.TPR-0.05))\n",
    "plt.plot(clasificador3.FPR, clasificador3.TPR, marker='o', markersize=8, color=\"blue\")\n",
    "plt.annotate(\"RL no Norm\", (clasificador4.FPR, clasificador4.TPR-0.05))\n",
    "plt.plot(clasificador4.FPR, clasificador4.TPR, marker='o', markersize=8, color=\"red\")\n",
    "plt.annotate(\"RL Norm\", (clasificador5.FPR, clasificador5.TPR-0.05))\n",
    "plt.plot(clasificador5.FPR, clasificador5.TPR, marker='o', markersize=8, color=\"yellow\")\n",
    "plt.show()"
   ]
  },
  {
   "cell_type": "markdown",
   "metadata": {},
   "source": [
    "Ahora tenemos la gráfica del espacio ROC de pima-indians-diabetes, como se puede tiene más variación según los clasificadores, Naive Bayes por las mismas razones de antes sigue siendo el peor y sigue estando en peor lugar de forma normal. Aun así los demás casi siempre tiene un buen TPR."
   ]
  },
  {
   "cell_type": "markdown",
   "metadata": {},
   "source": [
    "## Apartado 4: Curva ROC y análisis de área AUC para Regresión Logística:"
   ]
  },
  {
   "cell_type": "markdown",
   "metadata": {},
   "source": [
    "- Para la creación de la curva ROC vamos a utilizar el método que consiste en realizar la ejecución de el clasificador de Regresión Logística y guardar el resultado de cada de los scores. Al final de la ejecución, cuando se tengan todos, procedemos a ordenarlos de mayor a menor para luego plasmarlo en la gráfica y asi obtener una curva que inicia en (0,0) y avanza hacia arriba y la derecha. Ya que, para ello si la predicción era positiva y el resultado era realmente positivo se avanzará hacia arriba, en caso contrario se avanzará a la derecha. Esto creará una curva cuyo destino sera el punto (1,1) y es lo que se llama curva ROC.\n",
    "\n",
    "- La línea que hay en medio representaría el peor caso y es que el algoritmo haya acertado y fallado la mitad y si estuviera por debajo significa que falla más que acierta, si esto ocurriera significa que el algoritmo no es válido y no es útil.\n",
    "\n",
    "- Una ejecución perfecta, llegaría al punto (0,1), esto es porque significaría que el algoritmo no ha tenido ni un solo error, pero esto por lo general es imposible."
   ]
  },
  {
   "cell_type": "markdown",
   "metadata": {},
   "source": [
    "Guardamos los scores dados y los ordenamos con la función sort de numpy, luego recorremos toda la lista y usamos el FPR para las coordenadas X y el TPR para la Y, es decir, (FPR,TPR). Con esto formamos la curva ROC del gráfico."
   ]
  },
  {
   "cell_type": "markdown",
   "metadata": {},
   "source": [
    "Creamos la curva ROC para el dataset pima-indians-diabetes:"
   ]
  },
  {
   "cell_type": "code",
   "execution_count": 61,
   "metadata": {},
   "outputs": [
    {
     "data": {
      "image/png": "[encoded data removed]",
      "text/plain": [
       "<Figure size 640x480 with 1 Axes>"
      ]
     },
     "metadata": {},
     "output_type": "display_data"
    }
   ],
   "source": [
    "clasificador5 = rl.RegresionLogistica()\n",
    "dataset = Datos('ConjuntosDatosP2/pima-indians-diabetes.csv')\n",
    "n_epocas = 10\n",
    "gradiente = 1\n",
    "erroresPima_1_10_normalizado = clasificador5.dameError(dataset,n_epocas,gradiente,True)\n",
    "\n",
    "plt.plot([0,1],[0,1], color='red', linestyle='--')\n",
    "plt.xlabel(\"FPR\")\n",
    "plt.ylabel(\"TPR\")\n",
    "\n",
    "sortedTPRs = np.sort(clasificador5.TPRs)\n",
    "sortedFPRs = np.sort(clasificador5.FPRs)\n",
    "\n",
    "for i in range(len(clasificador5.TPRs)):\n",
    "    plt.plot(sortedFPRs[i], sortedTPRs[i], marker='o', markersize=1, color=\"blue\")\n",
    "    \n",
    "plt.show()"
   ]
  },
  {
   "cell_type": "markdown",
   "metadata": {},
   "source": [
    "- Como se puede ver en la gráfica, los puntos van de la zona cercana a (0,0) hasta (1,1) ya que fueron ordenados, si los unieramos con una línea tendríamos una curva, esta sería la curva ROC, el área que quedaría debajo de la curva se le conoce como AUC (Area Under the Curve). Cuanto mayor es el área, mejor será el rendimiento del algoritmo, ya que cuanto más cerca del (0,1) mejor es, que sería el rendimiento perfecto.\n",
    "\n",
    "- En resumen, con nuestro algoritmo hemos conseguido una ejecución media, que no es para nada perfecta, pero si que tiene un rendimiento que está por encima de la línea de corte por lo que es útil y clasifica bien."
   ]
  },
  {
   "cell_type": "markdown",
   "metadata": {},
   "source": [
    "Pruebo a crear la curva ROC para el dataset de wdbc:"
   ]
  },
  {
   "cell_type": "code",
   "execution_count": 4,
   "metadata": {},
   "outputs": [
    {
     "name": "stdout",
     "output_type": "stream",
     "text": [
      "TP: 81.0\n",
      "FP: 4.0\n",
      "FN: 2.0\n",
      "TN: 55.0\n"
     ]
    },
    {
     "data": {
      "image/png": "[encoded data removed]",
      "text/plain": [
       "<Figure size 640x480 with 1 Axes>"
      ]
     },
     "metadata": {},
     "output_type": "display_data"
    }
   ],
   "source": [
    "clasificador5 = rl.RegresionLogistica()\n",
    "dataset = Datos('ConjuntosDatosP2/wdbc.csv')\n",
    "n_epocas = 10\n",
    "gradiente = 1\n",
    "erroresWdbc_1_10_normalizado = clasificador5.dameError(dataset,n_epocas,gradiente,True)\n",
    "\n",
    "print(\"TP:\", clasificador5.matrizConfusion[0][0])\n",
    "print(\"FP:\", clasificador5.matrizConfusion[0][1])\n",
    "print(\"FN:\", clasificador5.matrizConfusion[1][0])\n",
    "print(\"TN:\", clasificador5.matrizConfusion[1][1])\n",
    "\n",
    "plt.plot([0,1],[0,1], color='red', linestyle='--')\n",
    "plt.xlabel(\"FPR\")\n",
    "plt.ylabel(\"TPR\")\n",
    "\n",
    "for i in range(len(clasificador5.TPRs)):\n",
    "    plt.plot(sortedFPRs[i], sortedTPRs[i], marker='o', markersize=1, color=\"blue\")\n",
    "    \n",
    "plt.show()"
   ]
  },
  {
   "cell_type": "markdown",
   "metadata": {},
   "source": [
    "Si observamos la gráfica nos damos cuenta que para el dataset de wdbc nuestra Regresion Logística funciona de una manera muy eficiente ya que FPR apenas suele llegar al 0.2. Esto quiere decir que tiene un gran ratio de TPR, ya que detecta casi todos los positivos como positivos. Es decir, para este dataset nuestra Regresión Logística funciona de una manera muy eficiente y es muy eficaz, obteniendo resultados muy cerca del (1,1)."
   ]
  }
 ],
 "metadata": {
  "kernelspec": {
   "display_name": "Python 3.8.10 64-bit",
   "language": "python",
   "name": "python3"
  },
  "language_info": {
   "codemirror_mode": {
    "name": "ipython",
    "version": 3
   },
   "file_extension": ".py",
   "mimetype": "text/x-python",
   "name": "python",
   "nbconvert_exporter": "python",
   "pygments_lexer": "ipython3",
   "version": "3.8.10"
  },
  "orig_nbformat": 4,
  "vscode": {
   "interpreter": {
    "hash": "916dbcbb3f70747c44a77c7bcd40155683ae19c65e1c03b4aa3499c5328201f1"
   }
  }
 },
 "nbformat": 4,
 "nbformat_minor": 2
}
