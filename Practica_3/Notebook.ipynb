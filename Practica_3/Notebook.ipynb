{
 "cells": [
  {
   "cell_type": "code",
   "execution_count": 1,
   "metadata": {},
   "outputs": [
    {
     "ename": "ModuleNotFoundError",
     "evalue": "No module named 'pandas'",
     "output_type": "error",
     "traceback": [
      "\u001b[0;31m---------------------------------------------------------------------------\u001b[0m",
      "\u001b[0;31mModuleNotFoundError\u001b[0m                       Traceback (most recent call last)",
      "\u001b[0;32m/tmp/ipykernel_9102/1346680822.py\u001b[0m in \u001b[0;36m<cell line: 3>\u001b[0;34m()\u001b[0m\n\u001b[1;32m      1\u001b[0m \u001b[0;32mimport\u001b[0m \u001b[0mClasificador\u001b[0m\u001b[0;34m\u001b[0m\u001b[0;34m\u001b[0m\u001b[0m\n\u001b[1;32m      2\u001b[0m \u001b[0;32mimport\u001b[0m \u001b[0mClasificadorKNN\u001b[0m\u001b[0;34m\u001b[0m\u001b[0;34m\u001b[0m\u001b[0m\n\u001b[0;32m----> 3\u001b[0;31m \u001b[0;32mimport\u001b[0m \u001b[0mClusteringKMeans\u001b[0m\u001b[0;34m\u001b[0m\u001b[0;34m\u001b[0m\u001b[0m\n\u001b[0m\u001b[1;32m      4\u001b[0m \u001b[0;32mfrom\u001b[0m \u001b[0mDatos\u001b[0m \u001b[0;32mimport\u001b[0m \u001b[0mDatos\u001b[0m\u001b[0;34m\u001b[0m\u001b[0;34m\u001b[0m\u001b[0m\n\u001b[1;32m      5\u001b[0m \u001b[0;32mfrom\u001b[0m \u001b[0mClasificador\u001b[0m \u001b[0;32mimport\u001b[0m \u001b[0;34m*\u001b[0m\u001b[0;34m\u001b[0m\u001b[0;34m\u001b[0m\u001b[0m\n",
      "\u001b[0;32m~/Downloads/FAA-1461-main/Practica_3/ClusteringKMeans.py\u001b[0m in \u001b[0;36m<module>\u001b[0;34m\u001b[0m\n\u001b[1;32m      1\u001b[0m \u001b[0;34m\u001b[0m\u001b[0m\n\u001b[1;32m      2\u001b[0m \u001b[0;32mfrom\u001b[0m \u001b[0mast\u001b[0m \u001b[0;32mimport\u001b[0m \u001b[0mWhile\u001b[0m\u001b[0;34m\u001b[0m\u001b[0;34m\u001b[0m\u001b[0m\n\u001b[0;32m----> 3\u001b[0;31m \u001b[0;32mfrom\u001b[0m \u001b[0mDatos\u001b[0m \u001b[0;32mimport\u001b[0m \u001b[0;34m*\u001b[0m\u001b[0;34m\u001b[0m\u001b[0;34m\u001b[0m\u001b[0m\n\u001b[0m\u001b[1;32m      4\u001b[0m \u001b[0;32mimport\u001b[0m \u001b[0mrandom\u001b[0m\u001b[0;34m\u001b[0m\u001b[0;34m\u001b[0m\u001b[0m\n\u001b[1;32m      5\u001b[0m \u001b[0;32mimport\u001b[0m \u001b[0mmath\u001b[0m\u001b[0;34m\u001b[0m\u001b[0;34m\u001b[0m\u001b[0m\n",
      "\u001b[0;32m~/Downloads/FAA-1461-main/Practica_3/Datos.py\u001b[0m in \u001b[0;36m<module>\u001b[0;34m\u001b[0m\n\u001b[1;32m      2\u001b[0m \u001b[0;34m\u001b[0m\u001b[0m\n\u001b[1;32m      3\u001b[0m \u001b[0;31m# coding: utf-8\u001b[0m\u001b[0;34m\u001b[0m\u001b[0;34m\u001b[0m\u001b[0m\n\u001b[0;32m----> 4\u001b[0;31m \u001b[0;32mimport\u001b[0m \u001b[0mpandas\u001b[0m \u001b[0;32mas\u001b[0m \u001b[0mpd\u001b[0m\u001b[0;34m\u001b[0m\u001b[0;34m\u001b[0m\u001b[0m\n\u001b[0m\u001b[1;32m      5\u001b[0m \u001b[0;32mfrom\u001b[0m \u001b[0mClasificador\u001b[0m \u001b[0;32mimport\u001b[0m \u001b[0;34m*\u001b[0m\u001b[0;34m\u001b[0m\u001b[0;34m\u001b[0m\u001b[0m\n\u001b[1;32m      6\u001b[0m \u001b[0;32mimport\u001b[0m \u001b[0mnumpy\u001b[0m \u001b[0;32mas\u001b[0m \u001b[0mnp\u001b[0m\u001b[0;34m\u001b[0m\u001b[0;34m\u001b[0m\u001b[0m\n",
      "\u001b[0;31mModuleNotFoundError\u001b[0m: No module named 'pandas'"
     ]
    }
   ],
   "source": [
    "import Clasificador\n",
    "import ClasificadorKNN\n",
    "import ClusteringKMeans\n",
    "from Datos import Datos\n",
    "from Clasificador import *\n",
    "import EstrategiaParticionado as EstrategiaParticionado\n",
    "import RegresionLogistica as rl\n",
    "import numpy as np"
   ]
  },
  {
   "cell_type": "markdown",
   "metadata": {},
   "source": [
    "Matriz confusión Naive Bayes:"
   ]
  },
  {
   "cell_type": "code",
   "execution_count": 4,
   "metadata": {},
   "outputs": [],
   "source": [
    "from Datos import Datos\n",
    "from Clasificador import *\n",
    "dataset = Datos('/mnt/c/Users/alexm/Documents/FAA-1461/Practica_3/ConjuntosDatosP2/pima-indians-diabetes.csv')\n",
    "# print(dataset.datos)\n",
    "# print(type(dataset.datos['Atr2']))\n",
    "# print(dataset.datos['Atr2'].mean())\n",
    "\n",
    "#print(dataset.datos[\"Class\"][0]) #selecciona, de la columna Class, el valor que está en la fila 0\n",
    "#print(dataset.datos.keys())\n",
    "clasificador = ClasificadorNaiveBayes()\n",
    "\n",
    "validacionSimple = EstrategiaParticionado.ValidacionSimple(10,3)\n",
    "validacionCruzada = EstrategiaParticionado.ValidacionCruzada(4)\n",
    "# validacionSimple.creaParticiones(dataset.datos)\n",
    "# total = []\n",
    "# print(dataset.diccionario)\n",
    "#clasificador.entrenamiento(dataset.extraeDatos(validacionSimple.particiones[0].indicesTrain) , dataset.nominalAtributos, False,dataset.diccionario)\n",
    "#clasificador.entrenamiento(dataset.extraeDatos(validacionSimple), dataset.nominalAtributos, laplace=False)\n",
    "\n",
    "\n",
    "\n",
    "error = []\n",
    "\n",
    "error += clasificador.validacion(validacionCruzada, dataset, clasificador)\n",
    "\n",
    "\n",
    "print(f\"Los valores de la matriz de confusion para este primer dataset es: \\n{clasificador.matrizConfusion[0][0]}  {clasificador.matrizConfusion[0][1]}\\n{clasificador.matrizConfusion[1][0]}  {clasificador.matrizConfusion[1][1]}\")\n",
    "\n",
    "# error = []\n",
    "# for i in range(20):\n",
    "#     error += clasificador.validacion(validacionSimple, dataset, clasificador)\n",
    "# print(statistics.mean(error))\n",
    "# print(statistics.stdev(error))\n",
    "\n",
    "\n",
    "# error = []\n",
    "# for i in range(20):\n",
    "#     error += clasificador.validacion(validacionCruzada, dataset, clasificador, laPlace = True)\n",
    "# print(statistics.mean(error))\n",
    "# print(statistics.stdev(error))\n",
    "\n",
    "# error = []\n",
    "# for i in range(20):\n",
    "#     error += clasificador.validacion(validacionSimple, dataset, clasificador, laPlace = True)\n",
    "# print(statistics.mean(error))\n",
    "# print(statistics.stdev(error))\n",
    "\n",
    "#clasificador.validacion(validacionSimple, dataset, clasificador, laPlace = True)"
   ]
  },
  {
   "cell_type": "markdown",
   "metadata": {},
   "source": [
    "Matriz de KNN sin normalizar:"
   ]
  },
  {
   "cell_type": "code",
   "execution_count": null,
   "metadata": {},
   "outputs": [],
   "source": [
    "dataset = Datos('ConjuntosDatosP2/pima-indians-diabetes.csv')\n",
    "clasificador = ClasificadorKNN()\n",
    "\n",
    "validacionSimple = EstrategiaParticionado.ValidacionSimple(25,5)\n",
    "validacionCruzada = EstrategiaParticionado.ValidacionCruzada(4)\n",
    "\n",
    "K = 3\n",
    "errores = []\n",
    "for j in range(3):\n",
    "    validacionSimple.creaParticiones(dataset.datos)\n",
    "\n",
    "\n",
    "    #print(dataset.extraeDatos(validacionSimple.particiones[0].indicesTest))\n",
    "\n",
    "    #clasificador.calcularMediaDesviacion(dataset.datos,dataset.nominalAtributos)\n",
    "    #clasificador.normalizarDatos(dataset.datos,dataset.nominalAtributos)#TODO: normaliza es muy lento, hay que ver que está pasando. Además que si le pasas un porcentaje de la tabla no esta normalizando despues esos campos\n",
    "    #print(f'Indices Test:\\n{validacionSimple.particiones[0].indicesTest}')\n",
    "    #print(f'Indices Test:\\n{dataset.extraeDatos(validacionSimple.particiones[0].indicesTest)}')\n",
    "    for i in range(5):\n",
    "        \n",
    "        predicciones = clasificador.clasifica(dataset.extraeDatos(validacionSimple.particiones[i].indicesTest), dataset.extraeDatos(validacionSimple.particiones[i].indicesTrain),dataset.nominalAtributos,K)\n",
    "        \n",
    "        #print(f'{dataset.extraeDatos(validacionSimple.particiones[i].indicesTest)} vs {predicciones}')\n",
    "        error = clasificador.error(dataset.extraeDatos(validacionSimple.particiones[i].indicesTest),predicciones)\n",
    "\n",
    "        #print(error)\n",
    "        errores.append(error) \n",
    "print(f'Media de los errores sin normalizar: {np.mean(errores) * 100}%')\n",
    "\n",
    "print(f\"Los valores de la matriz de confusion y datos sin normalizar para este primer dataset es: \\n{clasificador.matrizConfusion[0][0]}  {clasificador.matrizConfusion[0][1]}\\n{clasificador.matrizConfusion[1][0]}  {clasificador.matrizConfusion[1][1]}\")"
   ]
  },
  {
   "cell_type": "markdown",
   "metadata": {},
   "source": [
    "Matriz de KNN normalizada:"
   ]
  },
  {
   "cell_type": "code",
   "execution_count": null,
   "metadata": {},
   "outputs": [],
   "source": [
    "dataset.datos = clasificador.entrenamiento(dataset.datos, dataset.nominalAtributos)\n",
    "\n",
    "\n",
    "# dataset = Datos('ConjuntosDatosP2/wdbc.csv')\n",
    "# clasificador = ClasificadorKNN()\n",
    "\n",
    "\n",
    "\n",
    "errores = []\n",
    "for j in range(3):\n",
    "    dataset = Datos('ConjuntosDatosP2/pima-indians-diabetes.csv')\n",
    "    validacionSimple.creaParticiones(dataset.datos)\n",
    "    dataset.datos = clasificador.entrenamiento(dataset.datos, dataset.nominalAtributos)\n",
    "\n",
    "#print(dataset.extraeDatos(validacionSimple.particiones[0].indicesTest))\n",
    "#print(f'Indices Test:\\n{validacionSimple.particiones[0].indicesTest}')\n",
    "#print(f'Indices Test:\\n{dataset.extraeDatos(validacionSimple.particiones[0].indicesTest)}')\n",
    "    for i in range(5):\n",
    "    \n",
    "        predicciones = clasificador.clasifica(dataset.extraeDatos(validacionSimple.particiones[i].indicesTest), dataset.extraeDatos(validacionSimple.particiones[i].indicesTrain),dataset.nominalAtributos,K)\n",
    "        \n",
    "        #print(f'{dataset.extraeDatos(validacionSimple.particiones[i].indicesTest)} vs {predicciones}')\n",
    "        error = clasificador.error(dataset.extraeDatos(validacionSimple.particiones[i].indicesTest),predicciones)\n",
    "\n",
    "        #print(error)\n",
    "        errores.append(error) \n",
    "print(f'Media de los errores normalizando: {np.mean(errores) * 100}%')\n",
    "\n",
    "print(f\"Los valores de la matriz de confusion para este primer dataset es: \\n{clasificador.matrizConfusion[0][0]}  {clasificador.matrizConfusion[0][1]}\\n{clasificador.matrizConfusion[1][0]}  {clasificador.matrizConfusion[1][1]}\")"
   ]
  }
 ],
 "metadata": {
  "kernelspec": {
   "display_name": "Python 3.8.10 64-bit",
   "language": "python",
   "name": "python3"
  },
  "language_info": {
   "codemirror_mode": {
    "name": "ipython",
    "version": 3
   },
   "file_extension": ".py",
   "mimetype": "text/x-python",
   "name": "python",
   "nbconvert_exporter": "python",
   "pygments_lexer": "ipython3",
   "version": "3.10.4"
  },
  "orig_nbformat": 4,
  "vscode": {
   "interpreter": {
    "hash": "916dbcbb3f70747c44a77c7bcd40155683ae19c65e1c03b4aa3499c5328201f1"
   }
  }
 },
 "nbformat": 4,
 "nbformat_minor": 2
}
