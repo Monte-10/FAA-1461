{
 "cells": [
  {
   "cell_type": "markdown",
   "metadata": {},
   "source": [
    "# Fundamentos de Aprendizaje Automático\n",
    "## _Práctica 2: K-NN y K-MEANS_\n",
    "### _Grupo 1461_\n",
    "#### _Rubén Torralba Manso y Alejandro Monterrubio Navarro_"
   ]
  },
  {
   "cell_type": "markdown",
   "metadata": {},
   "source": [
    "Importes:"
   ]
  },
  {
   "cell_type": "code",
   "execution_count": 61,
   "metadata": {},
   "outputs": [],
   "source": [
    "import pandas as pd\n",
    "import numpy as np\n",
    "import matplotlib.pyplot as plt\n",
    "from matplotlib.colors import ListedColormap\n",
    "import sklearn as sk\n",
    "import matplotlib.patches as mpatches\n",
    "from sklearn.model_selection import train_test_split\n",
    "from sklearn.preprocessing import MinMaxScaler\n",
    "from sklearn.neighbors import KNeighborsClassifier\n",
    "from sklearn.metrics import classification_report\n",
    "from sklearn.metrics import confusion_matrix\n",
    "from sklearn.model_selection import train_test_split\n",
    "from abc import ABCMeta,abstractmethod\n",
    "import numpy as np\n",
    "from Datos import Datos\n",
    "from Clasificador import *\n",
    "import EstrategiaParticionado as EstrategiaParticionado\n",
    "import matplotlib.pyplot as plt\n",
    "from sklearn.cluster import KMeans\n",
    "from sklearn.decomposition import PCA\n",
    "from EstrategiaParticionado import ValidacionSimple as validacionSimple\n",
    "from Kmeans import KMeans"
   ]
  },
  {
   "cell_type": "markdown",
   "metadata": {},
   "source": [
    "Carga de datasets:"
   ]
  },
  {
   "cell_type": "code",
   "execution_count": 85,
   "metadata": {},
   "outputs": [],
   "source": [
    "dataset1 = Datos('ConjuntosDatosP2/pima-indians-diabetes.csv')\n",
    "dataset2 = Datos('ConjuntosDatosP2/wdbc.csv')\n",
    "dataset3 = Datos('ConjuntosDatosP2/iris.csv')"
   ]
  },
  {
   "cell_type": "markdown",
   "metadata": {},
   "source": [
    "### Decisiones de diseño:"
   ]
  },
  {
   "cell_type": "markdown",
   "metadata": {},
   "source": [
    " A la hora de realizar el diseño, tomamos una decisión inicial que creíamos sería óptima, pero una vez realizada la práctica hemos llegado a la conclusión de que no así. La clase ideal para ubicar los métodos de normalización de los datos sería en la propia clase Datos. De esta forma, todas las operaciones que se hagan sobre un dataset, queda en la clase que se dedica a trabajar sobre este. El inconveniente que tiene ubicarlo en la clase Clasificador, que es como lo hemos hecho nosotros, es que cada vez que quieras normalizar los datos quedas supeditado a tener creado un objeto clasificador que seguramente ni necesites, quizá porque no estas clasificando y simplemente quieres normalizar datos de un dataset por otro motivo. Lo ideal es tener las operaciones sobre datos, en la clase Datos. Como nos hemos dado cuenta a posteriori, lo mantenemos así en nuestro código "
   ]
  },
  {
   "cell_type": "markdown",
   "metadata": {},
   "source": [
    "# Apartado 1: Algoritmo K-NN"
   ]
  },
  {
   "cell_type": "markdown",
   "metadata": {},
   "source": [
    "Hacemos que el clasificador sea K-NN y cargo su dataset:"
   ]
  },
  {
   "cell_type": "code",
   "execution_count": 88,
   "metadata": {},
   "outputs": [],
   "source": [
    "errores = []\n",
    "validacionSimple = EstrategiaParticionado.ValidacionSimple(10,5) #\n",
    "clasificador = ClasificadorKNN()"
   ]
  },
  {
   "cell_type": "markdown",
   "metadata": {},
   "source": [
    "Vamos a realizar pruebas para K = 1, K = 3 y K = 5, siempre impares para que no pueda haber empates"
   ]
  },
  {
   "cell_type": "markdown",
   "metadata": {},
   "source": [
    "## Para pima-indians-diabetes:"
   ]
  },
  {
   "cell_type": "markdown",
   "metadata": {},
   "source": [
    "Creamos las particiones necesarias mediante la estrategia de particionado de validación simple:"
   ]
  },
  {
   "cell_type": "code",
   "execution_count": 89,
   "metadata": {},
   "outputs": [],
   "source": [
    "validacionSimple.creaParticiones(dataset1.datos)"
   ]
  },
  {
   "cell_type": "markdown",
   "metadata": {},
   "source": [
    "### Para K = 1:"
   ]
  },
  {
   "cell_type": "markdown",
   "metadata": {},
   "source": [
    "#### Sin normalizar los datos:"
   ]
  },
  {
   "cell_type": "markdown",
   "metadata": {},
   "source": [
    "Le doy valor a la K:"
   ]
  },
  {
   "cell_type": "code",
   "execution_count": 6,
   "metadata": {},
   "outputs": [],
   "source": [
    "K = 1"
   ]
  },
  {
   "cell_type": "markdown",
   "metadata": {},
   "source": [
    "Mostramos el error mediante un bucle:"
   ]
  },
  {
   "cell_type": "code",
   "execution_count": 7,
   "metadata": {},
   "outputs": [],
   "source": [
    "for i in range(5):\n",
    "    \n",
    "    predicciones = clasificador.clasifica(dataset1.extraeDatos(validacionSimple.particiones[i].indicesTest), dataset1.extraeDatos(validacionSimple.particiones[i].indicesTrain),dataset1.nominalAtributos,K)\n",
    "    \n",
    "    error = clasificador.error(dataset1.extraeDatos(validacionSimple.particiones[i].indicesTest),predicciones)\n",
    "\n",
    "    errores.append(error) "
   ]
  },
  {
   "cell_type": "markdown",
   "metadata": {},
   "source": [
    "El error es:"
   ]
  },
  {
   "cell_type": "code",
   "execution_count": 8,
   "metadata": {},
   "outputs": [
    {
     "name": "stdout",
     "output_type": "stream",
     "text": [
      "37.89%\n"
     ]
    }
   ],
   "source": [
    "err_diabetes_k1 = f'{np.mean(errores) * 100:.2f}%'\n",
    "print(f'{np.mean(errores) * 100:.2f}%')"
   ]
  },
  {
   "cell_type": "markdown",
   "metadata": {},
   "source": [
    "#### Normalizando los datos:"
   ]
  },
  {
   "cell_type": "code",
   "execution_count": 9,
   "metadata": {},
   "outputs": [
    {
     "name": "stdout",
     "output_type": "stream",
     "text": [
      "    Pregs Plas Pres Skin Test  Mass   Pedi Age Class\n",
      "0       6  148   72   35    0  33.6  0.627  50     1\n",
      "1       1   85   66   29    0  26.6  0.351  31     0\n",
      "2       8  183   64    0    0  23.3  0.672  32     1\n",
      "3       1   89   66   23   94  28.1  0.167  21     0\n",
      "4       0  137   40   35  168  43.1  2.288  33     1\n",
      "..    ...  ...  ...  ...  ...   ...    ...  ..   ...\n",
      "763    10  101   76   48  180  32.9  0.171  63     0\n",
      "764     2  122   70   27    0  36.8  0.340  27     0\n",
      "765     5  121   72   23  112  26.2  0.245  30     0\n",
      "766     1  126   60    0    0  30.1  0.349  47     1\n",
      "767     1   93   70   31    0  30.4  0.315  23     0\n",
      "\n",
      "[768 rows x 9 columns]\n",
      "        Pregs      Plas      Pres      Skin      Test      Mass      Pedi  \\\n",
      "0   -0.599110  1.901133  0.562975 -0.088497 -0.704754 -0.113147 -0.693714   \n",
      "1   -0.687147  0.791870  0.457331 -0.194141 -0.704754 -0.236399 -0.698574   \n",
      "2   -0.563895  2.517390  0.422116 -0.704754 -0.704754 -0.294503 -0.692922   \n",
      "3   -0.687147  0.862300  0.457331 -0.299785  0.950336 -0.209988 -0.701814   \n",
      "4   -0.704754  1.707452 -0.000460 -0.088497  2.253280  0.054122 -0.664468   \n",
      "..        ...       ...       ...       ...       ...       ...       ...   \n",
      "763 -0.528681  1.073588  0.633404  0.140398  2.464568 -0.125472 -0.701743   \n",
      "764 -0.669539  1.443342  0.527760 -0.229356 -0.704754 -0.056804 -0.698768   \n",
      "765 -0.616717  1.425735  0.562975 -0.299785  1.267268 -0.243442 -0.700440   \n",
      "766 -0.687147  1.513771  0.351687 -0.704754 -0.704754 -0.174773 -0.698609   \n",
      "767 -0.687147  0.932729  0.527760 -0.158926 -0.704754 -0.169491 -0.699208   \n",
      "\n",
      "          Age Class  \n",
      "0    0.175613     1  \n",
      "1   -0.158926     0  \n",
      "2   -0.141319     1  \n",
      "3   -0.335000     0  \n",
      "4   -0.123712     1  \n",
      "..        ...   ...  \n",
      "763  0.404509     0  \n",
      "764 -0.229356     0  \n",
      "765 -0.176534     0  \n",
      "766  0.122791     1  \n",
      "767 -0.299785     0  \n",
      "\n",
      "[768 rows x 9 columns]\n"
     ]
    }
   ],
   "source": [
    "clasificador = ClasificadorKNN()\n",
    "validacionSimple.creaParticiones(dataset1.datos)\n",
    "clasificador.calcularMediaDesviacion(dataset1.datos,dataset1.nominalAtributos)\n",
    "clasificador.normalizarDatos(dataset1.datos,dataset1.nominalAtributos)"
   ]
  },
  {
   "cell_type": "markdown",
   "metadata": {},
   "source": [
    "Mostramos el error mediante un bucle:"
   ]
  },
  {
   "cell_type": "code",
   "execution_count": 10,
   "metadata": {},
   "outputs": [],
   "source": [
    "for i in range(5):\n",
    "    \n",
    "    predicciones = clasificador.clasifica(dataset1.extraeDatos(validacionSimple.particiones[i].indicesTest), dataset1.extraeDatos(validacionSimple.particiones[i].indicesTrain),dataset1.nominalAtributos,K)\n",
    "    \n",
    "    error = clasificador.error(dataset1.extraeDatos(validacionSimple.particiones[i].indicesTest),predicciones)\n",
    "\n",
    "    errores.append(error) "
   ]
  },
  {
   "cell_type": "markdown",
   "metadata": {},
   "source": [
    "El error es:"
   ]
  },
  {
   "cell_type": "code",
   "execution_count": 11,
   "metadata": {},
   "outputs": [
    {
     "name": "stdout",
     "output_type": "stream",
     "text": [
      "34.61%\n"
     ]
    }
   ],
   "source": [
    "err_diabetes_k1_norm = f'{np.mean(errores) * 100:.2f}%'\n",
    "print(f'{np.mean(errores) * 100:.2f}%')"
   ]
  },
  {
   "cell_type": "markdown",
   "metadata": {},
   "source": [
    "### Para K = 3:"
   ]
  },
  {
   "cell_type": "markdown",
   "metadata": {},
   "source": [
    "#### Sin normalizar los datos:"
   ]
  },
  {
   "cell_type": "markdown",
   "metadata": {},
   "source": [
    "Le doy valor a la K:"
   ]
  },
  {
   "cell_type": "code",
   "execution_count": 12,
   "metadata": {},
   "outputs": [],
   "source": [
    "K = 3"
   ]
  },
  {
   "cell_type": "markdown",
   "metadata": {},
   "source": [
    "Mostramos el error mediante un bucle:"
   ]
  },
  {
   "cell_type": "code",
   "execution_count": 13,
   "metadata": {},
   "outputs": [],
   "source": [
    "for i in range(5):\n",
    "    \n",
    "    predicciones = clasificador.clasifica(dataset1.extraeDatos(validacionSimple.particiones[i].indicesTest), dataset1.extraeDatos(validacionSimple.particiones[i].indicesTrain),dataset1.nominalAtributos,K)\n",
    "    \n",
    "    error = clasificador.error(dataset1.extraeDatos(validacionSimple.particiones[i].indicesTest),predicciones)\n",
    "\n",
    "    errores.append(error) "
   ]
  },
  {
   "cell_type": "markdown",
   "metadata": {},
   "source": [
    "El error es:"
   ]
  },
  {
   "cell_type": "code",
   "execution_count": 14,
   "metadata": {},
   "outputs": [
    {
     "name": "stdout",
     "output_type": "stream",
     "text": [
      "33.33%\n"
     ]
    }
   ],
   "source": [
    "err_diabetes_k3 = f'{np.mean(errores) * 100:.2f}%'\n",
    "print(f'{np.mean(errores) * 100:.2f}%')"
   ]
  },
  {
   "cell_type": "markdown",
   "metadata": {},
   "source": [
    "#### Normalizando los datos:"
   ]
  },
  {
   "cell_type": "code",
   "execution_count": 15,
   "metadata": {},
   "outputs": [
    {
     "name": "stdout",
     "output_type": "stream",
     "text": [
      "        Pregs      Plas      Pres      Skin      Test      Mass      Pedi  \\\n",
      "0   -0.599110  1.901133  0.562975 -0.088497 -0.704754 -0.113147 -0.693714   \n",
      "1   -0.687147  0.791870  0.457331 -0.194141 -0.704754 -0.236399 -0.698574   \n",
      "2   -0.563895  2.517390  0.422116 -0.704754 -0.704754 -0.294503 -0.692922   \n",
      "3   -0.687147  0.862300  0.457331 -0.299785  0.950336 -0.209988 -0.701814   \n",
      "4   -0.704754  1.707452 -0.000460 -0.088497  2.253280  0.054122 -0.664468   \n",
      "..        ...       ...       ...       ...       ...       ...       ...   \n",
      "763 -0.528681  1.073588  0.633404  0.140398  2.464568 -0.125472 -0.701743   \n",
      "764 -0.669539  1.443342  0.527760 -0.229356 -0.704754 -0.056804 -0.698768   \n",
      "765 -0.616717  1.425735  0.562975 -0.299785  1.267268 -0.243442 -0.700440   \n",
      "766 -0.687147  1.513771  0.351687 -0.704754 -0.704754 -0.174773 -0.698609   \n",
      "767 -0.687147  0.932729  0.527760 -0.158926 -0.704754 -0.169491 -0.699208   \n",
      "\n",
      "          Age Class  \n",
      "0    0.175613     1  \n",
      "1   -0.158926     0  \n",
      "2   -0.141319     1  \n",
      "3   -0.335000     0  \n",
      "4   -0.123712     1  \n",
      "..        ...   ...  \n",
      "763  0.404509     0  \n",
      "764 -0.229356     0  \n",
      "765 -0.176534     0  \n",
      "766  0.122791     1  \n",
      "767 -0.299785     0  \n",
      "\n",
      "[768 rows x 9 columns]\n",
      "        Pregs      Plas      Pres      Skin      Test      Mass      Pedi  \\\n",
      "0   -0.726117  1.811202  0.453201 -0.207932 -0.833327 -0.232948 -0.822124   \n",
      "1   -0.815459  0.685490  0.345990 -0.315143 -0.833327 -0.358027 -0.827056   \n",
      "2   -0.690380  2.436598  0.310253 -0.833327 -0.833327 -0.416993 -0.821320   \n",
      "3   -0.815459  0.756964  0.345990 -0.422353  0.846306 -0.331224 -0.830343   \n",
      "4   -0.833327  1.614649 -0.118590 -0.207932  2.168571 -0.063197 -0.792444   \n",
      "..        ...       ...       ...       ...       ...       ...       ...   \n",
      "763 -0.654643  0.971385  0.524674  0.024358  2.382992 -0.245456 -0.830272   \n",
      "764 -0.797591  1.346623  0.417464 -0.350879 -0.833327 -0.175769 -0.827252   \n",
      "765 -0.743985  1.328754  0.453201 -0.422353  1.167938 -0.365174 -0.828950   \n",
      "766 -0.815459  1.418097  0.238779 -0.833327 -0.833327 -0.295487 -0.827091   \n",
      "767 -0.815459  0.828438  0.417464 -0.279406 -0.833327 -0.290127 -0.827699   \n",
      "\n",
      "          Age Class  \n",
      "0    0.060095     1  \n",
      "1   -0.279406     0  \n",
      "2   -0.261537     1  \n",
      "3   -0.458090     0  \n",
      "4   -0.243669     1  \n",
      "..        ...   ...  \n",
      "763  0.292385     0  \n",
      "764 -0.350879     0  \n",
      "765 -0.297274     0  \n",
      "766  0.006489     1  \n",
      "767 -0.422353     0  \n",
      "\n",
      "[768 rows x 9 columns]\n"
     ]
    }
   ],
   "source": [
    "clasificador = ClasificadorKNN()\n",
    "validacionSimple.creaParticiones(dataset1.datos)\n",
    "clasificador.calcularMediaDesviacion(dataset1.datos,dataset1.nominalAtributos)\n",
    "clasificador.normalizarDatos(dataset1.datos,dataset1.nominalAtributos)"
   ]
  },
  {
   "cell_type": "markdown",
   "metadata": {},
   "source": [
    "Mostramos el error mediante un bucle:"
   ]
  },
  {
   "cell_type": "code",
   "execution_count": 16,
   "metadata": {},
   "outputs": [],
   "source": [
    "for i in range(5):\n",
    "    \n",
    "    predicciones = clasificador.clasifica(dataset1.extraeDatos(validacionSimple.particiones[i].indicesTest), dataset1.extraeDatos(validacionSimple.particiones[i].indicesTrain),dataset1.nominalAtributos,K)\n",
    "    \n",
    "    error = clasificador.error(dataset1.extraeDatos(validacionSimple.particiones[i].indicesTest),predicciones)\n",
    "\n",
    "    errores.append(error) "
   ]
  },
  {
   "cell_type": "markdown",
   "metadata": {},
   "source": [
    "El error es:"
   ]
  },
  {
   "cell_type": "code",
   "execution_count": 17,
   "metadata": {},
   "outputs": [
    {
     "name": "stdout",
     "output_type": "stream",
     "text": [
      "32.37%\n"
     ]
    }
   ],
   "source": [
    "err_diabetes_k3_norm = f'{np.mean(errores) * 100:.2f}%'\n",
    "print(f'{np.mean(errores) * 100:.2f}%')"
   ]
  },
  {
   "cell_type": "markdown",
   "metadata": {},
   "source": [
    "### Para K = 5:"
   ]
  },
  {
   "cell_type": "markdown",
   "metadata": {},
   "source": [
    "#### Sin normalizar los datos:"
   ]
  },
  {
   "cell_type": "markdown",
   "metadata": {},
   "source": [
    "Le doy valor a la K:"
   ]
  },
  {
   "cell_type": "code",
   "execution_count": 18,
   "metadata": {},
   "outputs": [],
   "source": [
    "K = 5"
   ]
  },
  {
   "cell_type": "markdown",
   "metadata": {},
   "source": [
    "Mostramos el error mediante un bucle:"
   ]
  },
  {
   "cell_type": "code",
   "execution_count": 19,
   "metadata": {},
   "outputs": [],
   "source": [
    "for i in range(5):\n",
    "    \n",
    "    predicciones = clasificador.clasifica(dataset1.extraeDatos(validacionSimple.particiones[i].indicesTest), dataset1.extraeDatos(validacionSimple.particiones[i].indicesTrain),dataset1.nominalAtributos,K)\n",
    "    \n",
    "    error = clasificador.error(dataset1.extraeDatos(validacionSimple.particiones[i].indicesTest),predicciones)\n",
    "\n",
    "    errores.append(error) "
   ]
  },
  {
   "cell_type": "markdown",
   "metadata": {},
   "source": [
    "El error es:"
   ]
  },
  {
   "cell_type": "code",
   "execution_count": 20,
   "metadata": {},
   "outputs": [
    {
     "name": "stdout",
     "output_type": "stream",
     "text": [
      "31.47%\n"
     ]
    }
   ],
   "source": [
    "err_diabetes_k5 = f'{np.mean(errores) * 100:.2f}%'\n",
    "print(f'{np.mean(errores) * 100:.2f}%')"
   ]
  },
  {
   "cell_type": "markdown",
   "metadata": {},
   "source": [
    "#### Normalizando los datos:"
   ]
  },
  {
   "cell_type": "code",
   "execution_count": 21,
   "metadata": {},
   "outputs": [
    {
     "name": "stdout",
     "output_type": "stream",
     "text": [
      "        Pregs      Plas      Pres      Skin      Test      Mass      Pedi  \\\n",
      "0   -0.726117  1.811202  0.453201 -0.207932 -0.833327 -0.232948 -0.822124   \n",
      "1   -0.815459  0.685490  0.345990 -0.315143 -0.833327 -0.358027 -0.827056   \n",
      "2   -0.690380  2.436598  0.310253 -0.833327 -0.833327 -0.416993 -0.821320   \n",
      "3   -0.815459  0.756964  0.345990 -0.422353  0.846306 -0.331224 -0.830343   \n",
      "4   -0.833327  1.614649 -0.118590 -0.207932  2.168571 -0.063197 -0.792444   \n",
      "..        ...       ...       ...       ...       ...       ...       ...   \n",
      "763 -0.654643  0.971385  0.524674  0.024358  2.382992 -0.245456 -0.830272   \n",
      "764 -0.797591  1.346623  0.417464 -0.350879 -0.833327 -0.175769 -0.827252   \n",
      "765 -0.743985  1.328754  0.453201 -0.422353  1.167938 -0.365174 -0.828950   \n",
      "766 -0.815459  1.418097  0.238779 -0.833327 -0.833327 -0.295487 -0.827091   \n",
      "767 -0.815459  0.828438  0.417464 -0.279406 -0.833327 -0.290127 -0.827699   \n",
      "\n",
      "          Age Class  \n",
      "0    0.060095     1  \n",
      "1   -0.279406     0  \n",
      "2   -0.261537     1  \n",
      "3   -0.458090     0  \n",
      "4   -0.243669     1  \n",
      "..        ...   ...  \n",
      "763  0.292385     0  \n",
      "764 -0.350879     0  \n",
      "765 -0.297274     0  \n",
      "766  0.006489     1  \n",
      "767 -0.422353     0  \n",
      "\n",
      "[768 rows x 9 columns]\n",
      "        Pregs      Plas      Pres      Skin      Test      Mass      Pedi  \\\n",
      "0   -0.736303  1.792898  0.439241 -0.219776 -0.843171 -0.244712 -0.832003   \n",
      "1   -0.825360  0.670788  0.332373 -0.326644 -0.843171 -0.369391 -0.836919   \n",
      "2   -0.700681  2.416293  0.296751 -0.843171 -0.843171 -0.428168 -0.831202   \n",
      "3   -0.825360  0.742033  0.332373 -0.433512  0.831089 -0.342674 -0.840196   \n",
      "4   -0.843171  1.596974 -0.130720 -0.219776  2.149124 -0.075505 -0.802419   \n",
      "..        ...       ...       ...       ...       ...       ...       ...   \n",
      "763 -0.665058  0.955768  0.510486  0.011770  2.362859 -0.257180 -0.840125   \n",
      "764 -0.807548  1.329805  0.403618 -0.362266 -0.843171 -0.187716 -0.837115   \n",
      "765 -0.754115  1.311994  0.439241 -0.433512  1.151692 -0.376515 -0.838807   \n",
      "766 -0.825360  1.401050  0.225506 -0.843171 -0.843171 -0.307051 -0.836955   \n",
      "767 -0.825360  0.813278  0.403618 -0.291021 -0.843171 -0.301708 -0.837560   \n",
      "\n",
      "          Age Class  \n",
      "0    0.047393     1  \n",
      "1   -0.291021     0  \n",
      "2   -0.273210     1  \n",
      "3   -0.469134     0  \n",
      "4   -0.255399     1  \n",
      "..        ...   ...  \n",
      "763  0.278940     0  \n",
      "764 -0.362266     0  \n",
      "765 -0.308833     0  \n",
      "766 -0.006041     1  \n",
      "767 -0.433512     0  \n",
      "\n",
      "[768 rows x 9 columns]\n"
     ]
    }
   ],
   "source": [
    "clasificador = ClasificadorKNN()\n",
    "validacionSimple.creaParticiones(dataset1.datos)\n",
    "clasificador.calcularMediaDesviacion(dataset1.datos,dataset1.nominalAtributos)\n",
    "clasificador.normalizarDatos(dataset1.datos,dataset1.nominalAtributos)"
   ]
  },
  {
   "cell_type": "markdown",
   "metadata": {},
   "source": [
    "Mostramos el error mediante un bucle:"
   ]
  },
  {
   "cell_type": "code",
   "execution_count": 22,
   "metadata": {},
   "outputs": [],
   "source": [
    "for i in range(5):\n",
    "    \n",
    "    predicciones = clasificador.clasifica(dataset1.extraeDatos(validacionSimple.particiones[i].indicesTest), dataset1.extraeDatos(validacionSimple.particiones[i].indicesTrain),dataset1.nominalAtributos,K)\n",
    "    \n",
    "    error = clasificador.error(dataset1.extraeDatos(validacionSimple.particiones[i].indicesTest),predicciones)\n",
    "\n",
    "    errores.append(error) "
   ]
  },
  {
   "cell_type": "markdown",
   "metadata": {},
   "source": [
    "El error es:"
   ]
  },
  {
   "cell_type": "code",
   "execution_count": 23,
   "metadata": {},
   "outputs": [
    {
     "name": "stdout",
     "output_type": "stream",
     "text": [
      "30.53%\n"
     ]
    }
   ],
   "source": [
    "err_diabetes_k5_norm = f'{np.mean(errores) * 100:.2f}%'\n",
    "print(f'{np.mean(errores) * 100:.2f}%')"
   ]
  },
  {
   "cell_type": "markdown",
   "metadata": {},
   "source": [
    "## Para wdbc:"
   ]
  },
  {
   "cell_type": "markdown",
   "metadata": {},
   "source": [
    "Creamos las particiones necesarias mediante la estrategia de particionado de validación simple:"
   ]
  },
  {
   "cell_type": "code",
   "execution_count": 90,
   "metadata": {},
   "outputs": [],
   "source": [
    "validacionSimple.creaParticiones(dataset2.datos)"
   ]
  },
  {
   "cell_type": "markdown",
   "metadata": {},
   "source": [
    "### Para K = 1:"
   ]
  },
  {
   "cell_type": "markdown",
   "metadata": {},
   "source": [
    "#### Sin normalizar los datos:"
   ]
  },
  {
   "cell_type": "markdown",
   "metadata": {},
   "source": [
    "Le doy valor a la K:"
   ]
  },
  {
   "cell_type": "code",
   "execution_count": 91,
   "metadata": {},
   "outputs": [],
   "source": [
    "K = 1"
   ]
  },
  {
   "cell_type": "markdown",
   "metadata": {},
   "source": [
    "Mostramos el error mediante un bucle:"
   ]
  },
  {
   "cell_type": "code",
   "execution_count": 92,
   "metadata": {},
   "outputs": [],
   "source": [
    "for i in range(5):\n",
    "    \n",
    "    predicciones = clasificador.clasifica(dataset2.extraeDatos(validacionSimple.particiones[i].indicesTest), dataset2.extraeDatos(validacionSimple.particiones[i].indicesTrain),dataset2.nominalAtributos,K)\n",
    "    \n",
    "    error = clasificador.error(dataset2.extraeDatos(validacionSimple.particiones[i].indicesTest),predicciones)\n",
    "\n",
    "    errores.append(error) "
   ]
  },
  {
   "cell_type": "markdown",
   "metadata": {},
   "source": [
    "El error es:"
   ]
  },
  {
   "cell_type": "code",
   "execution_count": 93,
   "metadata": {},
   "outputs": [
    {
     "name": "stdout",
     "output_type": "stream",
     "text": [
      "9.29%\n"
     ]
    }
   ],
   "source": [
    "err_wdbc_k1 = f'{np.mean(errores) * 100:.2f}%'\n",
    "print(f'{np.mean(errores) * 100:.2f}%')"
   ]
  },
  {
   "cell_type": "markdown",
   "metadata": {},
   "source": [
    "#### Normalizando los datos:"
   ]
  },
  {
   "cell_type": "code",
   "execution_count": 94,
   "metadata": {},
   "outputs": [
    {
     "name": "stdout",
     "output_type": "stream",
     "text": [
      "    Atributo1 Atributo2 Atributo3 Atributo4 Atributo5 Atributo6 Atributo7  \\\n",
      "0       17.99     10.38     122.8      1001    0.1184    0.2776    0.3001   \n",
      "1       20.57     17.77     132.9      1326   0.08474   0.07864    0.0869   \n",
      "2       19.69     21.25       130      1203    0.1096    0.1599    0.1974   \n",
      "3       11.42     20.38     77.58     386.1    0.1425    0.2839    0.2414   \n",
      "4       20.29     14.34     135.1      1297    0.1003    0.1328     0.198   \n",
      "..        ...       ...       ...       ...       ...       ...       ...   \n",
      "564     21.56     22.39       142      1479     0.111    0.1159    0.2439   \n",
      "565     20.13     28.25     131.2      1261    0.0978    0.1034     0.144   \n",
      "566      16.6     28.08     108.3     858.1   0.08455    0.1023   0.09251   \n",
      "567      20.6     29.33     140.1      1265    0.1178     0.277    0.3514   \n",
      "568      7.76     24.54     47.92       181   0.05263   0.04362         0   \n",
      "\n",
      "    Atributo8 Atributo9 Atributo10  ... Atributo22 Atributo23 Atributo24  \\\n",
      "0      0.1471    0.2419    0.07871  ...      17.33      184.6       2019   \n",
      "1     0.07017    0.1812    0.05667  ...      23.41      158.8       1956   \n",
      "2      0.1279    0.2069    0.05999  ...      25.53      152.5       1709   \n",
      "3      0.1052    0.2597    0.09744  ...       26.5      98.87      567.7   \n",
      "4      0.1043    0.1809    0.05883  ...      16.67      152.2       1575   \n",
      "..        ...       ...        ...  ...        ...        ...        ...   \n",
      "564    0.1389    0.1726    0.05623  ...       26.4      166.1       2027   \n",
      "565   0.09791    0.1752    0.05533  ...      38.25        155       1731   \n",
      "566   0.05302     0.159    0.05648  ...      34.12      126.7       1124   \n",
      "567     0.152    0.2397    0.07016  ...      39.42      184.6       1821   \n",
      "568         0    0.1587    0.05884  ...      30.37      59.16      268.6   \n",
      "\n",
      "    Atributo25 Atributo26 Atributo27 Atributo28 Atributo29 Atributo30 Class  \n",
      "0       0.1622     0.6656     0.7119     0.2654     0.4601     0.1189     2  \n",
      "1       0.1238     0.1866     0.2416      0.186      0.275    0.08902     2  \n",
      "2       0.1444     0.4245     0.4504      0.243     0.3613    0.08758     2  \n",
      "3       0.2098     0.8663     0.6869     0.2575     0.6638      0.173     2  \n",
      "4       0.1374      0.205        0.4     0.1625     0.2364    0.07678     2  \n",
      "..         ...        ...        ...        ...        ...        ...   ...  \n",
      "564      0.141     0.2113     0.4107     0.2216      0.206    0.07115     2  \n",
      "565     0.1166     0.1922     0.3215     0.1628     0.2572    0.06637     2  \n",
      "566     0.1139     0.3094     0.3403     0.1418     0.2218     0.0782     2  \n",
      "567      0.165     0.8681     0.9387      0.265     0.4087      0.124     2  \n",
      "568    0.08996    0.06444          0          0     0.2871    0.07039     1  \n",
      "\n",
      "[569 rows x 31 columns]\n",
      "     Atributo1  Atributo2  Atributo3  Atributo4  Atributo5  Atributo6  \\\n",
      "0    -0.186571  -0.220417   0.279584   4.185483  -0.266057  -0.265349   \n",
      "1    -0.175096  -0.187549   0.324505   5.630959  -0.266207  -0.266234   \n",
      "2    -0.179010  -0.172072   0.311607   5.083902  -0.266096  -0.265872   \n",
      "3    -0.215792  -0.175941   0.078463   1.450642  -0.265950  -0.265321   \n",
      "4    -0.176341  -0.202805   0.334290   5.501978  -0.266138  -0.265993   \n",
      "..         ...        ...        ...        ...        ...        ...   \n",
      "564  -0.170693  -0.167001   0.364978   6.311444  -0.266090  -0.266068   \n",
      "565  -0.177053  -0.140938   0.316944   5.341864  -0.266149  -0.266124   \n",
      "566  -0.192753  -0.141695   0.215093   3.549918  -0.266208  -0.266129   \n",
      "567  -0.174963  -0.136135   0.356528   5.359654  -0.266060  -0.265352   \n",
      "568  -0.232070  -0.157439  -0.053454   0.538435  -0.266350  -0.266390   \n",
      "\n",
      "     Atributo7  Atributo8  Atributo9  Atributo10  ...  Atributo22  Atributo23  \\\n",
      "0    -0.265249  -0.265929  -0.265508   -0.266234  ...   -0.189506    0.554447   \n",
      "1    -0.266197  -0.266272  -0.265778   -0.266332  ...   -0.162465    0.439698   \n",
      "2    -0.265706  -0.266015  -0.265663   -0.266317  ...   -0.153036    0.411678   \n",
      "3    -0.265510  -0.266116  -0.265429   -0.266150  ...   -0.148722    0.173152   \n",
      "4    -0.265703  -0.266120  -0.265779   -0.266322  ...   -0.192442    0.410344   \n",
      "..         ...        ...        ...         ...  ...         ...         ...   \n",
      "564  -0.265499  -0.265966  -0.265816   -0.266334  ...   -0.149167    0.472166   \n",
      "565  -0.265943  -0.266148  -0.265804   -0.266338  ...   -0.096462    0.422797   \n",
      "566  -0.266172  -0.266348  -0.265876   -0.266332  ...   -0.114831    0.296930   \n",
      "567  -0.265021  -0.265908  -0.265518   -0.266272  ...   -0.091259    0.554447   \n",
      "568  -0.266584  -0.266584  -0.265878   -0.266322  ...   -0.131509   -0.003463   \n",
      "\n",
      "     Atributo24  Atributo25  Atributo26  Atributo27  Atributo28  Atributo29  \\\n",
      "0      8.713158   -0.265862   -0.263623   -0.263417   -0.265403   -0.264537   \n",
      "1      8.432958   -0.266033   -0.265754   -0.265509   -0.265756   -0.265361   \n",
      "2      7.334397   -0.265941   -0.264696   -0.264580   -0.265503   -0.264977   \n",
      "3      2.258329   -0.265651   -0.262731   -0.263529   -0.265438   -0.263631   \n",
      "4      6.738416   -0.265973   -0.265672   -0.264805   -0.265861   -0.265532   \n",
      "..          ...         ...         ...         ...         ...         ...   \n",
      "564    8.748739   -0.265957   -0.265644   -0.264757   -0.265598   -0.265667   \n",
      "565    7.432244   -0.266065   -0.265729   -0.265154   -0.265860   -0.265440   \n",
      "566    4.732540   -0.266077   -0.265208   -0.265070   -0.265953   -0.265597   \n",
      "567    7.832530   -0.265850   -0.262723   -0.262409   -0.265405   -0.264766   \n",
      "568    0.928047   -0.266184   -0.266297   -0.266584   -0.266584   -0.265307   \n",
      "\n",
      "     Atributo30  Class  \n",
      "0     -0.266055      2  \n",
      "1     -0.266188      2  \n",
      "2     -0.266194      2  \n",
      "3     -0.265814      2  \n",
      "4     -0.266242      2  \n",
      "..          ...    ...  \n",
      "564   -0.266267      2  \n",
      "565   -0.266288      2  \n",
      "566   -0.266236      2  \n",
      "567   -0.266032      2  \n",
      "568   -0.266271      1  \n",
      "\n",
      "[569 rows x 31 columns]\n"
     ]
    }
   ],
   "source": [
    "clasificador = ClasificadorKNN()\n",
    "validacionSimple.creaParticiones(dataset2.datos)\n",
    "clasificador.calcularMediaDesviacion(dataset2.datos,dataset2.nominalAtributos)\n",
    "clasificador.normalizarDatos(dataset2.datos,dataset2.nominalAtributos)"
   ]
  },
  {
   "cell_type": "markdown",
   "metadata": {},
   "source": [
    "Mostramos el error mediante un bucle:"
   ]
  },
  {
   "cell_type": "code",
   "execution_count": 95,
   "metadata": {},
   "outputs": [],
   "source": [
    "for i in range(5):\n",
    "    \n",
    "    predicciones = clasificador.clasifica(dataset2.extraeDatos(validacionSimple.particiones[i].indicesTest), dataset2.extraeDatos(validacionSimple.particiones[i].indicesTrain),dataset2.nominalAtributos,K)\n",
    "    \n",
    "    error = clasificador.error(dataset2.extraeDatos(validacionSimple.particiones[i].indicesTest),predicciones)\n",
    "\n",
    "    errores.append(error) "
   ]
  },
  {
   "cell_type": "markdown",
   "metadata": {},
   "source": [
    "El error es:"
   ]
  },
  {
   "cell_type": "code",
   "execution_count": 96,
   "metadata": {},
   "outputs": [
    {
     "name": "stdout",
     "output_type": "stream",
     "text": [
      "7.68%\n"
     ]
    }
   ],
   "source": [
    "err_wdbc_k1_norm = f'{np.mean(errores) * 100:.2f}%'\n",
    "print(f'{np.mean(errores) * 100:.2f}%')"
   ]
  },
  {
   "cell_type": "markdown",
   "metadata": {},
   "source": [
    "### Para K = 3:"
   ]
  },
  {
   "cell_type": "markdown",
   "metadata": {},
   "source": [
    "#### Sin normalizar los datos:"
   ]
  },
  {
   "cell_type": "markdown",
   "metadata": {},
   "source": [
    "Le doy valor a la K:"
   ]
  },
  {
   "cell_type": "code",
   "execution_count": 97,
   "metadata": {},
   "outputs": [],
   "source": [
    "K = 3"
   ]
  },
  {
   "cell_type": "markdown",
   "metadata": {},
   "source": [
    "Mostramos el error mediante un bucle:"
   ]
  },
  {
   "cell_type": "code",
   "execution_count": 131,
   "metadata": {},
   "outputs": [],
   "source": [
    "for i in range(5):\n",
    "    \n",
    "    predicciones = clasificador.clasifica(dataset2.extraeDatos(validacionSimple.particiones[i].indicesTest), dataset2.extraeDatos(validacionSimple.particiones[i].indicesTrain),dataset2.nominalAtributos,K)\n",
    "    \n",
    "    error = clasificador.error(dataset2.extraeDatos(validacionSimple.particiones[i].indicesTest),predicciones)\n",
    "\n",
    "    errores.append(error) "
   ]
  },
  {
   "cell_type": "markdown",
   "metadata": {},
   "source": [
    "El error es:"
   ]
  },
  {
   "cell_type": "code",
   "execution_count": 132,
   "metadata": {},
   "outputs": [
    {
     "name": "stdout",
     "output_type": "stream",
     "text": [
      "5.90%\n"
     ]
    }
   ],
   "source": [
    "err_wdbc_k3 = f'{np.mean(errores) * 100:.2f}%'\n",
    "print(f'{np.mean(errores) * 100:.2f}%')"
   ]
  },
  {
   "cell_type": "markdown",
   "metadata": {},
   "source": [
    "#### Normalizando los datos:"
   ]
  },
  {
   "cell_type": "code",
   "execution_count": 133,
   "metadata": {},
   "outputs": [
    {
     "name": "stdout",
     "output_type": "stream",
     "text": [
      "     Atributo1  Atributo2  Atributo3  Atributo4  Atributo5  Atributo6  \\\n",
      "0    -0.234025  -0.266711   0.216152   3.988174  -0.310786  -0.310102   \n",
      "1    -0.222943  -0.234970   0.259534   5.384105  -0.310931  -0.310957   \n",
      "2    -0.226723  -0.220022   0.247078   4.855798  -0.310824  -0.310608   \n",
      "3    -0.262244  -0.223759   0.021925   1.347072  -0.310683  -0.310075   \n",
      "4    -0.224146  -0.249702   0.268983   5.259545  -0.310864  -0.310724   \n",
      "..         ...        ...        ...        ...        ...        ...   \n",
      "564  -0.218691  -0.215126   0.298620   6.041266  -0.310818  -0.310797   \n",
      "565  -0.224833  -0.189956   0.252232   5.104919  -0.310875  -0.310851   \n",
      "566  -0.239995  -0.190686   0.153872   3.374393  -0.310932  -0.310855   \n",
      "567  -0.222814  -0.185317   0.290459   5.122099  -0.310789  -0.310105   \n",
      "568  -0.277964  -0.205891  -0.105470   0.466132  -0.311069  -0.311107   \n",
      "\n",
      "     Atributo7  Atributo8  Atributo9  Atributo10  ...  Atributo22  Atributo23  \\\n",
      "0    -0.310006  -0.310663  -0.310256   -0.310957  ...   -0.236859    0.481594   \n",
      "1    -0.310922  -0.310993  -0.310517   -0.311051  ...   -0.210745    0.370779   \n",
      "2    -0.310447  -0.310745  -0.310406   -0.311037  ...   -0.201639    0.343719   \n",
      "3    -0.310258  -0.310843  -0.310179   -0.310876  ...   -0.197473    0.113369   \n",
      "4    -0.310444  -0.310847  -0.310518   -0.311042  ...   -0.239694    0.342431   \n",
      "..         ...        ...        ...         ...  ...         ...         ...   \n",
      "564  -0.310247  -0.310698  -0.310553   -0.311053  ...   -0.197902    0.402133   \n",
      "565  -0.310676  -0.310874  -0.310542   -0.311057  ...   -0.147004    0.354457   \n",
      "566  -0.310897  -0.311067  -0.310612   -0.311052  ...   -0.164744    0.232904   \n",
      "567  -0.309785  -0.310642  -0.310265   -0.310993  ...   -0.141979    0.481594   \n",
      "568  -0.311295  -0.311295  -0.310613   -0.311042  ...   -0.180850   -0.057192   \n",
      "\n",
      "     Atributo24  Atributo25  Atributo26  Atributo27  Atributo28  Atributo29  \\\n",
      "0      8.360660   -0.310598   -0.308436   -0.308237   -0.310155   -0.309319   \n",
      "1      8.090064   -0.310763   -0.310493   -0.310257   -0.310496   -0.310114   \n",
      "2      7.029156   -0.310675   -0.309472   -0.309360   -0.310251   -0.309743   \n",
      "3      2.127075   -0.310394   -0.307574   -0.308344   -0.310189   -0.308444   \n",
      "4      6.453603   -0.310705   -0.310414   -0.309577   -0.310597   -0.310279   \n",
      "..          ...         ...         ...         ...         ...         ...   \n",
      "564    8.395021   -0.310689   -0.310387   -0.309531   -0.310343   -0.310410   \n",
      "565    7.123650   -0.310794   -0.310469   -0.309914   -0.310596   -0.310190   \n",
      "566    4.516480   -0.310806   -0.309966   -0.309833   -0.310686   -0.310342   \n",
      "567    7.510215   -0.310586   -0.307566   -0.307263   -0.310157   -0.309539   \n",
      "568    0.842389   -0.310908   -0.311018   -0.311295   -0.311295   -0.310062   \n",
      "\n",
      "     Atributo30  Class  \n",
      "0     -0.310784      2  \n",
      "1     -0.310912      2  \n",
      "2     -0.310919      2  \n",
      "3     -0.310552      2  \n",
      "4     -0.310965      2  \n",
      "..          ...    ...  \n",
      "564   -0.310989      2  \n",
      "565   -0.311010      2  \n",
      "566   -0.310959      2  \n",
      "567   -0.310762      2  \n",
      "568   -0.310992      1  \n",
      "\n",
      "[569 rows x 31 columns]\n",
      "     Atributo1  Atributo2  Atributo3  Atributo4  Atributo5  Atributo6  \\\n",
      "0    -0.234208  -0.266880   0.215783   3.986242  -0.310937  -0.310254   \n",
      "1    -0.223131  -0.235152   0.259146   5.381596  -0.311082  -0.311108   \n",
      "2    -0.226909  -0.220211   0.246696   4.853508  -0.310975  -0.310759   \n",
      "3    -0.262415  -0.223946   0.021636   1.346234  -0.310834  -0.310227   \n",
      "4    -0.224333  -0.249878   0.268592   5.257087  -0.311015  -0.310876   \n",
      "..         ...        ...        ...        ...        ...        ...   \n",
      "564  -0.218880  -0.215317   0.298216   6.038485  -0.310969  -0.310948   \n",
      "565  -0.225020  -0.190157   0.251848   5.102525  -0.311026  -0.311002   \n",
      "566  -0.240175  -0.190887   0.153529   3.372716  -0.311083  -0.311007   \n",
      "567  -0.223002  -0.185521   0.290059   5.119699  -0.310940  -0.310257   \n",
      "568  -0.278129  -0.206086  -0.105706   0.465659  -0.311220  -0.311258   \n",
      "\n",
      "     Atributo7  Atributo8  Atributo9  Atributo10  ...  Atributo22  Atributo23  \\\n",
      "0    -0.310157  -0.310814  -0.310407   -0.311108  ...   -0.237041    0.481115   \n",
      "1    -0.311073  -0.311145  -0.310668   -0.311202  ...   -0.210937    0.370345   \n",
      "2    -0.310598  -0.310897  -0.310557   -0.311188  ...   -0.201835    0.343297   \n",
      "3    -0.310409  -0.310994  -0.310331   -0.311027  ...   -0.197671    0.113042   \n",
      "4    -0.310596  -0.310998  -0.310669   -0.311193  ...   -0.239875    0.342009   \n",
      "..         ...        ...        ...         ...  ...         ...         ...   \n",
      "564  -0.310399  -0.310849  -0.310705   -0.311204  ...   -0.198100    0.401687   \n",
      "565  -0.310828  -0.311025  -0.310694   -0.311208  ...   -0.147223    0.354030   \n",
      "566  -0.311049  -0.311218  -0.310763   -0.311203  ...   -0.164955    0.232527   \n",
      "567  -0.309937  -0.310793  -0.310417   -0.311145  ...   -0.142200    0.481115   \n",
      "568  -0.311446  -0.311446  -0.310764   -0.311193  ...   -0.181055   -0.057449   \n",
      "\n",
      "     Atributo24  Atributo25  Atributo26  Atributo27  Atributo28  Atributo29  \\\n",
      "0      8.356918   -0.310749   -0.308588   -0.308389   -0.310306   -0.309470   \n",
      "1      8.086434   -0.310914   -0.310645   -0.310408   -0.310647   -0.310265   \n",
      "2      7.025966   -0.310826   -0.309623   -0.309512   -0.310402   -0.309895   \n",
      "3      2.125914   -0.310545   -0.307726   -0.308497   -0.310340   -0.308596   \n",
      "4      6.450651   -0.310856   -0.310566   -0.309728   -0.310748   -0.310431   \n",
      "..          ...         ...         ...         ...         ...         ...   \n",
      "564    8.391265   -0.310840   -0.310539   -0.309682   -0.310494   -0.310561   \n",
      "565    7.120421   -0.310945   -0.310621   -0.310065   -0.310747   -0.310342   \n",
      "566    4.514330   -0.310957   -0.310117   -0.309985   -0.310837   -0.310493   \n",
      "567    7.506826   -0.310737   -0.307719   -0.307416   -0.310308   -0.309691   \n",
      "568    0.841760   -0.311060   -0.311169   -0.311446   -0.311446   -0.310213   \n",
      "\n",
      "     Atributo30  Class  \n",
      "0     -0.310935      2  \n",
      "1     -0.311064      2  \n",
      "2     -0.311070      2  \n",
      "3     -0.310703      2  \n",
      "4     -0.311116      2  \n",
      "..          ...    ...  \n",
      "564   -0.311140      2  \n",
      "565   -0.311161      2  \n",
      "566   -0.311110      2  \n",
      "567   -0.310913      2  \n",
      "568   -0.311144      1  \n",
      "\n",
      "[569 rows x 31 columns]\n"
     ]
    }
   ],
   "source": [
    "clasificador = ClasificadorKNN()\n",
    "validacionSimple.creaParticiones(dataset2.datos)\n",
    "clasificador.calcularMediaDesviacion(dataset2.datos,dataset2.nominalAtributos)\n",
    "clasificador.normalizarDatos(dataset2.datos,dataset2.nominalAtributos)"
   ]
  },
  {
   "cell_type": "markdown",
   "metadata": {},
   "source": [
    "Mostramos el error mediante un bucle:"
   ]
  },
  {
   "cell_type": "code",
   "execution_count": 134,
   "metadata": {},
   "outputs": [],
   "source": [
    "for i in range(5):\n",
    "    \n",
    "    predicciones = clasificador.clasifica(dataset2.extraeDatos(validacionSimple.particiones[i].indicesTest), dataset2.extraeDatos(validacionSimple.particiones[i].indicesTrain),dataset2.nominalAtributos,K)\n",
    "    \n",
    "    error = clasificador.error(dataset2.extraeDatos(validacionSimple.particiones[i].indicesTest),predicciones)\n",
    "\n",
    "    errores.append(error) "
   ]
  },
  {
   "cell_type": "markdown",
   "metadata": {},
   "source": [
    "El error es:"
   ]
  },
  {
   "cell_type": "code",
   "execution_count": 135,
   "metadata": {},
   "outputs": [
    {
     "name": "stdout",
     "output_type": "stream",
     "text": [
      "5.96%\n"
     ]
    }
   ],
   "source": [
    "err_wdbc_k3_norm = f'{np.mean(errores) * 100:.2f}%'\n",
    "print(f'{np.mean(errores) * 100:.2f}%')"
   ]
  },
  {
   "cell_type": "markdown",
   "metadata": {},
   "source": [
    "### Para K = 5:"
   ]
  },
  {
   "cell_type": "markdown",
   "metadata": {},
   "source": [
    "#### Sin normalizar los datos:"
   ]
  },
  {
   "cell_type": "markdown",
   "metadata": {},
   "source": [
    "Le doy valor a la K:"
   ]
  },
  {
   "cell_type": "code",
   "execution_count": 136,
   "metadata": {},
   "outputs": [],
   "source": [
    "K = 5"
   ]
  },
  {
   "cell_type": "markdown",
   "metadata": {},
   "source": [
    "Mostramos el error mediante un bucle:"
   ]
  },
  {
   "cell_type": "code",
   "execution_count": 137,
   "metadata": {},
   "outputs": [],
   "source": [
    "for i in range(5):\n",
    "    \n",
    "    predicciones = clasificador.clasifica(dataset2.extraeDatos(validacionSimple.particiones[i].indicesTest), dataset2.extraeDatos(validacionSimple.particiones[i].indicesTrain),dataset2.nominalAtributos,K)\n",
    "    \n",
    "    error = clasificador.error(dataset2.extraeDatos(validacionSimple.particiones[i].indicesTest),predicciones)\n",
    "\n",
    "    errores.append(error) "
   ]
  },
  {
   "cell_type": "markdown",
   "metadata": {},
   "source": [
    "El error es:"
   ]
  },
  {
   "cell_type": "code",
   "execution_count": 138,
   "metadata": {},
   "outputs": [
    {
     "name": "stdout",
     "output_type": "stream",
     "text": [
      "6.01%\n"
     ]
    }
   ],
   "source": [
    "err_wdbc_k5 = f'{np.mean(errores) * 100:.2f}%'\n",
    "print(f'{np.mean(errores) * 100:.2f}%')"
   ]
  },
  {
   "cell_type": "markdown",
   "metadata": {},
   "source": [
    "#### Normalizando los datos:"
   ]
  },
  {
   "cell_type": "code",
   "execution_count": 139,
   "metadata": {},
   "outputs": [
    {
     "name": "stdout",
     "output_type": "stream",
     "text": [
      "     Atributo1  Atributo2  Atributo3  Atributo4  Atributo5  Atributo6  \\\n",
      "0    -0.234208  -0.266880   0.215783   3.986242  -0.310937  -0.310254   \n",
      "1    -0.223131  -0.235152   0.259146   5.381596  -0.311082  -0.311108   \n",
      "2    -0.226909  -0.220211   0.246696   4.853508  -0.310975  -0.310759   \n",
      "3    -0.262415  -0.223946   0.021636   1.346234  -0.310834  -0.310227   \n",
      "4    -0.224333  -0.249878   0.268592   5.257087  -0.311015  -0.310876   \n",
      "..         ...        ...        ...        ...        ...        ...   \n",
      "564  -0.218880  -0.215317   0.298216   6.038485  -0.310969  -0.310948   \n",
      "565  -0.225020  -0.190157   0.251848   5.102525  -0.311026  -0.311002   \n",
      "566  -0.240175  -0.190887   0.153529   3.372716  -0.311083  -0.311007   \n",
      "567  -0.223002  -0.185521   0.290059   5.119699  -0.310940  -0.310257   \n",
      "568  -0.278129  -0.206086  -0.105706   0.465659  -0.311220  -0.311258   \n",
      "\n",
      "     Atributo7  Atributo8  Atributo9  Atributo10  ...  Atributo22  Atributo23  \\\n",
      "0    -0.310157  -0.310814  -0.310407   -0.311108  ...   -0.237041    0.481115   \n",
      "1    -0.311073  -0.311145  -0.310668   -0.311202  ...   -0.210937    0.370345   \n",
      "2    -0.310598  -0.310897  -0.310557   -0.311188  ...   -0.201835    0.343297   \n",
      "3    -0.310409  -0.310994  -0.310331   -0.311027  ...   -0.197671    0.113042   \n",
      "4    -0.310596  -0.310998  -0.310669   -0.311193  ...   -0.239875    0.342009   \n",
      "..         ...        ...        ...         ...  ...         ...         ...   \n",
      "564  -0.310399  -0.310849  -0.310705   -0.311204  ...   -0.198100    0.401687   \n",
      "565  -0.310828  -0.311025  -0.310694   -0.311208  ...   -0.147223    0.354030   \n",
      "566  -0.311049  -0.311218  -0.310763   -0.311203  ...   -0.164955    0.232527   \n",
      "567  -0.309937  -0.310793  -0.310417   -0.311145  ...   -0.142200    0.481115   \n",
      "568  -0.311446  -0.311446  -0.310764   -0.311193  ...   -0.181055   -0.057449   \n",
      "\n",
      "     Atributo24  Atributo25  Atributo26  Atributo27  Atributo28  Atributo29  \\\n",
      "0      8.356918   -0.310749   -0.308588   -0.308389   -0.310306   -0.309470   \n",
      "1      8.086434   -0.310914   -0.310645   -0.310408   -0.310647   -0.310265   \n",
      "2      7.025966   -0.310826   -0.309623   -0.309512   -0.310402   -0.309895   \n",
      "3      2.125914   -0.310545   -0.307726   -0.308497   -0.310340   -0.308596   \n",
      "4      6.450651   -0.310856   -0.310566   -0.309728   -0.310748   -0.310431   \n",
      "..          ...         ...         ...         ...         ...         ...   \n",
      "564    8.391265   -0.310840   -0.310539   -0.309682   -0.310494   -0.310561   \n",
      "565    7.120421   -0.310945   -0.310621   -0.310065   -0.310747   -0.310342   \n",
      "566    4.514330   -0.310957   -0.310117   -0.309985   -0.310837   -0.310493   \n",
      "567    7.506826   -0.310737   -0.307719   -0.307416   -0.310308   -0.309691   \n",
      "568    0.841760   -0.311060   -0.311169   -0.311446   -0.311446   -0.310213   \n",
      "\n",
      "     Atributo30  Class  \n",
      "0     -0.310935      2  \n",
      "1     -0.311064      2  \n",
      "2     -0.311070      2  \n",
      "3     -0.310703      2  \n",
      "4     -0.311116      2  \n",
      "..          ...    ...  \n",
      "564   -0.311140      2  \n",
      "565   -0.311161      2  \n",
      "566   -0.311110      2  \n",
      "567   -0.310913      2  \n",
      "568   -0.311144      1  \n",
      "\n",
      "[569 rows x 31 columns]\n",
      "     Atributo1  Atributo2  Atributo3  Atributo4  Atributo5  Atributo6  \\\n",
      "0    -0.234225  -0.266897   0.215747   3.986053  -0.310952  -0.310269   \n",
      "1    -0.223149  -0.235170   0.259108   5.381350  -0.311097  -0.311123   \n",
      "2    -0.226927  -0.220230   0.246658   4.853283  -0.310990  -0.310774   \n",
      "3    -0.262432  -0.223965   0.021608   1.346152  -0.310849  -0.310242   \n",
      "4    -0.224351  -0.249896   0.268554   5.256846  -0.311030  -0.310890   \n",
      "..         ...        ...        ...        ...        ...        ...   \n",
      "564  -0.218899  -0.215335   0.298177   6.038212  -0.310984  -0.310963   \n",
      "565  -0.225038  -0.190177   0.251810   5.102290  -0.311041  -0.311017   \n",
      "566  -0.240193  -0.190907   0.153495   3.372552  -0.311097  -0.311021   \n",
      "567  -0.223020  -0.185540   0.290020   5.119463  -0.310955  -0.310271   \n",
      "568  -0.278145  -0.206105  -0.105729   0.465612  -0.311235  -0.311273   \n",
      "\n",
      "     Atributo7  Atributo8  Atributo9  Atributo10  ...  Atributo22  Atributo23  \\\n",
      "0    -0.310172  -0.310829  -0.310422   -0.311123  ...   -0.237059    0.481068   \n",
      "1    -0.311087  -0.311159  -0.310683   -0.311217  ...   -0.210956    0.370303   \n",
      "2    -0.310613  -0.310911  -0.310572   -0.311203  ...   -0.201855    0.343256   \n",
      "3    -0.310424  -0.311009  -0.310346   -0.311042  ...   -0.197690    0.113010   \n",
      "4    -0.310610  -0.311013  -0.310684   -0.311208  ...   -0.239892    0.341968   \n",
      "..         ...        ...        ...         ...  ...         ...         ...   \n",
      "564  -0.310413  -0.310864  -0.310719   -0.311219  ...   -0.198119    0.401643   \n",
      "565  -0.310842  -0.311040  -0.310708   -0.311223  ...   -0.147245    0.353989   \n",
      "566  -0.311063  -0.311233  -0.310778   -0.311218  ...   -0.164976    0.232491   \n",
      "567  -0.309952  -0.310808  -0.310431   -0.311159  ...   -0.142222    0.481068   \n",
      "568  -0.311460  -0.311460  -0.310779   -0.311208  ...   -0.181075   -0.057474   \n",
      "\n",
      "     Atributo24  Atributo25  Atributo26  Atributo27  Atributo28  Atributo29  \\\n",
      "0      8.356551   -0.310764   -0.308603   -0.308404   -0.310321   -0.309485   \n",
      "1      8.086078   -0.310929   -0.310659   -0.310423   -0.310662   -0.310280   \n",
      "2      7.025653   -0.310841   -0.309638   -0.309527   -0.310417   -0.309909   \n",
      "3      2.125801   -0.310560   -0.307741   -0.308511   -0.310355   -0.308611   \n",
      "4      6.450361   -0.310871   -0.310580   -0.309743   -0.310763   -0.310446   \n",
      "..          ...         ...         ...         ...         ...         ...   \n",
      "564    8.390897   -0.310855   -0.310553   -0.309697   -0.310509   -0.310576   \n",
      "565    7.120104   -0.310960   -0.310635   -0.310080   -0.310762   -0.310356   \n",
      "566    4.514119   -0.310971   -0.310132   -0.309999   -0.310852   -0.310508   \n",
      "567    7.506493   -0.310752   -0.307734   -0.307430   -0.310323   -0.309706   \n",
      "568    0.841698   -0.311074   -0.311184   -0.311460   -0.311460   -0.310228   \n",
      "\n",
      "     Atributo30  Class  \n",
      "0     -0.310950      2  \n",
      "1     -0.311078      2  \n",
      "2     -0.311084      2  \n",
      "3     -0.310718      2  \n",
      "4     -0.311131      2  \n",
      "..          ...    ...  \n",
      "564   -0.311155      2  \n",
      "565   -0.311176      2  \n",
      "566   -0.311125      2  \n",
      "567   -0.310928      2  \n",
      "568   -0.311158      1  \n",
      "\n",
      "[569 rows x 31 columns]\n"
     ]
    }
   ],
   "source": [
    "clasificador = ClasificadorKNN()\n",
    "validacionSimple.creaParticiones(dataset2.datos)\n",
    "clasificador.calcularMediaDesviacion(dataset2.datos,dataset2.nominalAtributos)\n",
    "clasificador.normalizarDatos(dataset2.datos,dataset2.nominalAtributos)"
   ]
  },
  {
   "cell_type": "markdown",
   "metadata": {},
   "source": [
    "Mostramos el error mediante un bucle:"
   ]
  },
  {
   "cell_type": "code",
   "execution_count": 140,
   "metadata": {},
   "outputs": [],
   "source": [
    "for i in range(5):\n",
    "    \n",
    "    predicciones = clasificador.clasifica(dataset2.extraeDatos(validacionSimple.particiones[i].indicesTest), dataset2.extraeDatos(validacionSimple.particiones[i].indicesTrain),dataset2.nominalAtributos,K)\n",
    "    \n",
    "    error = clasificador.error(dataset2.extraeDatos(validacionSimple.particiones[i].indicesTest),predicciones)\n",
    "\n",
    "    errores.append(error) "
   ]
  },
  {
   "cell_type": "markdown",
   "metadata": {},
   "source": [
    "El error es:"
   ]
  },
  {
   "cell_type": "code",
   "execution_count": 141,
   "metadata": {},
   "outputs": [
    {
     "name": "stdout",
     "output_type": "stream",
     "text": [
      "6.06%\n"
     ]
    }
   ],
   "source": [
    "err_wdbc_k5_norm = f'{np.mean(errores) * 100:.2f}%'\n",
    "print(f'{np.mean(errores) * 100:.2f}%')"
   ]
  },
  {
   "cell_type": "markdown",
   "metadata": {},
   "source": [
    "## Para iris:"
   ]
  },
  {
   "cell_type": "markdown",
   "metadata": {},
   "source": [
    "Creamos las particiones necesarias mediante la estrategia de particionado de validación simple:"
   ]
  },
  {
   "cell_type": "code",
   "execution_count": 142,
   "metadata": {},
   "outputs": [],
   "source": [
    "validacionSimple.creaParticiones(dataset3.datos)"
   ]
  },
  {
   "cell_type": "markdown",
   "metadata": {},
   "source": [
    "### Para K = 1:"
   ]
  },
  {
   "cell_type": "markdown",
   "metadata": {},
   "source": [
    "#### Sin normalizar los datos:"
   ]
  },
  {
   "cell_type": "markdown",
   "metadata": {},
   "source": [
    "Le doy valor a la K:"
   ]
  },
  {
   "cell_type": "code",
   "execution_count": 143,
   "metadata": {},
   "outputs": [],
   "source": [
    "K = 1"
   ]
  },
  {
   "cell_type": "markdown",
   "metadata": {},
   "source": [
    "Mostramos el error mediante un bucle:"
   ]
  },
  {
   "cell_type": "code",
   "execution_count": 144,
   "metadata": {},
   "outputs": [],
   "source": [
    "for i in range(5):\n",
    "    \n",
    "    predicciones = clasificador.clasifica(dataset3.extraeDatos(validacionSimple.particiones[i].indicesTest), dataset3.extraeDatos(validacionSimple.particiones[i].indicesTrain),dataset3.nominalAtributos,K)\n",
    "    \n",
    "    error = clasificador.error(dataset3.extraeDatos(validacionSimple.particiones[i].indicesTest),predicciones)\n",
    "\n",
    "    errores.append(error) "
   ]
  },
  {
   "cell_type": "markdown",
   "metadata": {},
   "source": [
    "El error es:"
   ]
  },
  {
   "cell_type": "code",
   "execution_count": 145,
   "metadata": {},
   "outputs": [
    {
     "name": "stdout",
     "output_type": "stream",
     "text": [
      "5.94%\n"
     ]
    }
   ],
   "source": [
    "err_iris_k1 = f'{np.mean(errores) * 100:.2f}%'\n",
    "print(f'{np.mean(errores) * 100:.2f}%')"
   ]
  },
  {
   "cell_type": "markdown",
   "metadata": {},
   "source": [
    "#### Normalizando los datos:"
   ]
  },
  {
   "cell_type": "code",
   "execution_count": 146,
   "metadata": {},
   "outputs": [
    {
     "name": "stdout",
     "output_type": "stream",
     "text": [
      "           SL        SW        PL        PW  Class\n",
      "0    0.189377 -0.357912 -1.076229 -1.486696      1\n",
      "1    0.120966 -0.528940 -1.076229 -1.486696      1\n",
      "2    0.052554 -0.460529 -1.110434 -1.486696      1\n",
      "3    0.018349 -0.494734 -1.042023 -1.486696      1\n",
      "4    0.155171 -0.323707 -1.076229 -1.486696      1\n",
      "..        ...       ...       ...       ...    ...\n",
      "145  0.736666 -0.528940  0.223582 -0.768379      3\n",
      "146  0.599843 -0.699968  0.155171 -0.905201      3\n",
      "147  0.668254 -0.528940  0.223582 -0.870996      3\n",
      "148  0.565638 -0.392118  0.291993 -0.768379      3\n",
      "149  0.463021 -0.528940  0.189377 -0.939407      3\n",
      "\n",
      "[150 rows x 5 columns]\n",
      "           SL        SW        PL        PW  Class\n",
      "0    0.072463 -0.390571 -0.998305 -1.345581      1\n",
      "1    0.014584 -0.535270 -0.998305 -1.345581      1\n",
      "2   -0.043295 -0.477390 -1.027244 -1.345581      1\n",
      "3   -0.072235 -0.506330 -0.969365 -1.345581      1\n",
      "4    0.043524 -0.361632 -0.998305 -1.345581      1\n",
      "..        ...       ...       ...       ...    ...\n",
      "145  0.535498 -0.535270  0.101403 -0.737848      3\n",
      "146  0.419739 -0.679968  0.043524 -0.853606      3\n",
      "147  0.477619 -0.535270  0.101403 -0.824667      3\n",
      "148  0.390800 -0.419511  0.159282 -0.737848      3\n",
      "149  0.303981 -0.535270  0.072463 -0.882546      3\n",
      "\n",
      "[150 rows x 5 columns]\n"
     ]
    }
   ],
   "source": [
    "clasificador = ClasificadorKNN()\n",
    "validacionSimple.creaParticiones(dataset3.datos)\n",
    "clasificador.calcularMediaDesviacion(dataset3.datos,dataset3.nominalAtributos)\n",
    "clasificador.normalizarDatos(dataset3.datos,dataset3.nominalAtributos)"
   ]
  },
  {
   "cell_type": "markdown",
   "metadata": {},
   "source": [
    "Mostramos el error mediante un bucle:"
   ]
  },
  {
   "cell_type": "code",
   "execution_count": 147,
   "metadata": {},
   "outputs": [],
   "source": [
    "for i in range(5):\n",
    "    \n",
    "    predicciones = clasificador.clasifica(dataset2.extraeDatos(validacionSimple.particiones[i].indicesTest), dataset2.extraeDatos(validacionSimple.particiones[i].indicesTrain),dataset2.nominalAtributos,K)\n",
    "    \n",
    "    error = clasificador.error(dataset2.extraeDatos(validacionSimple.particiones[i].indicesTest),predicciones)\n",
    "\n",
    "    errores.append(error) "
   ]
  },
  {
   "cell_type": "markdown",
   "metadata": {},
   "source": [
    "El error es:"
   ]
  },
  {
   "cell_type": "code",
   "execution_count": 148,
   "metadata": {},
   "outputs": [
    {
     "name": "stdout",
     "output_type": "stream",
     "text": [
      "6.05%\n"
     ]
    }
   ],
   "source": [
    "err_iris_k1_norm = f'{np.mean(errores) * 100:.2f}%'\n",
    "print(f'{np.mean(errores) * 100:.2f}%')"
   ]
  },
  {
   "cell_type": "markdown",
   "metadata": {},
   "source": [
    "### Para K = 3:"
   ]
  },
  {
   "cell_type": "markdown",
   "metadata": {},
   "source": [
    "#### Sin normalizar los datos:"
   ]
  },
  {
   "cell_type": "markdown",
   "metadata": {},
   "source": [
    "Le doy valor a la K:"
   ]
  },
  {
   "cell_type": "code",
   "execution_count": 149,
   "metadata": {},
   "outputs": [],
   "source": [
    "K = 3"
   ]
  },
  {
   "cell_type": "markdown",
   "metadata": {},
   "source": [
    "Mostramos el error mediante un bucle:"
   ]
  },
  {
   "cell_type": "code",
   "execution_count": 150,
   "metadata": {},
   "outputs": [],
   "source": [
    "for i in range(5):\n",
    "    \n",
    "    predicciones = clasificador.clasifica(dataset3.extraeDatos(validacionSimple.particiones[i].indicesTest), dataset3.extraeDatos(validacionSimple.particiones[i].indicesTrain),dataset3.nominalAtributos,K)\n",
    "    \n",
    "    error = clasificador.error(dataset3.extraeDatos(validacionSimple.particiones[i].indicesTest),predicciones)\n",
    "\n",
    "    errores.append(error) "
   ]
  },
  {
   "cell_type": "markdown",
   "metadata": {},
   "source": [
    "El error es:"
   ]
  },
  {
   "cell_type": "code",
   "execution_count": 151,
   "metadata": {},
   "outputs": [
    {
     "name": "stdout",
     "output_type": "stream",
     "text": [
      "6.02%\n"
     ]
    }
   ],
   "source": [
    "err_iris_k3 = f'{np.mean(errores) * 100:.2f}%'\n",
    "print(f'{np.mean(errores) * 100:.2f}%')"
   ]
  },
  {
   "cell_type": "markdown",
   "metadata": {},
   "source": [
    "#### Normalizando los datos:"
   ]
  },
  {
   "cell_type": "code",
   "execution_count": 152,
   "metadata": {},
   "outputs": [
    {
     "name": "stdout",
     "output_type": "stream",
     "text": [
      "           SL        SW        PL        PW  Class\n",
      "0    0.072463 -0.390571 -0.998305 -1.345581      1\n",
      "1    0.014584 -0.535270 -0.998305 -1.345581      1\n",
      "2   -0.043295 -0.477390 -1.027244 -1.345581      1\n",
      "3   -0.072235 -0.506330 -0.969365 -1.345581      1\n",
      "4    0.043524 -0.361632 -0.998305 -1.345581      1\n",
      "..        ...       ...       ...       ...    ...\n",
      "145  0.535498 -0.535270  0.101403 -0.737848      3\n",
      "146  0.419739 -0.679968  0.043524 -0.853606      3\n",
      "147  0.477619 -0.535270  0.101403 -0.824667      3\n",
      "148  0.390800 -0.419511  0.159282 -0.737848      3\n",
      "149  0.303981 -0.535270  0.072463 -0.882546      3\n",
      "\n",
      "[150 rows x 5 columns]\n",
      "           SL        SW        PL        PW  Class\n",
      "0   -0.005810 -0.409313 -0.938909 -1.241536      1\n",
      "1   -0.056248 -0.535407 -0.938909 -1.241536      1\n",
      "2   -0.106686 -0.484969 -0.964128 -1.241536      1\n",
      "3   -0.131905 -0.510188 -0.913691 -1.241536      1\n",
      "4   -0.031029 -0.384094 -0.938909 -1.241536      1\n",
      "..        ...       ...       ...       ...    ...\n",
      "145  0.397692 -0.535407  0.019408 -0.711939      3\n",
      "146  0.296816 -0.661502 -0.031029 -0.812815      3\n",
      "147  0.347254 -0.535407  0.019408 -0.787596      3\n",
      "148  0.271597 -0.434532  0.069846 -0.711939      3\n",
      "149  0.195941 -0.535407 -0.005810 -0.838034      3\n",
      "\n",
      "[150 rows x 5 columns]\n"
     ]
    }
   ],
   "source": [
    "clasificador = ClasificadorKNN()\n",
    "validacionSimple.creaParticiones(dataset3.datos)\n",
    "clasificador.calcularMediaDesviacion(dataset3.datos,dataset3.nominalAtributos)\n",
    "clasificador.normalizarDatos(dataset3.datos,dataset3.nominalAtributos)"
   ]
  },
  {
   "cell_type": "markdown",
   "metadata": {},
   "source": [
    "Mostramos el error mediante un bucle:"
   ]
  },
  {
   "cell_type": "code",
   "execution_count": 153,
   "metadata": {},
   "outputs": [],
   "source": [
    "for i in range(5):\n",
    "    \n",
    "    predicciones = clasificador.clasifica(dataset2.extraeDatos(validacionSimple.particiones[i].indicesTest), dataset2.extraeDatos(validacionSimple.particiones[i].indicesTrain),dataset2.nominalAtributos,K)\n",
    "    \n",
    "    error = clasificador.error(dataset2.extraeDatos(validacionSimple.particiones[i].indicesTest),predicciones)\n",
    "\n",
    "    errores.append(error) "
   ]
  },
  {
   "cell_type": "markdown",
   "metadata": {},
   "source": [
    "El error es:"
   ]
  },
  {
   "cell_type": "code",
   "execution_count": 154,
   "metadata": {},
   "outputs": [
    {
     "name": "stdout",
     "output_type": "stream",
     "text": [
      "6.36%\n"
     ]
    }
   ],
   "source": [
    "err_iris_k3_norm = f'{np.mean(errores) * 100:.2f}%'\n",
    "print(f'{np.mean(errores) * 100:.2f}%')"
   ]
  },
  {
   "cell_type": "markdown",
   "metadata": {},
   "source": [
    "### Para K = 5:"
   ]
  },
  {
   "cell_type": "markdown",
   "metadata": {},
   "source": [
    "#### Sin normalizar los datos:"
   ]
  },
  {
   "cell_type": "markdown",
   "metadata": {},
   "source": [
    "Le doy valor a la K:"
   ]
  },
  {
   "cell_type": "code",
   "execution_count": 155,
   "metadata": {},
   "outputs": [],
   "source": [
    "K = 5"
   ]
  },
  {
   "cell_type": "markdown",
   "metadata": {},
   "source": [
    "Mostramos el error mediante un bucle:"
   ]
  },
  {
   "cell_type": "code",
   "execution_count": 156,
   "metadata": {},
   "outputs": [],
   "source": [
    "for i in range(5):\n",
    "    \n",
    "    predicciones = clasificador.clasifica(dataset3.extraeDatos(validacionSimple.particiones[i].indicesTest), dataset3.extraeDatos(validacionSimple.particiones[i].indicesTrain),dataset3.nominalAtributos,K)\n",
    "    \n",
    "    error = clasificador.error(dataset3.extraeDatos(validacionSimple.particiones[i].indicesTest),predicciones)\n",
    "\n",
    "    errores.append(error) "
   ]
  },
  {
   "cell_type": "markdown",
   "metadata": {},
   "source": [
    "El error es:"
   ]
  },
  {
   "cell_type": "code",
   "execution_count": 157,
   "metadata": {},
   "outputs": [
    {
     "name": "stdout",
     "output_type": "stream",
     "text": [
      "6.19%\n"
     ]
    }
   ],
   "source": [
    "err_iris_k5 = f'{np.mean(errores) * 100:.2f}%'\n",
    "print(f'{np.mean(errores) * 100:.2f}%')"
   ]
  },
  {
   "cell_type": "markdown",
   "metadata": {},
   "source": [
    "#### Normalizando los datos:"
   ]
  },
  {
   "cell_type": "code",
   "execution_count": 158,
   "metadata": {},
   "outputs": [
    {
     "name": "stdout",
     "output_type": "stream",
     "text": [
      "           SL        SW        PL        PW  Class\n",
      "0   -0.005810 -0.409313 -0.938909 -1.241536      1\n",
      "1   -0.056248 -0.535407 -0.938909 -1.241536      1\n",
      "2   -0.106686 -0.484969 -0.964128 -1.241536      1\n",
      "3   -0.131905 -0.510188 -0.913691 -1.241536      1\n",
      "4   -0.031029 -0.384094 -0.938909 -1.241536      1\n",
      "..        ...       ...       ...       ...    ...\n",
      "145  0.397692 -0.535407  0.019408 -0.711939      3\n",
      "146  0.296816 -0.661502 -0.031029 -0.812815      3\n",
      "147  0.347254 -0.535407  0.019408 -0.787596      3\n",
      "148  0.271597 -0.434532  0.069846 -0.711939      3\n",
      "149  0.195941 -0.535407 -0.005810 -0.838034      3\n",
      "\n",
      "[150 rows x 5 columns]\n",
      "           SL        SW        PL        PW  Class\n",
      "0   -0.063093 -0.421505 -0.891921 -1.160730      1\n",
      "1   -0.107894 -0.533508 -0.891921 -1.160730      1\n",
      "2   -0.152696 -0.488707 -0.914321 -1.160730      1\n",
      "3   -0.175096 -0.511108 -0.869520 -1.160730      1\n",
      "4   -0.085493 -0.399104 -0.891921 -1.160730      1\n",
      "..        ...       ...       ...       ...    ...\n",
      "145  0.295320 -0.533508 -0.040692 -0.690314      3\n",
      "146  0.205717 -0.645512 -0.085493 -0.779917      3\n",
      "147  0.250518 -0.533508 -0.040692 -0.757516      3\n",
      "148  0.183316 -0.443905  0.004110 -0.690314      3\n",
      "149  0.116113 -0.533508 -0.063093 -0.802318      3\n",
      "\n",
      "[150 rows x 5 columns]\n"
     ]
    }
   ],
   "source": [
    "clasificador = ClasificadorKNN()\n",
    "validacionSimple.creaParticiones(dataset3.datos)\n",
    "clasificador.calcularMediaDesviacion(dataset3.datos,dataset3.nominalAtributos)\n",
    "clasificador.normalizarDatos(dataset3.datos,dataset3.nominalAtributos)"
   ]
  },
  {
   "cell_type": "markdown",
   "metadata": {},
   "source": [
    "Mostramos el error mediante un bucle:"
   ]
  },
  {
   "cell_type": "code",
   "execution_count": 159,
   "metadata": {},
   "outputs": [],
   "source": [
    "for i in range(5):\n",
    "    \n",
    "    predicciones = clasificador.clasifica(dataset2.extraeDatos(validacionSimple.particiones[i].indicesTest), dataset2.extraeDatos(validacionSimple.particiones[i].indicesTrain),dataset2.nominalAtributos,K)\n",
    "    \n",
    "    error = clasificador.error(dataset2.extraeDatos(validacionSimple.particiones[i].indicesTest),predicciones)\n",
    "\n",
    "    errores.append(error) "
   ]
  },
  {
   "cell_type": "markdown",
   "metadata": {},
   "source": [
    "El error es:"
   ]
  },
  {
   "cell_type": "code",
   "execution_count": 160,
   "metadata": {},
   "outputs": [
    {
     "name": "stdout",
     "output_type": "stream",
     "text": [
      "6.56%\n"
     ]
    }
   ],
   "source": [
    "err_iris_k5_norm = f'{np.mean(errores) * 100:.2f}%'\n",
    "print(f'{np.mean(errores) * 100:.2f}%')"
   ]
  },
  {
   "cell_type": "markdown",
   "metadata": {},
   "source": [
    "## Comparación de errores:"
   ]
  },
  {
   "cell_type": "markdown",
   "metadata": {},
   "source": [
    "Errores pima-indians-diabetes:"
   ]
  },
  {
   "cell_type": "code",
   "execution_count": null,
   "metadata": {},
   "outputs": [
    {
     "name": "stdout",
     "output_type": "stream",
     "text": [
      "Para K = 1:\n",
      "Error para pima-indians-diabetes k=1: 37.89%\n",
      "Error para pima-indians-diabetes k=1 normalizado: 34.61%\n",
      "\n",
      "Para K = 3:\n",
      "Error para pima-indians-diabetes k=3: 33.33%\n",
      "Error para pima-indians-diabetes k=3 normalizado: 32.37%\n",
      "\n",
      "Error para K = 5:\n",
      "Error para pima-indians-diabetes k=5: 31.47%\n",
      "Error para pima-indians-diabetes k=5 normalizado: 30.53%\n"
     ]
    }
   ],
   "source": [
    "print('Para K = 1:')\n",
    "print('Error para pima-indians-diabetes k=1: ' + err_diabetes_k1)\n",
    "print('Error para pima-indians-diabetes k=1 normalizado: ' + err_diabetes_k1_norm)\n",
    "print('\\nPara K = 3:')\n",
    "print('Error para pima-indians-diabetes k=3: ' + err_diabetes_k3)\n",
    "print('Error para pima-indians-diabetes k=3 normalizado: ' + err_diabetes_k3_norm)\n",
    "print('\\nError para K = 5:')\n",
    "print('Error para pima-indians-diabetes k=5: ' + err_diabetes_k5)\n",
    "print('Error para pima-indians-diabetes k=5 normalizado: ' + err_diabetes_k5_norm)\n"
   ]
  },
  {
   "cell_type": "markdown",
   "metadata": {},
   "source": [
    "Errores wdbc:"
   ]
  },
  {
   "cell_type": "code",
   "execution_count": 161,
   "metadata": {},
   "outputs": [
    {
     "name": "stdout",
     "output_type": "stream",
     "text": [
      "Para K = 1:\n",
      "Error para wdbc k=1: 9.29%\n",
      "Error para wdbc k=1 normalizado: 7.68%\n",
      "\n",
      "Para K = 3:\n",
      "Error para wdbc k=3: 5.90%\n",
      "Error para wdbc k=3 normalizado: 5.96%\n",
      "\n",
      "Error para K = 5:\n",
      "Error para wdbc k=5: 6.01%\n",
      "Error para wdbc k=5 normalizado: 6.06%\n"
     ]
    }
   ],
   "source": [
    "print('Para K = 1:')\n",
    "print('Error para wdbc k=1: ' + err_wdbc_k1)\n",
    "print('Error para wdbc k=1 normalizado: ' + err_wdbc_k1_norm)\n",
    "print('\\nPara K = 3:')\n",
    "print('Error para wdbc k=3: ' + err_wdbc_k3)\n",
    "print('Error para wdbc k=3 normalizado: ' + err_wdbc_k3_norm)\n",
    "print('\\nError para K = 5:')\n",
    "print('Error para wdbc k=5: ' + err_wdbc_k5)\n",
    "print('Error para wdbc k=5 normalizado: ' + err_wdbc_k5_norm)"
   ]
  },
  {
   "cell_type": "markdown",
   "metadata": {},
   "source": [
    "Errores iris:"
   ]
  },
  {
   "cell_type": "code",
   "execution_count": 162,
   "metadata": {},
   "outputs": [
    {
     "name": "stdout",
     "output_type": "stream",
     "text": [
      "Para K = 1:\n",
      "Error para iris k=1: 5.94%\n",
      "Error para iris k=1 normalizado: 6.05%\n",
      "\n",
      "Para K = 3:\n",
      "Error para iris k=3: 6.02%\n",
      "Error para iris k=3 normalizado: 6.36%\n",
      "\n",
      "Error para K = 5:\n",
      "Error para iris k=5: 6.19%\n",
      "Error para iris k=5 normalizado: 6.56%\n"
     ]
    }
   ],
   "source": [
    "print('Para K = 1:')\n",
    "print('Error para iris k=1: ' + err_iris_k1)\n",
    "print('Error para iris k=1 normalizado: ' + err_iris_k1_norm)\n",
    "print('\\nPara K = 3:')\n",
    "print('Error para iris k=3: ' + err_iris_k3)\n",
    "print('Error para iris k=3 normalizado: ' + err_iris_k3_norm)\n",
    "print('\\nError para K = 5:')\n",
    "print('Error para iris k=5: ' + err_iris_k5)\n",
    "print('Error para iris k=5 normalizado: ' + err_iris_k5_norm)"
   ]
  },
  {
   "cell_type": "markdown",
   "metadata": {},
   "source": [
    "### Observaciones y discursión de resultados:"
   ]
  },
  {
   "cell_type": "markdown",
   "metadata": {},
   "source": [
    "* Si nos fijamos en los resultados de la normalización de los datos con la que no está normalizada podemos ver que en la gran mayoría de los casos que, cuando hemos normalizado los datos, el error será algo menor, esto sucede menos en el dataset de pima-indians-diabetes.\n",
    "\n",
    "* Lo primero que se observa al comparar los resultados de K = 1, K = 3 y K = 5, es que cuanto mayor sea la K menor es el error entre ellos, para wdbc e iris esta diferencia se observa bien, aunque como para el caso de la normalización, en pima-indians-diabetes los resultados no disminuyen o aumentan basandose en una K u otra.\n",
    "\n",
    "* Podemos ver, a través de varias ejecuciones realizadas, que los resultados para K = 1 no son buenos para comparar con los resultados, ya que con solo 1 los resultados son demasiado imprecisos, nos centraremos entonces en los valores para K = 3 y K = 5.\n",
    "\n",
    "* Si miramos los valores para K = 3 o K = 5, se puede observar una diferencia clara entre los datos normalizados y sin normalizar siendo el error menor el normalizado. Para K = 5 casi siempre se tiene un error menor general.\n",
    "\n",
    "* Se hará una comparación del rendimiento del algoritmo en el apartado 3 al compararlo con el algoritmo de la libreria de Scikit-learn"
   ]
  },
  {
   "cell_type": "markdown",
   "metadata": {},
   "source": [
    "# Apartado 2: Algoritmo K-Means"
   ]
  },
  {
   "cell_type": "markdown",
   "metadata": {},
   "source": [
    "##### Discusion de los resultados\n",
    "En nuestro desarrollo del algoritmo K-Means, existe un pequeño error que hace que en determinadas ejecuciones los valores no den correctos. Esto es debido a que al hacer el recalculo de los centroides en ocasiones el valor medio de la clase obtiene decimales y por lo tanto, la clase del centroide de algun cluster es impreciso. Esto sucede de manera esporádica e imprevisible dependiendo del centroide incial que se elija. Para discutir los resultados vamos a forzar a que sea una de las ejecuciones correctas, para poder hacer una conclusion de los resultados justificada:"
   ]
  },
  {
   "cell_type": "markdown",
   "metadata": {},
   "source": [
    "El constructor de la clase recibe el numero de clusters que vamos a utilizar para nuestro algoritmo:"
   ]
  },
  {
   "cell_type": "code",
   "execution_count": 9,
   "metadata": {},
   "outputs": [
    {
     "name": "stdout",
     "output_type": "stream",
     "text": [
      "66.67%\n"
     ]
    }
   ],
   "source": [
    "dataset = Datos('ConjuntosDatosP2/iris.csv')\n",
    "km = KMeans(1)  \n",
    "km.fit(dataset.datos)\n",
    "print(f'{km.error(dataset.datos) * 100:.2f}%')"
   ]
  },
  {
   "cell_type": "code",
   "execution_count": 10,
   "metadata": {},
   "outputs": [
    {
     "name": "stdout",
     "output_type": "stream",
     "text": [
      "33.33%\n"
     ]
    }
   ],
   "source": [
    "dataset = Datos('ConjuntosDatosP2/iris.csv')\n",
    "km = KMeans(2)  \n",
    "km.fit(dataset.datos)\n",
    "print(f'{km.error(dataset.datos) * 100:.2f}%')"
   ]
  },
  {
   "cell_type": "markdown",
   "metadata": {},
   "source": [
    "En los dos casos anteriores tenemos resultados previsibles y esperados. ¿Por qué? nuestro dataset se compone de 3 posibles clases solución. Si nosotros elegimos un numero de clusters menor al numero total de clases que puede haber, los resultados van a ser malos. Nunca vamos a poder predecir más clases que el numero de clusters y por lo tanto para nuestro dataset en particular, si elegimos 1 cluster, se nos quedan 2 clases sin predecir, y si elegimos 2 clusters se nos queda 1 sin predecir. Como el dataset es bastante completo y equilibrado, hemos observado que el de filas por cada clase es el mismo, y por lo tanto es fácil concluir que si se quedan 2 clases sin referenciar es el 66% y si se queda 1 sin referenciar es el 33%."
   ]
  },
  {
   "cell_type": "code",
   "execution_count": 11,
   "metadata": {},
   "outputs": [
    {
     "name": "stdout",
     "output_type": "stream",
     "text": [
      "1.33%\n"
     ]
    }
   ],
   "source": [
    "error = []\n",
    "dataset = Datos('ConjuntosDatosP2/iris.csv')\n",
    "km = KMeans(3)  \n",
    "km.fit(dataset.datos)\n",
    "print(f'{km.error(dataset.datos) * 100:.2f}%')"
   ]
  },
  {
   "cell_type": "markdown",
   "metadata": {},
   "source": [
    "Aqui ya vemos que la diferencia es notable. Ahora tenemos 3 cluster, con 3 posibles clases para predecir. Lo que nos ayuda a responder a la primera cuestión. \n",
    "¿Se puede asignar de forma unívoca cada cluster a un tipo de flor atendiendo a la clase mayoritaria de los patrones agrupados?"
   ]
  },
  {
   "cell_type": "code",
   "execution_count": 12,
   "metadata": {
    "scrolled": true
   },
   "outputs": [
    {
     "name": "stdout",
     "output_type": "stream",
     "text": [
      "[1 1 1 1 1 1 1 1 1 1 1 1 1 1 1 1 1 1 1 1 1 1 1 1 1 1 1 1 1 1 1 1 1 1 1 1 1\n",
      " 1 1 1 1 1 1 1 1 1 1 1 1 1 2 2 2 2 2 2 2 2 2 2 2 2 2 2 2 2 2 2 2 2 2 2 2 2\n",
      " 2 2 2 0 2 2 2 2 2 2 2 2 2 2 2 2 2 2 2 2 2 2 2 2 2 2 0 0 0 0 0 0 2 0 0 0 0\n",
      " 0 0 0 0 0 0 0 0 0 0 0 0 0 0 0 0 0 0 0 0 0 0 0 0 0 0 0 0 0 0 0 0 0 0 0 0 0\n",
      " 0 0]\n",
      "[[6.624 2.984 5.562 2.026 2.98 ]\n",
      " [5.006 3.418 1.464 0.244 1.   ]\n",
      " [5.9   2.76  4.25  1.326 2.02 ]]\n"
     ]
    }
   ],
   "source": [
    "print(km.clusterAlQuePertenece)\n",
    "print(km.centroids)"
   ]
  },
  {
   "cell_type": "markdown",
   "metadata": {},
   "source": [
    "Claramente vemos que sí. Arriba observamos, tras toda la ejecución, el cluster al que pertenece cada fila de nuestro dataset, y a continuación, el centroide de los cluster solución. \n",
    "\n",
    "Observamos claramente que cada cluster termina representando un tipo de flor. \n",
    "\n",
    "También es interesante comentar el error del que hablabamos antes. Al trabajar con numpy, las clases toman un valor decimal, y al ir calculando la media, van perdiendo precision. Y hemos tenido que usar round() para estimar el error. \n",
    "Es un pequeño error del desarrollo pero no hemos tenido tiempo de ajustarlo. \n",
    "\n",
    "No obstante nos ofrece la informacion suficiente para poder realizar un estudio de los resultados y una buena conclusión. Porque además nos va a permitir ver algún detalle extra como vamos a ver a continuacion:\n",
    "\n"
   ]
  },
  {
   "cell_type": "code",
   "execution_count": 38,
   "metadata": {},
   "outputs": [
    {
     "name": "stdout",
     "output_type": "stream",
     "text": [
      "Error medio para clusters de 3:5.76%\n",
      "Error medio para clusters de 5:1.55%\n"
     ]
    }
   ],
   "source": [
    "errores = []\n",
    "for i in range(100):\n",
    "    dataset = Datos('ConjuntosDatosP2/iris.csv')\n",
    "    km1 = KMeans(3)  \n",
    "    km1.fit(dataset.datos)\n",
    "    errores.append(km1.error(dataset.datos) * 100)\n",
    "print(f'Error medio para clusters de 3:{np.mean(errores):.2f}%')\n",
    "    \n",
    "errores = []\n",
    "for i in range(100):\n",
    "    dataset = Datos('ConjuntosDatosP2/iris.csv')\n",
    "    km2 = KMeans(5)  \n",
    "    km2.fit(dataset.datos)\n",
    "    errores.append(km2.error(dataset.datos) * 100)\n",
    "print(f'Error medio para clusters de 5:{np.mean(errores):.2f}%')\n",
    "    "
   ]
  },
  {
   "cell_type": "markdown",
   "metadata": {},
   "source": [
    "Como decíamos antes, hemos buscado una buena ejecución para discutir los resultados, pero si atendemos a la media de los resultados vemos un curioso detalle. El algoritmo mejora su actuación si le ofrecemos más clusters sobre el que valorar cual es la mejor opción. Esto se debe a que, al tener un valor de clase impreciso, si le ofrecemos otra alternativa sobre el que calcular la distancia puede llegar a una mejor conclusión. Por así decirlo, tiene como 2 alternativas para valorar a cual tiene una menor distancia. Esto no funciona si seguimos aumentando clusters, ya que no estaríamos haciendo un sobreentrenamiento y al final no llegaría a una buena predicción. "
   ]
  },
  {
   "cell_type": "code",
   "execution_count": 42,
   "metadata": {},
   "outputs": [
    {
     "name": "stdout",
     "output_type": "stream",
     "text": [
      "Error medio para clusters de 3:5.33%\n",
      "Error medio para clusters de 5:0.70%\n"
     ]
    }
   ],
   "source": [
    "errores = []\n",
    "for i in range(100):\n",
    "    dataset = Datos('ConjuntosDatosP2/iris.csv')\n",
    "    km1 = KMeans(3)  \n",
    "    km1.calcularMediaDesviacion(dataset.datos,dataset.nominalAtributos)\n",
    "    km1.normalizarDatos(dataset.datos,dataset.nominalAtributos)\n",
    "    km1.fit(dataset.datos)\n",
    "    errores.append(km1.error(dataset.datos) * 100)\n",
    "print(f'Error medio para clusters de 3:{np.mean(errores):.2f}%')\n",
    "    \n",
    "errores = []\n",
    "for i in range(100):\n",
    "    dataset = Datos('ConjuntosDatosP2/iris.csv')\n",
    "    km2 = KMeans(5)  \n",
    "    km2.calcularMediaDesviacion(dataset.datos,dataset.nominalAtributos)\n",
    "    km2.normalizarDatos(dataset.datos,dataset.nominalAtributos)\n",
    "    km2.fit(dataset.datos)\n",
    "    errores.append(km2.error(dataset.datos) * 100)\n",
    "print(f'Error medio para clusters de 5:{np.mean(errores):.2f}%')\n",
    "    "
   ]
  },
  {
   "cell_type": "markdown",
   "metadata": {},
   "source": [
    "Observamos que normalizar los datos mejora el resultado de la media de los errores. Desde nuestro punto de vista, normalizar los datos es una medida que permite realizar una comparación más equitativa de los datos, y por lo tanto recomendable, salvo que se le quiera dar importancia a algún atributo en concreto y la diferencia entre estos, que entonces no se debería realizar"
   ]
  },
  {
   "cell_type": "code",
   "execution_count": 103,
   "metadata": {},
   "outputs": [
    {
     "name": "stdout",
     "output_type": "stream",
     "text": [
      "Error medio para clusters de 7:1.08%\n"
     ]
    }
   ],
   "source": [
    "errores = []\n",
    "for i in range(100):\n",
    "    dataset = Datos('ConjuntosDatosP2/iris.csv')\n",
    "    km2 = KMeans(7)  \n",
    "    km2.fit(dataset.datos)\n",
    "    errores.append(km2.error(dataset.datos) * 100)\n",
    "print(f'Error medio para clusters de 7:{np.mean(errores):.2f}%')"
   ]
  },
  {
   "cell_type": "markdown",
   "metadata": {},
   "source": [
    "Observamos que a partir de 5 comienza a subir el fallo de nuevo"
   ]
  },
  {
   "cell_type": "markdown",
   "metadata": {},
   "source": [
    "# Apartado 3: Scikit-learn y comparación"
   ]
  },
  {
   "cell_type": "code",
   "execution_count": 167,
   "metadata": {},
   "outputs": [],
   "source": [
    "dataset1 = pd.read_csv('ConjuntosDatosP2/pima-indians-diabetes.csv')\n",
    "dataset2 = pd.read_csv('ConjuntosDatosP2/wdbc.csv')\n",
    "dataset3 = pd.read_csv('ConjuntosDatosP2/iris.csv')"
   ]
  },
  {
   "cell_type": "markdown",
   "metadata": {},
   "source": [
    "Vamos a utilizar la libreria de scikit-learn para poder ver como se ejecutan los algotirmos anteriormente vistos y con los resultados obtenidos poder compararlos con nuestros propios algoritmos."
   ]
  },
  {
   "cell_type": "markdown",
   "metadata": {},
   "source": [
    "Para esto vamos a utilizar K-NN para los archivos pima-indians-diabetes-csv y wbcd.csv, y K-Means para iris.csv"
   ]
  },
  {
   "cell_type": "markdown",
   "metadata": {},
   "source": [
    "### K-NN para pima-indians-diabetes:"
   ]
  },
  {
   "cell_type": "markdown",
   "metadata": {},
   "source": [
    "Primero cargamos los datos en X y el resultado o clase esperada en la Y:"
   ]
  },
  {
   "cell_type": "code",
   "execution_count": 28,
   "metadata": {},
   "outputs": [],
   "source": [
    "X = dataset1[['Pregs','Plas','Pres','Skin','Test','Mass','Pedi','Age']].values\n",
    "y = dataset1[['Class']].values.ravel()"
   ]
  },
  {
   "cell_type": "markdown",
   "metadata": {},
   "source": [
    "Preparamos el entrenamiento:"
   ]
  },
  {
   "cell_type": "code",
   "execution_count": 29,
   "metadata": {},
   "outputs": [
    {
     "data": {
      "text/html": [
       "<style>#sk-container-id-1 {color: black;background-color: white;}#sk-container-id-1 pre{padding: 0;}#sk-container-id-1 div.sk-toggleable {background-color: white;}#sk-container-id-1 label.sk-toggleable__label {cursor: pointer;display: block;width: 100%;margin-bottom: 0;padding: 0.3em;box-sizing: border-box;text-align: center;}#sk-container-id-1 label.sk-toggleable__label-arrow:before {content: \"▸\";float: left;margin-right: 0.25em;color: #696969;}#sk-container-id-1 label.sk-toggleable__label-arrow:hover:before {color: black;}#sk-container-id-1 div.sk-estimator:hover label.sk-toggleable__label-arrow:before {color: black;}#sk-container-id-1 div.sk-toggleable__content {max-height: 0;max-width: 0;overflow: hidden;text-align: left;background-color: #f0f8ff;}#sk-container-id-1 div.sk-toggleable__content pre {margin: 0.2em;color: black;border-radius: 0.25em;background-color: #f0f8ff;}#sk-container-id-1 input.sk-toggleable__control:checked~div.sk-toggleable__content {max-height: 200px;max-width: 100%;overflow: auto;}#sk-container-id-1 input.sk-toggleable__control:checked~label.sk-toggleable__label-arrow:before {content: \"▾\";}#sk-container-id-1 div.sk-estimator input.sk-toggleable__control:checked~label.sk-toggleable__label {background-color: #d4ebff;}#sk-container-id-1 div.sk-label input.sk-toggleable__control:checked~label.sk-toggleable__label {background-color: #d4ebff;}#sk-container-id-1 input.sk-hidden--visually {border: 0;clip: rect(1px 1px 1px 1px);clip: rect(1px, 1px, 1px, 1px);height: 1px;margin: -1px;overflow: hidden;padding: 0;position: absolute;width: 1px;}#sk-container-id-1 div.sk-estimator {font-family: monospace;background-color: #f0f8ff;border: 1px dotted black;border-radius: 0.25em;box-sizing: border-box;margin-bottom: 0.5em;}#sk-container-id-1 div.sk-estimator:hover {background-color: #d4ebff;}#sk-container-id-1 div.sk-parallel-item::after {content: \"\";width: 100%;border-bottom: 1px solid gray;flex-grow: 1;}#sk-container-id-1 div.sk-label:hover label.sk-toggleable__label {background-color: #d4ebff;}#sk-container-id-1 div.sk-serial::before {content: \"\";position: absolute;border-left: 1px solid gray;box-sizing: border-box;top: 0;bottom: 0;left: 50%;z-index: 0;}#sk-container-id-1 div.sk-serial {display: flex;flex-direction: column;align-items: center;background-color: white;padding-right: 0.2em;padding-left: 0.2em;position: relative;}#sk-container-id-1 div.sk-item {position: relative;z-index: 1;}#sk-container-id-1 div.sk-parallel {display: flex;align-items: stretch;justify-content: center;background-color: white;position: relative;}#sk-container-id-1 div.sk-item::before, #sk-container-id-1 div.sk-parallel-item::before {content: \"\";position: absolute;border-left: 1px solid gray;box-sizing: border-box;top: 0;bottom: 0;left: 50%;z-index: -1;}#sk-container-id-1 div.sk-parallel-item {display: flex;flex-direction: column;z-index: 1;position: relative;background-color: white;}#sk-container-id-1 div.sk-parallel-item:first-child::after {align-self: flex-end;width: 50%;}#sk-container-id-1 div.sk-parallel-item:last-child::after {align-self: flex-start;width: 50%;}#sk-container-id-1 div.sk-parallel-item:only-child::after {width: 0;}#sk-container-id-1 div.sk-dashed-wrapped {border: 1px dashed gray;margin: 0 0.4em 0.5em 0.4em;box-sizing: border-box;padding-bottom: 0.4em;background-color: white;}#sk-container-id-1 div.sk-label label {font-family: monospace;font-weight: bold;display: inline-block;line-height: 1.2em;}#sk-container-id-1 div.sk-label-container {text-align: center;}#sk-container-id-1 div.sk-container {/* jupyter's `normalize.less` sets `[hidden] { display: none; }` but bootstrap.min.css set `[hidden] { display: none !important; }` so we also need the `!important` here to be able to override the default hidden behavior on the sphinx rendered scikit-learn.org. See: https://github.com/scikit-learn/scikit-learn/issues/21755 */display: inline-block !important;position: relative;}#sk-container-id-1 div.sk-text-repr-fallback {display: none;}</style><div id=\"sk-container-id-1\" class=\"sk-top-container\"><div class=\"sk-text-repr-fallback\"><pre>KNeighborsClassifier(metric=&#x27;euclidean&#x27;, n_neighbors=9)</pre><b>In a Jupyter environment, please rerun this cell to show the HTML representation or trust the notebook. <br />On GitHub, the HTML representation is unable to render, please try loading this page with nbviewer.org.</b></div><div class=\"sk-container\" hidden><div class=\"sk-item\"><div class=\"sk-estimator sk-toggleable\"><input class=\"sk-toggleable__control sk-hidden--visually\" id=\"sk-estimator-id-1\" type=\"checkbox\" checked><label for=\"sk-estimator-id-1\" class=\"sk-toggleable__label sk-toggleable__label-arrow\">KNeighborsClassifier</label><div class=\"sk-toggleable__content\"><pre>KNeighborsClassifier(metric=&#x27;euclidean&#x27;, n_neighbors=9)</pre></div></div></div></div></div>"
      ],
      "text/plain": [
       "KNeighborsClassifier(metric='euclidean', n_neighbors=9)"
      ]
     },
     "execution_count": 29,
     "metadata": {},
     "output_type": "execute_result"
    }
   ],
   "source": [
    "# Se divide en train y set\n",
    "X_train, X_test, y_train, y_test = train_test_split(X, y, test_size = 0.2)\n",
    "\n",
    "knn = KNeighborsClassifier(n_neighbors=9, metric='euclidean')\n",
    "\n",
    "knn.fit(X_train, y_train)"
   ]
  },
  {
   "cell_type": "markdown",
   "metadata": {},
   "source": [
    "Miramos las predicciones y la precisión de estas:"
   ]
  },
  {
   "cell_type": "code",
   "execution_count": 30,
   "metadata": {},
   "outputs": [
    {
     "name": "stdout",
     "output_type": "stream",
     "text": [
      "[0 1 0 0 0 0 1 1 1 0 1 0 1 1 1 0 1 1 1 0 1 0 0 1 1 0 0 1 0 0 0 0 0 0 0 0 0\n",
      " 1 1 0 0 1 0 0 0 1 0 0 1 0 0 1 0 1 1 1 0 1 0 1 0 1 0 1 0 0 0 0 0 0 0 1 1 0\n",
      " 0 1 0 0 0 0 1 0 1 0 0 1 0 1 0 0 1 0 0 0 0 0 1 1 0 0 0 0 0 0 0 0 0 0 0 0 0\n",
      " 1 0 1 0 0 0 0 1 0 0 0 0 1 0 0 1 1 1 1 0 0 0 0 0 0 0 1 0 1 1 0 0 0 0 0 0 0\n",
      " 0 0 0 0 0 0]\n",
      "Precisión: 0.7467532467532467\n"
     ]
    }
   ],
   "source": [
    "y_pred = knn.predict(X_test)\n",
    "print(y_pred)\n",
    "\n",
    "acc = knn.score(X_test, y_test)\n",
    "\n",
    "print('Precisión:', acc)"
   ]
  },
  {
   "cell_type": "markdown",
   "metadata": {},
   "source": [
    "Comprobamos la matriz de confusión: "
   ]
  },
  {
   "cell_type": "code",
   "execution_count": 31,
   "metadata": {},
   "outputs": [
    {
     "name": "stdout",
     "output_type": "stream",
     "text": [
      "[[86 20]\n",
      " [19 29]]\n"
     ]
    }
   ],
   "source": [
    "print(confusion_matrix(y_test, y_pred))\n",
    "#Se refiere a:\n",
    "\n",
    "# |Verdaderos Positivos | Falsos negativos    |\n",
    "# |Falsos Positivos     | Verdaderos Negativos|"
   ]
  },
  {
   "cell_type": "markdown",
   "metadata": {},
   "source": [
    "En la matriz, lo ideal es que falsos positivos y negativos sean 0 (aunque un modelo casi nunca será 100% preciso)"
   ]
  },
  {
   "cell_type": "markdown",
   "metadata": {},
   "source": [
    "Hacemos un reporte de clasificación:"
   ]
  },
  {
   "cell_type": "code",
   "execution_count": 32,
   "metadata": {},
   "outputs": [
    {
     "name": "stdout",
     "output_type": "stream",
     "text": [
      "              precision    recall  f1-score   support\n",
      "\n",
      "           0       0.82      0.81      0.82       106\n",
      "           1       0.59      0.60      0.60        48\n",
      "\n",
      "    accuracy                           0.75       154\n",
      "   macro avg       0.71      0.71      0.71       154\n",
      "weighted avg       0.75      0.75      0.75       154\n",
      "\n"
     ]
    }
   ],
   "source": [
    "print(classification_report(y_test, y_pred))"
   ]
  },
  {
   "cell_type": "markdown",
   "metadata": {},
   "source": [
    "Ahora creamos un bucle y escogemos el mejor valor para K-NN:"
   ]
  },
  {
   "cell_type": "code",
   "execution_count": 172,
   "metadata": {},
   "outputs": [
    {
     "name": "stdout",
     "output_type": "stream",
     "text": [
      "Error Mínimo:  0.07017543859649122 en n_neighbor:  5\n"
     ]
    },
    {
     "data": {
      "image/png": "[encoded data removed]",
      "text/plain": [
       "<Figure size 1000x600 with 1 Axes>"
      ]
     },
     "metadata": {},
     "output_type": "display_data"
    }
   ],
   "source": [
    "error_rate = []\n",
    "for i in range(1,10):\n",
    "    knn = KNeighborsClassifier(n_neighbors=i)\n",
    "    knn.fit(X_train,y_train)\n",
    "    pred_i = knn.predict(X_test)\n",
    "    error_rate.append(np.mean(pred_i != y_test))\n",
    "    \n",
    "plt.figure(figsize=(10,6))\n",
    "plt.plot(range(1,10), error_rate, color='blue', linestyle='dashed', marker='o', markerfacecolor='red', markersize=10)\n",
    "plt.title('Error rate vs K-NN value')\n",
    "plt.xlabel('n_neighbors')\n",
    "plt.ylabel('error rate')\n",
    "print('Error Mínimo: ', min(error_rate), 'en n_neighbor: ', error_rate.index(min(error_rate))+1)\n",
    "error_knn_pima = min(error_rate)"
   ]
  },
  {
   "cell_type": "markdown",
   "metadata": {},
   "source": [
    "El punto más cercano a la zona de abajo será el vecino con el menor índice de error y por tanto el más cercano."
   ]
  },
  {
   "cell_type": "markdown",
   "metadata": {},
   "source": [
    "### K-NN para wdbc:"
   ]
  },
  {
   "cell_type": "markdown",
   "metadata": {},
   "source": [
    "Se repite el mismo proceso de antes:"
   ]
  },
  {
   "cell_type": "code",
   "execution_count": 173,
   "metadata": {},
   "outputs": [
    {
     "name": "stdout",
     "output_type": "stream",
     "text": [
      "['B' 'B' 'B' 'M' 'B' 'M' 'B' 'B' 'M' 'B' 'B' 'M' 'B' 'B' 'M' 'B' 'B' 'M'\n",
      " 'B' 'M' 'M' 'B' 'M' 'B' 'B' 'B' 'B' 'B' 'M' 'B' 'M' 'B' 'B' 'M' 'B' 'B'\n",
      " 'B' 'B' 'B' 'B' 'B' 'B' 'M' 'B' 'M' 'B' 'M' 'B' 'B' 'M' 'B' 'M' 'M' 'B'\n",
      " 'B' 'B' 'B' 'M' 'M' 'B' 'B' 'B' 'B' 'B' 'M' 'M' 'M' 'M' 'B' 'B' 'M' 'B'\n",
      " 'B' 'B' 'B' 'B' 'M' 'B' 'M' 'M' 'B' 'M' 'B' 'B' 'B' 'B' 'M' 'M' 'M' 'B'\n",
      " 'B' 'B' 'M' 'M' 'B' 'M' 'B' 'M' 'M' 'B' 'M' 'M' 'B' 'B' 'B' 'B' 'M' 'M'\n",
      " 'B' 'M' 'M' 'B' 'B' 'M']\n",
      "Precisión: 0.9210526315789473\n",
      "[[66  5]\n",
      " [ 4 39]]\n",
      "              precision    recall  f1-score   support\n",
      "\n",
      "           B       0.94      0.93      0.94        71\n",
      "           M       0.89      0.91      0.90        43\n",
      "\n",
      "    accuracy                           0.92       114\n",
      "   macro avg       0.91      0.92      0.92       114\n",
      "weighted avg       0.92      0.92      0.92       114\n",
      "\n",
      "Error Mínimo:  0.07017543859649122 en n_neighbor:  2\n"
     ]
    },
    {
     "data": {
      "image/png": "[encoded data removed]",
      "text/plain": [
       "<Figure size 1000x600 with 1 Axes>"
      ]
     },
     "metadata": {},
     "output_type": "display_data"
    }
   ],
   "source": [
    "X = dataset2[['Atributo1','Atributo2','Atributo3','Atributo4','Atributo5','Atributo6','Atributo7','Atributo8','Atributo9','Atributo10','Atributo11','Atributo12','Atributo13','Atributo14','Atributo15'\n",
    "              ,'Atributo16','Atributo17','Atributo18','Atributo19','Atributo20','Atributo21','Atributo22','Atributo23','Atributo24','Atributo25','Atributo26','Atributo27','Atributo28','Atributo29','Atributo30']].values\n",
    "y = dataset2[['Class']].values.ravel()\n",
    "\n",
    "# Se divide en train y set\n",
    "X_train, X_test, y_train, y_test = train_test_split(X, y, test_size = 0.2)\n",
    "\n",
    "knn = KNeighborsClassifier(n_neighbors=9, metric='euclidean')\n",
    "\n",
    "knn.fit(X_train, y_train)\n",
    "\n",
    "y_pred = knn.predict(X_test)\n",
    "print(y_pred)\n",
    "\n",
    "acc = knn.score(X_test, y_test)\n",
    "\n",
    "print('Precisión:', acc)\n",
    "\n",
    "print(confusion_matrix(y_test, y_pred))\n",
    "#Se refiere a:\n",
    "\n",
    "# | Verdaderos Positivos | Falsos negativos     |\n",
    "# | Falsos Positivos     | Verdaderos Negativos |\n",
    "\n",
    "# Ideal es que falsos positivos y negativos sean 0 (aunque un modelo casi nunca será 100% preciso)\n",
    "\n",
    "print(classification_report(y_test, y_pred))\n",
    "\n",
    "error_rate = []\n",
    "for i in range(1,10):\n",
    "    knn = KNeighborsClassifier(n_neighbors=i)\n",
    "    knn.fit(X_train,y_train)\n",
    "    pred_i = knn.predict(X_test)\n",
    "    error_rate.append(np.mean(pred_i != y_test))\n",
    "    \n",
    "plt.figure(figsize=(10,6))\n",
    "plt.plot(range(1,10), error_rate, color='blue', linestyle='dashed', marker='o', markerfacecolor='red', markersize=10)\n",
    "plt.title('Error rate vs K-NN value')\n",
    "plt.xlabel('n_neighbors')\n",
    "plt.ylabel('error rate')\n",
    "print('Error Mínimo: ', min(error_rate), 'en n_neighbor: ', error_rate.index(min(error_rate))+1)\n",
    "error_knn_wdbc = min(error_rate)"
   ]
  },
  {
   "cell_type": "markdown",
   "metadata": {},
   "source": [
    "### K-Means para iris:"
   ]
  },
  {
   "cell_type": "markdown",
   "metadata": {},
   "source": [
    "Empiezo con las características:"
   ]
  },
  {
   "cell_type": "code",
   "execution_count": 45,
   "metadata": {},
   "outputs": [
    {
     "name": "stdout",
     "output_type": "stream",
     "text": [
      "<class 'pandas.core.frame.DataFrame'>\n",
      "RangeIndex: 150 entries, 0 to 149\n",
      "Data columns (total 5 columns):\n",
      " #   Column  Non-Null Count  Dtype  \n",
      "---  ------  --------------  -----  \n",
      " 0   SL      150 non-null    float64\n",
      " 1   SW      150 non-null    float64\n",
      " 2   PL      150 non-null    float64\n",
      " 3   PW      150 non-null    float64\n",
      " 4   Class   150 non-null    object \n",
      "dtypes: float64(4), object(1)\n",
      "memory usage: 6.0+ KB\n"
     ]
    }
   ],
   "source": [
    "dataset3.info()"
   ]
  },
  {
   "cell_type": "code",
   "execution_count": 46,
   "metadata": {},
   "outputs": [
    {
     "data": {
      "text/html": [
       "<div>\n",
       "<style scoped>\n",
       "    .dataframe tbody tr th:only-of-type {\n",
       "        vertical-align: middle;\n",
       "    }\n",
       "\n",
       "    .dataframe tbody tr th {\n",
       "        vertical-align: top;\n",
       "    }\n",
       "\n",
       "    .dataframe thead th {\n",
       "        text-align: right;\n",
       "    }\n",
       "</style>\n",
       "<table border=\"1\" class=\"dataframe\">\n",
       "  <thead>\n",
       "    <tr style=\"text-align: right;\">\n",
       "      <th></th>\n",
       "      <th>SL</th>\n",
       "      <th>SW</th>\n",
       "      <th>PL</th>\n",
       "      <th>PW</th>\n",
       "      <th>Class</th>\n",
       "    </tr>\n",
       "  </thead>\n",
       "  <tbody>\n",
       "    <tr>\n",
       "      <th>0</th>\n",
       "      <td>5.1</td>\n",
       "      <td>3.5</td>\n",
       "      <td>1.4</td>\n",
       "      <td>0.2</td>\n",
       "      <td>Iris-setosa</td>\n",
       "    </tr>\n",
       "    <tr>\n",
       "      <th>1</th>\n",
       "      <td>4.9</td>\n",
       "      <td>3.0</td>\n",
       "      <td>1.4</td>\n",
       "      <td>0.2</td>\n",
       "      <td>Iris-setosa</td>\n",
       "    </tr>\n",
       "    <tr>\n",
       "      <th>2</th>\n",
       "      <td>4.7</td>\n",
       "      <td>3.2</td>\n",
       "      <td>1.3</td>\n",
       "      <td>0.2</td>\n",
       "      <td>Iris-setosa</td>\n",
       "    </tr>\n",
       "    <tr>\n",
       "      <th>3</th>\n",
       "      <td>4.6</td>\n",
       "      <td>3.1</td>\n",
       "      <td>1.5</td>\n",
       "      <td>0.2</td>\n",
       "      <td>Iris-setosa</td>\n",
       "    </tr>\n",
       "    <tr>\n",
       "      <th>4</th>\n",
       "      <td>5.0</td>\n",
       "      <td>3.6</td>\n",
       "      <td>1.4</td>\n",
       "      <td>0.2</td>\n",
       "      <td>Iris-setosa</td>\n",
       "    </tr>\n",
       "  </tbody>\n",
       "</table>\n",
       "</div>"
      ],
      "text/plain": [
       "    SL   SW   PL   PW        Class\n",
       "0  5.1  3.5  1.4  0.2  Iris-setosa\n",
       "1  4.9  3.0  1.4  0.2  Iris-setosa\n",
       "2  4.7  3.2  1.3  0.2  Iris-setosa\n",
       "3  4.6  3.1  1.5  0.2  Iris-setosa\n",
       "4  5.0  3.6  1.4  0.2  Iris-setosa"
      ]
     },
     "execution_count": 46,
     "metadata": {},
     "output_type": "execute_result"
    }
   ],
   "source": [
    "dataset3.head()"
   ]
  },
  {
   "cell_type": "markdown",
   "metadata": {},
   "source": [
    "Miro los valores descriptivos:"
   ]
  },
  {
   "cell_type": "code",
   "execution_count": 47,
   "metadata": {},
   "outputs": [
    {
     "data": {
      "text/html": [
       "<div>\n",
       "<style scoped>\n",
       "    .dataframe tbody tr th:only-of-type {\n",
       "        vertical-align: middle;\n",
       "    }\n",
       "\n",
       "    .dataframe tbody tr th {\n",
       "        vertical-align: top;\n",
       "    }\n",
       "\n",
       "    .dataframe thead th {\n",
       "        text-align: right;\n",
       "    }\n",
       "</style>\n",
       "<table border=\"1\" class=\"dataframe\">\n",
       "  <thead>\n",
       "    <tr style=\"text-align: right;\">\n",
       "      <th></th>\n",
       "      <th>SL</th>\n",
       "      <th>SW</th>\n",
       "      <th>PL</th>\n",
       "      <th>PW</th>\n",
       "    </tr>\n",
       "  </thead>\n",
       "  <tbody>\n",
       "    <tr>\n",
       "      <th>count</th>\n",
       "      <td>150.000000</td>\n",
       "      <td>150.000000</td>\n",
       "      <td>150.000000</td>\n",
       "      <td>150.000000</td>\n",
       "    </tr>\n",
       "    <tr>\n",
       "      <th>mean</th>\n",
       "      <td>5.843333</td>\n",
       "      <td>3.054000</td>\n",
       "      <td>3.758667</td>\n",
       "      <td>1.198667</td>\n",
       "    </tr>\n",
       "    <tr>\n",
       "      <th>std</th>\n",
       "      <td>0.828066</td>\n",
       "      <td>0.433594</td>\n",
       "      <td>1.764420</td>\n",
       "      <td>0.763161</td>\n",
       "    </tr>\n",
       "    <tr>\n",
       "      <th>min</th>\n",
       "      <td>4.300000</td>\n",
       "      <td>2.000000</td>\n",
       "      <td>1.000000</td>\n",
       "      <td>0.100000</td>\n",
       "    </tr>\n",
       "    <tr>\n",
       "      <th>25%</th>\n",
       "      <td>5.100000</td>\n",
       "      <td>2.800000</td>\n",
       "      <td>1.600000</td>\n",
       "      <td>0.300000</td>\n",
       "    </tr>\n",
       "    <tr>\n",
       "      <th>50%</th>\n",
       "      <td>5.800000</td>\n",
       "      <td>3.000000</td>\n",
       "      <td>4.350000</td>\n",
       "      <td>1.300000</td>\n",
       "    </tr>\n",
       "    <tr>\n",
       "      <th>75%</th>\n",
       "      <td>6.400000</td>\n",
       "      <td>3.300000</td>\n",
       "      <td>5.100000</td>\n",
       "      <td>1.800000</td>\n",
       "    </tr>\n",
       "    <tr>\n",
       "      <th>max</th>\n",
       "      <td>7.900000</td>\n",
       "      <td>4.400000</td>\n",
       "      <td>6.900000</td>\n",
       "      <td>2.500000</td>\n",
       "    </tr>\n",
       "  </tbody>\n",
       "</table>\n",
       "</div>"
      ],
      "text/plain": [
       "               SL          SW          PL          PW\n",
       "count  150.000000  150.000000  150.000000  150.000000\n",
       "mean     5.843333    3.054000    3.758667    1.198667\n",
       "std      0.828066    0.433594    1.764420    0.763161\n",
       "min      4.300000    2.000000    1.000000    0.100000\n",
       "25%      5.100000    2.800000    1.600000    0.300000\n",
       "50%      5.800000    3.000000    4.350000    1.300000\n",
       "75%      6.400000    3.300000    5.100000    1.800000\n",
       "max      7.900000    4.400000    6.900000    2.500000"
      ]
     },
     "execution_count": 47,
     "metadata": {},
     "output_type": "execute_result"
    }
   ],
   "source": [
    "dataset3.describe()"
   ]
  },
  {
   "cell_type": "markdown",
   "metadata": {},
   "source": [
    "Normalizamos los valores y los guardo en una nueva variable:"
   ]
  },
  {
   "cell_type": "code",
   "execution_count": 48,
   "metadata": {},
   "outputs": [
    {
     "name": "stdout",
     "output_type": "stream",
     "text": [
      "           SL        SW        PL        PW\n",
      "0    0.222222  0.625000  0.067797  0.041667\n",
      "1    0.166667  0.416667  0.067797  0.041667\n",
      "2    0.111111  0.500000  0.050847  0.041667\n",
      "3    0.083333  0.458333  0.084746  0.041667\n",
      "4    0.194444  0.666667  0.067797  0.041667\n",
      "..        ...       ...       ...       ...\n",
      "145  0.666667  0.416667  0.711864  0.916667\n",
      "146  0.555556  0.208333  0.677966  0.750000\n",
      "147  0.611111  0.416667  0.711864  0.791667\n",
      "148  0.527778  0.583333  0.745763  0.916667\n",
      "149  0.444444  0.416667  0.694915  0.708333\n",
      "\n",
      "[150 rows x 4 columns]\n"
     ]
    }
   ],
   "source": [
    "dataset3_variable = dataset3.drop(['Class'], axis=1)\n",
    "dataset3_norm = (dataset3_variable-dataset3_variable.min())/(dataset3_variable.max()-dataset3_variable.min())\n",
    "print(dataset3_norm)"
   ]
  },
  {
   "cell_type": "markdown",
   "metadata": {},
   "source": [
    "Valores descriptivos normalizados:"
   ]
  },
  {
   "cell_type": "code",
   "execution_count": 49,
   "metadata": {},
   "outputs": [
    {
     "data": {
      "text/html": [
       "<div>\n",
       "<style scoped>\n",
       "    .dataframe tbody tr th:only-of-type {\n",
       "        vertical-align: middle;\n",
       "    }\n",
       "\n",
       "    .dataframe tbody tr th {\n",
       "        vertical-align: top;\n",
       "    }\n",
       "\n",
       "    .dataframe thead th {\n",
       "        text-align: right;\n",
       "    }\n",
       "</style>\n",
       "<table border=\"1\" class=\"dataframe\">\n",
       "  <thead>\n",
       "    <tr style=\"text-align: right;\">\n",
       "      <th></th>\n",
       "      <th>SL</th>\n",
       "      <th>SW</th>\n",
       "      <th>PL</th>\n",
       "      <th>PW</th>\n",
       "    </tr>\n",
       "  </thead>\n",
       "  <tbody>\n",
       "    <tr>\n",
       "      <th>count</th>\n",
       "      <td>150.000000</td>\n",
       "      <td>150.000000</td>\n",
       "      <td>150.000000</td>\n",
       "      <td>150.000000</td>\n",
       "    </tr>\n",
       "    <tr>\n",
       "      <th>mean</th>\n",
       "      <td>0.428704</td>\n",
       "      <td>0.439167</td>\n",
       "      <td>0.467571</td>\n",
       "      <td>0.457778</td>\n",
       "    </tr>\n",
       "    <tr>\n",
       "      <th>std</th>\n",
       "      <td>0.230018</td>\n",
       "      <td>0.180664</td>\n",
       "      <td>0.299054</td>\n",
       "      <td>0.317984</td>\n",
       "    </tr>\n",
       "    <tr>\n",
       "      <th>min</th>\n",
       "      <td>0.000000</td>\n",
       "      <td>0.000000</td>\n",
       "      <td>0.000000</td>\n",
       "      <td>0.000000</td>\n",
       "    </tr>\n",
       "    <tr>\n",
       "      <th>25%</th>\n",
       "      <td>0.222222</td>\n",
       "      <td>0.333333</td>\n",
       "      <td>0.101695</td>\n",
       "      <td>0.083333</td>\n",
       "    </tr>\n",
       "    <tr>\n",
       "      <th>50%</th>\n",
       "      <td>0.416667</td>\n",
       "      <td>0.416667</td>\n",
       "      <td>0.567797</td>\n",
       "      <td>0.500000</td>\n",
       "    </tr>\n",
       "    <tr>\n",
       "      <th>75%</th>\n",
       "      <td>0.583333</td>\n",
       "      <td>0.541667</td>\n",
       "      <td>0.694915</td>\n",
       "      <td>0.708333</td>\n",
       "    </tr>\n",
       "    <tr>\n",
       "      <th>max</th>\n",
       "      <td>1.000000</td>\n",
       "      <td>1.000000</td>\n",
       "      <td>1.000000</td>\n",
       "      <td>1.000000</td>\n",
       "    </tr>\n",
       "  </tbody>\n",
       "</table>\n",
       "</div>"
      ],
      "text/plain": [
       "               SL          SW          PL          PW\n",
       "count  150.000000  150.000000  150.000000  150.000000\n",
       "mean     0.428704    0.439167    0.467571    0.457778\n",
       "std      0.230018    0.180664    0.299054    0.317984\n",
       "min      0.000000    0.000000    0.000000    0.000000\n",
       "25%      0.222222    0.333333    0.101695    0.083333\n",
       "50%      0.416667    0.416667    0.567797    0.500000\n",
       "75%      0.583333    0.541667    0.694915    0.708333\n",
       "max      1.000000    1.000000    1.000000    1.000000"
      ]
     },
     "execution_count": 49,
     "metadata": {},
     "output_type": "execute_result"
    }
   ],
   "source": [
    "dataset3_norm.describe()"
   ]
  },
  {
   "cell_type": "markdown",
   "metadata": {},
   "source": [
    "Búsqueda de la cantidad óptima de clusters:\n",
    "(Calculamos que tan parecidos son los individuos dentro de los clusters)"
   ]
  },
  {
   "cell_type": "code",
   "execution_count": 77,
   "metadata": {},
   "outputs": [],
   "source": [
    "wcss = [] #Suma de los cuadrados\n",
    "\n",
    "for i in range(1,5):\n",
    "    kmeans = sk.cluster.KMeans(n_clusters= i, max_iter = 300)\n",
    "    kmeans.fit(dataset3_norm)\n",
    "    wcss.append(kmeans.inertia_)"
   ]
  },
  {
   "cell_type": "markdown",
   "metadata": {},
   "source": [
    "Gráfico de Codo Jambú, el cual utilizamos para saber cual es el número de clusters óptimo, este es el punto en el que deja de disminuir drásticamente:"
   ]
  },
  {
   "cell_type": "code",
   "execution_count": 78,
   "metadata": {},
   "outputs": [
    {
     "data": {
      "image/png": "[encoded data removed]",
      "text/plain": [
       "<Figure size 640x480 with 1 Axes>"
      ]
     },
     "metadata": {},
     "output_type": "display_data"
    }
   ],
   "source": [
    "plt.plot(range(1,5),wcss)\n",
    "plt.title(\"Codo de Jambú\")\n",
    "plt.xlabel('Número de Clusters')\n",
    "plt.ylabel('WCSS')\n",
    "plt.show()"
   ]
  },
  {
   "cell_type": "markdown",
   "metadata": {},
   "source": [
    "#### Aplico K-Means a la base de datos"
   ]
  },
  {
   "cell_type": "code",
   "execution_count": 79,
   "metadata": {},
   "outputs": [
    {
     "data": {
      "text/html": [
       "<style>#sk-container-id-5 {color: black;background-color: white;}#sk-container-id-5 pre{padding: 0;}#sk-container-id-5 div.sk-toggleable {background-color: white;}#sk-container-id-5 label.sk-toggleable__label {cursor: pointer;display: block;width: 100%;margin-bottom: 0;padding: 0.3em;box-sizing: border-box;text-align: center;}#sk-container-id-5 label.sk-toggleable__label-arrow:before {content: \"▸\";float: left;margin-right: 0.25em;color: #696969;}#sk-container-id-5 label.sk-toggleable__label-arrow:hover:before {color: black;}#sk-container-id-5 div.sk-estimator:hover label.sk-toggleable__label-arrow:before {color: black;}#sk-container-id-5 div.sk-toggleable__content {max-height: 0;max-width: 0;overflow: hidden;text-align: left;background-color: #f0f8ff;}#sk-container-id-5 div.sk-toggleable__content pre {margin: 0.2em;color: black;border-radius: 0.25em;background-color: #f0f8ff;}#sk-container-id-5 input.sk-toggleable__control:checked~div.sk-toggleable__content {max-height: 200px;max-width: 100%;overflow: auto;}#sk-container-id-5 input.sk-toggleable__control:checked~label.sk-toggleable__label-arrow:before {content: \"▾\";}#sk-container-id-5 div.sk-estimator input.sk-toggleable__control:checked~label.sk-toggleable__label {background-color: #d4ebff;}#sk-container-id-5 div.sk-label input.sk-toggleable__control:checked~label.sk-toggleable__label {background-color: #d4ebff;}#sk-container-id-5 input.sk-hidden--visually {border: 0;clip: rect(1px 1px 1px 1px);clip: rect(1px, 1px, 1px, 1px);height: 1px;margin: -1px;overflow: hidden;padding: 0;position: absolute;width: 1px;}#sk-container-id-5 div.sk-estimator {font-family: monospace;background-color: #f0f8ff;border: 1px dotted black;border-radius: 0.25em;box-sizing: border-box;margin-bottom: 0.5em;}#sk-container-id-5 div.sk-estimator:hover {background-color: #d4ebff;}#sk-container-id-5 div.sk-parallel-item::after {content: \"\";width: 100%;border-bottom: 1px solid gray;flex-grow: 1;}#sk-container-id-5 div.sk-label:hover label.sk-toggleable__label {background-color: #d4ebff;}#sk-container-id-5 div.sk-serial::before {content: \"\";position: absolute;border-left: 1px solid gray;box-sizing: border-box;top: 0;bottom: 0;left: 50%;z-index: 0;}#sk-container-id-5 div.sk-serial {display: flex;flex-direction: column;align-items: center;background-color: white;padding-right: 0.2em;padding-left: 0.2em;position: relative;}#sk-container-id-5 div.sk-item {position: relative;z-index: 1;}#sk-container-id-5 div.sk-parallel {display: flex;align-items: stretch;justify-content: center;background-color: white;position: relative;}#sk-container-id-5 div.sk-item::before, #sk-container-id-5 div.sk-parallel-item::before {content: \"\";position: absolute;border-left: 1px solid gray;box-sizing: border-box;top: 0;bottom: 0;left: 50%;z-index: -1;}#sk-container-id-5 div.sk-parallel-item {display: flex;flex-direction: column;z-index: 1;position: relative;background-color: white;}#sk-container-id-5 div.sk-parallel-item:first-child::after {align-self: flex-end;width: 50%;}#sk-container-id-5 div.sk-parallel-item:last-child::after {align-self: flex-start;width: 50%;}#sk-container-id-5 div.sk-parallel-item:only-child::after {width: 0;}#sk-container-id-5 div.sk-dashed-wrapped {border: 1px dashed gray;margin: 0 0.4em 0.5em 0.4em;box-sizing: border-box;padding-bottom: 0.4em;background-color: white;}#sk-container-id-5 div.sk-label label {font-family: monospace;font-weight: bold;display: inline-block;line-height: 1.2em;}#sk-container-id-5 div.sk-label-container {text-align: center;}#sk-container-id-5 div.sk-container {/* jupyter's `normalize.less` sets `[hidden] { display: none; }` but bootstrap.min.css set `[hidden] { display: none !important; }` so we also need the `!important` here to be able to override the default hidden behavior on the sphinx rendered scikit-learn.org. See: https://github.com/scikit-learn/scikit-learn/issues/21755 */display: inline-block !important;position: relative;}#sk-container-id-5 div.sk-text-repr-fallback {display: none;}</style><div id=\"sk-container-id-5\" class=\"sk-top-container\"><div class=\"sk-text-repr-fallback\"><pre>KMeans(n_clusters=3)</pre><b>In a Jupyter environment, please rerun this cell to show the HTML representation or trust the notebook. <br />On GitHub, the HTML representation is unable to render, please try loading this page with nbviewer.org.</b></div><div class=\"sk-container\" hidden><div class=\"sk-item\"><div class=\"sk-estimator sk-toggleable\"><input class=\"sk-toggleable__control sk-hidden--visually\" id=\"sk-estimator-id-5\" type=\"checkbox\" checked><label for=\"sk-estimator-id-5\" class=\"sk-toggleable__label sk-toggleable__label-arrow\">KMeans</label><div class=\"sk-toggleable__content\"><pre>KMeans(n_clusters=3)</pre></div></div></div></div></div>"
      ],
      "text/plain": [
       "KMeans(n_clusters=3)"
      ]
     },
     "execution_count": 79,
     "metadata": {},
     "output_type": "execute_result"
    }
   ],
   "source": [
    "clustering = sk.cluster.KMeans(n_clusters=3, max_iter = 300) #Crea el modelo\n",
    "clustering.fit(dataset3_norm) #Aplica el modelo a la base de datos"
   ]
  },
  {
   "cell_type": "markdown",
   "metadata": {},
   "source": [
    "Agrego la clasificación al archivo original:"
   ]
  },
  {
   "cell_type": "code",
   "execution_count": 80,
   "metadata": {},
   "outputs": [
    {
     "name": "stdout",
     "output_type": "stream",
     "text": [
      "      SL   SW   PL   PW           Class  KMeans_Clusters\n",
      "0    5.1  3.5  1.4  0.2     Iris-setosa                1\n",
      "1    4.9  3.0  1.4  0.2     Iris-setosa                1\n",
      "2    4.7  3.2  1.3  0.2     Iris-setosa                1\n",
      "3    4.6  3.1  1.5  0.2     Iris-setosa                1\n",
      "4    5.0  3.6  1.4  0.2     Iris-setosa                1\n",
      "..   ...  ...  ...  ...             ...              ...\n",
      "145  6.7  3.0  5.2  2.3  Iris-virginica                2\n",
      "146  6.3  2.5  5.0  1.9  Iris-virginica                0\n",
      "147  6.5  3.0  5.2  2.0  Iris-virginica                2\n",
      "148  6.2  3.4  5.4  2.3  Iris-virginica                2\n",
      "149  5.9  3.0  5.1  1.8  Iris-virginica                0\n",
      "\n",
      "[150 rows x 6 columns]\n"
     ]
    }
   ],
   "source": [
    "dataset3['KMeans_Clusters'] = clustering.labels_ #Los resultados del clustering se guardan en labels_ dentro del modelo\n",
    "print(dataset3)"
   ]
  },
  {
   "cell_type": "markdown",
   "metadata": {},
   "source": [
    "#### Clusters formados:\n",
    "(Aplicaremos el análisis de componentes principales)"
   ]
  },
  {
   "cell_type": "code",
   "execution_count": 81,
   "metadata": {},
   "outputs": [
    {
     "name": "stdout",
     "output_type": "stream",
     "text": [
      "     Componente_1  Componente_2  KMeans_Clusters\n",
      "0       -0.630361      0.111556                1\n",
      "1       -0.623546     -0.100313                1\n",
      "2       -0.669793     -0.047220                1\n",
      "3       -0.654633     -0.098791                1\n",
      "4       -0.648263      0.137558                1\n",
      "..            ...           ...              ...\n",
      "145      0.551755      0.058990                2\n",
      "146      0.406278     -0.172227                0\n",
      "147      0.447293      0.036996                2\n",
      "148      0.489218      0.149121                2\n",
      "149      0.312079     -0.031151                0\n",
      "\n",
      "[150 rows x 3 columns]\n"
     ]
    }
   ],
   "source": [
    "pca = PCA(n_components=2)\n",
    "pca_iris = pca.fit_transform(dataset3_norm)\n",
    "pca_iris_df = pd.DataFrame(data = pca_iris, columns = ['Componente_1','Componente_2'])\n",
    "pca_ir = pd.concat([pca_iris_df, dataset3[['KMeans_Clusters']]], axis=1)\n",
    "\n",
    "print(pca_ir)"
   ]
  },
  {
   "cell_type": "markdown",
   "metadata": {},
   "source": [
    "Creo la gráfica:"
   ]
  },
  {
   "cell_type": "code",
   "execution_count": 82,
   "metadata": {},
   "outputs": [
    {
     "data": {
      "image/png": "[encoded data removed]",
      "text/plain": [
       "<Figure size 600x600 with 1 Axes>"
      ]
     },
     "metadata": {},
     "output_type": "display_data"
    }
   ],
   "source": [
    "fig = plt.figure(figsize=(6,6))\n",
    "\n",
    "ax = fig.add_subplot(1,1,1)\n",
    "ax.set_xlabel('Componente 1', fontsize = 15)\n",
    "ax.set_ylabel('Componente 2', fontsize = 15)\n",
    "ax.set_title('Componentes Principales', fontsize = 20)\n",
    "\n",
    "color_theme = np.array([\"blue\",\"green\",\"orange\"])\n",
    "ax.scatter(x=pca_ir.Componente_1, y=pca_ir.Componente_2, c=color_theme[pca_ir.KMeans_Clusters], s=30)\n",
    "\n",
    "plt.show()"
   ]
  },
  {
   "cell_type": "markdown",
   "metadata": {},
   "source": [
    "### Comparación de nuestros algoritmos y Scikit-learn:"
   ]
  },
  {
   "cell_type": "markdown",
   "metadata": {},
   "source": [
    "Estos eran los errores para pima-indians-diabetes con nuestro algoritmo:"
   ]
  },
  {
   "cell_type": "code",
   "execution_count": 25,
   "metadata": {},
   "outputs": [
    {
     "name": "stdout",
     "output_type": "stream",
     "text": [
      "Para K = 1:\n",
      "Error para pima-indians-diabetes k=1: 37.89%\n",
      "Error para pima-indians-diabetes k=1 normalizado: 34.61%\n",
      "\n",
      "Para K = 3:\n",
      "Error para pima-indians-diabetes k=3: 33.33%\n",
      "Error para pima-indians-diabetes k=3 normalizado: 32.37%\n",
      "\n",
      "Error para K = 5:\n",
      "Error para pima-indians-diabetes k=5: 31.47%\n",
      "Error para pima-indians-diabetes k=5 normalizado: 30.53%\n"
     ]
    }
   ],
   "source": [
    "print('Para K = 1:')\n",
    "print('Error para pima-indians-diabetes k=1: ' + err_diabetes_k1)\n",
    "print('Error para pima-indians-diabetes k=1 normalizado: ' + err_diabetes_k1_norm)\n",
    "print('\\nPara K = 3:')\n",
    "print('Error para pima-indians-diabetes k=3: ' + err_diabetes_k3)\n",
    "print('Error para pima-indians-diabetes k=3 normalizado: ' + err_diabetes_k3_norm)\n",
    "print('\\nError para K = 5:')\n",
    "print('Error para pima-indians-diabetes k=5: ' + err_diabetes_k5)\n",
    "print('Error para pima-indians-diabetes k=5 normalizado: ' + err_diabetes_k5_norm)"
   ]
  },
  {
   "cell_type": "markdown",
   "metadata": {},
   "source": [
    "Error para pima-indians-diabetes con sk:"
   ]
  },
  {
   "cell_type": "code",
   "execution_count": 174,
   "metadata": {},
   "outputs": [
    {
     "name": "stdout",
     "output_type": "stream",
     "text": [
      "Error de KNN de SK en pima-indians-diabetes:  7.02 %\n"
     ]
    }
   ],
   "source": [
    "print('Error de KNN de SK en pima-indians-diabetes: ', f'{error_knn_pima*100:.2f}', '%')"
   ]
  },
  {
   "cell_type": "markdown",
   "metadata": {},
   "source": [
    " - Si comparamos el error mínimo de sk con nuestro error se puede observar una gran diferencia, de normalmente el 25% con la mejor ejecución, esto quiere decir que aunque nuestro algoritmo si funcione para pima-indians-diabetes no es tan efeciento como podría llegar a ser. Aun así creemos que aunque no sea lo más óptimo posible, si es una eficiencia útil para algunos estudios."
   ]
  },
  {
   "cell_type": "markdown",
   "metadata": {},
   "source": [
    "Estos eran los errores para wdbc con nuestro algoritmo:"
   ]
  },
  {
   "cell_type": "code",
   "execution_count": 163,
   "metadata": {},
   "outputs": [
    {
     "name": "stdout",
     "output_type": "stream",
     "text": [
      "Para K = 1:\n",
      "Error para wdbc k=1: 9.29%\n",
      "Error para wdbc k=1 normalizado: 7.68%\n",
      "\n",
      "Para K = 3:\n",
      "Error para wdbc k=3: 5.90%\n",
      "Error para wdbc k=3 normalizado: 5.96%\n",
      "\n",
      "Error para K = 5:\n",
      "Error para wdbc k=5: 6.01%\n",
      "Error para wdbc k=5 normalizado: 6.06%\n"
     ]
    }
   ],
   "source": [
    "print('Para K = 1:')\n",
    "print('Error para wdbc k=1: ' + err_wdbc_k1)\n",
    "print('Error para wdbc k=1 normalizado: ' + err_wdbc_k1_norm)\n",
    "print('\\nPara K = 3:')\n",
    "print('Error para wdbc k=3: ' + err_wdbc_k3)\n",
    "print('Error para wdbc k=3 normalizado: ' + err_wdbc_k3_norm)\n",
    "print('\\nError para K = 5:')\n",
    "print('Error para wdbc k=5: ' + err_wdbc_k5)\n",
    "print('Error para wdbc k=5 normalizado: ' + err_wdbc_k5_norm)"
   ]
  },
  {
   "cell_type": "markdown",
   "metadata": {},
   "source": [
    "Error para wdbc con sk:"
   ]
  },
  {
   "cell_type": "code",
   "execution_count": 175,
   "metadata": {},
   "outputs": [
    {
     "name": "stdout",
     "output_type": "stream",
     "text": [
      "Error de KNN de SK en wdbc:  7.02 %\n"
     ]
    }
   ],
   "source": [
    "print('Error de KNN de SK en wdbc: ', f'{error_knn_wdbc*100:.2f}', '%')"
   ]
  },
  {
   "cell_type": "markdown",
   "metadata": {},
   "source": [
    "- Al contrario de como ocurre con el caso de pima-indians-diabetes, en wdbc obtenemos resultados muy parecidos a los de SK, llegando incluso en algunas ocasiones a obtener un error menor, por lo que para la ejecución con wdbc pensamos que tiene una eficiencia muy buena y totalmente aceptable."
   ]
  },
  {
   "cell_type": "markdown",
   "metadata": {},
   "source": [
    "Estos eran los errores para iris con nuestro algoritmo:"
   ]
  },
  {
   "cell_type": "code",
   "execution_count": 176,
   "metadata": {},
   "outputs": [
    {
     "name": "stdout",
     "output_type": "stream",
     "text": [
      "Para K = 1:\n",
      "Error para iris k=1: 5.94%\n",
      "Error para iris k=1 normalizado: 6.05%\n",
      "\n",
      "Para K = 3:\n",
      "Error para iris k=3: 6.02%\n",
      "Error para iris k=3 normalizado: 6.36%\n",
      "\n",
      "Error para K = 5:\n",
      "Error para iris k=5: 6.19%\n",
      "Error para iris k=5 normalizado: 6.56%\n"
     ]
    }
   ],
   "source": [
    "print('Para K = 1:')\n",
    "print('Error para iris k=1: ' + err_iris_k1)\n",
    "print('Error para iris k=1 normalizado: ' + err_iris_k1_norm)\n",
    "print('\\nPara K = 3:')\n",
    "print('Error para iris k=3: ' + err_iris_k3)\n",
    "print('Error para iris k=3 normalizado: ' + err_iris_k3_norm)\n",
    "print('\\nError para K = 5:')\n",
    "print('Error para iris k=5: ' + err_iris_k5)\n",
    "print('Error para iris k=5 normalizado: ' + err_iris_k5_norm)"
   ]
  },
  {
   "cell_type": "markdown",
   "metadata": {},
   "source": [
    "Error para iris con sk:"
   ]
  },
  {
   "cell_type": "markdown",
   "metadata": {},
   "source": [
    "- El error obtenido con SK, como se puede apreciar en el gráfico creado está normalmente cerca del 1%, asi que nuestra implementación no llega a tal eficiencia pensamos que un 6% o 7%, que es el error que solemos obtener sigue siendo una eficiencia aceptable y con la cual se puede trabajar."
   ]
  },
  {
   "cell_type": "markdown",
   "metadata": {},
   "source": [
    "### Conclusión:"
   ]
  },
  {
   "cell_type": "markdown",
   "metadata": {},
   "source": [
    "Aunque no hayamos obtenido una eficiencia la cual compita con sk en cualquier caso y que funcione igual para cualquier dataset, si creemos que hemos llegado a obtener unas eficiencias que son correctas para el trabajo de los datasets proporcionados y que funcionan de forma correcta. En resumen, no obtenemos una eficiencia máxima pero si una con la cual se puede trabajar."
   ]
  }
 ],
 "metadata": {
  "kernelspec": {
   "display_name": "Python 3 (ipykernel)",
   "language": "python",
   "name": "python3"
  },
  "language_info": {
   "codemirror_mode": {
    "name": "ipython",
    "version": 3
   },
   "file_extension": ".py",
   "mimetype": "text/x-python",
   "name": "python",
   "nbconvert_exporter": "python",
   "pygments_lexer": "ipython3",
   "version": "3.10.6"
  },
  "vscode": {
   "interpreter": {
    "hash": "916dbcbb3f70747c44a77c7bcd40155683ae19c65e1c03b4aa3499c5328201f1"
   }
  }
 },
 "nbformat": 4,
 "nbformat_minor": 2
}
