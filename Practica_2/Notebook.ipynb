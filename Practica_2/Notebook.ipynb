{
 "cells": [
  {
   "cell_type": "markdown",
   "metadata": {},
   "source": [
    "# Fundamentos de Aprendizaje Automático\n",
    "## _Práctica 2: K-NN y K-MEANS_\n",
    "### _Grupo 1461_\n",
    "#### _Rubén Torralba Manso y Alejandro Monterrubio Navarro_"
   ]
  },
  {
   "cell_type": "markdown",
   "metadata": {},
   "source": [
    "Importes:"
   ]
  },
  {
   "cell_type": "code",
   "execution_count": 1,
   "metadata": {},
   "outputs": [],
   "source": [
    "import pandas as pd\n",
    "import numpy as np\n",
    "import matplotlib.pyplot as plt\n",
    "from matplotlib.colors import ListedColormap\n",
    "import sklearn as sk\n",
    "import matplotlib.patches as mpatches\n",
    "from sklearn.model_selection import train_test_split\n",
    "from sklearn.preprocessing import MinMaxScaler\n",
    "from sklearn.neighbors import KNeighborsClassifier\n",
    "from sklearn.metrics import classification_report\n",
    "from sklearn.metrics import confusion_matrix\n",
    "from sklearn.model_selection import train_test_split\n",
    "from abc import ABCMeta,abstractmethod\n",
    "import numpy as np\n",
    "from Datos import Datos\n",
    "from Clasificador import *\n",
    "from ClasificadorKNN import * \n",
    "import EstrategiaParticionado as EstrategiaParticionado\n",
    "import matplotlib.pyplot as plt\n",
    "from sklearn.cluster import KMeans\n",
    "from sklearn.decomposition import PCA\n",
    "from EstrategiaParticionado import ValidacionSimple as validacionSimple\n",
    "from ClusteringKMeans import KMeans"
   ]
  },
  {
   "cell_type": "markdown",
   "metadata": {},
   "source": [
    "Carga de datasets:"
   ]
  },
  {
   "cell_type": "code",
   "execution_count": 2,
   "metadata": {},
   "outputs": [],
   "source": [
    "dataset1 = Datos('ConjuntosDatosP2/pima-indians-diabetes.csv')\n",
    "dataset2 = Datos('ConjuntosDatosP2/wdbc.csv')\n",
    "dataset3 = Datos('ConjuntosDatosP2/iris.csv')"
   ]
  },
  {
   "cell_type": "markdown",
   "metadata": {},
   "source": [
    "### Decisiones de diseño:"
   ]
  },
  {
   "cell_type": "markdown",
   "metadata": {},
   "source": [
    " A la hora de realizar el diseño, tomamos una decisión inicial que creíamos sería óptima, pero una vez realizada la práctica hemos llegado a la conclusión de que no así. La clase ideal para ubicar los métodos de normalización de los datos sería en la propia clase Datos. De esta forma, todas las operaciones que se hagan sobre un dataset, queda en la clase que se dedica a trabajar sobre este. El inconveniente que tiene ubicarlo en la clase Clasificador, que es como lo hemos hecho nosotros, es que cada vez que quieras normalizar los datos quedas supeditado a tener creado un objeto clasificador que seguramente ni necesites, quizá porque no estas clasificando y simplemente quieres normalizar datos de un dataset por otro motivo. Lo ideal es tener las operaciones sobre datos, en la clase Datos. Como nos hemos dado cuenta a posteriori, lo mantenemos así en nuestro código "
   ]
  },
  {
   "cell_type": "markdown",
   "metadata": {},
   "source": [
    "# Apartado 1: Algoritmo K-NN"
   ]
  },
  {
   "cell_type": "markdown",
   "metadata": {},
   "source": [
    "Hacemos que el clasificador sea K-NN y cargo su dataset:"
   ]
  },
  {
   "cell_type": "code",
   "execution_count": 254,
   "metadata": {},
   "outputs": [],
   "source": [
    "errores = []\n",
    "NParticiones = 5\n",
    "validacionSimple = EstrategiaParticionado.ValidacionSimple(10,NParticiones)\n",
    "clasificador = ClasificadorKNN()"
   ]
  },
  {
   "cell_type": "markdown",
   "metadata": {},
   "source": [
    "Vamos a estudiar el algoritmo para diferentes valores de K: 1,3,5,7... Estos valores deben ser impares para que no quepa lugar a posibles empates. Tras cada ejecución haremos alguna discusión sobre los resultados y finalmente trataremos de llegar a alguna conclusión después de discutir los resultados. "
   ]
  },
  {
   "cell_type": "markdown",
   "metadata": {},
   "source": [
    "### Pima-indians-diabetes:"
   ]
  },
  {
   "cell_type": "markdown",
   "metadata": {},
   "source": [
    "Como no es el objetivo principal de esta práctica y para simplificar y acortar la valoración de los resultados, vamos a realizar todas las pruebas con una estrategia de particionado simple reservando un 10% para los índices de test, y con 5 particiones sobre los indices."
   ]
  },
  {
   "cell_type": "code",
   "execution_count": 255,
   "metadata": {},
   "outputs": [],
   "source": [
    "validacionSimple.creaParticiones(dataset1.datos)"
   ]
  },
  {
   "cell_type": "markdown",
   "metadata": {},
   "source": [
    "## K = 1"
   ]
  },
  {
   "cell_type": "markdown",
   "metadata": {},
   "source": [
    "#### Sin normalizar los datos:\n",
    "Como bien sabemos, K-NN muestra un rendimiento de O(1) en una version óptima si no normalizamos los datos. Y de la forma en la que hemos realizado nuestra implementación no es necesario que el clasificador se guarde la información del dataset si este no se va a normalizar, por lo que no hemos visto necesario llamar al metodo entrenamiento si no queremos normalizar los valores del dataset.  "
   ]
  },
  {
   "cell_type": "code",
   "execution_count": 256,
   "metadata": {},
   "outputs": [],
   "source": [
    "K = 1"
   ]
  },
  {
   "cell_type": "code",
   "execution_count": 257,
   "metadata": {},
   "outputs": [],
   "source": [
    "errores = []\n",
    "for j in range(3):\n",
    "    validacionSimple.creaParticiones(dataset1.datos)\n",
    "    for i in range(NParticiones):\n",
    "    \n",
    "        predicciones = clasificador.clasifica(dataset1.extraeDatos(validacionSimple.particiones[i].indicesTest), dataset1.extraeDatos(validacionSimple.particiones[i].indicesTrain),dataset1.nominalAtributos,K)\n",
    "    \n",
    "        error = clasificador.error(dataset1.extraeDatos(validacionSimple.particiones[i].indicesTest),predicciones)\n",
    "\n",
    "        errores.append(error) "
   ]
  },
  {
   "cell_type": "code",
   "execution_count": 258,
   "metadata": {},
   "outputs": [
    {
     "name": "stdout",
     "output_type": "stream",
     "text": [
      "El error para K = 1 sin normalizar los datos es: 31.05%\n"
     ]
    }
   ],
   "source": [
    "err_diabetes_k1 = f'{np.mean(errores) * 100:.2f}%'\n",
    "print(f'El error para K = 1 sin normalizar los datos es: {np.mean(errores) * 100:.2f}%')"
   ]
  },
  {
   "cell_type": "markdown",
   "metadata": {},
   "source": [
    "#### Normalizando los datos:"
   ]
  },
  {
   "cell_type": "code",
   "execution_count": 259,
   "metadata": {},
   "outputs": [],
   "source": [
    "errores = []\n",
    "for j in range(3):\n",
    "    dataset1 = Datos('ConjuntosDatosP2/pima-indians-diabetes.csv')\n",
    "    validacionSimple.creaParticiones(dataset1.datos)\n",
    "    dataset1.datos = clasificador.entrenamiento(dataset1.datos, dataset1.nominalAtributos)\n",
    "\n",
    "    for i in range(NParticiones):\n",
    "    \n",
    "        predicciones = clasificador.clasifica(dataset1.extraeDatos(validacionSimple.particiones[i].indicesTest), dataset1.extraeDatos(validacionSimple.particiones[i].indicesTrain),dataset1.nominalAtributos,K)\n",
    "    \n",
    "        error = clasificador.error(dataset1.extraeDatos(validacionSimple.particiones[i].indicesTest),predicciones)\n",
    "\n",
    "        errores.append(error) "
   ]
  },
  {
   "cell_type": "code",
   "execution_count": 260,
   "metadata": {},
   "outputs": [
    {
     "name": "stdout",
     "output_type": "stream",
     "text": [
      "El error para K = 1 con los datos normalizados es: 28.68%\n"
     ]
    }
   ],
   "source": [
    "err_diabetes_k1_norm = f'{np.mean(errores) * 100:.2f}%'\n",
    "print(f'El error para K = 1 con los datos normalizados es: {np.mean(errores) * 100:.2f}%')"
   ]
  },
  {
   "cell_type": "markdown",
   "metadata": {},
   "source": [
    "Es evidente que no nos podemos fiar de los resultados con un valor de K = 1. En este caso, el algoritmo depende únicamente del orden en el que se hayan estudiado los distintos patrones respecto al resto y no por el numero de vecinos dentro de una zona. Por lo tanto el valor de la predicción para este caso no es valido. \n",
    "\n",
    "Pasemos a estudiar el algoritmo para valores de K validos"
   ]
  },
  {
   "cell_type": "markdown",
   "metadata": {},
   "source": [
    "### K = 3:"
   ]
  },
  {
   "cell_type": "markdown",
   "metadata": {},
   "source": [
    "#### Sin normalizar los datos:"
   ]
  },
  {
   "cell_type": "code",
   "execution_count": 261,
   "metadata": {},
   "outputs": [],
   "source": [
    "dataset1 = Datos('ConjuntosDatosP2/pima-indians-diabetes.csv')\n",
    "K = 3"
   ]
  },
  {
   "cell_type": "code",
   "execution_count": 262,
   "metadata": {},
   "outputs": [],
   "source": [
    "errores = []\n",
    "for j in range(3):\n",
    "    validacionSimple.creaParticiones(dataset1.datos)\n",
    "\n",
    "    for i in range(NParticiones):\n",
    "\n",
    "        predicciones = clasificador.clasifica(dataset1.extraeDatos(validacionSimple.particiones[i].indicesTest), dataset1.extraeDatos(validacionSimple.particiones[i].indicesTrain),dataset1.nominalAtributos,K)\n",
    "\n",
    "        error = clasificador.error(dataset1.extraeDatos(validacionSimple.particiones[i].indicesTest),predicciones)\n",
    "\n",
    "        errores.append(error) "
   ]
  },
  {
   "cell_type": "code",
   "execution_count": 263,
   "metadata": {
    "scrolled": true
   },
   "outputs": [
    {
     "name": "stdout",
     "output_type": "stream",
     "text": [
      "El error para el dataset sin normalizar y un valor de K = 3 es: 28.68%\n"
     ]
    }
   ],
   "source": [
    "err_diabetes_k3 = f'{np.mean(errores) * 100:.2f}%'\n",
    "print(f'El error para el dataset sin normalizar y un valor de K = 3 es: {np.mean(errores) * 100:.2f}%')"
   ]
  },
  {
   "cell_type": "markdown",
   "metadata": {},
   "source": [
    "Sin duda, el algoritmo no muestra un buen porcentaje de acierto para este dataset en concreto, al menos sin normalizar los datos, veamos si los normalizamos.."
   ]
  },
  {
   "cell_type": "markdown",
   "metadata": {},
   "source": [
    "#### Normalizando los datos:"
   ]
  },
  {
   "cell_type": "code",
   "execution_count": 264,
   "metadata": {},
   "outputs": [],
   "source": [
    "errores = []\n",
    "\n",
    "for j in range(3):\n",
    "    dataset1 = Datos('ConjuntosDatosP2/pima-indians-diabetes.csv')\n",
    "    validacionSimple.creaParticiones(dataset1.datos)\n",
    "    dataset1.datos = clasificador.entrenamiento(dataset1.datos, dataset1.nominalAtributos)\n",
    "    for i in range(NParticiones):\n",
    "    \n",
    "        predicciones = clasificador.clasifica(dataset1.extraeDatos(validacionSimple.particiones[i].indicesTest), dataset1.extraeDatos(validacionSimple.particiones[i].indicesTrain),dataset1.nominalAtributos,K)\n",
    "    \n",
    "        error = clasificador.error(dataset1.extraeDatos(validacionSimple.particiones[i].indicesTest),predicciones)\n",
    "\n",
    "        errores.append(error) "
   ]
  },
  {
   "cell_type": "code",
   "execution_count": 265,
   "metadata": {},
   "outputs": [
    {
     "name": "stdout",
     "output_type": "stream",
     "text": [
      "El error para valores normalizados y un valor de K = 3 25.53%\n"
     ]
    }
   ],
   "source": [
    "err_diabetes_k3_norm = f'{np.mean(errores) * 100:.2f}%'\n",
    "print(f'El error para valores normalizados y un valor de K = 3 {np.mean(errores) * 100:.2f}%')"
   ]
  },
  {
   "cell_type": "markdown",
   "metadata": {},
   "source": [
    "Observamos que si normalizamos los datos el dataset gana algo más de 3 puntos de fiabilidad respecto al mismo sin normalizar. Observando el csv apreciamos que los campos tienen gran diferencia entre ellos. Algunos son valores extremadamente pequeños y otros son grandes. Lo que hace que pueden representar diferentes pesos e influenciar negativamente sobre los calculos si no los normalizamos, de aquí esta mejora. "
   ]
  },
  {
   "cell_type": "markdown",
   "metadata": {},
   "source": [
    "### K = 5:"
   ]
  },
  {
   "cell_type": "markdown",
   "metadata": {},
   "source": [
    "#### Sin normalizar los datos:"
   ]
  },
  {
   "cell_type": "code",
   "execution_count": 267,
   "metadata": {},
   "outputs": [],
   "source": [
    "dataset1 = Datos('ConjuntosDatosP2/pima-indians-diabetes.csv')\n",
    "K = 5"
   ]
  },
  {
   "cell_type": "code",
   "execution_count": 268,
   "metadata": {},
   "outputs": [],
   "source": [
    "errores = []\n",
    "for j in range(3):\n",
    "    validacionSimple.creaParticiones(dataset1.datos)\n",
    "\n",
    "    for i in range(NParticiones):\n",
    "    \n",
    "        predicciones = clasificador.clasifica(dataset1.extraeDatos(validacionSimple.particiones[i].indicesTest), dataset1.extraeDatos(validacionSimple.particiones[i].indicesTrain),dataset1.nominalAtributos,K)\n",
    "    \n",
    "        error = clasificador.error(dataset1.extraeDatos(validacionSimple.particiones[i].indicesTest),predicciones)\n",
    "\n",
    "        errores.append(error) "
   ]
  },
  {
   "cell_type": "code",
   "execution_count": 269,
   "metadata": {},
   "outputs": [
    {
     "name": "stdout",
     "output_type": "stream",
     "text": [
      "El error para los datos sin normalizar y valor de K = 5: 27.28%\n"
     ]
    }
   ],
   "source": [
    "err_diabetes_k5 = f'{np.mean(errores) * 100:.2f}%'\n",
    "print(f'El error para los datos sin normalizar y valor de K = 5: {np.mean(errores) * 100:.2f}%')"
   ]
  },
  {
   "cell_type": "markdown",
   "metadata": {},
   "source": [
    "#### Normalizando los datos:"
   ]
  },
  {
   "cell_type": "code",
   "execution_count": 270,
   "metadata": {},
   "outputs": [],
   "source": [
    "errores = []\n",
    "for j in range(3):\n",
    "    dataset1 = Datos('ConjuntosDatosP2/pima-indians-diabetes.csv')\n",
    "    validacionSimple.creaParticiones(dataset1.datos)\n",
    "    dataset1.datos = clasificador.entrenamiento(dataset1.datos, dataset1.nominalAtributos)\n",
    "    for i in range(NParticiones):\n",
    "    \n",
    "        predicciones = clasificador.clasifica(dataset1.extraeDatos(validacionSimple.particiones[i].indicesTest), dataset1.extraeDatos(validacionSimple.particiones[i].indicesTrain),dataset1.nominalAtributos,K)\n",
    "    \n",
    "        error = clasificador.error(dataset1.extraeDatos(validacionSimple.particiones[i].indicesTest),predicciones)\n",
    "\n",
    "        errores.append(error) "
   ]
  },
  {
   "cell_type": "code",
   "execution_count": 271,
   "metadata": {
    "scrolled": true
   },
   "outputs": [
    {
     "name": "stdout",
     "output_type": "stream",
     "text": [
      "El error para K = 5 y los datos normalizados: 24.91%\n"
     ]
    }
   ],
   "source": [
    "err_diabetes_k5_norm = f'{np.mean(errores) * 100:.2f}%'\n",
    "print(f'El error para K = 5 y los datos normalizados: {np.mean(errores) * 100:.2f}%')"
   ]
  },
  {
   "cell_type": "markdown",
   "metadata": {},
   "source": [
    "### K = 11:"
   ]
  },
  {
   "cell_type": "markdown",
   "metadata": {},
   "source": [
    "#### Sin normalizar los datos:"
   ]
  },
  {
   "cell_type": "code",
   "execution_count": 279,
   "metadata": {},
   "outputs": [],
   "source": [
    "dataset1 = Datos('ConjuntosDatosP2/pima-indians-diabetes.csv')\n",
    "K = 11"
   ]
  },
  {
   "cell_type": "code",
   "execution_count": 280,
   "metadata": {},
   "outputs": [],
   "source": [
    "errores = []\n",
    "for j in range(3):\n",
    "    validacionSimple.creaParticiones(dataset1.datos)\n",
    "\n",
    "    for i in range(NParticiones):\n",
    "    \n",
    "        predicciones = clasificador.clasifica(dataset1.extraeDatos(validacionSimple.particiones[i].indicesTest), dataset1.extraeDatos(validacionSimple.particiones[i].indicesTrain),dataset1.nominalAtributos,K)\n",
    "\n",
    "        error = clasificador.error(dataset1.extraeDatos(validacionSimple.particiones[i].indicesTest),predicciones)\n",
    "\n",
    "        errores.append(error) "
   ]
  },
  {
   "cell_type": "code",
   "execution_count": 281,
   "metadata": {},
   "outputs": [
    {
     "name": "stdout",
     "output_type": "stream",
     "text": [
      "El error para los datos sin normalizar y valor de K = 11: 27.37%\n"
     ]
    }
   ],
   "source": [
    "err_diabetes_k11 = f'{np.mean(errores) * 100:.2f}%'\n",
    "print(f'El error para los datos sin normalizar y valor de K = 11: {np.mean(errores) * 100:.2f}%')"
   ]
  },
  {
   "cell_type": "markdown",
   "metadata": {},
   "source": [
    "#### Normalizando los datos:"
   ]
  },
  {
   "cell_type": "code",
   "execution_count": 282,
   "metadata": {},
   "outputs": [],
   "source": [
    "errores = []\n",
    "for j in range(3):\n",
    "    dataset1 = Datos('ConjuntosDatosP2/pima-indians-diabetes.csv')\n",
    "    validacionSimple.creaParticiones(dataset1.datos)\n",
    "    dataset1.datos = clasificador.entrenamiento(dataset1.datos, dataset1.nominalAtributos)\n",
    "    for i in range(NParticiones):\n",
    "    \n",
    "        predicciones = clasificador.clasifica(dataset1.extraeDatos(validacionSimple.particiones[i].indicesTest), dataset1.extraeDatos(validacionSimple.particiones[i].indicesTrain),dataset1.nominalAtributos,K)\n",
    "\n",
    "        error = clasificador.error(dataset1.extraeDatos(validacionSimple.particiones[i].indicesTest),predicciones)\n",
    "\n",
    "        errores.append(error) "
   ]
  },
  {
   "cell_type": "code",
   "execution_count": 283,
   "metadata": {
    "scrolled": true
   },
   "outputs": [
    {
     "name": "stdout",
     "output_type": "stream",
     "text": [
      "El error para K = 11 y los datos normalizados: 25.35%\n"
     ]
    }
   ],
   "source": [
    "err_diabetes_k11_norm = f'{np.mean(errores) * 100:.2f}%'\n",
    "print(f'El error para K = 11 y los datos normalizados: {np.mean(errores) * 100:.2f}%')"
   ]
  },
  {
   "cell_type": "markdown",
   "metadata": {},
   "source": [
    "Vemos que, aumentar el valor de K, mejora los resultados unicamente en el dataset normalizado. Esto se debe a que los valores del dataset original resulta en cálculos algo imprecisos y resultados poco fiables. Recalcar que se debe a las caracterisicas de este dataset en particular. Luego veremos que con wdbc no sucede lo mismo"
   ]
  },
  {
   "cell_type": "markdown",
   "metadata": {},
   "source": [
    "### K = 21:"
   ]
  },
  {
   "cell_type": "markdown",
   "metadata": {},
   "source": [
    "#### Sin normalizar los datos:"
   ]
  },
  {
   "cell_type": "code",
   "execution_count": 284,
   "metadata": {},
   "outputs": [],
   "source": [
    "dataset1 = Datos('ConjuntosDatosP2/pima-indians-diabetes.csv')\n",
    "K = 21"
   ]
  },
  {
   "cell_type": "code",
   "execution_count": 285,
   "metadata": {},
   "outputs": [],
   "source": [
    "errores = []\n",
    "for j in range(3):\n",
    "    validacionSimple.creaParticiones(dataset1.datos)\n",
    "    \n",
    "    for i in range(NParticiones):\n",
    "    \n",
    "        predicciones = clasificador.clasifica(dataset1.extraeDatos(validacionSimple.particiones[i].indicesTest), dataset1.extraeDatos(validacionSimple.particiones[i].indicesTrain),dataset1.nominalAtributos,K)\n",
    "    \n",
    "        error = clasificador.error(dataset1.extraeDatos(validacionSimple.particiones[i].indicesTest),predicciones)\n",
    "\n",
    "        errores.append(error) "
   ]
  },
  {
   "cell_type": "code",
   "execution_count": 286,
   "metadata": {},
   "outputs": [
    {
     "name": "stdout",
     "output_type": "stream",
     "text": [
      "El error para los datos sin normalizar y valor de K = 21: 23.16%\n"
     ]
    }
   ],
   "source": [
    "err_diabetes_k21 = f'{np.mean(errores) * 100:.2f}%'\n",
    "print(f'El error para los datos sin normalizar y valor de K = 21: {np.mean(errores) * 100:.2f}%')"
   ]
  },
  {
   "cell_type": "markdown",
   "metadata": {},
   "source": [
    "#### Normalizando los datos:"
   ]
  },
  {
   "cell_type": "code",
   "execution_count": 287,
   "metadata": {},
   "outputs": [],
   "source": [
    "dataset1.datos = clasificador.entrenamiento(dataset1.datos, dataset1.nominalAtributos)"
   ]
  },
  {
   "cell_type": "code",
   "execution_count": 288,
   "metadata": {},
   "outputs": [],
   "source": [
    "errores = []\n",
    "for j in range(3):\n",
    "    dataset1 = Datos('ConjuntosDatosP2/pima-indians-diabetes.csv')\n",
    "    validacionSimple.creaParticiones(dataset1.datos)\n",
    "    dataset1.datos = clasificador.entrenamiento(dataset1.datos, dataset1.nominalAtributos)\n",
    "    for i in range(NParticiones):\n",
    "    \n",
    "        predicciones = clasificador.clasifica(dataset1.extraeDatos(validacionSimple.particiones[i].indicesTest), dataset1.extraeDatos(validacionSimple.particiones[i].indicesTrain),dataset1.nominalAtributos,K)\n",
    "    \n",
    "        error = clasificador.error(dataset1.extraeDatos(validacionSimple.particiones[i].indicesTest),predicciones)\n",
    "\n",
    "        errores.append(error) "
   ]
  },
  {
   "cell_type": "code",
   "execution_count": 289,
   "metadata": {
    "scrolled": true
   },
   "outputs": [
    {
     "name": "stdout",
     "output_type": "stream",
     "text": [
      "El error para K = 21 y los datos normalizados: 23.68%\n"
     ]
    }
   ],
   "source": [
    "err_diabetes_k21_norm = f'{np.mean(errores) * 100:.2f}%'\n",
    "print(f'El error para K = 21 y los datos normalizados: {np.mean(errores) * 100:.2f}%')"
   ]
  },
  {
   "cell_type": "code",
   "execution_count": 290,
   "metadata": {},
   "outputs": [
    {
     "name": "stdout",
     "output_type": "stream",
     "text": [
      "K = 1:\n",
      "Error para diabetes k=1: 31.05%\n",
      "Error para diabetes k=1 normalizado: 28.68%\n",
      "\n",
      "K = 3:\n",
      "Error para diabetes k=3: 28.68%\n",
      "Error para diabetes k=3 normalizado: 25.53%\n",
      "\n",
      "K = 5:\n",
      "Error para diabetes k=5: 27.28%\n",
      "Error para diabetes k=5 normalizado: 24.91%\n",
      "\n",
      "K = 11:\n",
      "Error para diabetes k=11: 27.37%\n",
      "Error para diabetes k=11 normalizado: 25.35%\n",
      "\n",
      "K = 21:\n",
      "Error para diabetes k=21: 23.16%\n",
      "Error para diabetes k=21 normalizado: 23.68%\n"
     ]
    }
   ],
   "source": [
    "print('K = 1:')\n",
    "print('Error para diabetes k=1: ' + err_diabetes_k1)\n",
    "print('Error para diabetes k=1 normalizado: ' + err_diabetes_k1_norm)\n",
    "print('\\nK = 3:')\n",
    "print('Error para diabetes k=3: ' + err_diabetes_k3)\n",
    "print('Error para diabetes k=3 normalizado: ' + err_diabetes_k3_norm)\n",
    "print('\\nK = 5:')\n",
    "print('Error para diabetes k=5: ' + err_diabetes_k5)\n",
    "print('Error para diabetes k=5 normalizado: ' + err_diabetes_k5_norm)\n",
    "print('\\nK = 11:')\n",
    "print('Error para diabetes k=11: ' + err_diabetes_k11)\n",
    "print('Error para diabetes k=11 normalizado: ' + err_diabetes_k11_norm)\n",
    "print('\\nK = 21:')\n",
    "print('Error para diabetes k=21: ' + err_diabetes_k21)\n",
    "print('Error para diabetes k=21 normalizado: ' + err_diabetes_k21_norm)"
   ]
  },
  {
   "cell_type": "markdown",
   "metadata": {},
   "source": [
    "Apreciamos que los valores del dataset normalizado mejoran algo respecto a este mismo sin normalizar. Además, como ya hemos comentado, los valores de k=1 son despreciables y no nos sirven como solución. Resulta complejo sacar algún tipo de conclusión respecto al k optimo. Si podemos apreciar cierta tendencia a la baja en los resultados sin normalizar, pero un comportamiento poco destacable en los resultados normalizados."
   ]
  },
  {
   "cell_type": "markdown",
   "metadata": {},
   "source": [
    "## Wdbc"
   ]
  },
  {
   "cell_type": "markdown",
   "metadata": {},
   "source": [
    "### K = 1,3,5,11,21:"
   ]
  },
  {
   "cell_type": "markdown",
   "metadata": {},
   "source": [
    "En este caso, vamos a ser algo menos descriptivos con el proceso y si más incisivos con la comparación de los resultados. \n"
   ]
  },
  {
   "cell_type": "code",
   "execution_count": 304,
   "metadata": {},
   "outputs": [],
   "source": [
    "\n",
    "dataset2 = Datos('ConjuntosDatosP2/wdbc.csv')\n",
    "\n",
    "K = 1\n",
    "errores1 = []\n",
    "for j in range(3):\n",
    "    validacionSimple.creaParticiones(dataset2.datos)\n",
    "    for i in range(NParticiones):\n",
    "    \n",
    "        predicciones = clasificador.clasifica(dataset2.extraeDatos(validacionSimple.particiones[i].indicesTest), dataset2.extraeDatos(validacionSimple.particiones[i].indicesTrain),dataset2.nominalAtributos,K)\n",
    "    \n",
    "        error = clasificador.error(dataset2.extraeDatos(validacionSimple.particiones[i].indicesTest),predicciones)\n",
    "\n",
    "        errores1.append(error) \n",
    "\n",
    "dataset2.datos = clasificador.entrenamiento(dataset2.datos, dataset2.nominalAtributos)\n",
    "\n",
    "errores1Norm = []    \n",
    "for j in range(3):\n",
    "    dataset2 = Datos('ConjuntosDatosP2/wdbc.csv')\n",
    "    validacionSimple.creaParticiones(dataset2.datos)\n",
    "    dataset2.datos = clasificador.entrenamiento(dataset2.datos, dataset2.nominalAtributos)\n",
    "    for i in range(NParticiones):\n",
    "    \n",
    "        predicciones = clasificador.clasifica(dataset2.extraeDatos(validacionSimple.particiones[i].indicesTest), dataset2.extraeDatos(validacionSimple.particiones[i].indicesTrain),dataset2.nominalAtributos,K)\n",
    "    \n",
    "        error = clasificador.error(dataset2.extraeDatos(validacionSimple.particiones[i].indicesTest),predicciones)\n",
    "\n",
    "        errores1Norm.append(error) \n",
    "    \n",
    "dataset2 = Datos('ConjuntosDatosP2/wdbc.csv')\n",
    "K = 3\n",
    "\n",
    "errores3 = []\n",
    "for j in range(3):\n",
    "    validacionSimple.creaParticiones(dataset2.datos)\n",
    "    for i in range(NParticiones):\n",
    "    \n",
    "        predicciones = clasificador.clasifica(dataset2.extraeDatos(validacionSimple.particiones[i].indicesTest), dataset2.extraeDatos(validacionSimple.particiones[i].indicesTrain),dataset2.nominalAtributos,K)\n",
    "    \n",
    "        error = clasificador.error(dataset2.extraeDatos(validacionSimple.particiones[i].indicesTest),predicciones)\n",
    "\n",
    "        errores3.append(error) \n",
    "        \n",
    "errores3Norm = []\n",
    "for j in range(3):\n",
    "    dataset2 = Datos('ConjuntosDatosP2/wdbc.csv')\n",
    "    validacionSimple.creaParticiones(dataset2.datos)\n",
    "    dataset2.datos = clasificador.entrenamiento(dataset2.datos, dataset2.nominalAtributos)\n",
    "    for i in range(NParticiones):\n",
    "    \n",
    "        predicciones = clasificador.clasifica(dataset2.extraeDatos(validacionSimple.particiones[i].indicesTest), dataset2.extraeDatos(validacionSimple.particiones[i].indicesTrain),dataset2.nominalAtributos,K)\n",
    "    \n",
    "        error = clasificador.error(dataset2.extraeDatos(validacionSimple.particiones[i].indicesTest),predicciones)\n",
    "\n",
    "        errores3Norm.append(error) \n",
    "    \n",
    "\n",
    "dataset2 = Datos('ConjuntosDatosP2/wdbc.csv')\n",
    "K = 5\n",
    "\n",
    "errores5 = []\n",
    "for j in range(3):\n",
    "    validacionSimple.creaParticiones(dataset2.datos)\n",
    "    for i in range(NParticiones):\n",
    "    \n",
    "        predicciones = clasificador.clasifica(dataset2.extraeDatos(validacionSimple.particiones[i].indicesTest), dataset2.extraeDatos(validacionSimple.particiones[i].indicesTrain),dataset2.nominalAtributos,K)\n",
    "    \n",
    "        error = clasificador.error(dataset2.extraeDatos(validacionSimple.particiones[i].indicesTest),predicciones)\n",
    "\n",
    "        errores5.append(error) \n",
    "\n",
    "        \n",
    "errores5Norm = []\n",
    "for j in range(3):\n",
    "    dataset2 = Datos('ConjuntosDatosP2/wdbc.csv')\n",
    "    validacionSimple.creaParticiones(dataset2.datos)\n",
    "    dataset2.datos = clasificador.entrenamiento(dataset2.datos, dataset2.nominalAtributos)\n",
    "    for i in range(NParticiones):\n",
    "    \n",
    "        predicciones = clasificador.clasifica(dataset2.extraeDatos(validacionSimple.particiones[i].indicesTest), dataset2.extraeDatos(validacionSimple.particiones[i].indicesTrain),dataset2.nominalAtributos,K)\n",
    "    \n",
    "        error = clasificador.error(dataset2.extraeDatos(validacionSimple.particiones[i].indicesTest),predicciones)\n",
    "\n",
    "        errores5Norm.append(error) \n",
    "    \n",
    "\n",
    "dataset2 = Datos('ConjuntosDatosP2/wdbc.csv')\n",
    "K = 11\n",
    "\n",
    "errores11 = []\n",
    "for j in range(3):\n",
    "    validacionSimple.creaParticiones(dataset2.datos)\n",
    "    for i in range(NParticiones):\n",
    "    \n",
    "        predicciones = clasificador.clasifica(dataset2.extraeDatos(validacionSimple.particiones[i].indicesTest), dataset2.extraeDatos(validacionSimple.particiones[i].indicesTrain),dataset2.nominalAtributos,K)\n",
    "    \n",
    "        error = clasificador.error(dataset2.extraeDatos(validacionSimple.particiones[i].indicesTest),predicciones)\n",
    "\n",
    "        errores11.append(error) \n",
    "\n",
    "errores11Norm = []\n",
    "for j in range(3):\n",
    "    dataset2 = Datos('ConjuntosDatosP2/wdbc.csv')\n",
    "    validacionSimple.creaParticiones(dataset2.datos)\n",
    "    dataset2.datos = clasificador.entrenamiento(dataset2.datos, dataset2.nominalAtributos)\n",
    "    for i in range(NParticiones):\n",
    "    \n",
    "        predicciones = clasificador.clasifica(dataset2.extraeDatos(validacionSimple.particiones[i].indicesTest), dataset2.extraeDatos(validacionSimple.particiones[i].indicesTrain),dataset2.nominalAtributos,K)\n",
    "    \n",
    "        error = clasificador.error(dataset2.extraeDatos(validacionSimple.particiones[i].indicesTest),predicciones)\n",
    "\n",
    "        errores11Norm.append(error) \n",
    "\n",
    "    \n",
    "dataset2 = Datos('ConjuntosDatosP2/wdbc.csv')\n",
    "K = 21\n",
    "\n",
    "errores21 = []\n",
    "for j in range(3):\n",
    "    validacionSimple.creaParticiones(dataset2.datos)\n",
    "    for i in range(NParticiones):\n",
    "    \n",
    "        predicciones = clasificador.clasifica(dataset2.extraeDatos(validacionSimple.particiones[i].indicesTest), dataset2.extraeDatos(validacionSimple.particiones[i].indicesTrain),dataset2.nominalAtributos,K)\n",
    "    \n",
    "        error = clasificador.error(dataset2.extraeDatos(validacionSimple.particiones[i].indicesTest),predicciones)\n",
    "\n",
    "        errores21.append(error) \n",
    "\n",
    "errores21Norm = []\n",
    "for j in range(3):\n",
    "    dataset2 = Datos('ConjuntosDatosP2/wdbc.csv')\n",
    "    validacionSimple.creaParticiones(dataset2.datos)\n",
    "    dataset2.datos = clasificador.entrenamiento(dataset2.datos, dataset2.nominalAtributos)\n",
    "    for i in range(NParticiones):\n",
    "    \n",
    "        predicciones = clasificador.clasifica(dataset2.extraeDatos(validacionSimple.particiones[i].indicesTest), dataset2.extraeDatos(validacionSimple.particiones[i].indicesTrain),dataset2.nominalAtributos,K)\n",
    "    \n",
    "        error = clasificador.error(dataset2.extraeDatos(validacionSimple.particiones[i].indicesTest),predicciones)\n",
    "\n",
    "        errores21Norm.append(error) \n",
    "    "
   ]
  },
  {
   "cell_type": "code",
   "execution_count": 305,
   "metadata": {
    "scrolled": false
   },
   "outputs": [
    {
     "name": "stdout",
     "output_type": "stream",
     "text": [
      "7.86%\n"
     ]
    }
   ],
   "source": [
    "err_wdbc_k1 = f'{np.mean(errores1) * 100:.2f}%'\n",
    "print(f'{np.mean(errores1) * 100:.2f}%')"
   ]
  },
  {
   "cell_type": "code",
   "execution_count": 306,
   "metadata": {},
   "outputs": [
    {
     "name": "stdout",
     "output_type": "stream",
     "text": [
      "5.60%\n"
     ]
    }
   ],
   "source": [
    "err_wdbc_k1_norm = f'{np.mean(errores1Norm) * 100:.2f}%'\n",
    "print(f'{np.mean(errores1Norm) * 100:.2f}%')"
   ]
  },
  {
   "cell_type": "code",
   "execution_count": 307,
   "metadata": {},
   "outputs": [
    {
     "name": "stdout",
     "output_type": "stream",
     "text": [
      "5.48%\n"
     ]
    }
   ],
   "source": [
    "err_wdbc_k3 = f'{np.mean(errores3) * 100:.2f}%'\n",
    "print(f'{np.mean(errores3) * 100:.2f}%')"
   ]
  },
  {
   "cell_type": "code",
   "execution_count": 308,
   "metadata": {
    "scrolled": true
   },
   "outputs": [
    {
     "name": "stdout",
     "output_type": "stream",
     "text": [
      "3.57%\n"
     ]
    }
   ],
   "source": [
    "err_wdbc_k3_norm = f'{np.mean(errores3Norm) * 100:.2f}%'\n",
    "print(f'{np.mean(errores3Norm) * 100:.2f}%')"
   ]
  },
  {
   "cell_type": "code",
   "execution_count": 309,
   "metadata": {},
   "outputs": [
    {
     "name": "stdout",
     "output_type": "stream",
     "text": [
      "6.07%\n"
     ]
    }
   ],
   "source": [
    "err_wdbc_k5 = f'{np.mean(errores5) * 100:.2f}%'\n",
    "print(f'{np.mean(errores5) * 100:.2f}%')"
   ]
  },
  {
   "cell_type": "code",
   "execution_count": 310,
   "metadata": {
    "scrolled": true
   },
   "outputs": [
    {
     "name": "stdout",
     "output_type": "stream",
     "text": [
      "2.74%\n"
     ]
    }
   ],
   "source": [
    "err_wdbc_k5_norm = f'{np.mean(errores5Norm) * 100:.2f}%'\n",
    "print(f'{np.mean(errores5Norm) * 100:.2f}%')"
   ]
  },
  {
   "cell_type": "code",
   "execution_count": 311,
   "metadata": {},
   "outputs": [
    {
     "name": "stdout",
     "output_type": "stream",
     "text": [
      "7.02%\n"
     ]
    }
   ],
   "source": [
    "err_wdbc_k11 = f'{np.mean(errores11) * 100:.2f}%'\n",
    "print(f'{np.mean(errores11) * 100:.2f}%')"
   ]
  },
  {
   "cell_type": "code",
   "execution_count": 312,
   "metadata": {
    "scrolled": true
   },
   "outputs": [
    {
     "name": "stdout",
     "output_type": "stream",
     "text": [
      "3.33%\n"
     ]
    }
   ],
   "source": [
    "err_wdbc_k11_norm = f'{np.mean(errores11Norm) * 100:.2f}%'\n",
    "print(f'{np.mean(errores11Norm) * 100:.2f}%')"
   ]
  },
  {
   "cell_type": "code",
   "execution_count": 313,
   "metadata": {},
   "outputs": [
    {
     "name": "stdout",
     "output_type": "stream",
     "text": [
      "7.02%\n"
     ]
    }
   ],
   "source": [
    "err_wdbc_k21 = f'{np.mean(errores21) * 100:.2f}%'\n",
    "print(f'{np.mean(errores21) * 100:.2f}%')"
   ]
  },
  {
   "cell_type": "code",
   "execution_count": 314,
   "metadata": {},
   "outputs": [
    {
     "name": "stdout",
     "output_type": "stream",
     "text": [
      "5.12%\n"
     ]
    }
   ],
   "source": [
    "err_wdbc_k21_norm = f'{np.mean(errores21Norm) * 100:.2f}%'\n",
    "print(f'{np.mean(errores21Norm) * 100:.2f}%')"
   ]
  },
  {
   "cell_type": "code",
   "execution_count": 315,
   "metadata": {
    "scrolled": true
   },
   "outputs": [
    {
     "name": "stdout",
     "output_type": "stream",
     "text": [
      "K = 1:\n",
      "Error para wdbc k=1: 7.86%\n",
      "Error para wdbc k=1 normalizado: 5.60%\n",
      "\n",
      "K = 3:\n",
      "Error para wdbc k=3: 5.48%\n",
      "Error para wdbc k=3 normalizado: 3.57%\n",
      "\n",
      "K = 5:\n",
      "Error para wdbc k=5: 6.07%\n",
      "Error para wdbc k=5 normalizado: 2.74%\n",
      "\n",
      "K = 11:\n",
      "Error para wdbc k=11: 7.02%\n",
      "Error para wdbc k=11 normalizado: 3.33%\n",
      "\n",
      "K = 21:\n",
      "Error para wdbc k=21: 7.02%\n",
      "Error para wdbc k=21 normalizado: 5.12%\n"
     ]
    }
   ],
   "source": [
    "print('K = 1:')\n",
    "print('Error para wdbc k=1: ' + err_wdbc_k1)\n",
    "print('Error para wdbc k=1 normalizado: ' + err_wdbc_k1_norm)\n",
    "print('\\nK = 3:')\n",
    "print('Error para wdbc k=3: ' + err_wdbc_k3)\n",
    "print('Error para wdbc k=3 normalizado: ' + err_wdbc_k3_norm)\n",
    "print('\\nK = 5:')\n",
    "print('Error para wdbc k=5: ' + err_wdbc_k5)\n",
    "print('Error para wdbc k=5 normalizado: ' + err_wdbc_k5_norm)\n",
    "print('\\nK = 11:')\n",
    "print('Error para wdbc k=11: ' + err_wdbc_k11)\n",
    "print('Error para wdbc k=11 normalizado: ' + err_wdbc_k11_norm)\n",
    "print('\\nK = 21:')\n",
    "print('Error para wdbc k=21: ' + err_wdbc_k21)\n",
    "print('Error para wdbc k=21 normalizado: ' + err_wdbc_k21_norm)"
   ]
  },
  {
   "cell_type": "markdown",
   "metadata": {},
   "source": [
    "Este dataset si que es una buena fuente de comparación de los resultados. Apreciamos que el que peor resultado da, como ya hemos comentado antes para k = 1. El motivo ya lo hemos comentado con anterioridad, aunque si que cabe destacar, que a pesar de ser impreciso sigue siendo mucho mejor que el anterior dataset, esto es mera casualidad. "
   ]
  },
  {
   "cell_type": "markdown",
   "metadata": {},
   "source": [
    "Respecto al resto de resultados, observamos que el dataset normalizado ofrece mejores resultados pero tampoco hay tanta diferencia como antes. Lo que si es interesante es observar para qué valor de K los resultados comienzan a empeorar. Este valor concretamente es K = 5. A partir de este valor, el error comienza a subir. Uno de los motivos es que, aunque puede parecer que cuanto mayor sea la zona sobre la que valoramos la clase mayoritaria mejor serán los resultados, esto también puede llevar a un sobreentrenamiento del algoritmo y por tanto concluir en resultados incorrectos. Por eso es necesario encontrar ese valor de K que maximice los resultados del algoritmo pero sin llegar a un sobreentrenamiento de este"
   ]
  },
  {
   "cell_type": "markdown",
   "metadata": {},
   "source": [
    "### Observaciones y discusión de resultados:"
   ]
  },
  {
   "cell_type": "markdown",
   "metadata": {},
   "source": [
    "* Podemos sacar una conclusión evidente que, aunque sobre algunos datasets afecta más que sobre otros, la normalización mejora la actuación del algoritmo.\n",
    "\n",
    "* Ya se ha comentado anteriormente, pero recalcamos el detalle de que los resultados para K = 1 no son precisos, por lo que para realizar el estudio del algoritmo deberemos utilizar valores de K comprendidos a partir de 3, buscando cuál es el que nos ofrece una buena respuesta.\n",
    "\n",
    "\n",
    "* Se hará una comparación del rendimiento del algoritmo en el apartado 3 al compararlo con el algoritmo de la libreria de Scikit-learn"
   ]
  },
  {
   "cell_type": "markdown",
   "metadata": {},
   "source": [
    "# Apartado 2: Algoritmo K-Means"
   ]
  },
  {
   "cell_type": "markdown",
   "metadata": {},
   "source": [
    "El constructor de la clase recibe el numero de clusters que vamos a utilizar para nuestro algoritmo:"
   ]
  },
  {
   "cell_type": "code",
   "execution_count": 316,
   "metadata": {},
   "outputs": [
    {
     "name": "stdout",
     "output_type": "stream",
     "text": [
      "66.67%\n"
     ]
    }
   ],
   "source": [
    "dataset = Datos('ConjuntosDatosP2/iris.csv')\n",
    "km = KMeans(1)  \n",
    "km.fit(dataset.datos)\n",
    "print(f'{km.error(dataset.datos) * 100:.2f}%')"
   ]
  },
  {
   "cell_type": "code",
   "execution_count": 317,
   "metadata": {},
   "outputs": [
    {
     "name": "stdout",
     "output_type": "stream",
     "text": [
      "33.33%\n"
     ]
    }
   ],
   "source": [
    "dataset = Datos('ConjuntosDatosP2/iris.csv')\n",
    "km = KMeans(2)  \n",
    "km.fit(dataset.datos)\n",
    "print(f'{km.error(dataset.datos) * 100:.2f}%')"
   ]
  },
  {
   "cell_type": "markdown",
   "metadata": {},
   "source": [
    "En los dos casos anteriores tenemos resultados previsibles y esperados. ¿Por qué? nuestro dataset se compone de 3 posibles clases solución. Si nosotros elegimos un numero de clusters menor al numero total de clases que puede haber, los resultados van a ser malos. Nunca vamos a poder predecir más clases que el numero de clusters y por lo tanto para nuestro dataset en particular, si elegimos 1 cluster, se nos quedan 2 clases sin predecir, y si elegimos 2 clusters se nos queda 1 sin predecir. Como cada clase representa 1/3 del dataset es fácil concluir que si se quedan 2 clases sin referenciar es el 66% y si se queda 1 sin referenciar es el 33%."
   ]
  },
  {
   "cell_type": "code",
   "execution_count": 321,
   "metadata": {},
   "outputs": [
    {
     "name": "stdout",
     "output_type": "stream",
     "text": [
      "0.67%\n"
     ]
    }
   ],
   "source": [
    "error = []\n",
    "dataset = Datos('ConjuntosDatosP2/iris.csv')\n",
    "km = KMeans(3)  \n",
    "km.fit(dataset.datos)\n",
    "print(f'{km.error(dataset.datos) * 100:.2f}%')"
   ]
  },
  {
   "cell_type": "markdown",
   "metadata": {},
   "source": [
    "Aqui ya vemos que la diferencia es notable. Ahora tenemos 3 clusters, con un centroide cada uno (que al fin y al cabo es el que determina la predicción), con 3 posibles clases para predecir. Lo que nos ayuda a responder a la primera cuestión. \n",
    "¿Se puede asignar de forma unívoca cada cluster a un tipo de flor atendiendo a la clase mayoritaria de los patrones agrupados?"
   ]
  },
  {
   "cell_type": "code",
   "execution_count": 322,
   "metadata": {
    "scrolled": true
   },
   "outputs": [
    {
     "name": "stdout",
     "output_type": "stream",
     "text": [
      "[2 2 2 2 2 2 2 2 2 2 2 2 2 2 2 2 2 2 2 2 2 2 2 2 2 2 2 2 2 2 2 2 2 2 2 2 2\n",
      " 2 2 2 2 2 2 2 2 2 2 2 2 2 1 1 1 1 1 1 1 1 1 1 1 1 1 1 1 1 1 1 1 1 1 1 1 1\n",
      " 1 1 1 1 1 1 1 1 1 1 1 1 1 1 1 1 1 1 1 1 1 1 1 1 1 1 0 0 0 0 0 0 1 0 0 0 0\n",
      " 0 0 0 0 0 0 0 0 0 0 0 0 0 0 0 0 0 0 0 0 0 0 0 0 0 0 0 0 0 0 0 0 0 0 0 0 0\n",
      " 0 0]\n",
      "[[6.62244898 2.98367347 5.57346939 2.03265306 3.        ]\n",
      " [5.91568627 2.76470588 4.26470588 1.33333333 2.        ]\n",
      " [5.006      3.418      1.464      0.244      1.        ]]\n"
     ]
    }
   ],
   "source": [
    "print(km.clusterAlQuePertenece)\n",
    "print(km.centroids)"
   ]
  },
  {
   "cell_type": "markdown",
   "metadata": {},
   "source": [
    "Claramente vemos que sí. Arriba observamos, tras toda la ejecución, el cluster al que pertenece cada fila de nuestro dataset, y a continuación, el centroide de los cluster solución. \n",
    "\n",
    "Observamos claramente que cada cluster termina representando un tipo de flor. \n",
    "\n",
    "\n"
   ]
  },
  {
   "cell_type": "code",
   "execution_count": 323,
   "metadata": {},
   "outputs": [
    {
     "name": "stdout",
     "output_type": "stream",
     "text": [
      "Error medio para clusters de 3:7.20%\n",
      "Error medio para clusters de 5:0.65%\n"
     ]
    }
   ],
   "source": [
    "errores = []\n",
    "for i in range(100):\n",
    "    dataset = Datos('ConjuntosDatosP2/iris.csv')\n",
    "    km1 = KMeans(3)  \n",
    "    km1.fit(dataset.datos)\n",
    "    errores.append(km1.error(dataset.datos) * 100)\n",
    "print(f'Error medio para clusters de 3:{np.mean(errores):.2f}%')\n",
    "    \n",
    "errores = []\n",
    "for i in range(100):\n",
    "    dataset = Datos('ConjuntosDatosP2/iris.csv')\n",
    "    km2 = KMeans(5)  \n",
    "    km2.fit(dataset.datos)\n",
    "    errores.append(km2.error(dataset.datos) * 100)\n",
    "print(f'Error medio para clusters de 5:{np.mean(errores):.2f}%')\n",
    "    "
   ]
  },
  {
   "cell_type": "markdown",
   "metadata": {},
   "source": [
    "Si atendemos a la media de los resultados vemos un curioso detalle. El algoritmo mejora su actuación si le ofrecemos más clusters sobre el que valorar cual es la mejor opción. Esto se debe a que, si le ofrecemos otra alternativa sobre el que calcular la distancia puede llegar a una mejor conclusión. Por así decirlo, tiene 2 alternativas para valorar a cual tiene una menor distancia pero con la misma clase predicha. Esto no funciona si seguimos aumentando clusters, ya que finalmente lograríamos un sobreentrenamiento y al final no llegaría a una buena predicción. "
   ]
  },
  {
   "cell_type": "code",
   "execution_count": 325,
   "metadata": {},
   "outputs": [
    {
     "name": "stdout",
     "output_type": "stream",
     "text": [
      "Error medio para clusters de 3:11.69%\n",
      "Error medio para clusters de 5:4.93%\n"
     ]
    }
   ],
   "source": [
    "errores = []\n",
    "for i in range(100):\n",
    "    dataset = Datos('ConjuntosDatosP2/iris.csv')\n",
    "    km1 = KMeans(3)  \n",
    "    dataset.datos = ClasificadorKNN().normalize(dataset.datos)\n",
    "    km1.fit(dataset.datos)\n",
    "    \n",
    "    errores.append(km1.error(dataset.datos) * 100)\n",
    "print(f'Error medio para clusters de 3:{np.mean(errores):.2f}%')\n",
    "    \n",
    "errores = []\n",
    "for i in range(100):\n",
    "    dataset = Datos('ConjuntosDatosP2/iris.csv')\n",
    "    km2 = KMeans(5)  \n",
    "    dataset.datos = ClasificadorKNN().normalize(dataset.datos)\n",
    "    km2.fit(dataset.datos)\n",
    "    errores.append(km2.error(dataset.datos) * 100)\n",
    "print(f'Error medio para clusters de 5:{np.mean(errores):.2f}%')\n",
    "    "
   ]
  },
  {
   "cell_type": "markdown",
   "metadata": {},
   "source": [
    "Observamos que normalizar los datos en este caso no mejora el resultado. Puede deberse a que el conjunto de datos del que partimos tiene una buena relacion entre los atributos, y que no muestra grandes diferencias entre valores del mismo dataset ni atributos"
   ]
  },
  {
   "cell_type": "code",
   "execution_count": 338,
   "metadata": {},
   "outputs": [
    {
     "name": "stdout",
     "output_type": "stream",
     "text": [
      "Error medio para clusters de 7:0.67%\n"
     ]
    }
   ],
   "source": [
    "errores = []\n",
    "\n",
    "dataset = Datos('ConjuntosDatosP2/iris.csv')\n",
    "km2 = KMeans(7)  \n",
    "km2.fit(dataset.datos)\n",
    "errores.append(km2.error(dataset.datos) * 100)\n",
    "print(f'Error medio para clusters de 7:{np.mean(errores):.2f}%')"
   ]
  },
  {
   "cell_type": "markdown",
   "metadata": {},
   "source": [
    "Observamos que con 7 clusters, el resultado es mejor si cabe."
   ]
  },
  {
   "cell_type": "markdown",
   "metadata": {},
   "source": [
    "# Apartado 3: Scikit-learn y comparación"
   ]
  },
  {
   "cell_type": "code",
   "execution_count": 348,
   "metadata": {},
   "outputs": [],
   "source": [
    "dataset1 = pd.read_csv('ConjuntosDatosP2/pima-indians-diabetes.csv')\n",
    "dataset2 = pd.read_csv('ConjuntosDatosP2/wdbc.csv')\n",
    "dataset3 = pd.read_csv('ConjuntosDatosP2/iris.csv')"
   ]
  },
  {
   "cell_type": "markdown",
   "metadata": {},
   "source": [
    "Vamos a utilizar la libreria de scikit-learn para poder ver como se ejecutan los algotirmos anteriormente vistos y con los resultados obtenidos poder compararlos con nuestros propios algoritmos."
   ]
  },
  {
   "cell_type": "markdown",
   "metadata": {},
   "source": [
    "Para esto vamos a utilizar K-NN para los archivos pima-indians-diabetes-csv y wbcd.csv, y K-Means para iris.csv"
   ]
  },
  {
   "cell_type": "markdown",
   "metadata": {},
   "source": [
    "### K-NN para pima-indians-diabetes:"
   ]
  },
  {
   "cell_type": "markdown",
   "metadata": {},
   "source": [
    "Primero cargamos los datos en X y el resultado o clase esperada en la Y:"
   ]
  },
  {
   "cell_type": "code",
   "execution_count": 349,
   "metadata": {},
   "outputs": [],
   "source": [
    "X = dataset1[['Pregs','Plas','Pres','Skin','Test','Mass','Pedi','Age']].values\n",
    "y = dataset1[['Class']].values.ravel()"
   ]
  },
  {
   "cell_type": "markdown",
   "metadata": {},
   "source": [
    "Preparamos el entrenamiento:"
   ]
  },
  {
   "cell_type": "code",
   "execution_count": 350,
   "metadata": {},
   "outputs": [
    {
     "data": {
      "text/plain": [
       "KNeighborsClassifier(metric='euclidean', n_neighbors=9)"
      ]
     },
     "execution_count": 350,
     "metadata": {},
     "output_type": "execute_result"
    }
   ],
   "source": [
    "# Se divide en train y set\n",
    "X_train, X_test, y_train, y_test = train_test_split(X, y, test_size = 0.2)\n",
    "\n",
    "knn = KNeighborsClassifier(n_neighbors=9, metric='euclidean')\n",
    "\n",
    "knn.fit(X_train, y_train)"
   ]
  },
  {
   "cell_type": "markdown",
   "metadata": {},
   "source": [
    "Miramos las predicciones y la precisión de estas:"
   ]
  },
  {
   "cell_type": "code",
   "execution_count": 351,
   "metadata": {},
   "outputs": [
    {
     "name": "stdout",
     "output_type": "stream",
     "text": [
      "[1 1 0 0 1 0 0 1 1 0 0 0 1 0 0 1 0 0 1 0 1 0 0 0 0 0 1 1 0 0 0 1 0 1 0 1 0\n",
      " 0 0 1 1 1 0 1 0 0 1 0 0 0 0 0 1 1 0 0 0 0 0 0 1 0 0 0 0 1 0 1 0 1 1 0 1 0\n",
      " 1 0 1 1 1 0 0 1 0 1 0 0 0 1 0 1 0 0 1 0 0 0 0 1 0 0 0 0 0 0 0 0 0 0 0 0 0\n",
      " 0 1 0 0 0 0 0 0 0 0 1 0 0 1 1 0 0 0 1 0 0 0 0 0 1 1 0 1 0 1 0 0 0 0 0 0 0\n",
      " 0 1 0 1 1 0]\n",
      "Precisión: 0.7272727272727273\n"
     ]
    }
   ],
   "source": [
    "y_pred = knn.predict(X_test)\n",
    "print(y_pred)\n",
    "\n",
    "acc = knn.score(X_test, y_test)\n",
    "\n",
    "print('Precisión:', acc)"
   ]
  },
  {
   "cell_type": "markdown",
   "metadata": {},
   "source": [
    "Comprobamos la matriz de confusión: "
   ]
  },
  {
   "cell_type": "code",
   "execution_count": 352,
   "metadata": {},
   "outputs": [
    {
     "name": "stdout",
     "output_type": "stream",
     "text": [
      "[[82 19]\n",
      " [23 30]]\n"
     ]
    }
   ],
   "source": [
    "print(confusion_matrix(y_test, y_pred))\n",
    "# |Verdaderos Positivos | Falsos negativos    |\n",
    "# |Falsos Positivos     | Verdaderos Negativos|"
   ]
  },
  {
   "cell_type": "markdown",
   "metadata": {},
   "source": [
    "En la matriz, lo ideal es que falsos positivos y negativos sean 0 (aunque un modelo casi nunca será 100% preciso)"
   ]
  },
  {
   "cell_type": "markdown",
   "metadata": {},
   "source": [
    "Hacemos un reporte de clasificación:"
   ]
  },
  {
   "cell_type": "code",
   "execution_count": 353,
   "metadata": {},
   "outputs": [
    {
     "name": "stdout",
     "output_type": "stream",
     "text": [
      "              precision    recall  f1-score   support\n",
      "\n",
      "           0       0.78      0.81      0.80       101\n",
      "           1       0.61      0.57      0.59        53\n",
      "\n",
      "    accuracy                           0.73       154\n",
      "   macro avg       0.70      0.69      0.69       154\n",
      "weighted avg       0.72      0.73      0.72       154\n",
      "\n"
     ]
    }
   ],
   "source": [
    "print(classification_report(y_test, y_pred))"
   ]
  },
  {
   "cell_type": "code",
   "execution_count": 354,
   "metadata": {},
   "outputs": [
    {
     "name": "stdout",
     "output_type": "stream",
     "text": [
      "Error Mínimo:  0.24025974025974026 en n_neighbor:  8\n"
     ]
    },
    {
     "data": {
      "image/png": "[encoded data removed]",
      "text/plain": [
       "<Figure size 720x432 with 1 Axes>"
      ]
     },
     "metadata": {
      "needs_background": "light"
     },
     "output_type": "display_data"
    }
   ],
   "source": [
    "error_rate = []\n",
    "for i in range(1,10):\n",
    "    knn = KNeighborsClassifier(n_neighbors=i)\n",
    "    knn.fit(X_train,y_train)\n",
    "    pred_i = knn.predict(X_test)\n",
    "    error_rate.append(np.mean(pred_i != y_test))\n",
    "    \n",
    "plt.figure(figsize=(10,6))\n",
    "plt.plot(range(1,10), error_rate, color='blue', linestyle='dashed', marker='o', markerfacecolor='red', markersize=10)\n",
    "plt.title('Error rate vs K-NN value')\n",
    "plt.xlabel('n_neighbors')\n",
    "plt.ylabel('error rate')\n",
    "print('Error Mínimo: ', min(error_rate), 'en n_neighbor: ', error_rate.index(min(error_rate))+1)\n",
    "error_knn_pima = min(error_rate)"
   ]
  },
  {
   "cell_type": "markdown",
   "metadata": {},
   "source": [
    "Es sencillo concluir gracias a la gráfica que el vecino que nos ofrece una mayor precisión de los resultados es k = 5, como sabemos, es preferible escoger un numero de vecinos impar, para tratar de reducir al máximo la variedad en los resultados provocados por elecciones aleatorias."
   ]
  },
  {
   "cell_type": "markdown",
   "metadata": {},
   "source": [
    "### K-NN para wdbc:"
   ]
  },
  {
   "cell_type": "markdown",
   "metadata": {},
   "source": [
    "Se repite el mismo proceso de antes:"
   ]
  },
  {
   "cell_type": "code",
   "execution_count": 357,
   "metadata": {
    "scrolled": true
   },
   "outputs": [
    {
     "name": "stdout",
     "output_type": "stream",
     "text": [
      "['M' 'B' 'B' 'B' 'B' 'M' 'B' 'B' 'B' 'B' 'B' 'B' 'M' 'B' 'B' 'M' 'M' 'B'\n",
      " 'M' 'B' 'B' 'B' 'B' 'M' 'M' 'B' 'M' 'B' 'B' 'B' 'M' 'B' 'M' 'B' 'B' 'M'\n",
      " 'M' 'M' 'B' 'B' 'M' 'B' 'M' 'B' 'B' 'B' 'M' 'M' 'B' 'B' 'B' 'B' 'M' 'B'\n",
      " 'M' 'M' 'B' 'M' 'B' 'B' 'M' 'B' 'B' 'B' 'M' 'B' 'M' 'B' 'M' 'B' 'B' 'B'\n",
      " 'B' 'M' 'M' 'B' 'M' 'B' 'M' 'B' 'M' 'M' 'B' 'M' 'B' 'B' 'B' 'M' 'M' 'B'\n",
      " 'B' 'M' 'M' 'B' 'B' 'B' 'M' 'M' 'B' 'M' 'B' 'B' 'M' 'B' 'M' 'B' 'B' 'M'\n",
      " 'B' 'B' 'B' 'B' 'B' 'B']\n",
      "Precisión: 0.9298245614035088\n",
      "[[65  2]\n",
      " [ 6 41]]\n",
      "              precision    recall  f1-score   support\n",
      "\n",
      "           B       0.92      0.97      0.94        67\n",
      "           M       0.95      0.87      0.91        47\n",
      "\n",
      "    accuracy                           0.93       114\n",
      "   macro avg       0.93      0.92      0.93       114\n",
      "weighted avg       0.93      0.93      0.93       114\n",
      "\n",
      "Error Mínimo:  0.07017543859649122 en n_neighbor:  5\n"
     ]
    },
    {
     "data": {
      "image/png": "[encoded data removed]",
      "text/plain": [
       "<Figure size 720x432 with 1 Axes>"
      ]
     },
     "metadata": {
      "needs_background": "light"
     },
     "output_type": "display_data"
    }
   ],
   "source": [
    "X = dataset2[['Atributo1','Atributo2','Atributo3','Atributo4','Atributo5','Atributo6','Atributo7','Atributo8','Atributo9','Atributo10','Atributo11','Atributo12','Atributo13','Atributo14','Atributo15'\n",
    "              ,'Atributo16','Atributo17','Atributo18','Atributo19','Atributo20','Atributo21','Atributo22','Atributo23','Atributo24','Atributo25','Atributo26','Atributo27','Atributo28','Atributo29','Atributo30']].values\n",
    "y = dataset2[['Class']].values.ravel()\n",
    "\n",
    "# Se divide en train y set\n",
    "X_train, X_test, y_train, y_test = train_test_split(X, y, test_size = 0.2)\n",
    "\n",
    "knn = KNeighborsClassifier(n_neighbors=9, metric='euclidean')\n",
    "\n",
    "knn.fit(X_train, y_train)\n",
    "\n",
    "y_pred = knn.predict(X_test)\n",
    "print(y_pred)\n",
    "\n",
    "acc = knn.score(X_test, y_test)\n",
    "\n",
    "print('Precisión:', acc)\n",
    "\n",
    "print(confusion_matrix(y_test, y_pred))\n",
    "#Se refiere a:\n",
    "\n",
    "# | Verdaderos Positivos | Falsos negativos     |\n",
    "# | Falsos Positivos     | Verdaderos Negativos |\n",
    "\n",
    "# Ideal es que falsos positivos y negativos sean 0 (aunque un modelo casi nunca será 100% preciso)\n",
    "\n",
    "print(classification_report(y_test, y_pred))\n",
    "\n",
    "error_rate = []\n",
    "for i in range(1,10):\n",
    "    knn = KNeighborsClassifier(n_neighbors=i)\n",
    "    knn.fit(X_train,y_train)\n",
    "    pred_i = knn.predict(X_test)\n",
    "    error_rate.append(np.mean(pred_i != y_test))\n",
    "    \n",
    "plt.figure(figsize=(10,6))\n",
    "plt.plot(range(1,10), error_rate, color='blue', linestyle='dashed', marker='o', markerfacecolor='red', markersize=10)\n",
    "plt.title('Error rate vs K-NN value')\n",
    "plt.xlabel('n_neighbors')\n",
    "plt.ylabel('error rate')\n",
    "print('Error Mínimo: ', min(error_rate), 'en n_neighbor: ', error_rate.index(min(error_rate))+1)\n",
    "error_knn_wdbc = min(error_rate)"
   ]
  },
  {
   "cell_type": "markdown",
   "metadata": {},
   "source": [
    "En este caso, el valor de k óptimo serían 5,7,9..."
   ]
  },
  {
   "cell_type": "markdown",
   "metadata": {},
   "source": [
    "### K-Means para iris:"
   ]
  },
  {
   "cell_type": "code",
   "execution_count": 358,
   "metadata": {},
   "outputs": [
    {
     "name": "stdout",
     "output_type": "stream",
     "text": [
      "<class 'pandas.core.frame.DataFrame'>\n",
      "RangeIndex: 150 entries, 0 to 149\n",
      "Data columns (total 5 columns):\n",
      " #   Column  Non-Null Count  Dtype  \n",
      "---  ------  --------------  -----  \n",
      " 0   SL      150 non-null    float64\n",
      " 1   SW      150 non-null    float64\n",
      " 2   PL      150 non-null    float64\n",
      " 3   PW      150 non-null    float64\n",
      " 4   Class   150 non-null    object \n",
      "dtypes: float64(4), object(1)\n",
      "memory usage: 6.0+ KB\n"
     ]
    }
   ],
   "source": [
    "dataset3.info()"
   ]
  },
  {
   "cell_type": "code",
   "execution_count": 359,
   "metadata": {},
   "outputs": [
    {
     "data": {
      "text/html": [
       "<div>\n",
       "<style scoped>\n",
       "    .dataframe tbody tr th:only-of-type {\n",
       "        vertical-align: middle;\n",
       "    }\n",
       "\n",
       "    .dataframe tbody tr th {\n",
       "        vertical-align: top;\n",
       "    }\n",
       "\n",
       "    .dataframe thead th {\n",
       "        text-align: right;\n",
       "    }\n",
       "</style>\n",
       "<table border=\"1\" class=\"dataframe\">\n",
       "  <thead>\n",
       "    <tr style=\"text-align: right;\">\n",
       "      <th></th>\n",
       "      <th>SL</th>\n",
       "      <th>SW</th>\n",
       "      <th>PL</th>\n",
       "      <th>PW</th>\n",
       "      <th>Class</th>\n",
       "    </tr>\n",
       "  </thead>\n",
       "  <tbody>\n",
       "    <tr>\n",
       "      <th>0</th>\n",
       "      <td>5.1</td>\n",
       "      <td>3.5</td>\n",
       "      <td>1.4</td>\n",
       "      <td>0.2</td>\n",
       "      <td>Iris-setosa</td>\n",
       "    </tr>\n",
       "    <tr>\n",
       "      <th>1</th>\n",
       "      <td>4.9</td>\n",
       "      <td>3.0</td>\n",
       "      <td>1.4</td>\n",
       "      <td>0.2</td>\n",
       "      <td>Iris-setosa</td>\n",
       "    </tr>\n",
       "    <tr>\n",
       "      <th>2</th>\n",
       "      <td>4.7</td>\n",
       "      <td>3.2</td>\n",
       "      <td>1.3</td>\n",
       "      <td>0.2</td>\n",
       "      <td>Iris-setosa</td>\n",
       "    </tr>\n",
       "    <tr>\n",
       "      <th>3</th>\n",
       "      <td>4.6</td>\n",
       "      <td>3.1</td>\n",
       "      <td>1.5</td>\n",
       "      <td>0.2</td>\n",
       "      <td>Iris-setosa</td>\n",
       "    </tr>\n",
       "    <tr>\n",
       "      <th>4</th>\n",
       "      <td>5.0</td>\n",
       "      <td>3.6</td>\n",
       "      <td>1.4</td>\n",
       "      <td>0.2</td>\n",
       "      <td>Iris-setosa</td>\n",
       "    </tr>\n",
       "  </tbody>\n",
       "</table>\n",
       "</div>"
      ],
      "text/plain": [
       "    SL   SW   PL   PW        Class\n",
       "0  5.1  3.5  1.4  0.2  Iris-setosa\n",
       "1  4.9  3.0  1.4  0.2  Iris-setosa\n",
       "2  4.7  3.2  1.3  0.2  Iris-setosa\n",
       "3  4.6  3.1  1.5  0.2  Iris-setosa\n",
       "4  5.0  3.6  1.4  0.2  Iris-setosa"
      ]
     },
     "execution_count": 359,
     "metadata": {},
     "output_type": "execute_result"
    }
   ],
   "source": [
    "dataset3.head()"
   ]
  },
  {
   "cell_type": "markdown",
   "metadata": {},
   "source": [
    "Miro los valores descriptivos:"
   ]
  },
  {
   "cell_type": "code",
   "execution_count": 360,
   "metadata": {},
   "outputs": [
    {
     "data": {
      "text/html": [
       "<div>\n",
       "<style scoped>\n",
       "    .dataframe tbody tr th:only-of-type {\n",
       "        vertical-align: middle;\n",
       "    }\n",
       "\n",
       "    .dataframe tbody tr th {\n",
       "        vertical-align: top;\n",
       "    }\n",
       "\n",
       "    .dataframe thead th {\n",
       "        text-align: right;\n",
       "    }\n",
       "</style>\n",
       "<table border=\"1\" class=\"dataframe\">\n",
       "  <thead>\n",
       "    <tr style=\"text-align: right;\">\n",
       "      <th></th>\n",
       "      <th>SL</th>\n",
       "      <th>SW</th>\n",
       "      <th>PL</th>\n",
       "      <th>PW</th>\n",
       "    </tr>\n",
       "  </thead>\n",
       "  <tbody>\n",
       "    <tr>\n",
       "      <th>count</th>\n",
       "      <td>150.000000</td>\n",
       "      <td>150.000000</td>\n",
       "      <td>150.000000</td>\n",
       "      <td>150.000000</td>\n",
       "    </tr>\n",
       "    <tr>\n",
       "      <th>mean</th>\n",
       "      <td>5.843333</td>\n",
       "      <td>3.054000</td>\n",
       "      <td>3.758667</td>\n",
       "      <td>1.198667</td>\n",
       "    </tr>\n",
       "    <tr>\n",
       "      <th>std</th>\n",
       "      <td>0.828066</td>\n",
       "      <td>0.433594</td>\n",
       "      <td>1.764420</td>\n",
       "      <td>0.763161</td>\n",
       "    </tr>\n",
       "    <tr>\n",
       "      <th>min</th>\n",
       "      <td>4.300000</td>\n",
       "      <td>2.000000</td>\n",
       "      <td>1.000000</td>\n",
       "      <td>0.100000</td>\n",
       "    </tr>\n",
       "    <tr>\n",
       "      <th>25%</th>\n",
       "      <td>5.100000</td>\n",
       "      <td>2.800000</td>\n",
       "      <td>1.600000</td>\n",
       "      <td>0.300000</td>\n",
       "    </tr>\n",
       "    <tr>\n",
       "      <th>50%</th>\n",
       "      <td>5.800000</td>\n",
       "      <td>3.000000</td>\n",
       "      <td>4.350000</td>\n",
       "      <td>1.300000</td>\n",
       "    </tr>\n",
       "    <tr>\n",
       "      <th>75%</th>\n",
       "      <td>6.400000</td>\n",
       "      <td>3.300000</td>\n",
       "      <td>5.100000</td>\n",
       "      <td>1.800000</td>\n",
       "    </tr>\n",
       "    <tr>\n",
       "      <th>max</th>\n",
       "      <td>7.900000</td>\n",
       "      <td>4.400000</td>\n",
       "      <td>6.900000</td>\n",
       "      <td>2.500000</td>\n",
       "    </tr>\n",
       "  </tbody>\n",
       "</table>\n",
       "</div>"
      ],
      "text/plain": [
       "               SL          SW          PL          PW\n",
       "count  150.000000  150.000000  150.000000  150.000000\n",
       "mean     5.843333    3.054000    3.758667    1.198667\n",
       "std      0.828066    0.433594    1.764420    0.763161\n",
       "min      4.300000    2.000000    1.000000    0.100000\n",
       "25%      5.100000    2.800000    1.600000    0.300000\n",
       "50%      5.800000    3.000000    4.350000    1.300000\n",
       "75%      6.400000    3.300000    5.100000    1.800000\n",
       "max      7.900000    4.400000    6.900000    2.500000"
      ]
     },
     "execution_count": 360,
     "metadata": {},
     "output_type": "execute_result"
    }
   ],
   "source": [
    "dataset3.describe()"
   ]
  },
  {
   "cell_type": "markdown",
   "metadata": {},
   "source": [
    "Normalizamos los valores y los guardamos en una nueva variable:"
   ]
  },
  {
   "cell_type": "code",
   "execution_count": 361,
   "metadata": {},
   "outputs": [
    {
     "name": "stdout",
     "output_type": "stream",
     "text": [
      "           SL        SW        PL        PW\n",
      "0    0.222222  0.625000  0.067797  0.041667\n",
      "1    0.166667  0.416667  0.067797  0.041667\n",
      "2    0.111111  0.500000  0.050847  0.041667\n",
      "3    0.083333  0.458333  0.084746  0.041667\n",
      "4    0.194444  0.666667  0.067797  0.041667\n",
      "..        ...       ...       ...       ...\n",
      "145  0.666667  0.416667  0.711864  0.916667\n",
      "146  0.555556  0.208333  0.677966  0.750000\n",
      "147  0.611111  0.416667  0.711864  0.791667\n",
      "148  0.527778  0.583333  0.745763  0.916667\n",
      "149  0.444444  0.416667  0.694915  0.708333\n",
      "\n",
      "[150 rows x 4 columns]\n"
     ]
    }
   ],
   "source": [
    "dataset3_variable = dataset3.drop(['Class'], axis=1)\n",
    "dataset3_variable = dataset3_variable.astype('float64', copy=True)\n",
    "dataset3_norm = (dataset3_variable-dataset3_variable.min())/(dataset3_variable.max()-dataset3_variable.min())\n",
    "print(dataset3_norm)"
   ]
  },
  {
   "cell_type": "markdown",
   "metadata": {},
   "source": [
    "Valores descriptivos normalizados:"
   ]
  },
  {
   "cell_type": "code",
   "execution_count": 362,
   "metadata": {},
   "outputs": [
    {
     "data": {
      "text/html": [
       "<div>\n",
       "<style scoped>\n",
       "    .dataframe tbody tr th:only-of-type {\n",
       "        vertical-align: middle;\n",
       "    }\n",
       "\n",
       "    .dataframe tbody tr th {\n",
       "        vertical-align: top;\n",
       "    }\n",
       "\n",
       "    .dataframe thead th {\n",
       "        text-align: right;\n",
       "    }\n",
       "</style>\n",
       "<table border=\"1\" class=\"dataframe\">\n",
       "  <thead>\n",
       "    <tr style=\"text-align: right;\">\n",
       "      <th></th>\n",
       "      <th>SL</th>\n",
       "      <th>SW</th>\n",
       "      <th>PL</th>\n",
       "      <th>PW</th>\n",
       "    </tr>\n",
       "  </thead>\n",
       "  <tbody>\n",
       "    <tr>\n",
       "      <th>count</th>\n",
       "      <td>150.000000</td>\n",
       "      <td>150.000000</td>\n",
       "      <td>150.000000</td>\n",
       "      <td>150.000000</td>\n",
       "    </tr>\n",
       "    <tr>\n",
       "      <th>mean</th>\n",
       "      <td>0.428704</td>\n",
       "      <td>0.439167</td>\n",
       "      <td>0.467571</td>\n",
       "      <td>0.457778</td>\n",
       "    </tr>\n",
       "    <tr>\n",
       "      <th>std</th>\n",
       "      <td>0.230018</td>\n",
       "      <td>0.180664</td>\n",
       "      <td>0.299054</td>\n",
       "      <td>0.317984</td>\n",
       "    </tr>\n",
       "    <tr>\n",
       "      <th>min</th>\n",
       "      <td>0.000000</td>\n",
       "      <td>0.000000</td>\n",
       "      <td>0.000000</td>\n",
       "      <td>0.000000</td>\n",
       "    </tr>\n",
       "    <tr>\n",
       "      <th>25%</th>\n",
       "      <td>0.222222</td>\n",
       "      <td>0.333333</td>\n",
       "      <td>0.101695</td>\n",
       "      <td>0.083333</td>\n",
       "    </tr>\n",
       "    <tr>\n",
       "      <th>50%</th>\n",
       "      <td>0.416667</td>\n",
       "      <td>0.416667</td>\n",
       "      <td>0.567797</td>\n",
       "      <td>0.500000</td>\n",
       "    </tr>\n",
       "    <tr>\n",
       "      <th>75%</th>\n",
       "      <td>0.583333</td>\n",
       "      <td>0.541667</td>\n",
       "      <td>0.694915</td>\n",
       "      <td>0.708333</td>\n",
       "    </tr>\n",
       "    <tr>\n",
       "      <th>max</th>\n",
       "      <td>1.000000</td>\n",
       "      <td>1.000000</td>\n",
       "      <td>1.000000</td>\n",
       "      <td>1.000000</td>\n",
       "    </tr>\n",
       "  </tbody>\n",
       "</table>\n",
       "</div>"
      ],
      "text/plain": [
       "               SL          SW          PL          PW\n",
       "count  150.000000  150.000000  150.000000  150.000000\n",
       "mean     0.428704    0.439167    0.467571    0.457778\n",
       "std      0.230018    0.180664    0.299054    0.317984\n",
       "min      0.000000    0.000000    0.000000    0.000000\n",
       "25%      0.222222    0.333333    0.101695    0.083333\n",
       "50%      0.416667    0.416667    0.567797    0.500000\n",
       "75%      0.583333    0.541667    0.694915    0.708333\n",
       "max      1.000000    1.000000    1.000000    1.000000"
      ]
     },
     "execution_count": 362,
     "metadata": {},
     "output_type": "execute_result"
    }
   ],
   "source": [
    "dataset3_norm.describe()"
   ]
  },
  {
   "cell_type": "markdown",
   "metadata": {},
   "source": [
    "Búsqueda de la cantidad óptima de clusters:\n",
    "(Calculamos que tan parecidos son los individuos dentro de los clusters)"
   ]
  },
  {
   "cell_type": "code",
   "execution_count": 363,
   "metadata": {},
   "outputs": [
    {
     "name": "stderr",
     "output_type": "stream",
     "text": [
      "C:\\Users\\ruben\\anaconda3\\lib\\site-packages\\sklearn\\cluster\\_kmeans.py:1036: UserWarning: KMeans is known to have a memory leak on Windows with MKL, when there are less chunks than available threads. You can avoid it by setting the environment variable OMP_NUM_THREADS=1.\n",
      "  warnings.warn(\n"
     ]
    }
   ],
   "source": [
    "wcss = [] #Suma de los cuadrados\n",
    "\n",
    "for i in range(1,5):\n",
    "    kmeans = sk.cluster.KMeans(n_clusters= i, max_iter = 300)\n",
    "    kmeans.fit(dataset3_norm)\n",
    "    wcss.append(kmeans.inertia_)"
   ]
  },
  {
   "cell_type": "markdown",
   "metadata": {},
   "source": [
    "Gráfico de Codo Jambú, el cual utilizamos para saber cual es el número de clusters óptimo, este es el punto en el que deja de disminuir drásticamente:"
   ]
  },
  {
   "cell_type": "code",
   "execution_count": 364,
   "metadata": {
    "scrolled": true
   },
   "outputs": [
    {
     "data": {
      "image/png": "[encoded data removed]",
      "text/plain": [
       "<Figure size 432x288 with 1 Axes>"
      ]
     },
     "metadata": {
      "needs_background": "light"
     },
     "output_type": "display_data"
    }
   ],
   "source": [
    "plt.plot(range(1,5),wcss)\n",
    "plt.title(\"Codo de Jambú\")\n",
    "plt.xlabel('Número de Clusters')\n",
    "plt.ylabel('WCSS')\n",
    "plt.show()"
   ]
  },
  {
   "cell_type": "markdown",
   "metadata": {},
   "source": [
    "En nuestro caso, vemos que a partir de 3, la gráfica toma una pendiente menos pronunicada. Por lo tanto concluimos que 3 es el número optimo de clusters."
   ]
  },
  {
   "cell_type": "markdown",
   "metadata": {},
   "source": [
    "#### Aplico K-Means a la base de datos"
   ]
  },
  {
   "cell_type": "code",
   "execution_count": 365,
   "metadata": {},
   "outputs": [
    {
     "data": {
      "text/plain": [
       "KMeans(n_clusters=3)"
      ]
     },
     "execution_count": 365,
     "metadata": {},
     "output_type": "execute_result"
    }
   ],
   "source": [
    "clustering = sk.cluster.KMeans(n_clusters=3, max_iter = 300) #Crea el modelo\n",
    "clustering.fit(dataset3_norm) #Aplica el modelo a la base de datos"
   ]
  },
  {
   "cell_type": "markdown",
   "metadata": {},
   "source": [
    "Agrego la clasificación al archivo original:"
   ]
  },
  {
   "cell_type": "code",
   "execution_count": 367,
   "metadata": {},
   "outputs": [],
   "source": [
    "dataset3['KMeans_Clusters'] = clustering.labels_ #Los resultados del clustering se guardan en labels_ dentro del modelo\n"
   ]
  },
  {
   "cell_type": "markdown",
   "metadata": {},
   "source": [
    "#### Clusters formados:\n",
    "(Aplicaremos el análisis de componentes principales)"
   ]
  },
  {
   "cell_type": "code",
   "execution_count": 369,
   "metadata": {},
   "outputs": [
    {
     "name": "stdout",
     "output_type": "stream",
     "text": [
      "     Componente_1  Componente_2  KMeans_Clusters\n",
      "0       -0.630361      0.111556                1\n",
      "1       -0.623546     -0.100313                1\n",
      "2       -0.669793     -0.047220                1\n",
      "3       -0.654633     -0.098791                1\n",
      "4       -0.648263      0.137558                1\n",
      "..            ...           ...              ...\n",
      "145      0.551755      0.058990                2\n",
      "146      0.406278     -0.172227                0\n",
      "147      0.447293      0.036996                2\n",
      "148      0.489218      0.149121                2\n",
      "149      0.312079     -0.031151                0\n",
      "\n",
      "[150 rows x 3 columns]\n"
     ]
    }
   ],
   "source": [
    "pca = PCA(n_components=2)\n",
    "pca_iris = pca.fit_transform(dataset3_norm)\n",
    "pca_iris_df = pd.DataFrame(data = pca_iris, columns = ['Componente_1','Componente_2'])\n",
    "pca_ir = pd.concat([pca_iris_df, dataset3[['KMeans_Clusters']]], axis=1)\n",
    "\n",
    "print(pca_ir)"
   ]
  },
  {
   "cell_type": "markdown",
   "metadata": {},
   "source": [
    "Creo la gráfica:"
   ]
  },
  {
   "cell_type": "code",
   "execution_count": 370,
   "metadata": {},
   "outputs": [
    {
     "data": {
      "image/png": "[encoded data removed]",
      "text/plain": [
       "<Figure size 432x432 with 1 Axes>"
      ]
     },
     "metadata": {
      "needs_background": "light"
     },
     "output_type": "display_data"
    }
   ],
   "source": [
    "fig = plt.figure(figsize=(6,6))\n",
    "\n",
    "ax = fig.add_subplot(1,1,1)\n",
    "ax.set_xlabel('Componente 1', fontsize = 15)\n",
    "ax.set_ylabel('Componente 2', fontsize = 15)\n",
    "ax.set_title('Componentes Principales', fontsize = 20)\n",
    "\n",
    "color_theme = np.array([\"blue\",\"green\",\"orange\"])\n",
    "ax.scatter(x=pca_ir.Componente_1, y=pca_ir.Componente_2, c=color_theme[pca_ir.KMeans_Clusters], s=30)\n",
    "\n",
    "plt.show()"
   ]
  },
  {
   "cell_type": "markdown",
   "metadata": {},
   "source": [
    "### Comparación de nuestros algoritmos y Scikit-learn:"
   ]
  },
  {
   "cell_type": "markdown",
   "metadata": {},
   "source": [
    "Estos eran los errores para pima-indians-diabetes con nuestro algoritmo:"
   ]
  },
  {
   "cell_type": "code",
   "execution_count": 371,
   "metadata": {},
   "outputs": [
    {
     "name": "stdout",
     "output_type": "stream",
     "text": [
      "Para K = 1:\n",
      "Error para pima-indians-diabetes k=1: 31.05%\n",
      "Error para pima-indians-diabetes k=1 normalizado: 28.68%\n",
      "\n",
      "Para K = 3:\n",
      "Error para pima-indians-diabetes k=3: 28.68%\n",
      "Error para pima-indians-diabetes k=3 normalizado: 25.53%\n",
      "\n",
      "Error para K = 5:\n",
      "Error para pima-indians-diabetes k=5: 27.28%\n",
      "Error para pima-indians-diabetes k=5 normalizado: 24.91%\n"
     ]
    }
   ],
   "source": [
    "print('Para K = 1:')\n",
    "print('Error para pima-indians-diabetes k=1: ' + err_diabetes_k1)\n",
    "print('Error para pima-indians-diabetes k=1 normalizado: ' + err_diabetes_k1_norm)\n",
    "print('\\nPara K = 3:')\n",
    "print('Error para pima-indians-diabetes k=3: ' + err_diabetes_k3)\n",
    "print('Error para pima-indians-diabetes k=3 normalizado: ' + err_diabetes_k3_norm)\n",
    "print('\\nError para K = 5:')\n",
    "print('Error para pima-indians-diabetes k=5: ' + err_diabetes_k5)\n",
    "print('Error para pima-indians-diabetes k=5 normalizado: ' + err_diabetes_k5_norm)"
   ]
  },
  {
   "cell_type": "markdown",
   "metadata": {},
   "source": [
    "Error para pima-indians-diabetes con Scikit-learn:"
   ]
  },
  {
   "cell_type": "code",
   "execution_count": 372,
   "metadata": {},
   "outputs": [
    {
     "name": "stdout",
     "output_type": "stream",
     "text": [
      "Error de KNN de SK en pima-indians-diabetes:  24.03 %\n"
     ]
    }
   ],
   "source": [
    "print('Error de KNN de SK en pima-indians-diabetes: ', f'{error_knn_pima*100:.2f}', '%')"
   ]
  },
  {
   "cell_type": "markdown",
   "metadata": {},
   "source": [
    " - Si comparamos el error mínimo de Scikit-learn con nuestro error se puede observar una diferencia pero no es extremadamente grande, esto se debe a que la implementacion de la librería a diferencia de la práctica anterior, no difiere en gran medida de la implementación que hemos realizado nosotros. "
   ]
  },
  {
   "cell_type": "markdown",
   "metadata": {},
   "source": [
    "Estos eran los errores para wdbc con nuestro algoritmo:"
   ]
  },
  {
   "cell_type": "code",
   "execution_count": 373,
   "metadata": {},
   "outputs": [
    {
     "name": "stdout",
     "output_type": "stream",
     "text": [
      "Para K = 1:\n",
      "Error para wdbc k=1: 7.86%\n",
      "Error para wdbc k=1 normalizado: 5.60%\n",
      "\n",
      "Para K = 3:\n",
      "Error para wdbc k=3: 5.48%\n",
      "Error para wdbc k=3 normalizado: 3.57%\n",
      "\n",
      "Error para K = 5:\n",
      "Error para wdbc k=5: 6.07%\n",
      "Error para wdbc k=5 normalizado: 2.74%\n"
     ]
    }
   ],
   "source": [
    "print('Para K = 1:')\n",
    "print('Error para wdbc k=1: ' + err_wdbc_k1)\n",
    "print('Error para wdbc k=1 normalizado: ' + err_wdbc_k1_norm)\n",
    "print('\\nPara K = 3:')\n",
    "print('Error para wdbc k=3: ' + err_wdbc_k3)\n",
    "print('Error para wdbc k=3 normalizado: ' + err_wdbc_k3_norm)\n",
    "print('\\nError para K = 5:')\n",
    "print('Error para wdbc k=5: ' + err_wdbc_k5)\n",
    "print('Error para wdbc k=5 normalizado: ' + err_wdbc_k5_norm)"
   ]
  },
  {
   "cell_type": "markdown",
   "metadata": {},
   "source": [
    "Error para wdbc con Scikit-learn:"
   ]
  },
  {
   "cell_type": "code",
   "execution_count": 374,
   "metadata": {},
   "outputs": [
    {
     "name": "stdout",
     "output_type": "stream",
     "text": [
      "Error de KNN de SK en wdbc:  7.02 %\n"
     ]
    }
   ],
   "source": [
    "print('Error de KNN de SK en wdbc: ', f'{error_knn_wdbc*100:.2f}', '%')"
   ]
  },
  {
   "cell_type": "markdown",
   "metadata": {},
   "source": [
    "- En el caso de wdbc sucede algo parecido. Los porcentajes rondan valores muy similares. "
   ]
  },
  {
   "cell_type": "markdown",
   "metadata": {},
   "source": [
    "Comparación de Kmeans con iris:"
   ]
  },
  {
   "cell_type": "markdown",
   "metadata": {},
   "source": [
    "Error para iris con Scikit-learn:"
   ]
  },
  {
   "cell_type": "markdown",
   "metadata": {},
   "source": [
    "- El error obtenido con Scikit-learn, como se puede apreciar en el gráfico creado, está normalmente cerca del 1%, porcentaje similar al que logramos con nuestra implementacion."
   ]
  },
  {
   "cell_type": "markdown",
   "metadata": {},
   "source": [
    "### Conclusión:"
   ]
  },
  {
   "cell_type": "markdown",
   "metadata": {},
   "source": [
    "Aunque no hayamos obtenido una eficiencia similar a Scikit-learn si hemos logrado desarrollar unos valores de error muy similares a la librería.\n",
    "A modo de aporte comentar, que hemos desarrollado K-means de dos formas diferentes, aunque tras la aclaración del profesor hemos decidido decantarnos por una de ella, pero es interesante plantear que existen alternativas en el recalculo de los centroides calculando el centro de masas y a partir de este vector buscar el patrón que se encuentre más cerca de este centro de masas. Actualmente nosotros hemos implementado K-Means con el cálculo de centro de masas pero sin buscar el patron más cercano, sino calculando la distancia directamente sobre este vector medio"
   ]
  }
 ],
 "metadata": {
  "kernelspec": {
   "display_name": "Python 3 (ipykernel)",
   "language": "python",
   "name": "python3"
  },
  "language_info": {
   "codemirror_mode": {
    "name": "ipython",
    "version": 3
   },
   "file_extension": ".py",
   "mimetype": "text/x-python",
   "name": "python",
   "nbconvert_exporter": "python",
   "pygments_lexer": "ipython3",
   "version": "3.8.10"
  },
  "vscode": {
   "interpreter": {
    "hash": "916dbcbb3f70747c44a77c7bcd40155683ae19c65e1c03b4aa3499c5328201f1"
   }
  }
 },
 "nbformat": 4,
 "nbformat_minor": 2
}
