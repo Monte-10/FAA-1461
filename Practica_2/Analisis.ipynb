{
 "cells": [
  {
   "cell_type": "markdown",
   "metadata": {},
   "source": [
    "# Fundamentos de Aprendizaje Automático\n",
    "## _Práctica 2: K-NN y K-MEANS_\n",
    "### _Grupo 1461_\n",
    "#### _Rubén Torralba Manso y Alejandro Monterrubio Navarro_"
   ]
  },
  {
   "cell_type": "markdown",
   "metadata": {},
   "source": [
    "Importes:"
   ]
  },
  {
   "cell_type": "code",
   "execution_count": 354,
   "metadata": {},
   "outputs": [],
   "source": [
    "import pandas as pd\n",
    "import numpy as np\n",
    "import matplotlib.pyplot as plt\n",
    "from matplotlib.colors import ListedColormap\n",
    "import matplotlib.patches as mpatches\n",
    "from sklearn.model_selection import train_test_split\n",
    "from sklearn.preprocessing import MinMaxScaler\n",
    "from sklearn.neighbors import KNeighborsClassifier\n",
    "from sklearn.metrics import classification_report\n",
    "from sklearn.metrics import confusion_matrix\n",
    "from sklearn.model_selection import train_test_split\n",
    "from abc import ABCMeta,abstractmethod\n",
    "import numpy as np\n",
    "from Datos import Datos\n",
    "from Clasificador import *\n",
    "import EstrategiaParticionado as EstrategiaParticionado\n",
    "import matplotlib.pyplot as plt\n",
    "from sklearn.cluster import KMeans\n",
    "from sklearn.decomposition import PCA\n",
    "from EstrategiaParticionado import ValidacionSimple as validacionSimple"
   ]
  },
  {
   "cell_type": "markdown",
   "metadata": {},
   "source": [
    "Carga de datasets:"
   ]
  },
  {
   "cell_type": "code",
   "execution_count": 355,
   "metadata": {},
   "outputs": [],
   "source": [
    "dataset1 = Datos('ConjuntosDatosP2/pima-indians-diabetes.csv')\n",
    "dataset2 = Datos('ConjuntosDatosP2/wdbc.csv')\n",
    "dataset3 = Datos('ConjuntosDatosP2/iris.csv')"
   ]
  },
  {
   "cell_type": "markdown",
   "metadata": {},
   "source": [
    "# Apartado 1: Algoritmo K-NN"
   ]
  },
  {
   "cell_type": "markdown",
   "metadata": {},
   "source": [
    "Hacemos que el clasificador sea K-NN y cargo su dataset:"
   ]
  },
  {
   "cell_type": "code",
   "execution_count": 356,
   "metadata": {},
   "outputs": [],
   "source": [
    "errores = []\n",
    "validacionSimple = EstrategiaParticionado.ValidacionSimple(10,5) #\n",
    "clasificador = ClasificadorKNN()"
   ]
  },
  {
   "cell_type": "markdown",
   "metadata": {},
   "source": [
    "Vamos a realizar pruebas para K = 1, K = 3 y K = 5, siempre impares para que no pueda haber empates"
   ]
  },
  {
   "cell_type": "markdown",
   "metadata": {},
   "source": [
    "## Para pima-indians-diabetes:"
   ]
  },
  {
   "cell_type": "markdown",
   "metadata": {},
   "source": [
    "Creamos las particiones necesarias mediante la estrategia de particionado de validación simple:"
   ]
  },
  {
   "cell_type": "code",
   "execution_count": 357,
   "metadata": {},
   "outputs": [],
   "source": [
    "validacionSimple.creaParticiones(dataset1.datos)"
   ]
  },
  {
   "cell_type": "markdown",
   "metadata": {},
   "source": [
    "### Para K = 1:"
   ]
  },
  {
   "cell_type": "markdown",
   "metadata": {},
   "source": [
    "#### Sin normalizar los datos:"
   ]
  },
  {
   "cell_type": "markdown",
   "metadata": {},
   "source": [
    "Le doy valor a la K:"
   ]
  },
  {
   "cell_type": "code",
   "execution_count": 358,
   "metadata": {},
   "outputs": [],
   "source": [
    "K = 1"
   ]
  },
  {
   "cell_type": "markdown",
   "metadata": {},
   "source": [
    "Mostramos el error mediante un bucle:"
   ]
  },
  {
   "cell_type": "code",
   "execution_count": 359,
   "metadata": {},
   "outputs": [],
   "source": [
    "for i in range(5):\n",
    "    \n",
    "    predicciones = clasificador.clasifica(dataset1.extraeDatos(validacionSimple.particiones[i].indicesTest), dataset1.extraeDatos(validacionSimple.particiones[i].indicesTrain),dataset1.nominalAtributos,K)\n",
    "    \n",
    "    error = clasificador.error(dataset1.extraeDatos(validacionSimple.particiones[i].indicesTest),predicciones)\n",
    "\n",
    "    errores.append(error) "
   ]
  },
  {
   "cell_type": "markdown",
   "metadata": {},
   "source": [
    "El error es:"
   ]
  },
  {
   "cell_type": "code",
   "execution_count": 360,
   "metadata": {},
   "outputs": [
    {
     "name": "stdout",
     "output_type": "stream",
     "text": [
      "29.21%\n"
     ]
    }
   ],
   "source": [
    "err_diabetes_k1 = f'{np.mean(errores) * 100:.2f}%'\n",
    "print(f'{np.mean(errores) * 100:.2f}%')"
   ]
  },
  {
   "cell_type": "markdown",
   "metadata": {},
   "source": [
    "#### Normalizando los datos:"
   ]
  },
  {
   "cell_type": "code",
   "execution_count": 361,
   "metadata": {},
   "outputs": [
    {
     "name": "stdout",
     "output_type": "stream",
     "text": [
      "    Pregs Plas Pres Skin Test  Mass   Pedi Age Class\n",
      "0       6  148   72   35    0  33.6  0.627  50     1\n",
      "1       1   85   66   29    0  26.6  0.351  31     0\n",
      "2       8  183   64    0    0  23.3  0.672  32     1\n",
      "3       1   89   66   23   94  28.1  0.167  21     0\n",
      "4       0  137   40   35  168  43.1  2.288  33     1\n",
      "..    ...  ...  ...  ...  ...   ...    ...  ..   ...\n",
      "763    10  101   76   48  180  32.9  0.171  63     0\n",
      "764     2  122   70   27    0  36.8  0.340  27     0\n",
      "765     5  121   72   23  112  26.2  0.245  30     0\n",
      "766     1  126   60    0    0  30.1  0.349  47     1\n",
      "767     1   93   70   31    0  30.4  0.315  23     0\n",
      "\n",
      "[768 rows x 9 columns]\n",
      "        Pregs      Plas      Pres      Skin      Test      Mass      Pedi  \\\n",
      "0   -0.599110  1.901133  0.562975 -0.088497 -0.704754 -0.113147 -0.693714   \n",
      "1   -0.687147  0.791870  0.457331 -0.194141 -0.704754 -0.236399 -0.698574   \n",
      "2   -0.563895  2.517390  0.422116 -0.704754 -0.704754 -0.294503 -0.692922   \n",
      "3   -0.687147  0.862300  0.457331 -0.299785  0.950336 -0.209988 -0.701814   \n",
      "4   -0.704754  1.707452 -0.000460 -0.088497  2.253280  0.054122 -0.664468   \n",
      "..        ...       ...       ...       ...       ...       ...       ...   \n",
      "763 -0.528681  1.073588  0.633404  0.140398  2.464568 -0.125472 -0.701743   \n",
      "764 -0.669539  1.443342  0.527760 -0.229356 -0.704754 -0.056804 -0.698768   \n",
      "765 -0.616717  1.425735  0.562975 -0.299785  1.267268 -0.243442 -0.700440   \n",
      "766 -0.687147  1.513771  0.351687 -0.704754 -0.704754 -0.174773 -0.698609   \n",
      "767 -0.687147  0.932729  0.527760 -0.158926 -0.704754 -0.169491 -0.699208   \n",
      "\n",
      "          Age Class  \n",
      "0    0.175613     1  \n",
      "1   -0.158926     0  \n",
      "2   -0.141319     1  \n",
      "3   -0.335000     0  \n",
      "4   -0.123712     1  \n",
      "..        ...   ...  \n",
      "763  0.404509     0  \n",
      "764 -0.229356     0  \n",
      "765 -0.176534     0  \n",
      "766  0.122791     1  \n",
      "767 -0.299785     0  \n",
      "\n",
      "[768 rows x 9 columns]\n"
     ]
    }
   ],
   "source": [
    "clasificador = ClasificadorKNN()\n",
    "validacionSimple.creaParticiones(dataset1.datos)\n",
    "clasificador.calcularMediaDesviacion(dataset1.datos,dataset1.nominalAtributos)\n",
    "clasificador.normalizarDatos(dataset1.datos,dataset1.nominalAtributos)"
   ]
  },
  {
   "cell_type": "markdown",
   "metadata": {},
   "source": [
    "Mostramos el error mediante un bucle:"
   ]
  },
  {
   "cell_type": "code",
   "execution_count": 362,
   "metadata": {},
   "outputs": [],
   "source": [
    "for i in range(5):\n",
    "    \n",
    "    predicciones = clasificador.clasifica(dataset1.extraeDatos(validacionSimple.particiones[i].indicesTest), dataset1.extraeDatos(validacionSimple.particiones[i].indicesTrain),dataset1.nominalAtributos,K)\n",
    "    \n",
    "    error = clasificador.error(dataset1.extraeDatos(validacionSimple.particiones[i].indicesTest),predicciones)\n",
    "\n",
    "    errores.append(error) "
   ]
  },
  {
   "cell_type": "markdown",
   "metadata": {},
   "source": [
    "El error es:"
   ]
  },
  {
   "cell_type": "code",
   "execution_count": 363,
   "metadata": {},
   "outputs": [
    {
     "name": "stdout",
     "output_type": "stream",
     "text": [
      "30.53%\n"
     ]
    }
   ],
   "source": [
    "err_diabetes_k1_norm = f'{np.mean(errores) * 100:.2f}%'\n",
    "print(f'{np.mean(errores) * 100:.2f}%')"
   ]
  },
  {
   "cell_type": "markdown",
   "metadata": {},
   "source": [
    "### Para K = 3:"
   ]
  },
  {
   "cell_type": "markdown",
   "metadata": {},
   "source": [
    "#### Sin normalizar los datos:"
   ]
  },
  {
   "cell_type": "markdown",
   "metadata": {},
   "source": [
    "Le doy valor a la K:"
   ]
  },
  {
   "cell_type": "code",
   "execution_count": 364,
   "metadata": {},
   "outputs": [],
   "source": [
    "K = 3"
   ]
  },
  {
   "cell_type": "markdown",
   "metadata": {},
   "source": [
    "Mostramos el error mediante un bucle:"
   ]
  },
  {
   "cell_type": "code",
   "execution_count": 365,
   "metadata": {},
   "outputs": [],
   "source": [
    "for i in range(5):\n",
    "    \n",
    "    predicciones = clasificador.clasifica(dataset1.extraeDatos(validacionSimple.particiones[i].indicesTest), dataset1.extraeDatos(validacionSimple.particiones[i].indicesTrain),dataset1.nominalAtributos,K)\n",
    "    \n",
    "    error = clasificador.error(dataset1.extraeDatos(validacionSimple.particiones[i].indicesTest),predicciones)\n",
    "\n",
    "    errores.append(error) "
   ]
  },
  {
   "cell_type": "markdown",
   "metadata": {},
   "source": [
    "El error es:"
   ]
  },
  {
   "cell_type": "code",
   "execution_count": 366,
   "metadata": {},
   "outputs": [
    {
     "name": "stdout",
     "output_type": "stream",
     "text": [
      "30.53%\n"
     ]
    }
   ],
   "source": [
    "err_diabetes_k3 = f'{np.mean(errores) * 100:.2f}%'\n",
    "print(f'{np.mean(errores) * 100:.2f}%')"
   ]
  },
  {
   "cell_type": "markdown",
   "metadata": {},
   "source": [
    "#### Normalizando los datos:"
   ]
  },
  {
   "cell_type": "code",
   "execution_count": 367,
   "metadata": {},
   "outputs": [
    {
     "name": "stdout",
     "output_type": "stream",
     "text": [
      "        Pregs      Plas      Pres      Skin      Test      Mass      Pedi  \\\n",
      "0   -0.599110  1.901133  0.562975 -0.088497 -0.704754 -0.113147 -0.693714   \n",
      "1   -0.687147  0.791870  0.457331 -0.194141 -0.704754 -0.236399 -0.698574   \n",
      "2   -0.563895  2.517390  0.422116 -0.704754 -0.704754 -0.294503 -0.692922   \n",
      "3   -0.687147  0.862300  0.457331 -0.299785  0.950336 -0.209988 -0.701814   \n",
      "4   -0.704754  1.707452 -0.000460 -0.088497  2.253280  0.054122 -0.664468   \n",
      "..        ...       ...       ...       ...       ...       ...       ...   \n",
      "763 -0.528681  1.073588  0.633404  0.140398  2.464568 -0.125472 -0.701743   \n",
      "764 -0.669539  1.443342  0.527760 -0.229356 -0.704754 -0.056804 -0.698768   \n",
      "765 -0.616717  1.425735  0.562975 -0.299785  1.267268 -0.243442 -0.700440   \n",
      "766 -0.687147  1.513771  0.351687 -0.704754 -0.704754 -0.174773 -0.698609   \n",
      "767 -0.687147  0.932729  0.527760 -0.158926 -0.704754 -0.169491 -0.699208   \n",
      "\n",
      "          Age Class  \n",
      "0    0.175613     1  \n",
      "1   -0.158926     0  \n",
      "2   -0.141319     1  \n",
      "3   -0.335000     0  \n",
      "4   -0.123712     1  \n",
      "..        ...   ...  \n",
      "763  0.404509     0  \n",
      "764 -0.229356     0  \n",
      "765 -0.176534     0  \n",
      "766  0.122791     1  \n",
      "767 -0.299785     0  \n",
      "\n",
      "[768 rows x 9 columns]\n",
      "        Pregs      Plas      Pres      Skin      Test      Mass      Pedi  \\\n",
      "0   -0.726117  1.811202  0.453201 -0.207932 -0.833327 -0.232948 -0.822124   \n",
      "1   -0.815459  0.685490  0.345990 -0.315143 -0.833327 -0.358027 -0.827056   \n",
      "2   -0.690380  2.436598  0.310253 -0.833327 -0.833327 -0.416993 -0.821320   \n",
      "3   -0.815459  0.756964  0.345990 -0.422353  0.846306 -0.331224 -0.830343   \n",
      "4   -0.833327  1.614649 -0.118590 -0.207932  2.168571 -0.063197 -0.792444   \n",
      "..        ...       ...       ...       ...       ...       ...       ...   \n",
      "763 -0.654643  0.971385  0.524674  0.024358  2.382992 -0.245456 -0.830272   \n",
      "764 -0.797591  1.346623  0.417464 -0.350879 -0.833327 -0.175769 -0.827252   \n",
      "765 -0.743985  1.328754  0.453201 -0.422353  1.167938 -0.365174 -0.828950   \n",
      "766 -0.815459  1.418097  0.238779 -0.833327 -0.833327 -0.295487 -0.827091   \n",
      "767 -0.815459  0.828438  0.417464 -0.279406 -0.833327 -0.290127 -0.827699   \n",
      "\n",
      "          Age Class  \n",
      "0    0.060095     1  \n",
      "1   -0.279406     0  \n",
      "2   -0.261537     1  \n",
      "3   -0.458090     0  \n",
      "4   -0.243669     1  \n",
      "..        ...   ...  \n",
      "763  0.292385     0  \n",
      "764 -0.350879     0  \n",
      "765 -0.297274     0  \n",
      "766  0.006489     1  \n",
      "767 -0.422353     0  \n",
      "\n",
      "[768 rows x 9 columns]\n"
     ]
    }
   ],
   "source": [
    "clasificador = ClasificadorKNN()\n",
    "validacionSimple.creaParticiones(dataset1.datos)\n",
    "clasificador.calcularMediaDesviacion(dataset1.datos,dataset1.nominalAtributos)\n",
    "clasificador.normalizarDatos(dataset1.datos,dataset1.nominalAtributos)"
   ]
  },
  {
   "cell_type": "markdown",
   "metadata": {},
   "source": [
    "Mostramos el error mediante un bucle:"
   ]
  },
  {
   "cell_type": "code",
   "execution_count": 368,
   "metadata": {},
   "outputs": [],
   "source": [
    "for i in range(5):\n",
    "    \n",
    "    predicciones = clasificador.clasifica(dataset1.extraeDatos(validacionSimple.particiones[i].indicesTest), dataset1.extraeDatos(validacionSimple.particiones[i].indicesTrain),dataset1.nominalAtributos,K)\n",
    "    \n",
    "    error = clasificador.error(dataset1.extraeDatos(validacionSimple.particiones[i].indicesTest),predicciones)\n",
    "\n",
    "    errores.append(error) "
   ]
  },
  {
   "cell_type": "markdown",
   "metadata": {},
   "source": [
    "El error es:"
   ]
  },
  {
   "cell_type": "code",
   "execution_count": 369,
   "metadata": {},
   "outputs": [
    {
     "name": "stdout",
     "output_type": "stream",
     "text": [
      "30.20%\n"
     ]
    }
   ],
   "source": [
    "err_diabetes_k3_norm = f'{np.mean(errores) * 100:.2f}%'\n",
    "print(f'{np.mean(errores) * 100:.2f}%')"
   ]
  },
  {
   "cell_type": "markdown",
   "metadata": {},
   "source": [
    "### Para K = 5:"
   ]
  },
  {
   "cell_type": "markdown",
   "metadata": {},
   "source": [
    "#### Sin normalizar los datos:"
   ]
  },
  {
   "cell_type": "markdown",
   "metadata": {},
   "source": [
    "Le doy valor a la K:"
   ]
  },
  {
   "cell_type": "code",
   "execution_count": 370,
   "metadata": {},
   "outputs": [],
   "source": [
    "K = 5"
   ]
  },
  {
   "cell_type": "markdown",
   "metadata": {},
   "source": [
    "Mostramos el error mediante un bucle:"
   ]
  },
  {
   "cell_type": "code",
   "execution_count": 371,
   "metadata": {},
   "outputs": [],
   "source": [
    "for i in range(5):\n",
    "    \n",
    "    predicciones = clasificador.clasifica(dataset1.extraeDatos(validacionSimple.particiones[i].indicesTest), dataset1.extraeDatos(validacionSimple.particiones[i].indicesTrain),dataset1.nominalAtributos,K)\n",
    "    \n",
    "    error = clasificador.error(dataset1.extraeDatos(validacionSimple.particiones[i].indicesTest),predicciones)\n",
    "\n",
    "    errores.append(error) "
   ]
  },
  {
   "cell_type": "markdown",
   "metadata": {},
   "source": [
    "El error es:"
   ]
  },
  {
   "cell_type": "code",
   "execution_count": 372,
   "metadata": {},
   "outputs": [
    {
     "name": "stdout",
     "output_type": "stream",
     "text": [
      "30.21%\n"
     ]
    }
   ],
   "source": [
    "err_diabetes_k5 = f'{np.mean(errores) * 100:.2f}%'\n",
    "print(f'{np.mean(errores) * 100:.2f}%')"
   ]
  },
  {
   "cell_type": "markdown",
   "metadata": {},
   "source": [
    "#### Normalizando los datos:"
   ]
  },
  {
   "cell_type": "code",
   "execution_count": 373,
   "metadata": {},
   "outputs": [
    {
     "name": "stdout",
     "output_type": "stream",
     "text": [
      "        Pregs      Plas      Pres      Skin      Test      Mass      Pedi  \\\n",
      "0   -0.726117  1.811202  0.453201 -0.207932 -0.833327 -0.232948 -0.822124   \n",
      "1   -0.815459  0.685490  0.345990 -0.315143 -0.833327 -0.358027 -0.827056   \n",
      "2   -0.690380  2.436598  0.310253 -0.833327 -0.833327 -0.416993 -0.821320   \n",
      "3   -0.815459  0.756964  0.345990 -0.422353  0.846306 -0.331224 -0.830343   \n",
      "4   -0.833327  1.614649 -0.118590 -0.207932  2.168571 -0.063197 -0.792444   \n",
      "..        ...       ...       ...       ...       ...       ...       ...   \n",
      "763 -0.654643  0.971385  0.524674  0.024358  2.382992 -0.245456 -0.830272   \n",
      "764 -0.797591  1.346623  0.417464 -0.350879 -0.833327 -0.175769 -0.827252   \n",
      "765 -0.743985  1.328754  0.453201 -0.422353  1.167938 -0.365174 -0.828950   \n",
      "766 -0.815459  1.418097  0.238779 -0.833327 -0.833327 -0.295487 -0.827091   \n",
      "767 -0.815459  0.828438  0.417464 -0.279406 -0.833327 -0.290127 -0.827699   \n",
      "\n",
      "          Age Class  \n",
      "0    0.060095     1  \n",
      "1   -0.279406     0  \n",
      "2   -0.261537     1  \n",
      "3   -0.458090     0  \n",
      "4   -0.243669     1  \n",
      "..        ...   ...  \n",
      "763  0.292385     0  \n",
      "764 -0.350879     0  \n",
      "765 -0.297274     0  \n",
      "766  0.006489     1  \n",
      "767 -0.422353     0  \n",
      "\n",
      "[768 rows x 9 columns]\n",
      "        Pregs      Plas      Pres      Skin      Test      Mass      Pedi  \\\n",
      "0   -0.736303  1.792898  0.439241 -0.219776 -0.843171 -0.244712 -0.832003   \n",
      "1   -0.825360  0.670788  0.332373 -0.326644 -0.843171 -0.369391 -0.836919   \n",
      "2   -0.700681  2.416293  0.296751 -0.843171 -0.843171 -0.428168 -0.831202   \n",
      "3   -0.825360  0.742033  0.332373 -0.433512  0.831089 -0.342674 -0.840196   \n",
      "4   -0.843171  1.596974 -0.130720 -0.219776  2.149124 -0.075505 -0.802419   \n",
      "..        ...       ...       ...       ...       ...       ...       ...   \n",
      "763 -0.665058  0.955768  0.510486  0.011770  2.362859 -0.257180 -0.840125   \n",
      "764 -0.807548  1.329805  0.403618 -0.362266 -0.843171 -0.187716 -0.837115   \n",
      "765 -0.754115  1.311994  0.439241 -0.433512  1.151692 -0.376515 -0.838807   \n",
      "766 -0.825360  1.401050  0.225506 -0.843171 -0.843171 -0.307051 -0.836955   \n",
      "767 -0.825360  0.813278  0.403618 -0.291021 -0.843171 -0.301708 -0.837560   \n",
      "\n",
      "          Age Class  \n",
      "0    0.047393     1  \n",
      "1   -0.291021     0  \n",
      "2   -0.273210     1  \n",
      "3   -0.469134     0  \n",
      "4   -0.255399     1  \n",
      "..        ...   ...  \n",
      "763  0.278940     0  \n",
      "764 -0.362266     0  \n",
      "765 -0.308833     0  \n",
      "766 -0.006041     1  \n",
      "767 -0.433512     0  \n",
      "\n",
      "[768 rows x 9 columns]\n"
     ]
    }
   ],
   "source": [
    "clasificador = ClasificadorKNN()\n",
    "validacionSimple.creaParticiones(dataset1.datos)\n",
    "clasificador.calcularMediaDesviacion(dataset1.datos,dataset1.nominalAtributos)\n",
    "clasificador.normalizarDatos(dataset1.datos,dataset1.nominalAtributos)"
   ]
  },
  {
   "cell_type": "markdown",
   "metadata": {},
   "source": [
    "Mostramos el error mediante un bucle:"
   ]
  },
  {
   "cell_type": "code",
   "execution_count": 374,
   "metadata": {},
   "outputs": [],
   "source": [
    "for i in range(5):\n",
    "    \n",
    "    predicciones = clasificador.clasifica(dataset1.extraeDatos(validacionSimple.particiones[i].indicesTest), dataset1.extraeDatos(validacionSimple.particiones[i].indicesTrain),dataset1.nominalAtributos,K)\n",
    "    \n",
    "    error = clasificador.error(dataset1.extraeDatos(validacionSimple.particiones[i].indicesTest),predicciones)\n",
    "\n",
    "    errores.append(error) "
   ]
  },
  {
   "cell_type": "markdown",
   "metadata": {},
   "source": [
    "El error es:"
   ]
  },
  {
   "cell_type": "code",
   "execution_count": 375,
   "metadata": {},
   "outputs": [
    {
     "name": "stdout",
     "output_type": "stream",
     "text": [
      "28.99%\n"
     ]
    }
   ],
   "source": [
    "err_diabetes_k5_norm = f'{np.mean(errores) * 100:.2f}%'\n",
    "print(f'{np.mean(errores) * 100:.2f}%')"
   ]
  },
  {
   "cell_type": "markdown",
   "metadata": {},
   "source": [
    "## Para wdbc:"
   ]
  },
  {
   "cell_type": "markdown",
   "metadata": {},
   "source": [
    "Creamos las particiones necesarias mediante la estrategia de particionado de validación simple:"
   ]
  },
  {
   "cell_type": "code",
   "execution_count": 376,
   "metadata": {},
   "outputs": [],
   "source": [
    "validacionSimple.creaParticiones(dataset2.datos)"
   ]
  },
  {
   "cell_type": "markdown",
   "metadata": {},
   "source": [
    "### Para K = 1:"
   ]
  },
  {
   "cell_type": "markdown",
   "metadata": {},
   "source": [
    "#### Sin normalizar los datos:"
   ]
  },
  {
   "cell_type": "markdown",
   "metadata": {},
   "source": [
    "Le doy valor a la K:"
   ]
  },
  {
   "cell_type": "code",
   "execution_count": 377,
   "metadata": {},
   "outputs": [],
   "source": [
    "K = 1"
   ]
  },
  {
   "cell_type": "markdown",
   "metadata": {},
   "source": [
    "Mostramos el error mediante un bucle:"
   ]
  },
  {
   "cell_type": "code",
   "execution_count": 378,
   "metadata": {},
   "outputs": [],
   "source": [
    "for i in range(5):\n",
    "    \n",
    "    predicciones = clasificador.clasifica(dataset2.extraeDatos(validacionSimple.particiones[i].indicesTest), dataset2.extraeDatos(validacionSimple.particiones[i].indicesTrain),dataset2.nominalAtributos,K)\n",
    "    \n",
    "    error = clasificador.error(dataset2.extraeDatos(validacionSimple.particiones[i].indicesTest),predicciones)\n",
    "\n",
    "    errores.append(error) "
   ]
  },
  {
   "cell_type": "markdown",
   "metadata": {},
   "source": [
    "El error es:"
   ]
  },
  {
   "cell_type": "code",
   "execution_count": 379,
   "metadata": {},
   "outputs": [
    {
     "name": "stdout",
     "output_type": "stream",
     "text": [
      "26.23%\n"
     ]
    }
   ],
   "source": [
    "err_wdbc_k1 = f'{np.mean(errores) * 100:.2f}%'\n",
    "print(f'{np.mean(errores) * 100:.2f}%')"
   ]
  },
  {
   "cell_type": "markdown",
   "metadata": {},
   "source": [
    "#### Normalizando los datos:"
   ]
  },
  {
   "cell_type": "code",
   "execution_count": 380,
   "metadata": {},
   "outputs": [
    {
     "name": "stdout",
     "output_type": "stream",
     "text": [
      "    Atributo1 Atributo2 Atributo3 Atributo4 Atributo5 Atributo6 Atributo7  \\\n",
      "0       17.99     10.38     122.8      1001    0.1184    0.2776    0.3001   \n",
      "1       20.57     17.77     132.9      1326   0.08474   0.07864    0.0869   \n",
      "2       19.69     21.25       130      1203    0.1096    0.1599    0.1974   \n",
      "3       11.42     20.38     77.58     386.1    0.1425    0.2839    0.2414   \n",
      "4       20.29     14.34     135.1      1297    0.1003    0.1328     0.198   \n",
      "..        ...       ...       ...       ...       ...       ...       ...   \n",
      "564     21.56     22.39       142      1479     0.111    0.1159    0.2439   \n",
      "565     20.13     28.25     131.2      1261    0.0978    0.1034     0.144   \n",
      "566      16.6     28.08     108.3     858.1   0.08455    0.1023   0.09251   \n",
      "567      20.6     29.33     140.1      1265    0.1178     0.277    0.3514   \n",
      "568      7.76     24.54     47.92       181   0.05263   0.04362         0   \n",
      "\n",
      "    Atributo8 Atributo9 Atributo10  ... Atributo22 Atributo23 Atributo24  \\\n",
      "0      0.1471    0.2419    0.07871  ...      17.33      184.6       2019   \n",
      "1     0.07017    0.1812    0.05667  ...      23.41      158.8       1956   \n",
      "2      0.1279    0.2069    0.05999  ...      25.53      152.5       1709   \n",
      "3      0.1052    0.2597    0.09744  ...       26.5      98.87      567.7   \n",
      "4      0.1043    0.1809    0.05883  ...      16.67      152.2       1575   \n",
      "..        ...       ...        ...  ...        ...        ...        ...   \n",
      "564    0.1389    0.1726    0.05623  ...       26.4      166.1       2027   \n",
      "565   0.09791    0.1752    0.05533  ...      38.25        155       1731   \n",
      "566   0.05302     0.159    0.05648  ...      34.12      126.7       1124   \n",
      "567     0.152    0.2397    0.07016  ...      39.42      184.6       1821   \n",
      "568         0    0.1587    0.05884  ...      30.37      59.16      268.6   \n",
      "\n",
      "    Atributo25 Atributo26 Atributo27 Atributo28 Atributo29 Atributo30 Class  \n",
      "0       0.1622     0.6656     0.7119     0.2654     0.4601     0.1189     2  \n",
      "1       0.1238     0.1866     0.2416      0.186      0.275    0.08902     2  \n",
      "2       0.1444     0.4245     0.4504      0.243     0.3613    0.08758     2  \n",
      "3       0.2098     0.8663     0.6869     0.2575     0.6638      0.173     2  \n",
      "4       0.1374      0.205        0.4     0.1625     0.2364    0.07678     2  \n",
      "..         ...        ...        ...        ...        ...        ...   ...  \n",
      "564      0.141     0.2113     0.4107     0.2216      0.206    0.07115     2  \n",
      "565     0.1166     0.1922     0.3215     0.1628     0.2572    0.06637     2  \n",
      "566     0.1139     0.3094     0.3403     0.1418     0.2218     0.0782     2  \n",
      "567      0.165     0.8681     0.9387      0.265     0.4087      0.124     2  \n",
      "568    0.08996    0.06444          0          0     0.2871    0.07039     1  \n",
      "\n",
      "[569 rows x 31 columns]\n",
      "     Atributo1  Atributo2  Atributo3  Atributo4  Atributo5  Atributo6  \\\n",
      "0    -0.186571  -0.220417   0.279584   4.185483  -0.266057  -0.265349   \n",
      "1    -0.175096  -0.187549   0.324505   5.630959  -0.266207  -0.266234   \n",
      "2    -0.179010  -0.172072   0.311607   5.083902  -0.266096  -0.265872   \n",
      "3    -0.215792  -0.175941   0.078463   1.450642  -0.265950  -0.265321   \n",
      "4    -0.176341  -0.202805   0.334290   5.501978  -0.266138  -0.265993   \n",
      "..         ...        ...        ...        ...        ...        ...   \n",
      "564  -0.170693  -0.167001   0.364978   6.311444  -0.266090  -0.266068   \n",
      "565  -0.177053  -0.140938   0.316944   5.341864  -0.266149  -0.266124   \n",
      "566  -0.192753  -0.141695   0.215093   3.549918  -0.266208  -0.266129   \n",
      "567  -0.174963  -0.136135   0.356528   5.359654  -0.266060  -0.265352   \n",
      "568  -0.232070  -0.157439  -0.053454   0.538435  -0.266350  -0.266390   \n",
      "\n",
      "     Atributo7  Atributo8  Atributo9  Atributo10  ...  Atributo22  Atributo23  \\\n",
      "0    -0.265249  -0.265929  -0.265508   -0.266234  ...   -0.189506    0.554447   \n",
      "1    -0.266197  -0.266272  -0.265778   -0.266332  ...   -0.162465    0.439698   \n",
      "2    -0.265706  -0.266015  -0.265663   -0.266317  ...   -0.153036    0.411678   \n",
      "3    -0.265510  -0.266116  -0.265429   -0.266150  ...   -0.148722    0.173152   \n",
      "4    -0.265703  -0.266120  -0.265779   -0.266322  ...   -0.192442    0.410344   \n",
      "..         ...        ...        ...         ...  ...         ...         ...   \n",
      "564  -0.265499  -0.265966  -0.265816   -0.266334  ...   -0.149167    0.472166   \n",
      "565  -0.265943  -0.266148  -0.265804   -0.266338  ...   -0.096462    0.422797   \n",
      "566  -0.266172  -0.266348  -0.265876   -0.266332  ...   -0.114831    0.296930   \n",
      "567  -0.265021  -0.265908  -0.265518   -0.266272  ...   -0.091259    0.554447   \n",
      "568  -0.266584  -0.266584  -0.265878   -0.266322  ...   -0.131509   -0.003463   \n",
      "\n",
      "     Atributo24  Atributo25  Atributo26  Atributo27  Atributo28  Atributo29  \\\n",
      "0      8.713158   -0.265862   -0.263623   -0.263417   -0.265403   -0.264537   \n",
      "1      8.432958   -0.266033   -0.265754   -0.265509   -0.265756   -0.265361   \n",
      "2      7.334397   -0.265941   -0.264696   -0.264580   -0.265503   -0.264977   \n",
      "3      2.258329   -0.265651   -0.262731   -0.263529   -0.265438   -0.263631   \n",
      "4      6.738416   -0.265973   -0.265672   -0.264805   -0.265861   -0.265532   \n",
      "..          ...         ...         ...         ...         ...         ...   \n",
      "564    8.748739   -0.265957   -0.265644   -0.264757   -0.265598   -0.265667   \n",
      "565    7.432244   -0.266065   -0.265729   -0.265154   -0.265860   -0.265440   \n",
      "566    4.732540   -0.266077   -0.265208   -0.265070   -0.265953   -0.265597   \n",
      "567    7.832530   -0.265850   -0.262723   -0.262409   -0.265405   -0.264766   \n",
      "568    0.928047   -0.266184   -0.266297   -0.266584   -0.266584   -0.265307   \n",
      "\n",
      "     Atributo30  Class  \n",
      "0     -0.266055      2  \n",
      "1     -0.266188      2  \n",
      "2     -0.266194      2  \n",
      "3     -0.265814      2  \n",
      "4     -0.266242      2  \n",
      "..          ...    ...  \n",
      "564   -0.266267      2  \n",
      "565   -0.266288      2  \n",
      "566   -0.266236      2  \n",
      "567   -0.266032      2  \n",
      "568   -0.266271      1  \n",
      "\n",
      "[569 rows x 31 columns]\n"
     ]
    }
   ],
   "source": [
    "clasificador = ClasificadorKNN()\n",
    "validacionSimple.creaParticiones(dataset2.datos)\n",
    "clasificador.calcularMediaDesviacion(dataset2.datos,dataset2.nominalAtributos)\n",
    "clasificador.normalizarDatos(dataset2.datos,dataset2.nominalAtributos)"
   ]
  },
  {
   "cell_type": "markdown",
   "metadata": {},
   "source": [
    "Mostramos el error mediante un bucle:"
   ]
  },
  {
   "cell_type": "code",
   "execution_count": 381,
   "metadata": {},
   "outputs": [],
   "source": [
    "for i in range(5):\n",
    "    \n",
    "    predicciones = clasificador.clasifica(dataset2.extraeDatos(validacionSimple.particiones[i].indicesTest), dataset2.extraeDatos(validacionSimple.particiones[i].indicesTrain),dataset2.nominalAtributos,K)\n",
    "    \n",
    "    error = clasificador.error(dataset2.extraeDatos(validacionSimple.particiones[i].indicesTest),predicciones)\n",
    "\n",
    "    errores.append(error) "
   ]
  },
  {
   "cell_type": "markdown",
   "metadata": {},
   "source": [
    "El error es:"
   ]
  },
  {
   "cell_type": "code",
   "execution_count": 382,
   "metadata": {},
   "outputs": [
    {
     "name": "stdout",
     "output_type": "stream",
     "text": [
      "23.71%\n"
     ]
    }
   ],
   "source": [
    "err_wdbc_k1_norm = f'{np.mean(errores) * 100:.2f}%'\n",
    "print(f'{np.mean(errores) * 100:.2f}%')"
   ]
  },
  {
   "cell_type": "markdown",
   "metadata": {},
   "source": [
    "### Para K = 3:"
   ]
  },
  {
   "cell_type": "markdown",
   "metadata": {},
   "source": [
    "#### Sin normalizar los datos:"
   ]
  },
  {
   "cell_type": "markdown",
   "metadata": {},
   "source": [
    "Le doy valor a la K:"
   ]
  },
  {
   "cell_type": "code",
   "execution_count": 383,
   "metadata": {},
   "outputs": [],
   "source": [
    "K = 3"
   ]
  },
  {
   "cell_type": "markdown",
   "metadata": {},
   "source": [
    "Mostramos el error mediante un bucle:"
   ]
  },
  {
   "cell_type": "code",
   "execution_count": 384,
   "metadata": {},
   "outputs": [],
   "source": [
    "for i in range(5):\n",
    "    \n",
    "    predicciones = clasificador.clasifica(dataset2.extraeDatos(validacionSimple.particiones[i].indicesTest), dataset2.extraeDatos(validacionSimple.particiones[i].indicesTrain),dataset2.nominalAtributos,K)\n",
    "    \n",
    "    error = clasificador.error(dataset2.extraeDatos(validacionSimple.particiones[i].indicesTest),predicciones)\n",
    "\n",
    "    errores.append(error) "
   ]
  },
  {
   "cell_type": "markdown",
   "metadata": {},
   "source": [
    "El error es:"
   ]
  },
  {
   "cell_type": "code",
   "execution_count": 385,
   "metadata": {},
   "outputs": [
    {
     "name": "stdout",
     "output_type": "stream",
     "text": [
      "21.51%\n"
     ]
    }
   ],
   "source": [
    "err_wdbc_k3 = f'{np.mean(errores) * 100:.2f}%'\n",
    "print(f'{np.mean(errores) * 100:.2f}%')"
   ]
  },
  {
   "cell_type": "markdown",
   "metadata": {},
   "source": [
    "#### Normalizando los datos:"
   ]
  },
  {
   "cell_type": "code",
   "execution_count": 386,
   "metadata": {},
   "outputs": [
    {
     "name": "stdout",
     "output_type": "stream",
     "text": [
      "     Atributo1  Atributo2  Atributo3  Atributo4  Atributo5  Atributo6  \\\n",
      "0    -0.186571  -0.220417   0.279584   4.185483  -0.266057  -0.265349   \n",
      "1    -0.175096  -0.187549   0.324505   5.630959  -0.266207  -0.266234   \n",
      "2    -0.179010  -0.172072   0.311607   5.083902  -0.266096  -0.265872   \n",
      "3    -0.215792  -0.175941   0.078463   1.450642  -0.265950  -0.265321   \n",
      "4    -0.176341  -0.202805   0.334290   5.501978  -0.266138  -0.265993   \n",
      "..         ...        ...        ...        ...        ...        ...   \n",
      "564  -0.170693  -0.167001   0.364978   6.311444  -0.266090  -0.266068   \n",
      "565  -0.177053  -0.140938   0.316944   5.341864  -0.266149  -0.266124   \n",
      "566  -0.192753  -0.141695   0.215093   3.549918  -0.266208  -0.266129   \n",
      "567  -0.174963  -0.136135   0.356528   5.359654  -0.266060  -0.265352   \n",
      "568  -0.232070  -0.157439  -0.053454   0.538435  -0.266350  -0.266390   \n",
      "\n",
      "     Atributo7  Atributo8  Atributo9  Atributo10  ...  Atributo22  Atributo23  \\\n",
      "0    -0.265249  -0.265929  -0.265508   -0.266234  ...   -0.189506    0.554447   \n",
      "1    -0.266197  -0.266272  -0.265778   -0.266332  ...   -0.162465    0.439698   \n",
      "2    -0.265706  -0.266015  -0.265663   -0.266317  ...   -0.153036    0.411678   \n",
      "3    -0.265510  -0.266116  -0.265429   -0.266150  ...   -0.148722    0.173152   \n",
      "4    -0.265703  -0.266120  -0.265779   -0.266322  ...   -0.192442    0.410344   \n",
      "..         ...        ...        ...         ...  ...         ...         ...   \n",
      "564  -0.265499  -0.265966  -0.265816   -0.266334  ...   -0.149167    0.472166   \n",
      "565  -0.265943  -0.266148  -0.265804   -0.266338  ...   -0.096462    0.422797   \n",
      "566  -0.266172  -0.266348  -0.265876   -0.266332  ...   -0.114831    0.296930   \n",
      "567  -0.265021  -0.265908  -0.265518   -0.266272  ...   -0.091259    0.554447   \n",
      "568  -0.266584  -0.266584  -0.265878   -0.266322  ...   -0.131509   -0.003463   \n",
      "\n",
      "     Atributo24  Atributo25  Atributo26  Atributo27  Atributo28  Atributo29  \\\n",
      "0      8.713158   -0.265862   -0.263623   -0.263417   -0.265403   -0.264537   \n",
      "1      8.432958   -0.266033   -0.265754   -0.265509   -0.265756   -0.265361   \n",
      "2      7.334397   -0.265941   -0.264696   -0.264580   -0.265503   -0.264977   \n",
      "3      2.258329   -0.265651   -0.262731   -0.263529   -0.265438   -0.263631   \n",
      "4      6.738416   -0.265973   -0.265672   -0.264805   -0.265861   -0.265532   \n",
      "..          ...         ...         ...         ...         ...         ...   \n",
      "564    8.748739   -0.265957   -0.265644   -0.264757   -0.265598   -0.265667   \n",
      "565    7.432244   -0.266065   -0.265729   -0.265154   -0.265860   -0.265440   \n",
      "566    4.732540   -0.266077   -0.265208   -0.265070   -0.265953   -0.265597   \n",
      "567    7.832530   -0.265850   -0.262723   -0.262409   -0.265405   -0.264766   \n",
      "568    0.928047   -0.266184   -0.266297   -0.266584   -0.266584   -0.265307   \n",
      "\n",
      "     Atributo30  Class  \n",
      "0     -0.266055      2  \n",
      "1     -0.266188      2  \n",
      "2     -0.266194      2  \n",
      "3     -0.265814      2  \n",
      "4     -0.266242      2  \n",
      "..          ...    ...  \n",
      "564   -0.266267      2  \n",
      "565   -0.266288      2  \n",
      "566   -0.266236      2  \n",
      "567   -0.266032      2  \n",
      "568   -0.266271      1  \n",
      "\n",
      "[569 rows x 31 columns]\n",
      "     Atributo1  Atributo2  Atributo3  Atributo4  Atributo5  Atributo6  \\\n",
      "0    -0.232014  -0.264837   0.220042   4.007804  -0.309096  -0.308409   \n",
      "1    -0.220886  -0.232963   0.263604   5.409561  -0.309241  -0.309268   \n",
      "2    -0.224682  -0.217953   0.251096   4.879050  -0.309134  -0.308917   \n",
      "3    -0.260351  -0.221706   0.025003   1.355680  -0.308992  -0.308382   \n",
      "4    -0.222094  -0.247757   0.273093   5.284481  -0.309174  -0.309034   \n",
      "..         ...        ...        ...        ...        ...        ...   \n",
      "564  -0.216616  -0.213037   0.302853   6.069465  -0.309128  -0.309107   \n",
      "565  -0.222784  -0.187762   0.256272   5.129210  -0.309185  -0.309161   \n",
      "566  -0.238009  -0.188495   0.157502   3.391462  -0.309242  -0.309166   \n",
      "567  -0.220757  -0.183104   0.294658   5.146462  -0.309099  -0.308412   \n",
      "568  -0.276137  -0.203763  -0.102923   0.471064  -0.309380  -0.309419   \n",
      "\n",
      "     Atributo7  Atributo8  Atributo9  Atributo10  ...  Atributo22  Atributo23  \\\n",
      "0    -0.308312  -0.308972  -0.308563   -0.309267  ...   -0.234861    0.486591   \n",
      "1    -0.309232  -0.309304  -0.308825   -0.309362  ...   -0.208637    0.375313   \n",
      "2    -0.308755  -0.309055  -0.308714   -0.309348  ...   -0.199493    0.348141   \n",
      "3    -0.308566  -0.309153  -0.308487   -0.309187  ...   -0.195310    0.116829   \n",
      "4    -0.308753  -0.309157  -0.308827   -0.309353  ...   -0.237707    0.346847   \n",
      "..         ...        ...        ...         ...  ...         ...         ...   \n",
      "564  -0.308555  -0.309008  -0.308862   -0.309364  ...   -0.195741    0.406799   \n",
      "565  -0.308986  -0.309184  -0.308851   -0.309368  ...   -0.144631    0.358923   \n",
      "566  -0.309208  -0.309378  -0.308921   -0.309363  ...   -0.162444    0.236863   \n",
      "567  -0.308091  -0.308951  -0.308573   -0.309304  ...   -0.139584    0.486591   \n",
      "568  -0.309607  -0.309607  -0.308922   -0.309353  ...   -0.178618   -0.054444   \n",
      "\n",
      "     Atributo24  Atributo25  Atributo26  Atributo27  Atributo28  Atributo29  \\\n",
      "0      8.398538   -0.308907   -0.306736   -0.306536   -0.308462   -0.307622   \n",
      "1      8.126813   -0.309073   -0.308802   -0.308565   -0.308805   -0.308421   \n",
      "2      7.061477   -0.308984   -0.307776   -0.307664   -0.308559   -0.308048   \n",
      "3      2.138939   -0.308702   -0.305870   -0.306644   -0.308496   -0.306744   \n",
      "4      6.483522   -0.309014   -0.308723   -0.307882   -0.308906   -0.308587   \n",
      "..          ...         ...         ...         ...         ...         ...   \n",
      "564    8.433043   -0.308999   -0.308695   -0.307835   -0.308651   -0.308718   \n",
      "565    7.156366   -0.309104   -0.308778   -0.308220   -0.308905   -0.308497   \n",
      "566    4.538315   -0.309116   -0.308272   -0.308139   -0.308995   -0.308650   \n",
      "567    7.544544   -0.308895   -0.305863   -0.305558   -0.308464   -0.307844   \n",
      "568    0.848891   -0.309219   -0.309329   -0.309607   -0.309607   -0.308369   \n",
      "\n",
      "     Atributo30  Class  \n",
      "0     -0.309094      2  \n",
      "1     -0.309223      2  \n",
      "2     -0.309229      2  \n",
      "3     -0.308861      2  \n",
      "4     -0.309276      2  \n",
      "..          ...    ...  \n",
      "564   -0.309300      2  \n",
      "565   -0.309321      2  \n",
      "566   -0.309270      2  \n",
      "567   -0.309072      2  \n",
      "568   -0.309303      1  \n",
      "\n",
      "[569 rows x 31 columns]\n"
     ]
    }
   ],
   "source": [
    "clasificador = ClasificadorKNN()\n",
    "validacionSimple.creaParticiones(dataset2.datos)\n",
    "clasificador.calcularMediaDesviacion(dataset2.datos,dataset2.nominalAtributos)\n",
    "clasificador.normalizarDatos(dataset2.datos,dataset2.nominalAtributos)"
   ]
  },
  {
   "cell_type": "markdown",
   "metadata": {},
   "source": [
    "Mostramos el error mediante un bucle:"
   ]
  },
  {
   "cell_type": "code",
   "execution_count": 387,
   "metadata": {},
   "outputs": [],
   "source": [
    "for i in range(5):\n",
    "    \n",
    "    predicciones = clasificador.clasifica(dataset2.extraeDatos(validacionSimple.particiones[i].indicesTest), dataset2.extraeDatos(validacionSimple.particiones[i].indicesTrain),dataset2.nominalAtributos,K)\n",
    "    \n",
    "    error = clasificador.error(dataset2.extraeDatos(validacionSimple.particiones[i].indicesTest),predicciones)\n",
    "\n",
    "    errores.append(error) "
   ]
  },
  {
   "cell_type": "markdown",
   "metadata": {},
   "source": [
    "El error es:"
   ]
  },
  {
   "cell_type": "code",
   "execution_count": 388,
   "metadata": {},
   "outputs": [
    {
     "name": "stdout",
     "output_type": "stream",
     "text": [
      "19.97%\n"
     ]
    }
   ],
   "source": [
    "err_wdbc_k3_norm = f'{np.mean(errores) * 100:.2f}%'\n",
    "print(f'{np.mean(errores) * 100:.2f}%')"
   ]
  },
  {
   "cell_type": "markdown",
   "metadata": {},
   "source": [
    "### Para K = 5:"
   ]
  },
  {
   "cell_type": "markdown",
   "metadata": {},
   "source": [
    "#### Sin normalizar los datos:"
   ]
  },
  {
   "cell_type": "markdown",
   "metadata": {},
   "source": [
    "Le doy valor a la K:"
   ]
  },
  {
   "cell_type": "code",
   "execution_count": 389,
   "metadata": {},
   "outputs": [],
   "source": [
    "K = 5"
   ]
  },
  {
   "cell_type": "markdown",
   "metadata": {},
   "source": [
    "Mostramos el error mediante un bucle:"
   ]
  },
  {
   "cell_type": "code",
   "execution_count": 390,
   "metadata": {},
   "outputs": [],
   "source": [
    "for i in range(5):\n",
    "    \n",
    "    predicciones = clasificador.clasifica(dataset2.extraeDatos(validacionSimple.particiones[i].indicesTest), dataset2.extraeDatos(validacionSimple.particiones[i].indicesTrain),dataset2.nominalAtributos,K)\n",
    "    \n",
    "    error = clasificador.error(dataset2.extraeDatos(validacionSimple.particiones[i].indicesTest),predicciones)\n",
    "\n",
    "    errores.append(error) "
   ]
  },
  {
   "cell_type": "markdown",
   "metadata": {},
   "source": [
    "El error es:"
   ]
  },
  {
   "cell_type": "code",
   "execution_count": 391,
   "metadata": {},
   "outputs": [
    {
     "name": "stdout",
     "output_type": "stream",
     "text": [
      "18.70%\n"
     ]
    }
   ],
   "source": [
    "err_wdbc_k5 = f'{np.mean(errores) * 100:.2f}%'\n",
    "print(f'{np.mean(errores) * 100:.2f}%')"
   ]
  },
  {
   "cell_type": "markdown",
   "metadata": {},
   "source": [
    "#### Normalizando los datos:"
   ]
  },
  {
   "cell_type": "code",
   "execution_count": 392,
   "metadata": {},
   "outputs": [
    {
     "name": "stdout",
     "output_type": "stream",
     "text": [
      "     Atributo1  Atributo2  Atributo3  Atributo4  Atributo5  Atributo6  \\\n",
      "0    -0.232014  -0.264837   0.220042   4.007804  -0.309096  -0.308409   \n",
      "1    -0.220886  -0.232963   0.263604   5.409561  -0.309241  -0.309268   \n",
      "2    -0.224682  -0.217953   0.251096   4.879050  -0.309134  -0.308917   \n",
      "3    -0.260351  -0.221706   0.025003   1.355680  -0.308992  -0.308382   \n",
      "4    -0.222094  -0.247757   0.273093   5.284481  -0.309174  -0.309034   \n",
      "..         ...        ...        ...        ...        ...        ...   \n",
      "564  -0.216616  -0.213037   0.302853   6.069465  -0.309128  -0.309107   \n",
      "565  -0.222784  -0.187762   0.256272   5.129210  -0.309185  -0.309161   \n",
      "566  -0.238009  -0.188495   0.157502   3.391462  -0.309242  -0.309166   \n",
      "567  -0.220757  -0.183104   0.294658   5.146462  -0.309099  -0.308412   \n",
      "568  -0.276137  -0.203763  -0.102923   0.471064  -0.309380  -0.309419   \n",
      "\n",
      "     Atributo7  Atributo8  Atributo9  Atributo10  ...  Atributo22  Atributo23  \\\n",
      "0    -0.308312  -0.308972  -0.308563   -0.309267  ...   -0.234861    0.486591   \n",
      "1    -0.309232  -0.309304  -0.308825   -0.309362  ...   -0.208637    0.375313   \n",
      "2    -0.308755  -0.309055  -0.308714   -0.309348  ...   -0.199493    0.348141   \n",
      "3    -0.308566  -0.309153  -0.308487   -0.309187  ...   -0.195310    0.116829   \n",
      "4    -0.308753  -0.309157  -0.308827   -0.309353  ...   -0.237707    0.346847   \n",
      "..         ...        ...        ...         ...  ...         ...         ...   \n",
      "564  -0.308555  -0.309008  -0.308862   -0.309364  ...   -0.195741    0.406799   \n",
      "565  -0.308986  -0.309184  -0.308851   -0.309368  ...   -0.144631    0.358923   \n",
      "566  -0.309208  -0.309378  -0.308921   -0.309363  ...   -0.162444    0.236863   \n",
      "567  -0.308091  -0.308951  -0.308573   -0.309304  ...   -0.139584    0.486591   \n",
      "568  -0.309607  -0.309607  -0.308922   -0.309353  ...   -0.178618   -0.054444   \n",
      "\n",
      "     Atributo24  Atributo25  Atributo26  Atributo27  Atributo28  Atributo29  \\\n",
      "0      8.398538   -0.308907   -0.306736   -0.306536   -0.308462   -0.307622   \n",
      "1      8.126813   -0.309073   -0.308802   -0.308565   -0.308805   -0.308421   \n",
      "2      7.061477   -0.308984   -0.307776   -0.307664   -0.308559   -0.308048   \n",
      "3      2.138939   -0.308702   -0.305870   -0.306644   -0.308496   -0.306744   \n",
      "4      6.483522   -0.309014   -0.308723   -0.307882   -0.308906   -0.308587   \n",
      "..          ...         ...         ...         ...         ...         ...   \n",
      "564    8.433043   -0.308999   -0.308695   -0.307835   -0.308651   -0.308718   \n",
      "565    7.156366   -0.309104   -0.308778   -0.308220   -0.308905   -0.308497   \n",
      "566    4.538315   -0.309116   -0.308272   -0.308139   -0.308995   -0.308650   \n",
      "567    7.544544   -0.308895   -0.305863   -0.305558   -0.308464   -0.307844   \n",
      "568    0.848891   -0.309219   -0.309329   -0.309607   -0.309607   -0.308369   \n",
      "\n",
      "     Atributo30  Class  \n",
      "0     -0.309094      2  \n",
      "1     -0.309223      2  \n",
      "2     -0.309229      2  \n",
      "3     -0.308861      2  \n",
      "4     -0.309276      2  \n",
      "..          ...    ...  \n",
      "564   -0.309300      2  \n",
      "565   -0.309321      2  \n",
      "566   -0.309270      2  \n",
      "567   -0.309072      2  \n",
      "568   -0.309303      1  \n",
      "\n",
      "[569 rows x 31 columns]\n",
      "     Atributo1  Atributo2  Atributo3  Atributo4  Atributo5  Atributo6  \\\n",
      "0    -0.234025  -0.266711   0.216152   3.988174  -0.310786  -0.310102   \n",
      "1    -0.222943  -0.234970   0.259534   5.384105  -0.310931  -0.310957   \n",
      "2    -0.226723  -0.220022   0.247078   4.855798  -0.310824  -0.310608   \n",
      "3    -0.262244  -0.223759   0.021925   1.347072  -0.310683  -0.310075   \n",
      "4    -0.224146  -0.249702   0.268983   5.259545  -0.310864  -0.310724   \n",
      "..         ...        ...        ...        ...        ...        ...   \n",
      "564  -0.218691  -0.215126   0.298620   6.041266  -0.310818  -0.310797   \n",
      "565  -0.224833  -0.189956   0.252232   5.104919  -0.310875  -0.310851   \n",
      "566  -0.239995  -0.190686   0.153872   3.374393  -0.310932  -0.310855   \n",
      "567  -0.222814  -0.185317   0.290459   5.122099  -0.310789  -0.310105   \n",
      "568  -0.277964  -0.205891  -0.105470   0.466132  -0.311069  -0.311107   \n",
      "\n",
      "     Atributo7  Atributo8  Atributo9  Atributo10  ...  Atributo22  Atributo23  \\\n",
      "0    -0.310006  -0.310663  -0.310256   -0.310957  ...   -0.236859    0.481594   \n",
      "1    -0.310922  -0.310993  -0.310517   -0.311051  ...   -0.210745    0.370779   \n",
      "2    -0.310447  -0.310745  -0.310406   -0.311037  ...   -0.201639    0.343719   \n",
      "3    -0.310258  -0.310843  -0.310179   -0.310876  ...   -0.197473    0.113369   \n",
      "4    -0.310444  -0.310847  -0.310518   -0.311042  ...   -0.239694    0.342431   \n",
      "..         ...        ...        ...         ...  ...         ...         ...   \n",
      "564  -0.310247  -0.310698  -0.310553   -0.311053  ...   -0.197902    0.402133   \n",
      "565  -0.310676  -0.310874  -0.310542   -0.311057  ...   -0.147004    0.354457   \n",
      "566  -0.310897  -0.311067  -0.310612   -0.311052  ...   -0.164744    0.232904   \n",
      "567  -0.309785  -0.310642  -0.310265   -0.310993  ...   -0.141979    0.481594   \n",
      "568  -0.311295  -0.311295  -0.310613   -0.311042  ...   -0.180850   -0.057192   \n",
      "\n",
      "     Atributo24  Atributo25  Atributo26  Atributo27  Atributo28  Atributo29  \\\n",
      "0      8.360660   -0.310598   -0.308436   -0.308237   -0.310155   -0.309319   \n",
      "1      8.090064   -0.310763   -0.310493   -0.310257   -0.310496   -0.310114   \n",
      "2      7.029156   -0.310675   -0.309472   -0.309360   -0.310251   -0.309743   \n",
      "3      2.127075   -0.310394   -0.307574   -0.308344   -0.310189   -0.308444   \n",
      "4      6.453603   -0.310705   -0.310414   -0.309577   -0.310597   -0.310279   \n",
      "..          ...         ...         ...         ...         ...         ...   \n",
      "564    8.395021   -0.310689   -0.310387   -0.309531   -0.310343   -0.310410   \n",
      "565    7.123650   -0.310794   -0.310469   -0.309914   -0.310596   -0.310190   \n",
      "566    4.516480   -0.310806   -0.309966   -0.309833   -0.310686   -0.310342   \n",
      "567    7.510215   -0.310586   -0.307566   -0.307263   -0.310157   -0.309539   \n",
      "568    0.842389   -0.310908   -0.311018   -0.311295   -0.311295   -0.310062   \n",
      "\n",
      "     Atributo30  Class  \n",
      "0     -0.310784      2  \n",
      "1     -0.310912      2  \n",
      "2     -0.310919      2  \n",
      "3     -0.310552      2  \n",
      "4     -0.310965      2  \n",
      "..          ...    ...  \n",
      "564   -0.310989      2  \n",
      "565   -0.311010      2  \n",
      "566   -0.310959      2  \n",
      "567   -0.310762      2  \n",
      "568   -0.310992      1  \n",
      "\n",
      "[569 rows x 31 columns]\n"
     ]
    }
   ],
   "source": [
    "clasificador = ClasificadorKNN()\n",
    "validacionSimple.creaParticiones(dataset2.datos)\n",
    "clasificador.calcularMediaDesviacion(dataset2.datos,dataset2.nominalAtributos)\n",
    "clasificador.normalizarDatos(dataset2.datos,dataset2.nominalAtributos)"
   ]
  },
  {
   "cell_type": "markdown",
   "metadata": {},
   "source": [
    "Mostramos el error mediante un bucle:"
   ]
  },
  {
   "cell_type": "code",
   "execution_count": 393,
   "metadata": {},
   "outputs": [],
   "source": [
    "for i in range(5):\n",
    "    \n",
    "    predicciones = clasificador.clasifica(dataset2.extraeDatos(validacionSimple.particiones[i].indicesTest), dataset2.extraeDatos(validacionSimple.particiones[i].indicesTrain),dataset2.nominalAtributos,K)\n",
    "    \n",
    "    error = clasificador.error(dataset2.extraeDatos(validacionSimple.particiones[i].indicesTest),predicciones)\n",
    "\n",
    "    errores.append(error) "
   ]
  },
  {
   "cell_type": "markdown",
   "metadata": {},
   "source": [
    "El error es:"
   ]
  },
  {
   "cell_type": "code",
   "execution_count": 394,
   "metadata": {},
   "outputs": [
    {
     "name": "stdout",
     "output_type": "stream",
     "text": [
      "17.50%\n"
     ]
    }
   ],
   "source": [
    "err_wdbc_k5_norm = f'{np.mean(errores) * 100:.2f}%'\n",
    "print(f'{np.mean(errores) * 100:.2f}%')"
   ]
  },
  {
   "cell_type": "markdown",
   "metadata": {},
   "source": [
    "## Para iris:"
   ]
  },
  {
   "cell_type": "markdown",
   "metadata": {},
   "source": [
    "Creamos las particiones necesarias mediante la estrategia de particionado de validación simple:"
   ]
  },
  {
   "cell_type": "code",
   "execution_count": 395,
   "metadata": {},
   "outputs": [],
   "source": [
    "validacionSimple.creaParticiones(dataset3.datos)"
   ]
  },
  {
   "cell_type": "markdown",
   "metadata": {},
   "source": [
    "### Para K = 1:"
   ]
  },
  {
   "cell_type": "markdown",
   "metadata": {},
   "source": [
    "#### Sin normalizar los datos:"
   ]
  },
  {
   "cell_type": "markdown",
   "metadata": {},
   "source": [
    "Le doy valor a la K:"
   ]
  },
  {
   "cell_type": "code",
   "execution_count": 396,
   "metadata": {},
   "outputs": [],
   "source": [
    "K = 1"
   ]
  },
  {
   "cell_type": "markdown",
   "metadata": {},
   "source": [
    "Mostramos el error mediante un bucle:"
   ]
  },
  {
   "cell_type": "code",
   "execution_count": 397,
   "metadata": {},
   "outputs": [],
   "source": [
    "for i in range(5):\n",
    "    \n",
    "    predicciones = clasificador.clasifica(dataset3.extraeDatos(validacionSimple.particiones[i].indicesTest), dataset3.extraeDatos(validacionSimple.particiones[i].indicesTrain),dataset3.nominalAtributos,K)\n",
    "    \n",
    "    error = clasificador.error(dataset3.extraeDatos(validacionSimple.particiones[i].indicesTest),predicciones)\n",
    "\n",
    "    errores.append(error) "
   ]
  },
  {
   "cell_type": "markdown",
   "metadata": {},
   "source": [
    "El error es:"
   ]
  },
  {
   "cell_type": "code",
   "execution_count": 398,
   "metadata": {},
   "outputs": [
    {
     "name": "stdout",
     "output_type": "stream",
     "text": [
      "16.46%\n"
     ]
    }
   ],
   "source": [
    "err_iris_k1 = f'{np.mean(errores) * 100:.2f}%'\n",
    "print(f'{np.mean(errores) * 100:.2f}%')"
   ]
  },
  {
   "cell_type": "markdown",
   "metadata": {},
   "source": [
    "#### Normalizando los datos:"
   ]
  },
  {
   "cell_type": "code",
   "execution_count": 399,
   "metadata": {},
   "outputs": [
    {
     "name": "stdout",
     "output_type": "stream",
     "text": [
      "      SL   SW   PL   PW  Class\n",
      "0    5.1  3.5  1.4  0.2      1\n",
      "1    4.9  3.0  1.4  0.2      1\n",
      "2    4.7  3.2  1.3  0.2      1\n",
      "3    4.6  3.1  1.5  0.2      1\n",
      "4    5.0  3.6  1.4  0.2      1\n",
      "..   ...  ...  ...  ...    ...\n",
      "145  6.7  3.0  5.2  2.3      3\n",
      "146  6.3  2.5  5.0  1.9      3\n",
      "147  6.5  3.0  5.2  2.0      3\n",
      "148  6.2  3.4  5.4  2.3      3\n",
      "149  5.9  3.0  5.1  1.8      3\n",
      "\n",
      "[150 rows x 5 columns]\n",
      "           SL        SW        PL        PW  Class\n",
      "0    1.017634  0.173591 -0.934214 -1.567246      1\n",
      "1    0.912129 -0.090172 -0.934214 -1.567246      1\n",
      "2    0.806623  0.015333 -0.986967 -1.567246      1\n",
      "3    0.753871 -0.037419 -0.881462 -1.567246      1\n",
      "4    0.964881  0.226344 -0.934214 -1.567246      1\n",
      "..        ...       ...       ...       ...    ...\n",
      "145  1.861676 -0.090172  1.070386 -0.459440      3\n",
      "146  1.650666 -0.353935  0.964881 -0.670451      3\n",
      "147  1.756171 -0.090172  1.070386 -0.617698      3\n",
      "148  1.597913  0.120839  1.175892 -0.459440      3\n",
      "149  1.439655 -0.090172  1.017634 -0.723204      3\n",
      "\n",
      "[150 rows x 5 columns]\n"
     ]
    }
   ],
   "source": [
    "clasificador = ClasificadorKNN()\n",
    "validacionSimple.creaParticiones(dataset3.datos)\n",
    "clasificador.calcularMediaDesviacion(dataset3.datos,dataset3.nominalAtributos)\n",
    "clasificador.normalizarDatos(dataset3.datos,dataset3.nominalAtributos)"
   ]
  },
  {
   "cell_type": "markdown",
   "metadata": {},
   "source": [
    "Mostramos el error mediante un bucle:"
   ]
  },
  {
   "cell_type": "code",
   "execution_count": 400,
   "metadata": {},
   "outputs": [],
   "source": [
    "for i in range(5):\n",
    "    \n",
    "    predicciones = clasificador.clasifica(dataset2.extraeDatos(validacionSimple.particiones[i].indicesTest), dataset2.extraeDatos(validacionSimple.particiones[i].indicesTrain),dataset2.nominalAtributos,K)\n",
    "    \n",
    "    error = clasificador.error(dataset2.extraeDatos(validacionSimple.particiones[i].indicesTest),predicciones)\n",
    "\n",
    "    errores.append(error) "
   ]
  },
  {
   "cell_type": "markdown",
   "metadata": {},
   "source": [
    "El error es:"
   ]
  },
  {
   "cell_type": "code",
   "execution_count": 401,
   "metadata": {},
   "outputs": [
    {
     "name": "stdout",
     "output_type": "stream",
     "text": [
      "16.33%\n"
     ]
    }
   ],
   "source": [
    "err_iris_k1_norm = f'{np.mean(errores) * 100:.2f}%'\n",
    "print(f'{np.mean(errores) * 100:.2f}%')"
   ]
  },
  {
   "cell_type": "markdown",
   "metadata": {},
   "source": [
    "### Para K = 3:"
   ]
  },
  {
   "cell_type": "markdown",
   "metadata": {},
   "source": [
    "#### Sin normalizar los datos:"
   ]
  },
  {
   "cell_type": "markdown",
   "metadata": {},
   "source": [
    "Le doy valor a la K:"
   ]
  },
  {
   "cell_type": "code",
   "execution_count": 402,
   "metadata": {},
   "outputs": [],
   "source": [
    "K = 3"
   ]
  },
  {
   "cell_type": "markdown",
   "metadata": {},
   "source": [
    "Mostramos el error mediante un bucle:"
   ]
  },
  {
   "cell_type": "code",
   "execution_count": 403,
   "metadata": {},
   "outputs": [],
   "source": [
    "for i in range(5):\n",
    "    \n",
    "    predicciones = clasificador.clasifica(dataset3.extraeDatos(validacionSimple.particiones[i].indicesTest), dataset3.extraeDatos(validacionSimple.particiones[i].indicesTrain),dataset3.nominalAtributos,K)\n",
    "    \n",
    "    error = clasificador.error(dataset3.extraeDatos(validacionSimple.particiones[i].indicesTest),predicciones)\n",
    "\n",
    "    errores.append(error) "
   ]
  },
  {
   "cell_type": "markdown",
   "metadata": {},
   "source": [
    "El error es:"
   ]
  },
  {
   "cell_type": "code",
   "execution_count": 404,
   "metadata": {},
   "outputs": [
    {
     "name": "stdout",
     "output_type": "stream",
     "text": [
      "15.42%\n"
     ]
    }
   ],
   "source": [
    "err_iris_k3 = f'{np.mean(errores) * 100:.2f}%'\n",
    "print(f'{np.mean(errores) * 100:.2f}%')"
   ]
  },
  {
   "cell_type": "markdown",
   "metadata": {},
   "source": [
    "#### Normalizando los datos:"
   ]
  },
  {
   "cell_type": "code",
   "execution_count": 405,
   "metadata": {},
   "outputs": [
    {
     "name": "stdout",
     "output_type": "stream",
     "text": [
      "           SL        SW        PL        PW  Class\n",
      "0    1.017634  0.173591 -0.934214 -1.567246      1\n",
      "1    0.912129 -0.090172 -0.934214 -1.567246      1\n",
      "2    0.806623  0.015333 -0.986967 -1.567246      1\n",
      "3    0.753871 -0.037419 -0.881462 -1.567246      1\n",
      "4    0.964881  0.226344 -0.934214 -1.567246      1\n",
      "..        ...       ...       ...       ...    ...\n",
      "145  1.861676 -0.090172  1.070386 -0.459440      3\n",
      "146  1.650666 -0.353935  0.964881 -0.670451      3\n",
      "147  1.756171 -0.090172  1.070386 -0.617698      3\n",
      "148  1.597913  0.120839  1.175892 -0.459440      3\n",
      "149  1.439655 -0.090172  1.017634 -0.723204      3\n",
      "\n",
      "[150 rows x 5 columns]\n",
      "           SL        SW        PL        PW  Class\n",
      "0    0.397402 -0.281465 -1.172476 -1.681626      1\n",
      "1    0.312543 -0.493610 -1.172476 -1.681626      1\n",
      "2    0.227685 -0.408752 -1.214906 -1.681626      1\n",
      "3    0.185256 -0.451181 -1.130047 -1.681626      1\n",
      "4    0.354972 -0.239035 -1.172476 -1.681626      1\n",
      "..        ...       ...       ...       ...    ...\n",
      "145  1.076268 -0.493610  0.439831 -0.790614      3\n",
      "146  0.906551 -0.705756  0.354972 -0.960331      3\n",
      "147  0.991409 -0.493610  0.439831 -0.917902      3\n",
      "148  0.864122 -0.323894  0.524689 -0.790614      3\n",
      "149  0.736835 -0.493610  0.397402 -1.002760      3\n",
      "\n",
      "[150 rows x 5 columns]\n"
     ]
    }
   ],
   "source": [
    "clasificador = ClasificadorKNN()\n",
    "validacionSimple.creaParticiones(dataset3.datos)\n",
    "clasificador.calcularMediaDesviacion(dataset3.datos,dataset3.nominalAtributos)\n",
    "clasificador.normalizarDatos(dataset3.datos,dataset3.nominalAtributos)"
   ]
  },
  {
   "cell_type": "markdown",
   "metadata": {},
   "source": [
    "Mostramos el error mediante un bucle:"
   ]
  },
  {
   "cell_type": "code",
   "execution_count": 406,
   "metadata": {},
   "outputs": [],
   "source": [
    "for i in range(5):\n",
    "    \n",
    "    predicciones = clasificador.clasifica(dataset2.extraeDatos(validacionSimple.particiones[i].indicesTest), dataset2.extraeDatos(validacionSimple.particiones[i].indicesTrain),dataset2.nominalAtributos,K)\n",
    "    \n",
    "    error = clasificador.error(dataset2.extraeDatos(validacionSimple.particiones[i].indicesTest),predicciones)\n",
    "\n",
    "    errores.append(error) "
   ]
  },
  {
   "cell_type": "markdown",
   "metadata": {},
   "source": [
    "El error es:"
   ]
  },
  {
   "cell_type": "code",
   "execution_count": 407,
   "metadata": {},
   "outputs": [
    {
     "name": "stdout",
     "output_type": "stream",
     "text": [
      "15.29%\n"
     ]
    }
   ],
   "source": [
    "err_iris_k3_norm = f'{np.mean(errores) * 100:.2f}%'\n",
    "print(f'{np.mean(errores) * 100:.2f}%')"
   ]
  },
  {
   "cell_type": "markdown",
   "metadata": {},
   "source": [
    "### Para K = 5:"
   ]
  },
  {
   "cell_type": "markdown",
   "metadata": {},
   "source": [
    "#### Sin normalizar los datos:"
   ]
  },
  {
   "cell_type": "markdown",
   "metadata": {},
   "source": [
    "Le doy valor a la K:"
   ]
  },
  {
   "cell_type": "code",
   "execution_count": 408,
   "metadata": {},
   "outputs": [],
   "source": [
    "K = 5"
   ]
  },
  {
   "cell_type": "markdown",
   "metadata": {},
   "source": [
    "Mostramos el error mediante un bucle:"
   ]
  },
  {
   "cell_type": "code",
   "execution_count": 409,
   "metadata": {},
   "outputs": [],
   "source": [
    "for i in range(5):\n",
    "    \n",
    "    predicciones = clasificador.clasifica(dataset3.extraeDatos(validacionSimple.particiones[i].indicesTest), dataset3.extraeDatos(validacionSimple.particiones[i].indicesTrain),dataset3.nominalAtributos,K)\n",
    "    \n",
    "    error = clasificador.error(dataset3.extraeDatos(validacionSimple.particiones[i].indicesTest),predicciones)\n",
    "\n",
    "    errores.append(error) "
   ]
  },
  {
   "cell_type": "markdown",
   "metadata": {},
   "source": [
    "El error es:"
   ]
  },
  {
   "cell_type": "code",
   "execution_count": 410,
   "metadata": {},
   "outputs": [
    {
     "name": "stdout",
     "output_type": "stream",
     "text": [
      "14.47%\n"
     ]
    }
   ],
   "source": [
    "err_iris_k5 = f'{np.mean(errores) * 100:.2f}%'\n",
    "print(f'{np.mean(errores) * 100:.2f}%')"
   ]
  },
  {
   "cell_type": "markdown",
   "metadata": {},
   "source": [
    "#### Normalizando los datos:"
   ]
  },
  {
   "cell_type": "code",
   "execution_count": 411,
   "metadata": {},
   "outputs": [
    {
     "name": "stdout",
     "output_type": "stream",
     "text": [
      "           SL        SW        PL        PW  Class\n",
      "0    0.397402 -0.281465 -1.172476 -1.681626      1\n",
      "1    0.312543 -0.493610 -1.172476 -1.681626      1\n",
      "2    0.227685 -0.408752 -1.214906 -1.681626      1\n",
      "3    0.185256 -0.451181 -1.130047 -1.681626      1\n",
      "4    0.354972 -0.239035 -1.172476 -1.681626      1\n",
      "..        ...       ...       ...       ...    ...\n",
      "145  1.076268 -0.493610  0.439831 -0.790614      3\n",
      "146  0.906551 -0.705756  0.354972 -0.960331      3\n",
      "147  0.991409 -0.493610  0.439831 -0.917902      3\n",
      "148  0.864122 -0.323894  0.524689 -0.790614      3\n",
      "149  0.736835 -0.493610  0.397402 -1.002760      3\n",
      "\n",
      "[150 rows x 5 columns]\n",
      "           SL        SW        PL        PW  Class\n",
      "0    0.189377 -0.357912 -1.076229 -1.486696      1\n",
      "1    0.120966 -0.528940 -1.076229 -1.486696      1\n",
      "2    0.052554 -0.460529 -1.110434 -1.486696      1\n",
      "3    0.018349 -0.494734 -1.042023 -1.486696      1\n",
      "4    0.155171 -0.323707 -1.076229 -1.486696      1\n",
      "..        ...       ...       ...       ...    ...\n",
      "145  0.736666 -0.528940  0.223582 -0.768379      3\n",
      "146  0.599843 -0.699968  0.155171 -0.905201      3\n",
      "147  0.668254 -0.528940  0.223582 -0.870996      3\n",
      "148  0.565638 -0.392118  0.291993 -0.768379      3\n",
      "149  0.463021 -0.528940  0.189377 -0.939407      3\n",
      "\n",
      "[150 rows x 5 columns]\n"
     ]
    }
   ],
   "source": [
    "clasificador = ClasificadorKNN()\n",
    "validacionSimple.creaParticiones(dataset3.datos)\n",
    "clasificador.calcularMediaDesviacion(dataset3.datos,dataset3.nominalAtributos)\n",
    "clasificador.normalizarDatos(dataset3.datos,dataset3.nominalAtributos)"
   ]
  },
  {
   "cell_type": "markdown",
   "metadata": {},
   "source": [
    "Mostramos el error mediante un bucle:"
   ]
  },
  {
   "cell_type": "code",
   "execution_count": 412,
   "metadata": {},
   "outputs": [],
   "source": [
    "for i in range(5):\n",
    "    \n",
    "    predicciones = clasificador.clasifica(dataset2.extraeDatos(validacionSimple.particiones[i].indicesTest), dataset2.extraeDatos(validacionSimple.particiones[i].indicesTrain),dataset2.nominalAtributos,K)\n",
    "    \n",
    "    error = clasificador.error(dataset2.extraeDatos(validacionSimple.particiones[i].indicesTest),predicciones)\n",
    "\n",
    "    errores.append(error) "
   ]
  },
  {
   "cell_type": "markdown",
   "metadata": {},
   "source": [
    "El error es:"
   ]
  },
  {
   "cell_type": "code",
   "execution_count": 413,
   "metadata": {},
   "outputs": [
    {
     "name": "stdout",
     "output_type": "stream",
     "text": [
      "14.56%\n"
     ]
    }
   ],
   "source": [
    "err_iris_k5_norm = f'{np.mean(errores) * 100:.2f}%'\n",
    "print(f'{np.mean(errores) * 100:.2f}%')"
   ]
  },
  {
   "cell_type": "markdown",
   "metadata": {},
   "source": [
    "### Comparación de errores:"
   ]
  },
  {
   "cell_type": "markdown",
   "metadata": {},
   "source": [
    "Errores pima-indians-diabetes:"
   ]
  },
  {
   "cell_type": "code",
   "execution_count": 414,
   "metadata": {},
   "outputs": [
    {
     "name": "stdout",
     "output_type": "stream",
     "text": [
      "Para K = 1:\n",
      "\n",
      "Error para pima-indians-diabetes k=1: 29.21%\n",
      "Error para pima-indians-diabetes k=1 normalizado: 30.53%\n",
      "Para K = 3:\n",
      "\n",
      "Error para pima-indians-diabetes k=3: 30.53%\n",
      "Error para pima-indians-diabetes k=3 normalizado: 30.20%\n",
      "Error para K = 5:\n",
      "\n",
      "Error para pima-indians-diabetes k=5: 30.21%\n",
      "Error para pima-indians-diabetes k=5 normalizado: 28.99%\n"
     ]
    }
   ],
   "source": [
    "print('Para K = 1:')\n",
    "print('Error para pima-indians-diabetes k=1: ' + err_diabetes_k1)\n",
    "print('Error para pima-indians-diabetes k=1 normalizado: ' + err_diabetes_k1_norm)\n",
    "print('\\nPara K = 3:')\n",
    "print('Error para pima-indians-diabetes k=3: ' + err_diabetes_k3)\n",
    "print('Error para pima-indians-diabetes k=3 normalizado: ' + err_diabetes_k3_norm)\n",
    "print('\\nError para K = 5:')\n",
    "print('Error para pima-indians-diabetes k=5: ' + err_diabetes_k5)\n",
    "print('Error para pima-indians-diabetes k=5 normalizado: ' + err_diabetes_k5_norm)\n"
   ]
  },
  {
   "cell_type": "markdown",
   "metadata": {},
   "source": [
    "Errores wdbc:"
   ]
  },
  {
   "cell_type": "code",
   "execution_count": 415,
   "metadata": {},
   "outputs": [
    {
     "name": "stdout",
     "output_type": "stream",
     "text": [
      "Para K = 1:\n",
      "\n",
      "Error para wdbc k=1: 26.23%\n",
      "Error para wdbc k=1 normalizado: 23.71%\n",
      "Para K = 3:\n",
      "\n",
      "Error para wdbc k=3: 21.51%\n",
      "Error para wdbc k=3 normalizado: 19.97%\n",
      "Error para K = 5:\n",
      "\n",
      "Error para wdbc k=5: 18.70%\n",
      "Error para wdbc k=5 normalizado: 17.50%\n"
     ]
    }
   ],
   "source": [
    "print('Para K = 1:')\n",
    "print('Error para wdbc k=1: ' + err_wdbc_k1)\n",
    "print('Error para wdbc k=1 normalizado: ' + err_wdbc_k1_norm)\n",
    "print('\\nPara K = 3:')\n",
    "print('Error para wdbc k=3: ' + err_wdbc_k3)\n",
    "print('Error para wdbc k=3 normalizado: ' + err_wdbc_k3_norm)\n",
    "print('\\nError para K = 5:')\n",
    "print('Error para wdbc k=5: ' + err_wdbc_k5)\n",
    "print('Error para wdbc k=5 normalizado: ' + err_wdbc_k5_norm)"
   ]
  },
  {
   "cell_type": "markdown",
   "metadata": {},
   "source": [
    "Errores iris:"
   ]
  },
  {
   "cell_type": "code",
   "execution_count": 416,
   "metadata": {},
   "outputs": [
    {
     "name": "stdout",
     "output_type": "stream",
     "text": [
      "Para K = 1:\n",
      "\n",
      "Error para iris k=1: 16.46%\n",
      "Error para iris k=1 normalizado: 16.33%\n",
      "Para K = 3:\n",
      "\n",
      "Error para iris k=3: 15.42%\n",
      "Error para iris k=3 normalizado: 15.29%\n",
      "Error para K = 5:\n",
      "\n",
      "Error para iris k=5: 14.47%\n",
      "Error para iris k=5 normalizado: 14.56%\n"
     ]
    }
   ],
   "source": [
    "print('Para K = 1:')\n",
    "print('Error para iris k=1: ' + err_iris_k1)\n",
    "print('Error para iris k=1 normalizado: ' + err_iris_k1_norm)\n",
    "print('\\nPara K = 3:')\n",
    "print('Error para iris k=3: ' + err_iris_k3)\n",
    "print('Error para iris k=3 normalizado: ' + err_iris_k3_norm)\n",
    "print('\\nError para K = 5:')\n",
    "print('Error para iris k=5: ' + err_iris_k5)\n",
    "print('Error para iris k=5 normalizado: ' + err_iris_k5_norm)"
   ]
  },
  {
   "cell_type": "markdown",
   "metadata": {},
   "source": [
    "# Apartado 2: Algoritmo K-Means"
   ]
  },
  {
   "cell_type": "markdown",
   "metadata": {},
   "source": [
    "# Apartado 3: Scikit-learn y comparación"
   ]
  },
  {
   "cell_type": "code",
   "execution_count": 417,
   "metadata": {},
   "outputs": [],
   "source": [
    "dataset1 = pd.read_csv('ConjuntosDatosP2/pima-indians-diabetes.csv')\n",
    "dataset2 = pd.read_csv('ConjuntosDatosP2/wdbc.csv')\n",
    "dataset3 = pd.read_csv('ConjuntosDatosP2/iris.csv')"
   ]
  },
  {
   "cell_type": "markdown",
   "metadata": {},
   "source": [
    "Vamos a utilizar la libreria de scikit-learn para poder ver como se ejecutan los algotirmos anteriormente vistos y con los resultados obtenidos poder compararlos con nuestros propios algoritmos."
   ]
  },
  {
   "cell_type": "markdown",
   "metadata": {},
   "source": [
    "Para esto vamos a utilizar K-NN para los archivos pima-indians-diabetes-csv y wbcd.csv, y K-Means para iris.csv"
   ]
  },
  {
   "cell_type": "markdown",
   "metadata": {},
   "source": [
    "### K-NN para pima-indians-diabetes:"
   ]
  },
  {
   "cell_type": "markdown",
   "metadata": {},
   "source": [
    "Primero cargamos los datos en X y el resultado o clase esperada en la Y:"
   ]
  },
  {
   "cell_type": "code",
   "execution_count": 418,
   "metadata": {},
   "outputs": [],
   "source": [
    "X = dataset1[['Pregs','Plas','Pres','Skin','Test','Mass','Pedi','Age']].values\n",
    "y = dataset1[['Class']].values.ravel()"
   ]
  },
  {
   "cell_type": "markdown",
   "metadata": {},
   "source": [
    "Preparamos el entrenamiento:"
   ]
  },
  {
   "cell_type": "code",
   "execution_count": 419,
   "metadata": {},
   "outputs": [
    {
     "data": {
      "text/html": [
       "<style>#sk-container-id-13 {color: black;background-color: white;}#sk-container-id-13 pre{padding: 0;}#sk-container-id-13 div.sk-toggleable {background-color: white;}#sk-container-id-13 label.sk-toggleable__label {cursor: pointer;display: block;width: 100%;margin-bottom: 0;padding: 0.3em;box-sizing: border-box;text-align: center;}#sk-container-id-13 label.sk-toggleable__label-arrow:before {content: \"▸\";float: left;margin-right: 0.25em;color: #696969;}#sk-container-id-13 label.sk-toggleable__label-arrow:hover:before {color: black;}#sk-container-id-13 div.sk-estimator:hover label.sk-toggleable__label-arrow:before {color: black;}#sk-container-id-13 div.sk-toggleable__content {max-height: 0;max-width: 0;overflow: hidden;text-align: left;background-color: #f0f8ff;}#sk-container-id-13 div.sk-toggleable__content pre {margin: 0.2em;color: black;border-radius: 0.25em;background-color: #f0f8ff;}#sk-container-id-13 input.sk-toggleable__control:checked~div.sk-toggleable__content {max-height: 200px;max-width: 100%;overflow: auto;}#sk-container-id-13 input.sk-toggleable__control:checked~label.sk-toggleable__label-arrow:before {content: \"▾\";}#sk-container-id-13 div.sk-estimator input.sk-toggleable__control:checked~label.sk-toggleable__label {background-color: #d4ebff;}#sk-container-id-13 div.sk-label input.sk-toggleable__control:checked~label.sk-toggleable__label {background-color: #d4ebff;}#sk-container-id-13 input.sk-hidden--visually {border: 0;clip: rect(1px 1px 1px 1px);clip: rect(1px, 1px, 1px, 1px);height: 1px;margin: -1px;overflow: hidden;padding: 0;position: absolute;width: 1px;}#sk-container-id-13 div.sk-estimator {font-family: monospace;background-color: #f0f8ff;border: 1px dotted black;border-radius: 0.25em;box-sizing: border-box;margin-bottom: 0.5em;}#sk-container-id-13 div.sk-estimator:hover {background-color: #d4ebff;}#sk-container-id-13 div.sk-parallel-item::after {content: \"\";width: 100%;border-bottom: 1px solid gray;flex-grow: 1;}#sk-container-id-13 div.sk-label:hover label.sk-toggleable__label {background-color: #d4ebff;}#sk-container-id-13 div.sk-serial::before {content: \"\";position: absolute;border-left: 1px solid gray;box-sizing: border-box;top: 0;bottom: 0;left: 50%;z-index: 0;}#sk-container-id-13 div.sk-serial {display: flex;flex-direction: column;align-items: center;background-color: white;padding-right: 0.2em;padding-left: 0.2em;position: relative;}#sk-container-id-13 div.sk-item {position: relative;z-index: 1;}#sk-container-id-13 div.sk-parallel {display: flex;align-items: stretch;justify-content: center;background-color: white;position: relative;}#sk-container-id-13 div.sk-item::before, #sk-container-id-13 div.sk-parallel-item::before {content: \"\";position: absolute;border-left: 1px solid gray;box-sizing: border-box;top: 0;bottom: 0;left: 50%;z-index: -1;}#sk-container-id-13 div.sk-parallel-item {display: flex;flex-direction: column;z-index: 1;position: relative;background-color: white;}#sk-container-id-13 div.sk-parallel-item:first-child::after {align-self: flex-end;width: 50%;}#sk-container-id-13 div.sk-parallel-item:last-child::after {align-self: flex-start;width: 50%;}#sk-container-id-13 div.sk-parallel-item:only-child::after {width: 0;}#sk-container-id-13 div.sk-dashed-wrapped {border: 1px dashed gray;margin: 0 0.4em 0.5em 0.4em;box-sizing: border-box;padding-bottom: 0.4em;background-color: white;}#sk-container-id-13 div.sk-label label {font-family: monospace;font-weight: bold;display: inline-block;line-height: 1.2em;}#sk-container-id-13 div.sk-label-container {text-align: center;}#sk-container-id-13 div.sk-container {/* jupyter's `normalize.less` sets `[hidden] { display: none; }` but bootstrap.min.css set `[hidden] { display: none !important; }` so we also need the `!important` here to be able to override the default hidden behavior on the sphinx rendered scikit-learn.org. See: https://github.com/scikit-learn/scikit-learn/issues/21755 */display: inline-block !important;position: relative;}#sk-container-id-13 div.sk-text-repr-fallback {display: none;}</style><div id=\"sk-container-id-13\" class=\"sk-top-container\"><div class=\"sk-text-repr-fallback\"><pre>KNeighborsClassifier(metric=&#x27;euclidean&#x27;, n_neighbors=9)</pre><b>In a Jupyter environment, please rerun this cell to show the HTML representation or trust the notebook. <br />On GitHub, the HTML representation is unable to render, please try loading this page with nbviewer.org.</b></div><div class=\"sk-container\" hidden><div class=\"sk-item\"><div class=\"sk-estimator sk-toggleable\"><input class=\"sk-toggleable__control sk-hidden--visually\" id=\"sk-estimator-id-13\" type=\"checkbox\" checked><label for=\"sk-estimator-id-13\" class=\"sk-toggleable__label sk-toggleable__label-arrow\">KNeighborsClassifier</label><div class=\"sk-toggleable__content\"><pre>KNeighborsClassifier(metric=&#x27;euclidean&#x27;, n_neighbors=9)</pre></div></div></div></div></div>"
      ],
      "text/plain": [
       "KNeighborsClassifier(metric='euclidean', n_neighbors=9)"
      ]
     },
     "execution_count": 419,
     "metadata": {},
     "output_type": "execute_result"
    }
   ],
   "source": [
    "# Se divide en train y set\n",
    "X_train, X_test, y_train, y_test = train_test_split(X, y, test_size = 0.2)\n",
    "\n",
    "knn = KNeighborsClassifier(n_neighbors=9, metric='euclidean')\n",
    "\n",
    "knn.fit(X_train, y_train)"
   ]
  },
  {
   "cell_type": "markdown",
   "metadata": {},
   "source": [
    "Miramos las predicciones y la precisión de estas:"
   ]
  },
  {
   "cell_type": "code",
   "execution_count": 420,
   "metadata": {},
   "outputs": [
    {
     "name": "stdout",
     "output_type": "stream",
     "text": [
      "[0 0 0 0 0 1 0 0 1 0 0 0 0 0 0 0 0 0 1 1 1 0 0 0 0 0 0 0 1 0 1 1 0 0 1 1 0\n",
      " 0 0 0 0 1 0 1 0 0 1 0 0 0 1 0 0 0 0 0 1 1 0 0 0 1 0 0 0 0 1 0 0 0 1 0 0 1\n",
      " 1 1 0 0 0 0 0 0 1 1 1 0 0 0 0 1 1 0 1 0 0 1 0 0 0 0 0 0 1 0 0 1 1 1 1 1 0\n",
      " 0 0 1 0 0 0 0 0 0 0 0 0 0 0 0 1 1 0 0 0 0 1 0 1 1 0 0 0 0 0 0 0 0 0 1 0 1\n",
      " 0 0 1 1 0 0]\n",
      "Precisión: 0.7727272727272727\n"
     ]
    }
   ],
   "source": [
    "y_pred = knn.predict(X_test)\n",
    "print(y_pred)\n",
    "\n",
    "acc = knn.score(X_test, y_test)\n",
    "\n",
    "print('Precisión:', acc)"
   ]
  },
  {
   "cell_type": "markdown",
   "metadata": {},
   "source": [
    "Comprobamos la matriz de confusión: "
   ]
  },
  {
   "cell_type": "code",
   "execution_count": 421,
   "metadata": {},
   "outputs": [
    {
     "name": "stdout",
     "output_type": "stream",
     "text": [
      "[[88 14]\n",
      " [21 31]]\n"
     ]
    }
   ],
   "source": [
    "print(confusion_matrix(y_test, y_pred))\n",
    "#Se refiere a:\n",
    "\n",
    "# |Verdaderos Positivos | Falsos negativos    |\n",
    "# |Falsos Positivos     | Verdaderos Negativos|"
   ]
  },
  {
   "cell_type": "markdown",
   "metadata": {},
   "source": [
    "En la matriz, lo ideal es que falsos positivos y negativos sean 0 (aunque un modelo casi nunca será 100% preciso)"
   ]
  },
  {
   "cell_type": "markdown",
   "metadata": {},
   "source": [
    "Hacemos un reporte de clasificación:"
   ]
  },
  {
   "cell_type": "code",
   "execution_count": 422,
   "metadata": {},
   "outputs": [
    {
     "name": "stdout",
     "output_type": "stream",
     "text": [
      "              precision    recall  f1-score   support\n",
      "\n",
      "           0       0.81      0.86      0.83       102\n",
      "           1       0.69      0.60      0.64        52\n",
      "\n",
      "    accuracy                           0.77       154\n",
      "   macro avg       0.75      0.73      0.74       154\n",
      "weighted avg       0.77      0.77      0.77       154\n",
      "\n"
     ]
    }
   ],
   "source": [
    "print(classification_report(y_test, y_pred))"
   ]
  },
  {
   "cell_type": "markdown",
   "metadata": {},
   "source": [
    "Ahora creamos un bucle y escogemos el mejor valor para K-NN:"
   ]
  },
  {
   "cell_type": "code",
   "execution_count": 423,
   "metadata": {},
   "outputs": [
    {
     "name": "stdout",
     "output_type": "stream",
     "text": [
      "Error Mínimo:  0.22727272727272727 en n_neighbor:  9\n"
     ]
    },
    {
     "data": {
      "image/png": "[encoded data removed]",
      "text/plain": [
       "<Figure size 1000x600 with 1 Axes>"
      ]
     },
     "metadata": {},
     "output_type": "display_data"
    }
   ],
   "source": [
    "error_rate = []\n",
    "for i in range(1,10):\n",
    "    knn = KNeighborsClassifier(n_neighbors=i)\n",
    "    knn.fit(X_train,y_train)\n",
    "    pred_i = knn.predict(X_test)\n",
    "    error_rate.append(np.mean(pred_i != y_test))\n",
    "    \n",
    "plt.figure(figsize=(10,6))\n",
    "plt.plot(range(1,10), error_rate, color='blue', linestyle='dashed', marker='o', markerfacecolor='red', markersize=10)\n",
    "plt.title('Error rate vs K-NN value')\n",
    "plt.xlabel('n_neighbors')\n",
    "plt.ylabel('error rate')\n",
    "print('Error Mínimo: ', min(error_rate), 'en n_neighbor: ', error_rate.index(min(error_rate))+1)\n",
    "    "
   ]
  },
  {
   "cell_type": "markdown",
   "metadata": {},
   "source": [
    "El punto más cercano a la zona de abajo será el vecino con el menor índice de error y por tanto el más cercano."
   ]
  },
  {
   "cell_type": "markdown",
   "metadata": {},
   "source": [
    "### K-NN para wdbc:"
   ]
  },
  {
   "cell_type": "markdown",
   "metadata": {},
   "source": [
    "Se repite el mismo proceso de antes:"
   ]
  },
  {
   "cell_type": "code",
   "execution_count": 424,
   "metadata": {},
   "outputs": [
    {
     "name": "stdout",
     "output_type": "stream",
     "text": [
      "['B' 'B' 'M' 'B' 'B' 'B' 'B' 'M' 'M' 'B' 'M' 'B' 'M' 'B' 'M' 'M' 'B' 'B'\n",
      " 'M' 'B' 'M' 'B' 'B' 'M' 'M' 'M' 'M' 'B' 'B' 'B' 'M' 'B' 'M' 'B' 'B' 'B'\n",
      " 'B' 'M' 'B' 'B' 'B' 'B' 'B' 'B' 'M' 'B' 'B' 'B' 'B' 'M' 'B' 'B' 'B' 'B'\n",
      " 'B' 'B' 'B' 'B' 'B' 'M' 'M' 'M' 'B' 'B' 'B' 'B' 'M' 'M' 'B' 'M' 'B' 'B'\n",
      " 'B' 'B' 'B' 'M' 'B' 'M' 'B' 'B' 'B' 'M' 'M' 'M' 'M' 'M' 'M' 'M' 'B' 'B'\n",
      " 'B' 'B' 'B' 'M' 'B' 'M' 'M' 'B' 'B' 'B' 'B' 'M' 'M' 'M' 'B' 'M' 'B' 'B'\n",
      " 'B' 'B' 'M' 'B' 'B' 'B']\n",
      "Precisión: 0.9298245614035088\n",
      "[[67  2]\n",
      " [ 6 39]]\n",
      "              precision    recall  f1-score   support\n",
      "\n",
      "           B       0.92      0.97      0.94        69\n",
      "           M       0.95      0.87      0.91        45\n",
      "\n",
      "    accuracy                           0.93       114\n",
      "   macro avg       0.93      0.92      0.93       114\n",
      "weighted avg       0.93      0.93      0.93       114\n",
      "\n",
      "Error Mínimo:  0.06140350877192982 en n_neighbor:  5\n"
     ]
    },
    {
     "data": {
      "image/png": "[encoded data removed]",
      "text/plain": [
       "<Figure size 1000x600 with 1 Axes>"
      ]
     },
     "metadata": {},
     "output_type": "display_data"
    }
   ],
   "source": [
    "X = dataset2[['Atributo1','Atributo2','Atributo3','Atributo4','Atributo5','Atributo6','Atributo7','Atributo8','Atributo9','Atributo10','Atributo11','Atributo12','Atributo13','Atributo14','Atributo15'\n",
    "              ,'Atributo16','Atributo17','Atributo18','Atributo19','Atributo20','Atributo21','Atributo22','Atributo23','Atributo24','Atributo25','Atributo26','Atributo27','Atributo28','Atributo29','Atributo30']].values\n",
    "y = dataset2[['Class']].values.ravel()\n",
    "\n",
    "# Se divide en train y set\n",
    "X_train, X_test, y_train, y_test = train_test_split(X, y, test_size = 0.2)\n",
    "\n",
    "knn = KNeighborsClassifier(n_neighbors=9, metric='euclidean')\n",
    "\n",
    "knn.fit(X_train, y_train)\n",
    "\n",
    "y_pred = knn.predict(X_test)\n",
    "print(y_pred)\n",
    "\n",
    "acc = knn.score(X_test, y_test)\n",
    "\n",
    "print('Precisión:', acc)\n",
    "\n",
    "print(confusion_matrix(y_test, y_pred))\n",
    "#Se refiere a:\n",
    "\n",
    "# | Verdaderos Positivos | Falsos negativos     |\n",
    "# | Falsos Positivos     | Verdaderos Negativos |\n",
    "\n",
    "# Ideal es que falsos positivos y negativos sean 0 (aunque un modelo casi nunca será 100% preciso)\n",
    "\n",
    "print(classification_report(y_test, y_pred))\n",
    "\n",
    "error_rate = []\n",
    "for i in range(1,10):\n",
    "    knn = KNeighborsClassifier(n_neighbors=i)\n",
    "    knn.fit(X_train,y_train)\n",
    "    pred_i = knn.predict(X_test)\n",
    "    error_rate.append(np.mean(pred_i != y_test))\n",
    "    \n",
    "plt.figure(figsize=(10,6))\n",
    "plt.plot(range(1,10), error_rate, color='blue', linestyle='dashed', marker='o', markerfacecolor='red', markersize=10)\n",
    "plt.title('Error rate vs K-NN value')\n",
    "plt.xlabel('n_neighbors')\n",
    "plt.ylabel('error rate')\n",
    "print('Error Mínimo: ', min(error_rate), 'en n_neighbor: ', error_rate.index(min(error_rate))+1)"
   ]
  },
  {
   "cell_type": "markdown",
   "metadata": {},
   "source": [
    "### K-Means para iris:"
   ]
  },
  {
   "cell_type": "markdown",
   "metadata": {},
   "source": [
    "Empiezo con las características:"
   ]
  },
  {
   "cell_type": "code",
   "execution_count": 425,
   "metadata": {},
   "outputs": [
    {
     "name": "stdout",
     "output_type": "stream",
     "text": [
      "<class 'pandas.core.frame.DataFrame'>\n",
      "RangeIndex: 150 entries, 0 to 149\n",
      "Data columns (total 5 columns):\n",
      " #   Column  Non-Null Count  Dtype  \n",
      "---  ------  --------------  -----  \n",
      " 0   SL      150 non-null    float64\n",
      " 1   SW      150 non-null    float64\n",
      " 2   PL      150 non-null    float64\n",
      " 3   PW      150 non-null    float64\n",
      " 4   Class   150 non-null    object \n",
      "dtypes: float64(4), object(1)\n",
      "memory usage: 6.0+ KB\n"
     ]
    }
   ],
   "source": [
    "dataset3.info()"
   ]
  },
  {
   "cell_type": "code",
   "execution_count": 426,
   "metadata": {},
   "outputs": [
    {
     "data": {
      "text/html": [
       "<div>\n",
       "<style scoped>\n",
       "    .dataframe tbody tr th:only-of-type {\n",
       "        vertical-align: middle;\n",
       "    }\n",
       "\n",
       "    .dataframe tbody tr th {\n",
       "        vertical-align: top;\n",
       "    }\n",
       "\n",
       "    .dataframe thead th {\n",
       "        text-align: right;\n",
       "    }\n",
       "</style>\n",
       "<table border=\"1\" class=\"dataframe\">\n",
       "  <thead>\n",
       "    <tr style=\"text-align: right;\">\n",
       "      <th></th>\n",
       "      <th>SL</th>\n",
       "      <th>SW</th>\n",
       "      <th>PL</th>\n",
       "      <th>PW</th>\n",
       "      <th>Class</th>\n",
       "    </tr>\n",
       "  </thead>\n",
       "  <tbody>\n",
       "    <tr>\n",
       "      <th>0</th>\n",
       "      <td>5.1</td>\n",
       "      <td>3.5</td>\n",
       "      <td>1.4</td>\n",
       "      <td>0.2</td>\n",
       "      <td>Iris-setosa</td>\n",
       "    </tr>\n",
       "    <tr>\n",
       "      <th>1</th>\n",
       "      <td>4.9</td>\n",
       "      <td>3.0</td>\n",
       "      <td>1.4</td>\n",
       "      <td>0.2</td>\n",
       "      <td>Iris-setosa</td>\n",
       "    </tr>\n",
       "    <tr>\n",
       "      <th>2</th>\n",
       "      <td>4.7</td>\n",
       "      <td>3.2</td>\n",
       "      <td>1.3</td>\n",
       "      <td>0.2</td>\n",
       "      <td>Iris-setosa</td>\n",
       "    </tr>\n",
       "    <tr>\n",
       "      <th>3</th>\n",
       "      <td>4.6</td>\n",
       "      <td>3.1</td>\n",
       "      <td>1.5</td>\n",
       "      <td>0.2</td>\n",
       "      <td>Iris-setosa</td>\n",
       "    </tr>\n",
       "    <tr>\n",
       "      <th>4</th>\n",
       "      <td>5.0</td>\n",
       "      <td>3.6</td>\n",
       "      <td>1.4</td>\n",
       "      <td>0.2</td>\n",
       "      <td>Iris-setosa</td>\n",
       "    </tr>\n",
       "  </tbody>\n",
       "</table>\n",
       "</div>"
      ],
      "text/plain": [
       "    SL   SW   PL   PW        Class\n",
       "0  5.1  3.5  1.4  0.2  Iris-setosa\n",
       "1  4.9  3.0  1.4  0.2  Iris-setosa\n",
       "2  4.7  3.2  1.3  0.2  Iris-setosa\n",
       "3  4.6  3.1  1.5  0.2  Iris-setosa\n",
       "4  5.0  3.6  1.4  0.2  Iris-setosa"
      ]
     },
     "execution_count": 426,
     "metadata": {},
     "output_type": "execute_result"
    }
   ],
   "source": [
    "dataset3.head()"
   ]
  },
  {
   "cell_type": "markdown",
   "metadata": {},
   "source": [
    "Miro los valores descriptivos:"
   ]
  },
  {
   "cell_type": "code",
   "execution_count": 427,
   "metadata": {},
   "outputs": [
    {
     "data": {
      "text/html": [
       "<div>\n",
       "<style scoped>\n",
       "    .dataframe tbody tr th:only-of-type {\n",
       "        vertical-align: middle;\n",
       "    }\n",
       "\n",
       "    .dataframe tbody tr th {\n",
       "        vertical-align: top;\n",
       "    }\n",
       "\n",
       "    .dataframe thead th {\n",
       "        text-align: right;\n",
       "    }\n",
       "</style>\n",
       "<table border=\"1\" class=\"dataframe\">\n",
       "  <thead>\n",
       "    <tr style=\"text-align: right;\">\n",
       "      <th></th>\n",
       "      <th>SL</th>\n",
       "      <th>SW</th>\n",
       "      <th>PL</th>\n",
       "      <th>PW</th>\n",
       "    </tr>\n",
       "  </thead>\n",
       "  <tbody>\n",
       "    <tr>\n",
       "      <th>count</th>\n",
       "      <td>150.000000</td>\n",
       "      <td>150.000000</td>\n",
       "      <td>150.000000</td>\n",
       "      <td>150.000000</td>\n",
       "    </tr>\n",
       "    <tr>\n",
       "      <th>mean</th>\n",
       "      <td>5.843333</td>\n",
       "      <td>3.054000</td>\n",
       "      <td>3.758667</td>\n",
       "      <td>1.198667</td>\n",
       "    </tr>\n",
       "    <tr>\n",
       "      <th>std</th>\n",
       "      <td>0.828066</td>\n",
       "      <td>0.433594</td>\n",
       "      <td>1.764420</td>\n",
       "      <td>0.763161</td>\n",
       "    </tr>\n",
       "    <tr>\n",
       "      <th>min</th>\n",
       "      <td>4.300000</td>\n",
       "      <td>2.000000</td>\n",
       "      <td>1.000000</td>\n",
       "      <td>0.100000</td>\n",
       "    </tr>\n",
       "    <tr>\n",
       "      <th>25%</th>\n",
       "      <td>5.100000</td>\n",
       "      <td>2.800000</td>\n",
       "      <td>1.600000</td>\n",
       "      <td>0.300000</td>\n",
       "    </tr>\n",
       "    <tr>\n",
       "      <th>50%</th>\n",
       "      <td>5.800000</td>\n",
       "      <td>3.000000</td>\n",
       "      <td>4.350000</td>\n",
       "      <td>1.300000</td>\n",
       "    </tr>\n",
       "    <tr>\n",
       "      <th>75%</th>\n",
       "      <td>6.400000</td>\n",
       "      <td>3.300000</td>\n",
       "      <td>5.100000</td>\n",
       "      <td>1.800000</td>\n",
       "    </tr>\n",
       "    <tr>\n",
       "      <th>max</th>\n",
       "      <td>7.900000</td>\n",
       "      <td>4.400000</td>\n",
       "      <td>6.900000</td>\n",
       "      <td>2.500000</td>\n",
       "    </tr>\n",
       "  </tbody>\n",
       "</table>\n",
       "</div>"
      ],
      "text/plain": [
       "               SL          SW          PL          PW\n",
       "count  150.000000  150.000000  150.000000  150.000000\n",
       "mean     5.843333    3.054000    3.758667    1.198667\n",
       "std      0.828066    0.433594    1.764420    0.763161\n",
       "min      4.300000    2.000000    1.000000    0.100000\n",
       "25%      5.100000    2.800000    1.600000    0.300000\n",
       "50%      5.800000    3.000000    4.350000    1.300000\n",
       "75%      6.400000    3.300000    5.100000    1.800000\n",
       "max      7.900000    4.400000    6.900000    2.500000"
      ]
     },
     "execution_count": 427,
     "metadata": {},
     "output_type": "execute_result"
    }
   ],
   "source": [
    "dataset3.describe()"
   ]
  },
  {
   "cell_type": "markdown",
   "metadata": {},
   "source": [
    "Normalizamos los valores y los guardo en una nueva variable:"
   ]
  },
  {
   "cell_type": "code",
   "execution_count": 428,
   "metadata": {},
   "outputs": [
    {
     "name": "stdout",
     "output_type": "stream",
     "text": [
      "           SL        SW        PL        PW\n",
      "0    0.222222  0.625000  0.067797  0.041667\n",
      "1    0.166667  0.416667  0.067797  0.041667\n",
      "2    0.111111  0.500000  0.050847  0.041667\n",
      "3    0.083333  0.458333  0.084746  0.041667\n",
      "4    0.194444  0.666667  0.067797  0.041667\n",
      "..        ...       ...       ...       ...\n",
      "145  0.666667  0.416667  0.711864  0.916667\n",
      "146  0.555556  0.208333  0.677966  0.750000\n",
      "147  0.611111  0.416667  0.711864  0.791667\n",
      "148  0.527778  0.583333  0.745763  0.916667\n",
      "149  0.444444  0.416667  0.694915  0.708333\n",
      "\n",
      "[150 rows x 4 columns]\n"
     ]
    }
   ],
   "source": [
    "dataset3_variable = dataset3.drop(['Class'], axis=1)\n",
    "dataset3_norm = (dataset3_variable-dataset3_variable.min())/(dataset3_variable.max()-dataset3_variable.min())\n",
    "print(dataset3_norm)"
   ]
  },
  {
   "cell_type": "markdown",
   "metadata": {},
   "source": [
    "Valores descriptivos normalizados:"
   ]
  },
  {
   "cell_type": "code",
   "execution_count": 429,
   "metadata": {},
   "outputs": [
    {
     "data": {
      "text/html": [
       "<div>\n",
       "<style scoped>\n",
       "    .dataframe tbody tr th:only-of-type {\n",
       "        vertical-align: middle;\n",
       "    }\n",
       "\n",
       "    .dataframe tbody tr th {\n",
       "        vertical-align: top;\n",
       "    }\n",
       "\n",
       "    .dataframe thead th {\n",
       "        text-align: right;\n",
       "    }\n",
       "</style>\n",
       "<table border=\"1\" class=\"dataframe\">\n",
       "  <thead>\n",
       "    <tr style=\"text-align: right;\">\n",
       "      <th></th>\n",
       "      <th>SL</th>\n",
       "      <th>SW</th>\n",
       "      <th>PL</th>\n",
       "      <th>PW</th>\n",
       "    </tr>\n",
       "  </thead>\n",
       "  <tbody>\n",
       "    <tr>\n",
       "      <th>count</th>\n",
       "      <td>150.000000</td>\n",
       "      <td>150.000000</td>\n",
       "      <td>150.000000</td>\n",
       "      <td>150.000000</td>\n",
       "    </tr>\n",
       "    <tr>\n",
       "      <th>mean</th>\n",
       "      <td>0.428704</td>\n",
       "      <td>0.439167</td>\n",
       "      <td>0.467571</td>\n",
       "      <td>0.457778</td>\n",
       "    </tr>\n",
       "    <tr>\n",
       "      <th>std</th>\n",
       "      <td>0.230018</td>\n",
       "      <td>0.180664</td>\n",
       "      <td>0.299054</td>\n",
       "      <td>0.317984</td>\n",
       "    </tr>\n",
       "    <tr>\n",
       "      <th>min</th>\n",
       "      <td>0.000000</td>\n",
       "      <td>0.000000</td>\n",
       "      <td>0.000000</td>\n",
       "      <td>0.000000</td>\n",
       "    </tr>\n",
       "    <tr>\n",
       "      <th>25%</th>\n",
       "      <td>0.222222</td>\n",
       "      <td>0.333333</td>\n",
       "      <td>0.101695</td>\n",
       "      <td>0.083333</td>\n",
       "    </tr>\n",
       "    <tr>\n",
       "      <th>50%</th>\n",
       "      <td>0.416667</td>\n",
       "      <td>0.416667</td>\n",
       "      <td>0.567797</td>\n",
       "      <td>0.500000</td>\n",
       "    </tr>\n",
       "    <tr>\n",
       "      <th>75%</th>\n",
       "      <td>0.583333</td>\n",
       "      <td>0.541667</td>\n",
       "      <td>0.694915</td>\n",
       "      <td>0.708333</td>\n",
       "    </tr>\n",
       "    <tr>\n",
       "      <th>max</th>\n",
       "      <td>1.000000</td>\n",
       "      <td>1.000000</td>\n",
       "      <td>1.000000</td>\n",
       "      <td>1.000000</td>\n",
       "    </tr>\n",
       "  </tbody>\n",
       "</table>\n",
       "</div>"
      ],
      "text/plain": [
       "               SL          SW          PL          PW\n",
       "count  150.000000  150.000000  150.000000  150.000000\n",
       "mean     0.428704    0.439167    0.467571    0.457778\n",
       "std      0.230018    0.180664    0.299054    0.317984\n",
       "min      0.000000    0.000000    0.000000    0.000000\n",
       "25%      0.222222    0.333333    0.101695    0.083333\n",
       "50%      0.416667    0.416667    0.567797    0.500000\n",
       "75%      0.583333    0.541667    0.694915    0.708333\n",
       "max      1.000000    1.000000    1.000000    1.000000"
      ]
     },
     "execution_count": 429,
     "metadata": {},
     "output_type": "execute_result"
    }
   ],
   "source": [
    "dataset3_norm.describe()"
   ]
  },
  {
   "cell_type": "markdown",
   "metadata": {},
   "source": [
    "Búsqueda de la cantidad óptima de clusters:\n",
    "(Calculamos que tan parecidos son los individuos dentro de los clusters)"
   ]
  },
  {
   "cell_type": "code",
   "execution_count": 430,
   "metadata": {},
   "outputs": [],
   "source": [
    "wcss = [] #Suma de los cuadrados\n",
    "\n",
    "for i in range(1,5):\n",
    "    kmeans = KMeans(n_clusters= i, max_iter = 300)\n",
    "    kmeans.fit(dataset3_norm)\n",
    "    wcss.append(kmeans.inertia_)"
   ]
  },
  {
   "cell_type": "markdown",
   "metadata": {},
   "source": [
    "Gráfico de Codo Jambú, el cual utilizamos para saber cual es el número de clusters óptimo, este es el punto en el que deja de disminuir drásticamente:"
   ]
  },
  {
   "cell_type": "code",
   "execution_count": 431,
   "metadata": {},
   "outputs": [
    {
     "data": {
      "image/png": "[encoded data removed]",
      "text/plain": [
       "<Figure size 640x480 with 1 Axes>"
      ]
     },
     "metadata": {},
     "output_type": "display_data"
    }
   ],
   "source": [
    "plt.plot(range(1,5),wcss)\n",
    "plt.title(\"Codo de Jambú\")\n",
    "plt.xlabel('Número de Clusters')\n",
    "plt.ylabel('WCSS')\n",
    "plt.show()"
   ]
  },
  {
   "cell_type": "markdown",
   "metadata": {},
   "source": [
    "### Aplico K-Means a la base de datos"
   ]
  },
  {
   "cell_type": "code",
   "execution_count": 432,
   "metadata": {},
   "outputs": [
    {
     "data": {
      "text/html": [
       "<style>#sk-container-id-14 {color: black;background-color: white;}#sk-container-id-14 pre{padding: 0;}#sk-container-id-14 div.sk-toggleable {background-color: white;}#sk-container-id-14 label.sk-toggleable__label {cursor: pointer;display: block;width: 100%;margin-bottom: 0;padding: 0.3em;box-sizing: border-box;text-align: center;}#sk-container-id-14 label.sk-toggleable__label-arrow:before {content: \"▸\";float: left;margin-right: 0.25em;color: #696969;}#sk-container-id-14 label.sk-toggleable__label-arrow:hover:before {color: black;}#sk-container-id-14 div.sk-estimator:hover label.sk-toggleable__label-arrow:before {color: black;}#sk-container-id-14 div.sk-toggleable__content {max-height: 0;max-width: 0;overflow: hidden;text-align: left;background-color: #f0f8ff;}#sk-container-id-14 div.sk-toggleable__content pre {margin: 0.2em;color: black;border-radius: 0.25em;background-color: #f0f8ff;}#sk-container-id-14 input.sk-toggleable__control:checked~div.sk-toggleable__content {max-height: 200px;max-width: 100%;overflow: auto;}#sk-container-id-14 input.sk-toggleable__control:checked~label.sk-toggleable__label-arrow:before {content: \"▾\";}#sk-container-id-14 div.sk-estimator input.sk-toggleable__control:checked~label.sk-toggleable__label {background-color: #d4ebff;}#sk-container-id-14 div.sk-label input.sk-toggleable__control:checked~label.sk-toggleable__label {background-color: #d4ebff;}#sk-container-id-14 input.sk-hidden--visually {border: 0;clip: rect(1px 1px 1px 1px);clip: rect(1px, 1px, 1px, 1px);height: 1px;margin: -1px;overflow: hidden;padding: 0;position: absolute;width: 1px;}#sk-container-id-14 div.sk-estimator {font-family: monospace;background-color: #f0f8ff;border: 1px dotted black;border-radius: 0.25em;box-sizing: border-box;margin-bottom: 0.5em;}#sk-container-id-14 div.sk-estimator:hover {background-color: #d4ebff;}#sk-container-id-14 div.sk-parallel-item::after {content: \"\";width: 100%;border-bottom: 1px solid gray;flex-grow: 1;}#sk-container-id-14 div.sk-label:hover label.sk-toggleable__label {background-color: #d4ebff;}#sk-container-id-14 div.sk-serial::before {content: \"\";position: absolute;border-left: 1px solid gray;box-sizing: border-box;top: 0;bottom: 0;left: 50%;z-index: 0;}#sk-container-id-14 div.sk-serial {display: flex;flex-direction: column;align-items: center;background-color: white;padding-right: 0.2em;padding-left: 0.2em;position: relative;}#sk-container-id-14 div.sk-item {position: relative;z-index: 1;}#sk-container-id-14 div.sk-parallel {display: flex;align-items: stretch;justify-content: center;background-color: white;position: relative;}#sk-container-id-14 div.sk-item::before, #sk-container-id-14 div.sk-parallel-item::before {content: \"\";position: absolute;border-left: 1px solid gray;box-sizing: border-box;top: 0;bottom: 0;left: 50%;z-index: -1;}#sk-container-id-14 div.sk-parallel-item {display: flex;flex-direction: column;z-index: 1;position: relative;background-color: white;}#sk-container-id-14 div.sk-parallel-item:first-child::after {align-self: flex-end;width: 50%;}#sk-container-id-14 div.sk-parallel-item:last-child::after {align-self: flex-start;width: 50%;}#sk-container-id-14 div.sk-parallel-item:only-child::after {width: 0;}#sk-container-id-14 div.sk-dashed-wrapped {border: 1px dashed gray;margin: 0 0.4em 0.5em 0.4em;box-sizing: border-box;padding-bottom: 0.4em;background-color: white;}#sk-container-id-14 div.sk-label label {font-family: monospace;font-weight: bold;display: inline-block;line-height: 1.2em;}#sk-container-id-14 div.sk-label-container {text-align: center;}#sk-container-id-14 div.sk-container {/* jupyter's `normalize.less` sets `[hidden] { display: none; }` but bootstrap.min.css set `[hidden] { display: none !important; }` so we also need the `!important` here to be able to override the default hidden behavior on the sphinx rendered scikit-learn.org. See: https://github.com/scikit-learn/scikit-learn/issues/21755 */display: inline-block !important;position: relative;}#sk-container-id-14 div.sk-text-repr-fallback {display: none;}</style><div id=\"sk-container-id-14\" class=\"sk-top-container\"><div class=\"sk-text-repr-fallback\"><pre>KMeans(n_clusters=3)</pre><b>In a Jupyter environment, please rerun this cell to show the HTML representation or trust the notebook. <br />On GitHub, the HTML representation is unable to render, please try loading this page with nbviewer.org.</b></div><div class=\"sk-container\" hidden><div class=\"sk-item\"><div class=\"sk-estimator sk-toggleable\"><input class=\"sk-toggleable__control sk-hidden--visually\" id=\"sk-estimator-id-14\" type=\"checkbox\" checked><label for=\"sk-estimator-id-14\" class=\"sk-toggleable__label sk-toggleable__label-arrow\">KMeans</label><div class=\"sk-toggleable__content\"><pre>KMeans(n_clusters=3)</pre></div></div></div></div></div>"
      ],
      "text/plain": [
       "KMeans(n_clusters=3)"
      ]
     },
     "execution_count": 432,
     "metadata": {},
     "output_type": "execute_result"
    }
   ],
   "source": [
    "clustering = KMeans(n_clusters=3, max_iter = 300) #Crea el modelo\n",
    "clustering.fit(dataset3_norm) #Aplica el modelo a la base de datos"
   ]
  },
  {
   "cell_type": "markdown",
   "metadata": {},
   "source": [
    "Agrego la clasificación al archivo original:"
   ]
  },
  {
   "cell_type": "code",
   "execution_count": 433,
   "metadata": {},
   "outputs": [
    {
     "name": "stdout",
     "output_type": "stream",
     "text": [
      "      SL   SW   PL   PW           Class  KMeans_Clusters\n",
      "0    5.1  3.5  1.4  0.2     Iris-setosa                0\n",
      "1    4.9  3.0  1.4  0.2     Iris-setosa                0\n",
      "2    4.7  3.2  1.3  0.2     Iris-setosa                0\n",
      "3    4.6  3.1  1.5  0.2     Iris-setosa                0\n",
      "4    5.0  3.6  1.4  0.2     Iris-setosa                0\n",
      "..   ...  ...  ...  ...             ...              ...\n",
      "145  6.7  3.0  5.2  2.3  Iris-virginica                2\n",
      "146  6.3  2.5  5.0  1.9  Iris-virginica                1\n",
      "147  6.5  3.0  5.2  2.0  Iris-virginica                2\n",
      "148  6.2  3.4  5.4  2.3  Iris-virginica                2\n",
      "149  5.9  3.0  5.1  1.8  Iris-virginica                1\n",
      "\n",
      "[150 rows x 6 columns]\n"
     ]
    }
   ],
   "source": [
    "dataset3['KMeans_Clusters'] = clustering.labels_ #Los resultados del clustering se guardan en labels_ dentro del modelo\n",
    "print(dataset3)"
   ]
  },
  {
   "cell_type": "markdown",
   "metadata": {},
   "source": [
    "### Clusters formados:\n",
    "(Aplicaremos el análisis de componentes principales)"
   ]
  },
  {
   "cell_type": "code",
   "execution_count": 434,
   "metadata": {},
   "outputs": [
    {
     "name": "stdout",
     "output_type": "stream",
     "text": [
      "     Componente_1  Componente_2  KMeans_Clusters\n",
      "0       -0.630361      0.111556                0\n",
      "1       -0.623546     -0.100313                0\n",
      "2       -0.669793     -0.047220                0\n",
      "3       -0.654633     -0.098791                0\n",
      "4       -0.648263      0.137558                0\n",
      "..            ...           ...              ...\n",
      "145      0.551755      0.058990                2\n",
      "146      0.406278     -0.172227                1\n",
      "147      0.447293      0.036996                2\n",
      "148      0.489218      0.149121                2\n",
      "149      0.312079     -0.031151                1\n",
      "\n",
      "[150 rows x 3 columns]\n"
     ]
    }
   ],
   "source": [
    "pca = PCA(n_components=2)\n",
    "pca_iris = pca.fit_transform(dataset3_norm)\n",
    "pca_iris_df = pd.DataFrame(data = pca_iris, columns = ['Componente_1','Componente_2'])\n",
    "pca_ir = pd.concat([pca_iris_df, dataset3[['KMeans_Clusters']]], axis=1)\n",
    "\n",
    "print(pca_ir)"
   ]
  },
  {
   "cell_type": "markdown",
   "metadata": {},
   "source": [
    "Creo la gráfica:"
   ]
  },
  {
   "cell_type": "code",
   "execution_count": 435,
   "metadata": {},
   "outputs": [
    {
     "data": {
      "image/png": "[encoded data removed]",
      "text/plain": [
       "<Figure size 600x600 with 1 Axes>"
      ]
     },
     "metadata": {},
     "output_type": "display_data"
    }
   ],
   "source": [
    "fig = plt.figure(figsize=(6,6))\n",
    "\n",
    "ax = fig.add_subplot(1,1,1)\n",
    "ax.set_xlabel('Componente 1', fontsize = 15)\n",
    "ax.set_ylabel('Componente 2', fontsize = 15)\n",
    "ax.set_title('Componentes Principales', fontsize = 20)\n",
    "\n",
    "color_theme = np.array([\"blue\",\"green\",\"orange\"])\n",
    "ax.scatter(x=pca_ir.Componente_1, y=pca_ir.Componente_2, c=color_theme[pca_ir.KMeans_Clusters], s=30)\n",
    "\n",
    "plt.show()"
   ]
  }
 ],
 "metadata": {
  "kernelspec": {
   "display_name": "Python 3.10.6 64-bit",
   "language": "python",
   "name": "python3"
  },
  "language_info": {
   "codemirror_mode": {
    "name": "ipython",
    "version": 3
   },
   "file_extension": ".py",
   "mimetype": "text/x-python",
   "name": "python",
   "nbconvert_exporter": "python",
   "pygments_lexer": "ipython3",
   "version": "3.10.6"
  },
  "orig_nbformat": 4,
  "vscode": {
   "interpreter": {
    "hash": "916dbcbb3f70747c44a77c7bcd40155683ae19c65e1c03b4aa3499c5328201f1"
   }
  }
 },
 "nbformat": 4,
 "nbformat_minor": 2
}
