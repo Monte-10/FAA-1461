{
 "cells": [
  {
   "cell_type": "markdown",
   "metadata": {},
   "source": [
    "# Fundamentos de Aprendizaje Automático\n",
    "## _Práctica 2: K-NN y K-MEANS_\n",
    "### _Grupo 1461_\n",
    "#### _Rubén Torralba Manso y Alejandro Monterrubio Navarro_"
   ]
  },
  {
   "cell_type": "markdown",
   "metadata": {},
   "source": [
    "Importes:"
   ]
  },
  {
   "cell_type": "code",
   "execution_count": 2,
   "metadata": {},
   "outputs": [],
   "source": [
    "import pandas as pd\n",
    "import numpy as np\n",
    "import matplotlib.pyplot as plt\n",
    "from matplotlib.colors import ListedColormap\n",
    "import sklearn as sk\n",
    "import matplotlib.patches as mpatches\n",
    "from sklearn.model_selection import train_test_split\n",
    "from sklearn.preprocessing import MinMaxScaler\n",
    "from sklearn.neighbors import KNeighborsClassifier\n",
    "from sklearn.metrics import classification_report\n",
    "from sklearn.metrics import confusion_matrix\n",
    "from sklearn.model_selection import train_test_split\n",
    "from abc import ABCMeta,abstractmethod\n",
    "import numpy as np\n",
    "from Datos import Datos\n",
    "from Clasificador import *\n",
    "from ClasificadorKNN import * \n",
    "import EstrategiaParticionado as EstrategiaParticionado\n",
    "import matplotlib.pyplot as plt\n",
    "from sklearn.cluster import KMeans\n",
    "from sklearn.decomposition import PCA\n",
    "from EstrategiaParticionado import ValidacionSimple as validacionSimple\n",
    "from ClusteringKMeans import KMeans"
   ]
  },
  {
   "cell_type": "markdown",
   "metadata": {},
   "source": [
    "Carga de datasets:"
   ]
  },
  {
   "cell_type": "code",
   "execution_count": 3,
   "metadata": {},
   "outputs": [],
   "source": [
    "dataset1 = Datos('ConjuntosDatosP2/pima-indians-diabetes.csv')\n",
    "dataset2 = Datos('ConjuntosDatosP2/wdbc.csv')\n",
    "dataset3 = Datos('ConjuntosDatosP2/iris.csv')"
   ]
  },
  {
   "cell_type": "markdown",
   "metadata": {},
   "source": [
    "### Decisiones de diseño:"
   ]
  },
  {
   "cell_type": "markdown",
   "metadata": {},
   "source": [
    " A la hora de realizar el diseño, tomamos una decisión inicial que creíamos sería óptima, pero una vez realizada la práctica hemos llegado a la conclusión de que no así. La clase ideal para ubicar los métodos de normalización de los datos sería en la propia clase Datos. De esta forma, todas las operaciones que se hagan sobre un dataset, queda en la clase que se dedica a trabajar sobre este. El inconveniente que tiene ubicarlo en la clase Clasificador, que es como lo hemos hecho nosotros, es que cada vez que quieras normalizar los datos quedas supeditado a tener creado un objeto clasificador que seguramente ni necesites, quizá porque no estas clasificando y simplemente quieres normalizar datos de un dataset por otro motivo. Lo ideal es tener las operaciones sobre datos, en la clase Datos. Como nos hemos dado cuenta a posteriori, lo mantenemos así en nuestro código "
   ]
  },
  {
   "cell_type": "markdown",
   "metadata": {},
   "source": [
    "# Apartado 1: Algoritmo K-NN"
   ]
  },
  {
   "cell_type": "markdown",
   "metadata": {},
   "source": [
    "Hacemos que el clasificador sea K-NN y cargo su dataset:"
   ]
  },
  {
   "cell_type": "code",
   "execution_count": 12,
   "metadata": {},
   "outputs": [],
   "source": [
    "errores = []\n",
    "NParticiones = 5\n",
    "validacionSimple = EstrategiaParticionado.ValidacionSimple(10,NParticiones)\n",
    "clasificador = ClasificadorKNN()"
   ]
  },
  {
   "cell_type": "markdown",
   "metadata": {},
   "source": [
    "Vamos a estudiar el algoritmo para diferentes valores de K: 1,3,5,7... Estos valores deben ser impares para que no quepa lugar a posibles empates. Tras cada ejecución haremos alguna discusión sobre los resultados y finalmente trataremos de llegar a alguna conclusión después de discutir los resultados. "
   ]
  },
  {
   "cell_type": "markdown",
   "metadata": {},
   "source": [
    "### Pima-indians-diabetes:"
   ]
  },
  {
   "cell_type": "markdown",
   "metadata": {},
   "source": [
    "Como no es el objetivo principal de esta práctica y para simplificar y acortar la valoración de los resultados, vamos a realizar todas las pruebas con una estrategia de particionado simple reservando un 10% para los índices de test, y con 5 particiones sobre los indices."
   ]
  },
  {
   "cell_type": "code",
   "execution_count": 14,
   "metadata": {},
   "outputs": [],
   "source": [
    "validacionSimple.creaParticiones(dataset1.datos)"
   ]
  },
  {
   "cell_type": "markdown",
   "metadata": {},
   "source": [
    "## K = 1"
   ]
  },
  {
   "cell_type": "markdown",
   "metadata": {},
   "source": [
    "#### Sin normalizar los datos:\n",
    "Como bien sabemos, K-NN muestra un rendimiento de O(1) en una version óptima si no normalizamos los datos. Y de la forma en la que hemos realizado nuestra implementación no es necesario que el clasificador se guarde la información del dataset si este no se va a normalizar, por lo que no hemos visto necesario llamar al metodo entrenamiento si no queremos normalizar los valores del dataset.  "
   ]
  },
  {
   "cell_type": "code",
   "execution_count": 15,
   "metadata": {},
   "outputs": [],
   "source": [
    "K = 1"
   ]
  },
  {
   "cell_type": "code",
   "execution_count": 16,
   "metadata": {},
   "outputs": [],
   "source": [
    "for i in range(NParticiones):\n",
    "    \n",
    "    predicciones = clasificador.clasifica(dataset1.extraeDatos(validacionSimple.particiones[i].indicesTest), dataset1.extraeDatos(validacionSimple.particiones[i].indicesTrain),dataset1.nominalAtributos,K)\n",
    "    \n",
    "    error = clasificador.error(dataset1.extraeDatos(validacionSimple.particiones[i].indicesTest),predicciones)\n",
    "\n",
    "    errores.append(error) "
   ]
  },
  {
   "cell_type": "code",
   "execution_count": 17,
   "metadata": {},
   "outputs": [
    {
     "name": "stdout",
     "output_type": "stream",
     "text": [
      "El error para K = 1 sin normalizar los datos es: 31.32%\n"
     ]
    }
   ],
   "source": [
    "err_diabetes_k1 = f'{np.mean(errores) * 100:.2f}%'\n",
    "print(f'El error para K = 1 sin normalizar los datos es: {np.mean(errores) * 100:.2f}%')"
   ]
  },
  {
   "cell_type": "markdown",
   "metadata": {},
   "source": [
    "#### Normalizando los datos:"
   ]
  },
  {
   "cell_type": "code",
   "execution_count": 29,
   "metadata": {},
   "outputs": [],
   "source": [
    "dataset1.datos = clasificador.entrenamiento(dataset1.datos, dataset1.nominalAtributos)\n"
   ]
  },
  {
   "cell_type": "code",
   "execution_count": 33,
   "metadata": {},
   "outputs": [],
   "source": [
    "for i in range(NParticiones):\n",
    "    \n",
    "    predicciones = clasificador.clasifica(dataset1.extraeDatos(validacionSimple.particiones[i].indicesTest), dataset1.extraeDatos(validacionSimple.particiones[i].indicesTrain),dataset1.nominalAtributos,K)\n",
    "    \n",
    "    error = clasificador.error(dataset1.extraeDatos(validacionSimple.particiones[i].indicesTest),predicciones)\n",
    "\n",
    "    errores.append(error) "
   ]
  },
  {
   "cell_type": "code",
   "execution_count": 34,
   "metadata": {},
   "outputs": [
    {
     "name": "stdout",
     "output_type": "stream",
     "text": [
      "El error para K = 1 con los datos normalizados es: 30.18%\n"
     ]
    }
   ],
   "source": [
    "err_diabetes_k1_norm = f'{np.mean(errores) * 100:.2f}%'\n",
    "print(f'El error para K = 1 con los datos normalizados es: {np.mean(errores) * 100:.2f}%')"
   ]
  },
  {
   "cell_type": "markdown",
   "metadata": {},
   "source": [
    "Es evidente que no nos podemos fiar del algoritmo con un valor de K = 1. En este caso, el algoritmo depende únicamente del orden en el que se hayan estudiado los distintos patrones respecto al resto y no por el numero de vecinos dentro de una zona. Por lo tanto el valor de la predicción para este caso no es valido. \n",
    "\n",
    "Pasemos a estudiar el algoritmo para valores de K validos"
   ]
  },
  {
   "cell_type": "markdown",
   "metadata": {},
   "source": [
    "### K = 3:"
   ]
  },
  {
   "cell_type": "markdown",
   "metadata": {},
   "source": [
    "#### Sin normalizar los datos:"
   ]
  },
  {
   "cell_type": "code",
   "execution_count": 49,
   "metadata": {},
   "outputs": [],
   "source": [
    "dataset1 = Datos('ConjuntosDatosP2/pima-indians-diabetes.csv')\n",
    "K = 3"
   ]
  },
  {
   "cell_type": "code",
   "execution_count": 50,
   "metadata": {},
   "outputs": [],
   "source": [
    "errores = []\n",
    "for i in range(NParticiones):\n",
    "    \n",
    "    predicciones = clasificador.clasifica(dataset1.extraeDatos(validacionSimple.particiones[i].indicesTest), dataset1.extraeDatos(validacionSimple.particiones[i].indicesTrain),dataset1.nominalAtributos,K)\n",
    "    \n",
    "    error = clasificador.error(dataset1.extraeDatos(validacionSimple.particiones[i].indicesTest),predicciones)\n",
    "\n",
    "    errores.append(error) "
   ]
  },
  {
   "cell_type": "code",
   "execution_count": 51,
   "metadata": {
    "scrolled": true
   },
   "outputs": [
    {
     "name": "stdout",
     "output_type": "stream",
     "text": [
      "El error para el dataset sin normalizar y un valor de K = 3 es: 30.26%\n"
     ]
    }
   ],
   "source": [
    "err_diabetes_k3 = f'{np.mean(errores) * 100:.2f}%'\n",
    "print(f'El error para el dataset sin normalizar y un valor de K = 3 es: {np.mean(errores) * 100:.2f}%')"
   ]
  },
  {
   "cell_type": "markdown",
   "metadata": {},
   "source": [
    "Sin duda, el algoritmo no muestra un buen porcentaje de acierto para este dataset en concreto, al menos sin normalizar los datos, veamos si los normalizamos.."
   ]
  },
  {
   "cell_type": "markdown",
   "metadata": {},
   "source": [
    "#### Normalizando los datos:"
   ]
  },
  {
   "cell_type": "code",
   "execution_count": 52,
   "metadata": {},
   "outputs": [],
   "source": [
    "dataset1.datos = clasificador.entrenamiento(dataset1.datos, dataset1.nominalAtributos)"
   ]
  },
  {
   "cell_type": "markdown",
   "metadata": {},
   "source": [
    "Mostramos el error mediante un bucle:"
   ]
  },
  {
   "cell_type": "code",
   "execution_count": 53,
   "metadata": {},
   "outputs": [],
   "source": [
    "errores = []\n",
    "for i in range(NParticiones):\n",
    "    \n",
    "    predicciones = clasificador.clasifica(dataset1.extraeDatos(validacionSimple.particiones[i].indicesTest), dataset1.extraeDatos(validacionSimple.particiones[i].indicesTrain),dataset1.nominalAtributos,K)\n",
    "    \n",
    "    error = clasificador.error(dataset1.extraeDatos(validacionSimple.particiones[i].indicesTest),predicciones)\n",
    "\n",
    "    errores.append(error) "
   ]
  },
  {
   "cell_type": "code",
   "execution_count": 54,
   "metadata": {},
   "outputs": [
    {
     "name": "stdout",
     "output_type": "stream",
     "text": [
      "El error para valores normalizados y un valor de K = 3 25.00%\n"
     ]
    }
   ],
   "source": [
    "err_diabetes_k3_norm = f'{np.mean(errores) * 100:.2f}%'\n",
    "print(f'El error para valores normalizados y un valor de K = 3 {np.mean(errores) * 100:.2f}%')"
   ]
  },
  {
   "cell_type": "markdown",
   "metadata": {},
   "source": [
    "Observamos que si normalizamos los datos el dataset gana algo más de 5 puntos de fiabilidad respecto al mismo sin normalizar. Observando el csv apreciamos que los campos tienen gran diferencia entre ellos. Algunos son valores extremadamente pequeños y otros son grandes. Lo que hace que pueden representar diferentes pesos e influenciar negativamente sobre los calculos si no los normalizamos. "
   ]
  },
  {
   "cell_type": "markdown",
   "metadata": {},
   "source": [
    "### K = 5:"
   ]
  },
  {
   "cell_type": "markdown",
   "metadata": {},
   "source": [
    "#### Sin normalizar los datos:"
   ]
  },
  {
   "cell_type": "code",
   "execution_count": 57,
   "metadata": {},
   "outputs": [],
   "source": [
    "dataset1 = Datos('ConjuntosDatosP2/pima-indians-diabetes.csv')\n",
    "K = 5"
   ]
  },
  {
   "cell_type": "code",
   "execution_count": 58,
   "metadata": {},
   "outputs": [],
   "source": [
    "errores = []\n",
    "for i in range(NParticiones):\n",
    "    \n",
    "    predicciones = clasificador.clasifica(dataset1.extraeDatos(validacionSimple.particiones[i].indicesTest), dataset1.extraeDatos(validacionSimple.particiones[i].indicesTrain),dataset1.nominalAtributos,K)\n",
    "    \n",
    "    error = clasificador.error(dataset1.extraeDatos(validacionSimple.particiones[i].indicesTest),predicciones)\n",
    "\n",
    "    errores.append(error) "
   ]
  },
  {
   "cell_type": "code",
   "execution_count": 59,
   "metadata": {},
   "outputs": [
    {
     "name": "stdout",
     "output_type": "stream",
     "text": [
      "El error para los datos sin normalizar y valor de K = 5: 30.26%\n"
     ]
    }
   ],
   "source": [
    "err_diabetes_k5 = f'{np.mean(errores) * 100:.2f}%'\n",
    "print(f'El error para los datos sin normalizar y valor de K = 5: {np.mean(errores) * 100:.2f}%')"
   ]
  },
  {
   "cell_type": "markdown",
   "metadata": {},
   "source": [
    "#### Normalizando los datos:"
   ]
  },
  {
   "cell_type": "code",
   "execution_count": 60,
   "metadata": {},
   "outputs": [],
   "source": [
    "dataset1.datos = clasificador.entrenamiento(dataset1.datos, dataset1.nominalAtributos)"
   ]
  },
  {
   "cell_type": "code",
   "execution_count": 61,
   "metadata": {},
   "outputs": [],
   "source": [
    "errores = []\n",
    "for i in range(NParticiones):\n",
    "    \n",
    "    predicciones = clasificador.clasifica(dataset1.extraeDatos(validacionSimple.particiones[i].indicesTest), dataset1.extraeDatos(validacionSimple.particiones[i].indicesTrain),dataset1.nominalAtributos,K)\n",
    "    \n",
    "    error = clasificador.error(dataset1.extraeDatos(validacionSimple.particiones[i].indicesTest),predicciones)\n",
    "\n",
    "    errores.append(error) "
   ]
  },
  {
   "cell_type": "code",
   "execution_count": 62,
   "metadata": {
    "scrolled": true
   },
   "outputs": [
    {
     "name": "stdout",
     "output_type": "stream",
     "text": [
      "El error para K = 5 y los datos normalizados: 22.11%\n"
     ]
    }
   ],
   "source": [
    "err_diabetes_k5_norm = f'{np.mean(errores) * 100:.2f}%'\n",
    "print(f'El error para K = 5 y los datos normalizados: {np.mean(errores) * 100:.2f}%')"
   ]
  },
  {
   "cell_type": "markdown",
   "metadata": {},
   "source": [
    "### K = 7:"
   ]
  },
  {
   "cell_type": "markdown",
   "metadata": {},
   "source": [
    "#### Sin normalizar los datos:"
   ]
  },
  {
   "cell_type": "code",
   "execution_count": 98,
   "metadata": {},
   "outputs": [],
   "source": [
    "dataset1 = Datos('ConjuntosDatosP2/pima-indians-diabetes.csv')\n",
    "K = 7"
   ]
  },
  {
   "cell_type": "code",
   "execution_count": 99,
   "metadata": {},
   "outputs": [],
   "source": [
    "errores = []\n",
    "for i in range(NParticiones):\n",
    "    \n",
    "    predicciones = clasificador.clasifica(dataset1.extraeDatos(validacionSimple.particiones[i].indicesTest), dataset1.extraeDatos(validacionSimple.particiones[i].indicesTrain),dataset1.nominalAtributos,K)\n",
    "    \n",
    "    error = clasificador.error(dataset1.extraeDatos(validacionSimple.particiones[i].indicesTest),predicciones)\n",
    "\n",
    "    errores.append(error) "
   ]
  },
  {
   "cell_type": "code",
   "execution_count": 100,
   "metadata": {},
   "outputs": [
    {
     "name": "stdout",
     "output_type": "stream",
     "text": [
      "El error para los datos sin normalizar y valor de K = 7: 32.14%\n"
     ]
    }
   ],
   "source": [
    "err_diabetes_k7 = f'{np.mean(errores) * 100:.2f}%'\n",
    "print(f'El error para los datos sin normalizar y valor de K = 7: {np.mean(errores) * 100:.2f}%')"
   ]
  },
  {
   "cell_type": "markdown",
   "metadata": {},
   "source": [
    "#### Normalizando los datos:"
   ]
  },
  {
   "cell_type": "code",
   "execution_count": 101,
   "metadata": {},
   "outputs": [],
   "source": [
    "dataset1.datos = clasificador.entrenamiento(dataset1.datos, dataset1.nominalAtributos)"
   ]
  },
  {
   "cell_type": "markdown",
   "metadata": {},
   "source": [
    "Mostramos el error mediante un bucle:"
   ]
  },
  {
   "cell_type": "code",
   "execution_count": 102,
   "metadata": {},
   "outputs": [],
   "source": [
    "errores = []\n",
    "for i in range(NParticiones):\n",
    "    \n",
    "    predicciones = clasificador.clasifica(dataset1.extraeDatos(validacionSimple.particiones[i].indicesTest), dataset1.extraeDatos(validacionSimple.particiones[i].indicesTrain),dataset1.nominalAtributos,K)\n",
    "    \n",
    "    error = clasificador.error(dataset1.extraeDatos(validacionSimple.particiones[i].indicesTest),predicciones)\n",
    "\n",
    "    errores.append(error) "
   ]
  },
  {
   "cell_type": "code",
   "execution_count": 103,
   "metadata": {
    "scrolled": true
   },
   "outputs": [
    {
     "name": "stdout",
     "output_type": "stream",
     "text": [
      "El error para K = 5 y los datos normalizados: 26.79%\n"
     ]
    }
   ],
   "source": [
    "err_diabetes_k7_norm = f'{np.mean(errores) * 100:.2f}%'\n",
    "print(f'El error para K = 5 y los datos normalizados: {np.mean(errores) * 100:.2f}%')"
   ]
  },
  {
   "cell_type": "markdown",
   "metadata": {},
   "source": [
    "Vemos que, aumentar el valor de K, mejora los resultados unicamente en el dataset normalizado. Esto se debe a que los valores del dataset original resulta en cálculos algo imprecisos y resultados poco fiables. Recalcar que se debe a las caracterisicas de este dataset en particular. Luego veremos que con wdbc no sucede lo mismo"
   ]
  },
  {
   "cell_type": "code",
   "execution_count": 104,
   "metadata": {},
   "outputs": [
    {
     "name": "stdout",
     "output_type": "stream",
     "text": [
      "K = 1:\n",
      "Error para diabetes k=1: 31.32%\n",
      "Error para diabetes k=1 normalizado: 30.18%\n",
      "\n",
      "K = 3:\n",
      "Error para diabetes k=3: 30.26%\n",
      "Error para diabetes k=3 normalizado: 25.00%\n",
      "\n",
      "K = 5:\n",
      "Error para diabetes k=5: 30.26%\n",
      "Error para diabetes k=5 normalizado: 22.11%\n",
      "\n",
      "K = 7:\n",
      "Error para diabetes k=7: 32.14%\n",
      "Error para diabetes k=7 normalizado: 26.79%\n"
     ]
    }
   ],
   "source": [
    "print('K = 1:')\n",
    "print('Error para diabetes k=1: ' + err_diabetes_k1)\n",
    "print('Error para diabetes k=1 normalizado: ' + err_diabetes_k1_norm)\n",
    "print('\\nK = 3:')\n",
    "print('Error para diabetes k=3: ' + err_diabetes_k3)\n",
    "print('Error para diabetes k=3 normalizado: ' + err_diabetes_k3_norm)\n",
    "print('\\nK = 5:')\n",
    "print('Error para diabetes k=5: ' + err_diabetes_k5)\n",
    "print('Error para diabetes k=5 normalizado: ' + err_diabetes_k5_norm)\n",
    "print('\\nK = 7:')\n",
    "print('Error para diabetes k=7: ' + err_diabetes_k7)\n",
    "print('Error para diabetes k=7 normalizado: ' + err_diabetes_k7_norm)"
   ]
  },
  {
   "cell_type": "markdown",
   "metadata": {},
   "source": [
    "Apreciamos que los valores del dataset normalizado mejoran bastante respecto a este mismo sin normalizar. Además, como ya hemos comentado, los valores de k=1 son despreciables y no nos sirven como solución. Si apreciamos el valor de k desde el que comienzan a empeorar los resultados: k = 5. vemos que para k = 7 obtenemos un mayor porcentaje de error."
   ]
  },
  {
   "cell_type": "markdown",
   "metadata": {},
   "source": [
    "## Wdbc"
   ]
  },
  {
   "cell_type": "code",
   "execution_count": 66,
   "metadata": {},
   "outputs": [],
   "source": [
    "validacionSimple.creaParticiones(dataset2.datos)"
   ]
  },
  {
   "cell_type": "markdown",
   "metadata": {},
   "source": [
    "### K = 1,3,5,7:"
   ]
  },
  {
   "cell_type": "markdown",
   "metadata": {},
   "source": [
    "En este caso, vamos a ser algo menos descriptivos con el proceso y si más incisivos con la comparación de los resultados. \n"
   ]
  },
  {
   "cell_type": "code",
   "execution_count": 67,
   "metadata": {},
   "outputs": [],
   "source": [
    "K = 1"
   ]
  },
  {
   "cell_type": "code",
   "execution_count": 68,
   "metadata": {},
   "outputs": [],
   "source": [
    "errores1 = []\n",
    "for i in range(NParticiones):\n",
    "    \n",
    "    predicciones = clasificador.clasifica(dataset2.extraeDatos(validacionSimple.particiones[i].indicesTest), dataset2.extraeDatos(validacionSimple.particiones[i].indicesTrain),dataset2.nominalAtributos,K)\n",
    "    \n",
    "    error = clasificador.error(dataset2.extraeDatos(validacionSimple.particiones[i].indicesTest),predicciones)\n",
    "\n",
    "    errores1.append(error) \n",
    "\n",
    "dataset2.datos = clasificador.entrenamiento(dataset2.datos, dataset2.nominalAtributos)\n",
    "\n",
    "errores1Norm = []    \n",
    "\n",
    "for i in range(NParticiones):\n",
    "    \n",
    "    predicciones = clasificador.clasifica(dataset2.extraeDatos(validacionSimple.particiones[i].indicesTest), dataset2.extraeDatos(validacionSimple.particiones[i].indicesTrain),dataset2.nominalAtributos,K)\n",
    "    \n",
    "    error = clasificador.error(dataset2.extraeDatos(validacionSimple.particiones[i].indicesTest),predicciones)\n",
    "\n",
    "    errores1Norm.append(error) \n",
    "    \n",
    "dataset2 = Datos('ConjuntosDatosP2/wdbc.csv')\n",
    "K = 3\n",
    "\n",
    "errores3 = []\n",
    "for i in range(NParticiones):\n",
    "    \n",
    "    predicciones = clasificador.clasifica(dataset2.extraeDatos(validacionSimple.particiones[i].indicesTest), dataset2.extraeDatos(validacionSimple.particiones[i].indicesTrain),dataset2.nominalAtributos,K)\n",
    "    \n",
    "    error = clasificador.error(dataset2.extraeDatos(validacionSimple.particiones[i].indicesTest),predicciones)\n",
    "\n",
    "    errores3.append(error) \n",
    "\n",
    "dataset2.datos = clasificador.entrenamiento(dataset2.datos, dataset2.nominalAtributos)\n",
    "\n",
    "errores3Norm = []    \n",
    "\n",
    "for i in range(NParticiones):\n",
    "    \n",
    "    predicciones = clasificador.clasifica(dataset2.extraeDatos(validacionSimple.particiones[i].indicesTest), dataset2.extraeDatos(validacionSimple.particiones[i].indicesTrain),dataset2.nominalAtributos,K)\n",
    "    \n",
    "    error = clasificador.error(dataset2.extraeDatos(validacionSimple.particiones[i].indicesTest),predicciones)\n",
    "\n",
    "    errores3Norm.append(error) \n",
    "    \n",
    "\n",
    "dataset2 = Datos('ConjuntosDatosP2/wdbc.csv')\n",
    "K = 5\n",
    "\n",
    "errores5 = []\n",
    "for i in range(NParticiones):\n",
    "    \n",
    "    predicciones = clasificador.clasifica(dataset2.extraeDatos(validacionSimple.particiones[i].indicesTest), dataset2.extraeDatos(validacionSimple.particiones[i].indicesTrain),dataset2.nominalAtributos,K)\n",
    "    \n",
    "    error = clasificador.error(dataset2.extraeDatos(validacionSimple.particiones[i].indicesTest),predicciones)\n",
    "\n",
    "    errores5.append(error) \n",
    "\n",
    "dataset2.datos = clasificador.entrenamiento(dataset2.datos, dataset2.nominalAtributos)\n",
    "\n",
    "errores5Norm = []    \n",
    "\n",
    "for i in range(NParticiones):\n",
    "    \n",
    "    predicciones = clasificador.clasifica(dataset2.extraeDatos(validacionSimple.particiones[i].indicesTest), dataset2.extraeDatos(validacionSimple.particiones[i].indicesTrain),dataset2.nominalAtributos,K)\n",
    "    \n",
    "    error = clasificador.error(dataset2.extraeDatos(validacionSimple.particiones[i].indicesTest),predicciones)\n",
    "\n",
    "    errores5Norm.append(error) \n",
    "    \n",
    "\n",
    "dataset2 = Datos('ConjuntosDatosP2/wdbc.csv')\n",
    "K = 7\n",
    "\n",
    "errores7 = []\n",
    "for i in range(NParticiones):\n",
    "    \n",
    "    predicciones = clasificador.clasifica(dataset2.extraeDatos(validacionSimple.particiones[i].indicesTest), dataset2.extraeDatos(validacionSimple.particiones[i].indicesTrain),dataset2.nominalAtributos,K)\n",
    "    \n",
    "    error = clasificador.error(dataset2.extraeDatos(validacionSimple.particiones[i].indicesTest),predicciones)\n",
    "\n",
    "    errores7.append(error) \n",
    "\n",
    "dataset2.datos = clasificador.entrenamiento(dataset2.datos, dataset2.nominalAtributos)\n",
    "\n",
    "errores7Norm = []    \n",
    "\n",
    "for i in range(NParticiones):\n",
    "    \n",
    "    predicciones = clasificador.clasifica(dataset2.extraeDatos(validacionSimple.particiones[i].indicesTest), dataset2.extraeDatos(validacionSimple.particiones[i].indicesTrain),dataset2.nominalAtributos,K)\n",
    "    \n",
    "    error = clasificador.error(dataset2.extraeDatos(validacionSimple.particiones[i].indicesTest),predicciones)\n",
    "\n",
    "    errores7Norm.append(error) \n",
    "    "
   ]
  },
  {
   "cell_type": "code",
   "execution_count": 77,
   "metadata": {
    "scrolled": true
   },
   "outputs": [
    {
     "name": "stdout",
     "output_type": "stream",
     "text": [
      "9.29%\n"
     ]
    }
   ],
   "source": [
    "err_wdbc_k1 = f'{np.mean(errores1) * 100:.2f}%'\n",
    "print(f'{np.mean(errores1) * 100:.2f}%')"
   ]
  },
  {
   "cell_type": "code",
   "execution_count": 78,
   "metadata": {},
   "outputs": [
    {
     "name": "stdout",
     "output_type": "stream",
     "text": [
      "4.29%\n"
     ]
    }
   ],
   "source": [
    "err_wdbc_k1_norm = f'{np.mean(errores1Norm) * 100:.2f}%'\n",
    "print(f'{np.mean(errores1Norm) * 100:.2f}%')"
   ]
  },
  {
   "cell_type": "code",
   "execution_count": 86,
   "metadata": {},
   "outputs": [
    {
     "name": "stdout",
     "output_type": "stream",
     "text": [
      "8.57%\n"
     ]
    }
   ],
   "source": [
    "err_wdbc_k3 = f'{np.mean(errores3) * 100:.2f}%'\n",
    "print(f'{np.mean(errores3) * 100:.2f}%')"
   ]
  },
  {
   "cell_type": "code",
   "execution_count": 80,
   "metadata": {
    "scrolled": true
   },
   "outputs": [
    {
     "name": "stdout",
     "output_type": "stream",
     "text": [
      "1.79%\n"
     ]
    }
   ],
   "source": [
    "err_wdbc_k3_norm = f'{np.mean(errores3Norm) * 100:.2f}%'\n",
    "print(f'{np.mean(errores3Norm) * 100:.2f}%')"
   ]
  },
  {
   "cell_type": "code",
   "execution_count": 87,
   "metadata": {},
   "outputs": [
    {
     "name": "stdout",
     "output_type": "stream",
     "text": [
      "8.57%\n"
     ]
    }
   ],
   "source": [
    "err_wdbc_k5 = f'{np.mean(errores5) * 100:.2f}%'\n",
    "print(f'{np.mean(errores5) * 100:.2f}%')"
   ]
  },
  {
   "cell_type": "code",
   "execution_count": 82,
   "metadata": {
    "scrolled": true
   },
   "outputs": [
    {
     "name": "stdout",
     "output_type": "stream",
     "text": [
      "1.43%\n"
     ]
    }
   ],
   "source": [
    "err_wdbc_k5_norm = f'{np.mean(errores5Norm) * 100:.2f}%'\n",
    "print(f'{np.mean(errores5Norm) * 100:.2f}%')"
   ]
  },
  {
   "cell_type": "code",
   "execution_count": 83,
   "metadata": {},
   "outputs": [
    {
     "name": "stdout",
     "output_type": "stream",
     "text": [
      "10.00%\n"
     ]
    }
   ],
   "source": [
    "err_wdbc_k7 = f'{np.mean(errores7) * 100:.2f}%'\n",
    "print(f'{np.mean(errores7) * 100:.2f}%')"
   ]
  },
  {
   "cell_type": "code",
   "execution_count": 84,
   "metadata": {
    "scrolled": true
   },
   "outputs": [
    {
     "name": "stdout",
     "output_type": "stream",
     "text": [
      "2.14%\n"
     ]
    }
   ],
   "source": [
    "err_wdbc_k7_norm = f'{np.mean(errores7Norm) * 100:.2f}%'\n",
    "print(f'{np.mean(errores7Norm) * 100:.2f}%')"
   ]
  },
  {
   "cell_type": "code",
   "execution_count": 90,
   "metadata": {
    "scrolled": true
   },
   "outputs": [
    {
     "name": "stdout",
     "output_type": "stream",
     "text": [
      "K = 1:\n",
      "Error para wdbc k=1: 9.29%\n",
      "Error para wdbc k=1 normalizado: 4.29%\n",
      "\n",
      "K = 3:\n",
      "Error para wdbc k=3: 8.57%\n",
      "Error para wdbc k=3 normalizado: 1.79%\n",
      "\n",
      "K = 5:\n",
      "Error para wdbc k=5: 8.57%\n",
      "Error para wdbc k=5 normalizado: 1.43%\n",
      "\n",
      "K = 7:\n",
      "Error para wdbc k=7: 10.00%\n",
      "Error para wdbc k=7 normalizado: 2.14%\n"
     ]
    }
   ],
   "source": [
    "print('K = 1:')\n",
    "print('Error para wdbc k=1: ' + err_wdbc_k1)\n",
    "print('Error para wdbc k=1 normalizado: ' + err_wdbc_k1_norm)\n",
    "print('\\nK = 3:')\n",
    "print('Error para wdbc k=3: ' + err_wdbc_k3)\n",
    "print('Error para wdbc k=3 normalizado: ' + err_wdbc_k3_norm)\n",
    "print('\\nK = 5:')\n",
    "print('Error para wdbc k=5: ' + err_wdbc_k5)\n",
    "print('Error para wdbc k=5 normalizado: ' + err_wdbc_k5_norm)\n",
    "print('\\nK = 7:')\n",
    "print('Error para wdbc k=7: ' + err_wdbc_k7)\n",
    "print('Error para wdbc k=7 normalizado: ' + err_wdbc_k7_norm)"
   ]
  },
  {
   "cell_type": "markdown",
   "metadata": {},
   "source": [
    "Este dataset si que es una buena fuente de comparación de los resultados. Apreciamos que el que peor resultado da, como ya hemos comentado antes para k = 1. El motivo ya lo hemos comentado con anterioridad, aunque si que cabe destacar, que a pesar de ser impreciso sigue siendo mucho mejor que el anterior dataset, esto es mera casualidad. "
   ]
  },
  {
   "cell_type": "markdown",
   "metadata": {},
   "source": [
    "Respecto al resto de resultados, observamos que el dataset normalizado ofrece mejores resultados pero tampoco hay tanta diferencia como antes. Lo que si es interesante es observar para qué valor de K los resultados comienzan a empeorar. Este valor concretamente es K = 5. A partir de este valor, el error comienza a subir. Uno de los motivos es que, aunque puede parecer que cuanto mayor sea la zona sobre la que valoramos la clase mayoritaria mejor serán los resultados, esto también puede llevar a un sobreentrenamiento del algoritmo y por tanto concluir en resultados incorrectos. Por eso es necesario encontrar ese valor de K que maximice los resultados del algoritmo pero sin llegar a un sobreentrenamiento de este"
   ]
  },
  {
   "cell_type": "markdown",
   "metadata": {},
   "source": [
    "### Observaciones y discusión de resultados:"
   ]
  },
  {
   "cell_type": "markdown",
   "metadata": {},
   "source": [
    "* Podemos sacar una conclusión evidente que, aunque sobre algunos datasets afecta más que sobre otros, la normalización mejora la actuación del algoritmo.\n",
    "\n",
    "* Ya se ha comentado anteriormente, pero recalcamos el detalle de que los resultados para K = 1 no son precisos, por lo que para realizar el estudio del algoritmo deberemos utilizar valores de K comprendidos a partir de 3, buscando cuál es el que nos ofrece una buena respuesta.\n",
    "\n",
    "\n",
    "* Se hará una comparación del rendimiento del algoritmo en el apartado 3 al compararlo con el algoritmo de la libreria de Scikit-learn"
   ]
  },
  {
   "cell_type": "markdown",
   "metadata": {},
   "source": [
    "# Apartado 2: Algoritmo K-Means"
   ]
  },
  {
   "cell_type": "markdown",
   "metadata": {},
   "source": [
    "El constructor de la clase recibe el numero de clusters que vamos a utilizar para nuestro algoritmo:"
   ]
  },
  {
   "cell_type": "code",
   "execution_count": 106,
   "metadata": {},
   "outputs": [
    {
     "name": "stdout",
     "output_type": "stream",
     "text": [
      "66.67%\n"
     ]
    }
   ],
   "source": [
    "dataset = Datos('ConjuntosDatosP2/iris.csv')\n",
    "km = KMeans(1)  \n",
    "km.fit(dataset.datos)\n",
    "print(f'{km.error(dataset.datos) * 100:.2f}%')"
   ]
  },
  {
   "cell_type": "code",
   "execution_count": 107,
   "metadata": {},
   "outputs": [
    {
     "name": "stdout",
     "output_type": "stream",
     "text": [
      "33.33%\n"
     ]
    }
   ],
   "source": [
    "dataset = Datos('ConjuntosDatosP2/iris.csv')\n",
    "km = KMeans(2)  \n",
    "km.fit(dataset.datos)\n",
    "print(f'{km.error(dataset.datos) * 100:.2f}%')"
   ]
  },
  {
   "cell_type": "markdown",
   "metadata": {},
   "source": [
    "En los dos casos anteriores tenemos resultados previsibles y esperados. ¿Por qué? nuestro dataset se compone de 3 posibles clases solución. Si nosotros elegimos un numero de clusters menor al numero total de clases que puede haber, los resultados van a ser malos. Nunca vamos a poder predecir más clases que el numero de clusters y por lo tanto para nuestro dataset en particular, si elegimos 1 cluster, se nos quedan 2 clases sin predecir, y si elegimos 2 clusters se nos queda 1 sin predecir. Como cada clase representa 1/3 del dataset es fácil concluir que si se quedan 2 clases sin referenciar es el 66% y si se queda 1 sin referenciar es el 33%."
   ]
  },
  {
   "cell_type": "code",
   "execution_count": 108,
   "metadata": {},
   "outputs": [
    {
     "name": "stdout",
     "output_type": "stream",
     "text": [
      "0.67%\n"
     ]
    }
   ],
   "source": [
    "error = []\n",
    "dataset = Datos('ConjuntosDatosP2/iris.csv')\n",
    "km = KMeans(3)  \n",
    "km.fit(dataset.datos)\n",
    "print(f'{km.error(dataset.datos) * 100:.2f}%')"
   ]
  },
  {
   "cell_type": "markdown",
   "metadata": {},
   "source": [
    "Aqui ya vemos que la diferencia es notable. Ahora tenemos 3 clusters, con un centroide cada uno (que al fin y al cabo es el que determina la prediccion), con 3 posibles clases para predecir. Lo que nos ayuda a responder a la primera cuestión. \n",
    "¿Se puede asignar de forma unívoca cada cluster a un tipo de flor atendiendo a la clase mayoritaria de los patrones agrupados?"
   ]
  },
  {
   "cell_type": "code",
   "execution_count": 109,
   "metadata": {
    "scrolled": true
   },
   "outputs": [
    {
     "name": "stdout",
     "output_type": "stream",
     "text": [
      "[2 2 2 2 2 2 2 2 2 2 2 2 2 2 2 2 2 2 2 2 2 2 2 2 2 2 2 2 2 2 2 2 2 2 2 2 2\n",
      " 2 2 2 2 2 2 2 2 2 2 2 2 2 1 1 1 1 1 1 1 1 1 1 1 1 1 1 1 1 1 1 1 1 1 1 1 1\n",
      " 1 1 1 1 1 1 1 1 1 1 1 1 1 1 1 1 1 1 1 1 1 1 1 1 1 1 0 0 0 0 0 0 1 0 0 0 0\n",
      " 0 0 0 0 0 0 0 0 0 0 0 0 0 0 0 0 0 0 0 0 0 0 0 0 0 0 0 0 0 0 0 0 0 0 0 0 0\n",
      " 0 0]\n",
      "[[6.5 3.  5.6 2.  3. ]\n",
      " [5.9 2.8 4.4 1.3 2. ]\n",
      " [5.  3.4 1.5 0.2 1. ]]\n"
     ]
    }
   ],
   "source": [
    "print(km.clusterAlQuePertenece)\n",
    "print(km.centroids)"
   ]
  },
  {
   "cell_type": "markdown",
   "metadata": {},
   "source": [
    "Claramente vemos que sí. Arriba observamos, tras toda la ejecución, el cluster al que pertenece cada fila de nuestro dataset, y a continuación, el centroide de los cluster solución. \n",
    "\n",
    "Observamos claramente que cada cluster termina representando un tipo de flor. \n",
    "\n",
    "\n"
   ]
  },
  {
   "cell_type": "code",
   "execution_count": 114,
   "metadata": {},
   "outputs": [
    {
     "name": "stdout",
     "output_type": "stream",
     "text": [
      "Error medio para clusters de 3:6.87%\n",
      "Error medio para clusters de 5:0.98%\n"
     ]
    }
   ],
   "source": [
    "errores = []\n",
    "for i in range(100):\n",
    "    dataset = Datos('ConjuntosDatosP2/iris.csv')\n",
    "    km1 = KMeans(3)  \n",
    "    km1.fit(dataset.datos)\n",
    "    errores.append(km1.error(dataset.datos) * 100)\n",
    "print(f'Error medio para clusters de 3:{np.mean(errores):.2f}%')\n",
    "    \n",
    "errores = []\n",
    "for i in range(100):\n",
    "    dataset = Datos('ConjuntosDatosP2/iris.csv')\n",
    "    km2 = KMeans(5)  \n",
    "    km2.fit(dataset.datos)\n",
    "    errores.append(km2.error(dataset.datos) * 100)\n",
    "print(f'Error medio para clusters de 5:{np.mean(errores):.2f}%')\n",
    "    "
   ]
  },
  {
   "cell_type": "markdown",
   "metadata": {},
   "source": [
    "Si atendemos a la media de los resultados vemos un curioso detalle. El algoritmo mejora su actuación si le ofrecemos más clusters sobre el que valorar cual es la mejor opción. Esto se debe a que, si le ofrecemos otra alternativa sobre el que calcular la distancia puede llegar a una mejor conclusión. Por así decirlo, tiene 2 alternativas para valorar a cual tiene una menor distancia pero con la misma clase predicha. Esto no funciona si seguimos aumentando clusters, ya que finalmente lograríamos un sobreentrenamiento y al final no llegaría a una buena predicción. "
   ]
  },
  {
   "cell_type": "code",
   "execution_count": 120,
   "metadata": {},
   "outputs": [
    {
     "name": "stdout",
     "output_type": "stream",
     "text": [
      "Error medio para clusters de 3:12.09%\n",
      "Error medio para clusters de 5:4.08%\n"
     ]
    }
   ],
   "source": [
    "errores = []\n",
    "for i in range(100):\n",
    "    dataset = Datos('ConjuntosDatosP2/iris.csv')\n",
    "    km1 = KMeans(3)  \n",
    "    dataset.datos = ClasificadorKNN().normalize(dataset.datos)\n",
    "    km1.fit(dataset.datos)\n",
    "    \n",
    "    errores.append(km1.error(dataset.datos) * 100)\n",
    "print(f'Error medio para clusters de 3:{np.mean(errores):.2f}%')\n",
    "    \n",
    "errores = []\n",
    "for i in range(100):\n",
    "    dataset = Datos('ConjuntosDatosP2/iris.csv')\n",
    "    km2 = KMeans(5)  \n",
    "    dataset.datos = ClasificadorKNN().normalize(dataset.datos)\n",
    "    km2.fit(dataset.datos)\n",
    "    errores.append(km2.error(dataset.datos) * 100)\n",
    "print(f'Error medio para clusters de 5:{np.mean(errores):.2f}%')\n",
    "    "
   ]
  },
  {
   "cell_type": "markdown",
   "metadata": {},
   "source": [
    "Observamos que normalizar los datos en este caso no mejora el resultado. Puede deberse a que el conjunto de datos del que partimos tiene una buena relacion entre los atributos, y que no muestra grandes diferencias entre valores del mismo dataset ni atributos"
   ]
  },
  {
   "cell_type": "code",
   "execution_count": 134,
   "metadata": {},
   "outputs": [
    {
     "name": "stdout",
     "output_type": "stream",
     "text": [
      "Error medio para clusters de 7:0.74%\n"
     ]
    }
   ],
   "source": [
    "errores = []\n",
    "for i in range(100):\n",
    "    dataset = Datos('ConjuntosDatosP2/iris.csv')\n",
    "    km2 = KMeans(7)  \n",
    "    km2.fit(dataset.datos)\n",
    "    errores.append(km2.error(dataset.datos) * 100)\n",
    "print(f'Error medio para clusters de 7:{np.mean(errores):.2f}%')"
   ]
  },
  {
   "cell_type": "markdown",
   "metadata": {},
   "source": [
    "Observamos que a partir de 5 comienza a subir el fallo de nuevo"
   ]
  },
  {
   "cell_type": "markdown",
   "metadata": {},
   "source": [
    "# Apartado 3: Scikit-learn y comparación"
   ]
  },
  {
   "cell_type": "code",
   "execution_count": 72,
   "metadata": {},
   "outputs": [],
   "source": [
    "dataset1 = pd.read_csv('ConjuntosDatosP2/pima-indians-diabetes.csv')\n",
    "dataset2 = pd.read_csv('ConjuntosDatosP2/wdbc.csv')\n",
    "dataset3 = pd.read_csv('ConjuntosDatosP2/iris.csv')"
   ]
  },
  {
   "cell_type": "markdown",
   "metadata": {},
   "source": [
    "Vamos a utilizar la libreria de scikit-learn para poder ver como se ejecutan los algotirmos anteriormente vistos y con los resultados obtenidos poder compararlos con nuestros propios algoritmos."
   ]
  },
  {
   "cell_type": "markdown",
   "metadata": {},
   "source": [
    "Para esto vamos a utilizar K-NN para los archivos pima-indians-diabetes-csv y wbcd.csv, y K-Means para iris.csv"
   ]
  },
  {
   "cell_type": "markdown",
   "metadata": {},
   "source": [
    "### K-NN para pima-indians-diabetes:"
   ]
  },
  {
   "cell_type": "markdown",
   "metadata": {},
   "source": [
    "Primero cargamos los datos en X y el resultado o clase esperada en la Y:"
   ]
  },
  {
   "cell_type": "code",
   "execution_count": 73,
   "metadata": {},
   "outputs": [],
   "source": [
    "X = dataset1[['Pregs','Plas','Pres','Skin','Test','Mass','Pedi','Age']].values\n",
    "y = dataset1[['Class']].values.ravel()"
   ]
  },
  {
   "cell_type": "markdown",
   "metadata": {},
   "source": [
    "Preparamos el entrenamiento:"
   ]
  },
  {
   "cell_type": "code",
   "execution_count": 74,
   "metadata": {},
   "outputs": [
    {
     "data": {
      "text/html": [
       "<style>#sk-container-id-1 {color: black;background-color: white;}#sk-container-id-1 pre{padding: 0;}#sk-container-id-1 div.sk-toggleable {background-color: white;}#sk-container-id-1 label.sk-toggleable__label {cursor: pointer;display: block;width: 100%;margin-bottom: 0;padding: 0.3em;box-sizing: border-box;text-align: center;}#sk-container-id-1 label.sk-toggleable__label-arrow:before {content: \"▸\";float: left;margin-right: 0.25em;color: #696969;}#sk-container-id-1 label.sk-toggleable__label-arrow:hover:before {color: black;}#sk-container-id-1 div.sk-estimator:hover label.sk-toggleable__label-arrow:before {color: black;}#sk-container-id-1 div.sk-toggleable__content {max-height: 0;max-width: 0;overflow: hidden;text-align: left;background-color: #f0f8ff;}#sk-container-id-1 div.sk-toggleable__content pre {margin: 0.2em;color: black;border-radius: 0.25em;background-color: #f0f8ff;}#sk-container-id-1 input.sk-toggleable__control:checked~div.sk-toggleable__content {max-height: 200px;max-width: 100%;overflow: auto;}#sk-container-id-1 input.sk-toggleable__control:checked~label.sk-toggleable__label-arrow:before {content: \"▾\";}#sk-container-id-1 div.sk-estimator input.sk-toggleable__control:checked~label.sk-toggleable__label {background-color: #d4ebff;}#sk-container-id-1 div.sk-label input.sk-toggleable__control:checked~label.sk-toggleable__label {background-color: #d4ebff;}#sk-container-id-1 input.sk-hidden--visually {border: 0;clip: rect(1px 1px 1px 1px);clip: rect(1px, 1px, 1px, 1px);height: 1px;margin: -1px;overflow: hidden;padding: 0;position: absolute;width: 1px;}#sk-container-id-1 div.sk-estimator {font-family: monospace;background-color: #f0f8ff;border: 1px dotted black;border-radius: 0.25em;box-sizing: border-box;margin-bottom: 0.5em;}#sk-container-id-1 div.sk-estimator:hover {background-color: #d4ebff;}#sk-container-id-1 div.sk-parallel-item::after {content: \"\";width: 100%;border-bottom: 1px solid gray;flex-grow: 1;}#sk-container-id-1 div.sk-label:hover label.sk-toggleable__label {background-color: #d4ebff;}#sk-container-id-1 div.sk-serial::before {content: \"\";position: absolute;border-left: 1px solid gray;box-sizing: border-box;top: 0;bottom: 0;left: 50%;z-index: 0;}#sk-container-id-1 div.sk-serial {display: flex;flex-direction: column;align-items: center;background-color: white;padding-right: 0.2em;padding-left: 0.2em;position: relative;}#sk-container-id-1 div.sk-item {position: relative;z-index: 1;}#sk-container-id-1 div.sk-parallel {display: flex;align-items: stretch;justify-content: center;background-color: white;position: relative;}#sk-container-id-1 div.sk-item::before, #sk-container-id-1 div.sk-parallel-item::before {content: \"\";position: absolute;border-left: 1px solid gray;box-sizing: border-box;top: 0;bottom: 0;left: 50%;z-index: -1;}#sk-container-id-1 div.sk-parallel-item {display: flex;flex-direction: column;z-index: 1;position: relative;background-color: white;}#sk-container-id-1 div.sk-parallel-item:first-child::after {align-self: flex-end;width: 50%;}#sk-container-id-1 div.sk-parallel-item:last-child::after {align-self: flex-start;width: 50%;}#sk-container-id-1 div.sk-parallel-item:only-child::after {width: 0;}#sk-container-id-1 div.sk-dashed-wrapped {border: 1px dashed gray;margin: 0 0.4em 0.5em 0.4em;box-sizing: border-box;padding-bottom: 0.4em;background-color: white;}#sk-container-id-1 div.sk-label label {font-family: monospace;font-weight: bold;display: inline-block;line-height: 1.2em;}#sk-container-id-1 div.sk-label-container {text-align: center;}#sk-container-id-1 div.sk-container {/* jupyter's `normalize.less` sets `[hidden] { display: none; }` but bootstrap.min.css set `[hidden] { display: none !important; }` so we also need the `!important` here to be able to override the default hidden behavior on the sphinx rendered scikit-learn.org. See: https://github.com/scikit-learn/scikit-learn/issues/21755 */display: inline-block !important;position: relative;}#sk-container-id-1 div.sk-text-repr-fallback {display: none;}</style><div id=\"sk-container-id-1\" class=\"sk-top-container\"><div class=\"sk-text-repr-fallback\"><pre>KNeighborsClassifier(metric=&#x27;euclidean&#x27;, n_neighbors=9)</pre><b>In a Jupyter environment, please rerun this cell to show the HTML representation or trust the notebook. <br />On GitHub, the HTML representation is unable to render, please try loading this page with nbviewer.org.</b></div><div class=\"sk-container\" hidden><div class=\"sk-item\"><div class=\"sk-estimator sk-toggleable\"><input class=\"sk-toggleable__control sk-hidden--visually\" id=\"sk-estimator-id-1\" type=\"checkbox\" checked><label for=\"sk-estimator-id-1\" class=\"sk-toggleable__label sk-toggleable__label-arrow\">KNeighborsClassifier</label><div class=\"sk-toggleable__content\"><pre>KNeighborsClassifier(metric=&#x27;euclidean&#x27;, n_neighbors=9)</pre></div></div></div></div></div>"
      ],
      "text/plain": [
       "KNeighborsClassifier(metric='euclidean', n_neighbors=9)"
      ]
     },
     "execution_count": 74,
     "metadata": {},
     "output_type": "execute_result"
    }
   ],
   "source": [
    "# Se divide en train y set\n",
    "X_train, X_test, y_train, y_test = train_test_split(X, y, test_size = 0.2)\n",
    "\n",
    "knn = KNeighborsClassifier(n_neighbors=9, metric='euclidean')\n",
    "\n",
    "knn.fit(X_train, y_train)"
   ]
  },
  {
   "cell_type": "markdown",
   "metadata": {},
   "source": [
    "Miramos las predicciones y la precisión de estas:"
   ]
  },
  {
   "cell_type": "code",
   "execution_count": 75,
   "metadata": {},
   "outputs": [
    {
     "name": "stdout",
     "output_type": "stream",
     "text": [
      "[0 1 0 0 0 1 0 1 0 0 0 0 0 0 1 1 0 0 1 0 0 0 0 0 1 1 0 1 0 1 0 0 1 0 0 0 0\n",
      " 0 0 0 0 0 0 0 0 0 0 0 0 0 1 0 0 0 1 1 0 0 1 0 0 1 0 1 0 0 0 0 0 0 0 0 1 1\n",
      " 0 0 0 1 0 0 0 0 0 0 0 0 0 0 1 1 0 0 1 0 1 0 0 0 0 0 1 0 0 1 0 1 0 0 0 1 0\n",
      " 0 1 0 0 1 1 0 1 1 0 0 0 0 0 1 0 0 0 0 1 1 0 1 0 0 0 0 1 0 1 1 0 1 1 0 1 0\n",
      " 1 0 0 0 0 1]\n",
      "Precisión: 0.6818181818181818\n"
     ]
    }
   ],
   "source": [
    "y_pred = knn.predict(X_test)\n",
    "print(y_pred)\n",
    "\n",
    "acc = knn.score(X_test, y_test)\n",
    "\n",
    "print('Precisión:', acc)"
   ]
  },
  {
   "cell_type": "markdown",
   "metadata": {},
   "source": [
    "Comprobamos la matriz de confusión: "
   ]
  },
  {
   "cell_type": "code",
   "execution_count": 76,
   "metadata": {},
   "outputs": [
    {
     "name": "stdout",
     "output_type": "stream",
     "text": [
      "[[78 18]\n",
      " [31 27]]\n"
     ]
    }
   ],
   "source": [
    "print(confusion_matrix(y_test, y_pred))\n",
    "#Se refiere a:\n",
    "\n",
    "# |Verdaderos Positivos | Falsos negativos    |\n",
    "# |Falsos Positivos     | Verdaderos Negativos|"
   ]
  },
  {
   "cell_type": "markdown",
   "metadata": {},
   "source": [
    "En la matriz, lo ideal es que falsos positivos y negativos sean 0 (aunque un modelo casi nunca será 100% preciso)"
   ]
  },
  {
   "cell_type": "markdown",
   "metadata": {},
   "source": [
    "Hacemos un reporte de clasificación:"
   ]
  },
  {
   "cell_type": "code",
   "execution_count": 77,
   "metadata": {},
   "outputs": [
    {
     "name": "stdout",
     "output_type": "stream",
     "text": [
      "              precision    recall  f1-score   support\n",
      "\n",
      "           0       0.72      0.81      0.76        96\n",
      "           1       0.60      0.47      0.52        58\n",
      "\n",
      "    accuracy                           0.68       154\n",
      "   macro avg       0.66      0.64      0.64       154\n",
      "weighted avg       0.67      0.68      0.67       154\n",
      "\n"
     ]
    }
   ],
   "source": [
    "print(classification_report(y_test, y_pred))"
   ]
  },
  {
   "cell_type": "markdown",
   "metadata": {},
   "source": [
    "Ahora creamos un bucle y escogemos el mejor valor para K-NN:"
   ]
  },
  {
   "cell_type": "code",
   "execution_count": 78,
   "metadata": {},
   "outputs": [
    {
     "name": "stdout",
     "output_type": "stream",
     "text": [
      "Error Mínimo:  0.2662337662337662 en n_neighbor:  3\n"
     ]
    },
    {
     "data": {
      "image/png": "[encoded data removed]",
      "text/plain": [
       "<Figure size 1000x600 with 1 Axes>"
      ]
     },
     "metadata": {},
     "output_type": "display_data"
    }
   ],
   "source": [
    "error_rate = []\n",
    "for i in range(1,10):\n",
    "    knn = KNeighborsClassifier(n_neighbors=i)\n",
    "    knn.fit(X_train,y_train)\n",
    "    pred_i = knn.predict(X_test)\n",
    "    error_rate.append(np.mean(pred_i != y_test))\n",
    "    \n",
    "plt.figure(figsize=(10,6))\n",
    "plt.plot(range(1,10), error_rate, color='blue', linestyle='dashed', marker='o', markerfacecolor='red', markersize=10)\n",
    "plt.title('Error rate vs K-NN value')\n",
    "plt.xlabel('n_neighbors')\n",
    "plt.ylabel('error rate')\n",
    "print('Error Mínimo: ', min(error_rate), 'en n_neighbor: ', error_rate.index(min(error_rate))+1)\n",
    "error_knn_pima = min(error_rate)"
   ]
  },
  {
   "cell_type": "markdown",
   "metadata": {},
   "source": [
    "El punto más cercano a la zona de abajo será el vecino con el menor índice de error y por tanto el más cercano."
   ]
  },
  {
   "cell_type": "markdown",
   "metadata": {},
   "source": [
    "### K-NN para wdbc:"
   ]
  },
  {
   "cell_type": "markdown",
   "metadata": {},
   "source": [
    "Se repite el mismo proceso de antes:"
   ]
  },
  {
   "cell_type": "code",
   "execution_count": 80,
   "metadata": {},
   "outputs": [
    {
     "name": "stdout",
     "output_type": "stream",
     "text": [
      "['M' 'B' 'B' 'B' 'B' 'M' 'B' 'B' 'B' 'B' 'B' 'M' 'M' 'B' 'B' 'M' 'B' 'B'\n",
      " 'B' 'B' 'M' 'M' 'M' 'B' 'M' 'B' 'B' 'B' 'B' 'B' 'M' 'B' 'B' 'B' 'B' 'B'\n",
      " 'B' 'B' 'B' 'B' 'M' 'B' 'M' 'B' 'B' 'B' 'M' 'B' 'B' 'B' 'B' 'M' 'B' 'B'\n",
      " 'M' 'B' 'B' 'B' 'B' 'B' 'B' 'B' 'B' 'B' 'B' 'M' 'B' 'M' 'B' 'M' 'M' 'M'\n",
      " 'B' 'M' 'B' 'M' 'B' 'M' 'M' 'B' 'M' 'M' 'M' 'B' 'M' 'M' 'B' 'B' 'B' 'B'\n",
      " 'B' 'B' 'M' 'B' 'B' 'B' 'M' 'B' 'B' 'B' 'M' 'B' 'M' 'M' 'M' 'B' 'M' 'B'\n",
      " 'M' 'M' 'B' 'B' 'M' 'B']\n",
      "Precisión: 0.9736842105263158\n",
      "[[72  0]\n",
      " [ 3 39]]\n",
      "              precision    recall  f1-score   support\n",
      "\n",
      "           B       0.96      1.00      0.98        72\n",
      "           M       1.00      0.93      0.96        42\n",
      "\n",
      "    accuracy                           0.97       114\n",
      "   macro avg       0.98      0.96      0.97       114\n",
      "weighted avg       0.97      0.97      0.97       114\n",
      "\n",
      "Error Mínimo:  0.02631578947368421 en n_neighbor:  7\n"
     ]
    },
    {
     "data": {
      "image/png": "[encoded data removed]",
      "text/plain": [
       "<Figure size 1000x600 with 1 Axes>"
      ]
     },
     "metadata": {},
     "output_type": "display_data"
    }
   ],
   "source": [
    "X = dataset2[['Atributo1','Atributo2','Atributo3','Atributo4','Atributo5','Atributo6','Atributo7','Atributo8','Atributo9','Atributo10','Atributo11','Atributo12','Atributo13','Atributo14','Atributo15'\n",
    "              ,'Atributo16','Atributo17','Atributo18','Atributo19','Atributo20','Atributo21','Atributo22','Atributo23','Atributo24','Atributo25','Atributo26','Atributo27','Atributo28','Atributo29','Atributo30']].values\n",
    "y = dataset2[['Class']].values.ravel()\n",
    "\n",
    "# Se divide en train y set\n",
    "X_train, X_test, y_train, y_test = train_test_split(X, y, test_size = 0.2)\n",
    "\n",
    "knn = KNeighborsClassifier(n_neighbors=9, metric='euclidean')\n",
    "\n",
    "knn.fit(X_train, y_train)\n",
    "\n",
    "y_pred = knn.predict(X_test)\n",
    "print(y_pred)\n",
    "\n",
    "acc = knn.score(X_test, y_test)\n",
    "\n",
    "print('Precisión:', acc)\n",
    "\n",
    "print(confusion_matrix(y_test, y_pred))\n",
    "#Se refiere a:\n",
    "\n",
    "# | Verdaderos Positivos | Falsos negativos     |\n",
    "# | Falsos Positivos     | Verdaderos Negativos |\n",
    "\n",
    "# Ideal es que falsos positivos y negativos sean 0 (aunque un modelo casi nunca será 100% preciso)\n",
    "\n",
    "print(classification_report(y_test, y_pred))\n",
    "\n",
    "error_rate = []\n",
    "for i in range(1,10):\n",
    "    knn = KNeighborsClassifier(n_neighbors=i)\n",
    "    knn.fit(X_train,y_train)\n",
    "    pred_i = knn.predict(X_test)\n",
    "    error_rate.append(np.mean(pred_i != y_test))\n",
    "    \n",
    "plt.figure(figsize=(10,6))\n",
    "plt.plot(range(1,10), error_rate, color='blue', linestyle='dashed', marker='o', markerfacecolor='red', markersize=10)\n",
    "plt.title('Error rate vs K-NN value')\n",
    "plt.xlabel('n_neighbors')\n",
    "plt.ylabel('error rate')\n",
    "print('Error Mínimo: ', min(error_rate), 'en n_neighbor: ', error_rate.index(min(error_rate))+1)\n",
    "error_knn_wdbc = min(error_rate)"
   ]
  },
  {
   "cell_type": "markdown",
   "metadata": {},
   "source": [
    "### K-Means para iris:"
   ]
  },
  {
   "cell_type": "markdown",
   "metadata": {},
   "source": [
    "Empiezo con las características:"
   ]
  },
  {
   "cell_type": "code",
   "execution_count": 81,
   "metadata": {},
   "outputs": [
    {
     "name": "stdout",
     "output_type": "stream",
     "text": [
      "<class 'pandas.core.frame.DataFrame'>\n",
      "RangeIndex: 150 entries, 0 to 149\n",
      "Data columns (total 5 columns):\n",
      " #   Column  Non-Null Count  Dtype  \n",
      "---  ------  --------------  -----  \n",
      " 0   SL      150 non-null    float64\n",
      " 1   SW      150 non-null    float64\n",
      " 2   PL      150 non-null    float64\n",
      " 3   PW      150 non-null    float64\n",
      " 4   Class   150 non-null    object \n",
      "dtypes: float64(4), object(1)\n",
      "memory usage: 6.0+ KB\n"
     ]
    }
   ],
   "source": [
    "dataset3.info()"
   ]
  },
  {
   "cell_type": "code",
   "execution_count": 82,
   "metadata": {},
   "outputs": [
    {
     "data": {
      "text/html": [
       "<div>\n",
       "<style scoped>\n",
       "    .dataframe tbody tr th:only-of-type {\n",
       "        vertical-align: middle;\n",
       "    }\n",
       "\n",
       "    .dataframe tbody tr th {\n",
       "        vertical-align: top;\n",
       "    }\n",
       "\n",
       "    .dataframe thead th {\n",
       "        text-align: right;\n",
       "    }\n",
       "</style>\n",
       "<table border=\"1\" class=\"dataframe\">\n",
       "  <thead>\n",
       "    <tr style=\"text-align: right;\">\n",
       "      <th></th>\n",
       "      <th>SL</th>\n",
       "      <th>SW</th>\n",
       "      <th>PL</th>\n",
       "      <th>PW</th>\n",
       "      <th>Class</th>\n",
       "    </tr>\n",
       "  </thead>\n",
       "  <tbody>\n",
       "    <tr>\n",
       "      <th>0</th>\n",
       "      <td>5.1</td>\n",
       "      <td>3.5</td>\n",
       "      <td>1.4</td>\n",
       "      <td>0.2</td>\n",
       "      <td>Iris-setosa</td>\n",
       "    </tr>\n",
       "    <tr>\n",
       "      <th>1</th>\n",
       "      <td>4.9</td>\n",
       "      <td>3.0</td>\n",
       "      <td>1.4</td>\n",
       "      <td>0.2</td>\n",
       "      <td>Iris-setosa</td>\n",
       "    </tr>\n",
       "    <tr>\n",
       "      <th>2</th>\n",
       "      <td>4.7</td>\n",
       "      <td>3.2</td>\n",
       "      <td>1.3</td>\n",
       "      <td>0.2</td>\n",
       "      <td>Iris-setosa</td>\n",
       "    </tr>\n",
       "    <tr>\n",
       "      <th>3</th>\n",
       "      <td>4.6</td>\n",
       "      <td>3.1</td>\n",
       "      <td>1.5</td>\n",
       "      <td>0.2</td>\n",
       "      <td>Iris-setosa</td>\n",
       "    </tr>\n",
       "    <tr>\n",
       "      <th>4</th>\n",
       "      <td>5.0</td>\n",
       "      <td>3.6</td>\n",
       "      <td>1.4</td>\n",
       "      <td>0.2</td>\n",
       "      <td>Iris-setosa</td>\n",
       "    </tr>\n",
       "  </tbody>\n",
       "</table>\n",
       "</div>"
      ],
      "text/plain": [
       "    SL   SW   PL   PW        Class\n",
       "0  5.1  3.5  1.4  0.2  Iris-setosa\n",
       "1  4.9  3.0  1.4  0.2  Iris-setosa\n",
       "2  4.7  3.2  1.3  0.2  Iris-setosa\n",
       "3  4.6  3.1  1.5  0.2  Iris-setosa\n",
       "4  5.0  3.6  1.4  0.2  Iris-setosa"
      ]
     },
     "execution_count": 82,
     "metadata": {},
     "output_type": "execute_result"
    }
   ],
   "source": [
    "dataset3.head()"
   ]
  },
  {
   "cell_type": "markdown",
   "metadata": {},
   "source": [
    "Miro los valores descriptivos:"
   ]
  },
  {
   "cell_type": "code",
   "execution_count": 83,
   "metadata": {},
   "outputs": [
    {
     "data": {
      "text/html": [
       "<div>\n",
       "<style scoped>\n",
       "    .dataframe tbody tr th:only-of-type {\n",
       "        vertical-align: middle;\n",
       "    }\n",
       "\n",
       "    .dataframe tbody tr th {\n",
       "        vertical-align: top;\n",
       "    }\n",
       "\n",
       "    .dataframe thead th {\n",
       "        text-align: right;\n",
       "    }\n",
       "</style>\n",
       "<table border=\"1\" class=\"dataframe\">\n",
       "  <thead>\n",
       "    <tr style=\"text-align: right;\">\n",
       "      <th></th>\n",
       "      <th>SL</th>\n",
       "      <th>SW</th>\n",
       "      <th>PL</th>\n",
       "      <th>PW</th>\n",
       "    </tr>\n",
       "  </thead>\n",
       "  <tbody>\n",
       "    <tr>\n",
       "      <th>count</th>\n",
       "      <td>150.000000</td>\n",
       "      <td>150.000000</td>\n",
       "      <td>150.000000</td>\n",
       "      <td>150.000000</td>\n",
       "    </tr>\n",
       "    <tr>\n",
       "      <th>mean</th>\n",
       "      <td>5.843333</td>\n",
       "      <td>3.054000</td>\n",
       "      <td>3.758667</td>\n",
       "      <td>1.198667</td>\n",
       "    </tr>\n",
       "    <tr>\n",
       "      <th>std</th>\n",
       "      <td>0.828066</td>\n",
       "      <td>0.433594</td>\n",
       "      <td>1.764420</td>\n",
       "      <td>0.763161</td>\n",
       "    </tr>\n",
       "    <tr>\n",
       "      <th>min</th>\n",
       "      <td>4.300000</td>\n",
       "      <td>2.000000</td>\n",
       "      <td>1.000000</td>\n",
       "      <td>0.100000</td>\n",
       "    </tr>\n",
       "    <tr>\n",
       "      <th>25%</th>\n",
       "      <td>5.100000</td>\n",
       "      <td>2.800000</td>\n",
       "      <td>1.600000</td>\n",
       "      <td>0.300000</td>\n",
       "    </tr>\n",
       "    <tr>\n",
       "      <th>50%</th>\n",
       "      <td>5.800000</td>\n",
       "      <td>3.000000</td>\n",
       "      <td>4.350000</td>\n",
       "      <td>1.300000</td>\n",
       "    </tr>\n",
       "    <tr>\n",
       "      <th>75%</th>\n",
       "      <td>6.400000</td>\n",
       "      <td>3.300000</td>\n",
       "      <td>5.100000</td>\n",
       "      <td>1.800000</td>\n",
       "    </tr>\n",
       "    <tr>\n",
       "      <th>max</th>\n",
       "      <td>7.900000</td>\n",
       "      <td>4.400000</td>\n",
       "      <td>6.900000</td>\n",
       "      <td>2.500000</td>\n",
       "    </tr>\n",
       "  </tbody>\n",
       "</table>\n",
       "</div>"
      ],
      "text/plain": [
       "               SL          SW          PL          PW\n",
       "count  150.000000  150.000000  150.000000  150.000000\n",
       "mean     5.843333    3.054000    3.758667    1.198667\n",
       "std      0.828066    0.433594    1.764420    0.763161\n",
       "min      4.300000    2.000000    1.000000    0.100000\n",
       "25%      5.100000    2.800000    1.600000    0.300000\n",
       "50%      5.800000    3.000000    4.350000    1.300000\n",
       "75%      6.400000    3.300000    5.100000    1.800000\n",
       "max      7.900000    4.400000    6.900000    2.500000"
      ]
     },
     "execution_count": 83,
     "metadata": {},
     "output_type": "execute_result"
    }
   ],
   "source": [
    "dataset3.describe()"
   ]
  },
  {
   "cell_type": "markdown",
   "metadata": {},
   "source": [
    "Normalizamos los valores y los guardo en una nueva variable:"
   ]
  },
  {
   "cell_type": "code",
   "execution_count": 84,
   "metadata": {},
   "outputs": [
    {
     "name": "stdout",
     "output_type": "stream",
     "text": [
      "           SL        SW        PL        PW\n",
      "0    0.222222  0.625000  0.067797  0.041667\n",
      "1    0.166667  0.416667  0.067797  0.041667\n",
      "2    0.111111  0.500000  0.050847  0.041667\n",
      "3    0.083333  0.458333  0.084746  0.041667\n",
      "4    0.194444  0.666667  0.067797  0.041667\n",
      "..        ...       ...       ...       ...\n",
      "145  0.666667  0.416667  0.711864  0.916667\n",
      "146  0.555556  0.208333  0.677966  0.750000\n",
      "147  0.611111  0.416667  0.711864  0.791667\n",
      "148  0.527778  0.583333  0.745763  0.916667\n",
      "149  0.444444  0.416667  0.694915  0.708333\n",
      "\n",
      "[150 rows x 4 columns]\n"
     ]
    }
   ],
   "source": [
    "dataset3_variable = dataset3.drop(['Class'], axis=1)\n",
    "dataset3_norm = (dataset3_variable-dataset3_variable.min())/(dataset3_variable.max()-dataset3_variable.min())\n",
    "print(dataset3_norm)"
   ]
  },
  {
   "cell_type": "markdown",
   "metadata": {},
   "source": [
    "Valores descriptivos normalizados:"
   ]
  },
  {
   "cell_type": "code",
   "execution_count": 85,
   "metadata": {},
   "outputs": [
    {
     "data": {
      "text/html": [
       "<div>\n",
       "<style scoped>\n",
       "    .dataframe tbody tr th:only-of-type {\n",
       "        vertical-align: middle;\n",
       "    }\n",
       "\n",
       "    .dataframe tbody tr th {\n",
       "        vertical-align: top;\n",
       "    }\n",
       "\n",
       "    .dataframe thead th {\n",
       "        text-align: right;\n",
       "    }\n",
       "</style>\n",
       "<table border=\"1\" class=\"dataframe\">\n",
       "  <thead>\n",
       "    <tr style=\"text-align: right;\">\n",
       "      <th></th>\n",
       "      <th>SL</th>\n",
       "      <th>SW</th>\n",
       "      <th>PL</th>\n",
       "      <th>PW</th>\n",
       "    </tr>\n",
       "  </thead>\n",
       "  <tbody>\n",
       "    <tr>\n",
       "      <th>count</th>\n",
       "      <td>150.000000</td>\n",
       "      <td>150.000000</td>\n",
       "      <td>150.000000</td>\n",
       "      <td>150.000000</td>\n",
       "    </tr>\n",
       "    <tr>\n",
       "      <th>mean</th>\n",
       "      <td>0.428704</td>\n",
       "      <td>0.439167</td>\n",
       "      <td>0.467571</td>\n",
       "      <td>0.457778</td>\n",
       "    </tr>\n",
       "    <tr>\n",
       "      <th>std</th>\n",
       "      <td>0.230018</td>\n",
       "      <td>0.180664</td>\n",
       "      <td>0.299054</td>\n",
       "      <td>0.317984</td>\n",
       "    </tr>\n",
       "    <tr>\n",
       "      <th>min</th>\n",
       "      <td>0.000000</td>\n",
       "      <td>0.000000</td>\n",
       "      <td>0.000000</td>\n",
       "      <td>0.000000</td>\n",
       "    </tr>\n",
       "    <tr>\n",
       "      <th>25%</th>\n",
       "      <td>0.222222</td>\n",
       "      <td>0.333333</td>\n",
       "      <td>0.101695</td>\n",
       "      <td>0.083333</td>\n",
       "    </tr>\n",
       "    <tr>\n",
       "      <th>50%</th>\n",
       "      <td>0.416667</td>\n",
       "      <td>0.416667</td>\n",
       "      <td>0.567797</td>\n",
       "      <td>0.500000</td>\n",
       "    </tr>\n",
       "    <tr>\n",
       "      <th>75%</th>\n",
       "      <td>0.583333</td>\n",
       "      <td>0.541667</td>\n",
       "      <td>0.694915</td>\n",
       "      <td>0.708333</td>\n",
       "    </tr>\n",
       "    <tr>\n",
       "      <th>max</th>\n",
       "      <td>1.000000</td>\n",
       "      <td>1.000000</td>\n",
       "      <td>1.000000</td>\n",
       "      <td>1.000000</td>\n",
       "    </tr>\n",
       "  </tbody>\n",
       "</table>\n",
       "</div>"
      ],
      "text/plain": [
       "               SL          SW          PL          PW\n",
       "count  150.000000  150.000000  150.000000  150.000000\n",
       "mean     0.428704    0.439167    0.467571    0.457778\n",
       "std      0.230018    0.180664    0.299054    0.317984\n",
       "min      0.000000    0.000000    0.000000    0.000000\n",
       "25%      0.222222    0.333333    0.101695    0.083333\n",
       "50%      0.416667    0.416667    0.567797    0.500000\n",
       "75%      0.583333    0.541667    0.694915    0.708333\n",
       "max      1.000000    1.000000    1.000000    1.000000"
      ]
     },
     "execution_count": 85,
     "metadata": {},
     "output_type": "execute_result"
    }
   ],
   "source": [
    "dataset3_norm.describe()"
   ]
  },
  {
   "cell_type": "markdown",
   "metadata": {},
   "source": [
    "Búsqueda de la cantidad óptima de clusters:\n",
    "(Calculamos que tan parecidos son los individuos dentro de los clusters)"
   ]
  },
  {
   "cell_type": "code",
   "execution_count": 86,
   "metadata": {},
   "outputs": [],
   "source": [
    "wcss = [] #Suma de los cuadrados\n",
    "\n",
    "for i in range(1,5):\n",
    "    kmeans = sk.cluster.KMeans(n_clusters= i, max_iter = 300)\n",
    "    kmeans.fit(dataset3_norm)\n",
    "    wcss.append(kmeans.inertia_)"
   ]
  },
  {
   "cell_type": "markdown",
   "metadata": {},
   "source": [
    "Gráfico de Codo Jambú, el cual utilizamos para saber cual es el número de clusters óptimo, este es el punto en el que deja de disminuir drásticamente:"
   ]
  },
  {
   "cell_type": "code",
   "execution_count": 87,
   "metadata": {},
   "outputs": [
    {
     "data": {
      "image/png": "[encoded data removed]",
      "text/plain": [
       "<Figure size 640x480 with 1 Axes>"
      ]
     },
     "metadata": {},
     "output_type": "display_data"
    }
   ],
   "source": [
    "plt.plot(range(1,5),wcss)\n",
    "plt.title(\"Codo de Jambú\")\n",
    "plt.xlabel('Número de Clusters')\n",
    "plt.ylabel('WCSS')\n",
    "plt.show()"
   ]
  },
  {
   "cell_type": "markdown",
   "metadata": {},
   "source": [
    "#### Aplico K-Means a la base de datos"
   ]
  },
  {
   "cell_type": "code",
   "execution_count": 88,
   "metadata": {},
   "outputs": [
    {
     "data": {
      "text/html": [
       "<style>#sk-container-id-2 {color: black;background-color: white;}#sk-container-id-2 pre{padding: 0;}#sk-container-id-2 div.sk-toggleable {background-color: white;}#sk-container-id-2 label.sk-toggleable__label {cursor: pointer;display: block;width: 100%;margin-bottom: 0;padding: 0.3em;box-sizing: border-box;text-align: center;}#sk-container-id-2 label.sk-toggleable__label-arrow:before {content: \"▸\";float: left;margin-right: 0.25em;color: #696969;}#sk-container-id-2 label.sk-toggleable__label-arrow:hover:before {color: black;}#sk-container-id-2 div.sk-estimator:hover label.sk-toggleable__label-arrow:before {color: black;}#sk-container-id-2 div.sk-toggleable__content {max-height: 0;max-width: 0;overflow: hidden;text-align: left;background-color: #f0f8ff;}#sk-container-id-2 div.sk-toggleable__content pre {margin: 0.2em;color: black;border-radius: 0.25em;background-color: #f0f8ff;}#sk-container-id-2 input.sk-toggleable__control:checked~div.sk-toggleable__content {max-height: 200px;max-width: 100%;overflow: auto;}#sk-container-id-2 input.sk-toggleable__control:checked~label.sk-toggleable__label-arrow:before {content: \"▾\";}#sk-container-id-2 div.sk-estimator input.sk-toggleable__control:checked~label.sk-toggleable__label {background-color: #d4ebff;}#sk-container-id-2 div.sk-label input.sk-toggleable__control:checked~label.sk-toggleable__label {background-color: #d4ebff;}#sk-container-id-2 input.sk-hidden--visually {border: 0;clip: rect(1px 1px 1px 1px);clip: rect(1px, 1px, 1px, 1px);height: 1px;margin: -1px;overflow: hidden;padding: 0;position: absolute;width: 1px;}#sk-container-id-2 div.sk-estimator {font-family: monospace;background-color: #f0f8ff;border: 1px dotted black;border-radius: 0.25em;box-sizing: border-box;margin-bottom: 0.5em;}#sk-container-id-2 div.sk-estimator:hover {background-color: #d4ebff;}#sk-container-id-2 div.sk-parallel-item::after {content: \"\";width: 100%;border-bottom: 1px solid gray;flex-grow: 1;}#sk-container-id-2 div.sk-label:hover label.sk-toggleable__label {background-color: #d4ebff;}#sk-container-id-2 div.sk-serial::before {content: \"\";position: absolute;border-left: 1px solid gray;box-sizing: border-box;top: 0;bottom: 0;left: 50%;z-index: 0;}#sk-container-id-2 div.sk-serial {display: flex;flex-direction: column;align-items: center;background-color: white;padding-right: 0.2em;padding-left: 0.2em;position: relative;}#sk-container-id-2 div.sk-item {position: relative;z-index: 1;}#sk-container-id-2 div.sk-parallel {display: flex;align-items: stretch;justify-content: center;background-color: white;position: relative;}#sk-container-id-2 div.sk-item::before, #sk-container-id-2 div.sk-parallel-item::before {content: \"\";position: absolute;border-left: 1px solid gray;box-sizing: border-box;top: 0;bottom: 0;left: 50%;z-index: -1;}#sk-container-id-2 div.sk-parallel-item {display: flex;flex-direction: column;z-index: 1;position: relative;background-color: white;}#sk-container-id-2 div.sk-parallel-item:first-child::after {align-self: flex-end;width: 50%;}#sk-container-id-2 div.sk-parallel-item:last-child::after {align-self: flex-start;width: 50%;}#sk-container-id-2 div.sk-parallel-item:only-child::after {width: 0;}#sk-container-id-2 div.sk-dashed-wrapped {border: 1px dashed gray;margin: 0 0.4em 0.5em 0.4em;box-sizing: border-box;padding-bottom: 0.4em;background-color: white;}#sk-container-id-2 div.sk-label label {font-family: monospace;font-weight: bold;display: inline-block;line-height: 1.2em;}#sk-container-id-2 div.sk-label-container {text-align: center;}#sk-container-id-2 div.sk-container {/* jupyter's `normalize.less` sets `[hidden] { display: none; }` but bootstrap.min.css set `[hidden] { display: none !important; }` so we also need the `!important` here to be able to override the default hidden behavior on the sphinx rendered scikit-learn.org. See: https://github.com/scikit-learn/scikit-learn/issues/21755 */display: inline-block !important;position: relative;}#sk-container-id-2 div.sk-text-repr-fallback {display: none;}</style><div id=\"sk-container-id-2\" class=\"sk-top-container\"><div class=\"sk-text-repr-fallback\"><pre>KMeans(n_clusters=3)</pre><b>In a Jupyter environment, please rerun this cell to show the HTML representation or trust the notebook. <br />On GitHub, the HTML representation is unable to render, please try loading this page with nbviewer.org.</b></div><div class=\"sk-container\" hidden><div class=\"sk-item\"><div class=\"sk-estimator sk-toggleable\"><input class=\"sk-toggleable__control sk-hidden--visually\" id=\"sk-estimator-id-2\" type=\"checkbox\" checked><label for=\"sk-estimator-id-2\" class=\"sk-toggleable__label sk-toggleable__label-arrow\">KMeans</label><div class=\"sk-toggleable__content\"><pre>KMeans(n_clusters=3)</pre></div></div></div></div></div>"
      ],
      "text/plain": [
       "KMeans(n_clusters=3)"
      ]
     },
     "execution_count": 88,
     "metadata": {},
     "output_type": "execute_result"
    }
   ],
   "source": [
    "clustering = sk.cluster.KMeans(n_clusters=3, max_iter = 300) #Crea el modelo\n",
    "clustering.fit(dataset3_norm) #Aplica el modelo a la base de datos"
   ]
  },
  {
   "cell_type": "markdown",
   "metadata": {},
   "source": [
    "Agrego la clasificación al archivo original:"
   ]
  },
  {
   "cell_type": "code",
   "execution_count": 89,
   "metadata": {},
   "outputs": [
    {
     "name": "stdout",
     "output_type": "stream",
     "text": [
      "      SL   SW   PL   PW           Class  KMeans_Clusters\n",
      "0    5.1  3.5  1.4  0.2     Iris-setosa                1\n",
      "1    4.9  3.0  1.4  0.2     Iris-setosa                1\n",
      "2    4.7  3.2  1.3  0.2     Iris-setosa                1\n",
      "3    4.6  3.1  1.5  0.2     Iris-setosa                1\n",
      "4    5.0  3.6  1.4  0.2     Iris-setosa                1\n",
      "..   ...  ...  ...  ...             ...              ...\n",
      "145  6.7  3.0  5.2  2.3  Iris-virginica                2\n",
      "146  6.3  2.5  5.0  1.9  Iris-virginica                0\n",
      "147  6.5  3.0  5.2  2.0  Iris-virginica                2\n",
      "148  6.2  3.4  5.4  2.3  Iris-virginica                2\n",
      "149  5.9  3.0  5.1  1.8  Iris-virginica                0\n",
      "\n",
      "[150 rows x 6 columns]\n"
     ]
    }
   ],
   "source": [
    "dataset3['KMeans_Clusters'] = clustering.labels_ #Los resultados del clustering se guardan en labels_ dentro del modelo\n",
    "print(dataset3)"
   ]
  },
  {
   "cell_type": "markdown",
   "metadata": {},
   "source": [
    "#### Clusters formados:\n",
    "(Aplicaremos el análisis de componentes principales)"
   ]
  },
  {
   "cell_type": "code",
   "execution_count": 90,
   "metadata": {},
   "outputs": [
    {
     "name": "stdout",
     "output_type": "stream",
     "text": [
      "     Componente_1  Componente_2  KMeans_Clusters\n",
      "0       -0.630361      0.111556                1\n",
      "1       -0.623546     -0.100313                1\n",
      "2       -0.669793     -0.047220                1\n",
      "3       -0.654633     -0.098791                1\n",
      "4       -0.648263      0.137558                1\n",
      "..            ...           ...              ...\n",
      "145      0.551755      0.058990                2\n",
      "146      0.406278     -0.172227                0\n",
      "147      0.447293      0.036996                2\n",
      "148      0.489218      0.149121                2\n",
      "149      0.312079     -0.031151                0\n",
      "\n",
      "[150 rows x 3 columns]\n"
     ]
    }
   ],
   "source": [
    "pca = PCA(n_components=2)\n",
    "pca_iris = pca.fit_transform(dataset3_norm)\n",
    "pca_iris_df = pd.DataFrame(data = pca_iris, columns = ['Componente_1','Componente_2'])\n",
    "pca_ir = pd.concat([pca_iris_df, dataset3[['KMeans_Clusters']]], axis=1)\n",
    "\n",
    "print(pca_ir)"
   ]
  },
  {
   "cell_type": "markdown",
   "metadata": {},
   "source": [
    "Creo la gráfica:"
   ]
  },
  {
   "cell_type": "code",
   "execution_count": 91,
   "metadata": {},
   "outputs": [
    {
     "data": {
      "image/png": "[encoded data removed]",
      "text/plain": [
       "<Figure size 600x600 with 1 Axes>"
      ]
     },
     "metadata": {},
     "output_type": "display_data"
    }
   ],
   "source": [
    "fig = plt.figure(figsize=(6,6))\n",
    "\n",
    "ax = fig.add_subplot(1,1,1)\n",
    "ax.set_xlabel('Componente 1', fontsize = 15)\n",
    "ax.set_ylabel('Componente 2', fontsize = 15)\n",
    "ax.set_title('Componentes Principales', fontsize = 20)\n",
    "\n",
    "color_theme = np.array([\"blue\",\"green\",\"orange\"])\n",
    "ax.scatter(x=pca_ir.Componente_1, y=pca_ir.Componente_2, c=color_theme[pca_ir.KMeans_Clusters], s=30)\n",
    "\n",
    "plt.show()"
   ]
  },
  {
   "cell_type": "markdown",
   "metadata": {},
   "source": [
    "### Comparación de nuestros algoritmos y Scikit-learn:"
   ]
  },
  {
   "cell_type": "markdown",
   "metadata": {},
   "source": [
    "Estos eran los errores para pima-indians-diabetes con nuestro algoritmo:"
   ]
  },
  {
   "cell_type": "code",
   "execution_count": 92,
   "metadata": {},
   "outputs": [
    {
     "name": "stdout",
     "output_type": "stream",
     "text": [
      "Para K = 1:\n",
      "Error para pima-indians-diabetes k=1: 34.47%\n",
      "Error para pima-indians-diabetes k=1 normalizado: 13.80%\n",
      "\n",
      "Para K = 3:\n",
      "Error para pima-indians-diabetes k=3: 33.16%\n",
      "Error para pima-indians-diabetes k=3 normalizado: 31.97%\n",
      "\n",
      "Error para K = 5:\n",
      "Error para pima-indians-diabetes k=5: 31.95%\n",
      "Error para pima-indians-diabetes k=5 normalizado: 31.40%\n"
     ]
    }
   ],
   "source": [
    "print('Para K = 1:')\n",
    "print('Error para pima-indians-diabetes k=1: ' + err_diabetes_k1)\n",
    "print('Error para pima-indians-diabetes k=1 normalizado: ' + err_diabetes_k1_norm)\n",
    "print('\\nPara K = 3:')\n",
    "print('Error para pima-indians-diabetes k=3: ' + err_diabetes_k3)\n",
    "print('Error para pima-indians-diabetes k=3 normalizado: ' + err_diabetes_k3_norm)\n",
    "print('\\nError para K = 5:')\n",
    "print('Error para pima-indians-diabetes k=5: ' + err_diabetes_k5)\n",
    "print('Error para pima-indians-diabetes k=5 normalizado: ' + err_diabetes_k5_norm)"
   ]
  },
  {
   "cell_type": "markdown",
   "metadata": {},
   "source": [
    "Error para pima-indians-diabetes con sk:"
   ]
  },
  {
   "cell_type": "code",
   "execution_count": 93,
   "metadata": {},
   "outputs": [
    {
     "name": "stdout",
     "output_type": "stream",
     "text": [
      "Error de KNN de SK en pima-indians-diabetes:  26.62 %\n"
     ]
    }
   ],
   "source": [
    "print('Error de KNN de SK en pima-indians-diabetes: ', f'{error_knn_pima*100:.2f}', '%')"
   ]
  },
  {
   "cell_type": "markdown",
   "metadata": {},
   "source": [
    " - Si comparamos el error mínimo de sk con nuestro error se puede observar una diferencia, de normalmente el 10% con la mejor ejecución, esto quiere decir que aunque nuestro algoritmo si funcione para pima-indians-diabetes no es tan efeciento como podría llegar a ser. Aun así creemos que aunque no sea lo más óptimo posible, si es una eficiencia útil para algunos estudios."
   ]
  },
  {
   "cell_type": "markdown",
   "metadata": {},
   "source": [
    "Estos eran los errores para wdbc con nuestro algoritmo:"
   ]
  },
  {
   "cell_type": "code",
   "execution_count": 94,
   "metadata": {},
   "outputs": [
    {
     "name": "stdout",
     "output_type": "stream",
     "text": [
      "Para K = 1:\n",
      "Error para wdbc k=1: 28.24%\n",
      "Error para wdbc k=1 normalizado: 25.12%\n",
      "\n",
      "Para K = 3:\n",
      "Error para wdbc k=3: 23.16%\n",
      "Error para wdbc k=3 normalizado: 21.02%\n",
      "\n",
      "Error para K = 5:\n",
      "Error para wdbc k=5: 19.73%\n",
      "Error para wdbc k=5 normalizado: 18.26%\n"
     ]
    }
   ],
   "source": [
    "print('Para K = 1:')\n",
    "print('Error para wdbc k=1: ' + err_wdbc_k1)\n",
    "print('Error para wdbc k=1 normalizado: ' + err_wdbc_k1_norm)\n",
    "print('\\nPara K = 3:')\n",
    "print('Error para wdbc k=3: ' + err_wdbc_k3)\n",
    "print('Error para wdbc k=3 normalizado: ' + err_wdbc_k3_norm)\n",
    "print('\\nError para K = 5:')\n",
    "print('Error para wdbc k=5: ' + err_wdbc_k5)\n",
    "print('Error para wdbc k=5 normalizado: ' + err_wdbc_k5_norm)"
   ]
  },
  {
   "cell_type": "markdown",
   "metadata": {},
   "source": [
    "Error para wdbc con sk:"
   ]
  },
  {
   "cell_type": "code",
   "execution_count": 95,
   "metadata": {},
   "outputs": [
    {
     "name": "stdout",
     "output_type": "stream",
     "text": [
      "Error de KNN de SK en wdbc:  2.63 %\n"
     ]
    }
   ],
   "source": [
    "print('Error de KNN de SK en wdbc: ', f'{error_knn_wdbc*100:.2f}', '%')"
   ]
  },
  {
   "cell_type": "markdown",
   "metadata": {},
   "source": [
    "- Al contrario de como ocurre con el caso de pima-indians-diabetes, en wdbc obtenemos resultados muy distintos a los de SK, ya que SK suele obtener un error en torno al 3% y nuestro algoritmo al 20%, este algoritmo si es mucho más eficiente en SK. En algunas ocasiones si se ha alcanzado un resultado parecido, pero al ser pocas no se tendrán en cuenta."
   ]
  },
  {
   "cell_type": "markdown",
   "metadata": {},
   "source": [
    "Estos eran los errores para iris con nuestro algoritmo:"
   ]
  },
  {
   "cell_type": "code",
   "execution_count": 96,
   "metadata": {},
   "outputs": [
    {
     "name": "stdout",
     "output_type": "stream",
     "text": [
      "Para K = 1:\n",
      "Error para iris k=1: 17.27%\n",
      "Error para iris k=1 normalizado: 16.41%\n",
      "\n",
      "Para K = 3:\n",
      "Error para iris k=3: 15.59%\n",
      "Error para iris k=3 normalizado: 14.95%\n",
      "\n",
      "Error para K = 5:\n",
      "Error para iris k=5: 14.30%\n",
      "Error para iris k=5 normalizado: 13.80%\n"
     ]
    }
   ],
   "source": [
    "print('Para K = 1:')\n",
    "print('Error para iris k=1: ' + err_iris_k1)\n",
    "print('Error para iris k=1 normalizado: ' + err_iris_k1_norm)\n",
    "print('\\nPara K = 3:')\n",
    "print('Error para iris k=3: ' + err_iris_k3)\n",
    "print('Error para iris k=3 normalizado: ' + err_iris_k3_norm)\n",
    "print('\\nError para K = 5:')\n",
    "print('Error para iris k=5: ' + err_iris_k5)\n",
    "print('Error para iris k=5 normalizado: ' + err_iris_k5_norm)"
   ]
  },
  {
   "cell_type": "markdown",
   "metadata": {},
   "source": [
    "Error para iris con sk:"
   ]
  },
  {
   "cell_type": "markdown",
   "metadata": {},
   "source": [
    "- El error obtenido con SK, como se puede apreciar en el gráfico creado está normalmente cerca del 1%, asi que nuestra implementación no llega a tal eficiencia pensamos que un 13%, que es el error que solemos obtener sigue siendo una eficiencia aceptable y con la cual se puede trabajar."
   ]
  },
  {
   "cell_type": "markdown",
   "metadata": {},
   "source": [
    "### Conclusión:"
   ]
  },
  {
   "cell_type": "markdown",
   "metadata": {},
   "source": [
    "Aunque no hayamos obtenido una eficiencia la cual compita con SK en cualquier caso y que funcione igual para cualquier dataset, si creemos que hemos llegado a obtener unas eficiencias que son correctas para el trabajo de los datasets proporcionados y que funcionan de manera correcta. En resumen, no obtenemos una eficiencia máxima pero si una con la cual se puede trabajar."
   ]
  }
 ],
 "metadata": {
  "kernelspec": {
   "display_name": "Python 3 (ipykernel)",
   "language": "python",
   "name": "python3"
  },
  "language_info": {
   "codemirror_mode": {
    "name": "ipython",
    "version": 3
   },
   "file_extension": ".py",
   "mimetype": "text/x-python",
   "name": "python",
   "nbconvert_exporter": "python",
   "pygments_lexer": "ipython3",
   "version": "3.9.12"
  },
  "vscode": {
   "interpreter": {
    "hash": "916dbcbb3f70747c44a77c7bcd40155683ae19c65e1c03b4aa3499c5328201f1"
   }
  }
 },
 "nbformat": 4,
 "nbformat_minor": 2
}
