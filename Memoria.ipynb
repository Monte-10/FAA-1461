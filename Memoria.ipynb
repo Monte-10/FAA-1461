{
 "cells": [
  {
   "cell_type": "markdown",
   "metadata": {},
   "source": [
    "# __Fundamentos de Aprendizaje Automático__\n",
    "## Práctica 0: _Tratamiento de datos, particionamiento y diseño preliminar de la aplicación_\n",
    "### Grupo 1461\n",
    "#### Pareja : Rubén Torralba Manso y Alejandro Monterrubio Navarro"
   ]
  },
  {
   "cell_type": "markdown",
   "metadata": {},
   "source": [
    "##### ___Importamos lo necesario:___"
   ]
  },
  {
   "cell_type": "code",
   "execution_count": 21,
   "metadata": {},
   "outputs": [],
   "source": [
    "import pandas as pd\n",
    "import numpy as np\n",
    "import Datos\n",
    "import EstrategiaParticionado\n",
    "from Datos import Datos"
   ]
  },
  {
   "cell_type": "markdown",
   "metadata": {},
   "source": [
    "### Memoria en jupyter para corregir los apartados de esta práctica"
   ]
  },
  {
   "cell_type": "markdown",
   "metadata": {},
   "source": [
    "# __Clase Datos__\n",
    "\n",
    "Se pide crear la clase Datos con los atributos:\n",
    "* __nominalAtributos__: Indican si una columna es nominal.\n",
    "* __datos__: Array en forma de matriz en el que guardamos los datos usando pandas.\n",
    "* __diccionarios__: Diccionario que se ocupa de traducir los datos a números.\n",
    "\n",
    "Definimos los nombres de los archivos a leer:"
   ]
  },
  {
   "cell_type": "code",
   "execution_count": 22,
   "metadata": {},
   "outputs": [],
   "source": [
    "d1 = pd.read_csv(\"ConjuntoDatos/tic-tac-toe.csv\")\n",
    "d2 = pd.read_csv(\"ConjuntoDatos/german.csv\")"
   ]
  },
  {
   "cell_type": "markdown",
   "metadata": {},
   "source": [
    "Cargamos el dataframe 1, es decir, tic-tac-toe.csv (10 primeros datos):"
   ]
  },
  {
   "cell_type": "code",
   "execution_count": 23,
   "metadata": {},
   "outputs": [
    {
     "data": {
      "text/html": [
       "<div>\n",
       "<style scoped>\n",
       "    .dataframe tbody tr th:only-of-type {\n",
       "        vertical-align: middle;\n",
       "    }\n",
       "\n",
       "    .dataframe tbody tr th {\n",
       "        vertical-align: top;\n",
       "    }\n",
       "\n",
       "    .dataframe thead th {\n",
       "        text-align: right;\n",
       "    }\n",
       "</style>\n",
       "<table border=\"1\" class=\"dataframe\">\n",
       "  <thead>\n",
       "    <tr style=\"text-align: right;\">\n",
       "      <th></th>\n",
       "      <th>TLeftSq</th>\n",
       "      <th>TMidSq</th>\n",
       "      <th>TRightSq</th>\n",
       "      <th>MLeftSq</th>\n",
       "      <th>MMidSq</th>\n",
       "      <th>MRightSq</th>\n",
       "      <th>BLeftSq</th>\n",
       "      <th>BMidSq</th>\n",
       "      <th>BRightSq</th>\n",
       "      <th>Class</th>\n",
       "    </tr>\n",
       "  </thead>\n",
       "  <tbody>\n",
       "    <tr>\n",
       "      <th>0</th>\n",
       "      <td>x</td>\n",
       "      <td>x</td>\n",
       "      <td>x</td>\n",
       "      <td>x</td>\n",
       "      <td>o</td>\n",
       "      <td>o</td>\n",
       "      <td>x</td>\n",
       "      <td>o</td>\n",
       "      <td>o</td>\n",
       "      <td>positive</td>\n",
       "    </tr>\n",
       "    <tr>\n",
       "      <th>1</th>\n",
       "      <td>x</td>\n",
       "      <td>x</td>\n",
       "      <td>x</td>\n",
       "      <td>x</td>\n",
       "      <td>o</td>\n",
       "      <td>o</td>\n",
       "      <td>o</td>\n",
       "      <td>x</td>\n",
       "      <td>o</td>\n",
       "      <td>positive</td>\n",
       "    </tr>\n",
       "    <tr>\n",
       "      <th>2</th>\n",
       "      <td>x</td>\n",
       "      <td>x</td>\n",
       "      <td>x</td>\n",
       "      <td>x</td>\n",
       "      <td>o</td>\n",
       "      <td>o</td>\n",
       "      <td>o</td>\n",
       "      <td>o</td>\n",
       "      <td>x</td>\n",
       "      <td>positive</td>\n",
       "    </tr>\n",
       "    <tr>\n",
       "      <th>3</th>\n",
       "      <td>x</td>\n",
       "      <td>x</td>\n",
       "      <td>x</td>\n",
       "      <td>x</td>\n",
       "      <td>o</td>\n",
       "      <td>o</td>\n",
       "      <td>o</td>\n",
       "      <td>b</td>\n",
       "      <td>b</td>\n",
       "      <td>positive</td>\n",
       "    </tr>\n",
       "    <tr>\n",
       "      <th>4</th>\n",
       "      <td>x</td>\n",
       "      <td>x</td>\n",
       "      <td>x</td>\n",
       "      <td>x</td>\n",
       "      <td>o</td>\n",
       "      <td>o</td>\n",
       "      <td>b</td>\n",
       "      <td>o</td>\n",
       "      <td>b</td>\n",
       "      <td>positive</td>\n",
       "    </tr>\n",
       "    <tr>\n",
       "      <th>5</th>\n",
       "      <td>x</td>\n",
       "      <td>x</td>\n",
       "      <td>x</td>\n",
       "      <td>x</td>\n",
       "      <td>o</td>\n",
       "      <td>o</td>\n",
       "      <td>b</td>\n",
       "      <td>b</td>\n",
       "      <td>o</td>\n",
       "      <td>positive</td>\n",
       "    </tr>\n",
       "    <tr>\n",
       "      <th>6</th>\n",
       "      <td>x</td>\n",
       "      <td>x</td>\n",
       "      <td>x</td>\n",
       "      <td>x</td>\n",
       "      <td>o</td>\n",
       "      <td>b</td>\n",
       "      <td>o</td>\n",
       "      <td>o</td>\n",
       "      <td>b</td>\n",
       "      <td>positive</td>\n",
       "    </tr>\n",
       "    <tr>\n",
       "      <th>7</th>\n",
       "      <td>x</td>\n",
       "      <td>x</td>\n",
       "      <td>x</td>\n",
       "      <td>x</td>\n",
       "      <td>o</td>\n",
       "      <td>b</td>\n",
       "      <td>o</td>\n",
       "      <td>b</td>\n",
       "      <td>o</td>\n",
       "      <td>positive</td>\n",
       "    </tr>\n",
       "    <tr>\n",
       "      <th>8</th>\n",
       "      <td>x</td>\n",
       "      <td>x</td>\n",
       "      <td>x</td>\n",
       "      <td>x</td>\n",
       "      <td>o</td>\n",
       "      <td>b</td>\n",
       "      <td>b</td>\n",
       "      <td>o</td>\n",
       "      <td>o</td>\n",
       "      <td>positive</td>\n",
       "    </tr>\n",
       "    <tr>\n",
       "      <th>9</th>\n",
       "      <td>x</td>\n",
       "      <td>x</td>\n",
       "      <td>x</td>\n",
       "      <td>x</td>\n",
       "      <td>b</td>\n",
       "      <td>o</td>\n",
       "      <td>o</td>\n",
       "      <td>o</td>\n",
       "      <td>b</td>\n",
       "      <td>positive</td>\n",
       "    </tr>\n",
       "  </tbody>\n",
       "</table>\n",
       "</div>"
      ],
      "text/plain": [
       "  TLeftSq TMidSq TRightSq MLeftSq MMidSq MRightSq BLeftSq BMidSq BRightSq  \\\n",
       "0       x      x        x       x      o        o       x      o        o   \n",
       "1       x      x        x       x      o        o       o      x        o   \n",
       "2       x      x        x       x      o        o       o      o        x   \n",
       "3       x      x        x       x      o        o       o      b        b   \n",
       "4       x      x        x       x      o        o       b      o        b   \n",
       "5       x      x        x       x      o        o       b      b        o   \n",
       "6       x      x        x       x      o        b       o      o        b   \n",
       "7       x      x        x       x      o        b       o      b        o   \n",
       "8       x      x        x       x      o        b       b      o        o   \n",
       "9       x      x        x       x      b        o       o      o        b   \n",
       "\n",
       "      Class  \n",
       "0  positive  \n",
       "1  positive  \n",
       "2  positive  \n",
       "3  positive  \n",
       "4  positive  \n",
       "5  positive  \n",
       "6  positive  \n",
       "7  positive  \n",
       "8  positive  \n",
       "9  positive  "
      ]
     },
     "execution_count": 23,
     "metadata": {},
     "output_type": "execute_result"
    }
   ],
   "source": [
    "d1.head(10)"
   ]
  },
  {
   "cell_type": "markdown",
   "metadata": {},
   "source": [
    "Cargamos el dataframe 2, es decir, german.csv (10 primeros datos):"
   ]
  },
  {
   "cell_type": "code",
   "execution_count": 24,
   "metadata": {},
   "outputs": [
    {
     "data": {
      "text/html": [
       "<div>\n",
       "<style scoped>\n",
       "    .dataframe tbody tr th:only-of-type {\n",
       "        vertical-align: middle;\n",
       "    }\n",
       "\n",
       "    .dataframe tbody tr th {\n",
       "        vertical-align: top;\n",
       "    }\n",
       "\n",
       "    .dataframe thead th {\n",
       "        text-align: right;\n",
       "    }\n",
       "</style>\n",
       "<table border=\"1\" class=\"dataframe\">\n",
       "  <thead>\n",
       "    <tr style=\"text-align: right;\">\n",
       "      <th></th>\n",
       "      <th>Atr1</th>\n",
       "      <th>Atr2</th>\n",
       "      <th>Atr3</th>\n",
       "      <th>Atr4</th>\n",
       "      <th>Atr5</th>\n",
       "      <th>Atr6</th>\n",
       "      <th>Atr7</th>\n",
       "      <th>Atr8</th>\n",
       "      <th>Atr9</th>\n",
       "      <th>Atr10</th>\n",
       "      <th>...</th>\n",
       "      <th>Atr12</th>\n",
       "      <th>Atr13</th>\n",
       "      <th>Atr14</th>\n",
       "      <th>Atr15</th>\n",
       "      <th>Atr16</th>\n",
       "      <th>Atr17</th>\n",
       "      <th>Atr18</th>\n",
       "      <th>Atr19</th>\n",
       "      <th>Atr20</th>\n",
       "      <th>Class</th>\n",
       "    </tr>\n",
       "  </thead>\n",
       "  <tbody>\n",
       "    <tr>\n",
       "      <th>0</th>\n",
       "      <td>A11</td>\n",
       "      <td>6</td>\n",
       "      <td>A34</td>\n",
       "      <td>A43</td>\n",
       "      <td>1169</td>\n",
       "      <td>A65</td>\n",
       "      <td>A75</td>\n",
       "      <td>4</td>\n",
       "      <td>A93</td>\n",
       "      <td>A101</td>\n",
       "      <td>...</td>\n",
       "      <td>A121</td>\n",
       "      <td>67</td>\n",
       "      <td>A143</td>\n",
       "      <td>A152</td>\n",
       "      <td>2</td>\n",
       "      <td>A173</td>\n",
       "      <td>1</td>\n",
       "      <td>A192</td>\n",
       "      <td>A201</td>\n",
       "      <td>1</td>\n",
       "    </tr>\n",
       "    <tr>\n",
       "      <th>1</th>\n",
       "      <td>A12</td>\n",
       "      <td>48</td>\n",
       "      <td>A32</td>\n",
       "      <td>A43</td>\n",
       "      <td>5951</td>\n",
       "      <td>A61</td>\n",
       "      <td>A73</td>\n",
       "      <td>2</td>\n",
       "      <td>A92</td>\n",
       "      <td>A101</td>\n",
       "      <td>...</td>\n",
       "      <td>A121</td>\n",
       "      <td>22</td>\n",
       "      <td>A143</td>\n",
       "      <td>A152</td>\n",
       "      <td>1</td>\n",
       "      <td>A173</td>\n",
       "      <td>1</td>\n",
       "      <td>A191</td>\n",
       "      <td>A201</td>\n",
       "      <td>2</td>\n",
       "    </tr>\n",
       "    <tr>\n",
       "      <th>2</th>\n",
       "      <td>A14</td>\n",
       "      <td>12</td>\n",
       "      <td>A34</td>\n",
       "      <td>A46</td>\n",
       "      <td>2096</td>\n",
       "      <td>A61</td>\n",
       "      <td>A74</td>\n",
       "      <td>2</td>\n",
       "      <td>A93</td>\n",
       "      <td>A101</td>\n",
       "      <td>...</td>\n",
       "      <td>A121</td>\n",
       "      <td>49</td>\n",
       "      <td>A143</td>\n",
       "      <td>A152</td>\n",
       "      <td>1</td>\n",
       "      <td>A172</td>\n",
       "      <td>2</td>\n",
       "      <td>A191</td>\n",
       "      <td>A201</td>\n",
       "      <td>1</td>\n",
       "    </tr>\n",
       "    <tr>\n",
       "      <th>3</th>\n",
       "      <td>A11</td>\n",
       "      <td>42</td>\n",
       "      <td>A32</td>\n",
       "      <td>A42</td>\n",
       "      <td>7882</td>\n",
       "      <td>A61</td>\n",
       "      <td>A74</td>\n",
       "      <td>2</td>\n",
       "      <td>A93</td>\n",
       "      <td>A103</td>\n",
       "      <td>...</td>\n",
       "      <td>A122</td>\n",
       "      <td>45</td>\n",
       "      <td>A143</td>\n",
       "      <td>A153</td>\n",
       "      <td>1</td>\n",
       "      <td>A173</td>\n",
       "      <td>2</td>\n",
       "      <td>A191</td>\n",
       "      <td>A201</td>\n",
       "      <td>1</td>\n",
       "    </tr>\n",
       "    <tr>\n",
       "      <th>4</th>\n",
       "      <td>A11</td>\n",
       "      <td>24</td>\n",
       "      <td>A33</td>\n",
       "      <td>A40</td>\n",
       "      <td>4870</td>\n",
       "      <td>A61</td>\n",
       "      <td>A73</td>\n",
       "      <td>3</td>\n",
       "      <td>A93</td>\n",
       "      <td>A101</td>\n",
       "      <td>...</td>\n",
       "      <td>A124</td>\n",
       "      <td>53</td>\n",
       "      <td>A143</td>\n",
       "      <td>A153</td>\n",
       "      <td>2</td>\n",
       "      <td>A173</td>\n",
       "      <td>2</td>\n",
       "      <td>A191</td>\n",
       "      <td>A201</td>\n",
       "      <td>2</td>\n",
       "    </tr>\n",
       "    <tr>\n",
       "      <th>5</th>\n",
       "      <td>A14</td>\n",
       "      <td>36</td>\n",
       "      <td>A32</td>\n",
       "      <td>A46</td>\n",
       "      <td>9055</td>\n",
       "      <td>A65</td>\n",
       "      <td>A73</td>\n",
       "      <td>2</td>\n",
       "      <td>A93</td>\n",
       "      <td>A101</td>\n",
       "      <td>...</td>\n",
       "      <td>A124</td>\n",
       "      <td>35</td>\n",
       "      <td>A143</td>\n",
       "      <td>A153</td>\n",
       "      <td>1</td>\n",
       "      <td>A172</td>\n",
       "      <td>2</td>\n",
       "      <td>A192</td>\n",
       "      <td>A201</td>\n",
       "      <td>1</td>\n",
       "    </tr>\n",
       "    <tr>\n",
       "      <th>6</th>\n",
       "      <td>A14</td>\n",
       "      <td>24</td>\n",
       "      <td>A32</td>\n",
       "      <td>A42</td>\n",
       "      <td>2835</td>\n",
       "      <td>A63</td>\n",
       "      <td>A75</td>\n",
       "      <td>3</td>\n",
       "      <td>A93</td>\n",
       "      <td>A101</td>\n",
       "      <td>...</td>\n",
       "      <td>A122</td>\n",
       "      <td>53</td>\n",
       "      <td>A143</td>\n",
       "      <td>A152</td>\n",
       "      <td>1</td>\n",
       "      <td>A173</td>\n",
       "      <td>1</td>\n",
       "      <td>A191</td>\n",
       "      <td>A201</td>\n",
       "      <td>1</td>\n",
       "    </tr>\n",
       "    <tr>\n",
       "      <th>7</th>\n",
       "      <td>A12</td>\n",
       "      <td>36</td>\n",
       "      <td>A32</td>\n",
       "      <td>A41</td>\n",
       "      <td>6948</td>\n",
       "      <td>A61</td>\n",
       "      <td>A73</td>\n",
       "      <td>2</td>\n",
       "      <td>A93</td>\n",
       "      <td>A101</td>\n",
       "      <td>...</td>\n",
       "      <td>A123</td>\n",
       "      <td>35</td>\n",
       "      <td>A143</td>\n",
       "      <td>A151</td>\n",
       "      <td>1</td>\n",
       "      <td>A174</td>\n",
       "      <td>1</td>\n",
       "      <td>A192</td>\n",
       "      <td>A201</td>\n",
       "      <td>1</td>\n",
       "    </tr>\n",
       "    <tr>\n",
       "      <th>8</th>\n",
       "      <td>A14</td>\n",
       "      <td>12</td>\n",
       "      <td>A32</td>\n",
       "      <td>A43</td>\n",
       "      <td>3059</td>\n",
       "      <td>A64</td>\n",
       "      <td>A74</td>\n",
       "      <td>2</td>\n",
       "      <td>A91</td>\n",
       "      <td>A101</td>\n",
       "      <td>...</td>\n",
       "      <td>A121</td>\n",
       "      <td>61</td>\n",
       "      <td>A143</td>\n",
       "      <td>A152</td>\n",
       "      <td>1</td>\n",
       "      <td>A172</td>\n",
       "      <td>1</td>\n",
       "      <td>A191</td>\n",
       "      <td>A201</td>\n",
       "      <td>1</td>\n",
       "    </tr>\n",
       "    <tr>\n",
       "      <th>9</th>\n",
       "      <td>A12</td>\n",
       "      <td>30</td>\n",
       "      <td>A34</td>\n",
       "      <td>A40</td>\n",
       "      <td>5234</td>\n",
       "      <td>A61</td>\n",
       "      <td>A71</td>\n",
       "      <td>4</td>\n",
       "      <td>A94</td>\n",
       "      <td>A101</td>\n",
       "      <td>...</td>\n",
       "      <td>A123</td>\n",
       "      <td>28</td>\n",
       "      <td>A143</td>\n",
       "      <td>A152</td>\n",
       "      <td>2</td>\n",
       "      <td>A174</td>\n",
       "      <td>1</td>\n",
       "      <td>A191</td>\n",
       "      <td>A201</td>\n",
       "      <td>2</td>\n",
       "    </tr>\n",
       "  </tbody>\n",
       "</table>\n",
       "<p>10 rows × 21 columns</p>\n",
       "</div>"
      ],
      "text/plain": [
       "  Atr1  Atr2 Atr3 Atr4  Atr5 Atr6 Atr7  Atr8 Atr9 Atr10  ...  Atr12 Atr13  \\\n",
       "0  A11     6  A34  A43  1169  A65  A75     4  A93  A101  ...   A121    67   \n",
       "1  A12    48  A32  A43  5951  A61  A73     2  A92  A101  ...   A121    22   \n",
       "2  A14    12  A34  A46  2096  A61  A74     2  A93  A101  ...   A121    49   \n",
       "3  A11    42  A32  A42  7882  A61  A74     2  A93  A103  ...   A122    45   \n",
       "4  A11    24  A33  A40  4870  A61  A73     3  A93  A101  ...   A124    53   \n",
       "5  A14    36  A32  A46  9055  A65  A73     2  A93  A101  ...   A124    35   \n",
       "6  A14    24  A32  A42  2835  A63  A75     3  A93  A101  ...   A122    53   \n",
       "7  A12    36  A32  A41  6948  A61  A73     2  A93  A101  ...   A123    35   \n",
       "8  A14    12  A32  A43  3059  A64  A74     2  A91  A101  ...   A121    61   \n",
       "9  A12    30  A34  A40  5234  A61  A71     4  A94  A101  ...   A123    28   \n",
       "\n",
       "   Atr14 Atr15 Atr16  Atr17 Atr18  Atr19 Atr20 Class  \n",
       "0   A143  A152     2   A173     1   A192  A201     1  \n",
       "1   A143  A152     1   A173     1   A191  A201     2  \n",
       "2   A143  A152     1   A172     2   A191  A201     1  \n",
       "3   A143  A153     1   A173     2   A191  A201     1  \n",
       "4   A143  A153     2   A173     2   A191  A201     2  \n",
       "5   A143  A153     1   A172     2   A192  A201     1  \n",
       "6   A143  A152     1   A173     1   A191  A201     1  \n",
       "7   A143  A151     1   A174     1   A192  A201     1  \n",
       "8   A143  A152     1   A172     1   A191  A201     1  \n",
       "9   A143  A152     2   A174     1   A191  A201     2  \n",
       "\n",
       "[10 rows x 21 columns]"
      ]
     },
     "execution_count": 24,
     "metadata": {},
     "output_type": "execute_result"
    }
   ],
   "source": [
    "d2.head(10)"
   ]
  },
  {
   "cell_type": "markdown",
   "metadata": {},
   "source": [
    "Creo los dataset con los atributos:"
   ]
  },
  {
   "cell_type": "code",
   "execution_count": 25,
   "metadata": {},
   "outputs": [],
   "source": [
    "ds1 = Datos(\"ConjuntoDatos/tic-tac-toe.csv\")\n",
    "ds2 = Datos(\"ConjuntoDatos/german.csv\")"
   ]
  },
  {
   "cell_type": "markdown",
   "metadata": {},
   "source": [
    "# __Atributo: nominalAtributos__\n",
    "\n",
    "Para obtener la lista, se utiliza nominalAtributos. El cual recibe vakires de los argumentos y los clasifica como true o false.\n",
    "\n",
    "Prueba con tic-tac-toe:"
   ]
  },
  {
   "cell_type": "code",
   "execution_count": 26,
   "metadata": {},
   "outputs": [
    {
     "name": "stdout",
     "output_type": "stream",
     "text": [
      "Imprime el dataset de tic-tac-toe\n"
     ]
    },
    {
     "data": {
      "text/plain": [
       "[]"
      ]
     },
     "execution_count": 26,
     "metadata": {},
     "output_type": "execute_result"
    }
   ],
   "source": [
    "print(\"Imprime el dataset de tic-tac-toe\")\n",
    "ds1.nominalAtributos"
   ]
  },
  {
   "cell_type": "markdown",
   "metadata": {},
   "source": [
    "Prueba con german:"
   ]
  },
  {
   "cell_type": "code",
   "execution_count": 27,
   "metadata": {},
   "outputs": [
    {
     "name": "stdout",
     "output_type": "stream",
     "text": [
      "Imprime el dataset de german\n"
     ]
    },
    {
     "data": {
      "text/plain": [
       "[]"
      ]
     },
     "execution_count": 27,
     "metadata": {},
     "output_type": "execute_result"
    }
   ],
   "source": [
    "print(\"Imprime el dataset de german\")\n",
    "ds2.nominalAtributos"
   ]
  },
  {
   "cell_type": "markdown",
   "metadata": {},
   "source": [
    "# __Atributo: datos__\n",
    "\n",
    "Se para cargar la matriz a partir del dataframe\n",
    "\n",
    "Prueba con tic-tac-toe:"
   ]
  },
  {
   "cell_type": "code",
   "execution_count": 28,
   "metadata": {},
   "outputs": [
    {
     "name": "stdout",
     "output_type": "stream",
     "text": [
      "Imprime el dataset de tic-tac-toe\n"
     ]
    },
    {
     "ename": "AttributeError",
     "evalue": "'Datos' object has no attribute 'datos'",
     "output_type": "error",
     "traceback": [
      "\u001b[0;31m---------------------------------------------------------------------------\u001b[0m",
      "\u001b[0;31mAttributeError\u001b[0m                            Traceback (most recent call last)",
      "Cell \u001b[0;32mIn [28], line 2\u001b[0m\n\u001b[1;32m      1\u001b[0m \u001b[38;5;28mprint\u001b[39m(\u001b[38;5;124m\"\u001b[39m\u001b[38;5;124mImprime el dataset de tic-tac-toe\u001b[39m\u001b[38;5;124m\"\u001b[39m)\n\u001b[0;32m----> 2\u001b[0m ds1\u001b[38;5;241m.\u001b[39mdatos\n",
      "\u001b[0;31mAttributeError\u001b[0m: 'Datos' object has no attribute 'datos'"
     ]
    }
   ],
   "source": [
    "print(\"Imprime el dataset de tic-tac-toe\")\n",
    "ds1.datos"
   ]
  },
  {
   "cell_type": "markdown",
   "metadata": {},
   "source": [
    "Prueba con german:"
   ]
  },
  {
   "cell_type": "code",
   "execution_count": 29,
   "metadata": {},
   "outputs": [
    {
     "name": "stdout",
     "output_type": "stream",
     "text": [
      "Imprime el dataset de german\n"
     ]
    },
    {
     "ename": "AttributeError",
     "evalue": "'Datos' object has no attribute 'datos'",
     "output_type": "error",
     "traceback": [
      "\u001b[0;31m---------------------------------------------------------------------------\u001b[0m",
      "\u001b[0;31mAttributeError\u001b[0m                            Traceback (most recent call last)",
      "Cell \u001b[0;32mIn [29], line 2\u001b[0m\n\u001b[1;32m      1\u001b[0m \u001b[38;5;28mprint\u001b[39m(\u001b[38;5;124m\"\u001b[39m\u001b[38;5;124mImprime el dataset de german\u001b[39m\u001b[38;5;124m\"\u001b[39m)\n\u001b[0;32m----> 2\u001b[0m ds2\u001b[38;5;241m.\u001b[39mdatos\n",
      "\u001b[0;31mAttributeError\u001b[0m: 'Datos' object has no attribute 'datos'"
     ]
    }
   ],
   "source": [
    "print(\"Imprime el dataset de german\")\n",
    "ds2.datos"
   ]
  },
  {
   "cell_type": "markdown",
   "metadata": {},
   "source": [
    "# __Atributo: diccionario__\n",
    "\n",
    "Aquí se utiliza el método getDict para obtener el diccionario.\n",
    "\n",
    "Prueba con tic-tac-toe:"
   ]
  },
  {
   "cell_type": "code",
   "execution_count": 30,
   "metadata": {},
   "outputs": [
    {
     "name": "stdout",
     "output_type": "stream",
     "text": [
      "Imprime el dataset de tic-tac-toe\n"
     ]
    },
    {
     "ename": "AttributeError",
     "evalue": "'Datos' object has no attribute 'diccionario'",
     "output_type": "error",
     "traceback": [
      "\u001b[0;31m---------------------------------------------------------------------------\u001b[0m",
      "\u001b[0;31mAttributeError\u001b[0m                            Traceback (most recent call last)",
      "Cell \u001b[0;32mIn [30], line 2\u001b[0m\n\u001b[1;32m      1\u001b[0m \u001b[38;5;28mprint\u001b[39m(\u001b[38;5;124m\"\u001b[39m\u001b[38;5;124mImprime el dataset de tic-tac-toe\u001b[39m\u001b[38;5;124m\"\u001b[39m)\n\u001b[0;32m----> 2\u001b[0m ds1\u001b[38;5;241m.\u001b[39mdiccionario[\u001b[38;5;124m'\u001b[39m\u001b[38;5;124mTLeftSq\u001b[39m\u001b[38;5;124m'\u001b[39m]\n",
      "\u001b[0;31mAttributeError\u001b[0m: 'Datos' object has no attribute 'diccionario'"
     ]
    }
   ],
   "source": [
    "print(\"Imprime el dataset de tic-tac-toe\")\n",
    "ds1.diccionario['TLeftSq']"
   ]
  },
  {
   "cell_type": "markdown",
   "metadata": {},
   "source": [
    "Prueba con german:"
   ]
  },
  {
   "cell_type": "code",
   "execution_count": 31,
   "metadata": {},
   "outputs": [
    {
     "name": "stdout",
     "output_type": "stream",
     "text": [
      "Imprime el dataset de german:\n"
     ]
    },
    {
     "ename": "AttributeError",
     "evalue": "'Datos' object has no attribute 'diccionario'",
     "output_type": "error",
     "traceback": [
      "\u001b[0;31m---------------------------------------------------------------------------\u001b[0m",
      "\u001b[0;31mAttributeError\u001b[0m                            Traceback (most recent call last)",
      "Cell \u001b[0;32mIn [31], line 2\u001b[0m\n\u001b[1;32m      1\u001b[0m \u001b[38;5;28mprint\u001b[39m(\u001b[38;5;124m\"\u001b[39m\u001b[38;5;124mImprime el dataset de german:\u001b[39m\u001b[38;5;124m\"\u001b[39m)\n\u001b[0;32m----> 2\u001b[0m ds2\u001b[38;5;241m.\u001b[39mdiccionario[\u001b[38;5;124m'\u001b[39m\u001b[38;5;124mAtr1\u001b[39m\u001b[38;5;124m'\u001b[39m]\n",
      "\u001b[0;31mAttributeError\u001b[0m: 'Datos' object has no attribute 'diccionario'"
     ]
    }
   ],
   "source": [
    "print(\"Imprime el dataset de german:\")\n",
    "ds2.diccionario['Atr1']"
   ]
  },
  {
   "cell_type": "markdown",
   "metadata": {},
   "source": [
    "# __Particionamiento: Tratamiento de datos__\n",
    "\n",
    "Tenemos que completar una clase abstracta que tiene una estrategia de particionado, y con esta tenemos que crear dos clases más que son estrategias de particionado más definidas (Validacion Simple y Validación Cruzada). Para completar Estrategia Particionado solo hace falta completar el constructor."
   ]
  },
  {
   "cell_type": "markdown",
   "metadata": {},
   "source": [
    "## __Validación simple__\n",
    "\n",
    "Tiene un funcionamiento muy básico, parte la tabla en 2 partes, una la utiliza para el Test y la otra va para el Train. La clase recibe dos arguemntos, el primero es pTest que representa el porcentaje que va para el test y el otro es nEjec, que representa el número de ejecuciones que se van a realizar. También creo que método creaParticiones que calcula longitud del test y datos y con ella crea una lista con los valores de los índices de los datos.\n",
    "\n",
    "Prueba de ValidacionSimple y creaParticiones:"
   ]
  },
  {
   "cell_type": "code",
   "execution_count": 33,
   "metadata": {},
   "outputs": [
    {
     "name": "stdout",
     "output_type": "stream",
     "text": [
      "\n",
      "\n",
      "\n",
      "***Test***: [2, 7, 0] \n",
      "\n",
      "***Train***: [3, 9, 4, 1, 6, 5, 8] \n",
      "\n",
      "\n",
      "\n",
      "\n",
      "***Test***: [2, 9, 5] \n",
      "\n",
      "***Train***: [1, 4, 0, 3, 7, 6, 8] \n",
      "\n",
      "\n",
      "\n",
      "\n",
      "***Test***: [2, 9, 5] \n",
      "\n",
      "***Train***: [1, 7, 0, 6, 8, 4, 3] \n",
      "\n"
     ]
    }
   ],
   "source": [
    "import numpy as np\n",
    "import EstrategiaParticionado\n",
    "\n",
    "datos = np.random.random((10, 2))\n",
    "\n",
    "# Asignamos el 30% al test\n",
    "vc = EstrategiaParticionado.ValidacionSimple(30, 3)\n",
    "vc.creaParticiones(datos)\n",
    "\n",
    "for i in range(3):\n",
    "    print(\"\\n\\n\")\n",
    "    print(\"***Test***:\", vc.particiones[i].indicesTest, \"\\n\")\n",
    "    print(\"***Train***:\", vc.particiones[i].indicesTrain, \"\\n\")"
   ]
  },
  {
   "cell_type": "markdown",
   "metadata": {},
   "source": [
    "Prueba ValidaciónSimple con tic-tac-toe:"
   ]
  },
  {
   "cell_type": "code",
   "execution_count": 34,
   "metadata": {},
   "outputs": [
    {
     "ename": "AttributeError",
     "evalue": "'Datos' object has no attribute 'datos'",
     "output_type": "error",
     "traceback": [
      "\u001b[0;31m---------------------------------------------------------------------------\u001b[0m",
      "\u001b[0;31mAttributeError\u001b[0m                            Traceback (most recent call last)",
      "Cell \u001b[0;32mIn [34], line 5\u001b[0m\n\u001b[1;32m      2\u001b[0m \u001b[38;5;28;01mimport\u001b[39;00m \u001b[38;5;21;01mEstrategiaParticionado\u001b[39;00m\n\u001b[1;32m      4\u001b[0m vc \u001b[38;5;241m=\u001b[39m EstrategiaParticionado\u001b[38;5;241m.\u001b[39mValidacionSimple(\u001b[38;5;241m10\u001b[39m, \u001b[38;5;241m5\u001b[39m) \n\u001b[0;32m----> 5\u001b[0m vc\u001b[38;5;241m.\u001b[39mcreaParticiones(ds1\u001b[38;5;241m.\u001b[39mdatos)\n\u001b[1;32m      7\u001b[0m \u001b[38;5;28;01mfor\u001b[39;00m i \u001b[38;5;129;01min\u001b[39;00m \u001b[38;5;28mrange\u001b[39m(\u001b[38;5;241m5\u001b[39m):\n\u001b[1;32m      8\u001b[0m     \u001b[38;5;28mprint\u001b[39m(\u001b[38;5;124m\"\u001b[39m\u001b[38;5;130;01m\\n\u001b[39;00m\u001b[38;5;130;01m\\n\u001b[39;00m\u001b[38;5;124m\"\u001b[39m)\n",
      "\u001b[0;31mAttributeError\u001b[0m: 'Datos' object has no attribute 'datos'"
     ]
    }
   ],
   "source": [
    "import numpy as np\n",
    "import EstrategiaParticionado\n",
    "\n",
    "vc = EstrategiaParticionado.ValidacionSimple(10, 5) \n",
    "vc.creaParticiones(ds1.datos)\n",
    "\n",
    "for i in range(5):\n",
    "    print(\"\\n\\n\")\n",
    "    print(\"***Test***:\", vc.particiones[i].indicesTest, \"\\n\")\n",
    "    print(\"***Train***:\", vc.particiones[i].indicesTrain, \"\\n\")"
   ]
  },
  {
   "cell_type": "markdown",
   "metadata": {},
   "source": [
    "## __Validación Cruzada__\n",
    "\n",
    "Aquí se dividen los datos en un X número de ella, se utilizan las X partes para el Test y el resto para Train. Los argumentos son el X número de partes en las que se dividen los datos. Para el método creaParticiones ahora se añade la lista y se van comparando en bucle las porciones con los elementos (Dibujo de enunciado de la práctica).\n",
    "\n",
    "Prueba ValidaciónCruzada y creaParticiones:"
   ]
  },
  {
   "cell_type": "code",
   "execution_count": 36,
   "metadata": {},
   "outputs": [
    {
     "name": "stdout",
     "output_type": "stream",
     "text": [
      "\n",
      "\n",
      "\n",
      "***Test***: [1, 2] \n",
      "\n",
      "***Train***: [5, 7, 3, 4, 0, 6] \n",
      "\n",
      "\n",
      "\n",
      "\n",
      "***Test***: [5, 7] \n",
      "\n",
      "***Train***: [1, 2, 3, 4, 0, 6] \n",
      "\n",
      "\n",
      "\n",
      "\n",
      "***Test***: [3, 4] \n",
      "\n",
      "***Train***: [1, 2, 5, 7, 0, 6] \n",
      "\n",
      "\n",
      "\n",
      "\n",
      "***Test***: [0, 6] \n",
      "\n",
      "***Train***: [1, 2, 5, 7, 3, 4] \n",
      "\n"
     ]
    }
   ],
   "source": [
    "import numpy as np\n",
    "import EstrategiaParticionado\n",
    "\n",
    "datos = np.random.random((8, 2)) \n",
    "\n",
    "vc = EstrategiaParticionado.ValidacionCruzada(4)\n",
    "vc.creaParticiones(datos)\n",
    "      \n",
    "for i in range(4):\n",
    "    print(\"\\n\\n\")\n",
    "    print(\"***Test***:\", vc.particiones[i].indicesTest, \"\\n\")\n",
    "    print(\"***Train***:\", vc.particiones[i].indicesTrain, \"\\n\")"
   ]
  },
  {
   "cell_type": "markdown",
   "metadata": {},
   "source": [
    "Prueba con tic-tac-toe:"
   ]
  },
  {
   "cell_type": "code",
   "execution_count": 37,
   "metadata": {},
   "outputs": [
    {
     "ename": "AttributeError",
     "evalue": "'Datos' object has no attribute 'datos'",
     "output_type": "error",
     "traceback": [
      "\u001b[0;31m---------------------------------------------------------------------------\u001b[0m",
      "\u001b[0;31mAttributeError\u001b[0m                            Traceback (most recent call last)",
      "Cell \u001b[0;32mIn [37], line 5\u001b[0m\n\u001b[1;32m      2\u001b[0m \u001b[38;5;28;01mimport\u001b[39;00m \u001b[38;5;21;01mEstrategiaParticionado\u001b[39;00m\n\u001b[1;32m      4\u001b[0m vc \u001b[38;5;241m=\u001b[39m EstrategiaParticionado\u001b[38;5;241m.\u001b[39mValidacionCruzada(\u001b[38;5;241m10\u001b[39m) \n\u001b[0;32m----> 5\u001b[0m vc\u001b[38;5;241m.\u001b[39mcreaParticiones(ds1\u001b[38;5;241m.\u001b[39mdatos)\n\u001b[1;32m      7\u001b[0m \u001b[38;5;28;01mfor\u001b[39;00m i \u001b[38;5;129;01min\u001b[39;00m \u001b[38;5;28mrange\u001b[39m(\u001b[38;5;241m10\u001b[39m):\n\u001b[1;32m      8\u001b[0m     \u001b[38;5;28mprint\u001b[39m(\u001b[38;5;124m\"\u001b[39m\u001b[38;5;130;01m\\n\u001b[39;00m\u001b[38;5;130;01m\\n\u001b[39;00m\u001b[38;5;124m\"\u001b[39m)\n",
      "\u001b[0;31mAttributeError\u001b[0m: 'Datos' object has no attribute 'datos'"
     ]
    }
   ],
   "source": [
    "import numpy as np\n",
    "import EstrategiaParticionado\n",
    "\n",
    "vc = EstrategiaParticionado.ValidacionCruzada(10) \n",
    "vc.creaParticiones(ds1.datos)\n",
    "\n",
    "for i in range(10):\n",
    "    print(\"\\n\\n\")\n",
    "    print(\"***Test***:\", vc.particiones[i].indicesTest, \"\\n\")\n",
    "    print(\"***Train***:\", vc.particiones[i].indicesTrain, \"\\n\")"
   ]
  },
  {
   "cell_type": "markdown",
   "metadata": {},
   "source": [
    "# __Diseño Básico de la Aplicación__\n",
    "\n",
    "## __Método: error__\n",
    "\n",
    "Este método sirve para entrenar el módelo y comprobar el error que se produce, su funcionamiento es que comprueba si la predicción del modelo enviada por los argumentos coincide o no comparando con el elemento de la fila de los datos dados."
   ]
  }
 ],
 "metadata": {
  "kernelspec": {
   "display_name": "Python 3.10.6 64-bit",
   "language": "python",
   "name": "python3"
  },
  "language_info": {
   "codemirror_mode": {
    "name": "ipython",
    "version": 3
   },
   "file_extension": ".py",
   "mimetype": "text/x-python",
   "name": "python",
   "nbconvert_exporter": "python",
   "pygments_lexer": "ipython3",
   "version": "3.10.6"
  },
  "orig_nbformat": 4,
  "vscode": {
   "interpreter": {
    "hash": "916dbcbb3f70747c44a77c7bcd40155683ae19c65e1c03b4aa3499c5328201f1"
   }
  }
 },
 "nbformat": 4,
 "nbformat_minor": 2
}
