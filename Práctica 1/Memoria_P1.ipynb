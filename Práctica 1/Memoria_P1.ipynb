{
 "cells": [
  {
   "cell_type": "markdown",
   "id": "f0304b87",
   "metadata": {},
   "source": [
    "# Fundamentos de Aprendizaje Automático\n",
    "## _Práctica 1: Naive Bayes_\n",
    "### _Grupo 1461_\n",
    "#### _Rubén Torralba Manso y Alejandro Monterrubio Navarro_"
   ]
  },
  {
   "cell_type": "markdown",
   "id": "cf8fd1e6",
   "metadata": {},
   "source": [
    "## Apartado 1: Naive Bayes propio"
   ]
  },
  {
   "cell_type": "code",
   "execution_count": 216,
   "id": "1a26d8ad",
   "metadata": {},
   "outputs": [],
   "source": [
    "from Datos import Datos\n",
    "from Clasificador import *\n",
    "import EstrategiaParticionado as EstrategiaParticionado\n",
    "datasetGerman = Datos('ConjuntoDatos/german.csv')\n",
    "datasetTicTac = Datos('ConjuntoDatos/tic-tac-toe.csv')"
   ]
  },
  {
   "cell_type": "code",
   "execution_count": 217,
   "id": "dee5d3dc",
   "metadata": {},
   "outputs": [],
   "source": [
    "validacionSimple = EstrategiaParticionado.ValidacionSimple(30,5)"
   ]
  },
  {
   "cell_type": "code",
   "execution_count": 218,
   "id": "38699544",
   "metadata": {},
   "outputs": [],
   "source": [
    "validacionCruzada = EstrategiaParticionado.ValidacionCruzada(4)"
   ]
  },
  {
   "cell_type": "code",
   "execution_count": 219,
   "id": "bd740ac9",
   "metadata": {},
   "outputs": [],
   "source": [
    "clasificadorNB = ClasificadorNaiveBayes()"
   ]
  },
  {
   "cell_type": "markdown",
   "id": "2dbc36a3",
   "metadata": {},
   "source": [
    "En estos primeros bloques de codigo unicamente hemos cargado todos los datos que nos harán falta para realizar el estudio posterior. Para la estrategia de particionado simple reservamos un 70% de los datos para train y por lo tanto un 30% para test y realizamos 5 iteraciones. Mientras tanto, para la particion cruzada realizamos 4 particiones sobre los datos"
   ]
  },
  {
   "cell_type": "markdown",
   "id": "fc6e1f9c",
   "metadata": {},
   "source": [
    "Para realizar un estudio fiable de los datos, y tratar de que estos sean lo más robustos y fiables posible, vamos a realizar cada medición un número determinado de veces:"
   ]
  },
  {
   "cell_type": "code",
   "execution_count": 220,
   "id": "1b104d61",
   "metadata": {},
   "outputs": [],
   "source": [
    "numeroVeces = 20"
   ]
  },
  {
   "cell_type": "code",
   "execution_count": 221,
   "id": "e3165603",
   "metadata": {},
   "outputs": [],
   "source": [
    "erroresTabla = []\n",
    "\n",
    "desviacionesTabla = []\n",
    "\n"
   ]
  },
  {
   "cell_type": "markdown",
   "id": "55a4fb51",
   "metadata": {},
   "source": [
    "## DATASET TIC TAC TOE\n"
   ]
  },
  {
   "cell_type": "code",
   "execution_count": 222,
   "id": "49799f99",
   "metadata": {},
   "outputs": [
    {
     "name": "stdout",
     "output_type": "stream",
     "text": [
      "0.47264808362369337\n",
      "0.14809438887956328\n"
     ]
    }
   ],
   "source": [
    "error = []\n",
    "for i in range(numeroVeces):\n",
    "    error += clasificadorNB.validacion(validacionSimple, datasetTicTac, clasificadorNB)\n",
    "erroresTabla.append(np.mean(error))\n",
    "desviacionesTabla.append(np.std(error))\n",
    "\n",
    "print(statistics.mean(error))\n",
    "print(statistics.stdev(error))"
   ]
  },
  {
   "cell_type": "markdown",
   "id": "e9aba69c",
   "metadata": {},
   "source": [
    "_Validacion Simple sin corrección de la place_"
   ]
  },
  {
   "cell_type": "code",
   "execution_count": 223,
   "id": "b559b524",
   "metadata": {},
   "outputs": [],
   "source": [
    "error = []\n",
    "for i in range(numeroVeces):\n",
    "    error += clasificadorNB.validacion(validacionSimple, datasetTicTac, clasificadorNB, laPlace = True)\n",
    "erroresTabla.append(np.mean(error))\n",
    "desviacionesTabla.append(np.std(error))"
   ]
  },
  {
   "cell_type": "markdown",
   "id": "d7be9791",
   "metadata": {},
   "source": [
    "_Validacion Simple con corrección de la place_"
   ]
  },
  {
   "cell_type": "code",
   "execution_count": 224,
   "id": "c38b656b",
   "metadata": {},
   "outputs": [],
   "source": [
    "error = []\n",
    "for i in range(numeroVeces):\n",
    "    error += clasificadorNB.validacion(validacionCruzada, datasetTicTac, clasificadorNB, laPlace = True)\n",
    "erroresTabla.append(np.mean(error))\n",
    "desviacionesTabla.append(np.std(error))"
   ]
  },
  {
   "cell_type": "markdown",
   "id": "f8b53dfa",
   "metadata": {},
   "source": [
    "_Validacion Cruzada sin correcion de la place_"
   ]
  },
  {
   "cell_type": "code",
   "execution_count": 225,
   "id": "4ab57fa4",
   "metadata": {},
   "outputs": [],
   "source": [
    "error = []\n",
    "for i in range(numeroVeces):\n",
    "    error += clasificadorNB.validacion(validacionCruzada, datasetTicTac, clasificadorNB, laPlace = True)\n",
    "erroresTabla.append(np.mean(error))\n",
    "desviacionesTabla.append(np.std(error))"
   ]
  },
  {
   "cell_type": "markdown",
   "id": "2b1b1116",
   "metadata": {},
   "source": [
    "_Validacion Cruzada con correcion de la place_"
   ]
  },
  {
   "cell_type": "code",
   "execution_count": 226,
   "id": "69330ca1",
   "metadata": {},
   "outputs": [
    {
     "name": "stdout",
     "output_type": "stream",
     "text": [
      "------Validacion Simple------\n",
      "\n",
      "\t\t\tSin laPlace\tCon laPlace\n",
      "Errores\t\t\t47.26%\t\t52.08%\n",
      "Desviacion tipica\t14.74%\t\t12.86%\n",
      "\n",
      "------Validacion Cruzada------\n",
      "\t\t\tSin laPlace\tCon laPlace\n",
      "Errores\t\t\t43.61%\t\t49.12%\n",
      "Desviacion tipica\t14.85%\t\t14.17%\n"
     ]
    }
   ],
   "source": [
    "print(\"------Validacion Simple------\\n\")\n",
    "print(f\"\\t\\t\\tSin laPlace\\tCon laPlace\")\n",
    "print(f\"Errores\\t\\t\\t{erroresTabla[0]*100:.2f}%\\t\\t{erroresTabla[1]*100:.2f}%\")\n",
    "print(f\"Desviacion tipica\\t{desviacionesTabla[0]*100:.2f}%\\t\\t{desviacionesTabla[1]*100:.2f}%\")\n",
    "\n",
    "print(\"\\n------Validacion Cruzada------\")\n",
    "print(f\"\\t\\t\\tSin laPlace\\tCon laPlace\")\n",
    "print(f\"Errores\\t\\t\\t{erroresTabla[2]*100:.2f}%\\t\\t{erroresTabla[3]*100:.2f}%\")\n",
    "print(f\"Desviacion tipica\\t{desviacionesTabla[2]*100:.2f}%\\t\\t{desviacionesTabla[3]*100:.2f}%\")"
   ]
  },
  {
   "cell_type": "markdown",
   "id": "4a99f192",
   "metadata": {},
   "source": [
    "Podemos apreciar que laPlace en cierta medida añade un pequeño porcentaje de error a nuestro clasificador. Pero es mínimo en comparación a la repercusión que podría suponer el tener una probabilidad que fuera 0. Esto anularía por completo nuestro predictor. De esta forma, observamos las dos posibilidades de las que disponemos y podemos valorar visualmente cual es el coste"
   ]
  },
  {
   "cell_type": "markdown",
   "id": "cd564865",
   "metadata": {},
   "source": [
    "## DATASET GERMAN\n"
   ]
  },
  {
   "cell_type": "code",
   "execution_count": 227,
   "id": "702e35cc",
   "metadata": {},
   "outputs": [],
   "source": [
    "erroresTabla = []\n",
    "\n",
    "desviacionesTabla = []"
   ]
  },
  {
   "cell_type": "code",
   "execution_count": 228,
   "id": "02c0b2a2",
   "metadata": {},
   "outputs": [],
   "source": [
    "error = []\n",
    "for i in range(numeroVeces):\n",
    "    error += clasificadorNB.validacion(validacionSimple, datasetTicTac, clasificadorNB)\n",
    "erroresTabla.append(np.mean(error))\n",
    "desviacionesTabla.append(np.std(error))"
   ]
  },
  {
   "cell_type": "markdown",
   "id": "19200dae",
   "metadata": {},
   "source": [
    "_Validacion Simple sin corrección de la place_"
   ]
  },
  {
   "cell_type": "code",
   "execution_count": 229,
   "id": "0de7bdec",
   "metadata": {},
   "outputs": [],
   "source": [
    "error = []\n",
    "for i in range(numeroVeces):\n",
    "    error += clasificadorNB.validacion(validacionSimple, datasetTicTac, clasificadorNB, laPlace = True)\n",
    "erroresTabla.append(np.mean(error))\n",
    "desviacionesTabla.append(np.std(error))"
   ]
  },
  {
   "cell_type": "markdown",
   "id": "97e5e635",
   "metadata": {},
   "source": [
    "_Validacion Simple con corrección de la place_"
   ]
  },
  {
   "cell_type": "code",
   "execution_count": 230,
   "id": "0028007a",
   "metadata": {},
   "outputs": [],
   "source": [
    "error = []\n",
    "for i in range(numeroVeces):\n",
    "    error += clasificadorNB.validacion(validacionCruzada, datasetTicTac, clasificadorNB, laPlace = True)\n",
    "erroresTabla.append(np.mean(error))\n",
    "desviacionesTabla.append(np.std(error))"
   ]
  },
  {
   "cell_type": "markdown",
   "id": "cfbe4a77",
   "metadata": {},
   "source": [
    "_Validacion Cruzada sin correcion de la place_"
   ]
  },
  {
   "cell_type": "code",
   "execution_count": 231,
   "id": "57aa536e",
   "metadata": {},
   "outputs": [],
   "source": [
    "error = []\n",
    "for i in range(numeroVeces):\n",
    "    error += clasificadorNB.validacion(validacionCruzada, datasetTicTac, clasificadorNB, laPlace = True)\n",
    "erroresTabla.append(np.mean(error))\n",
    "desviacionesTabla.append(np.std(error))"
   ]
  },
  {
   "cell_type": "markdown",
   "id": "e4d08a1b",
   "metadata": {},
   "source": [
    "_Validacion Cruzada con correcion de la place_"
   ]
  },
  {
   "cell_type": "code",
   "execution_count": 232,
   "id": "46467bef",
   "metadata": {},
   "outputs": [
    {
     "name": "stdout",
     "output_type": "stream",
     "text": [
      "------Validacion Simple------\n",
      "\n",
      "\t\t\tSin laPlace\tCon laPlace\n",
      "Errores\t\t\t48.07%\t\t47.39%\n",
      "Desviacion tipica\t14.46%\t\t14.73%\n",
      "\n",
      "------Validacion Cruzada------\n",
      "\t\t\tSin laPlace\tCon laPlace\n",
      "Errores\t\t\t54.05%\t\t48.90%\n",
      "Desviacion tipica\t11.60%\t\t14.24%\n"
     ]
    }
   ],
   "source": [
    "print(\"------Validacion Simple------\\n\")\n",
    "print(f\"\\t\\t\\tSin laPlace\\tCon laPlace\")\n",
    "print(f\"Errores\\t\\t\\t{erroresTabla[0]*100:.2f}%\\t\\t{erroresTabla[1]*100:.2f}%\")\n",
    "print(f\"Desviacion tipica\\t{desviacionesTabla[0]*100:.2f}%\\t\\t{desviacionesTabla[1]*100:.2f}%\")\n",
    "\n",
    "print(\"\\n------Validacion Cruzada------\")\n",
    "print(f\"\\t\\t\\tSin laPlace\\tCon laPlace\")\n",
    "print(f\"Errores\\t\\t\\t{erroresTabla[2]*100:.2f}%\\t\\t{erroresTabla[3]*100:.2f}%\")\n",
    "print(f\"Desviacion tipica\\t{desviacionesTabla[2]*100:.2f}%\\t\\t{desviacionesTabla[3]*100:.2f}%\")"
   ]
  },
  {
   "cell_type": "markdown",
   "id": "65c88aea",
   "metadata": {},
   "source": [
    "De la misma forma que en el caso anterior, observamos que laPlace añade un cierto error extra, que de no haber sido entrenado con esta correción, nuestro validador restaría. Ahora bien, como hemos comentado antes, en el caso de encontrar una probabilidad en nuestra matriz que sea 0, el entrenamiento quedaría invalidado. "
   ]
  },
  {
   "cell_type": "markdown",
   "id": "7ac2a770",
   "metadata": {},
   "source": [
    "#### Discusión de los resultados"
   ]
  },
  {
   "cell_type": "markdown",
   "id": "a373432f",
   "metadata": {},
   "source": [
    "Despues de realizar todas las ejecuciones, podemos llegar a una conclusión evidente. Nuestros datos difieren mucho unas ejecuciones de otras en funcion del conjunto de entrenamiento que nuestro algoritmo de particionado extraiga para el entrenamiento. Por ello, encontramos una desviación estandar tan elevada. Esto quiere decir, que en algunas ejecuciones, obtenemos una muy buena predicción, pero en otras, peores. No es muy estable. Lo que puede ser un indicativo que contiene algun defecto nuestro algoritmo. Como esto no tiene porque ser el motivo, trabajaremos sobre los valores que hemos extraído y realizaremos el resto del documento basándonos en ellos.\n",
    "\n",
    "Como el conjunto de datos no es extremadamente grande, también puede estar viéndose lastrado por este motivo. Por lo que sería recomendable realizar un número elevado de ejecuciones para poder obtener una media más fiable. "
   ]
  },
  {
   "cell_type": "markdown",
   "id": "ea25d24e",
   "metadata": {},
   "source": [
    "## Apartado 2: Librería Scitik-Learn"
   ]
  },
  {
   "cell_type": "markdown",
   "id": "01f29865",
   "metadata": {},
   "source": [
    "De la misma forma que en el apartado anterior, vamos a realizar un estudio independiente para ambos dataset, con distintos tipos de validadores y con corrección de laPlace y sin ella. En este caso además, vamos a aprovechar distintas formas de implementar el algoritmo que nos facilita la libreria"
   ]
  },
  {
   "cell_type": "markdown",
   "id": "838a4710",
   "metadata": {},
   "source": [
    "## Dataset Tic Tac Toe "
   ]
  },
  {
   "cell_type": "code",
   "execution_count": 233,
   "id": "4bd7ec21",
   "metadata": {},
   "outputs": [],
   "source": [
    "from sklearn.model_selection import train_test_split, ShuffleSplit\n",
    "from sklearn.model_selection import cross_val_score\n",
    "from sklearn.naive_bayes import GaussianNB, MultinomialNB, CategoricalNB\n",
    "from sklearn import preprocessing\n",
    "import math\n",
    "\n",
    "x = datasetTicTac.datos.iloc[:,:-1]\n",
    "y = datasetTicTac.datos.iloc[:,-1]\n",
    "\n"
   ]
  },
  {
   "cell_type": "code",
   "execution_count": 234,
   "id": "e38fa04c",
   "metadata": {},
   "outputs": [
    {
     "data": {
      "text/plain": [
       "27.604166666666668"
      ]
     },
     "execution_count": 234,
     "metadata": {},
     "output_type": "execute_result"
    }
   ],
   "source": [
    "\n",
    "\n",
    "X_train, X_test, y_train, y_test = train_test_split(x, y, test_size=0.4, random_state=0)\n",
    "gnb = GaussianNB()\n",
    "y_pred = gnb.fit(X_train,y_train).predict(X_test)\n",
    "porcentaje = (y_test != y_pred).sum() / X_test.shape[0] * 100\n",
    "errores_gaussian = porcentaje\n",
    "errores_gaussian"
   ]
  },
  {
   "cell_type": "markdown",
   "id": "873ddf33",
   "metadata": {},
   "source": [
    "_Validacion Simple Gaussian_"
   ]
  },
  {
   "cell_type": "code",
   "execution_count": 235,
   "id": "a8eaec85",
   "metadata": {},
   "outputs": [
    {
     "data": {
      "text/plain": [
       "42.071565550906556"
      ]
     },
     "execution_count": 235,
     "metadata": {},
     "output_type": "execute_result"
    }
   ],
   "source": [
    "\n",
    "\n",
    "gnb = GaussianNB()\n",
    "errores_gaussian_cruzada = (1-np.mean(cross_val_score(gnb, x, y, cv=4)))*100\n",
    "errores_gaussian_cruzada"
   ]
  },
  {
   "cell_type": "markdown",
   "id": "ae996ace",
   "metadata": {},
   "source": [
    "_Validacion Cruzada Gaussian_"
   ]
  },
  {
   "cell_type": "code",
   "execution_count": 236,
   "id": "f37f6ee8",
   "metadata": {},
   "outputs": [],
   "source": [
    "errores_multinomial = []\n",
    "gnb = MultinomialNB()\n",
    "y_pred = gnb.fit(X_train,y_train).predict(X_test)\n",
    "porcentaje = (y_test != y_pred).sum() / X_test.shape[0] * 100\n",
    "errores_multinomial = porcentaje\n"
   ]
  },
  {
   "cell_type": "code",
   "execution_count": null,
   "id": "2b8a3f65",
   "metadata": {},
   "outputs": [],
   "source": []
  },
  {
   "cell_type": "code",
   "execution_count": 242,
   "id": "1c96c7b0",
   "metadata": {},
   "outputs": [],
   "source": [
    "errores_multinomial_cruzada = []\n",
    "clf = MultinomialNB(alpha=1.0*math.e**10,fit_prior= True)\n",
    "errores_multinomial_cruzada = (1- np.mean(cross_val_score(clf, x, y, cv=3))) * 100\n"
   ]
  },
  {
   "cell_type": "markdown",
   "id": "e7ee6591",
   "metadata": {},
   "source": [
    "\n"
   ]
  },
  {
   "cell_type": "code",
   "execution_count": 243,
   "id": "f5639db7",
   "metadata": {},
   "outputs": [],
   "source": [
    "errores_categorical = []\n",
    "gnb = CategoricalNB()\n",
    "y_pred = gnb.fit(X_train,y_train).predict(X_test)\n",
    "porcentaje = (y_test != y_pred).sum() / X_test.shape[0] * 100\n",
    "errores_categorical = porcentaje\n"
   ]
  },
  {
   "cell_type": "code",
   "execution_count": null,
   "id": "7e86c7cb",
   "metadata": {},
   "outputs": [],
   "source": []
  },
  {
   "cell_type": "code",
   "execution_count": 244,
   "id": "36516aed",
   "metadata": {},
   "outputs": [],
   "source": [
    "errores_categorical_cruzada = []\n",
    "clf = CategoricalNB()\n",
    "errores_categorical_cruzada = (1 - np.mean(cross_val_score(clf, x, y, cv=3))) * 100\n"
   ]
  },
  {
   "cell_type": "code",
   "execution_count": null,
   "id": "d98c4739",
   "metadata": {},
   "outputs": [],
   "source": []
  },
  {
   "cell_type": "code",
   "execution_count": 241,
   "id": "7f213154",
   "metadata": {},
   "outputs": [
    {
     "name": "stdout",
     "output_type": "stream",
     "text": [
      "Validacion Simple\n",
      "\t\tGaussian\tMultinomial\tCategorical\n",
      "Errores:\t27.60%\t\t34.11%\t\t29.95%\n",
      "\n",
      "Validacion Cruzada\n",
      "\t\tGaussian\tMultinomial\tCategorical\n",
      "Errores:\t42.07%\t\t34.66%\t\t33.30%\n"
     ]
    }
   ],
   "source": [
    "print(\"Validacion Simple\")\n",
    "print(\"\\t\\tGaussian\\tMultinomial\\tCategorical\")\n",
    "print(f'Errores:\\t{errores_gaussian:.2f}%\\t\\t{errores_multinomial:.2f}%\\t\\t{errores_categorical:.2f}%')\n",
    "\n",
    "\n",
    "print('\\nValidacion Cruzada')\n",
    "print(\"\\t\\tGaussian\\tMultinomial\\tCategorical\")\n",
    "print(f'Errores:\\t{errores_gaussian_cruzada:.2f}%\\t\\t{errores_multinomial_cruzada:.2f}%\\t\\t{errores_categorical_cruzada:.2f}%')\n"
   ]
  },
  {
   "cell_type": "code",
   "execution_count": null,
   "id": "3744dcc5",
   "metadata": {},
   "outputs": [],
   "source": []
  },
  {
   "cell_type": "markdown",
   "id": "30d86153",
   "metadata": {},
   "source": [
    "#### Haciendo uso de OneHotEncode..."
   ]
  },
  {
   "cell_type": "markdown",
   "id": "b5439228",
   "metadata": {},
   "source": [
    "## Apartado 3: Discusion entre implementaciones"
   ]
  },
  {
   "cell_type": "markdown",
   "id": "6b3d8b5c",
   "metadata": {},
   "source": [
    "Ante los resultados obtenidos, está visto que no hay discusión sobre el rendimiento y la funcionalidad entre nuestra implementacion y la que nos proporciona la librería. Respecto a la comparativa de los resultados, apreciamos que..."
   ]
  }
 ],
 "metadata": {
  "kernelspec": {
   "display_name": "Python 3.10.6 64-bit",
   "language": "python",
   "name": "python3"
  },
  "language_info": {
   "codemirror_mode": {
    "name": "ipython",
    "version": 3
   },
   "file_extension": ".py",
   "mimetype": "text/x-python",
   "name": "python",
   "nbconvert_exporter": "python",
   "pygments_lexer": "ipython3",
   "version": "3.10.6"
  },
  "vscode": {
   "interpreter": {
    "hash": "916dbcbb3f70747c44a77c7bcd40155683ae19c65e1c03b4aa3499c5328201f1"
   }
  }
 },
 "nbformat": 4,
 "nbformat_minor": 5
}
